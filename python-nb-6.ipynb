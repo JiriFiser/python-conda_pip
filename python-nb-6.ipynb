{
 "cells": [
  {
   "cell_type": "markdown",
   "metadata": {},
   "source": [
    "# Objektově orientované programování"
   ]
  },
  {
   "cell_type": "markdown",
   "metadata": {},
   "source": [
    "Python je jak již bylo řečeno multiparadigmatický programovací jazyk tj. podporuje více různých stylů programování. Přesto však jen jedno z těchto tzv. paradigmat ovlivňuje Python na všech úrovních programování — objektově orientované paradigma (OOP).\n",
    "\n",
    "Ve světě tohoto paradigmatu existují tzv. objekty, které mají svou jedinečnou identitu, mění své stavy, vznikají a zanikají. Především však spolu komunikají prostřednictvím volání metod ze svých rozhraní (rozhraní je množina metod, které objekty nabízejí ostatním objektům).\n",
    "\n",
    "Objekty se navíc seskupují do tříd. Třída obsahuje objekty se stejným rozhraním, tj. objekty, které se při komunikaci chovají podobně (resp. stejně, pokud mají identický vnitřní stav).\n",
    "\n",
    "S objekty a třídami jsme se již setkali. Čísla jsou v Pythonu velmi jednoduché objekty, které jako své rozhraní nabízejí běžné aritmetické operace. Základními číselnými třídami jsou třídy `int` (representace celých čísel) a `float` (representace racionálních čísel pomocí tzv. pohyblivé řádové čárky). Mezi jednoduché objekty patří i objekty třídy `bool` (jsou jen dva `True` a `False`).\n",
    "\n",
    "O něco složitější jsou objekty třídy `string` označované jako řetězce. Ty nabízejí ve svém rozhraní větší počet metod. S číselnými objekty však sdílejí dvě podstatné a vzájemně provázané vlastnosti: jsou neměnné a a z vnějšího pohledu existuje vždy jen jeden objekt se stejným stavem (např. z vnějšího pohledu existuje jen jeden objekt čísla 2). I když interně může existovat více kopií stejného objektu, jsou tyto objekty nerozlišitelné.\n",
    "\n",
    "To již neplatí pro seznamy a mnohé další složitější objekty. Ty svůj stav v průběhu svého života mění, a jejich identita je nezávislá na jejich obsahu."
   ]
  },
  {
   "cell_type": "code",
   "execution_count": 1,
   "metadata": {
    "collapsed": true
   },
   "outputs": [],
   "source": [
    "a = [1]\n",
    "b = [1]"
   ]
  },
  {
   "cell_type": "markdown",
   "metadata": {},
   "source": [
    "Proměnné `a` a `b` označují dva různé objekty, které mají stejný stav (u seznamů je stav určem jejich obsahem). Že tomu tak skutečně je poznáme, tím, že jeden objekt změnéme například přidáním prvku:"
   ]
  },
  {
   "cell_type": "code",
   "execution_count": 2,
   "metadata": {},
   "outputs": [
    {
     "name": "stdout",
     "output_type": "stream",
     "text": [
      "[1, 2]\n",
      "[1]\n"
     ]
    }
   ],
   "source": [
    "a.append(2)\n",
    "print(a) # objekt odkazovaný proměnnou `a` se změnil\n",
    "print(b) # objekt odkazovaný proměnnou `b` zůstal nezměněný (tj. oba objekty se liší už i obsahem)"
   ]
  },
  {
   "cell_type": "markdown",
   "metadata": {},
   "source": [
    "Mezi další proměnné individuální objekty, které již známe patří objekty planet z modulu `ephem` nebo objekty representující shodu regulárního výrazu s řetězcem (tzv. `match` objekty).\n",
    "\n",
    "Naši paletu tříd si ještě rozšíříme o třídy ze dvou klíčových modulů. Začneme standardní representací časových a kalendářních údajů v Pythonu."
   ]
  },
  {
   "cell_type": "markdown",
   "metadata": {},
   "source": [
    "## Representace časových údajů\n",
    "\n",
    "I když se to na první pohled nezdá, je representace časových údajů jednou z nejkomplikovanějších problémů tvůrců standardních knihoven. Důvodem je relativně komplikovaný kalendářní systém a ještě komplikovanejší systém časových pásem s jejich stálými posuny a šílenými pravidly pro jejich každoroční posuny (tzv. letní čas). Proti tomu jsou problémy dané vkládáním přestupné sekundy jen detail (může to však značně zkomplikovat program očekávající milisekundovou přesnost).\n",
    "\n",
    "Ve skutečnosti se ukazuje, že žádná univerzálně použitelná representace času neexistuje. Proto i ve standardní knihovně Pythonu jich existuje několik, a mnohé další přidávají knihovny třetích stran (jako např. *pyephem*).\n",
    "\n",
    "Základní a všeobecně podporovanou representaci nabízí standardní modul `datetime`. Tato implementace se zaměřuje na podporu representace času v moderní době a  moderním gregoriánském kalendáři (tj. cca po první světové válce) s přesností na úrovni minut či desítek vteřin. Hodí se tak pro běžné historické a průběžné databázové záznamy (datumy narození, časy prodejů apod.) a ekonomickou statistiku. Nepodporuje však správně časová pásma. Nezohledňuje totiž posuny časů v různých místech jako je změna pásmového času (v některých zemích se to děje i několikrát v desetiletí) a především letní čas. \n",
    "\n",
    "Jednodušší rozhraní nabízí knihovna pro ty aplikace, které se nemusí starat o časová pásma a využití letního času.\n",
    "\n",
    "### Representace kalendářních údajů"
   ]
  },
  {
   "cell_type": "code",
   "execution_count": 4,
   "metadata": {},
   "outputs": [
    {
     "name": "stdout",
     "output_type": "stream",
     "text": [
      "2018-08-02\n",
      "1989\n"
     ]
    }
   ],
   "source": [
    "import datetime\n",
    "\n",
    "dnes = datetime.date.today()  # dnešek jako kalendářní den\n",
    "den_d = datetime.date(1989, 11, 17)  # vytvoření kalendářního dne z roku, měsíce a dne\n",
    "\n",
    "print(dnes)  # vypsání v univerzálním textovém formátu\n",
    "print(den_d.year) # vypsání atributu (rok)\n"
   ]
  },
  {
   "cell_type": "markdown",
   "metadata": {},
   "source": [
    "Objekty jsou nejčastěji vytvářeny tzv. konstruktory. Konstruktor je funkce, která má stejné jméno jako třída (v našem případě vytváříme třídy `datetime.date` tj. voláme konstruktor `datetime.date`). \n",
    "\n",
    "Nové objekty však často vznikají pomocí tzv. třídních metod. Tyto metody se nevolají nad objekty, ale nad třídami. Příkladem třídní metody je metoda `today`, která se volá nad třídou `datetime.date` (třída je ve volání uvedena vlevo od tečky, za níž následuje jméno metody). Bohužel vše je trochu matoucí, neboť Python používá tečku k několika různým účelům:\n",
    "\n",
    "1) oddělení **jména modulu** od jména funkce nebo proměnné, pokud přistupujeme k funkci/proměnné z importovaného modulu"
   ]
  },
  {
   "cell_type": "code",
   "execution_count": 7,
   "metadata": {},
   "outputs": [
    {
     "data": {
      "text/plain": [
       "datetime.date(2000, 1, 1)"
      ]
     },
     "execution_count": 7,
     "metadata": {},
     "output_type": "execute_result"
    }
   ],
   "source": [
    "datetime.date(2000,1,1) # volání funkce (konstruktoru) z modulu `datetime`"
   ]
  },
  {
   "cell_type": "code",
   "execution_count": 8,
   "metadata": {},
   "outputs": [
    {
     "data": {
      "text/plain": [
       "3.141592653589793"
      ]
     },
     "execution_count": 8,
     "metadata": {},
     "output_type": "execute_result"
    }
   ],
   "source": [
    "import math\n",
    "\n",
    "math.pi # proměnná umístěná v modulu `math`"
   ]
  },
  {
   "cell_type": "markdown",
   "metadata": {},
   "source": [
    "2A) oddělení **objektu (adresáta)** a jména metody  (metoda je volána nad objektem)"
   ]
  },
  {
   "cell_type": "code",
   "execution_count": 11,
   "metadata": {},
   "outputs": [
    {
     "data": {
      "text/plain": [
       "'resr'"
      ]
     },
     "execution_count": 11,
     "metadata": {},
     "output_type": "execute_result"
    }
   ],
   "source": [
    "\"test\".replace(\"t\", \"r\") # metoda je volána nad objektem \"test\""
   ]
  },
  {
   "cell_type": "code",
   "execution_count": 12,
   "metadata": {
    "collapsed": true
   },
   "outputs": [],
   "source": [
    "x = [1]\n",
    "x.clear() # metoda je volána nad objektem označeným proměnnou `x`"
   ]
  },
  {
   "cell_type": "markdown",
   "metadata": {},
   "source": [
    "2B) oddělení **objektu** a jeho atributu (vlastnosti)\n",
    "\n",
    "Atribut si lze představit viditelnou vlastnost objektu. Vlastnost je buď součástí vnitřního stavu nebo ji lze z vnitřního stavu jednoznačně odvodit. Na rozdíl od volání metody nenásledují za atributem závorky se seznamem parametrů."
   ]
  },
  {
   "cell_type": "code",
   "execution_count": 28,
   "metadata": {},
   "outputs": [
    {
     "data": {
      "text/plain": [
       "'Gondor'"
      ]
     },
     "execution_count": 28,
     "metadata": {},
     "output_type": "execute_result"
    }
   ],
   "source": [
    "import re\n",
    "\n",
    "match = re.fullmatch(\"[A-z][a-z]*\", \"Gondor\") # test shody řetězce s regulárním výrazem\n",
    "match.string  # atributu objektu representujícího výsledek testu (hodnotou je testovaný řetězec) "
   ]
  },
  {
   "cell_type": "markdown",
   "metadata": {},
   "source": [
    "3A) oddělení **jména třídy**  a jména metody při volání třídních metod"
   ]
  },
  {
   "cell_type": "code",
   "execution_count": 16,
   "metadata": {},
   "outputs": [
    {
     "data": {
      "text/plain": [
       "6"
      ]
     },
     "execution_count": 16,
     "metadata": {},
     "output_type": "execute_result"
    }
   ],
   "source": [
    "int.bit_length(42) # volání metody `bit_length` nad třídou `int`"
   ]
  },
  {
   "cell_type": "markdown",
   "metadata": {},
   "source": [
    "Poznámka: Metoda `bit_length` vrací počet bitů nutných pro representaci čísla, které je předáno jako parametr."
   ]
  },
  {
   "cell_type": "code",
   "execution_count": 18,
   "metadata": {},
   "outputs": [
    {
     "data": {
      "text/plain": [
       "True"
      ]
     },
     "execution_count": 18,
     "metadata": {},
     "output_type": "execute_result"
    }
   ],
   "source": [
    "float.is_integer(2.0)"
   ]
  },
  {
   "cell_type": "markdown",
   "metadata": {},
   "source": [
    "Metoda `is_integer` je volána na třídu `float`. Vrací `True`, pokud je parametr metody celé číslo (o když representované jako `float`, pro čísla třídy `int` je tento test bezpředmětný)."
   ]
  },
  {
   "cell_type": "markdown",
   "metadata": {},
   "source": [
    "3B) oddělení **jména třídy** a jejího atributu (atribut patří třídě jako takové nikoliv konkrétním objektům)"
   ]
  },
  {
   "cell_type": "code",
   "execution_count": 36,
   "metadata": {},
   "outputs": [
    {
     "name": "stdout",
     "output_type": "stream",
     "text": [
      "9999-12-31\n"
     ]
    }
   ],
   "source": [
    "from datetime import date\n",
    "\n",
    "print(date.max) # maximální representovatelné datum"
   ]
  },
  {
   "cell_type": "markdown",
   "metadata": {},
   "source": [
    "Všechny druhy tečkové notace lze přirozeně kombinovat v jediném zápisu. Následující zápis obsahuje tečku ve všech jejích hlavních rolích."
   ]
  },
  {
   "cell_type": "code",
   "execution_count": 19,
   "metadata": {},
   "outputs": [
    {
     "data": {
      "text/plain": [
       "2018"
      ]
     },
     "execution_count": 19,
     "metadata": {},
     "output_type": "execute_result"
    }
   ],
   "source": [
    "datetime.date.today().year"
   ]
  },
  {
   "cell_type": "markdown",
   "metadata": {},
   "source": [
    "Identifikátor `datetime` označuje jméno modulu. Ten obsahuje třídu `date`, na níž je možno zavolat třídní metodu `today`. Tato metoda vrací nový objekt této třídy (representující aktuálné den). Z tohoto objektu následně získáme atribut `year` (rok příslušného data). Na jednotlivé části zápisu se můžete podívat na následujícím obrázku:\n",
    "\n",
    "![Komplexnější tečková notace](dotnotace.png)"
   ]
  },
  {
   "cell_type": "markdown",
   "metadata": {},
   "source": [
    "Pokud Vám předchozí výraz připadá složitý, lze jej samoozřejmě rozepsat do několika jednodušších:"
   ]
  },
  {
   "cell_type": "code",
   "execution_count": 41,
   "metadata": {},
   "outputs": [
    {
     "name": "stdout",
     "output_type": "stream",
     "text": [
      "2018\n"
     ]
    }
   ],
   "source": [
    "from datetime import date # jméno třídy není od této chvíle nutné kvalifikovat modulem\n",
    "\n",
    "dnes = date.today()  # volání třídní metody, výsledkem je objekt třídy `datetime.date\n",
    "letos = dnes.year   # a získáme jeho atribut\n",
    "print(letos)"
   ]
  },
  {
   "cell_type": "markdown",
   "metadata": {},
   "source": [
    "> **Úkol**: Vytvořte objekt třídy `datetime.date` representující silvestr aktuálního roku. Program by měl využívat metodu `today`, aby fungoval v libovolném roce."
   ]
  },
  {
   "cell_type": "code",
   "execution_count": 40,
   "metadata": {
    "tags": [
     "h"
    ]
   },
   "outputs": [
    {
     "name": "stdout",
     "output_type": "stream",
     "text": [
      "2018-12-31\n"
     ]
    }
   ],
   "source": [
    "silvestr = date(date.today().year, 12, 31) # předpokládá `from datetime import date`\n",
    "print(silvestr)"
   ]
  },
  {
   "cell_type": "markdown",
   "metadata": {},
   "source": [
    "Objekty třídy `datatime.date` nenabaízejí příliš mnoho metod. Mezi ty nejužitečnější patří: "
   ]
  },
  {
   "cell_type": "code",
   "execution_count": 45,
   "metadata": {},
   "outputs": [
    {
     "name": "stdout",
     "output_type": "stream",
     "text": [
      "4\n",
      "Dnes je pátek\n"
     ]
    }
   ],
   "source": [
    "dnes = date.today()\n",
    "\n",
    "print(dnes.weekday()) # vrací den v týdnu jako číslo (0 = pondělí, 1=úterý atd.)\n",
    "\n",
    "tyden = [\"pondělí\", \"úterý\", \"středa\", \"čtvrtek\", \"pátek\", \"sobota\", \"neděle\"] # seznam řetězců\n",
    "\n",
    "print(f\"Dnes je {tyden[dnes.weekday()]}\")"
   ]
  },
  {
   "cell_type": "code",
   "execution_count": 47,
   "metadata": {},
   "outputs": [
    {
     "data": {
      "text/plain": [
       "'03.08.2018'"
      ]
     },
     "execution_count": 47,
     "metadata": {},
     "output_type": "execute_result"
    }
   ],
   "source": [
    "dnes.strftime(\"%d.%m.%Y\")  # převede datumový objekt na řetězec podle formátu"
   ]
  },
  {
   "cell_type": "markdown",
   "metadata": {},
   "source": [
    "Formát používaný v metodě `strftime` vychází z unixového příkazu `date`. Detailní popis by byl únavný, proto uvádím jen několik praktických příkladů."
   ]
  },
  {
   "cell_type": "code",
   "execution_count": 56,
   "metadata": {},
   "outputs": [
    {
     "name": "stdout",
     "output_type": "stream",
     "text": [
      "3.8.18\n",
      "3.August 2018, Friday\n"
     ]
    }
   ],
   "source": [
    "print(dnes.strftime(\"%-d.%-m.%y\")) # bez počátečních nul a bez století (všimněte si podtržítek)\n",
    "print(dnes.strftime(\"%-d.%B %Y, %A\")) # dlouhý tvar v implicitní lokalitě (nastavení jazyka) = en_US"
   ]
  },
  {
   "cell_type": "markdown",
   "metadata": {},
   "source": [
    "Formátovací specifikace příkazu `strftime` lze využít i v běžném formátovaném řetězci."
   ]
  },
  {
   "cell_type": "code",
   "execution_count": 63,
   "metadata": {},
   "outputs": [
    {
     "data": {
      "text/plain": [
       "'Dnes je 3.8.'"
      ]
     },
     "execution_count": 63,
     "metadata": {},
     "output_type": "execute_result"
    }
   ],
   "source": [
    "f\"Dnes je {date.today():%-d.%-m.}\""
   ]
  },
  {
   "cell_type": "markdown",
   "metadata": {},
   "source": [
    "Dva objekty typu `datetime.date` lze odečítat."
   ]
  },
  {
   "cell_type": "code",
   "execution_count": 71,
   "metadata": {},
   "outputs": [
    {
     "name": "stdout",
     "output_type": "stream",
     "text": [
      "36439 days, 0:00:00\n"
     ]
    }
   ],
   "source": [
    "vznikRepubliky = date(1918,10,28)\n",
    "dnes = date.today()\n",
    "\n",
    "rozdil = dnes - vznikRepubliky\n",
    "print(rozdil)"
   ]
  },
  {
   "cell_type": "markdown",
   "metadata": {},
   "source": [
    "Výsledkem je objekt třídy `datetime.timedelta`, která representuje časový interval. Ten je primárně representován v dnech a vteřinách a jejich zlomcích, neboť neexistují žádné vyšší  jednotky fixní délky (kromě týdnů, ale ty jsou dost nepraktické) a ostatní hodiny a minuty lze dopočítat."
   ]
  },
  {
   "cell_type": "markdown",
   "metadata": {},
   "source": [
    "Objekty třídy `datetime.timedelta` lze vytvářet i přímo pomocí volání konstruktoru. V konstruktoru lze kombinovat různé standardní intervaly (týdny, dny, hodiny, minuty, sekundy) pomocí pojmenovaných parametrů (jejichž hodnotami nemusí být jen celá čísla)"
   ]
  },
  {
   "cell_type": "code",
   "execution_count": 96,
   "metadata": {},
   "outputs": [
    {
     "name": "stdout",
     "output_type": "stream",
     "text": [
      "26 days, 5:30:02.300000\n"
     ]
    }
   ],
   "source": [
    "from datetime import timedelta\n",
    "\n",
    "interval = timedelta(weeks=3, days=5, hours=5.5, seconds=2.3)\n",
    "print(interval)"
   ]
  },
  {
   "cell_type": "markdown",
   "metadata": {},
   "source": [
    "Lze je pak přičítat k objektům `datetime.date`, čímž lze realizovat zadání typu \"za čtrnáct dnů\"."
   ]
  },
  {
   "cell_type": "code",
   "execution_count": 97,
   "metadata": {},
   "outputs": [
    {
     "data": {
      "text/plain": [
       "datetime.date(2018, 8, 17)"
      ]
     },
     "execution_count": 97,
     "metadata": {},
     "output_type": "execute_result"
    }
   ],
   "source": [
    "dnes + timedelta(days=14)"
   ]
  },
  {
   "cell_type": "markdown",
   "metadata": {},
   "source": [
    "> **Úkol**: Zjistěte v jakých dnech jste slavili či budete slavit *tisiciny*, tj. dny kdy žijete $k\\times 1000$ dnů (kde $k$ je přirozené číslo)."
   ]
  },
  {
   "cell_type": "code",
   "execution_count": 101,
   "metadata": {
    "tags": [
     "h"
    ]
   },
   "outputs": [
    {
     "name": "stdout",
     "output_type": "stream",
     "text": [
      "1971-07-20\n",
      "1974-04-15\n",
      "1977-01-09\n",
      "1979-10-06\n",
      "1982-07-02\n",
      "1985-03-28\n",
      "1987-12-23\n",
      "1990-09-18\n",
      "1993-06-14\n",
      "1996-03-10\n",
      "1998-12-05\n",
      "2001-08-31\n",
      "2004-05-27\n",
      "2007-02-21\n",
      "2009-11-17\n",
      "2012-08-13\n",
      "2015-05-10\n",
      "2018-02-03\n",
      "2020-10-30\n",
      "2023-07-27\n"
     ]
    }
   ],
   "source": [
    "datumNarozeni = date(1971,7,20) # nahraťte svým datem narození\n",
    "for i in range(20):\n",
    "    print(datumNarozeni + timedelta(days=i*1_000))"
   ]
  },
  {
   "cell_type": "markdown",
   "metadata": {},
   "source": [
    "Časové intervaly lze i dělit (výsledkem je číslo), což se hodí pokud chcete interval vyjádřit jako číslo v předem známých jednotkách."
   ]
  },
  {
   "cell_type": "code",
   "execution_count": 104,
   "metadata": {},
   "outputs": [
    {
     "name": "stdout",
     "output_type": "stream",
     "text": [
      "100.0\n"
     ]
    }
   ],
   "source": [
    "vznikRepubliky = date(1918, 10, 28)\n",
    "vyroci = date(2018,10,28)\n",
    "\n",
    "pocetLet = (vyroci - vznikRepubliky) / timedelta(days=365.25)\n",
    "print(pocetLet)  # máme štěstí, že 100 je dělitelné 4 (proč?)"
   ]
  },
  {
   "cell_type": "markdown",
   "metadata": {},
   "source": [
    "> **Úkol**: I když je příčítání objektu `datetime.timedelta` užitečné, neřeší všechny požadavky praxe. Zvlášť zapeklité je přičítání měsíců (výsledkem je datum se stejným číslem dne, pokud je to možné, jinak poslední den v měsíci).\n",
    "\n",
    "> Příklad: 30.ledna + 1 měsíc je 28. nebo 29. února (podle přestupného roku).\n",
    "\n",
    "> Vytvořte funkci, která přijímá objekt `date` a počet měsíců, které mají být přičteny. Funkce vrací datum získané přičtením daného počtu měsíců.\n",
    "\n",
    "> Rada: připravte si seznam počtu dnů v jednotlivých měsících. Doporučuji pracovat s měsící číslovanými od nuly."
   ]
  },
  {
   "cell_type": "code",
   "execution_count": 116,
   "metadata": {
    "tags": [
     "h"
    ]
   },
   "outputs": [
    {
     "name": "stdout",
     "output_type": "stream",
     "text": [
      "2018-02-28\n",
      "2020-02-29\n",
      "2016-02-29\n"
     ]
    }
   ],
   "source": [
    "def addMonths(datum, months):\n",
    "    \"\"\"\n",
    "        datum: původní datum\n",
    "        months: počet měsíců, které mají být přičteny \n",
    "    \"\"\"\n",
    "    # získáme jednotlivé části data\n",
    "    monthDays = [31, 28, 31, 30, 31, 30, 31, 31, 30, 31, 30, 31]\n",
    "    d = datum.day\n",
    "    m = datum.month - 1 # měsíce jsou počítány od nuly\n",
    "    y = datum.year\n",
    "    m = (m + months) % 12 # přičteme měsíce (a upravíme do rozsahu 0-11) \n",
    "    y = y + (m + months) // 12 # k roku musíme přičíst bloky 12 měsíců\n",
    "    if y % 4 == 0:  # je-li rok přestupný (zjednodušeno)\n",
    "        monthDays[1] = 29  # pak upravíme délku měsíce února (index=1)\n",
    "    d = min(d, monthDays[m])  # upravíme dny na konci měsíce \n",
    "    # (denní číslo nesmí být větší než počet dní v měsíci)\n",
    "    return datetime.date(y, m+1, d)\n",
    "\n",
    "# testy\n",
    "print( addMonths( date(2018,1,31), 1) )\n",
    "print( addMonths( date(2018,1,30), 25) ) # přestupný rok\n",
    "print( addMonths( date(2018, 3, 31), -25 )) # funguje i odečítání!"
   ]
  },
  {
   "cell_type": "markdown",
   "metadata": {
    "tags": [
     "h"
    ]
   },
   "source": [
    "Kód funkce má tři části.\n",
    "Nejdříve se získají jednotlivá čísla dnů, měsíců a roků. Číslo měsíce je upraveno tak, aby počítání měsíců začínalo nulou (leden) a končilo 11 (prosinec). Jedině tak lze využít operaci zbytek po dělení v další části.\n",
    "\n",
    "V druhé (nejsložitější části) jsou spočítána nová čísla dnů, měsíců a roků. K číslu měsíce se přičte požadovaný počet měsíců. Výsledkem však může být měsíc mimo rozsah (12 a výše). Namísto měsíce 12, chceme měsíc 0, namísto měsíce 13, měsíc 2 (čísla měsíce se v následujícím roce opakují). Nové číslo měsíce proto získáme jako zbytek po dělení 12.\n",
    "Upravit musíme i rok. Za každých 12 měsíců v součtu (aktuální měsíc + počet přičtených) musíme zvýšit počet roků o jedna (zde využijeme celočíselné dělení). Poté upravíme maximální počet dnů v únoru přestupných roků (test, zda je rok přestupný je zjednodušen, tj. funkce bude fungovat jen do roku 2099).\n",
    "Nakonec upravíme denní číslo, pokud leží mimo rozsah měsíce.\n",
    "\n",
    "Nakonec vytvoříme nový objekt `date` (nesmíme zapomenout  na "
   ]
  },
  {
   "cell_type": "markdown",
   "metadata": {},
   "source": [
    "### Representace denního času\n",
    "\n",
    "denní čas (0:00 až 24:00) representují instance třídy `datetime.time`. Použití těchto objektů se příliš neliší od objektů `date` (rozdíl je pouze v atributech)."
   ]
  },
  {
   "cell_type": "code",
   "execution_count": 123,
   "metadata": {},
   "outputs": [
    {
     "name": "stdout",
     "output_type": "stream",
     "text": [
      "12:00:00\n",
      "12\n",
      "0\n",
      "0\n"
     ]
    }
   ],
   "source": [
    "from datetime import time\n",
    "poledne = time(12, 0)\n",
    "\n",
    "print(poledne)\n",
    "print(poledne.hour)\n",
    "print(poledne.minute)\n",
    "print(poledne.second)"
   ]
  },
  {
   "cell_type": "markdown",
   "metadata": {},
   "source": [
    "Pro formátování se i zde používá metoda `strftime` samozřejmě s jinými popisovači."
   ]
  },
  {
   "cell_type": "code",
   "execution_count": 125,
   "metadata": {},
   "outputs": [
    {
     "data": {
      "text/plain": [
       "'12:00:00'"
      ]
     },
     "execution_count": 125,
     "metadata": {},
     "output_type": "execute_result"
    }
   ],
   "source": [
    "poledne.strftime(\"%H:%M:%S\")"
   ]
  },
  {
   "cell_type": "markdown",
   "metadata": {},
   "source": [
    "Další operace (jako je odečítání či přičítaní intervalu) však na tento objekt nelze aplikovat (což je popravdě trochu překvapivé)."
   ]
  },
  {
   "cell_type": "markdown",
   "metadata": {},
   "source": [
    "### Representace časových okamžiků\n",
    "\n",
    "Poslední důležitou třídou modulu `datetime` je třída representující časové okamžiky (angl. *timestamps*), které nastávají v určitý denní čas v rámci jistého kalendářného dne (data). Tato třída v sobě ve skutečnosti spojuje instance třídy `datatime.date` a `datatime.time`.\n",
    "\n",
    "Jméno třídy je poněkud matoucí, neboť je stejné jako jméno modulu — `datetime`. Pokud tedy hodláte používat kvalifikované jméno musíte uvádět jméno `datetime.datetime`. \n",
    "\n",
    "Rozhraní třídy je v zásadě obdobou třídy `datetime.date`, pouze přibývají atributy (a ve `strftime` popisovače) denního času. Více údajů můžete předat i konstruktoru. "
   ]
  },
  {
   "cell_type": "code",
   "execution_count": 133,
   "metadata": {},
   "outputs": [
    {
     "name": "stdout",
     "output_type": "stream",
     "text": [
      "1969-07-20 20:17:40\n",
      "1969-07-20\n",
      "20:17:40\n",
      "1969\n",
      "20\n"
     ]
    }
   ],
   "source": [
    "pristaniNaMesici = datetime.datetime(1969, 7, 20, 20, 17, 40)\n",
    "print(pristaniNaMesici)\n",
    "\n",
    "print(pristaniNaMesici.date())  # datumová část (je to metoda ne atribut)\n",
    "print(pristaniNaMesici.time())  # denní čas (nápodobně)\n",
    "\n",
    "print(pristaniNaMesici.year)  # k dílčím atributům lze přistupovat i přímo\n",
    "print(pristaniNaMesici.hour)"
   ]
  },
  {
   "cell_type": "markdown",
   "metadata": {},
   "source": [
    "Formátování zajišťuje i zde metoda `strftime`, která podporuje popisovače pro datumové a časové údaje. Vše pochopitelně funguje i ve formátovaném řetězci:"
   ]
  },
  {
   "cell_type": "code",
   "execution_count": 139,
   "metadata": {},
   "outputs": [
    {
     "data": {
      "text/plain": [
       "'Přistávací modul Apolla poprvé přistál na Měsíci dne 20.07.1969 ve 20:17'"
      ]
     },
     "execution_count": 139,
     "metadata": {},
     "output_type": "execute_result"
    }
   ],
   "source": [
    "f\"Přistávací modul Apolla poprvé přistál na Měsíci dne {pristaniNaMesici:%d.%m.%Y ve %H:%M}\""
   ]
  },
  {
   "cell_type": "markdown",
   "metadata": {},
   "source": [
    "Aktuální časový okamžik lze získat třídní metodou `now`. Časové okamžiky lze samozřejmě i odečítat."
   ]
  },
  {
   "cell_type": "code",
   "execution_count": 146,
   "metadata": {},
   "outputs": [
    {
     "name": "stdout",
     "output_type": "stream",
     "text": [
      "17911 days, 23:55:56.946579\n",
      "429887.9324851608\n"
     ]
    }
   ],
   "source": [
    "rozdil = datetime.datetime.now() - pristaniNaMesici \n",
    "# výsledek není přiliš přesný oba údaje jsou v různých časových pásmech (now v SELČ, přistáni v UTC)\n",
    "print(rozdil)\n",
    "print(rozdil/timedelta(hours=1)) # vyjádření v hodinách a jejích zlomcích"
   ]
  },
  {
   "cell_type": "markdown",
   "metadata": {},
   "source": [
    "### Převod textové representace na objekt `datetime`\n",
    "\n",
    "Opakem metody `strftime` je u třídy `datetime.datetime` třídní metoda `strptime`. Tato metoda interpretuje řetězec jako textovou representaci data (spolu s případným denním čase) a pokusí se jej podle předaného formátui převést na ob\n",
    "\n",
    "Je to přirozeně třídní metoda, neboť vytváří nový objekt. Pokud by byla běžnou metodou objektu, pak by tento objekt musel existovat již před volání, čímž bychom se dostali k paradoxu typu \"vejce nebo slepice\"."
   ]
  },
  {
   "cell_type": "code",
   "execution_count": 68,
   "metadata": {},
   "outputs": [
    {
     "name": "stdout",
     "output_type": "stream",
     "text": [
      "Zadej datum: 2.3.2002\n",
      "2002-03-02 00:00:00\n"
     ]
    }
   ],
   "source": [
    "vstup = input(\"Zadej datum: \")\n",
    "datum = datetime.datetime.strptime(vstup, \"%d.%m.%Y\")\n",
    "print(datum)"
   ]
  },
  {
   "cell_type": "markdown",
   "metadata": {},
   "source": [
    "#### Časová pásma (velmi jemný úvod)\n",
    "\n",
    "Všechny výše uvedené příklady využívali tzv. naivní representaci časových údajů bez zohlednění časových pásem. I když se může stát, že časová pásma musí využívat jen programy podporující vstup a výstup v různých časových pásmech, není toumu tak."
   ]
  },
  {
   "cell_type": "code",
   "execution_count": 86,
   "metadata": {},
   "outputs": [
    {
     "name": "stdout",
     "output_type": "stream",
     "text": [
      "1 day, 0:00:00\n",
      "86400.0\n"
     ]
    }
   ],
   "source": [
    "zacatek = datetime.datetime(2018, 10, 28) # půlnoc 28.10.2018\n",
    "konec = datetime.datetime(2018, 10, 29)\n",
    "\n",
    "interval = konec - zacatek\n",
    "print(interval) # to je ještě akceptovatelný výsledek (rozdíl je skutečně 1 den)\n",
    "sekundy = interval.total_seconds() \n",
    "print(sekundy)  # to je určitě špatně"
   ]
  },
  {
   "cell_type": "markdown",
   "metadata": {},
   "source": [
    "Je zajímavé, že i zdánlivě správný výsledek může být ve skutečnosti špatně :). Problém je v tom, že ne každý den má 24 hodin. Den 28.10. 2018 má 25 hodin, neboť v něm dochází k přechodu z letního na zimní čas. Mezi půlnocí obou dnů tak uběhne `25*3600` = 90 000 sekund.\n",
    "\n",
    "Řešení není zcela jednoduché, neboť objekty, třídy `datetime` letní čas nezohledňují (o když podporují časová pásma, ale jen s fixní rozdílem od světového času). Pokud jsou časy vztaženy k časovému pásmu, jež je nastaveno v operačním systému (v Linuxu je pro ČR používáno pásmo `Europe/Prague`, viz https://en.wikipedia.org/wiki/Tz_database), pak je řešením převod do tzv. POSIXovské epochy (= počet sekund od 1.1.1970), které časová pásma zohledňuje. Metoda `datetime.datetime.timestamp` vrací tento údaj jako `float` číslo."
   ]
  },
  {
   "cell_type": "code",
   "execution_count": 88,
   "metadata": {},
   "outputs": [
    {
     "data": {
      "text/plain": [
       "90000.0"
      ]
     },
     "execution_count": 88,
     "metadata": {},
     "output_type": "execute_result"
    }
   ],
   "source": [
    "konec.timestamp() - zacatek.timestamp()"
   ]
  },
  {
   "cell_type": "markdown",
   "metadata": {},
   "source": [
    "Pokud potřebujete úplnou podporu všech časových pásem, lze využít standardní, ale nízkoúrovňový modul `time`, nebo modul `pendulum`."
   ]
  },
  {
   "cell_type": "code",
   "execution_count": 149,
   "metadata": {},
   "outputs": [
    {
     "name": "stdout",
     "output_type": "stream",
     "text": [
      "Requirement already satisfied: pendulum in /home/fiser/storage/apps/intelpython3/lib/python3.6/site-packages (2.0.3)\n",
      "Requirement already satisfied: python-dateutil<3.0,>=2.6 in /home/fiser/storage/apps/intelpython3/lib/python3.6/site-packages (from pendulum) (2.6.0)\n",
      "Requirement already satisfied: pytzdata>=2018.3 in /home/fiser/storage/apps/intelpython3/lib/python3.6/site-packages (from pendulum) (2018.5)\n",
      "Requirement already satisfied: six>=1.5 in /home/fiser/storage/apps/intelpython3/lib/python3.6/site-packages (from python-dateutil<3.0,>=2.6->pendulum) (1.10.0)\n",
      "\u001b[31mtensorflow 1.3.1 requires tensorflow-tensorboard<0.2.0,>=0.1.0, which is not installed.\u001b[0m\n",
      "\u001b[31mtensorflow 1.3.1 has requirement protobuf>=3.3.0, but you'll have protobuf 3.2.0 which is incompatible.\u001b[0m\n",
      "\u001b[33mYou are using pip version 10.0.1, however version 18.0 is available.\n",
      "You should consider upgrading via the 'pip install --upgrade pip' command.\u001b[0m\n"
     ]
    }
   ],
   "source": [
    "!pip install pendulum"
   ]
  },
  {
   "cell_type": "code",
   "execution_count": 166,
   "metadata": {},
   "outputs": [
    {
     "name": "stdout",
     "output_type": "stream",
     "text": [
      "2018-08-04T20:35:36.327428+02:00\n",
      "1969-07-20T20:17:40+00:00\n",
      "17911 days, 22:17:56.327428\n",
      "17912 days, 0:17:56.328305\n",
      "-7200.000877\n"
     ]
    }
   ],
   "source": [
    "import pendulum\n",
    "\n",
    "now = pendulum.now()\n",
    "print(now) # zobrazí se i údajem o časovém pásmu\n",
    "pristaniNaMesici = pendulum.datetime(1969,7,20,20,17,40, tz='Etc/UTC') # časové pásmo UTC\n",
    "print(pristaniNaMesici)\n",
    "interval = now-pristaniNaMesici # výsledkem je třída pendulum.Period\n",
    "print(interval.as_timedelta()) # pro sandnější porovnání jej převedeme na objekt `timedelta`\n",
    "\n",
    "# pro porovnání\n",
    "interval2 = (datetime.datetime.now() - datetime.datetime(1969,7,20,20,17,40))\n",
    "print(interval2)\n",
    "print((interval - interval2).total_seconds())"
   ]
  },
  {
   "cell_type": "markdown",
   "metadata": {},
   "source": [
    "\n",
    "Jak je vidět modul `pendulum` zohlednil tůzná časová pásma (u data přistání je explicitně uvedeno, že jde o světový čas UTC, funkce `now` vrací čas se správným časovým pásmem). Komplexnost časových výpočtů ukazuje skutečnost, že ani `pendulum` nevrátilo správný výsledek, neboť nezohlednilo 27 přestupných sekund vložených od roku 1972 a jen obtížně odvoditelný posun daný tím, že mezi roky 1961 a 1972 se nepravidelně vkládaly skoky 100 ms, aby se čas UTC přizpůsobil rotaci Země (navíc se mírně měnila i délka sekundy). Celkově se však jedná o rozdíl cca 30 sekund."
   ]
  },
  {
   "cell_type": "markdown",
   "metadata": {},
   "source": [
    "## Práce se soubory (proudy dat)\n",
    "\n",
    "Jakýkoliv plnohodnotný program musí pracovat s externími daty (vypsání \"Hello, world\" či výpis jakéhokoliv jiného fixního textu není programem). Externí data jsou typicky zadávána interaktivně uživatelem (viz nám již známou vestavěnou funkci `input`), čtena z datových souborů nebo jsou získávana z Internetu.\n",
    "\n",
    "Všechny tyto externí zdroje dat lze sjednotit do abstraktního mechanismu proudu dat (angl. `stream`). Nejebecnější typem proudu jsou bytové proudy, které poskytují konečnou posloupnost bytů (byte = binární representace čísel 0-255 = 8 bitů).\n",
    "\n",
    "Kromě bytových proudů se používají i proudy znakové. Znakové proudy můžeme chápat jako konečnou posloupnost znaků (písmen, číslic, symbolů, apod.). Interně se každý znak ukládá či přenáší pomocí jednoho či více bytů. které kódují pozici znaků v nějaké znakové sadě (tabulce jednotlivých znaků).\n",
    "\n",
    "*Poznámka*: V dřívějších dobách se používaly znakové sady s maximálně 255 znaky, tj. pozice ve znakové sadě byla vyjádřitelná právě jedním bytem. Bytové a znakové proudy se tak lišili jen interpretací přenášených bytů (u znakových bylo navíc nutno znát použitou znakovou sadu). Počet 255 znaků však nestačí pro representaci např. činštiny tím spíše textů s více písmy. V současnosti, tak převažuje znaková sada Unicode (aktuálně cca 140 tisíc znaků). Takový počet znaků vyžaduje samozřejmě vícebytové kódování (existuje více kódování znakové sady Unicode)\n",
    "\n"
   ]
  },
  {
   "cell_type": "markdown",
   "metadata": {},
   "source": [
    "Nejjednodušší je vytvoření proudů (bytových i znakových) nad soubory v rámci souborového systému (ten je tvořen typicky daty na lokálních discích, i když do něj lze připojovat i vzdálenější datová úložiště).\n",
    "\n",
    "Vytvoření a otevření těchto proudů zajišťuje vestavěná funkce `open`:"
   ]
  },
  {
   "cell_type": "code",
   "execution_count": 171,
   "metadata": {
    "collapsed": true
   },
   "outputs": [],
   "source": [
    "stream = open(\"python_output.txt\", \"wt\")"
   ]
  },
  {
   "cell_type": "markdown",
   "metadata": {},
   "source": [
    "Prvním parametrem je jméno souboru. To může být buď relativní (pak se vztahuje k aktuálnímu adresáři, což je standardně adresář, v němž je pythonský skript resp. jupyter notebook), nebo absolutní (tvar se liší mezi Windows a Unixem).\n",
    "\n",
    "Druhý parametr je režim otevření. V našem případě obsahuje znak \"w\" určující, že proud slouží k zápisu (*write*) do souboru (tj. my budeme zapisovat) a znak \"t\" určující, že proud bude textový (a textový tak bude i zapsaný soubor). Pokud soubor existuje pak je před zápisem zkrácen na nulovou délku (tj. náš výstup původní obsah přepíše).\n",
    "\n",
    "Po otevření můžeme do našeho proudu zapisovat. To zajišťuje metoda se jménem `write`:"
   ]
  },
  {
   "cell_type": "code",
   "execution_count": 172,
   "metadata": {},
   "outputs": [
    {
     "data": {
      "text/plain": [
       "22"
      ]
     },
     "execution_count": 172,
     "metadata": {},
     "output_type": "execute_result"
    }
   ],
   "source": [
    "stream.write(\"One Ring to rule them all\\n\") # zapisuje do textového proudu celý řádek\n",
    "stream.write(\"One Ring to find them\\n\")"
   ]
  },
  {
   "cell_type": "markdown",
   "metadata": {},
   "source": [
    "Metoda `write` vloží znaky postupně do proudu. Všimněte si, že řádky musí \n",
    "\n",
    "Metoda `write` vrací počet zapsaných znaků (u nás je to 22 znaků u druhého zápisu). K zápisu však prozatím pravděpodobně ještě nedošlo. Data jsou totiž většinou dočasně umisťována do vyrovnávací paměti. Jistotu budeme mít, až když proud zavřeme."
   ]
  },
  {
   "cell_type": "code",
   "execution_count": 173,
   "metadata": {
    "collapsed": true
   },
   "outputs": [],
   "source": [
    "stream.close()"
   ]
  },
  {
   "cell_type": "markdown",
   "metadata": {},
   "source": [
    "Každý proud by měl být po použití uzavřen! Nejenže tím zajistíme skutečný zápis na disk, ale uvolníme i prostředky, které pro správu proudu alokoval náš program i operační systém."
   ]
  },
  {
   "cell_type": "markdown",
   "metadata": {},
   "source": [
    "Nyní se pokusíme data ze souboru zpětně načíst. Nejdříve soubor znovu otevřeme, tentokrát ale zvolíme jiný režim (\"r\" jako *read*, a opět \"t\" pro textový proud)."
   ]
  },
  {
   "cell_type": "code",
   "execution_count": 175,
   "metadata": {
    "collapsed": true
   },
   "outputs": [],
   "source": [
    "stream = open(\"python_output.txt\",\"rt\")"
   ]
  },
  {
   "cell_type": "markdown",
   "metadata": {},
   "source": [
    "Pokud chceme přečíst celý obsah souboru najednou, pak použijeme metodu `read` (bez parametrů)."
   ]
  },
  {
   "cell_type": "code",
   "execution_count": 177,
   "metadata": {
    "collapsed": true
   },
   "outputs": [],
   "source": [
    "text = stream.read()"
   ]
  },
  {
   "cell_type": "markdown",
   "metadata": {},
   "source": [
    "Soubor nezapomeneme zavřít (u důvodů úspory prostředků)."
   ]
  },
  {
   "cell_type": "code",
   "execution_count": 179,
   "metadata": {
    "collapsed": true
   },
   "outputs": [],
   "source": [
    "stream.close()"
   ]
  },
  {
   "cell_type": "code",
   "execution_count": 180,
   "metadata": {},
   "outputs": [
    {
     "name": "stdout",
     "output_type": "stream",
     "text": [
      "One Ring to rule them all\n",
      "One Ring to find them\n",
      "\n"
     ]
    }
   ],
   "source": [
    "print(text) # pro kontrolu text vypíšeme"
   ]
  },
  {
   "cell_type": "markdown",
   "metadata": {},
   "source": [
    "I když je čtení celého souboru jednoduché, v praxi se příliš nepoužívá. Hlavní důvodem je skutečnost, že v některých textových souborech je členění klíčové členění na řádky (např. každý řádek obsahuje jednu položku dat). U velkých souborů může navíc načtení celého textu vést k zaplnění (či lépe přeplnění) operační paměti.\n",
    "\n",
    "Pro čtení jednotlivých řádek slouží metoda `readline`. Ta vrací řádky (zakončené znakem odřádkování). Na konci souboru vrátí prázdný řetězec."
   ]
  },
  {
   "cell_type": "code",
   "execution_count": 181,
   "metadata": {},
   "outputs": [
    {
     "name": "stdout",
     "output_type": "stream",
     "text": [
      "One Ring to rule them all\n",
      "\n",
      "One Ring to find them\n",
      "\n"
     ]
    }
   ],
   "source": [
    "stream = open(\"python_output.txt\",\"rt\")  # soubor musíme znovu otevřít\n",
    "\n",
    "line = stream.readline()  # (potenciální) první řádek načteme ještě před cyklem\n",
    "while line != \"\":         # dokud není konec souboru\n",
    "    print(line)           # řádek vytiskneme\n",
    "    line = stream.readline() # načteme další řádek\n",
    "\n",
    "stream.close()"
   ]
  },
  {
   "cell_type": "markdown",
   "metadata": {},
   "source": [
    "Všimněte si, že na výstupu jsou prázdné řádky. Důvodem je skutečnost, že každý načtený řádek obsahuje znak odřádkování, tj. při tisku se odřádkuje dvakrát (jedno odřádkování obsahuje tištěný řetězec, druhé odřadkování přidává funkce `print`)"
   ]
  },
  {
   "cell_type": "markdown",
   "metadata": {},
   "source": [
    "Jak lze vidět z kódu je použití metody `readline` komplikovanejší než by začínající programátor čekal. Je totiž nutné provádět volání metody `readline` na dvou místech. Jednou před cyklem `while`, aby bylo možno otestovat výsledek prvního čtení) a podruhé na konci těla (získání dalšího řádku).\n",
    "\n",
    "Naštestí Python umožňuje textový proud používat jako iterátor, který postupně vrací jednotlivé řádky (bez znaku odřádkování na konci). Pro procházení tak lze využít cyklus `for`."
   ]
  },
  {
   "cell_type": "code",
   "execution_count": 183,
   "metadata": {},
   "outputs": [
    {
     "name": "stdout",
     "output_type": "stream",
     "text": [
      "One Ring to rule them all\n",
      "One Ring to find them\n"
     ]
    }
   ],
   "source": [
    "stream = open(\"python_output.txt\",\"rt\")  # soubor musíme znovu otevřít\n",
    "\n",
    "for line in stream: # přes všechny řádky proudu\n",
    "    print(line, end=\"\")  # print nemusí přidávat vlastní odřádkování"
   ]
  },
  {
   "cell_type": "markdown",
   "metadata": {},
   "source": [
    "Jak je to jednoduché, když používáte Python :)\n",
    "\n",
    "Na něco jsem ovšem zapomněl, uzavřít proud/soubor."
   ]
  },
  {
   "cell_type": "code",
   "execution_count": 184,
   "metadata": {
    "collapsed": true
   },
   "outputs": [],
   "source": [
    "stream.close()"
   ]
  },
  {
   "cell_type": "markdown",
   "metadata": {},
   "source": [
    "I zde Python nabízí zapomnětlivým elegantnější řešení konstrukci **with**. Tato konstrukce zajistí automatické uzavření souboru na konci (odsazeného] bloku příkazů. Konstrukci si ukážeme u programu, který vrací maximální délku řádku (tj. počet znaků v nejdelším řádku)."
   ]
  },
  {
   "cell_type": "code",
   "execution_count": 192,
   "metadata": {},
   "outputs": [
    {
     "name": "stdout",
     "output_type": "stream",
     "text": [
      "25\n"
     ]
    }
   ],
   "source": [
    "with open(\"python_output.txt\", \"rt\") as stream:  # otevře proud a označí jej proměnou `stream`\n",
    "    maxlength = max([len(line)-1 for line in stream]) # využijeme komprehenzi\n",
    "# níže je už proud uzavřený\n",
    "print(maxlength)"
   ]
  },
  {
   "cell_type": "markdown",
   "metadata": {},
   "source": [
    "Konstrukce začíná klíčovým slovem `with` za nímž následuje volání funkce `open`. Vrácený objekt (proud) je opatřen proměnnou `stream` (v tomto místě se nepoužívá přiřazení, namísto toho je proměnná uvedena za klíčovým slovem `as`. Od této chvíli existuje jak proměnná tak proud na nějž odkazuje (a ten jen samozřejmě otevřený).\n",
    "\n",
    "S proměnnou i s proudem lze pracovat v bloku, jenž následuje za `with`. Poté co skončí (a skončit může různě včetně např. příkazu `return` nebo vyvoláním výjimky) se automaticky proud autoamticky uzavře (tj. zavolá se jeho metoda `close`). \n",
    "\n",
    "Je zajímavé, že proměnná i objekt proudu existují i poté, co skončí konstrukce `with`. Proud je však již nepoužitelný (nelze z něj již nic číst)."
   ]
  },
  {
   "cell_type": "markdown",
   "metadata": {},
   "source": [
    "#### Generátorové výrazy\n",
    "\n",
    "Využití seznamové komprehenze pro hledání maximálního počtu řádku výrazně zjednodušuje program, není však zcela efektivní.\n",
    "\n",
    "Zápis `[len(line) for line in stream]` vytváří seznam, tím že postupně čte řádky souboru (metodou `readline`), zjišťuje délku získaných řádků (funkce `len` vrací délku řetězců, jedničku odečítáme, neboť řetězec obsahuje na konci znak odřádkování) a výsledná čísla přidává postupně do seznamu. Až po dokončení seznamu se na něj volá vestavěná funkce `max`, která vrátí největší prvek (= délka nejdelšího řádku).\n",
    "\n",
    "Vytvoření seznamu je však zbytečné, neboť maximum lze získat i průběžným procházením čísel (bez toho, že bycjom si je všechny ukládali). Již v několika příkladech jsme ukázali, že si stačí pamatovat průběžné maximum a to porovnávat s postupně přicházejícími údaji (je-li větší stane se průběžným maximem).\n",
    "\n",
    "Tento algoritmus lze ukázet i na příkladě z praktického života. Představme si, že skupina osob nastupuje v přízemí do výtahu, který si pamatuje jen jedno cílové podlaží. Je zřejmé, že nejefektivnější, když všichni oznámí patro kam jedou a na ovládacím panelu se zvolí nejbližší z nich (tj. minimum).\n",
    "\n",
    "I když bychom měli dům s desítkami pater a do výtahu by nastupovali desítky lidí, lze minimální patro určit i bez notesu, kam bychom si jednotlivá cílová podlaží zapisovali. Stačí si prostě jen pamatovat, to  průběžně nejnižší: 22, 7, 8, 11, 13, 9, 7, 3, 17, 4.\n",
    "\n",
    "Naše předchozí řešení je tedy zbytečně složité (je to řešení s notesem). Na druhou stranu jsme se vyhnuli cyklu `for` a vnořené podmínce `if`.\n",
    "\n",
    "I zde však existuje řešení, které je zároveň efektní (= stručné a přehledné) i efektivní (nevyžaduje téměř žádnou paměť navíc) -- **generátorový výraz**.\n",
    "\n",
    "Z hlediska syntaxe se generátorový výraz liší od seznamové komprehenz pouze uzávorkováním. Na rozdíl od hranatých závorek seznamové komprehenze používá běžné oblé závorky."
   ]
  },
  {
   "cell_type": "code",
   "execution_count": 1,
   "metadata": {},
   "outputs": [
    {
     "data": {
      "text/plain": [
       "<generator object <genexpr> at 0x7f315019eeb8>"
      ]
     },
     "execution_count": 1,
     "metadata": {},
     "output_type": "execute_result"
    }
   ],
   "source": [
    "(i**2 for i in range(10))"
   ]
  },
  {
   "cell_type": "markdown",
   "metadata": {},
   "source": [
    "Je však vidět, že na místo seznamu vrací tzv. generátor. To je speciální případ tzv. iterátorů, objektů, které na požádání vracejí posloupnost hodnot. Generátory jsou případem tzv. lenivých iterátorů, tj. další číslo v posloupnosti vracejí až tehdy, kdy už není zbytí. Podobají se tak například objektům rozsahů (*range*).\n",
    "\n",
    "Generátory se typicky volají na jiné lenivé iterátory (rozsahy, textové proudy) a transformují je na jiné opět lenivé iterátory. Funkce typu  `sum` nebo `max` lze volat na libovolné iterátory vracející čísla tj. i na vhodné generátorové výrazy:"
   ]
  },
  {
   "cell_type": "code",
   "execution_count": 3,
   "metadata": {},
   "outputs": [
    {
     "data": {
      "text/plain": [
       "999999452"
      ]
     },
     "execution_count": 3,
     "metadata": {},
     "output_type": "execute_result"
    }
   ],
   "source": [
    "from random import randint\n",
    "\n",
    "max(randint(0,10**9) for _ in range(10**6)) # maximum z milionu náhodných celých čísle"
   ]
  },
  {
   "cell_type": "markdown",
   "metadata": {},
   "source": [
    "Zde je generátorový výraz volán na iterátor přes čísla 0 až 1000000-1. Transformuje jej do iterátoru, který poskytuje milion náhodných čísel (každé leží mezi 0 a miliardou). Funkce `max` vybírá postupně tato čísla z lenivého iterátoru a počítá průběžné maximum. Díky použití generátorového výrazu se nevytváří zbytečné pole o miliónu položek o velikosti desítek megabajtů.\n",
    "\n",
    "Několik poznámek k syntaxi:  Kulaté závorky kolem generátorového výrazu lze vynechat, pokud je výraz jediným parametrem funkce (jako zde). Uvnitř závorek omezujících parametr ve volání funkce tak není nutné psát další dvojici závorek. Všimněte si i použití podtržítka na místě řídící proměnné (proměnné, která postupně odkazuje prvky primárního iterátoru). Podtržítko je běžný název proměnné (stejně jako `i` nebo `j`), který se v Pythonu využívá v situacích, kdy je formálně vyžadována proměnná, která se však ve skutečnosti nikdy nepoužije (všimněte si, že zde generující výraz `randint(0,10**9)` na proměnné `_` nijak nezávisí). Je to však jen úzus (tj. můžete použít jakékoliv jiné jméno proměnné)."
   ]
  },
  {
   "cell_type": "markdown",
   "metadata": {},
   "source": [
    "> **Úkol**: Vytvořte funkci, která vrátí počet řádků v souboru (jméno souboru je parametrem funkce). Využijte konstrukci `with`.\n",
    "\n",
    "> Rada: Počet řádků (stejně jako počet položek jakéhokoliv iterátoru) nejsnadněji získáte použitím generátorového výrazu poskytujícího  a funkce `sum` (sčítáte jedničky)."
   ]
  },
  {
   "cell_type": "code",
   "execution_count": 4,
   "metadata": {
    "tags": [
     "h"
    ]
   },
   "outputs": [
    {
     "data": {
      "text/plain": [
       "47"
      ]
     },
     "execution_count": 4,
     "metadata": {},
     "output_type": "execute_result"
    }
   ],
   "source": [
    "def linedcount(filename):\n",
    "    with open(filename, \"rt\") as stream:  #  soubor se uzavře automaticky v rámci návratu z funkce\n",
    "        return sum(1 for line in stream) \n",
    "        # vrátíme součet iterátoru poskytujícího tolik jedniček kolik je řádků v souboru\n",
    "\n",
    "# linedcount(\"python_output.txt\")\n",
    "linedcount(\"/etc/passwd\") # něco pro uživatele Linuxu (ostatní mohou zkusit jiný textový soubor)"
   ]
  },
  {
   "cell_type": "markdown",
   "metadata": {},
   "source": [
    "**Řešený příklad**: \n",
    "\n",
    "Vygenerujte textový CSV soubor obsahující údaje o vzdálenosti mezi středem Země a středem Měsíce pro půlnoc každého dne roku 2018.\n",
    "\n",
    "CSV (zkratka za *Comma-Separated Values*) je jednoduchý, ale stále široce, používaný datový formát, v  němž jednotlivé řádky representují datové záznamy, v nichž jsou jednotlivé záznamy oddělené čárkou resp. jiným vhodným oddělovačem. Pokud je oddělovač obsažen i v jednotlivých hodnotách (typicky v textové hodnotě, ale viz například desetinná čárka), pak musí být hodnota uvedena v uvozovkách.\n",
    "\n",
    "V našem příkladě by měl každý CSV řádek obsahovat dvě hodnoty, datum v rozumné textové podobě (např. `1.1.2018`), a vzdálenost Země – Měsíc v kilometrech.\n",
    "\n",
    "V případě uvádění datumu si však nemůžeme být jisti, že bude případným uživatelem špatně interpretováno (chybné časové pásmo, formát apod.) Navíc zpracování datumů v textové podobě nemusí být triviální. Z tohoto důvodu je vhodné čas uvést i v nějaké standardizované a snadno zpracovatelné podobě. Vhodný je například tzv. unixový (POSIX) čas, v němž je čas representován jako počet sekund od 1.1.1970 UTC."
   ]
  },
  {
   "cell_type": "markdown",
   "metadata": {},
   "source": [
    "Jádrem řešení je cyklus přes 365 časových okamžiků (od 1.1.2018) s krokem jednoho dne.\n",
    "Pro representaci času použijeme třídu `datetime.datetime`, abychom si ji procvičili (lze samozřejmě použít i třídu `ephem.Date`)."
   ]
  },
  {
   "cell_type": "code",
   "execution_count": 20,
   "metadata": {
    "collapsed": true
   },
   "outputs": [],
   "source": [
    "import datetime\n",
    "import ephem\n",
    " \n",
    "startDay = datetime.datetime(2018, 1, 1) # počáteční datum\n",
    "moon = ephem.Moon()                      # objekt Měsíce\n",
    "\n",
    "with open(\"moonDistances.csv\", \"wt\") as stream:\n",
    "    for dayNumber in range(365):   # dayNumber nabývá hodnot 0,1, až 364\n",
    "        day = startDay + datetime.timedelta(days=dayNumber) # zjistíme \n",
    "        moon.compute(day) # funguje i s datetime (interně se převede na `ephem.Date`)\n",
    "        distance = moon.earth_distance * ephem.meters_per_au / 1000.0 # převod z AU na kilometry\n",
    "        stream.write(f\"{day:%d.%m.%Y}, {day.timestamp()}, {distance:.1f}\\n\") \n",
    "        # pozor nutný je znak odřádkování na konci řetězce"
   ]
  },
  {
   "cell_type": "markdown",
   "metadata": {},
   "source": [
    "Kód po vyhodnocení nic nevypíše, neboť jediným viditelným efektem programu je vytvoření a naplnění textového souboru `moonDistances.csv`. Vypišme několik prvních řádků tohoto souboru (níže uvedený externí příkaz funguje jen v Linuxu resp. Unixu)."
   ]
  },
  {
   "cell_type": "code",
   "execution_count": 14,
   "metadata": {},
   "outputs": [
    {
     "name": "stdout",
     "output_type": "stream",
     "text": [
      "01.01.2018, 1514761200.0, 357399.5\r\n",
      "02.01.2018, 1514847600.0, 356573.3\r\n",
      "03.01.2018, 1514934000.0, 357770.0\r\n",
      "04.01.2018, 1515020400.0, 360863.6\r\n",
      "05.01.2018, 1515106800.0, 365514.7\r\n",
      "06.01.2018, 1515193200.0, 371240.9\r\n",
      "07.01.2018, 1515279600.0, 377506.3\r\n",
      "08.01.2018, 1515366000.0, 383801.7\r\n",
      "09.01.2018, 1515452400.0, 389699.8\r\n",
      "10.01.2018, 1515538800.0, 394884.7\r\n"
     ]
    }
   ],
   "source": [
    "!head moonDistances.csv"
   ]
  },
  {
   "cell_type": "markdown",
   "metadata": {},
   "source": [
    "A pro jitotu se podíváme i na konec souboru:"
   ]
  },
  {
   "cell_type": "code",
   "execution_count": 16,
   "metadata": {},
   "outputs": [
    {
     "name": "stdout",
     "output_type": "stream",
     "text": [
      "22.12.2018, 1545433200.0, 365824.9\r\n",
      "23.12.2018, 1545519600.0, 362712.0\r\n",
      "24.12.2018, 1545606000.0, 361199.5\r\n",
      "25.12.2018, 1545692400.0, 361342.2\r\n",
      "26.12.2018, 1545778800.0, 363007.9\r\n",
      "27.12.2018, 1545865200.0, 365917.8\r\n",
      "28.12.2018, 1545951600.0, 369711.0\r\n",
      "29.12.2018, 1546038000.0, 374014.6\r\n",
      "30.12.2018, 1546124400.0, 378498.7\r\n",
      "31.12.2018, 1546210800.0, 382910.1\r\n"
     ]
    }
   ],
   "source": [
    "!tail moonDistances.csv"
   ]
  },
  {
   "cell_type": "markdown",
   "metadata": {},
   "source": [
    "Program se jeví jako funkční (pro skutečné ověření vy však bylo záhodno výstup zkontrolovat vzhledem k nějaké autoritativní efemeridě).\n",
    "\n",
    "Jedním z hlavních rysů Pythonu je velká nabídka modulů standardních modulů. Mezi nimi lze nalézt modul `csv`, který nabízí vysokoúrovňové rozhraní pro přístup k CSV souborům. Zkusíme tento model použít:"
   ]
  },
  {
   "cell_type": "code",
   "execution_count": 28,
   "metadata": {
    "collapsed": true
   },
   "outputs": [],
   "source": [
    "import datetime\n",
    "import ephem\n",
    "from csv import writer\n",
    "    \n",
    "startDay = datetime.datetime(2018, 1, 1) # počáteční datum\n",
    "moon = ephem.Moon()                      # objekt Měsíce\n",
    "\n",
    "with open(\"moonDistances2.csv\", \"wt\") as stream:\n",
    "    csvwriter = writer(stream) # vytvoříme specializovaný writer\n",
    "    for dayNumber in range(365):   # dayNumber nabývá hodnot 0,1, až 364\n",
    "        day = startDay + datetime.timedelta(days=dayNumber) # zjistíme \n",
    "        moon.compute(day) # funguje i s datetime (interně se převede na `ephem.Date`)\n",
    "        distance = moon.earth_distance * ephem.meters_per_au / 1000.0 # převod z AU na kilometry\n",
    "        csvwriter.writerow([day.strftime(\"%d.%m.%Y\"), day.timestamp(), round(distance, 1)])\n",
    "        # pozor nutný je znak odřádkování na konci řetězce"
   ]
  },
  {
   "cell_type": "code",
   "execution_count": 29,
   "metadata": {},
   "outputs": [
    {
     "name": "stdout",
     "output_type": "stream",
     "text": [
      "01.01.2018,1514761200.0,357399.5\r",
      "\r\n",
      "02.01.2018,1514847600.0,356573.3\r",
      "\r\n",
      "03.01.2018,1514934000.0,357770.0\r",
      "\r\n",
      "04.01.2018,1515020400.0,360863.6\r",
      "\r\n",
      "05.01.2018,1515106800.0,365514.7\r",
      "\r\n",
      "06.01.2018,1515193200.0,371240.9\r",
      "\r\n",
      "07.01.2018,1515279600.0,377506.3\r",
      "\r\n",
      "08.01.2018,1515366000.0,383801.7\r",
      "\r\n",
      "09.01.2018,1515452400.0,389699.8\r",
      "\r\n",
      "10.01.2018,1515538800.0,394884.7\r",
      "\r\n"
     ]
    }
   ],
   "source": [
    "!head moonDistances2.csv"
   ]
  },
  {
   "cell_type": "markdown",
   "metadata": {},
   "source": [
    "Použití specializovaného CSV writeru program program zdánlivě příliš nezjednodušil. Přibyl jeden řádek (před cyklem), v němž je vytvořen objekt tzv. writeru. Writer je objekt, který využívá (textový) proud pro výpis složitějších objektů (v tomto případě řádku hodnot). Proud, do kterého writer vypisuje je parametrem konstruktoru.\n",
    "\n",
    "Následný výpis (v těle) používá metodu `writerow`, který očekává seznam hodnot (před předáním se musí upravit či naformátovat).\n",
    "\n",
    "Výhody se však ukáží v případě, kdy chceme CSV nakonfigurovat, tak aby byl použit jiný oddělovací znak včetně případného vložení uvozovek kolem hodnot obsahujících znak oddělovače. Jako příklad uveďme CSV, jehož číselné hodnoty využívají desetinnou čárku namísto tečky (nejjednodušším způsobem záměny destinné tečky za čárku je převod čísla na řetězec následovaný záměnou znaku čárky za znak tečky)."
   ]
  },
  {
   "cell_type": "code",
   "execution_count": 47,
   "metadata": {},
   "outputs": [
    {
     "name": "stdout",
     "output_type": "stream",
     "text": [
      "altitude,\"3,141592653589793\",5,\"text s \"\"uvozovkami\"\"\"\r\n"
     ]
    }
   ],
   "source": [
    "from sys import stdout  # sys.stdout textový proud směrovaný na standardní výstup\n",
    "from math import pi\n",
    "\n",
    "w = writer(stdout)\n",
    "\n",
    "w.writerow([\"altitude\", str(pi).replace(\".\",\",\") , 5, 'text s \"uvozovkami\"'])"
   ]
  },
  {
   "cell_type": "markdown",
   "metadata": {},
   "source": [
    "Writer v tomto případě uvede číslo v uvozovkách (aby bylo zřejmé, že čárka není oddělovačem, ale je součást hodnoty)  Ostatní hodnoty (neobsahující čárku) jsou uvedeny bez uvozovek. Navíc, pokud nějaká hodnota obsahuje uvozovky, pak je zdvojí (aby se odlišily od těch přidaných)."
   ]
  },
  {
   "cell_type": "markdown",
   "metadata": {},
   "source": [
    "Writer lze přirozeně i konfigurovat, například změnit oddělovač:"
   ]
  },
  {
   "cell_type": "code",
   "execution_count": 48,
   "metadata": {},
   "outputs": [
    {
     "name": "stdout",
     "output_type": "stream",
     "text": [
      "altitude;3,141592653589793;5;\"text s \"\"uvozovkami\"\"\"\r\n"
     ]
    }
   ],
   "source": [
    "from sys import stdout  # sys.stdout textový proud směrovaný na standardní výstup\n",
    "from math import pi\n",
    "\n",
    "w = writer(stdout, delimiter=\";\")\n",
    "\n",
    "w.writerow([\"altitude\", str(pi).replace(\".\",\",\") , 5, 'text s \"uvozovkami\"'])"
   ]
  },
  {
   "cell_type": "markdown",
   "metadata": {},
   "source": [
    "### Získávaní textových dat z Internetu \n",
    "\n",
    "Lokální soubory tvoří dnes jen menší část dostupných dat. Většina aplikací využívá primárně dat z Internetu. Ty jsou ve valné míře dostupné prostřednictvím HTTP (resp. HTTPS) protokolu.\n",
    "\n",
    "Podporu HTTP resp. HTTPS protokolu nabízí samozřejmě i standardní knihovna Pythonu (modul `urllib.request`). V praxi se však používa více externí balík `requests` (neboli *HTTP for Humans*)."
   ]
  },
  {
   "cell_type": "code",
   "execution_count": 49,
   "metadata": {},
   "outputs": [
    {
     "name": "stdout",
     "output_type": "stream",
     "text": [
      "Requirement already satisfied: requests in /home/fiser/storage/apps/intelpython3/lib/python3.6/site-packages (2.18.4)\n",
      "Requirement already satisfied: chardet<3.1.0,>=3.0.2 in /home/fiser/storage/apps/intelpython3/lib/python3.6/site-packages (from requests) (3.0.4)\n",
      "Requirement already satisfied: idna<2.7,>=2.5 in /home/fiser/storage/apps/intelpython3/lib/python3.6/site-packages (from requests) (2.6)\n",
      "Requirement already satisfied: urllib3<1.23,>=1.21.1 in /home/fiser/storage/apps/intelpython3/lib/python3.6/site-packages (from requests) (1.22)\n",
      "Requirement already satisfied: certifi>=2017.4.17 in /home/fiser/storage/apps/intelpython3/lib/python3.6/site-packages/certifi-2017.7.27.1-py3.6.egg (from requests) (2017.7.27.1)\n",
      "\u001b[31mtensorflow 1.3.1 requires tensorflow-tensorboard<0.2.0,>=0.1.0, which is not installed.\u001b[0m\n",
      "\u001b[31mtensorflow 1.3.1 has requirement protobuf>=3.3.0, but you'll have protobuf 3.2.0 which is incompatible.\u001b[0m\n",
      "\u001b[33mYou are using pip version 10.0.1, however version 18.0 is available.\n",
      "You should consider upgrading via the 'pip install --upgrade pip' command.\u001b[0m\n"
     ]
    }
   ],
   "source": [
    "!pip install requests"
   ]
  },
  {
   "cell_type": "markdown",
   "metadata": {},
   "source": [
    "Zkusme nejdříve jednoduchý příklad, načtení textového souboru."
   ]
  },
  {
   "cell_type": "code",
   "execution_count": 57,
   "metadata": {},
   "outputs": [
    {
     "name": "stdout",
     "output_type": "stream",
     "text": [
      "﻿Project Gutenberg's Alice's Adventures in Wonderland, by Lewis Carroll\r\n",
      "\r\n",
      "This eBook is for the use\n"
     ]
    }
   ],
   "source": [
    "import requests\n",
    "\n",
    "response = requests.get(\"https://www.gutenberg.org/ebooks/28885.txt.utf-8\")\n",
    "print(response.text[:100])"
   ]
  },
  {
   "cell_type": "markdown",
   "metadata": {},
   "source": [
    "Jak je vidět získání textového obsahu vyžaduje jen dva snadné kroky. Za prvé volání funkce `requests.get`, jejímž parametrem je URL příslušného souboru (zde je to textový obsah Alenčiných dobrodružství nabízený projektem *Guttenberg*). To může chvíli trvat, ale po skončení je vrácen objekt representující odpověď webového serveru (tzv. *response*). \n",
    "\n",
    "Tento objekt nabízí velké množství atributů, z nichž nás v tuto chvíli zajímá atribut `text`. Ten vrací textový obsah jako jeden velký řetězec (pro úsporu místa vypisuji jen prvních 100 znaků)."
   ]
  },
  {
   "cell_type": "markdown",
   "metadata": {},
   "source": [
    "**Řešený příklad**\n",
    "\n",
    "Stažení tak velkého textového obsahu využijeme pro rozšíření vašich znalostí o regulárních výrazech. Naším úkolem bude zjistit kolikrát se v anglickém originálu Alenčiných dobrodružství vyskytuje Alenčino jméno.\n",
    "\n",
    "Přímočaré řešení je jednoduché. Rozložíme řetězec na jednotliví slova a spočítáme, kolik z nich je rovno řetězci `Alice` (použijeme generátorový výraz a nám již známé počítání jedniček)."
   ]
  },
  {
   "cell_type": "code",
   "execution_count": 3,
   "metadata": {},
   "outputs": [
    {
     "data": {
      "text/plain": [
       "160"
      ]
     },
     "execution_count": 3,
     "metadata": {},
     "output_type": "execute_result"
    }
   ],
   "source": [
    "import requests\n",
    "\n",
    "response = requests.get(\"https://www.gutenberg.org/ebooks/28885.txt.utf-8\")\n",
    "text = response.text\n",
    "\n",
    "sum(1 for word in text.split(\" \") if word == \"Alice\")"
   ]
  },
  {
   "cell_type": "markdown",
   "metadata": {},
   "source": [
    "Výstup vypadá rozumně, je však chybný. Problém je v tom, že jméno Alice může být obklopeno i jinými znaky než jen mezerami (například odřádkováním, čárkou, tečkou, apod.) Řešení je to také dosti neefektivní neboť metoda `str.split` vrací seznam řetězců (o mnoha tisící položkách) nikoliv lenivý iterátor (použití generátorového výrazu to neřeší, ten již pracuje nad seznamem řetězců, a zabrání pouze vzniku seznamu cca 160 jedniček). "
   ]
  },
  {
   "cell_type": "markdown",
   "metadata": {},
   "source": [
    "Řešení nabízí modul `re` (regulární výrazy), který nabízí metodu `finditer`, která vrací lenivý iterátor přes výskyty podřetězců, které odpovídají regulárnímu výrazu."
   ]
  },
  {
   "cell_type": "code",
   "execution_count": 4,
   "metadata": {},
   "outputs": [
    {
     "data": {
      "text/plain": [
       "402"
      ]
     },
     "execution_count": 4,
     "metadata": {},
     "output_type": "execute_result"
    }
   ],
   "source": [
    "from re import finditer\n",
    "sum(1 for _ in finditer(\"Alice\", text))"
   ]
  },
  {
   "cell_type": "markdown",
   "metadata": {},
   "source": [
    "Stručné, přehledné a správné. Jediné, co je nutno v některých situacích zohlednit, je skutečnost, že funkce nedokáže najít překrývající se výskyty vzorů."
   ]
  },
  {
   "cell_type": "code",
   "execution_count": 7,
   "metadata": {},
   "outputs": [
    {
     "data": {
      "text/plain": [
       "[<_sre.SRE_Match object; span=(0, 3), match='aba'>]"
      ]
     },
     "execution_count": 7,
     "metadata": {},
     "output_type": "execute_result"
    }
   ],
   "source": [
    "list(finditer(\"aba\", \"ababa\"))"
   ]
  },
  {
   "cell_type": "markdown",
   "metadata": {},
   "source": [
    "Jak je vidět funkce `finditer` našla jeden výskyt (od indexu 0 do indxu 2 včetně), i když se podřetězec \"aba\" nachází i od indexu 2.  "
   ]
  },
  {
   "cell_type": "markdown",
   "metadata": {},
   "source": [
    "[konec řešeného  příkladu]"
   ]
  },
  {
   "cell_type": "markdown",
   "metadata": {},
   "source": [
    "Stažení a zpracování běžného textového souboru je sice užitečné, avšak v praxi se většina textového a datového obsahu na Internetu je uložena ve formě strukturovaných textových dat (a samozřejmě i multimediálních souborů).\n",
    "\n",
    "Mezi nejdůležitější univerzální textové formáty patří HTML, XML a JSON.  Nejjednodušší z nich je JSON, který je hojně využíván v rámci tzv. webových služeb. Webová služba nabízí strukturovaná data (typicky právě ve formátu JSON) jako odpověď na HTTP požadavek GET s určitým URL. Typicky se tak poskytují informace o počasí, dopravní situaci, geografické informace, rozhraní ke cloudovým službám, sociálním sítím a mnoho dalšího.\n",
    "\n",
    "Podívejme se například na následující URL:\n",
    "\n",
    "`https://samples.openweathermap.org/data/2.5/weather?q=London,uk&appid=b6907d289e10d714a6e88b30761fae22`\n",
    "\n",
    "Tato URL adresa umožňuje využít testovací verzi webové služby nabízené portálem `Open Weather Map`, která obecně  poskytuje meteorologické informace pro libovolné místo na Zemi (aktuální stav počasí, předpověď, klimatologická data). V tomto konkrétním případě nevrací reálná data, ale jen náhodnou ukázku formátu dat, která ve své reálné podobě popisují aktuální meteorologickou situaci. Na druhou stranu testovací ukázka nevyžaduje registraci.\n",
    "\n",
    "URL webové služby má typicky dvě části:\n",
    "\n",
    "1. **endpoint**: úvodní část URL, která jednoznačně identifikuje webovou službu a tím i druh poskytovaných dat. V našem případě je *endpoint* určen URL `https://samples.openweathermap.org/data/2.5/weather`.\n",
    "\n",
    "2. **parametry služby**: parametry služby tvoří část URL po otazníku a jsou tvořeny dvojicemi klíč (=) hodnota (jednotlivé dvojice jsou odděleny znakem `&`). Význam jednotlivých klíčů (přesněji hodnot tímto klíčem určených je popsáno v dokumentaci wbové služby).\n",
    "\n",
    "  V našem případě jsou použity dva klíče: klíč `q` obsahuje identifikaci místa, pro které chceme získat meteorologická data. Jednou z možností specifikace je jméno místa doplněné zkratkou státu (v ukázkové službě nelze použít jiné než Londýn). Druhým klíčem, je tzv *API key*, který získáte při registraci a identifikuje žadatele o data. Lze tak provádět účtování (u placených služeb) resp. omezení přenosového pásma (u nepalcených, většinou máte stanoven maximální počet požadavků za nějakou časovou jednotku). \n",
    "  \n",
    "Ukažme si nejdříve jak specifikovat požadavek na WWW server. I když lze URL předat jako celek (jak *endpoint* tak parametry), výhodnější individuální specifikace parametrů. Je to jednak pružnější (snadno lze měnit jednotlivé parametry např. lokaci), jednak pohodlnější (v rámci hodnot parametrů je nutné kódovat některé znaky, které jsou v URL nepřípustné, včetně např. mezer)."
   ]
  },
  {
   "cell_type": "code",
   "execution_count": 11,
   "metadata": {},
   "outputs": [
    {
     "name": "stdout",
     "output_type": "stream",
     "text": [
      "{\"coord\":{\"lon\":-0.13,\"lat\":51.51},\"weather\":[{\"id\":300,\"main\":\"Drizzle\",\"description\":\"light intensity drizzle\",\"icon\":\"09d\"}],\"base\":\"stations\",\"main\":{\"temp\":280.32,\"pressure\":1012,\"humidity\":81,\"temp_min\":279.15,\"temp_max\":281.15},\"visibility\":10000,\"wind\":{\"speed\":4.1,\"deg\":80},\"clouds\":{\"all\":90},\"dt\":1485789600,\"sys\":{\"type\":1,\"id\":5091,\"message\":0.0103,\"country\":\"GB\",\"sunrise\":1485762037,\"sunset\":1485794875},\"id\":2643743,\"name\":\"London\",\"cod\":200}\n"
     ]
    }
   ],
   "source": [
    "import requests\n",
    "\n",
    "response = requests.get(\"https://samples.openweathermap.org/data/2.5/weather\", \n",
    "                        params={\"q\": \"London,uk\", \n",
    "                          \"appid\": \"b6907d289e10d714a6e88b30761fae22\"})\n",
    "print(response.text)"
   ]
  },
  {
   "cell_type": "markdown",
   "metadata": {},
   "source": [
    "Pojmenovaný parametr `params` definuje parametry dotazu v podobě tzv. slovníku. Slovník je kolekce, která ukládá hodnoty opatřené tzv. klíčem (klíčem je typicky řetězec). Tento konterjner je optimální pro representaci parametrů dotazu, které jsou také representovány dvojicí klíč a hodnota (Pythonské slovníky jsou však obecnější neboť klíčem i hodnotou mohou být objekty různých tříd nikoliv jen řetězce)-\n",
    "\n",
    "Výsledkem požadavku je text tvořený textem, který se podobá zápisu pythonského slovníku, jehož hodnotami mohou být další slovníky (ve složených závorkách), seznamy (v hranatých závorkách) resp. číselné nebo řetězcové hodnoty. Není to tak docela pravda (zápis odpovídá jinému jazyku tzv. Javascriptu) lze jej však bez problémů převést do slovníku, jehož hodnotami jsou i slovníky, řetězce nebo jednoduché hodnoty. Pak už je snadné získávat jednotlivé prvky složeného objektu.\n",
    "\n",
    "V případě modulu `requests` je to zvlášť snadné, stačí namísto atributu `text` použít metodu `json`, která za Vás převod na pythonský slovník provede za Vás."
   ]
  },
  {
   "cell_type": "code",
   "execution_count": 18,
   "metadata": {},
   "outputs": [
    {
     "data": {
      "text/plain": [
       "{'base': 'stations',\n",
       " 'clouds': {'all': 90},\n",
       " 'cod': 200,\n",
       " 'coord': {'lat': 51.51, 'lon': -0.13},\n",
       " 'dt': 1485789600,\n",
       " 'id': 2643743,\n",
       " 'main': {'humidity': 81,\n",
       "  'pressure': 1012,\n",
       "  'temp': 280.32,\n",
       "  'temp_max': 281.15,\n",
       "  'temp_min': 279.15},\n",
       " 'name': 'London',\n",
       " 'sys': {'country': 'GB',\n",
       "  'id': 5091,\n",
       "  'message': 0.0103,\n",
       "  'sunrise': 1485762037,\n",
       "  'sunset': 1485794875,\n",
       "  'type': 1},\n",
       " 'visibility': 10000,\n",
       " 'weather': [{'description': 'light intensity drizzle',\n",
       "   'icon': '09d',\n",
       "   'id': 300,\n",
       "   'main': 'Drizzle'}],\n",
       " 'wind': {'deg': 80, 'speed': 4.1}}"
      ]
     },
     "execution_count": 18,
     "metadata": {},
     "output_type": "execute_result"
    }
   ],
   "source": [
    "data = response.json()\n",
    "data"
   ]
  },
  {
   "cell_type": "markdown",
   "metadata": {},
   "source": [
    "Výsledkem je slovník, který je vypsán v poněkud přehlednější podobě (navíc si můžete všimnout drobných rozdílu oproti původnímu textu ve formátu JSON jako je uspořádání klíčů a použití apostrofů namísto uvozovek, obojí však nemá žádný sémantický význam). \n",
    "\n",
    "Hlavním důvodem převodu na pythonský složený objekt však není hezčí výpis (který navíc funguje jen v Jupyter notebooku). Nyní lze totiž jednodušeji přistupovat k dílčím položkám. Například pro přístup k teplotě lze využít následující zápis:"
   ]
  },
  {
   "cell_type": "code",
   "execution_count": 20,
   "metadata": {},
   "outputs": [
    {
     "data": {
      "text/plain": [
       "280.32"
      ]
     },
     "execution_count": 20,
     "metadata": {},
     "output_type": "execute_result"
    }
   ],
   "source": [
    "data[\"main\"][\"temp\"]"
   ]
  },
  {
   "cell_type": "markdown",
   "metadata": {},
   "source": [
    "Slovník se zde chová trochu jako seznam. Pro přístup k položkám se využívá indexace (hranaté závorky za objektem), namísto pozičního (čísleného) indexu se však použije klíč (zde tedy řetězec). Nejdříve proto získáme hodnotu odpovídající atributu \"main\" ve slovníku nejvyšší úrovně. To je opět slovník, takže můžeme ihned aplikovat další index (`temp`), čímž získáme hodnotu odpovídající příslušnému klíči ve vnořeném slovníku. Je zřejmé, že teplota není ve stupních Celsia (to bychom londýňanům nepřáli), ale v Kelvinech (*OpenWeatherMap*  používá jen základní SI jednotky). \n",
    "\n",
    "Pro snadnější získání si vytvoříme funkci:"
   ]
  },
  {
   "cell_type": "code",
   "execution_count": 24,
   "metadata": {},
   "outputs": [
    {
     "data": {
      "text/plain": [
       "7.2"
      ]
     },
     "execution_count": 24,
     "metadata": {},
     "output_type": "execute_result"
    }
   ],
   "source": [
    "def getTemperature(d):\n",
    "    return round(d[\"main\"][\"temp\"] - 273.15, 1) # převod na stupně Celsia a zaokrouhlení na jedno desetinné\n",
    "\n",
    "getTemperature(data)"
   ]
  },
  {
   "cell_type": "markdown",
   "metadata": {},
   "source": [
    "> **Úkol**: Vytvořte funkci, která ze slovníku vyextrahuje rychlost větru (a přepočte na km/h) a funkci vracející čas východu Slunce (jako objekt `datatime.time`)."
   ]
  },
  {
   "cell_type": "code",
   "execution_count": 30,
   "metadata": {
    "tags": [
     "h"
    ]
   },
   "outputs": [
    {
     "name": "stdout",
     "output_type": "stream",
     "text": [
      "14.76\n",
      "08:40:37\n"
     ]
    }
   ],
   "source": [
    "import datetime\n",
    "\n",
    "def getWindSpeed(d):\n",
    "    return d[\"wind\"][\"speed\"] * 3.6  # převod z m/s na km/h\n",
    "\n",
    "def sunrise(d):\n",
    "    return datetime.datetime.fromtimestamp(d[\"sys\"][\"sunrise\"]).time()\n",
    "\n",
    "print(getWindSpeed(data))\n",
    "print(sunrise(data))"
   ]
  },
  {
   "cell_type": "markdown",
   "metadata": {
    "tags": [
     "h"
    ]
   },
   "source": [
    "Čas západu Slunce je v unixovském (POSIX) času (počet sekund od 1.1.1970 UTC). Pro převod na objekt `datetime.datetime` je použita třídní metoda `fromtimestamp`, jíž je předáno číslo získané ze slovníku.  Následně je získán denní čas (datum nás nezajímá). Pozor, čas je v lokálním čase uživatele (= systému) ne v čase lokace (tj. například u mne je ve středoevropském čase, nikoliv v UTC platném v Londýně)."
   ]
  },
  {
   "cell_type": "markdown",
   "metadata": {},
   "source": [
    "** Řešený příklad**\n",
    "\n",
    "I když jsou ukázková data užitečná, jistě chcete vyzkoušet i data reálná. To je možné, neboť data o aktuální meteorologické situace a krátkodobé předpovědi jsou u OpenWeatherMap zdarma (samozřejmě s omezením počtu dotazů, které je však rozumné,. maximálně 60 požadavků za minutu). \n",
    "\n",
    "Naším úkolem bude zobrazit předpověd teploty v nejbližších pěti dnech pro místo Vašeho pobytu (nebo místo blízké).\n",
    "\n",
    "Prvním úkolem pro Vás je registrace v *OpenWeatherMap* (stačí free účet) a získání API klíče (vše je jednoduché a dobře dokumentované). Získaný API klíč uložte do souboru open_weather_map v nějakém rozumném adresáři/složce (cestu k němu si zapamatujte!)"
   ]
  },
  {
   "cell_type": "markdown",
   "metadata": {},
   "source": [
    "Nejdříve si přípravíme funkci pro přečtení API klíče ze souboru. Ten nebudeme z bezpečnostních důvodů uvádět přímo v programu (API klíč by měl zůstat stejný, jinak mohou ostatní čerpat z Vašeho přídělu)."
   ]
  },
  {
   "cell_type": "code",
   "execution_count": 32,
   "metadata": {
    "collapsed": true
   },
   "outputs": [],
   "source": [
    "def get_api_key(filename):\n",
    "    with open(filename, \"rt\") as stream:\n",
    "        return stream.readline().strip()\n",
    "\n",
    "# get_api_key(\"/home/fiser/credentials/open_weather_map\")"
   ]
  },
  {
   "cell_type": "markdown",
   "metadata": {},
   "source": [
    "Nyní již můžeme načíst data. Nejdříve si připravíme URL endpointu (převzat z dokumentace \n",
    "https://openweathermap.org/forecast5) a parametry webové služby (lokalitu, aplikčaní klíč přečtený ze souboru, a požadovaný formát odpovědi, zde *json*).\n",
    "\n",
    "Získaný JSON je v tomto případě rozsáhlejší. Na nejvyšší úrovni nás zajímá atribut `list` obsahující seznam předpokládaných meteorologických údajů na 5 dnů s krokem 3 hodiny tj. s 40 položkami. Výpis první položky seznamu na konci kódu ukazuje jejich strukturu (je to opět slovník s mnoha atributy)"
   ]
  },
  {
   "cell_type": "code",
   "execution_count": 74,
   "metadata": {},
   "outputs": [
    {
     "name": "stdout",
     "output_type": "stream",
     "text": [
      "40\n"
     ]
    },
    {
     "data": {
      "text/plain": [
       "{'clouds': {'all': 36},\n",
       " 'dt': 1533826800,\n",
       " 'dt_txt': '2018-08-09 15:00:00',\n",
       " 'main': {'grnd_level': 995.33,\n",
       "  'humidity': 45,\n",
       "  'pressure': 995.33,\n",
       "  'sea_level': 1025.09,\n",
       "  'temp': 305.32,\n",
       "  'temp_kf': 0.05,\n",
       "  'temp_max': 305.32,\n",
       "  'temp_min': 305.268},\n",
       " 'sys': {'pod': 'd'},\n",
       " 'weather': [{'description': 'scattered clouds',\n",
       "   'icon': '03d',\n",
       "   'id': 802,\n",
       "   'main': 'Clouds'}],\n",
       " 'wind': {'deg': 108, 'speed': 4.71}}"
      ]
     },
     "execution_count": 74,
     "metadata": {},
     "output_type": "execute_result"
    }
   ],
   "source": [
    "import requests\n",
    "import datetime    \n",
    "    \n",
    "endpoint = \"http://api.openweathermap.org/data/2.5/forecast\"\n",
    "params = {  # slovník parametrů\n",
    "    \"q\" : \"Dobříň\", # jméno lokality (nahraďte za místo Vašeho pobytu)\n",
    "     \"appid\" : get_api_key(\"/home/fiser/credentials/open_weather_map\"),\n",
    "    \"mode\" : \"json\" # formát výstupu\n",
    "}\n",
    "\n",
    "data= requests.get(endpoint, params).json()   # načtení JSON dat a jejich převod do slovníku\n",
    "\n",
    "print(len(data[\"list\"])) # zkontrolujeme počet\n",
    "\n",
    "data[\"list\"] [0] # kontrolní výpis první položky"
   ]
  },
  {
   "cell_type": "markdown",
   "metadata": {},
   "source": [
    "Každá položka obsahuje velké množství meteorologický údajů, z  nichž ty nejdůležitější jsou soustředěny v rámci hodnoty s klíčem `main`.  Důležitý je i časový údaj, který nalezneme označený klíčem `dt` (unixový čas). Čas je sice dostupný i v textové podobě, avšak jen ve světovém čase (UTC).\n",
    "\n",
    "Pro extrakci těchto dat využijeme seznamovou komprehenzi, která prochází jednotlivé prvky seznamu `data[\"list\"]` a vytváří seznam pro nás zajímavých údajů (tj. seznam dat a seznam teplot ve stupních Celsia). "
   ]
  },
  {
   "cell_type": "code",
   "execution_count": 77,
   "metadata": {},
   "outputs": [
    {
     "name": "stdout",
     "output_type": "stream",
     "text": [
      "[datetime.datetime(2018, 8, 9, 17, 0), datetime.datetime(2018, 8, 9, 20, 0)]\n",
      "[32.2, 30.4, 24.2, 21.8, 21.1, 21.2, 20.3, 22.2, 23.9, 21.5, 16.4, 13.6, 11.5, 15.8, 22.4, 24.6, 24.0, 21.1, 17.2, 13.3, 10.1, 15.5, 21.3, 24.7, 26.4, 23.6, 16.7, 14.3, 12.1, 19.3, 26.1, 30.4, 31.5, 27.7, 20.0, 17.8, 17.0, 16.8, 20.1, 22.9]\n"
     ]
    }
   ],
   "source": [
    "# z každé položky vyextrahuje hodnotu s klíčem `dt` a převede na `datetime.datetime`\n",
    "times = [datetime.datetime.fromtimestamp(item[\"dt\"]) for item in data[\"list\"]]\n",
    "# z každé položky vyextrahuje teplotu, převede na stupně Celsia a zaokrouhlí na jedno desetinné místo \n",
    "temperatures = [round(item[\"main\"][\"temp\"] - 273.15, 1) for item in data[\"list\"]]\n",
    "\n",
    "print(times[:2]) # pro zkrácení vypíšeme jen první dva prvky\n",
    "print(temperatures)"
   ]
  },
  {
   "cell_type": "markdown",
   "metadata": {},
   "source": [
    "Nyní už data máme vyextrahována, nejsou však příliš přehledná (dokážete odpověděť jaká nejnižší teplota je předpovídána na zítra?). Nejjednoduší cestou vizualizace je graf vytvořený pomocí balíku `matpolotlib` (který si tak zopakujeme a doplníme pár nových )."
   ]
  },
  {
   "cell_type": "code",
   "execution_count": 79,
   "metadata": {},
   "outputs": [
    {
     "data": {
      "text/plain": [
       "[<matplotlib.lines.Line2D at 0x7fe305f6b3c8>]"
      ]
     },
     "execution_count": 79,
     "metadata": {},
     "output_type": "execute_result"
    },
    {
     "data": {
      "image/png": "[encoded data removed]",
      "text/plain": [
       "<matplotlib.figure.Figure at 0x7fe3242d3400>"
      ]
     },
     "metadata": {},
     "output_type": "display_data"
    }
   ],
   "source": [
    "%matplotlib inline\n",
    "\n",
    "import matplotlib.pyplot as plt\n",
    "import matplotlib.dates as mdates\n",
    "import matplotlib.ticker as ticker\n",
    "\n",
    "fig, axes = plt.subplots()  # pro lepší nastavení potřebujeme získat odkaz na objekt třídy `Axes`\n",
    "axes.xaxis.set_major_formatter(mdates.DateFormatter(\"%-d.%-m\"))  # nastavení formátu hlavních popisek\n",
    "axes.yaxis.set_major_locator(ticker.MultipleLocator(5))  # nastavení intervalu hlavního kroku na ose `y`\n",
    "axes.yaxis.set_minor_locator(ticker.MultipleLocator(1))  # nastavení intervalu vedlejšího kroku na ose `y`\n",
    "axes.xaxis.set_minor_locator(mdates.HourLocator(interval=6))  # nastavení intervalu vedlejšího kroku `x`\n",
    "axes.set_xlim(times[0].date(), times[-1].date() + datetime.timedelta(days=1))  # nastavení rozsahu osy `x`\n",
    "axes.grid(True, which=\"major\", color=\"k\")  # nastavení hlavní mřížky\n",
    "axes.grid(True, which=\"minor\", linestyle=\"--\")  # nastavení vedlejší mřížky\n",
    "\n",
    "axes.set_ylabel(\"teplota (°C)\") # název osy `y`\n",
    "\n",
    "plt.plot(times, temperatures) # a nyní můžeme konečně graf vykreslit"
   ]
  },
  {
   "cell_type": "markdown",
   "metadata": {},
   "source": [
    "Skript pro vykreslení grafu má jen jediný povinný řádek, a to poslední s voláním metody `plot`.Vše ostatní je konfigurace vzhledu. Abychom mohli vzhled grafu nastavit, potřebujeme získat objekt representující tu část obrázku, která je řízena osami (kromě vlastních os do ní patří i mřížka, různé popisky, atd.).\n",
    "\n",
    "Voláním funkce `mathplotlib.pyplot.subplots` získáme dvojici hodnot: jedna representuje obrázek jako celek (třída `Figure`), druhá pak výše zmíněný prostor daný osami (třída `Axes`). První je označena proměnou `fig` (díle už ji nevyužíváme), druhá pak proměnou `axes`.\n",
    "\n",
    "Nad objektem os lze volat velké množství metod, z nichž využíváme ty, které nastavují popisky os (angl. *ticks* a mřížky). U osy `y` nastavuje interval hlavního kroku (popisek) na 5 a vedlejšího na 1 (stupeň Celsia).  Může se to zdát trochu složité, neboť parametrem těchto metod není číslo, ale objekt třídy `matplotlib.ticker.MultipleLockator`. *Matplotlib* však kromě fixního kroku podporuje i mnoho sofistikovanějších specifikací inetrvalů, které nemusí být konstantní.\n",
    "\n",
    "U osy `x` nastavujeme interval vedlejších popisek na 6 hodin (interval hlavních popisek je automaticky 1 den, což nám vyhovuje). Upravíme i formát hlavních popisek (formát je shodný s metodou `datetime.datetime.strftime`, který již známe).\n",
    "\n",
    "Poté nastavíme i mřížky (hlavní = *major* a vedlejší = *minor*). Specifikace vychází z frameworku Matlab a je pro začátečníky dost kryptická. Hlavní barvy jsou označeny jedním písmenem ('r' = *red*, 'b' = *blue*, černá je však `k`!), styl čar symbolicky pomocí běžných znaků ('--' je čárkovaní čára). Další možnosti viz např. https://python-graph-gallery.com/cheat-sheets/).\n",
    "\n",
    "Zarovnání hlavních a vedlejších popisek na ose `x` vyžaduje, aby hodnoty na ose začínali v čase dělitelném šesti (0:00, 6:00, 12:00, 18:00). Zde je to dosaženo tím, že dolní limit je nastaven na půlnoc prvního dne (metoda `datetime.datetime` vrací objekt `datetime.date` representující půlnoc) a pro symetrii je nastaven i limit horní na půlnoc, která následuje za posledním časovým údajem (v případě půlnoci na následující půlnoc)."
   ]
  },
  {
   "cell_type": "markdown",
   "metadata": {},
   "source": [
    "> ** Úkol**: Zobrazte do jednoho grafu očekávaný tlak (přepočtený na hladinu moře) a vlhkost. Obě veličiny se liší v řádech proto použijte sekundární osu `y`.\n",
    "\n",
    "> Rada: viz https://matplotlib.org/gallery/api/two_scales.html"
   ]
  },
  {
   "cell_type": "code",
   "execution_count": 85,
   "metadata": {
    "tags": [
     "h"
    ]
   },
   "outputs": [
    {
     "name": "stdout",
     "output_type": "stream",
     "text": [
      "[1023.64, 1024.46, 1026.84, 1030.22, 1033.35, 1035.13, 1035.46, 1035.65, 1036.17, 1037.14, 1037.17, 1039.1, 1037.07, 1038.84, 1033.88, 1032.82, 1033.69, 1034.81, 1035.32, 1035.46, 1034.95, 1033.69, 1031.54, 1029.38, 1027.99, 1027.59, 1026.95, 1026.49, 1026.17, 1025.37, 1023.41, 1024.36, 1019.88, 1020.22, 1020.53, 1021.51, 1023.04, 1023.79, 1023.7, 1023.58]\n",
      "[52, 59, 72, 73, 65, 72, 56, 48, 49, 52, 64, 80, 65, 52, 44, 42, 43, 51, 62, 84, 64, 48, 39, 34, 42, 66, 70, 83, 70, 48, 36, 29, 37, 65, 82, 86, 93, 83, 61, 52]\n"
     ]
    }
   ],
   "source": [
    "# tato část je beze znměny\n",
    "\n",
    "import requests\n",
    "import datetime    \n",
    "    \n",
    "endpoint = \"http://api.openweathermap.org/data/2.5/forecast\"\n",
    "params = {  # slovník parametrů\n",
    "    \"q\" : \"Dobříň\", # jméno lokality (nahraďte za místo Vašeho pobytu)\n",
    "     \"appid\" : get_api_key(\"/home/fiser/credentials/open_weather_map\"),\n",
    "    \"mode\" : \"json\" # formát výstupu\n",
    "}\n",
    "\n",
    "data= requests.get(endpoint, params).json()   # načtení JSON dat a jejich převod do slovníku\n",
    "\n",
    "# extrakce do pole hodnot s liší jen v použitém jménu klíčů u tlaku a vlhkosti (chybí také přepočet)\n",
    "times = [datetime.datetime.fromtimestamp(item[\"dt\"]) for item in data[\"list\"]]\n",
    "pressures = [item[\"main\"][\"sea_level\"] for item in data[\"list\"]]\n",
    "humidities = [item[\"main\"][\"humidity\"] for item in data[\"list\"]]\n",
    "\n",
    "print(pressures)\n",
    "print(humidities)"
   ]
  },
  {
   "cell_type": "code",
   "execution_count": 97,
   "metadata": {
    "tags": [
     "h"
    ]
   },
   "outputs": [
    {
     "data": {
      "text/plain": [
       "[<matplotlib.lines.Line2D at 0x7fe304ff6c88>]"
      ]
     },
     "execution_count": 97,
     "metadata": {},
     "output_type": "execute_result"
    },
    {
     "data": {
      "image/png": "[encoded data removed]",
      "text/plain": [
       "<matplotlib.figure.Figure at 0x7fe30525b080>"
      ]
     },
     "metadata": {},
     "output_type": "display_data"
    }
   ],
   "source": [
    "%matplotlib inline\n",
    "\n",
    "import matplotlib.pyplot as plt\n",
    "import matplotlib.dates as mdates\n",
    "import matplotlib.ticker as ticker\n",
    "\n",
    "fig, axes = plt.subplots()  # pro lepší nastavení potřebujeme získat odkaz na objekt třídy `Axes`\n",
    "axes.xaxis.set_major_formatter(mdates.DateFormatter(\"%-d.%-m\"))  # nastavení formátu hlavních popisek\n",
    "axes.xaxis.set_minor_locator(mdates.HourLocator(interval=6))  # nastavení intervalu vedlejšího kroku `x`\n",
    "axes.set_xlim(times[0].date(), times[-1].date() + datetime.timedelta(days=1))  # nastavení rozsahu osy `x`\n",
    "axes.grid(True, which=\"major\", color=\"k\")  # nastavení hlavní mřížky\n",
    "axes.grid(True, which=\"minor\", linestyle=\"--\")  # nastavení vedlejší mřížky\n",
    "\n",
    "axes.set_ylabel(\"tlak (hPa)\") # název osy `y`\n",
    "\n",
    "axes.plot(times, pressures)\n",
    "\n",
    "axes2 = axes.twinx() # přidáme druhou osu\n",
    "# a pak ji nastavíme\n",
    "axes.set_xlim(times[0].date(), times[-1].date() + datetime.timedelta(days=1)) # nutno nastavit i zde!\n",
    "axes2.set_ylabel(\"vlhkost (%)\")\n",
    "\n",
    "axes2.plot(times, humidities, color=\"r\")  # červeně pro odlošení"
   ]
  },
  {
   "cell_type": "markdown",
   "metadata": {
    "tags": [
     "h"
    ]
   },
   "source": [
    "Vložení sekundární osy se provádí voláním metody `twinx` na objektu hlavních os. Vrací nový objekt os, který je možné do určité míry kustomizovat nezávisle. Nstavení limitů osy `x` musí však být stejné (a musí se explicitně uvádět, jinak se zvolí automatické, které překryje nastavení u primárních os). Lze dokonce nastavit i vlastní mřížku (výsledek však vypada strašně, ale zkuste si to)."
   ]
  },
  {
   "cell_type": "markdown",
   "metadata": {
    "collapsed": true
   },
   "source": [
    "## Vlastní třídy\n",
    "\n",
    "I když Python nabízí ve svých standardních knihovnách velké množství tříd (minimálně stovky) a nezjistitelně velké množství tříd je v definováno v balících dostupných přes PiPY, stále existují reálné či myšlené objekty, pro něž prozatím neexistuje Pythonská třída, která by implementovala jejich model.\n",
    "\n",
    "Naštěstí všichni uživatelé Pythonu si mohou vytvářet třídy vlastní. A není to ani tak složité. Složitý však může být implementovaný model (např. model vesmíru nebo nákupní model celebrity).\n",
    "\n",
    "My však začneme něčím jednodušším. Budeme vytvářet velmi jednoduchý model kasičky (prasátka) do něhož můžeme vkládat libovolné peněžní prostředky. Pro jednoduchost budeme předpokládat, že kasička je bezedná tj. lze do ní vložit libovolné množství peněz (obecně je velmi složité zjistit, kolik prostoru peníze zaujímají).\n",
    "\n",
    "Dále budeme předpokládat následující chování:\n",
    "*  kasičky nelze vyjímat peníze, lze ji jen rozbít a získat tak najednou celou sumu\n",
    "*  po rozbytí nelze kasičku už použít (nelze do ní vkládat peníze)\n",
    "\n",
    "Z modelu je navíc zřejmé, že každý objekt kasičky (může existovat libovolné množství objektů kasiček) by měl podporovat dvě metody (modelující možné interakce s kasičkou):\n",
    "\n",
    "1) metoda *pridej_penize* \n",
    "\n",
    "Tato metoda přijímá jako parametr obnos, což je kladné celé číslo (naše kasička nebude implementovat přidání zlomků základní pěněžní jednotky, pro koruny je to zbytečné). Přidáná suma není v našem modelu shora omezená (máme bezednou kasičku a koho by nepotěšilo například například přidání bilión korun).\n",
    "\n",
    "Pokud bude vše v pořádku, metoda nemusí nic vracet (jen změní stav kasičky). Je však jasné, že může dojít k problémům. Za prvé se někdo může pokusit přidat zápornou částku (a pokusit se tak vytáhnout peníze z kasičky bez jejího rozbití). V realitě to nejde, ale v Pythonu nezabráníme použití záporné hodnoty v parametru.\n",
    "\n",
    "Dalším typem problematického přidání je vkládání peněz do rozbité kasičky. To je podle našeho modelu nepřípustné (a ani v realitě to není snadné).\n",
    "\n",
    "Protože při běžném použití kasičky by k těmto problematickým voláním mělo docházet jen zřídka, budeme tito situace řešit výjimkou (výjimka by měla být reakce na výjimečnou situaci). Rozhodně nemůžeme tyto situace v ignorovat a to ani v počáteční fázi, neboť uživatelé by začali kasičku využívat \"netradičně\", a pak by byli překvapeni, že v nové verzi jim to nefunguje (uživatelem můžete být samozřejmě i autor třídy, obecně jsou to však jiní lidé).\n",
    "\n",
    "Ve skutečnosti jsme však nevyřešili všechny možné nedefinované či okrajové příklady. Co například přidání nulové částky? Je to trochu netradiční, ale můžeme to povolit (nemění to stav kasičky). Jak se postavíme k předání jiného než celočíselného (`int`) objektu. Můžeme se snažit přidat cokoliv:  číslo v pohyblivé řádové čárce (to by nemusel být takový problém), komplexní číslo (kasička s imaginární jednotkou korun?), řetězce, seznamy, jiné kasičky (ty mohou obsahovat jiné kasičky, takže můžeme dostat celý řetězec kasiček, navíc do kasičky lze vložit odkaz na sebe sama, to už je hluboký filozofický problém). I když běžné kasičky nejsou tak striktní (lze do nich vkládat i jiné věci než peníze), my všechny neceločíselné objekty zakážeme (při pokusu o přidání vyvoláme výjimku).\n",
    "\n",
    "2) metoda *rozbij*\n",
    "\n",
    "Tato metoda je mnohem jednodušší. Pokud není kasička rozbitá, pak ji rozbije (= změní její stav) a vrátí celkovou naspořenou částku (může to být i nula). Pokud je již rozbitá, pak vyvoláme výjimku (nemůžeme získat peníze z již rozbité kasičky!). Žádná další možnost již není (metodě nic nepředáváme, takže její výsledek je určen pouze stavem objektu)\n",
    "\n",
    "Nyní již máme vše připraveno k implementaci:"
   ]
  },
  {
   "cell_type": "code",
   "execution_count": 26,
   "metadata": {
    "collapsed": true
   },
   "outputs": [],
   "source": [
    "class Kasicka: # hlavička třídy\n",
    "    def __init__(self):  # konstruktor\n",
    "        self.castka = 0  # (počáteční) nastavení atributu\n",
    "        self.rozbita = False # (počáteční) nastavení atributu\n",
    "    def pridej_penize(self, castka):  # metoda\n",
    "        if not isinstance(castka, int):\n",
    "            raise Exception(\"Částka není celé číslo\")\n",
    "        if castka < 0:\n",
    "            raise Exception(\"Částka je záporná\")\n",
    "        if self.rozbita:\n",
    "            raise Exception(\"Kasička je rozbitá\")\n",
    "        self.castka += castka  # vlastní kód metody: zvýšení uložené částky o předanou částku\n",
    "    def rozbij(self):\n",
    "        if self.rozbita:\n",
    "            raise Exception(\"Kasička je rozbitá\")\n",
    "        self.rozbita = True\n",
    "        return self.castka # a nezapomeneme vrátit konečný stav peněz"
   ]
  },
  {
   "cell_type": "markdown",
   "metadata": {},
   "source": [
    "Implementace třídy začíná hlavičkou, která po kličovém slově `class` uvádí jméno třídy. V Pythonu neexistuje zcela jednotný úzus ohledně identifikátorů třídy. Klíčový dokument [PEP 8 -- Style Guide for Python Code](https://www.python.org/dev/peps/pep-0008/#class-names) doporučuje jména začínající velkým písmenem, bez použití podtržítek na  místě mezer (nová slova začínají velkým písmenem). Tuto konvenci budeme dodržovat. \n",
    "\n",
    "Jména vestavěných tříd (např. `int`, `str`) však tuto konvenci nedodržují, neboť jejich jména jsou úzce spojena se stejnojmenými vestavěnými funkcemi. Podobný zápis se však využívá i u tříd standardní knihovny (například `datetime.datetime`), kde je využíván pravděpodobně z historických důvodů.\n",
    "\n",
    "Hlavička třídy končí dvojtečkou, takže je jasné, že bude následovat odsazený blok (tzv. tělo třídy). Ten obsahuje definice metod, což jsou ve skutečnosti funkce volané nad objekty dané třídy.\n",
    "\n",
    "První z metod má podivný název `__init__` (dvě podtržítka na začátku a dvě na konci!). Metody začínající a končící dvěma podtržítky (v Pythonské slangu speciální, magické respektive *dunder* metody) mají v Pythonu pevně definovaný význam a téměř nikdy se nevolají přímo tj. zápisem `objekt.__method__()`.\n",
    "\n",
    "Metoda označená `__init` je tzv. **konstruktor**. Tato metoda se volá při vytváření/konstrukci objektu a její funkcí je vytvořit atributy objektu (definující jeho stav) a jejich inicializace tj. nastavení na počáteční hodnotu.\n",
    "\n",
    "Prvním parametrem konstruktoru je nově vytvořený, ale prozatím ještě prázdný a neinicializovaný objekt. Tento paarmetr se v Pythonu vždy označuje jménem `self` (vždy odkazuje na objekt nad kterým je metoda volána, resp. k níž patří tj. jakoby na sebe sama). \n",
    "\n",
    "Poznámka: Použití jména `self` není vynucováno překladačem (formálně může být použito jakékoliv jméno bez vypsání chyby). Je to však tak silná konvence, že její narušení se chápe jako závažná stylistická chyba. Je to podobné použití hovorového či dokonce vulgárního tvaru ve formálním dokumentu. Neovlivňuje to sice jeho čitelnost, může však vést k jeho odmítnutí komunitou (zde tedy ostatními programátory).\n",
    "\n",
    "Náš konstruktor nemá žádné další parametry, neboť bude vytvářet objekty s identickým obsahem. Náš nový objekt kasičky (dočasně označený proměnou/parametrem `self`) bude obsahovat dva atributy (atribut je něco jako interní proměnná spojená s daným objektem). Nejdříve nastavíme atribut částka (`self.castka`) tak, aby označoval objekt nula (třídy `int`), neboť kasička je na začátku prázdná (= obsahuje O jednotek měny).\n",
    "\n",
    "Druhý atribut `self.rozbita` určuje zda je kasička rozbitá (= `True`) nebo nikoliv (= `False`). Je zřejmé, že nové kasičky se nevyrábějí rozbité (tj. atribut má na počátku hodnotu `False`). \n",
    "\n",
    "Tím máme objekt plně inicializovaný. Vytváření objektu můžeme hned vyzkoušet. Objekt třídy se vytvoří použitím jména třídy jako funkce (s případnými parametry v kulatých závorkách). "
   ]
  },
  {
   "cell_type": "code",
   "execution_count": 9,
   "metadata": {
    "collapsed": true
   },
   "outputs": [],
   "source": [
    "prasatko = Kasicka() # vznikne nový objekt odkazovaný proměnnou `prasatko`"
   ]
  },
  {
   "cell_type": "markdown",
   "metadata": {},
   "source": [
    "Pro kontrolu lze vypsat hodnoty atributů nového objektu."
   ]
  },
  {
   "cell_type": "code",
   "execution_count": 10,
   "metadata": {},
   "outputs": [
    {
     "name": "stdout",
     "output_type": "stream",
     "text": [
      "0\n",
      "False\n"
     ]
    }
   ],
   "source": [
    "print(prasatko.castka)\n",
    "print(prasatko.rozbita)"
   ]
  },
  {
   "cell_type": "markdown",
   "metadata": {},
   "source": [
    "Další metodou je metoda přidávající peníze do prasátka (`pridej_penize`). I tato metoda stejně jako všechny metody nad objektem musí mít první první parametr `self`. Parametr označuje objekt, nad nímž se metoda volá (při volání je vlevo od tečky). V tomto případě však má i další parametr (`castka`), který se při volání předává běžným způsobem tj. v seznamu parametrů.\n",
    "\n",
    "Metoda může ve svém, těle využívat libovolné atributy a metody objektu. Může samozřejmě měnit i hodnoty atributů (mohou začít odkazovat na nové objekty či se změní odkazované objekty). V našem případě zvýšíme hodnotu atributu `self.castka` o číselnou hodnotu, jež je označena parametrem `castka`.\n",
    "\n",
    "I když má atribut stejné jméno jako parametr, jedná se o dvě různé proměnné (resp. označení). Zatímco parametr `castka` zanikne ihned pro dokončení volání metody (je to lokální proměnná), atribut existuje tak dlouho jako objekt, k němuž patří (tj. volání metody určitě přežije)."
   ]
  },
  {
   "cell_type": "markdown",
   "metadata": {},
   "source": [
    "Podívejme se na obrázek, který zobrazuje na co odkazují proměnné a atributy na začátku těla metody `pridej_penize` při jejím volání na prázdný objekt (odkazovaný globální proměnou `prasatko`) s přidávanou částkou 10."
   ]
  },
  {
   "cell_type": "code",
   "execution_count": 5,
   "metadata": {
    "collapsed": true
   },
   "outputs": [],
   "source": [
    "prasatko.pridej_penize(10)"
   ]
  },
  {
   "cell_type": "markdown",
   "metadata": {},
   "source": [
    "![Proměnné, parametry a atributy při volání metody](refinmethod.png)"
   ]
  },
  {
   "cell_type": "markdown",
   "metadata": {},
   "source": [
    "Jak lze vidět, objekt třídy odkazován dvěma proměnnými: globální proměnnou `prasatko` (platí v celém Jupyter notebooku) a prvním parametrem `self`. Uvnitř metody však používáme jen lokální proměnné a parametry, nebo uvnitř metody nevíme jaké existují globální proměnné resp. jaké objekty právě označují).  Stačí vědět, že parametr `self` označuje objekt, s nímž máme pracovat. Objekt samotný odkazuje pomocí svých atributů na další dva podobjekty (ty jsou primárně dostupné jen přes svůj rodičovský objekt). Všimněte si, že výraz `castka` (použije se parametr `castka`) odkazuje jiný objekt, než výraz `self.castka`."
   ]
  },
  {
   "cell_type": "markdown",
   "metadata": {},
   "source": [
    "> **Úkol**: Jak se obrázek změní po přidání/přičtení částky (tj. na konci metody)?"
   ]
  },
  {
   "cell_type": "markdown",
   "metadata": {
    "tags": [
     "h"
    ]
   },
   "source": [
    "Atribut `self` částka bude ukazovat na objekt `int:10`. Ten může být sdílen s parametrem `castka` nebo se může jednat o další kopii. Oba přístupy jsou identické, neboť objekty čísel nelze měnit. Jak bylo řečeno dříve, u malých čísel Python preferuje sdílení. \n",
    "\n",
    "Nový graf proměnných a objektů lze vidět na následujícím obrázku (objekt int:0 je šedý, neboť jej již nikdo neoznačuje a je tak de iure neexistující).\n",
    "\n",
    "![Proměnné, parametry a atributy při volání metody, stav 2](refinmethod2.png)"
   ]
  },
  {
   "cell_type": "markdown",
   "metadata": {},
   "source": [
    "> **Úkol:**: Jak vypadá systém proměnných po dokončení volání funkce (po návratu do globálního kontextu)?"
   ]
  },
  {
   "cell_type": "markdown",
   "metadata": {
    "collapsed": true,
    "tags": [
     "h"
    ]
   },
   "source": [
    "Po návratu zanikne lokální kontext a a všechny jeho (lokální) proměnné (`self` a `castka`). Objekt (a jeho podobjekty) však nezaniknou, neboť jsou odkazovány (označeny) proměnnou `prasatko`. Stav ukazuje poslední obrázek.\n",
    "\n",
    "![Proměnné, parametry a atributy při volání metody, stav 3](refinmethod3.png)"
   ]
  },
  {
   "cell_type": "markdown",
   "metadata": {},
   "source": [
    "Vraťme se ještě k metodě `pridej_penize`, která ještě před vlastní akci zvýšení uložené částky kontroluje přípustnost daného volání.\n",
    "\n",
    "Nejdříve kontroluje, zda je předaný objekt třídy `int`. K tomu využívá vestavěnou metodu `isinstance`. Ta očekává dva parametry: objekt a třídu. Vrací `True` je-li objekt instancí dané třídy."
   ]
  },
  {
   "cell_type": "code",
   "execution_count": 11,
   "metadata": {},
   "outputs": [
    {
     "data": {
      "text/plain": [
       "True"
      ]
     },
     "execution_count": 11,
     "metadata": {},
     "output_type": "execute_result"
    }
   ],
   "source": [
    "isinstance(2, int)"
   ]
  },
  {
   "cell_type": "code",
   "execution_count": 12,
   "metadata": {},
   "outputs": [
    {
     "data": {
      "text/plain": [
       "True"
      ]
     },
     "execution_count": 12,
     "metadata": {},
     "output_type": "execute_result"
    }
   ],
   "source": [
    "isinstance(\"Eldar\", str)"
   ]
  },
  {
   "cell_type": "code",
   "execution_count": 13,
   "metadata": {},
   "outputs": [
    {
     "data": {
      "text/plain": [
       "True"
      ]
     },
     "execution_count": 13,
     "metadata": {},
     "output_type": "execute_result"
    }
   ],
   "source": [
    "isinstance(prasatko, Kasicka) # je prasátko kasičkou"
   ]
  },
  {
   "cell_type": "markdown",
   "metadata": {},
   "source": [
    "Pokud není objekt předaný jako parametr třídy `int`, pak je vyvolána výjimka pomocí příkazu `raise`. Příkaz `raise` přeruší vykonávání programu a pokud program na výjimku nezareaguje (to zatím ještě neumíme) pak je i ukončen. Argumentem je nově vytvářený objekt výjimky (zde základní třídy `Exception`).\n",
    "\n",
    "> **Úkol**: Ověření na základě příslušnosti ke třídě `int` není optimální. Proč? Jak to napsat lépe?"
   ]
  },
  {
   "cell_type": "markdown",
   "metadata": {
    "tags": [
     "h"
    ]
   },
   "source": [
    "Problémem je skutečnost, že celá čísla mohou být representována i pomocí objektů třídy `float` (a dokonce i dalšími jako je `complex` nebo `fraction`). Základní možností je pokusit se o přetypování na celé číslo a zpět. Pokud obdržíme původní hodnotu, pak lze číslo representovat jako `int` a je tudíž celé. Bylo by to však nutné provést pro všechny potenciální číslené typy schopné uchovávat celá čísla. V praxi by tak mohlo stačit využití vestavěné metody `is_integer` třídy *float*."
   ]
  },
  {
   "cell_type": "code",
   "execution_count": 16,
   "metadata": {
    "tags": [
     "h"
    ]
   },
   "outputs": [
    {
     "name": "stdout",
     "output_type": "stream",
     "text": [
      "Celé číslo\n"
     ]
    }
   ],
   "source": [
    "# testovací prográmek\n",
    "x = 10.0  \n",
    "# zkuste i použití zlomeku, zamyšlete se nad výsledkem a jeho použitelností\n",
    "# import fractions\n",
    "# x = fractions.Fraction(6,2)\n",
    "if isinstance(x, int) or x.is_integer():\n",
    "    print(\"Celé číslo\")"
   ]
  },
  {
   "cell_type": "markdown",
   "metadata": {},
   "source": [
    "Testování dalších dvou podmínek použitelnosti metody je jednoduché (kladnost přidané částky a stav nerozbytí).\n",
    "\n",
    "Stejně tak jednoduchá je i implementace metody pro rozbití kasičky (kontrola a následná změna jediného atributu). Nynínovou třídu vyzkoušímě (a pro jistotu si vytvoříme novou kasičku)."
   ]
  },
  {
   "cell_type": "code",
   "execution_count": 21,
   "metadata": {},
   "outputs": [
    {
     "name": "stdout",
     "output_type": "stream",
     "text": [
      "1000001\n"
     ]
    }
   ],
   "source": [
    "k = Kasicka() # vytvoříme\n",
    "k.pridej_penize(1_000_000) # přidáme pár korun\n",
    "k.pridej_penize(1)  # a ještě jednou\n",
    "print(k.rozbij()) # rozbijeme a vypíšeme celkovou sumu"
   ]
  },
  {
   "cell_type": "markdown",
   "metadata": {},
   "source": [
    "Musíme vyzkoušet i problematická (nepřípustná volání)"
   ]
  },
  {
   "cell_type": "code",
   "execution_count": 23,
   "metadata": {},
   "outputs": [
    {
     "ename": "Exception",
     "evalue": "Částka je záporná",
     "output_type": "error",
     "traceback": [
      "\u001b[0;31m---------------------------------------------------------------------------\u001b[0m",
      "\u001b[0;31mException\u001b[0m                                 Traceback (most recent call last)",
      "\u001b[0;32m<ipython-input-23-a4f2c2323f83>\u001b[0m in \u001b[0;36m<module>\u001b[0;34m()\u001b[0m\n\u001b[1;32m      1\u001b[0m \u001b[0mk\u001b[0m \u001b[0;34m=\u001b[0m \u001b[0mKasicka\u001b[0m\u001b[0;34m(\u001b[0m\u001b[0;34m)\u001b[0m\u001b[0;34m\u001b[0m\u001b[0m\n\u001b[0;32m----> 2\u001b[0;31m \u001b[0mk\u001b[0m\u001b[0;34m.\u001b[0m\u001b[0mpridej_penize\u001b[0m\u001b[0;34m(\u001b[0m\u001b[0;34m-\u001b[0m\u001b[0;36m10\u001b[0m\u001b[0;34m)\u001b[0m\u001b[0;34m\u001b[0m\u001b[0m\n\u001b[0m",
      "\u001b[0;32m<ipython-input-20-c9ff8ca6dcb1>\u001b[0m in \u001b[0;36mpridej_penize\u001b[0;34m(self, castka)\u001b[0m\n\u001b[1;32m      7\u001b[0m             \u001b[0;32mraise\u001b[0m \u001b[0mException\u001b[0m\u001b[0;34m(\u001b[0m\u001b[0;34m\"Částka není celé číslo\"\u001b[0m\u001b[0;34m)\u001b[0m\u001b[0;34m\u001b[0m\u001b[0m\n\u001b[1;32m      8\u001b[0m         \u001b[0;32mif\u001b[0m \u001b[0mcastka\u001b[0m \u001b[0;34m<\u001b[0m \u001b[0;36m0\u001b[0m\u001b[0;34m:\u001b[0m\u001b[0;34m\u001b[0m\u001b[0m\n\u001b[0;32m----> 9\u001b[0;31m             \u001b[0;32mraise\u001b[0m \u001b[0mException\u001b[0m\u001b[0;34m(\u001b[0m\u001b[0;34m\"Částka je záporná\"\u001b[0m\u001b[0;34m)\u001b[0m\u001b[0;34m\u001b[0m\u001b[0m\n\u001b[0m\u001b[1;32m     10\u001b[0m         \u001b[0;32mif\u001b[0m \u001b[0mself\u001b[0m\u001b[0;34m.\u001b[0m\u001b[0mrozbita\u001b[0m\u001b[0;34m:\u001b[0m\u001b[0;34m\u001b[0m\u001b[0m\n\u001b[1;32m     11\u001b[0m             \u001b[0;32mraise\u001b[0m \u001b[0mException\u001b[0m\u001b[0;34m(\u001b[0m\u001b[0;34m\"Kasička je rozbitá\"\u001b[0m\u001b[0;34m)\u001b[0m\u001b[0;34m\u001b[0m\u001b[0m\n",
      "\u001b[0;31mException\u001b[0m: Částka je záporná"
     ]
    }
   ],
   "source": [
    "k = Kasicka()\n",
    "k.pridej_penize(-10)"
   ]
  },
  {
   "cell_type": "markdown",
   "metadata": {},
   "source": [
    "Program skončil s výjimkou, ale kasička stále existuje (v notebooku existují všechny vytvořené, dokud notebook neuzavřeme)"
   ]
  },
  {
   "cell_type": "code",
   "execution_count": 24,
   "metadata": {},
   "outputs": [
    {
     "data": {
      "text/plain": [
       "0"
      ]
     },
     "execution_count": 24,
     "metadata": {},
     "output_type": "execute_result"
    }
   ],
   "source": [
    "k.rozbij()"
   ]
  },
  {
   "cell_type": "code",
   "execution_count": 27,
   "metadata": {},
   "outputs": [
    {
     "ename": "Exception",
     "evalue": "Kasička je rozbitá",
     "output_type": "error",
     "traceback": [
      "\u001b[0;31m---------------------------------------------------------------------------\u001b[0m",
      "\u001b[0;31mException\u001b[0m                                 Traceback (most recent call last)",
      "\u001b[0;32m<ipython-input-27-06ed882758d1>\u001b[0m in \u001b[0;36m<module>\u001b[0;34m()\u001b[0m\n\u001b[0;32m----> 1\u001b[0;31m \u001b[0mk\u001b[0m\u001b[0;34m.\u001b[0m\u001b[0mpridej_penize\u001b[0m\u001b[0;34m(\u001b[0m\u001b[0;36m100\u001b[0m\u001b[0;34m)\u001b[0m\u001b[0;34m\u001b[0m\u001b[0m\n\u001b[0m",
      "\u001b[0;32m<ipython-input-20-c9ff8ca6dcb1>\u001b[0m in \u001b[0;36mpridej_penize\u001b[0;34m(self, castka)\u001b[0m\n\u001b[1;32m      9\u001b[0m             \u001b[0;32mraise\u001b[0m \u001b[0mException\u001b[0m\u001b[0;34m(\u001b[0m\u001b[0;34m\"Částka je záporná\"\u001b[0m\u001b[0;34m)\u001b[0m\u001b[0;34m\u001b[0m\u001b[0m\n\u001b[1;32m     10\u001b[0m         \u001b[0;32mif\u001b[0m \u001b[0mself\u001b[0m\u001b[0;34m.\u001b[0m\u001b[0mrozbita\u001b[0m\u001b[0;34m:\u001b[0m\u001b[0;34m\u001b[0m\u001b[0m\n\u001b[0;32m---> 11\u001b[0;31m             \u001b[0;32mraise\u001b[0m \u001b[0mException\u001b[0m\u001b[0;34m(\u001b[0m\u001b[0;34m\"Kasička je rozbitá\"\u001b[0m\u001b[0;34m)\u001b[0m\u001b[0;34m\u001b[0m\u001b[0m\n\u001b[0m\u001b[1;32m     12\u001b[0m         \u001b[0mself\u001b[0m\u001b[0;34m.\u001b[0m\u001b[0mcastka\u001b[0m \u001b[0;34m+=\u001b[0m \u001b[0mcastka\u001b[0m  \u001b[0;31m# vlastní kód metody: zvýšení uložené částky o předanou\u001b[0m\u001b[0;34m\u001b[0m\u001b[0m\n\u001b[1;32m     13\u001b[0m     \u001b[0;32mdef\u001b[0m \u001b[0mrozbij\u001b[0m\u001b[0;34m(\u001b[0m\u001b[0mself\u001b[0m\u001b[0;34m)\u001b[0m\u001b[0;34m:\u001b[0m\u001b[0;34m\u001b[0m\u001b[0m\n",
      "\u001b[0;31mException\u001b[0m: Kasička je rozbitá"
     ]
    }
   ],
   "source": [
    "k.pridej_penize(100)"
   ]
  },
  {
   "cell_type": "markdown",
   "metadata": {},
   "source": [
    "#### Zapouzdření\n",
    "\n",
    "V popisu požadovaných rysů kasičky jsem kladl velký důraz na to, že dokud kasičku nerozbijeme, nelze zjistit kolik peněz obsahuje. To však není evidentně pravda:"
   ]
  },
  {
   "cell_type": "code",
   "execution_count": 30,
   "metadata": {},
   "outputs": [
    {
     "name": "stdout",
     "output_type": "stream",
     "text": [
      "100\n"
     ]
    }
   ],
   "source": [
    "k = Kasicka() # vytvoříme novou\n",
    "k.pridej_penize(100)\n",
    "\n",
    "print(k.castka)"
   ]
  },
  {
   "cell_type": "markdown",
   "metadata": {},
   "source": [
    "Nyní víme, že v kasičce je 100 korun, ale přesto jsme ji nerozbili.\n",
    "\n",
    "Situace je však ještě horší."
   ]
  },
  {
   "cell_type": "code",
   "execution_count": 32,
   "metadata": {
    "collapsed": true
   },
   "outputs": [],
   "source": [
    "k.castka = 0"
   ]
  },
  {
   "cell_type": "markdown",
   "metadata": {},
   "source": [
    "To je vykradení kasičky za bílého dne! Může však být ještě hůře: "
   ]
  },
  {
   "cell_type": "code",
   "execution_count": 34,
   "metadata": {
    "collapsed": true
   },
   "outputs": [],
   "source": [
    "k.castka = -100"
   ]
  },
  {
   "cell_type": "markdown",
   "metadata": {},
   "source": [
    "Nyní máme kasičku zadluženku (tj. kasička do níž lze vkládat např. služní úpisy). Podobně můžeme z rozbité kasičky udělat nerozbitou (je to lepší než oprava, nedokážeme totiž rozlišit zda je skutečně nerozbytá nebo znovuskříšená i s původním obnosem)."
   ]
  },
  {
   "cell_type": "markdown",
   "metadata": {},
   "source": [
    "Jak je to vůbec něco takového možné?\n",
    "\n",
    "Důvod je jednoduchý. V Pythonu je dáno pouze dohodou, co smíme dělat (co je košer) a co nikoliv (co je hucpe).\n",
    "\n",
    "**Obecná dohoda je taková, že můžeme volat pouze metody (ať již přímo či nepřímo). Ty musí být napsány tak, že nevznikne žádný nedefinovaný stav. Naopak atributy by neměly být vně metod dané třídy použité.**\n",
    "\n",
    "Tato dohoda vychází ze základního principu objektově orientovaného programování. S objekty lze interagovat pouze pomocí volání metod z veřejného rozhraní. Interní (datová) representace (tj. struktura atributů) je naopak skrytá.\n",
    "\n",
    "Tento princip se označuje jako **zapouzdření** (angl. *encapsulation*). Cílem zapouzdření není skrýt (tajná) data, ale zabránit závislosti okolního kódu na struktuře a zamezit nepřípustné modifikaci interních dat (viz dluhová kasička). \n",
    "\n",
    "Tento princip lze vysvětlit na náramkových hodinkách. Veřejným rozhraním je ciferník, je standardizovaný a běžně se nemění.  Vnitřní mechanismus je skrytý. Pokud by byl snadno viditelný pak by vnější pozorovatel mohl obejít ciferník a využívat pouze vnitřní informace (např. pozice ozubených koleček). Tato (nechtěná) závislost by vedla ke zbytečně složitému algoritmu přístupu (kolečka nejsou primárně určena pro zobrazení času), neautorizovaným změnám (není překvapivé, že po vyjmutí pár koleček nemusí hodinky fungovat a navíc asi přijdeme i o záruku) avšak především by téměř znemožnila upgrade interního mechanismus hodinek (poN přehodu na digitální technologii, již nelze kolečka pro čtení hodinek využívat, naopak ciferník může zůstat beze změny).\n",
    "\n",
    "Některé jazyky si zapouzdřenost vynucují automaticky, jiné mají nástroje jak si zapouzdřenost vynutit explicitně pro danou třídu, Python předpokládá, že programátoři jsou dospělí a tak vědí co činí (resp. co by činit neměli).\n",
    "\n",
    "V některých případech však základní rozdělení na veřejné metody a skryté atributy nestačí. Relativně často se používají pomocné metody, které nejsou součástí veřejného rozhraní, ale používají se výhradně v ostatních metodách (v zásadě je to dodání další skryté vrstvy schované ještě pod veřejným rozhraním).\n",
    "\n",
    "Tyto metody lze vyznačit tím, že se na začátku jejich identifikátoru použije jedno podtržítko. V tomto případě pomůže trochu i Python, který trochu zkomplikuje jejich volání z vnějšku (zabrání se tak nechtěnému použití).\n",
    "Signifikantnější je však neuvedení popisu metody ve veřejné dokumentaci (co není popsáno, jako by nebylo).\n",
    "\n",
    "Na druhou stranu některé objekty nabízejí veřejné atributy. Zde je situace jasná. Atribut je veřejný jen tehdy, když je explicitně zmíněn v dokumentaci. Dokumentace také určuje, zda je pouze pro čtení (typičtější případ) nebo i pro zápis. "
   ]
  },
  {
   "cell_type": "markdown",
   "metadata": {},
   "source": [
    "Principy zapouzdření i jednoduchého objektového návrhu si ukážeme na komplexnějším příkladě.\n",
    "\n",
    "**Řešený příklad**\n",
    "\n",
    "Typickou úlohou v geograficky orientovaných informačních systémech je hledání nejbližších cest mezi dvěma místy, s využitím mapových podkladů. To je samozřejmě dosti komplexní problém a proto, si ho zjednodušíme.\n",
    "\n",
    "\n",
    "Budeme proto hledat spojení jen mezi omezeným počtem míst (řekněme třeba mezi městy), jejichž (nejkratší) přímou vzdálenost zadáme ručně (pomocí volání metody).\n",
    "\n",
    "Nejdříve zkusíme navrhnout rozhraní objektů třídy `Place` (tato třída může být používána v reálných aplikacích, takže volíme anglické identifikátory):\n",
    "\n",
    "* konstruktor: parametrem je jméno místa a jeho poloha (zeměpisná šířka a délka)\n",
    "* metoda pro přidání přímého spojení `add_connection`, parametrem je cílové místo a vzdálenost\n",
    "* metoda pro hledání délky nejkratšího spojení `distance`, parametrem je cílové místo. Metoda najde nejkratší spojení (to může procházet více místy) a vrátí jeho vzdálenost. \n",
    "\n",
    "Zeměpisná poloha předávaná v konstruktoru se nepoužívá pro výpočet vzdáleností (vzdálenosti jsou v našem modelu skutečné dopravní vzdálenosti, nikoliv vzdušné vzdálenosti). Použijeme ji později pro nakreslení jednoduché mapy.\n",
    "\n",
    "Obě metody pracující se spojením očekávají jako parametr objekt třídy `Place`, representující cíl. Obě metody tak pracují se dvěma objekty třídy `Place`. Je to jednak objekt dostupný v metodě pomocí parametru `self` (adresát metody = objekt, na nějž je metoda volána) representující počátek spojení, jednak objekt předaný jako běžný parametr representující cíl spojení. \n",
    "\n",
    "Tj. předpokládáme-li, že proměnné `decin` a `teplice` označují objekty příslušných měst, pak bude lze využít následujících volání:\n",
    "\n",
    "```python\n",
    "decin.add_connection(teplice, 21) # 35km z Děčína do Teplic\n",
    "print(decin.distance(teplice))  # vypíše 35km  \n",
    "```\n",
    "\n",
    "Navržené rozhraní má určitý nedostatek, který jste už možná zaznamenali. Pokud existuje přímé spojení z bodu A do B, pak s vysokou pravděpodobností existuje i stejně dlouhé spojení v opačném směru (většina dopravních spojení je obousměrná). Bylo by tedy užitečné, kdyby se při přidání spojení automaticky přidalo i spojení opačným směrem. Na druhou stranu výjimečně může existovat i přímé spojení jen jedním směrem, resp. obě spojení mmohou mít různou délku.\n",
    "\n",
    "Řešením je přidání dalšího parametru `bidi` (relativně běžně používaná zkratka za *bidirectional*) k metodě `add_connection`. Pokud bude mít hodnotu `True` pak se automaticky vloží i spojení opačným směrem (při `False` nikoliv). Navíc zde můžeme použít implicitní hodnoty parametru. Pokud ji nastavíme na `True`, pak se při běžném použití nebude vůbec uvádět (a použití bude identické s výše uvedeným příkladem).  Pokud bude výjimečně potřeba zadat jednodměrné spojení, bude volání o něco delší, ale stále přehledné (hlavně použijeme-li pojmenovaný parametr).\n",
    "\n",
    "```python\n",
    "usti.add_connection(teplice, 21, bidi=False) # umělý příklad (spojení není ve skutečnosti jednosměrné)\n",
    "```"
   ]
  },
  {
   "cell_type": "markdown",
   "metadata": {},
   "source": [
    "Po návrhu rozhraní, musíme navrhnout i datovou representaci objektů míst. Jednoduché je to u jména a polohy místa, neboť každé místo bude míst jen jedno jméno, jednu zeměpisnou šířku a jednu zeměpisnou délku. Tj. stačí vytvořit tři atributy objektu, které budou označovat/odkazovat příslušné hodnoty (řetězec a dvě čísla třídy `double`).\n",
    "\n",
    "Složitější je representace přímých spojení. Každé místo může mít totiž obecně neomezený počet spojení. Navíc spojení není jednoduchá hodnota, ale minimálně hodnoty dvě (identifikace cílového místa a vzdálenost, počáteční místo je dáno umístěním dané informace). Musíme proto využít nějaké kolekce.\n",
    "\n",
    "Klíčovou kolekcí v Pythonu je seznam. Proto ověříme nejdříve jeho použitelnost.\n",
    "\n",
    "Za prvé potřebujeme ukládat dvojice hodnot. To lze zařídit, neboť položkami seznamu mohou být (vnořené) seznamy resp. jiné kolekce. Pokud bychom takový seznam vytvářeli ručně, pak by například mohl mít tento tvar (proměnné označují příslušné objekty):\n",
    "\n",
    "```python\n",
    "spojeniZDecina = [[usti, 15], [teplice, 21], [rumburk, 43], ...] # seznam seznamů\n",
    "```\n",
    "\n",
    "#### N-tice\n",
    "\n",
    "Namísto vnořených seznamů lze využít tzv. n-tice (angl. *tuple*), což je uspořádaná kolekce optimalizovaná pro malý počet prvků, která je navíc nemodifikovatelná (po vytvoření do ní nelze přidávat prvky, či prvky zaměňovat). N-tice se na rozdíl od seznamů uzavírají do kulatých závorek (ty lze v některých případech vynechat, v následujícím zápise to však možné není, jistě poznáte proč).\n",
    "\n",
    "```python\n",
    "spojeniZDecina = [(usti, 15), (teplice, 21), (rumburk, 43), ...] # seznam dvojic\n",
    "```"
   ]
  },
  {
   "cell_type": "markdown",
   "metadata": {},
   "source": [
    "Tato implementace se jeví jako rozumná. Není přirozeně zcela dokonalá. Pokud například chcete v našem seznamu vyhledat vzdálenost do Rumburku, musíme postupně procházet jednotlivé prvky a hledat ten, jehož první položka je rovna hledanému místu. Teprve pak můžeme vrátit příslušnou vzdálenost. Můžeme si na však to připravit funkci (parametr `key` je hodnota kterou hledáme, v prohledávaných dvojicí musí být vždy uváděna jako první):"
   ]
  },
  {
   "cell_type": "code",
   "execution_count": 1,
   "metadata": {
    "collapsed": true
   },
   "outputs": [],
   "source": [
    "def get_value(listOfpairs, key):\n",
    "    for k, v in listOfpairs: # postupně procházíme dvojice\n",
    "        if k == key:\n",
    "            return v\n",
    "    return None # pokud nic nenajdeme vrátíme `None`"
   ]
  },
  {
   "cell_type": "markdown",
   "metadata": {},
   "source": [
    "Novinkou kódu je uvedení dvojice proměnných na místě řídící proměnné cyklu `for`. Je to obdoba paralelního přiřazení. Hodnota dvojice z procházeného seznamu je přiřazena do dvojice proměnných (i kolem této dvojice je možno napsat závorky stejně jako u n-tic).\n",
    "\n",
    "Alternativně lze dvojice ukládat pomocí slovníku (`dict`). Pro malý počet dvojic (řádově jednotky) to  však není příliš efektivní (slovník je optimalizován pro větší množiny).  "
   ]
  },
  {
   "cell_type": "markdown",
   "metadata": {},
   "source": [
    "Třídu můžeme implementovat přímo v Jupyter notebooku, není to však pohodlné. Kód třídy musí být celý obsažen v jediné vstupní buňce, což je při jeho rozsahu (několik desítek řádek) nepřehledné.\n",
    "\n",
    "Proto zkusíme třídu naprogramovat v editoru `pycharm`. Podle návodu v první kapitole vytvořte projekt `cities` (jméno projektu nehraje v Pythonu žádnou roli, slouží pouze pro organizaci skriptů v editoru). V rámci projektu vytvořte soubor `cities.py`. Jméno souboru musí mít příponu `py`. Vlastní jméno souboru (bez přípony) se používá jako jméno modulu při importování (takže je vhodné volit krátké, ale přitom dostatečně jednoznačné jméno).\n",
    "\n",
    "Do editoru vložte nejdříve tento text (poznámky přepisovat nemusíte):"
   ]
  },
  {
   "cell_type": "markdown",
   "metadata": {},
   "source": [
    "```python\n",
    "class City:\n",
    "    def __init__(self, name): # konstruktor\n",
    "        self.name = name      # do objektu uložíme jméno města\n",
    "        self.connections = [] # seznam spojení z města je zatím prázdný\n",
    "\n",
    "    def add_connection(self, target, distance, bidi=True):\n",
    "        self.connections.append((target, distance))  \n",
    "        # přidáme dvojici (město, vzdálenost) do seznamu\n",
    "        if bidi:  # je-li spojení obousměrné\n",
    "            target.add_connection(self, distance, bidi=False) # vložíme i opačný směr\n",
    "```"
   ]
  },
  {
   "cell_type": "markdown",
   "metadata": {},
   "source": [
    "**Úkol**: Co se stane, pokud by se v implementaci metody `add_connections` vkládalo opačné spojení voláním metody add_connection s implicitní hodnotou parametru `bidi` (tj. s hodnotu `True`)."
   ]
  },
  {
   "cell_type": "markdown",
   "metadata": {
    "tags": [
     "h"
    ]
   },
   "source": [
    "Předpokládejme, že vkládáme obousměrné spojení mezi městy v proměnných `a` a `b`, tj. použijeme volání `a.add_connection(b, 1, bidi=True)`.\n",
    "Parametr `bidi` určuje, že musí být volán i opačný směr tj. uvnitř metody `add_connection` dojde k (rekurzivnímu) volání tvaru `b.add_connection(a, 1, bidi=True)`. Protože i toto volání by bylo nastaveno jako obousměrné, vedlo by opět k novému rekurzivnímu volání metody `add_connection` tentokrát opět v původním gardu tj, `a.add_connection(b, 1, bidi=True)`. I toto volání by však využilo vložení spojení v opačném směru (tj. v podobě  `b.add_connection(a, 1, bidi=True)`). Nyní by Vám již mělo být jasné, že řetězec volání je nekonečný, neboť přidání spojení na jedné straně by vedlo k přidání na straně druhé a tak dále.\n",
    "Výše uvedená implementace však opačný směr přidává jako jednosměrný a řetězec je tak ukončen ihned po druhém volání."
   ]
  },
  {
   "cell_type": "markdown",
   "metadata": {},
   "source": [
    "### Algoritmus hledání nejkratší cesty\n",
    "\n",
    "Před konečnou implementací nám zbývá promyslet implementaci metody `distance`.  Implementace není zcela jednoduchá neboť vyžaduje alespoň základy algoritmického myšlení tj. abstrakce univerzálně použitelných postupů pro řešení matematicky definovaných problémů.\n",
    "\n",
    "Jak najdeme nejkratší spojení do vzdáleného města v reálném životě. Pokud máme k dispozicí mapu pak většinou stačí jediný pohled a danou cestu nalezneme (pokud bereme v potaz jen hlavní klíčové silnice tj. v našem případě silnice druhé a vyšší třídy).  Můžeme se sice splést (například v hledání cesty z Ústí do Teplic nemusí být zřejmé zda jet přes Chlumec nebo přes Řehlovice), ale chyba bude jen malá (v praxi má větší vliv kvalita silnic a aktuální dopravní situace).\n",
    "\n",
    "Tento přístup však nelze pro náš účel použít, nemáme totiž žádné informace o vzájemné pozici měst ani globální pohled na strukturu silnic (odkud, kam a přes jaká města silnice vedou). \n",
    "\n",
    "Zkusíme proto strategii nepříliš inteligentních, ale vytrvalých a partogeneticky se rozmnožujících mravenců. Navíc všichni tito mravenci běhají stejnou konstantní rychlostí (třeba kilometr za den).\n",
    "\n",
    "Nejdříve položíme jediného mravence do počátečního města. Protože je jejich partogenetické rozmnožování úžasně rychlé, je pro něj záležitostí zanedbatelného okamžiku zplodit tolik nových mravenců, kolik spojení vychází z počátečního města. Nově zrození  mravenci se ihned rozbíhají po těchto spojích. Mravenec rodič (tj. defacto praotec) zůstává v počátečním městě, kde (dožívá) ve štěstí a blahobytu (rozmnožování mu bohužel sebralo dost sil).\n",
    "\n",
    "Pokud děti a případně i vzdálenější potomci (vzdálenější ve smyslu příbuzenství) dorazí do dalšího města pak jejich chování záleží na dvou okolnostech.\n",
    "\n",
    "Pokud tam dorazí jako první a město je cílové, pak on a jeho předci vyhráli (štafetový) běh a my známe nejkratší vzdálenost mezi počátečním a cílovým městem (je dáno časem jejich vítězného doběhu, neboť rychlosti jsou konstantní a čas na rozmnožování je zanedbatelně malý). Pokud si mravenci-předci předávali i jména měst, kterými prošli, pak známe i nejkratší cestu.\n",
    "\n",
    "Pokud mravenec dorazí jako první a město není cílové, pak se zachová jako praotec.  Porodí tolik mravenců, kolik je spojení z daného města a ihned je na tato spojení vyšle. Sám zůstává a dožívá v naději, že některý z jeho potomků vyhraje (jistotu však samozřejmě nemá).\n",
    "\n",
    "Nejsmutnější je situace, kdy mravenec do některého z měst nedorazí jako první (což se pozná snadno, neboť ve městě stále dožívá první pokořitel daného města). V tomto případě je totiž zřejmé, že on resp. jeho případné potomci již nemohou vyhrát (potomci prvního mravence již vyrazily dávno předtím). Nezbývá mu nic jiného než spáchat sebevraždu (samozřejmě bez jakéhokoliv rozmnožování).\n",
    "\n",
    "Algoritmus běžně končí tím, že první mravenec dorazí do cílového města. Další sledování mravenců je pak samozřejmě zbytečné (nakonec všichni zbývající stejně spáší sebevraždu). Pokud je však cílové město z počátečního města nedosažitelné (což by se ve Střední Evropě stávat nemělo) končí algoritmus jinak (jedním z konkurenčních výhod dobrého programátora je schopnost vidět i tyto okrajové následky)."
   ]
  },
  {
   "cell_type": "markdown",
   "metadata": {},
   "source": [
    "> **Úkol**: Jak končí algoritmus mravenců-průzkumníků v případě nedosažitelnosti cílového města?"
   ]
  },
  {
   "cell_type": "markdown",
   "metadata": {
    "tags": [
     "h"
    ]
   },
   "source": [
    "Počet mravenců dále nenarůstá (nevznikají noví) a zbývající (nesmrtelní) mravenci zůstávají ve všech městech dosažitelných z počátečního (vždy jeden)."
   ]
  },
  {
   "cell_type": "markdown",
   "metadata": {
    "collapsed": true
   },
   "source": [
    "Tento algoritmus je relativně snadno pochopitelný, **nelze** jej však bohužel přímo realizovat v běžném počítači. V jednom okamžiku totiž mezi městy pobíhá větší počet mravenců, z nichž každý by pro svou programovou representaci vyžadoval nezávislý procesor, neboť jejich činnosti tj. především rozmnožování musí být zcela nezávislé na ostatních mravencích (a to i v případě, že by přesun do města či dožití by byli representovány pouze čekáním na určitý čas bez nutnosti využití procesoru). Současné počítače sice běžně obsahují více procesorů (jader). Jejich počet je však fixní a relativně malý (bylo by podivné, pokud byste byli nuceni kupovat počítač s desítkami procesorů pro nalezení nejkratší cesty v dopravním systému mezi několika městy)."
   ]
  },
  {
   "cell_type": "markdown",
   "metadata": {},
   "source": [
    "Algoritmus tak musíme trochu upravit. Namísto velkého množství rozplozujících se mravenců, použijeme jen jednoho, který však musí mít schopnost teleportace a musí být gramotný.\n",
    "\n",
    "Tento mravenec je na začátku v počátečním městě. Zjistí si všechna přímá spojení, avšak namísto aby se do některého z nich vydal si je zapíše do svého turistického pořádníku. Napíše si odkud by se měl vydat a kam by měl dorazit. Na pořádí záznamu nezáleží.\n",
    "\n",
    "Navíc si vytvoří tabulku, v níž má u každého města poznamenanou nejmenší ověřenou vzdálenost od města startovního. Na začátku obsahuje u startovního nulu a u všech ostatních nekonečno (náš mravenec umí dokonce i ležatou osmičku). \n",
    "\n",
    "Nyní vše běží ve velké smyčce. Mravenec se podívá do svého turistického pořadníku a teleportuje se do místa, ze kterého vychází první přímé spojení v pořadníku. To spojení projde a tím zjistí vzdálenost. Nezapomene samozřejmě projité spojení odstranit z pořadníku.\n",
    "\n",
    "Poté se podívá se do tabulky. Sečte minimální vzdálenost města, odkud vycházelo právě projité přímé spojení, s ujitou vzdáleností. Pokud je tato vzdálenost menší než aktuální minimální vzdálenost města, v němž se právě nachází, pak najde všechna spojení vycházející z tohoto místa a zapíše si je do pořadníku (opět dvojici odkud a kam). Navíc přepíše minimální vzdálenost aktuálního místa v tabulce. V opačném případě (součet vzdáleností je větší) nemusí v tomto kroku provádět nic.\n",
    "\n",
    "Nyní se vrátíme znovu na počátek smyčky. Pokud je pořadník prázdný pak algoritmus končí. Jinak se mravenec teleportuje do místaze kterého vychází první přímé spojení v pořadníku. To spojení projde a tím zjistí vzdálenost. Nezapomene samozřejmě projité spojení odstranit z pořadníku.\n",
    "\n",
    "Poté se podívá se do tabulky. Sečte minimální vzdálenost města, odkud vycházelo právě projité přímé spojení, s ujitou vzdáleností. Pokud je tato vzdálenost menší než aktuální minimální vzdálenost města, v němž se právě nachází, pak najde všechna spojení vycházející z tohoto místa a zapíše si je do pořadníku (opět dvojici odkud a kam). Navíc přepíše minimální vzdálenost aktuálního místa v tabulce. V opačném případě (součet vzdáleností je větší) nemusí v tomto kroku provádět nic.\n",
    "\n",
    "Nyní se vrátíme znovu na počátek smyčky. Pokud je pořadník prázdný pak algoritmus končí. Jinak se mravenec teleportuje do místa, ze kterého vychází první přímé spojení v pořadníku, ....\n",
    "\n",
    "I když to na první pohled nemusí být zřejmé cyklus nakonec skončí (mravenec si od jisté chvíle již nezapíše nové spojení do svého pořadníčku a ten se tak nakonec vyprázdní). Navíc určitě prošel i minimální cestou, Opakuje totiž všechny cesty svých vzorů, kteří používali strategii \"nas mnogo\" (a v případě potřeby nás může být ještě víc). Minimální vzdálenost najde v tabulce  v řádce cílového města. V nejhorším případě tam nalezne ležatou osmičku (pokud cílové město není ze startovního dosažitelné)."
   ]
  },
  {
   "cell_type": "markdown",
   "metadata": {},
   "source": [
    "Algoritmus lze samozřejmě ještě zjednodušit. Pokud známe předem délku všech přímých spojení, pak je zbytečné aby se mravenec teleportoval. Vše snadno zjistí doma pomocí tužky a papíru (jen připisuje a ruší záznamy ve pořadníku a případně snižuje hodnoty v tabulce měst). To však může provádět i počítač a to pravděpodně značně rychleji. Proto můžeme eliminovat i onoho geniálního zástupce řádu blanokřídlých.\n",
    "\n",
    "Navíc lze v tomto případě algoritmus i mírně optimalizovat, neboť jste si jistě všimli, že mravenci procházeli i spojení, u nichž bylo již v okamžiku startu jasné, že nebudou nejrychlejší (koncové město spojení bylo dosaženo již před startem průchodu spojením). Speciálním případem těchto zbytečných průchodů je návrat do místa, z něhož vyšel předek (resp. předci). Tyto případy lze za pomoci tabulky aktuálních minimálních vzdáleností snadno eliminovat, neboť je nemusíme zařazovat do pořadníku.\n",
    "\n",
    "Dalším vylepšením je eliminace počátečního místa spojení v položce pořadníku, namísto toho stačí uvádět jen vypočtenou minimální vzdálenost, která může (ale nemusí) nahradit minimální vzdálenost v tabulce."
   ]
  },
  {
   "cell_type": "markdown",
   "metadata": {},
   "source": [
    "Poslední navržený algoritmus vyžaduje dvě pomocné struktury.\n",
    "\n",
    "*pořadník*: seznam dvojic naplánovaných průchodů spojeními (koncové město spojení, a nabízená minimální délka spojení). Do seznamu/pořadníku přidáváme na konec a vyjímáme (zpracování+smazání) na začátku. Seznam do něhož přidáváme prvky na konci a vyjímáme je postupně na druhé straně (= počátku) se běžně označuje jako **fronta**).\n",
    "\n",
    "*tabulka*: záznam o minimální vzdálenosti pro každé město. Lze použít seznam dvojic (jméno města, minimální vzdálenost), ale to je dost nepohodlné v případě změny minimální vzdálenosti. V tomto případě by bylo nutné původni dvojice odstraňovat. Naštěstí Python podporuje velké množství různých specializovaných kolekcí, z nichž si vybere téměř každý.\n",
    "\n",
    "#### Slovník s nastavenou implicitní hodnotou\n",
    "\n",
    "Nám se bude hodit kolekce `collections.defaultdict`, která efektivně ukládá dvojice (klíč, hodnota), včetně rychlého hledání hodnot podle klíče a jejich modifikace (v našem případě je klíčem město a hodnotou aktuální minimální vzdálenost). Navíc (na rozdíl od běžného slovníku) podporuje implicitní hodnotu pro klíče, které se ve slovníku nenachází. To se nám hodí, neboť náš algoritmus předpokládá, že město, které ještě nebylo dosaženo při hledání nejkratší cesty má vzdálenost nekonečnou (třída `float` umožňuje representovat i nekonečné hodnoty).\n",
    "\n",
    "Slovník s implicitní hodnotou si vyzkoušíme na jednoduchém příkladě. Klíčem bude jméno studenta (řetězec), hodnotou informace o tom zda splnil podmínky zápočtu. Pokud jméno studenta ve slovníku není, pak se předpokládá, že zápočet nemá."
   ]
  },
  {
   "cell_type": "code",
   "execution_count": 2,
   "metadata": {},
   "outputs": [
    {
     "name": "stdout",
     "output_type": "stream",
     "text": [
      "True\n",
      "False\n",
      "False\n"
     ]
    }
   ],
   "source": [
    "from collections import defaultdict\n",
    "\n",
    "def implicit_value(): # tzv. tovární funkce produkující implicitní hodnoty\n",
    "    return False\n",
    "\n",
    "zapocty = defaultdict(implicit_value) # vytvoření slovníku (s registrací tovární funkce)\n",
    "zapocty[\"Novák\"] = True    # přidání dvojice (jméno, výsledek)\n",
    "zapocty[\"Nejezchleba\"] = False # přidání další dvojice\n",
    "\n",
    "print( zapocty[\"Novák\"]) # vypíše uloženou hodnotu pro klíč \"Novák\", což je True\n",
    "print( zapocty[\"Nejezchleba\"])  # pro jistotu vyzkoušíme i druhou uloženou hodnotu\n",
    "\n",
    "print( zapocty[\"Snedlditetikasi\"])  # vypíše hodnotu vracenou tovární metodou (= False)"
   ]
  },
  {
   "cell_type": "markdown",
   "metadata": {},
   "source": [
    "**Úkol**: Vyzkoušejte, nahradit slovník `defaultdict` běžným slovníkem `dict`. (konstruktor běžného slovníku je vestavěný a nemusí mít žádné parametry)."
   ]
  },
  {
   "cell_type": "code",
   "execution_count": 3,
   "metadata": {
    "tags": [
     "h"
    ]
   },
   "outputs": [
    {
     "name": "stdout",
     "output_type": "stream",
     "text": [
      "True\n",
      "False\n"
     ]
    },
    {
     "ename": "KeyError",
     "evalue": "'Snedlditetikasi'",
     "output_type": "error",
     "traceback": [
      "\u001b[0;31m---------------------------------------------------------------------------\u001b[0m",
      "\u001b[0;31mKeyError\u001b[0m                                  Traceback (most recent call last)",
      "\u001b[0;32m<ipython-input-3-d0908de69e24>\u001b[0m in \u001b[0;36m<module>\u001b[0;34m()\u001b[0m\n\u001b[1;32m     11\u001b[0m \u001b[0mprint\u001b[0m\u001b[0;34m(\u001b[0m \u001b[0mzapocty\u001b[0m\u001b[0;34m[\u001b[0m\u001b[0;34m\"Nejezchleba\"\u001b[0m\u001b[0;34m]\u001b[0m\u001b[0;34m)\u001b[0m  \u001b[0;31m# dtto\u001b[0m\u001b[0;34m\u001b[0m\u001b[0m\n\u001b[1;32m     12\u001b[0m \u001b[0;34m\u001b[0m\u001b[0m\n\u001b[0;32m---> 13\u001b[0;31m \u001b[0mprint\u001b[0m\u001b[0;34m(\u001b[0m \u001b[0mzapocty\u001b[0m\u001b[0;34m[\u001b[0m\u001b[0;34m\"Snedlditetikasi\"\u001b[0m\u001b[0;34m]\u001b[0m\u001b[0;34m)\u001b[0m  \u001b[0;31m# přístup k neexistující hodnotě však vede k výjimce\u001b[0m\u001b[0;34m\u001b[0m\u001b[0m\n\u001b[0m",
      "\u001b[0;31mKeyError\u001b[0m: 'Snedlditetikasi'"
     ]
    }
   ],
   "source": [
    "from collections import defaultdict\n",
    "\n",
    "def implicit_value(): # tzv. tovární funkce produkující implicitní hodnoty\n",
    "    return False\n",
    "\n",
    "zapocty = dict() # běžný slovník\n",
    "zapocty[\"Novák\"] = True    # přidání dvojice (jméno, výsledek)\n",
    "zapocty[\"Nejezchleba\"] = False # přidání další dvojice\n",
    "\n",
    "print( zapocty[\"Novák\"]) # chování je shhodné jako u slovníku s implicitní hodnotou\n",
    "print( zapocty[\"Nejezchleba\"])  # dtto\n",
    "\n",
    "print( zapocty[\"Snedlditetikasi\"])  # přístup k neexistující hodnotě však vede k výjimce"
   ]
  },
  {
   "cell_type": "markdown",
   "metadata": {},
   "source": [
    "Nyní se vraťme k implementaci metody `distance` třídy `city`. Implemantace výše popsaného algoritmu je relativně přímočará. "
   ]
  },
  {
   "cell_type": "markdown",
   "metadata": {},
   "source": [
    "```python\n",
    "import math\n",
    "from collections import defaultdict\n",
    "\n",
    "\n",
    "def infinity_factory(): # tovární funkce pro vracení nekonečen\n",
    "    return math.inf\n",
    "\n",
    "\n",
    "class City:\n",
    "    def __init__(self, name): # konstruktor\n",
    "        ... # viz výše\n",
    "\n",
    "    def add_connection(self, target, distance, bidi=True):\n",
    "        ...  # viz výše\n",
    "\n",
    "    def distance(self, target):\n",
    "        # pořadník s plánem přesunu do startovního města (=self)\n",
    "        waiting_list = [(self, 0)]\n",
    "        # prázdná tabulka (nekonečné vzdálenosti)\n",
    "        mindist = defaultdict(infinity_factory)\n",
    "        while waiting_list: # dokud není pořadník prázdný\n",
    "            # vyjme a vrátí první dvojici (další testovaný cíl, dosžitelná vzdálenost)\n",
    "            goal, sum_distance = waiting_list.pop()\n",
    "            # je-li dosažitelná vzdálenost menší než aktuální minimální\n",
    "            if sum_distance < mindist[goal]:\n",
    "                # nová minimální vzdálenost je rovna dosažitelné\n",
    "                mindist[goal] = sum_distance\n",
    "                # projdeme spojení do okolních měst (z města `goal`)\n",
    "                for next_goal, next_distance in goal.connections:\n",
    "                    # spočítáme dosažitelnou vzdálenost do okolních měst\n",
    "                    next_sum_distance = sum_distance + next_distance\n",
    "                    # je-li menší než aktuálná minimální\n",
    "                    if next_sum_distance < mindist[next_goal]:\n",
    "                        # pak přidáme spojení do pořadníku\n",
    "                        waiting_list.append((next_goal, next_sum_distance))\n",
    "        # a nakonec vrátíme minimální vzdálenost cílového města\n",
    "        return mindist[target]\n",
    "```"
   ]
  },
  {
   "cell_type": "markdown",
   "metadata": {},
   "source": [
    "Po zapsání celého kódu do třídy `City` do souboru `cities.py`, můžeme do souboru připsat i malý testovací kód. \n",
    "\n",
    "```python\n",
    "if __name__ == \"__main__\":\n",
    "    usti = City(\"Ústí nad Labem\")\n",
    "    teplice = City(\"Teplice\")\n",
    "    decin = City(\"Děčín\")\n",
    "    most = City(\"Most\")\n",
    "    lovosice = City(\"Lovosice\")\n",
    "\n",
    "    usti.add_connection(teplice, 21)\n",
    "    usti.add_connection(decin, 24)\n",
    "    decin.add_connection(teplice, 35)\n",
    "    teplice.add_connection(most, 27)\n",
    "    lovosice.add_connection(usti, 21)\n",
    "    lovosice.add_connection(teplice, 25)\n",
    "    lovosice.add_connection(most, 36)\n",
    "\n",
    "    print(decin.distance(lovosice))\n",
    "```"
   ]
  },
  {
   "cell_type": "markdown",
   "metadata": {},
   "source": [
    "Podmínka na začátku testovacího kódu je typickým pythonským ideomem.  Pokud je soubor přímo vykonáván (tj. je hlavním programem), pak standardní proměnná `__name__` obsahuje řetězec `__main__` (v Pythonu si opravdu užijete podtržítek). Proto se vykoná i náš testovací kód s vytvořením čtyř měst a definicí jejich přímých spojení. Nakonec program vypíše vypočtenou vzdálenost mezi Lovosicemi a Děčínem (je to 45km).\n",
    "\n",
    "Pokud však soubor použijeme jako modul (tj. budeme ho importovat z jiného kódu), pak proměnná `__name__` obsahuje jméno modulu (tj. zde `city`) a testovací kód se neprovede (což je správně neboť import má jen zavést nové třídy, funkce apod. nikoliv provádět nějaký podivný kód s nic neříkajícím textovým výstupem)."
   ]
  },
  {
   "cell_type": "markdown",
   "metadata": {},
   "source": [
    "#### Importování vlastní knihovny\n",
    "\n",
    "Jak již bylo řečeno náš skript lze importovat do jiných skriptů resp. do Jupyter notebooku. Není to však zcela přímočaré."
   ]
  },
  {
   "cell_type": "code",
   "execution_count": 6,
   "metadata": {},
   "outputs": [
    {
     "ename": "ModuleNotFoundError",
     "evalue": "No module named 'cities'",
     "output_type": "error",
     "traceback": [
      "\u001b[0;31m---------------------------------------------------------------------------\u001b[0m",
      "\u001b[0;31mModuleNotFoundError\u001b[0m                       Traceback (most recent call last)",
      "\u001b[0;32m<ipython-input-6-2010f2c6a05d>\u001b[0m in \u001b[0;36m<module>\u001b[0;34m()\u001b[0m\n\u001b[0;32m----> 1\u001b[0;31m \u001b[0;32mimport\u001b[0m \u001b[0mcities\u001b[0m\u001b[0;34m\u001b[0m\u001b[0m\n\u001b[0m",
      "\u001b[0;31mModuleNotFoundError\u001b[0m: No module named 'cities'"
     ]
    }
   ],
   "source": [
    "import cities"
   ]
  },
  {
   "cell_type": "markdown",
   "metadata": {},
   "source": [
    "Důvodem je skutečnost, že Python hledá moduly jen v některých adresářích. V zásadě se jedná o tři skupiny adresářů:\n",
    "\n",
    "1. adresáře obsahující standardní knihovny daného překladače Pythonu včetně nainstalovaných knihoven třetích stran \n",
    "2. (nepovinně) spaciální podadresář obsažený v rámci vašeho domovského adresáře\n",
    "3. aktuální pracovní adresář interpreteru\n",
    "\n",
    "Seznam prohledávaných adresářů lze získat v proměnné `sys.path` (nutno importovat standardní modul `sys`)."
   ]
  },
  {
   "cell_type": "code",
   "execution_count": 1,
   "metadata": {},
   "outputs": [
    {
     "data": {
      "text/plain": [
       "['',\n",
       " '/home/fiser/apps2/intelpython3/lib/python36.zip',\n",
       " '/home/fiser/apps2/intelpython3/lib/python3.6',\n",
       " '/home/fiser/apps2/intelpython3/lib/python3.6/lib-dynload',\n",
       " '/home/fiser/.local/lib/python3.6/site-packages',\n",
       " '/home/fiser/apps2/intelpython3/lib/python3.6/site-packages',\n",
       " '/home/fiser/apps2/intelpython3/lib/python3.6/site-packages/certifi-2017.7.27.1-py3.6.egg',\n",
       " '/home/fiser/apps2/intelpython3/lib/python3.6/site-packages/html5lib-0.999999999-py3.6.egg',\n",
       " '/home/fiser/apps2/intelpython3/lib/python3.6/site-packages/IPython/extensions',\n",
       " '/home/fiser/.ipython']"
      ]
     },
     "execution_count": 1,
     "metadata": {},
     "output_type": "execute_result"
    }
   ],
   "source": [
    "import sys\n",
    "sys.path"
   ]
  },
  {
   "cell_type": "markdown",
   "metadata": {
    "collapsed": true
   },
   "source": [
    "Modul lze tak zpřístupnit:\n",
    "    \n",
    "1. umístěním skriptu do některého z vypsaných adresářů (výpis se může lišit pro různé překladače a platformy). V případě Linuxu resp. Mac OS lze místo přesunu/kopírování využít umístění symbolického odkazu do příslušného adresáře.\n",
    "2. přidáním adresáře v němž je skript obsažen do seznamu\n",
    "\n",
    "První přístup je vhodný, když chceme modul využívat dlouhodobě. Druhý se hodí jen pro krátkodobé testování (seznam cest k modulům se obnovuje po každém novém spuštění Pythonu)."
   ]
  },
  {
   "cell_type": "code",
   "execution_count": 1,
   "metadata": {
    "collapsed": true
   },
   "outputs": [],
   "source": [
    "import sys\n",
    "sys.path.append(\"/home/fiser/PycharmProjects/cities\") # zde musíte vložit skutečnou cestu ke skriptu!"
   ]
  },
  {
   "cell_type": "code",
   "execution_count": 7,
   "metadata": {},
   "outputs": [
    {
     "data": {
      "text/plain": [
       "200"
      ]
     },
     "execution_count": 7,
     "metadata": {},
     "output_type": "execute_result"
    }
   ],
   "source": [
    "from cities import City\n",
    "\n",
    "praha = City(\"Praha\")\n",
    "brno = City(\"Brno\")\n",
    "\n",
    "praha.add_connection(brno, 200)\n",
    "praha.distance(brno)"
   ]
  },
  {
   "cell_type": "markdown",
   "metadata": {},
   "source": [
    "Jak lze vidět nyní již `import` funguje. Cestu k modulu lze získat v editoru `Pycharm` v příručním menu, které získáme pravým kliknutím (= kliknutí s pravým tlačítkem) na záložku (ouško) se jménem souboru. Z menu zvolte položku `Copy Path`. To sice kopíruje celou cestu i s vlastním jménem souboru, ale odstranění jména je v cílovém notebooku snadné.\n",
    "\n",
    "Všimněte si, že se neprovedl testovací kód modulu (vytvoření malého grafu severočeských měst). To však znamená, že je nutno si vytvořit vlastní graf měst."
   ]
  },
  {
   "cell_type": "markdown",
   "metadata": {},
   "source": [
    "> **Úkol:** Vytvořte modul(skript) definující třídu representující přímku pomocí obecné rovnice ve tvaru `ax + by + c = 0`. Konstruktor přímky očekává parametry `a`, `b` a `c` obecné rovnice.\n",
    "\n",
    "> Metoda `normal` vrací normálový vektor přímky jako dvojici (*tuple*).\n",
    "\n",
    "> Implementujte také metodu `p1.parallel_to(p2)`, která zjistí vrátí `True`, pokud jsou přímky representované objekty s proměnnými `p1` a `p2` rovnoběžné. Podobná metoda `p1.perpendicular_to(p2)` testuje kolmost přímek.\n",
    "\n",
    "> Modul by měl mít jméno `geometry`, třída pak jméno `Line`. Vyzkoušejte modul implementovat a v notebooku ověřte jeho funkčnost. Pokud modul vytváříte v `Pycharm` použijte pro něj nový projekt (na jménu nezáleží, zvolte například také `geometry`)."
   ]
  },
  {
   "cell_type": "raw",
   "metadata": {},
   "source": []
  },
  {
   "cell_type": "markdown",
   "metadata": {
    "tags": [
     "h"
    ]
   },
   "source": [
    "Následující snímek obrazovky ukazuje `Pycharm` zobrazující obsah skriptu `geometry.py` (tj. modulu `geometry`).\n",
    "\n",
    "![Pycharm s module geometry](geometry_script.png)"
   ]
  },
  {
   "cell_type": "markdown",
   "metadata": {
    "tags": [
     "h"
    ]
   },
   "source": [
    "Všimněte si definice funkce `parallel_to`, která řeší i případ, kdy je jedna ze souřadnic normálového vektoru nulová. Speciální zpracování této situace je nezbytné, neboť jinak by mohlo dojít k dělení nulou (to vede k výjimce).\n",
    "\n",
    "Modul také obsahuje testovací kód, který ověřuje vztahy mezi třemi přímkami (`x` je rovnoběžné z `y`, `x` je kolmé k `z`). V praxi je to však nedostatečné, neboť se nekontrolují přímky s obecnými polohami či s nulovými souřadnicemi normálových vektorů."
   ]
  },
  {
   "cell_type": "markdown",
   "metadata": {
    "tags": [
     "h"
    ]
   },
   "source": [
    "Proto tento modul vyzkoušíme ještě v Jupyter notebooku:"
   ]
  },
  {
   "cell_type": "code",
   "execution_count": 15,
   "metadata": {
    "collapsed": true
   },
   "outputs": [],
   "source": [
    "import sys\n",
    "sys.path.append(\"/home/fiser/PycharmProjects/geometry\")"
   ]
  },
  {
   "cell_type": "code",
   "execution_count": 18,
   "metadata": {
    "tags": [
     "h"
    ]
   },
   "outputs": [
    {
     "name": "stdout",
     "output_type": "stream",
     "text": [
      "False\n",
      "False\n"
     ]
    }
   ],
   "source": [
    "from geometry import Line\n",
    "\n",
    "x = Line(2,5,6)\n",
    "y = Line(3,2,0)\n",
    "\n",
    "print(x.parallel_to(y))\n",
    "print(y.perpendicular_to(x))"
   ]
  },
  {
   "cell_type": "code",
   "execution_count": 20,
   "metadata": {
    "tags": [
     "h"
    ]
   },
   "outputs": [
    {
     "name": "stdout",
     "output_type": "stream",
     "text": [
      "True\n",
      "False\n"
     ]
    }
   ],
   "source": [
    "x = Line(2, 0, 8)\n",
    "y = Line(5, 0, -1)\n",
    "\n",
    "print(x.parallel_to(y))\n",
    "print(y.perpendicular_to(x))"
   ]
  },
  {
   "cell_type": "markdown",
   "metadata": {},
   "source": [
    "Práce s vektory pomocí n-tic nebo seznamů (v úkolu byly pro normálové vektory využity dvojice) není příliš snadná neboť Python nepodporuje ani základní vektorové operace (sčítání, skalární součet, apod.). V tomto případě je vhodné využít knihovnu `NumPy`, která se na manipulaci s vektory a vicedimenzionálními poli zaměřuje."
   ]
  }
 ],
 "metadata": {
  "celltoolbar": "Tags",
  "kernelspec": {
   "display_name": "Python 3",
   "language": "python",
   "name": "python3"
  },
  "language_info": {
   "codemirror_mode": {
    "name": "ipython",
    "version": 3
   },
   "file_extension": ".py",
   "mimetype": "text/x-python",
   "name": "python",
   "nbconvert_exporter": "python",
   "pygments_lexer": "ipython3",
   "version": "3.6.3"
  }
 },
 "nbformat": 4,
 "nbformat_minor": 2
}
