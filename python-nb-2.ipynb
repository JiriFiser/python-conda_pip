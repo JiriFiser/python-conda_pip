{
 "cells": [
  {
   "cell_type": "markdown",
   "metadata": {},
   "source": [
    "# Objekty a proměnné\n",
    "\n",
    "## Základní objekty\n",
    "\n",
    "Základní funkcí programovacích jazyků je manipulace (vytváření, transformace, interakce, apod.) s tzv. objekty.\n",
    "\n",
    "Objektem může být například:\n",
    "* interní representace části počítačové paměti (číslo, posloupnost znaků, apod.). Tyto objekty se běžně označují jako **hodnoty** (angl. *value*).\n",
    "* datová representace (model) reálného objektu (věci, člověka, přírodního fenoménu)\n",
    "* kolekce (souhrn, množina) jednodušších objektů\n",
    "* representace prostředku nabízeného operačním systémem resp.počítačovým hardwarem nebo internetem (soubor, internetová služba)\n",
    "\n",
    "Základními objekty univerzálních jazyků včetně těch vysokoúrovňových jsou číselné hodnoty. Ostatní objekty jsou svou podstatou jen jinou interpretací čísel nebo jejich posloupností (výjimkou jsou objekty spojené s externími prostředky).\n",
    "\n",
    "### Číselné hodnoty\n",
    "\n",
    "Celočíselné hodnoty se v Pythonu zapisují pomocí běžných desítkových číslovek. Python navíc neomezuje rozsah representovatelných čísel (jediným omezením je tak pouze operační paměť počítače a trpělivost jeho uživatelů). Zcela standardní je i zápis základních operací: sčítání(+), odečítání (-) a násobení (*).\n",
    "\n",
    "Od verze Python 3.6 lze větší číslice psát s oddělovačem v podobě podtržítka (typicky jako oddělovač tisíců, Python však pozici podtržítka nekontroluje)."
   ]
  },
  {
   "cell_type": "code",
   "execution_count": 85,
   "metadata": {},
   "outputs": [
    {
     "data": {
      "text/plain": [
       "1"
      ]
     },
     "execution_count": 85,
     "metadata": {},
     "output_type": "execute_result"
    }
   ],
   "source": [
    "2 + 99 - 100"
   ]
  },
  {
   "cell_type": "code",
   "execution_count": 86,
   "metadata": {},
   "outputs": [
    {
     "data": {
      "text/plain": [
       "-20514465"
      ]
     },
     "execution_count": 86,
     "metadata": {},
     "output_type": "execute_result"
    }
   ],
   "source": [
    "111 * 333 * -555"
   ]
  },
  {
   "cell_type": "code",
   "execution_count": 87,
   "metadata": {},
   "outputs": [
    {
     "data": {
      "text/plain": [
       "101112222323222211101"
      ]
     },
     "execution_count": 87,
     "metadata": {},
     "output_type": "execute_result"
    }
   ],
   "source": [
    "101  * 1_001 * 10_001 * 100_001 * 1_000_001"
   ]
  },
  {
   "cell_type": "markdown",
   "metadata": {},
   "source": [
    "#### Dělení a číselné třídy (typy)\n",
    "\n",
    "Mírně komplikovanější je dělení, neboť výsledkem běžného dělení dvou celých čísel nemusí být celé číslo. Programovací jazyky (a obecněji počítače) tuto situaci řeší zavedením dvou typů dělení, z nichž každé vrací odlišný výsledek:\n",
    "\n",
    "1. běžné (reálné) dělení vždy vrací tzv. číslo s pohyblivou řádovou čárkou, což je (potenciálně nepřesná) representace racionálního čísla (zlomku). V Pythonu se zapisuje znakem (operátorem) `/`.\n",
    "\n",
    "2. celočíselné dělení, které vždy vrací celé číslo, zanedbává však tzv. zbytek (zjednodušeně řečeno vrací celou část podílu). V Pythonu se tato operace zapisuje dvojznakem `//`."
   ]
  },
  {
   "cell_type": "code",
   "execution_count": 88,
   "metadata": {},
   "outputs": [
    {
     "data": {
      "text/plain": [
       "1.3333333333333333"
      ]
     },
     "execution_count": 88,
     "metadata": {},
     "output_type": "execute_result"
    }
   ],
   "source": [
    "4 / 3  # reálné dělení (vrací dekadický zlomek, který s určitou přesností representuje výsledek)"
   ]
  },
  {
   "cell_type": "code",
   "execution_count": 89,
   "metadata": {},
   "outputs": [
    {
     "data": {
      "text/plain": [
       "1"
      ]
     },
     "execution_count": 89,
     "metadata": {},
     "output_type": "execute_result"
    }
   ],
   "source": [
    "4 // 3 # celočíselné dělení (vrací celou část výsledku)"
   ]
  },
  {
   "cell_type": "markdown",
   "metadata": {},
   "source": [
    "Ve výše uvedeném případě je rozdíl výsledků zřejmý (1 ≠ 1.33333333…). Rozdíl mezi oběma verzemi dělení však může být mnohem skrytější:"
   ]
  },
  {
   "cell_type": "code",
   "execution_count": 90,
   "metadata": {},
   "outputs": [
    {
     "data": {
      "text/plain": [
       "2.0"
      ]
     },
     "execution_count": 90,
     "metadata": {},
     "output_type": "execute_result"
    }
   ],
   "source": [
    "4 / 2"
   ]
  },
  {
   "cell_type": "code",
   "execution_count": 91,
   "metadata": {},
   "outputs": [
    {
     "data": {
      "text/plain": [
       "2"
      ]
     },
     "execution_count": 91,
     "metadata": {},
     "output_type": "execute_result"
    }
   ],
   "source": [
    "4 // 2"
   ]
  },
  {
   "cell_type": "markdown",
   "metadata": {},
   "source": [
    "Zde je výsledek z pohledu matematika stejný, neboť obě čísla lze dělit celočíselně beze zbytku. Různé formátování výsledku (výsledek reálného dělení je zapsán s desetinnou tečkou) však odráží jemný avšak potenciálně důležitý rozdíl z pohledu počítačů. \n",
    "\n",
    "Výsledkem reálného dělení je hodnota representovaná ve tvaru $m \\times 2^e$, kde $m$ je mantisa v rozsahu 0 (včetně) až 1 (vyjma) s omezeným počtem za řádovou tečkou a $e$ binární exponent. Tato hodnota je svou podstatou nepřesná a s omezeným (i když obrovským) rozsahem. Na druhou stranu hodnota zaujímá vždy jen 8 bytů v operační paměti (bez ohledu na řád čísla, tj. např. čísla 2 a $10^{100}$ zaujímají stejný prostor v paměti) a stejně tak na velikosti čísla nezávisí rychlost provádění operací (ta je navíc rychlá, pokud počítač obsahuje speciální podporu této representace na procesoru tzv. FPU). Čísla s touto representací patří do třídy **float** (třída je množina objektů se stejnou representací a operacemi). Označení `float` pochází z anglického termínu *number with floating point representation* (číslo v pohyblivé/plovoucí čárce/tečce).\n",
    "\n",
    "Výsledkem celočíselného dělení celých čísel je číslo v běžné celočíslené representaci (patří do třídy označované `int` což je zkratka anglického slova *integer*). Tato representace má právě opačnou charakteristiku — čísla jsou svou podstatou přesná a neomezená, mohou však v případě velkých čísel (řádu $10^18$ a vyšších) zaujímat více paměti a vést k výrazně pomalejším operacím. Celočíselná aritmetika nevyžaduje speciální podporu na procesoru.\n",
    "\n",
    "#### Čísla třídy `float` (v pohyblivé řádové čárce)"
   ]
  },
  {
   "cell_type": "markdown",
   "metadata": {},
   "source": [
    "Čísla třídy `float` lze přímo zapisovat pomocí běžné notace (jediným rozdílem je použití desetinné tečky na místě desetinné tečky). Navíc lze využít zápis s explictním uvedením (desítkového) exponentu, který pravděpodobně znáte např. z Excelu:"
   ]
  },
  {
   "cell_type": "code",
   "execution_count": 92,
   "metadata": {},
   "outputs": [
    {
     "data": {
      "text/plain": [
       "3.0"
      ]
     },
     "execution_count": 92,
     "metadata": {},
     "output_type": "execute_result"
    }
   ],
   "source": [
    "3.0 # obsahuje desetinnou tečku tj. vyhodnotí se na číslo třídy 'float'"
   ]
  },
  {
   "cell_type": "code",
   "execution_count": 93,
   "metadata": {},
   "outputs": [
    {
     "data": {
      "text/plain": [
       "3250000.0"
      ]
     },
     "execution_count": 93,
     "metadata": {},
     "output_type": "execute_result"
    }
   ],
   "source": [
    "3.25e6"
   ]
  },
  {
   "cell_type": "markdown",
   "metadata": {},
   "source": [
    "Zápis `3.25e6` odpovídá matematické notaci $3{,}25 \\times 10^6$ = 3 250 000. Všimněte si, že standardní výstupní formát se liší od vstupního, avšak i výstup signalizuje číslo v pohyblivé řádové čárce (explicitní tečka a jedna číslice destinné části)."
   ]
  },
  {
   "cell_type": "markdown",
   "metadata": {},
   "source": [
    "Základní operace lze samozřejmě aplikovat i na čísla třídy `float`. Počítají se však v omezené přesnosti a výsledkem je opět číslo třídy `float`."
   ]
  },
  {
   "cell_type": "code",
   "execution_count": 94,
   "metadata": {},
   "outputs": [
    {
     "data": {
      "text/plain": [
       "12.2"
      ]
     },
     "execution_count": 94,
     "metadata": {},
     "output_type": "execute_result"
    }
   ],
   "source": [
    "2.0 * 5.6 + 1.0"
   ]
  },
  {
   "cell_type": "code",
   "execution_count": 95,
   "metadata": {},
   "outputs": [
    {
     "data": {
      "text/plain": [
       "0.0"
      ]
     },
     "execution_count": 95,
     "metadata": {},
     "output_type": "execute_result"
    }
   ],
   "source": [
    "1e11 + 1e-6 - 1e11 # pozor přijde překvapení"
   ]
  },
  {
   "cell_type": "markdown",
   "metadata": {},
   "source": [
    "Omezená přesnost může vést k nepřesným, či dokonce zcela matoucím výsledkům (tj. k výsledkům v nichž žádná číslice není platná). Správným výsledkem výše uvedeného výrazu je $10^{-6}$ (hodnoty $10^{11}$ se vzájemně vyruší). I když je rozdíl zdánlivě velmi malý a zanedbatelný (pokud výše čísla representují vzdálenosti v metrech pak nepřesnost odpovídá chybě v měření vzdálenosti Země od Slunce ($\\approx 1{,}5 \\times 10^{11}$ km) v řádu mikrometrů, nelze jej zcela přehlížet. Nepřesnosti se totiž mohou hromadit (a dosáhnut tak řádu, který již není zanedbatelný) resp. ovlivnit různé testy (například testy na nulovou hodnotu)."
   ]
  },
  {
   "cell_type": "code",
   "execution_count": 96,
   "metadata": {},
   "outputs": [
    {
     "data": {
      "text/plain": [
       "5.551115123125783e-17"
      ]
     },
     "execution_count": 96,
     "metadata": {},
     "output_type": "execute_result"
    }
   ],
   "source": [
    "3.0 * 0.1 - 0.3 # výsledek by měl být 0"
   ]
  },
  {
   "cell_type": "markdown",
   "metadata": {},
   "source": [
    "Číslo $5{,}551115123125783 \\times 10^{-17}$ je sice extrémně malé, ale pro počítače je různé od nuly!"
   ]
  },
  {
   "cell_type": "code",
   "execution_count": 97,
   "metadata": {},
   "outputs": [
    {
     "data": {
      "text/plain": [
       "False"
      ]
     },
     "execution_count": 97,
     "metadata": {},
     "output_type": "execute_result"
    }
   ],
   "source": [
    " 3.0 * 0.1 == 0.3  # operace '==' porovnává dvě hodnoty"
   ]
  },
  {
   "cell_type": "markdown",
   "metadata": {},
   "source": [
    "Hodnota `False` representuje nepravdu, tj.levá strana porovnáná se nerovná pravé!  Počítače jsou  v tomto případě hloupější než absolventi 5.třídy ZŠ."
   ]
  },
  {
   "cell_type": "markdown",
   "metadata": {},
   "source": [
    "> **Úkol**: Ověřte přesnost representace čísel 0.1, 0.2, 0.3 až 0.5 pomocí jejich trojnásobku. Zkuste zdůvodnit výsledek (podívejte se výše, jak jsou tato čísla interně representovaná)."
   ]
  },
  {
   "cell_type": "code",
   "execution_count": 98,
   "metadata": {
    "tags": [
     "h"
    ]
   },
   "outputs": [
    {
     "data": {
      "text/plain": [
       "1.1102230246251565e-16"
      ]
     },
     "execution_count": 98,
     "metadata": {},
     "output_type": "execute_result"
    }
   ],
   "source": [
    "3.0 * 0.2 - 0.6"
   ]
  },
  {
   "cell_type": "code",
   "execution_count": 1,
   "metadata": {
    "tags": [
     "h"
    ]
   },
   "outputs": [
    {
     "data": {
      "text/plain": [
       "-1.1102230246251565e-16"
      ]
     },
     "execution_count": 1,
     "metadata": {},
     "output_type": "execute_result"
    }
   ],
   "source": [
    "3.0 * 0.3 - 0.9"
   ]
  },
  {
   "cell_type": "code",
   "execution_count": 2,
   "metadata": {
    "tags": [
     "h"
    ]
   },
   "outputs": [
    {
     "data": {
      "text/plain": [
       "0.0"
      ]
     },
     "execution_count": 2,
     "metadata": {},
     "output_type": "execute_result"
    }
   ],
   "source": [
    "3.0 * 0.5 - 1.5"
   ]
  },
  {
   "cell_type": "markdown",
   "metadata": {
    "tags": [
     "h"
    ]
   },
   "source": [
    "Jediné přesně definovaný násobek jedné desetiny je 0.5 (a jeho násobky). Číslo 0.5 lze totiž přesně representovat ve dvojkové soustavě, neboť to je $1 \\times 2^{-1}$. Ostatní desetinná čísla jsou lze ve dvojkové soustavě a omezené paměti representovat jen přibližně (jejich rozvoj je totiž periodický stejně jako je tomu v desítkové soustavě u 1/3 nebo 1/7).\n",
    "\n",
    "$0.1$ (desítkově) = $0.0\\overline{0011}$ (binárně)"
   ]
  },
  {
   "cell_type": "markdown",
   "metadata": {},
   "source": [
    "Nyní se vraťme k operacím nad čísly. U čísel třídy `float` je přirozenou operací dělení běžné (reálné) dělení."
   ]
  },
  {
   "cell_type": "code",
   "execution_count": 99,
   "metadata": {},
   "outputs": [
    {
     "data": {
      "text/plain": [
       "10.5"
      ]
     },
     "execution_count": 99,
     "metadata": {},
     "output_type": "execute_result"
    }
   ],
   "source": [
    "42.0 / 4.0"
   ]
  },
  {
   "cell_type": "markdown",
   "metadata": {},
   "source": [
    "V Pythonu však lze celočíselné dělení využít i pro neceločíselná čísla (přesněji čísla třídy `float`). Výsledkem dělení a//b je v tomto případě `float` representace čísla $\\left\\lfloor a/b\\right\\rfloor$, kde závorky s příčkou dole representují nejbližší menší celé číslo (tato definice je zobecněním celočíselného dělení mezi čísly)."
   ]
  },
  {
   "cell_type": "code",
   "execution_count": 100,
   "metadata": {},
   "outputs": [
    {
     "data": {
      "text/plain": [
       "10.0"
      ]
     },
     "execution_count": 100,
     "metadata": {},
     "output_type": "execute_result"
    }
   ],
   "source": [
    "42.0 // 4.0"
   ]
  },
  {
   "cell_type": "markdown",
   "metadata": {},
   "source": [
    "Kde 10.0 je $\\lfloor 10{,}5\\rfloor$ Vztah platí i pro výrazy se zápornými operandy (kde je však méně názorná):"
   ]
  },
  {
   "cell_type": "code",
   "execution_count": 101,
   "metadata": {},
   "outputs": [
    {
     "data": {
      "text/plain": [
       "-4.0"
      ]
     },
     "execution_count": 101,
     "metadata": {},
     "output_type": "execute_result"
    }
   ],
   "source": [
    "-10.0 // 3.0"
   ]
  },
  {
   "cell_type": "markdown",
   "metadata": {},
   "source": [
    "Operace celočísleného dělení mezi desetinnými čísly má i praktické využití. Například lze snadno zjistit kolik úplných otáček provedlo těleso, které provedlo rotaci o 50 radiánů:"
   ]
  },
  {
   "cell_type": "code",
   "execution_count": 102,
   "metadata": {},
   "outputs": [
    {
     "data": {
      "text/plain": [
       "7.0"
      ]
     },
     "execution_count": 102,
     "metadata": {},
     "output_type": "execute_result"
    }
   ],
   "source": [
    "50 // (2 * 3.1416)"
   ]
  },
  {
   "cell_type": "markdown",
   "metadata": {},
   "source": [
    "#### Zbytek po dělení a mocnění\n",
    "\n",
    "Kromě čtvera (přesněji patera) klasických operací Python podporuje i dvě operace, které na jednoduché kalkulačce nenajdeme: zbytek po celočíselném dělení (operátor `%`) a mocnění (operátor `**`). Obě operace jsou použitelné pro obě číselné třídy."
   ]
  },
  {
   "cell_type": "code",
   "execution_count": 103,
   "metadata": {},
   "outputs": [
    {
     "data": {
      "text/plain": [
       "1"
      ]
     },
     "execution_count": 103,
     "metadata": {},
     "output_type": "execute_result"
    }
   ],
   "source": [
    "10 % 3 # zbytek po dělení 10 // 3"
   ]
  },
  {
   "cell_type": "code",
   "execution_count": 104,
   "metadata": {},
   "outputs": [
    {
     "data": {
      "text/plain": [
       "1.0"
      ]
     },
     "execution_count": 104,
     "metadata": {},
     "output_type": "execute_result"
    }
   ],
   "source": [
    "10.0 % 3.0 # totéž ale s výsledkem třídy `float` (zde je výsledek přesný, ale obecně to není zaručeno)"
   ]
  },
  {
   "cell_type": "markdown",
   "metadata": {},
   "source": [
    "Pro záporná a necelá čísla (representovaná třídou `float`) lze využít obecnější vztah `a % b = a - (a//b) * b`, pro nějž (stejně jako v případě zbytku podílu přirozených čísel platí že absolutní hodnota zbytku je  menší než absolutní hodnota dělitele) a znaménko je rovné znaménku dělitele (výsledek je viditelně trochu <span id=\"inprec\">nepřesný</span>):"
   ]
  },
  {
   "cell_type": "code",
   "execution_count": 105,
   "metadata": {},
   "outputs": [
    {
     "data": {
      "text/plain": [
       "1.3000000000000007"
      ]
     },
     "execution_count": 105,
     "metadata": {},
     "output_type": "execute_result"
    }
   ],
   "source": [
    "10.3 % 3.0  # = 10.3 - 3.0 * 3.0 (výsledek je viditelně nepřesný)"
   ]
  },
  {
   "cell_type": "code",
   "execution_count": 106,
   "metadata": {},
   "outputs": [
    {
     "data": {
      "text/plain": [
       "-2"
      ]
     },
     "execution_count": 106,
     "metadata": {},
     "output_type": "execute_result"
    }
   ],
   "source": [
    "10 % -3"
   ]
  },
  {
   "cell_type": "code",
   "execution_count": 107,
   "metadata": {},
   "outputs": [
    {
     "data": {
      "text/plain": [
       "2"
      ]
     },
     "execution_count": 107,
     "metadata": {},
     "output_type": "execute_result"
    }
   ],
   "source": [
    "-10 % 3"
   ]
  },
  {
   "cell_type": "markdown",
   "metadata": {},
   "source": [
    "V případě mocnin je nejjednodušší mocnění celého čísla číslem přirozeným. Pokud jsou obě čísla třídy `int` pak je této třídy i přesný výsledek (i když může být značně velké!)"
   ]
  },
  {
   "cell_type": "code",
   "execution_count": 108,
   "metadata": {},
   "outputs": [
    {
     "data": {
      "text/plain": [
       "115792089237316195423570985008687907853269984665640564039457584007913129639936"
      ]
     },
     "execution_count": 108,
     "metadata": {},
     "output_type": "execute_result"
    }
   ],
   "source": [
    "2 ** 256"
   ]
  },
  {
   "cell_type": "markdown",
   "metadata": {},
   "source": [
    "Výpočet pomocí čísel třídy `float` vrací podobný výsledek, který je však o poznání méně přesný:"
   ]
  },
  {
   "cell_type": "code",
   "execution_count": 109,
   "metadata": {},
   "outputs": [
    {
     "data": {
      "text/plain": [
       "1.157920892373162e+77"
      ]
     },
     "execution_count": 109,
     "metadata": {},
     "output_type": "execute_result"
    }
   ],
   "source": [
    "2.0 ** 256.0"
   ]
  },
  {
   "cell_type": "markdown",
   "metadata": {},
   "source": [
    "Navíc lze snadno získat číslo, které se do objektů třídy `float` nevejde (rozsah je omezen na cca $\\pm 10^{300}$). To vede ke vzniku tzv. výjimky, což je signalizace výjimečného a v daném kontextu neřešitelného problému. Výjimka vede k přerušení výpočtu (bez dosažení výsledku) a výpisu chybového hlášení (v případě komplexnějších aplikací k jejjich předčasnému ukončení)."
   ]
  },
  {
   "cell_type": "code",
   "execution_count": 110,
   "metadata": {},
   "outputs": [
    {
     "ename": "OverflowError",
     "evalue": "(34, 'Numerical result out of range')",
     "output_type": "error",
     "traceback": [
      "\u001b[0;31m---------------------------------------------------------------------------\u001b[0m",
      "\u001b[0;31mOverflowError\u001b[0m                             Traceback (most recent call last)",
      "\u001b[0;32m<ipython-input-110-33de0ab79522>\u001b[0m in \u001b[0;36m<module>\u001b[0;34m()\u001b[0m\n\u001b[0;32m----> 1\u001b[0;31m \u001b[0;36m2.0\u001b[0m \u001b[0;34m**\u001b[0m \u001b[0;36m1024.0\u001b[0m\u001b[0;34m\u001b[0m\u001b[0m\n\u001b[0m",
      "\u001b[0;31mOverflowError\u001b[0m: (34, 'Numerical result out of range')"
     ]
    }
   ],
   "source": [
    "2.0 ** 1024.0"
   ]
  },
  {
   "cell_type": "markdown",
   "metadata": {},
   "source": [
    "Výpis ukazuje, že na vyznačeném řádku (textová šipka zprava) došlo k výjimce třídy `OverflowError` tj. k tzv. přetečení (výsledek je tak velký, že se nemůže vejít do objektu dané třídy).\n",
    "\n",
    "Stejně jako v matematice je operace umocnění zobecněná pro libovolná reálná čísla a to jak v mocněnci tak mocniteli. Výsledek je (pokud leží v oboru reálných čísel) representován číslem třídy `float`. Pokud je komplexní je výsledkem třídy `complex` (Python umí pracovat i s komplexními čísly)."
   ]
  },
  {
   "cell_type": "code",
   "execution_count": 111,
   "metadata": {},
   "outputs": [
    {
     "data": {
      "text/plain": [
       "0.6666666666666666"
      ]
     },
     "execution_count": 111,
     "metadata": {},
     "output_type": "execute_result"
    }
   ],
   "source": [
    "1.5 ** -1  # převrácená hodnota"
   ]
  },
  {
   "cell_type": "code",
   "execution_count": 112,
   "metadata": {},
   "outputs": [
    {
     "data": {
      "text/plain": [
       "1.1066819197003215"
      ]
     },
     "execution_count": 112,
     "metadata": {},
     "output_type": "execute_result"
    }
   ],
   "source": [
    "1.5 ** 0.25  # čtvrtá odmocnina"
   ]
  },
  {
   "cell_type": "code",
   "execution_count": 113,
   "metadata": {},
   "outputs": [
    {
     "data": {
      "text/plain": [
       "(6.123233995736766e-17+1j)"
      ]
     },
     "execution_count": 113,
     "metadata": {},
     "output_type": "execute_result"
    }
   ],
   "source": [
    "(-1.0) ** 0.5  # odmocnina záporného čísla -1 (závorky kolem záporného čísla jsou nutné!)"
   ]
  },
  {
   "cell_type": "markdown",
   "metadata": {},
   "source": [
    "Formátování výsledku (= *i*) je poněkud překvapivé. Reálná část není nulová, ale jen velmi blízká nule (rozdíl je dán nepřesnou representací, žádné z číslic reálné část není <span id=\"invalid\">platné</span>), imaginární část využívá namísto symbolu *i* symbol *j* (ten je užíván například v elektrotechnice). Navíc násobitel 1 (v zápise 1j), který v matematice zbytečný, je v Pythonu povinný (jinak by se pletl s proměnnou *j*). "
   ]
  },
  {
   "cell_type": "markdown",
   "metadata": {},
   "source": [
    " > **Úkol**: Vypočtěte hodnotu $\\sqrt[3]{2-\\sqrt{2}}$."
   ]
  },
  {
   "cell_type": "code",
   "execution_count": 9,
   "metadata": {
    "tags": [
     "h"
    ]
   },
   "outputs": [
    {
     "data": {
      "text/plain": [
       "0.836719269507167"
      ]
     },
     "execution_count": 9,
     "metadata": {},
     "output_type": "execute_result"
    }
   ],
   "source": [
    "\n",
    "(2 - 2**0.5)**(1/3)"
   ]
  },
  {
   "cell_type": "markdown",
   "metadata": {},
   "source": [
    "#### Konverze\n",
    "\n",
    "Python (a většina ostatních programovacích jazyků) umožňuje ve výrazech libovolně míchat čísla třídy `int` s čísly třídy `float`."
   ]
  },
  {
   "cell_type": "code",
   "execution_count": 114,
   "metadata": {},
   "outputs": [
    {
     "data": {
      "text/plain": [
       "7.0"
      ]
     },
     "execution_count": 114,
     "metadata": {},
     "output_type": "execute_result"
    }
   ],
   "source": [
    "2 * 3.0 + 1 # int * float + int"
   ]
  },
  {
   "cell_type": "markdown",
   "metadata": {},
   "source": [
    "Jak lze vidět z příkladu (výsledkem je hodnota třídy `float`) dochází v tomto případě k tzv. sjednocení typů (typ je jiné označení pro třídu hodnot). Při sjednocení se hodnoty striktnějšího typu přizpůsobí typu obecnějšímu, a to tím že se provede jejich konverze na obecnější typ/třídu. V případě čísel se tedy hodnoty třídy `int` konvertují na hodnoty třídy `float`. Ve výše uvedeném případě se tedy hodnota 2 (třídy `int`) převede na hodnotu 2.0 (třídy `float`) a až poté se vyhodnotí celý výraz."
   ]
  },
  {
   "cell_type": "markdown",
   "metadata": {},
   "source": [
    "Při této konverzi se ve většině případů neztrácí žádná informace, neboť čísla typu `float` jsou schopna representovat všechna celá čísla v intervalu cca $(-9 \\times 10^{15}, 9 \\times 10^{15})$. U větších čísel však může dojít k ztrátě přesnosti, přetečení či zbytečné alokaci paměti.\n",
    "\n",
    "Dvanácté Mersennovo prvočíslo (objeveno Eduardem Lucasem v roce 1876) lze vypočítat vztahem:"
   ]
  },
  {
   "cell_type": "code",
   "execution_count": 115,
   "metadata": {},
   "outputs": [
    {
     "data": {
      "text/plain": [
       "170141183460469231731687303715884105727"
      ]
     },
     "execution_count": 115,
     "metadata": {},
     "output_type": "execute_result"
    }
   ],
   "source": [
    "2 ** 127 - 1"
   ]
  },
  {
   "cell_type": "markdown",
   "metadata": {},
   "source": [
    "Smíšené použití `float` a `int` čísel vede k přibližnému výsledku (odečtení jedničky nemá v tomto případě žádný efekt, omezená přesnost `float` nedovoluje representovat u tak velkého čísla jednotky)."
   ]
  },
  {
   "cell_type": "code",
   "execution_count": 116,
   "metadata": {},
   "outputs": [
    {
     "data": {
      "text/plain": [
       "1.7014118346046923e+38"
      ]
     },
     "execution_count": 116,
     "metadata": {},
     "output_type": "execute_result"
    }
   ],
   "source": [
    "2.0 ** 127 - 1"
   ]
  },
  {
   "cell_type": "code",
   "execution_count": null,
   "metadata": {
    "collapsed": true
   },
   "outputs": [],
   "source": []
  },
  {
   "cell_type": "markdown",
   "metadata": {},
   "source": [
    "Výsledek je nepřesný, je však relativně rychle spočítán a nevyžaduje příliš mnoho paměti. Mocnina se totiž vypočte ve `float` aritmetice pomocí exponecionální a logaritmické funkce (127 se předtím konvertuje na 127.0). Na závěr se k výslednému `float` číslu připočte `float` hodnota 1.0 (po přetypování). To sice nemá žádný efekt je to však alespoň rychlé.\n",
    "\n",
    "To však zdaleka není ten nejhorší možný zápis. Ještě o řád horší je:"
   ]
  },
  {
   "cell_type": "code",
   "execution_count": 117,
   "metadata": {},
   "outputs": [
    {
     "data": {
      "text/plain": [
       "1.7014118346046923e+38"
      ]
     },
     "execution_count": 117,
     "metadata": {},
     "output_type": "execute_result"
    }
   ],
   "source": [
    "2 ** 127 - 1.0"
   ]
  },
  {
   "cell_type": "markdown",
   "metadata": {},
   "source": [
    "Výsledek je stejný, vyžaduje však celočíselný (a tudíž přesný) výpočet $2^{127}$ (výsledkem je číslo s 38 číslicemi, zaujímající 16 bytů paměti a desítky instrukcí, neboť i ty nejmodernější počítače přímo provádějí jen 64 bitové operace = 8 bytů). Až poté je toto číslo převedeno na float representaci (přizpůsobí se číslu 1.0 v operaci odečítání, která se vždy provádí až po mocnění) přičemž se vyhodí 8 bytů dat a cca 22 dekadických číslic výsledku) a to zcela zbytečně (ani zde odečtení 1.0 nic nezmění)."
   ]
  },
  {
   "cell_type": "markdown",
   "metadata": {},
   "source": [
    "Obecně platí, že je lepší se automatickým konverzím vyhnout (tj.používat jen celá čísla s celočíselnou aritmetikou nebo čísla s desetinnou částí s aritmetikou čísel s pohyblivou řádovou čárkou). Pokud už jsou potřeba lze je explicitně vynutit pomocí následujících zápisů (ve skutečnosti se jedná o volání konverzních funkcí):"
   ]
  },
  {
   "cell_type": "code",
   "execution_count": 118,
   "metadata": {},
   "outputs": [
    {
     "data": {
      "text/plain": [
       "2.0"
      ]
     },
     "execution_count": 118,
     "metadata": {},
     "output_type": "execute_result"
    }
   ],
   "source": [
    "float(2)  # funkce float převádí číslo libovolného typu na typ float"
   ]
  },
  {
   "cell_type": "code",
   "execution_count": 119,
   "metadata": {},
   "outputs": [
    {
     "data": {
      "text/plain": [
       "3"
      ]
     },
     "execution_count": 119,
     "metadata": {},
     "output_type": "execute_result"
    }
   ],
   "source": [
    "int(3.1415) # funkce int převádí čísla na typ `int` (u necelých čísel odsekává desetinnou část)"
   ]
  },
  {
   "cell_type": "markdown",
   "metadata": {},
   "source": [
    ">**Úkol**: Co je výsledkem následujícího výpočtu: `int((1.0/49.0) * 49)`. Vyzkoušejte a zdůvodněte."
   ]
  },
  {
   "cell_type": "code",
   "execution_count": 1,
   "metadata": {
    "tags": [
     "h"
    ]
   },
   "outputs": [
    {
     "data": {
      "text/plain": [
       "0"
      ]
     },
     "execution_count": 1,
     "metadata": {},
     "output_type": "execute_result"
    }
   ],
   "source": [
    "int((1.0/49.0) * 49)"
   ]
  },
  {
   "cell_type": "markdown",
   "metadata": {
    "tags": [
     "h"
    ]
   },
   "source": [
    "Očekávaný výsledek je 1, neboť vynásobíme-li $\\frac{1}{49}$ číslem 49 měli bychom dostat hodnotu 1, která se při převodu na typ `int`. Ve světě nepřesné matematiky je výraz $\\frac{1}{49} \\times 49$ roven 0.99999999…, což po odseknutí desetinné části vede k hodnotě 0. Malá chyba při dělení vede v tomto případě ke katastrofálně chybnému výsledku!"
   ]
  },
  {
   "cell_type": "markdown",
   "metadata": {},
   "source": [
    "#### Priorita operátorů"
   ]
  },
  {
   "cell_type": "markdown",
   "metadata": {},
   "source": [
    "U složitějších výrazů s  více operátory hraje roli tzv. *priorita operátorů*. Operátory s vyšší prioritou se vyhodnocují dříve než operátory s prioritou nižší. To není nic překvapivého, neboť stejný přístup používá i běžný matematický zápis. Už od základní školy například víte, že násobení má přednost před sčítáním:"
   ]
  },
  {
   "cell_type": "code",
   "execution_count": 120,
   "metadata": {},
   "outputs": [
    {
     "data": {
      "text/plain": [
       "11"
      ]
     },
     "execution_count": 120,
     "metadata": {},
     "output_type": "execute_result"
    }
   ],
   "source": [
    "2 + 3 * 3"
   ]
  },
  {
   "cell_type": "markdown",
   "metadata": {},
   "source": [
    "Pořadí vyhodnocování lze stejně jako v matematickém zápise ovlivnit pomocí závorek."
   ]
  },
  {
   "cell_type": "code",
   "execution_count": 121,
   "metadata": {},
   "outputs": [
    {
     "data": {
      "text/plain": [
       "15"
      ]
     },
     "execution_count": 121,
     "metadata": {},
     "output_type": "execute_result"
    }
   ],
   "source": [
    "(2 + 3) * 3"
   ]
  },
  {
   "cell_type": "markdown",
   "metadata": {},
   "source": [
    "Pokud mají operace stejnou prioritu, pak se vyhodnocují zleva doprava (tj. ve směru ve kterém je čteme)."
   ]
  },
  {
   "cell_type": "code",
   "execution_count": 122,
   "metadata": {},
   "outputs": [
    {
     "data": {
      "text/plain": [
       "1"
      ]
     },
     "execution_count": 122,
     "metadata": {},
     "output_type": "execute_result"
    }
   ],
   "source": [
    "2 * 3 // 5 # nejdříve se násobí, pak se dělí (obě operace mají stejnou prioritu)"
   ]
  },
  {
   "cell_type": "code",
   "execution_count": 123,
   "metadata": {},
   "outputs": [
    {
     "data": {
      "text/plain": [
       "0"
      ]
     },
     "execution_count": 123,
     "metadata": {},
     "output_type": "execute_result"
    }
   ],
   "source": [
    "2 * (3 // 5) # pokud by se dělilo dříve pak získáme jiný výsledek"
   ]
  },
  {
   "cell_type": "markdown",
   "metadata": {},
   "source": [
    "Pořadí priorit v Pythonu odpovídá očekávání většiny uživatelů (vychází důsledně z běžného matematického úzu). Ve většině případů se stačí řídit citem a jen v případě, kdy si nejste jisti využívat závorky (příliš mnoho závorek, programátorova smrt). V případě nejistoty lze navíc konzultovat dokumentaci např. na https://docs.python.org/3/reference/expressions.html#operator-precedence (tabulka je řazena od nejnižší k nejvyšší prioritě).\n",
    "\n",
    "Zde bych zmínil jen dvě situace, kdy může Python nepříjemně překvapit.\n",
    "\n",
    "Prvním nepříjemným překvapením je priorita mocniny."
   ]
  },
  {
   "cell_type": "code",
   "execution_count": 124,
   "metadata": {},
   "outputs": [
    {
     "data": {
      "text/plain": [
       "-1"
      ]
     },
     "execution_count": 124,
     "metadata": {},
     "output_type": "execute_result"
    }
   ],
   "source": [
    "-1 ** 2"
   ]
  },
  {
   "cell_type": "markdown",
   "metadata": {},
   "source": [
    "Mocnina má vyšší priorotu než unární mínus (operátor opačné hodnoty), zápis je interpretován jako `-(1 ** 2)`! Mezery nehrají při vyhodnocování žádnou roli!"
   ]
  },
  {
   "cell_type": "code",
   "execution_count": 125,
   "metadata": {},
   "outputs": [
    {
     "data": {
      "text/plain": [
       "1"
      ]
     },
     "execution_count": 125,
     "metadata": {},
     "output_type": "execute_result"
    }
   ],
   "source": [
    "(-1) ** 2"
   ]
  },
  {
   "cell_type": "markdown",
   "metadata": {},
   "source": [
    "Druhým a snad ještě nepříjemnějším překvapením je skutečnost, že kvůli ztrátám přesnosti, přetypování a přetečení **neplatí v počítačové aritmetice ani elementární matematické zákony**. \n",
    "\n",
    "V Pythonu například v některých (relativně řídkých) situacích neplatí zákon asociativnosti u násobení čísel $(a \\times b) \\times c = a \\times (b \\times c)$"
   ]
  },
  {
   "cell_type": "code",
   "execution_count": 126,
   "metadata": {},
   "outputs": [
    {
     "data": {
      "text/plain": [
       "inf"
      ]
     },
     "execution_count": 126,
     "metadata": {},
     "output_type": "execute_result"
    }
   ],
   "source": [
    "(1e200 * 1e200) * 1e-100"
   ]
  },
  {
   "cell_type": "markdown",
   "metadata": {},
   "source": [
    "V tomto případě je výsledkem přetečení, které však nevede k výjimce ale ke speciální hodnotě `inf` representující nekonečno."
   ]
  },
  {
   "cell_type": "code",
   "execution_count": 127,
   "metadata": {},
   "outputs": [
    {
     "data": {
      "text/plain": [
       "1e+300"
      ]
     },
     "execution_count": 127,
     "metadata": {},
     "output_type": "execute_result"
    }
   ],
   "source": [
    "1e200 * (1e200 * 1e-100)"
   ]
  },
  {
   "cell_type": "markdown",
   "metadata": {},
   "source": [
    "Pokud změníme pořadí vyhodnocení je výsledek správný (nevznikne mezivýsledek, který nelze  representovat)."
   ]
  },
  {
   "cell_type": "markdown",
   "metadata": {},
   "source": [
    "## Proměnné"
   ]
  },
  {
   "cell_type": "markdown",
   "metadata": {},
   "source": [
    "Objekty vzniklé při vyhodnocení pythonských výrazů existují jen krátce. Mezivýsledky zanikají ihned poté, co jsou použity pro další výpočet, konečné výsledky výrazů použitých v Jupyter notebooku ihned poté, co jsou zobrazeny ve výstupním řádku.\n",
    "\n",
    "Při zániku objektu je uvolněna paměť, kterou zaujímaly a ztrácí se jakákoliv informace o jejich existenci. Pokud stejný výraz vyhodnotíme podruhé, vzniká nový objekt.\n",
    "\n",
    "Python však (stejně jako mnohé další jazyky) nabízí prostředek pro dlouhodobější uchovávání objektů — **proměnné**. \n",
    "\n",
    "Proměnná je jakýsi *štítek* nebo *nálepka*, kterým lze dočasně označit libovolný objekt. To má dva (vzájemně provázané) důsledky:\n",
    "\n",
    "1. objekt lze odkazovat či identifikovat pomocí proměnné (stejně jako například lidi odkazujeme jménem)\n",
    "2. objekt existuje tak dlouho dokud existuje proměnná, která jej odkazuje. Životnost proměnných se může lišit podle kontextu v němž vznikly, obecně však pokrývá větší počet řádků (a tudíž i výrazů). \n",
    "\n",
    "Pro označení objektu proměnnou/štítkem lze využít tzv. **přiřazení**."
   ]
  },
  {
   "cell_type": "code",
   "execution_count": 128,
   "metadata": {
    "collapsed": true
   },
   "outputs": [],
   "source": [
    "a = 2 ** 4_423 - 1"
   ]
  },
  {
   "cell_type": "markdown",
   "metadata": {},
   "source": [
    "Nalevo od znaku \"=\" se uvádí jméno proměnné (popisek štítku) napravo výraz, jehož vyhodnocením vznikne objekt, který je danou proměnnou označen.\n",
    "\n",
    "Tato proměnná vznikla v kontextu aktuálního notebooku a existuje od okamžiku vyhodnocení přiřazení (`Ctrl + Shift`) až do uzavření notebooku. Lze ji tak využít pro všechny následující výpočty."
   ]
  },
  {
   "cell_type": "code",
   "execution_count": 129,
   "metadata": {},
   "outputs": [
    {
     "data": {
      "text/plain": [
       "285542542228279613901563566102164008326164238644702889199247456602284400390600653875954571505539843239754513915896150297878399377056071435169747221107988791198200988477531339214282772016059009904586686254989084815735422480409022344297588352526004383890632616124076317387416881148592486188361873904175783145696016919574390765598280188599035578448591077683677175520434074287726578006266759615970759521327828555662781678385691581844436444812511562428136742490459363212810180276096088111401003377570363545725120924073646921576797146199387619296560302680261790118132925012323046444438622308877924609373773012481681672424493674474488537770155783006880852648161513067144814790288366664062257274665275787127374649231096375001170901890786263324619578795731425693805073056119677580338084333381987500902968831935913095269821311141322393356490178488728982288156282600813831296143663845945431144043753821542871277745606447858564159213328443580206422714694913091762716447041689678070096773590429808909616750452927258000843500344831628297089902728649981994387647234574276263729694848304750917174186181130688518792748622612293341368928056634384466646326572476167275660839105650528975713899320211121495795311427946254553305387067821067601768750977866100460014602138408448021225053689054793742003095722096732954750721718115531871310231057902608580607"
      ]
     },
     "execution_count": 129,
     "metadata": {},
     "output_type": "execute_result"
    }
   ],
   "source": [
    "a  # proměnná se vyhodnotí na objekt, který odkazuje (označuje)"
   ]
  },
  {
   "cell_type": "markdown",
   "metadata": {},
   "source": [
    "Proměnnou lze využít i ve složitějších výrazech. Vždy se vyhodnotí na objekt, který je danou proměnnou oštítkován resp. odkazován (a stále je to tentýž objekt, není potřeba jej počítat znovu)."
   ]
  },
  {
   "cell_type": "code",
   "execution_count": 130,
   "metadata": {},
   "outputs": [
    {
     "data": {
      "text/plain": [
       "7"
      ]
     },
     "execution_count": 130,
     "metadata": {},
     "output_type": "execute_result"
    }
   ],
   "source": [
    "a % 10"
   ]
  },
  {
   "cell_type": "markdown",
   "metadata": {},
   "source": [
    "####  Sdílení objektů mezi proměnnými\n",
    "\n",
    "Proměnné mohou být přirozeně použity i na pravé straně přiřazení."
   ]
  },
  {
   "cell_type": "code",
   "execution_count": 131,
   "metadata": {
    "collapsed": true
   },
   "outputs": [],
   "source": [
    "b = a\n",
    "c = a % 3"
   ]
  },
  {
   "cell_type": "markdown",
   "metadata": {},
   "source": [
    "Proměnná `b` nyní odkazuje na stejný objekt jako proměnná `a` (tj. objekt má zároveň štítek `a` i `a`). Proměnná `c` odkazuje na zbytek po dělení tohoto čísla třemi (což může být jen číslo jedna nebo dva). Tento objekt je odkazován jedinou proměnnou (má jediný štítek)."
   ]
  },
  {
   "cell_type": "code",
   "execution_count": 132,
   "metadata": {},
   "outputs": [
    {
     "data": {
      "text/plain": [
       "1"
      ]
     },
     "execution_count": 132,
     "metadata": {},
     "output_type": "execute_result"
    }
   ],
   "source": [
    "c"
   ]
  },
  {
   "cell_type": "markdown",
   "metadata": {},
   "source": [
    "Jak je vidno, jeden objekt může být v určitém okamžiku odkazován z více proměnných (tj. objekt může být opatřen více štítky). Je proto nutné striktně odlišovat proměnou (štítek) a objekt, na nějž proměnná odkazuje (proměnná není objekt a objekt není proměnnou!). Pro pochopení vztahů mezi proměnnými je dobrá vizuální představa podobná následujícímu obrázku (proměnné jsou na něm znázorněny obdélníky, objekty elipsami).  Zápis `int:1` vyjadřuje ve zkratce, že je to objekt representující číslo 1 třídy `int`."
   ]
  },
  {
   "cell_type": "markdown",
   "metadata": {},
   "source": [
    "![variables and objects](variables.svg)"
   ]
  },
  {
   "cell_type": "markdown",
   "metadata": {},
   "source": [
    "Proměnná sice může sice v jednom okamžiku odkazovat jen jeden objekt (štítek nemůže být nalepen najednou na dvou objektech), odkaz však může být bez problémů přesměrován (ve štítkovém modelu to odpovídá odlepení z jednoho objektu a přilepení na jiný)."
   ]
  },
  {
   "cell_type": "code",
   "execution_count": 133,
   "metadata": {
    "collapsed": true
   },
   "outputs": [],
   "source": [
    "b = c  # b nově odkazuje na objekt odkazovaný proměnnou c\n",
    "c = 0  # c je přesměrováno na nový objekt (0 třídy 'int')"
   ]
  },
  {
   "cell_type": "code",
   "execution_count": 134,
   "metadata": {},
   "outputs": [
    {
     "data": {
      "text/plain": [
       "1"
      ]
     },
     "execution_count": 134,
     "metadata": {},
     "output_type": "execute_result"
    }
   ],
   "source": [
    "b   # podíváme se co označuje proměnná b"
   ]
  },
  {
   "cell_type": "code",
   "execution_count": 135,
   "metadata": {},
   "outputs": [
    {
     "data": {
      "text/plain": [
       "0"
      ]
     },
     "execution_count": 135,
     "metadata": {},
     "output_type": "execute_result"
    }
   ],
   "source": [
    "c  # a proměnná c"
   ]
  },
  {
   "cell_type": "markdown",
   "metadata": {},
   "source": [
    "Novou situaci lze graficky znázornit následujícím obrázkem."
   ]
  },
  {
   "cell_type": "markdown",
   "metadata": {},
   "source": [
    "![variables and objects - phase 2](variables2.svg)"
   ]
  },
  {
   "cell_type": "markdown",
   "metadata": {},
   "source": [
    "Zajímavá situace nastane po následujícím přiřazení:"
   ]
  },
  {
   "cell_type": "code",
   "execution_count": 136,
   "metadata": {
    "collapsed": true
   },
   "outputs": [],
   "source": [
    "c = c + 1"
   ]
  },
  {
   "cell_type": "markdown",
   "metadata": {},
   "source": [
    "Nejdříve vznikne nový objekt třídy `int`, který je výsledkem sečtení objektů `int:0` (odkazovaný proměnnou `c`) a `int:1` (dočasně vytvořený uvedením konstanty). Tento objekt (opět `int:1`) je označen proměnnou (štítkem) `c`. Výsledek lze vidět na dalším obrázku.\n",
    "\n",
    "![variables and objects — phase 3](variables3.svg)"
   ]
  },
  {
   "cell_type": "markdown",
   "metadata": {},
   "source": [
    "Všimněte si, že objekt int:0 už není odkazován žádnou proměnnou (tj. je beze štítku). Proto není viditelný a může být destruován. Ve skutečnosti je to jen detail; objekt, který není po dokončení vyhodnocení nějakého výrazu označován nějakou proměnnou, není de facto dostupný a tudíž jako by nebyl. Programovací jazyky přinášejí téměř dokonalý solipsismus, co nevidíte nebo neznáte, neexistuje (a jakoby ani nikdy neexistovalo)."
   ]
  },
  {
   "cell_type": "markdown",
   "metadata": {},
   "source": [
    "**Důležité upozornění**:\n",
    "\n",
    "Pro popis proměnných se občas místo štítkového modelu (proměnná je dočasný štítek nalepený na objekt) používá model schránkový (proměnná je pojmenovaná schránka, do níž se vkládá objekt).\n",
    "\n",
    "Tento model není pro Python vhodný,neboť nedokáže popsat sdílení objektů (jeden objekt nemůže být zároveň ve dvou schránkách může však mít dva různé štítky). Důvodem je skutečnost, že proměnné obsahují ve skutečnosti odkaz na objekt nikoliv objekt samotný. Problémy jsou i s definicí doby života objektu (objekt nezaniká tím, že je přepsán, ale tím že není odkazován žádnou proměnnou).\n",
    "\n",
    "Na druhé straně je popis schránkového modelu o něco jednodušší a v případě čísel i dostatečný. Navíc i názvy proměnná (ang. *variable*) a přiřazení (*assignment*) vycházejí spíše ze schránkového modelu (z historických důvodů).\n",
    "\n",
    "Podívejme se například na následující přiřazení:"
   ]
  },
  {
   "cell_type": "code",
   "execution_count": 137,
   "metadata": {
    "collapsed": true
   },
   "outputs": [],
   "source": [
    "x = x + 1"
   ]
  },
  {
   "cell_type": "markdown",
   "metadata": {},
   "source": [
    "Ve štítkovém modelu lze toto přiřazení popsat takto:\n",
    "\n",
    "Objekt opatřený proměnnou (štítkem) `x` se sečte s objektem `int:1`, čímž vznikne nový objekt, který je následně označen touže proměnou (štítkem) tj. myšlený štítek je odlepen z původního objektu a nalepen na nový  (tím původní objekt štítek ztrácí a pokud žádný jiný nemá pak zaniká).\n",
    "\n",
    "Což lze ekvivalentně vyjádřit pomocí odkazů (což může být pro někoho přehlednější viz také obrázky výše):\n",
    "\n",
    "Objekt odkazovaný proměnnou `x`je sečten s objektem `int:1`, čímž vznikne nový objekt, na který je odkaz v proměnné `x` přesměrován (tj. odkazuje nový objekt). Pokud není původní objekt odkazován jinou proměnnou pak zaniká.\n",
    "\n",
    "Ve schránkové sémantice lze toto přiřazení popsat takto: k objektu uloženému v proměnné 'x' je přičtena 1 a výsledek je uložen zpět do stejné proměnné (tj. proměnná se změní).\n",
    "\n",
    "Pokud navíc přijmeme předpoklad, že číselný objekt lze změnit (což není ve skutečnosti pravda), pak lze použít ještě stručnější popis – hodnota/objekt v proměnné `x` je zvýšena o jedničku (proměnná je proměnná protože se mění její hodnota).\n",
    "\n",
    "Z důvodů stručnosti se často v praxi používají stručnější i když nepřesné popisy schránkového modelu. Je to téměř nutné především v případě složitějších programů s mnoha přiřazeními. Proto budu tento přístup používat i já (i když ve velmi omezené míře). Chápejte to však jen jako užitečnou, i když nepřesnou zkratku."
   ]
  },
  {
   "cell_type": "markdown",
   "metadata": {},
   "source": [
    "#### Symbolické označení objektů\n",
    "\n",
    "Proměnné hrají v programovacích jazycích klíčovou roli. Nejjednodušším způsobem využití je symbolické označení hodnot ve výrazech:"
   ]
  },
  {
   "cell_type": "code",
   "execution_count": 138,
   "metadata": {},
   "outputs": [
    {
     "data": {
      "text/plain": [
       "3.2036e-07"
      ]
     },
     "execution_count": 138,
     "metadata": {},
     "output_type": "execute_result"
    }
   ],
   "source": [
    "%precision %.5g\n",
    "\n",
    "kappa = 6.67408e-11  # gravitační konstanta\n",
    "m1 = 60  #  hmotnost prvního objektu (kg)\n",
    "m2 = 80  # hmotnost druhého objektu (kg)\n",
    "r = 1    # vzdálenost (m)\n",
    "kappa * (m1*m2) / r**2"
   ]
  },
  {
   "cell_type": "markdown",
   "metadata": {},
   "source": [
    "Je zřejmé, že kód počítá vzájemné gravitační sílu, která působí mezi dvěma objekty o hmotnostech $m_1$ = 60 kg a $m_2$ = 80 ve vzdálenosti 1 metru (charakter objektů nechám na Vaší představivosti).\n",
    "\n",
    "První řádek předchozí vstupní buňky není kód v Pythonu, ale tzv. **magický kód** Jupyteru. Magický kód vždy začíná znakem procento a slouží pro různá nastavení a akce v notebooku. V tomto případě je použit magický kód `precesion`, který nastavuje formátování číselných výstupů (nastavení platí od daného místa až do konce notebooku).\n",
    "Výstup běžně obsahuje všech 15 platných číslic, z nichž bohužel ne všechny bývají platné (viz například nepřesný výstup <a href=\"#inprec\">výše</a>). Formát `%.5g` omezuje výstup na prvních pět číslic, přičemž inteligentně využívá zápis s exponentem pro malá a velká čísla. Výstupním formátům se budeme věnovat později detailněji. "
   ]
  },
  {
   "cell_type": "markdown",
   "metadata": {},
   "source": [
    "#### Identifikátory proměnných\n",
    "\n",
    "Všimněte si také názvů proměnných. Pythonské identifikátory (mezi něž názvy proměnné patří) mohou obsahovat libovolné písmenné znaky (nejen latinkové) a číslice (nikoliv jen arabské). Číslice se však nesmí vyskytovat na první pozici identifikátoru. Zakázány jsou také některá anglická slova, která mají v Pythonu speciální význam (typicky jsou to jména příkazů). Symboly a speciální (nepísmenné a nečíselné) jsou zakázány s jedinou výjimkou, jíž je znak podtržítko (`_`). Nepřípustná je i mezera resp. libovolbý mezerový znak (tabulátor, odřádkování)\n",
    "\n",
    "Kromě povinných pravidel se uplaňuje i určitý úzus. Jeho narušením neučiníte kód nesprávným, můžete ho však učinit méně čitelným pro ostatní programátory (kteří dodržení úzu mnohdy podvědomě očekávají).\n",
    "\n",
    "Mezi základní doporučení patří:\n",
    "1. jména proměnných by měla začínat malým písmenem\n",
    "2. pokud jsou identifikátory víceslovné, pak by slova měla být oddělena podtržítky (alternativně lze každé slovo kromě prvního zahájit velkým písmenem, v tomto případě se nepoužívají žádné explicitní oddělovače, tzv. velbloudí notace)\n",
    "3. identidikátory by měly užívat pouze anglickou abecedu a běžné euroarabské číslice (znaky jiných abeced nejsou zakázány, lze je však obtížněji vkládat a mohou být poškozeny při přenosu do prostředí s jiným kódováním znaků).'\n",
    "4. nepoužívejte zkratky resp. výrazněji zkrácená pojmenování (výjimkou jsou standardní zkratky, standardní označení veličin apod.). Dlouhé identifikátory mohou být nepohodlné, ale jsou jednoznačné. Navíc mnoho prostředí nabízí nástroj pro automatické doplňování (již použitých) identifikátorů. V Jupyteru lze po napsání několika prvních znaků stisknout klávesu tabulátor (identifikátor se buď rovnou doplní, nebo se zobrazí nabídka možných doplnění, z níž si můžete vybrat).\n",
    "5. běžné identifikátory by neměly začínat podtržítkem (počáteční podtržítko využívají identifikátory se speciálním významem)"
   ]
  },
  {
   "cell_type": "code",
   "execution_count": 139,
   "metadata": {},
   "outputs": [
    {
     "data": {
      "text/plain": [
       "504000"
      ]
     },
     "execution_count": 139,
     "metadata": {},
     "output_type": "execute_result"
    }
   ],
   "source": [
    "# vhodné identifikátory (přiřazení)\n",
    "\n",
    "prumerny_plat = 42_000\n",
    "prumernyPlat = 42_000 # pro Python méně typická tzv. velbloudí notace\n",
    "\n",
    "alfa0 = 2e-7\n",
    "alfa_0 = 2e-7  # explictnější oddělení spodního indexu\n",
    "\n",
    "pocet_mesicu = 12\n",
    "dph = 1.22  # standardní zkratka\n",
    "\n",
    "# využití\n",
    "pocet_mesicu * prumerny_plat # zkuste doplnění po klávese Tab"
   ]
  },
  {
   "cell_type": "code",
   "execution_count": 140,
   "metadata": {
    "collapsed": true
   },
   "outputs": [],
   "source": [
    "# méně vhodné identifikátory\n",
    "\n",
    "κ = 6.67408e-11  # řecké kappa\n",
    "ℵ = 1   # hebrejské aleph\n",
    "\n",
    "průměrný_plat = 42_000 # znaky mimo anglickou abecedu\n",
    "ppvp = 80_000 # nečitelná zkratka (průměrný plat vedoucího pracovníka)\n",
    "\n",
    "# zcela nevhodné idenrfifikátory\n",
    "\n",
    "R1887211 = 0.0  # velké počáteční písmeno + nejasné (a velké) číslo\n",
    "_x = R1887211   # počáteční podtržítko\n",
    "_ = 0   # opět počáteční podtžítko"
   ]
  },
  {
   "cell_type": "markdown",
   "metadata": {},
   "source": [
    "Poznámka: písmena řecké abecedy a matematické speciální znaky lze v Jupyter notebooku (pouze v kódu) vkládat pomocí sekvence `\\ + TeX_jméno + Tab`. Znak κ tak lze vložit sekvencí `\\kappa`, jenž je následovaný stiskem tabulátoru (stačí zadat jen začátek TeXovského jména)."
   ]
  },
  {
   "cell_type": "markdown",
   "metadata": {},
   "source": [
    "#### Eliminace zbytečných výpočtů\n",
    "\n",
    "Kromě symbolického označení objektů mají proměnné i další funkce. Jednou z nich je i eliminace (zbytečně) opakovaných výpočtů. Ukažme si to na praktickém příkladě."
   ]
  },
  {
   "cell_type": "markdown",
   "metadata": {},
   "source": [
    "Pro výpočet hodnoty výrazu $\\frac{1}{x^2} + \\frac{1}{x^2 + x/2} + \\frac{1}{x^2-x/2}$ pro $x = 2^{10}$ lze použít přímočaré řešení (dosazením hodnoty $2^{10}$ za `x`). Výraz $x^2$ je z důvodů efektivity počítán jako `x * x`."
   ]
  },
  {
   "cell_type": "code",
   "execution_count": 141,
   "metadata": {},
   "outputs": [
    {
     "data": {
      "text/plain": [
       "2.861e-06"
      ]
     },
     "execution_count": 141,
     "metadata": {},
     "output_type": "execute_result"
    }
   ],
   "source": [
    "1/(2**10 * 2**10) + 1/(2**10 * 2**10 + 2**10/2) + 1/(2**10 * 2**10 - 2**10/2)"
   ]
  },
  {
   "cell_type": "markdown",
   "metadata": {},
   "source": [
    "Již na první pohled to není nejefektivnější řešení: výraz je dlouhý a při zápise je snadné udělat chybu. Navíc se podvýraz `2**10` počítá osmkrát! Pokud navíc chceme změnit vstupní hodnotu $x$ musíme provést záměnu výrazu `x**10` v každém z jeho osmi výskytů, což je nejen otravné, ale i náchylné chybám.   \n",
    "\n",
    "Řešení je nasnadě (doufám, že jste ani jiné neuvažovali). Do proměnné `x` vložíme hodnotu $2^{10}$ a pak výraz zapíšeme pomocí `x`. "
   ]
  },
  {
   "cell_type": "code",
   "execution_count": 142,
   "metadata": {},
   "outputs": [
    {
     "data": {
      "text/plain": [
       "2.861e-06"
      ]
     },
     "execution_count": 142,
     "metadata": {},
     "output_type": "execute_result"
    }
   ],
   "source": [
    "x = 2.0 ** 10.0\n",
    "1.0/(x * x) + 1.0/(x * x + x/2.0) + 1.0/(x * x - x/2.0) "
   ]
  },
  {
   "cell_type": "markdown",
   "metadata": {},
   "source": [
    "To je mnohem přehlednější a méně náchylné k chybám. Změna vstupní hodnoty je triviální. Navíc výpočet mocniny se provádí jen jednou. Jen tak mimochodem jsme výpočet optimalizovali důsledným uváděním konstant třídy `float`. Výpočet se tak celý a důsledně provádí ve `float` arimetice bez zbytečného (a mnohdy zbytečně pozdního) přetypování.\n",
    "\n",
    "Můžeme však jít ještě dál. Ve výrazu se zbytečně třikrát počítá hodnota `x * x` a dvakrát hodnota `x/2.0`. I ty můžeme vypočítat předem a umístit do proměnných."
   ]
  },
  {
   "cell_type": "code",
   "execution_count": 143,
   "metadata": {},
   "outputs": [
    {
     "data": {
      "text/plain": [
       "2.861e-06"
      ]
     },
     "execution_count": 143,
     "metadata": {},
     "output_type": "execute_result"
    }
   ],
   "source": [
    "x = 2.0 ** 10.0\n",
    "x2 = x * x  # x**2 nebo x^2 není bohužel platný identifikátor proměnné\n",
    "xpul = x / 2.0 # xpul namísto x_půl\n",
    "1.0 / x2 + 1.0 / (x2 + xpul) + 1.0 / (x2 - xpul)"
   ]
  },
  {
   "cell_type": "markdown",
   "metadata": {},
   "source": [
    "Tato úprava výraz výrazně nezjednoduší a nezpřehlední (není např. na první pohled jasné, co je `x2`). Očekávatelné je však určité zrychlení (eliminujeme 3× operaci násobení a 2× operaci dělení).\n",
    "\n",
    "\n",
    "#### Benchmarking\n",
    "\n",
    "Očekávání lze navíc snadno potvrdit. Jupyter podporuje jednoduchý *benchmarking* tj. měření času běhu programů a jejich fragmentů. Stačí uvést magický příkaz `%%timeit` na začátku vstupní buňky (benchmarking je založen na standardní knihovně `timeit`)."
   ]
  },
  {
   "cell_type": "code",
   "execution_count": 78,
   "metadata": {},
   "outputs": [
    {
     "name": "stdout",
     "output_type": "stream",
     "text": [
      "235 ns ± 7.14 ns per loop (mean ± std. dev. of 7 runs, 1000000 loops each)\n"
     ]
    }
   ],
   "source": [
    "%%timeit\n",
    "x = 2.0 ** 10.0\n",
    "1.0/(x * x) + 1.0/(x * x + x/2.0) + 1.0/(x * x - x/2.0) "
   ]
  },
  {
   "cell_type": "markdown",
   "metadata": {},
   "source": [
    "Po vyhodnocení (které chvíli trvá) se nevypíše výsledek posledního výrazu, ale údaje o době provedení celé buňky. Provedení trvalo (u mne) průměrně cca 235 nanosekund (se směrodatnou odchylkou 3-8 ns), který byl získán ze sedmi opakování, z nichž každé provedlo daný fragment programu milionkrát (měření jednotlivých provedení není možné neboť režie měření času by byla větší než vlastní výpočet, navíc přesnost měření v PC je v řádu nejvýše mikrosekund). Výsledek je při každém vyhodnocení trochu jiný a ještě výrazněji se může lišit podle počítače na němž program běží."
   ]
  },
  {
   "cell_type": "code",
   "execution_count": 145,
   "metadata": {},
   "outputs": [
    {
     "name": "stdout",
     "output_type": "stream",
     "text": [
      "186 ns ± 14.7 ns per loop (mean ± std. dev. of 7 runs, 10000000 loops each)\n"
     ]
    }
   ],
   "source": [
    "%%timeit\n",
    "x = 2.0 ** 10.0\n",
    "x2 = x * x  # x**2 nebo x^2 není bohužel platný identifikátor proměnné\n",
    "xpul = x / 2.0 # xpul namísto x_půl\n",
    "1.0 / x2 + 1.0 / (x2 + xpul) + 1.0 / (x2 - xpul)"
   ]
  },
  {
   "cell_type": "markdown",
   "metadata": {},
   "source": [
    "Optimalizovaná verze se u mne provádí cca za 180 nanosekund (s menší směrodatnou odchylkou, neboť se vykonávalo 10 miliónů výpočtů v každém běhu). Absolutní údaj je však nezajímavý (až na to, že si uvědomíme jak rychlé jsou dnešní počítače). Důležitější je podíl obou hodnot: "
   ]
  },
  {
   "cell_type": "code",
   "execution_count": 79,
   "metadata": {},
   "outputs": [
    {
     "data": {
      "text/plain": [
       "1.2634408602150538"
      ]
     },
     "execution_count": 79,
     "metadata": {},
     "output_type": "execute_result"
    }
   ],
   "source": [
    "235 / 186"
   ]
  },
  {
   "cell_type": "markdown",
   "metadata": {},
   "source": [
    "Malou úpravou programu jsme získali zrychlení o cca 26% (tj. asi 4tvrtinu)."
   ]
  },
  {
   "cell_type": "markdown",
   "metadata": {},
   "source": [
    "> **Úkol**: Ověřte rychlost tří základních implementací druhé mocniny:\n",
    "1. násobení celých čísel (`int`)\n",
    "2. násobení čísel v pohyblivé řádové čárce ('float')\n",
    "3. použití operátoru mocnění pro `float`\n",
    "\n",
    "> Výsledky se pokuste zdůvodnit."
   ]
  },
  {
   "cell_type": "code",
   "execution_count": 82,
   "metadata": {
    "tags": [
     "h"
    ]
   },
   "outputs": [
    {
     "name": "stdout",
     "output_type": "stream",
     "text": [
      "38.4 ns ± 0.3 ns per loop (mean ± std. dev. of 7 runs, 10000000 loops each)\n"
     ]
    }
   ],
   "source": [
    "%%timeit\n",
    "x = 1024\n",
    "x * x"
   ]
  },
  {
   "cell_type": "code",
   "execution_count": 83,
   "metadata": {
    "tags": [
     "h"
    ]
   },
   "outputs": [
    {
     "name": "stdout",
     "output_type": "stream",
     "text": [
      "28.2 ns ± 0.177 ns per loop (mean ± std. dev. of 7 runs, 10000000 loops each)\n"
     ]
    }
   ],
   "source": [
    "%%timeit\n",
    "x = 1024.0\n",
    "x * x"
   ]
  },
  {
   "cell_type": "code",
   "execution_count": 89,
   "metadata": {
    "tags": [
     "h"
    ]
   },
   "outputs": [
    {
     "name": "stdout",
     "output_type": "stream",
     "text": [
      "49.4 ns ± 0.0986 ns per loop (mean ± std. dev. of 7 runs, 10000000 loops each)\n"
     ]
    }
   ],
   "source": [
    "%%timeit\n",
    "x = 1024.0\n",
    "x ** 2.0"
   ]
  },
  {
   "cell_type": "markdown",
   "metadata": {
    "tags": [
     "h"
    ]
   },
   "source": [
    "Nejrychlejší je u mne násobnění dvou `float` čísel. Je to dáno přímou podporou na procesoru (ten má hned několik FPU jednotek). Je tak dokonce rychlejší než násobení celočíselné (moderní procesory jsou optimalizovány pro floating point operace), což může být překvapivé (skutečně je ve většině případů rychlejší provádět FPU  výpočty a to dokonce i pro malá čísla). Mocnění je obecně výrazně pomalejší, neboť se využívá exponenciální funkce (výpočty transcendentálních matematických funkcí nejsou na rozdíl od základních operací \"zadrátovány\" do hardwaru a tak musí využít mikroprogram = tj. provedení několika základních instrukcí podle programu uloženého přímo v procesoru). Python zde však pravděpodobně provádí optimalizaci (převod na násobení), neboť zpomalení není příliš velké (ani ne 2×). \n",
    "\n",
    "U vašeho počítače/procesoru může být výsledek zcela jiný. Starší procesory neměly FPU (*floating point unit*) resp. nebyl tak optimalizován (v tomto případě by zvítězilo násobení `int` čísel). Naopak moderní procesory (typu XEON) mají hardwarovou podporu exponenciální funkce."
   ]
  },
  {
   "cell_type": "markdown",
   "metadata": {},
   "source": [
    "#### Úkrok stranou – výpis pomocí funkce `print`\n",
    "\n",
    "Při použití Jupyter notebooku je výpis výsledných hodnot snadný, neboť do výstupní části buňky se vždy vypíše hodnota posledního výrazu. Pouze pokud je na posledním řádku přiřazení či jiný příkaz (seznámíme se s nimi později) není vypsáno nic."
   ]
  },
  {
   "cell_type": "code",
   "execution_count": 147,
   "metadata": {},
   "outputs": [
    {
     "data": {
      "text/plain": [
       "4"
      ]
     },
     "execution_count": 147,
     "metadata": {},
     "output_type": "execute_result"
    }
   ],
   "source": [
    "a = 3 \n",
    "a + 1  # poslední řádek, je to výraz tj. vypíše se jeho hodnota"
   ]
  },
  {
   "cell_type": "code",
   "execution_count": 148,
   "metadata": {
    "collapsed": true
   },
   "outputs": [],
   "source": [
    "a = 3\n",
    "b = 4 # přiřazení (není výrazem) na posledním řádku nic se nevypíše"
   ]
  },
  {
   "cell_type": "markdown",
   "metadata": {},
   "source": [
    "Tento přístup má základní omezení. Vypsat lze jen jeden údaj a to vždy podle stavu na posledním řádku. Toto omezení lze obejít použitím vestavěné funkce `print`. Tato funkce nic nevrací, vypisuje však do výstupní buňky všechny své parametry."
   ]
  },
  {
   "cell_type": "code",
   "execution_count": 149,
   "metadata": {},
   "outputs": [
    {
     "name": "stdout",
     "output_type": "stream",
     "text": [
      "1.0\n",
      "2.0 1.0\n"
     ]
    }
   ],
   "source": [
    "from math import sqrt   # importování funkce pro odmocninu\n",
    "\n",
    "a = 1\n",
    "b = -3\n",
    "c = 2  # vstup (hodnoty mají díky proměnným symbolická jména a přežijí do další části programu)\n",
    "\n",
    "diskriminant = b*b - 4.0*a*c\n",
    "print(diskriminant)  # vypíše do výstupní buňky hodnotu diskriminantu (např. pro kontrolu)\n",
    "\n",
    "x1 = (-b + sqrt(diskriminant)) / 2.0\n",
    "x2 = (-b - sqrt(diskriminant)) / 2.0\n",
    "\n",
    "print(x1, x2) # vypíšeme najednou obě řešení (funkce má dva parametry)"
   ]
  },
  {
   "cell_type": "markdown",
   "metadata": {},
   "source": [
    "> **Úkol**: Vyzkoušejte předchozí program pro výpočet kvadratické funkce i pro jiné vstupní hodnoty. Jak se zachová, pokud neexistuje řešení v množině reálných čísel (diskriminant < 0)."
   ]
  },
  {
   "cell_type": "code",
   "execution_count": 90,
   "metadata": {
    "tags": [
     "h"
    ]
   },
   "outputs": [
    {
     "name": "stdout",
     "output_type": "stream",
     "text": [
      "-7.0\n"
     ]
    },
    {
     "ename": "ValueError",
     "evalue": "math domain error",
     "output_type": "error",
     "traceback": [
      "\u001b[0;31m---------------------------------------------------------------------------\u001b[0m",
      "\u001b[0;31mValueError\u001b[0m                                Traceback (most recent call last)",
      "\u001b[0;32m<ipython-input-90-f3759ae5d243>\u001b[0m in \u001b[0;36m<module>\u001b[0;34m()\u001b[0m\n\u001b[1;32m      8\u001b[0m \u001b[0mprint\u001b[0m\u001b[0;34m(\u001b[0m\u001b[0mdiskriminant\u001b[0m\u001b[0;34m)\u001b[0m  \u001b[0;31m# vypíše do výstupní buňky hodnotu diskriminantu (např. pro kontrolu)\u001b[0m\u001b[0;34m\u001b[0m\u001b[0m\n\u001b[1;32m      9\u001b[0m \u001b[0;34m\u001b[0m\u001b[0m\n\u001b[0;32m---> 10\u001b[0;31m \u001b[0mx1\u001b[0m \u001b[0;34m=\u001b[0m \u001b[0;34m(\u001b[0m\u001b[0;34m-\u001b[0m\u001b[0mb\u001b[0m \u001b[0;34m+\u001b[0m \u001b[0msqrt\u001b[0m\u001b[0;34m(\u001b[0m\u001b[0mdiskriminant\u001b[0m\u001b[0;34m)\u001b[0m\u001b[0;34m)\u001b[0m \u001b[0;34m/\u001b[0m \u001b[0;36m2.0\u001b[0m\u001b[0;34m\u001b[0m\u001b[0m\n\u001b[0m\u001b[1;32m     11\u001b[0m \u001b[0mx2\u001b[0m \u001b[0;34m=\u001b[0m \u001b[0;34m(\u001b[0m\u001b[0;34m-\u001b[0m\u001b[0mb\u001b[0m \u001b[0;34m-\u001b[0m \u001b[0msqrt\u001b[0m\u001b[0;34m(\u001b[0m\u001b[0mdiskriminant\u001b[0m\u001b[0;34m)\u001b[0m\u001b[0;34m)\u001b[0m \u001b[0;34m/\u001b[0m \u001b[0;36m2.0\u001b[0m\u001b[0;34m\u001b[0m\u001b[0m\n\u001b[1;32m     12\u001b[0m \u001b[0;34m\u001b[0m\u001b[0m\n",
      "\u001b[0;31mValueError\u001b[0m: math domain error"
     ]
    }
   ],
   "source": [
    "from math import sqrt   # importování funkce pro odmocninu\n",
    "\n",
    "a = 1\n",
    "b = 1\n",
    "c = 2\n",
    "\n",
    "diskriminant = b*b - 4.0*a*c\n",
    "print(diskriminant)  # vypíše do výstupní buňky hodnotu diskriminantu (např. pro kontrolu)\n",
    "\n",
    "x1 = (-b + sqrt(diskriminant)) / 2.0\n",
    "x2 = (-b - sqrt(diskriminant)) / 2.0\n",
    "\n",
    "print(x1, x2) # vypíšeme najednou obě řešení (funkce má dva parametry)"
   ]
  },
  {
   "cell_type": "markdown",
   "metadata": {
    "tags": [
     "h"
    ]
   },
   "source": [
    "Výpočet odmocniny ze záporného čísla pomocí funkce `math.sqrt` vede ke vzniku výjimky a ukončení programu (s textem \"chyba definičného oboru\")"
   ]
  },
  {
   "cell_type": "markdown",
   "metadata": {},
   "source": [
    "#### Složené přířazení"
   ]
  },
  {
   "cell_type": "markdown",
   "metadata": {},
   "source": [
    "Kromě základního přiřazení podporuje Python i některé syntaktické zkratky. Velmi častá jsou například přiřazení následujícího druhu:"
   ]
  },
  {
   "cell_type": "code",
   "execution_count": 150,
   "metadata": {},
   "outputs": [
    {
     "data": {
      "text/plain": [
       "4"
      ]
     },
     "execution_count": 150,
     "metadata": {},
     "output_type": "execute_result"
    }
   ],
   "source": [
    "x = 1\n",
    "x = x + 1  # do x se vkládá původní hodnota zvýšená a jedničku\n",
    "x = x * 2  # do x se vkládá zdvojnásobená původní hodnota\n",
    "x  # vyhodnotí se na výslednou hodnotu"
   ]
  },
  {
   "cell_type": "markdown",
   "metadata": {},
   "source": [
    "Tento typ přiřazení (na původní hodnotu je aplikován operátor a výsledná hodnota je opatřena stejnou proměnou) lze zapsat zkráceně:"
   ]
  },
  {
   "cell_type": "code",
   "execution_count": 151,
   "metadata": {},
   "outputs": [
    {
     "name": "stdout",
     "output_type": "stream",
     "text": [
      "4\n"
     ]
    }
   ],
   "source": [
    "x = 1\n",
    "x += 1   \n",
    "x *= 2\n",
    "print(x)"
   ]
  },
  {
   "cell_type": "markdown",
   "metadata": {},
   "source": [
    "Použít lze i další operátory se dvěma operandy (`-`, `/`, `//`, `**`, apod.)"
   ]
  },
  {
   "cell_type": "code",
   "execution_count": 91,
   "metadata": {},
   "outputs": [
    {
     "data": {
      "text/plain": [
       "1"
      ]
     },
     "execution_count": 91,
     "metadata": {},
     "output_type": "execute_result"
    }
   ],
   "source": [
    "a = 10\n",
    "a **= 2  # umocni na druhou a výsledek opět vlož do proměnné a\n",
    "a %= 3   # do proměnné 'a' vlož zbytek po dělení původní hodnoty proměnné 'a' a hodnoty 3\n",
    "a # zbytek po dělení sta třemi"
   ]
  },
  {
   "cell_type": "markdown",
   "metadata": {},
   "source": [
    "#### Paralelní přiřazení\n",
    "\n",
    "Další možnou zkratkou je tzv. paralelní přiřazení. To umožňuje v jednom zápise provést zároveň přiřazení většího počtu hodnot do většího počtu proměnných:"
   ]
  },
  {
   "cell_type": "code",
   "execution_count": 153,
   "metadata": {},
   "outputs": [
    {
     "name": "stdout",
     "output_type": "stream",
     "text": [
      "0 1\n"
     ]
    }
   ],
   "source": [
    "# původní tvar\n",
    "x = 0\n",
    "y = 1\n",
    "\n",
    "# lze napsat jako\n",
    "x,y = 0,1\n",
    "\n",
    "print(x,y)  # vypíše zároveň x i y"
   ]
  },
  {
   "cell_type": "markdown",
   "metadata": {},
   "source": [
    "Tanto zápis se používá především tehdy, pokud dané proměnné spolu souvisejí, resp. souvisejí hodnoty, které do nich přiřazujeme."
   ]
  },
  {
   "cell_type": "code",
   "execution_count": 154,
   "metadata": {},
   "outputs": [
    {
     "name": "stdout",
     "output_type": "stream",
     "text": [
      "3 1\n"
     ]
    }
   ],
   "source": [
    "x = 10\n",
    "y = 3  # příprava\n",
    "podil, zbytek = x // y, x % y\n",
    "\n",
    "print(podil, zbytek)"
   ]
  },
  {
   "cell_type": "markdown",
   "metadata": {},
   "source": [
    "Zápis je to velmi stručný, avšak trochu nepřehledný. Někteří programátoři jej proto používají jen výjimečně (na rozdíl od složeného přiřazení, které se využívá běžně)."
   ]
  },
  {
   "cell_type": "markdown",
   "metadata": {},
   "source": [
    "Existuje však speciální tvar paralelního přiřazení, které se naopak využívá velmi často:"
   ]
  },
  {
   "cell_type": "code",
   "execution_count": 155,
   "metadata": {},
   "outputs": [
    {
     "name": "stdout",
     "output_type": "stream",
     "text": [
      "0 1\n",
      "1 0\n"
     ]
    }
   ],
   "source": [
    "x = 0\n",
    "y = 1  # příprava\n",
    "\n",
    "print(x,y) # první výpis\n",
    "\n",
    "x,y = y,x  # výměna hodnot x <-> y\n",
    "\n",
    "print(x,y) # druhý výpis"
   ]
  },
  {
   "cell_type": "markdown",
   "metadata": {},
   "source": [
    "Jak lze  vidět pomocí paralelního přiřazení je možné na jednom řádku vyměnit obsah proměnných (přesněji se vyměňují štítky či přesměrovávají odkazy). Bez použití paralelního přiřazení by bylo nutno využít pomocnou proměnnou (jinak bychom při prvním přiřazení přišli navždy o hodnotu první proměnné):"
   ]
  },
  {
   "cell_type": "code",
   "execution_count": 156,
   "metadata": {},
   "outputs": [
    {
     "name": "stdout",
     "output_type": "stream",
     "text": [
      "0 1\n",
      "1 0\n"
     ]
    }
   ],
   "source": [
    "x = 0\n",
    "y = 1  # příprava\n",
    "\n",
    "print(x, y)\n",
    "\n",
    "p = x  # do pomocné proměnné vložíme hodnotu proměnné x\n",
    "x = y  # přesuneme hodnotu z y do x (nyní mají obě základní proměnné stejnou hodnotu)\n",
    "y = p  # a pak přesuneme původní hodnotu x (dočasně uloženou v proměnné 'p') do 'y'\n",
    " \n",
    "print(x, y)"
   ]
  },
  {
   "cell_type": "markdown",
   "metadata": {},
   "source": [
    "## Matematické funkce"
   ]
  },
  {
   "cell_type": "markdown",
   "metadata": {},
   "source": [
    "#### Moduly"
   ]
  },
  {
   "cell_type": "markdown",
   "metadata": {},
   "source": [
    "Python byl navržen jako univerzální programovací jazyk. Použití Pythonu pro matematické výpočty je jen jedním z mnoha možností využití Pythonu (a nikoliv tou hlavní).\n",
    "\n",
    "Toto východisko se projevuje i v návrhu jazyka. Python například přímo podporuje jen cca dvacítku tzv. vestavěných funkcí, z nichž jen funkce `abs` se přímo týká matematiky. Vestavěné funkce můžete použít, kdekoliv bez jakékoliv přípravy."
   ]
  },
  {
   "cell_type": "code",
   "execution_count": 157,
   "metadata": {},
   "outputs": [
    {
     "data": {
      "text/plain": [
       "3"
      ]
     },
     "execution_count": 157,
     "metadata": {},
     "output_type": "execute_result"
    }
   ],
   "source": [
    "abs(-3)"
   ]
  },
  {
   "cell_type": "markdown",
   "metadata": {},
   "source": [
    "Ostatní funkce (resp. další objekty jako jsou symbolické proměnné) jsou v Pythonu dostupné pomocí tzv. modulů. \n",
    "\n",
    "Pokud chceme použít funkce z modulů musíme modul resp. jeho obsah tzv. importovat, tj. učinit dostupné v našem programu. Podívejme se jak lze například tímto způsobem využít modul `math`, který nabízí běžné matematické funkce a konstanty.\n",
    "\n",
    "Nejdříve zkusíme importovat modul jako celek:"
   ]
  },
  {
   "cell_type": "code",
   "execution_count": 158,
   "metadata": {
    "collapsed": true
   },
   "outputs": [],
   "source": [
    "import math"
   ]
  },
  {
   "cell_type": "markdown",
   "metadata": {},
   "source": [
    "Po importování se modul chová jako objekt, jehož atributy jsou příslušné funkce (resp. konstanty). Jinak řečeno identifikátor funkce musí v tomto případě obsahovat i jméno příslušného modulu (uvádí se na začátku a odděluje se tečkou)."
   ]
  },
  {
   "cell_type": "code",
   "execution_count": 159,
   "metadata": {},
   "outputs": [
    {
     "data": {
      "text/plain": [
       "2"
      ]
     },
     "execution_count": 159,
     "metadata": {},
     "output_type": "execute_result"
    }
   ],
   "source": [
    "math.log10(100)  # volání funkce 'log10' z modulu 'math'"
   ]
  },
  {
   "cell_type": "code",
   "execution_count": 160,
   "metadata": {},
   "outputs": [
    {
     "data": {
      "text/plain": [
       "3.1416"
      ]
     },
     "execution_count": 160,
     "metadata": {},
     "output_type": "execute_result"
    }
   ],
   "source": [
    "math.pi  # konstanta (ve skutečnosti je to proměnná, kterou nelze změnit)"
   ]
  },
  {
   "cell_type": "markdown",
   "metadata": {},
   "source": [
    "Využití jména modulu jako předpony (prefixu) může být u delších  výpočtů nepohodlné  resp. nepřehledné. Proto lze přímo importovat jen určitou funkci nebo i několik funkcí z modulu (zde hrozí učité nebezpečí, že funkce stejného jména již existuje resp. byla importována z jiného modulu, pravděpodobnost však není velká)."
   ]
  },
  {
   "cell_type": "code",
   "execution_count": 161,
   "metadata": {
    "collapsed": true
   },
   "outputs": [],
   "source": [
    "from math import sin, cos, pi  # importujeme pouze funkce sin a cos a hodnotu pi"
   ]
  },
  {
   "cell_type": "code",
   "execution_count": 162,
   "metadata": {},
   "outputs": [
    {
     "name": "stdout",
     "output_type": "stream",
     "text": [
      "1.7320508075688774 0.9999999999999999\n"
     ]
    }
   ],
   "source": [
    "r = 2\n",
    "alfa = pi / 6.0  # úhel 30°\n",
    "\n",
    "# převod polárních souřadnic na kartézské\n",
    "x = r * cos(alfa)\n",
    "y = r * sin(alfa)\n",
    "    \n",
    "print(x,y)"
   ]
  },
  {
   "cell_type": "markdown",
   "metadata": {
    "collapsed": true
   },
   "source": [
    "U výsledku si nelze nevšimnout důsledků nepřesného výpočtu. Hodnota `y` nenabývá hodnoty 1, ale je o pár trilióntin menší. I přes tak malý rozdíl je výsledek vizuálně poněkud matoucí (jsou to takové baťovské ceny dovedené do dokonalosti). U funkce `print` se neuplatňuje nastavení přesnosti, kterou jsme provedli výše pomocí magického kódu tj.`%precesion \"%.5g\"`. Řešení existuje, ale ještě musíte chvíli počkat (do té doby se musíte smířit se skutečností, že 0.9999999999999999 je toliko jiný zápis hodnoty 1)."
   ]
  },
  {
   "cell_type": "markdown",
   "metadata": {},
   "source": [
    "Pokud potřebujeme importovat větší počet funkcí a proměnných, může být jejich explicitní uvádění v importu únavné (navíc  by se celý příkaz měl vejít na jedinou řádku). V těchto případech lze jednoduše importovat všechny funkce či proměnné nabízené modulem (bez ohledu na to zda je použijeme či nikoliv):"
   ]
  },
  {
   "cell_type": "code",
   "execution_count": 93,
   "metadata": {
    "collapsed": true
   },
   "outputs": [],
   "source": [
    "from math import *"
   ]
  },
  {
   "cell_type": "markdown",
   "metadata": {},
   "source": [
    "Nyní můžeme přímp volat jakoukoliv funkci z modulu `math` (přímo bez prefixu):"
   ]
  },
  {
   "cell_type": "code",
   "execution_count": 164,
   "metadata": {},
   "outputs": [
    {
     "data": {
      "text/plain": [
       "8.8318"
      ]
     },
     "execution_count": 164,
     "metadata": {},
     "output_type": "execute_result"
    }
   ],
   "source": [
    "x = 2\n",
    "1/log(x) + exp(x)  # log a exp jsou funkce z modulu math"
   ]
  },
  {
   "cell_type": "markdown",
   "metadata": {},
   "source": [
    "Nevýhodou tohoto \"masového\" importu je skutečnost, že získáte přístup i k funkcím, které nepotřebujete a dokonce je ani nemusíte znát. To není problém, dokud se nepokusíte importovat stejnojmennou funkci z jiného modulu nebo se pokusíte takovou funkci vytvořit sami. Poté dojde ke kolizi jmen, kterou nemůže překladač vyřešit a proto program skončí s chybou dříve než se začne vykonávat. Byli/y jste varováni/y!"
   ]
  },
  {
   "cell_type": "markdown",
   "metadata": {},
   "source": [
    "#### Goniometrické funkce\n",
    "\n",
    "Modul `math` nabízí všechny základní goniometrické funkce a jejich inverze (tzv. cyklometrické funkce). Všechny tyto funkce pracují s radiány nikoliv stupně. Pokud potřebujete pracovat s úhly ve stupních musíte zajistit převod ze stupňů na radiány a popřípadě i ve směru opačném (u cyklometrických funkcí).\n",
    "\n",
    " V dalším kódu není potřeba modul `math` importovat, neboť v případě prostředí Jupyteru importy platí od svého uvedení až do konce notebooku. Další pokusy o importování jsou jednoduše ignorovány (občas je budu uvádět, neboť importování může být v místě použití funkce už dosti vzdálené). \n",
    "  \n",
    "*Řešený příklad*:\n",
    "\n",
    "Mějme trojúhelník se stranami délky $a = 1, b = 3, c = 4$. Za úkol máme zjistit všechny vnitřní úhly v trojúhelníku. \n",
    "\n",
    "<p align=\"center\"><img src=\"https://upload.wikimedia.org/wikipedia/commons/f/fd/Triangle_-_angles%2C_vertices%2C_sides.svg\" alt=\"trojúhelník\" style=\"width: 25%;\"/></p>\n",
    "\n",
    "Pro výpočet úhlu $\\alpha$ použijeme kosinovou větu $a^2 = b^2 + c^2 - 2 b c \\cdot \\cos \\alpha$. Poté využijeme stejnou větu i pro úhel $\\beta$ (pro proměnné úhlů jsou použita řecká písmena, což sice narušuje úzus, ale je to přehlednější). Převod z radiánů na stupně zajišťuje funkce `degree`."
   ]
  },
  {
   "cell_type": "code",
   "execution_count": 165,
   "metadata": {},
   "outputs": [
    {
     "name": "stdout",
     "output_type": "stream",
     "text": [
      "18.194872338766785\n",
      "110.48731511472266\n",
      "51.31781254651054\n"
     ]
    }
   ],
   "source": [
    "a = 1\n",
    "b = 3\n",
    "c = 2.5\n",
    "\n",
    "α = degrees(acos((a*a - b*b - c*c)/(-2*b*c)))\n",
    "print(α)\n",
    "\n",
    "β = degrees(acos((b*b - a*a - c*c)/(-2*a*c)))\n",
    "print(β)\n",
    "\n",
    "γ = 180 - α - β\n",
    "print(γ)"
   ]
  },
  {
   "cell_type": "markdown",
   "metadata": {},
   "source": [
    "Pro jistotu provedeme kontrolu pomocí sinové věty $\\frac{a}{b} = \\frac{\\sin \\alpha}{\\sin \\beta}$."
   ]
  },
  {
   "cell_type": "code",
   "execution_count": 166,
   "metadata": {},
   "outputs": [
    {
     "data": {
      "text/plain": [
       "0.33333"
      ]
     },
     "execution_count": 166,
     "metadata": {},
     "output_type": "execute_result"
    }
   ],
   "source": [
    "a /b"
   ]
  },
  {
   "cell_type": "code",
   "execution_count": 167,
   "metadata": {},
   "outputs": [
    {
     "data": {
      "text/plain": [
       "0.33333"
      ]
     },
     "execution_count": 167,
     "metadata": {},
     "output_type": "execute_result"
    }
   ],
   "source": [
    "sin(radians(α)) / sin(radians(β))"
   ]
  },
  {
   "cell_type": "markdown",
   "metadata": {},
   "source": [
    "Převod stupňů na radiány zajišťuje funkce `radians`."
   ]
  },
  {
   "cell_type": "markdown",
   "metadata": {},
   "source": [
    "Z oblasti trigonometrických funkcí zaslouží zmínku klíčová funkce `atan2(y,x)` která vrací úhel mezi osou `x` a průvodičem bodu (x,y). Tento úhel může nabývat hodnot $-\\pi$ až $\\pi$. Výpočet pomocí výrazu `atan(y/x)` vrací hodnoty z intervalu 0 až $\\pi$ (to jest jen z I a IV kvadrantu) a nefunguje pro x = 0 (dělení nulou, vyzkoušejte). \n",
    "\n",
    "![Popis funkce atan2](Atan2.png)"
   ]
  },
  {
   "cell_type": "code",
   "execution_count": 94,
   "metadata": {},
   "outputs": [
    {
     "data": {
      "text/plain": [
       "135.0"
      ]
     },
     "execution_count": 94,
     "metadata": {},
     "output_type": "execute_result"
    }
   ],
   "source": [
    "degrees(atan2(1,-1))  # výsledek bude ve stupních"
   ]
  },
  {
   "cell_type": "markdown",
   "metadata": {},
   "source": [
    "#### Logaritmické a exponenciální funkce"
   ]
  },
  {
   "cell_type": "markdown",
   "metadata": {},
   "source": [
    "Modul `math` samozřejmě podporuje exponenciální funkci a také několik funkcí logaritmických:"
   ]
  },
  {
   "cell_type": "code",
   "execution_count": 169,
   "metadata": {},
   "outputs": [
    {
     "data": {
      "text/plain": [
       "0.36788"
      ]
     },
     "execution_count": 169,
     "metadata": {},
     "output_type": "execute_result"
    }
   ],
   "source": [
    "exp(-1) # e^-1"
   ]
  },
  {
   "cell_type": "code",
   "execution_count": 170,
   "metadata": {},
   "outputs": [
    {
     "data": {
      "text/plain": [
       "2.7726"
      ]
     },
     "execution_count": 170,
     "metadata": {},
     "output_type": "execute_result"
    }
   ],
   "source": [
    "log(16)  # přirozený logaritmus"
   ]
  },
  {
   "cell_type": "code",
   "execution_count": 171,
   "metadata": {},
   "outputs": [
    {
     "name": "stdout",
     "output_type": "stream",
     "text": [
      "1.2041199826559248\n",
      "4.0\n"
     ]
    }
   ],
   "source": [
    "print(log10(16)) # dekadický logaritmus\n",
    "print(log2(16))  # binární logaritmus (o základu 2)"
   ]
  },
  {
   "cell_type": "markdown",
   "metadata": {},
   "source": [
    "> **Úkol**: Vypočtěte logaritmus o základu 3 čísla 81 ($\\log_3 81$). Nápověda: je to podíl dvou čísel. "
   ]
  },
  {
   "cell_type": "code",
   "execution_count": 95,
   "metadata": {
    "tags": [
     "h"
    ]
   },
   "outputs": [
    {
     "data": {
      "text/plain": [
       "4.0"
      ]
     },
     "execution_count": 95,
     "metadata": {},
     "output_type": "execute_result"
    }
   ],
   "source": [
    "log(81)/log(3)"
   ]
  },
  {
   "cell_type": "markdown",
   "metadata": {},
   "source": [
    "*Řešený příklad*:\n",
    "\n",
    "Zkouška z nejmenovaného předmětu skončila s těmito výsledky: 10% studentů bylo ohodnoceno výborně, 20% velmi dobře, 40% dobře a zbytek (30% neuspěl). Kolik bitů informace získal student, tím že mu vyučující sdělil výsledek zkoušky?\n",
    "\n",
    "Pokud by byly výsledky zkoušky rozloženy rovnoměrně (25% pravděpodobnost dané známky), je odpověď triviální: čtyři možnosti výsledků lze kódovat dvěmi binárními číslicemi (například takto 00=1, 01=2, 10=3, 11=4), tj. student obdrží přesně dva bity informace (doufám, že informační přínos zkoušky není omezen na tyto dva bity).\n",
    "\n",
    "Vyšší pravděpodobnost horšího výsledku (pravděpodobnost 3 a hůře je 70%) informační přínos snižuje. Pro výpočet konkrétní hodnoty lze využít Shannonův vztah (kde $p_i$ jsou pravděpodobnosti výskytu i-té možnosti výstupu, zde pravděpodobnosti i-tého výsledků zkoušky):\n",
    "\n",
    "$H = - \\sum_{i=1}^n p_i \\cdot \\log_2 p_i$ "
   ]
  },
  {
   "cell_type": "code",
   "execution_count": 96,
   "metadata": {},
   "outputs": [
    {
     "name": "stdout",
     "output_type": "stream",
     "text": [
      "1.8464393446710154\n"
     ]
    }
   ],
   "source": [
    "p1 = 0.1\n",
    "p2 = 0.2\n",
    "p3 = 0.4\n",
    "p4 = 0.3\n",
    "\n",
    "H = -p1*log2(p1) - p2*log2(p2) - p3*log2(p3) - p4*log2(p4)\n",
    "print(H)"
   ]
  },
  {
   "cell_type": "markdown",
   "metadata": {},
   "source": [
    "Výsledek: Student získal průměrně 1,85 bitů informací."
   ]
  },
  {
   "cell_type": "markdown",
   "metadata": {},
   "source": [
    "#### Funkce pro zaokrouhlování\n",
    "\n",
    "Zaokrouhlování je jednou z typických operací prováděných při výpočtech na počítačích. Ve skutečnosti jsem již poznali dva typy zaokrouhlení, které se aplikují automaticky:\n",
    "\n",
    "1. zaokrouhlení dané omezenou přesností interní representace čísel v pohyblivé řádové čárce\n",
    "2. zaokrouhlení při tisku výsledků (ve skutečnosti se běžně vypisuje menší počet číslic, než je k dispozici v interním formátu). Viz naše nastavení formátování pro výstupy v notebooku.\n",
    "\n",
    "V praxi však často potřebujeme zaokrouhlování řídit přesněji a explicitněji.  Základem zaokrouhlovací aritmetiky jsou funkce `floor`  a `ceil`, které zaokrouhlují na nejbližší menší resp. větší celé číslo (a vrací objekt třídy `int`). "
   ]
  },
  {
   "cell_type": "code",
   "execution_count": 174,
   "metadata": {},
   "outputs": [
    {
     "data": {
      "text/plain": [
       "3"
      ]
     },
     "execution_count": 174,
     "metadata": {},
     "output_type": "execute_result"
    }
   ],
   "source": [
    "floor(pi)"
   ]
  },
  {
   "cell_type": "code",
   "execution_count": 175,
   "metadata": {},
   "outputs": [
    {
     "data": {
      "text/plain": [
       "7"
      ]
     },
     "execution_count": 175,
     "metadata": {},
     "output_type": "execute_result"
    }
   ],
   "source": [
    "ceil(2*pi)"
   ]
  },
  {
   "cell_type": "markdown",
   "metadata": {},
   "source": [
    "Funkce `floor` se někdy chybně zaměňuje s funkcí `int` (= převod na typ `int`). Funkce `int` však jednoduše odsekává destinnou část, což se u záporných čísel liší od funkce `floor` (ta vrací nejbližší nižší celé číslo)."
   ]
  },
  {
   "cell_type": "code",
   "execution_count": 176,
   "metadata": {},
   "outputs": [
    {
     "name": "stdout",
     "output_type": "stream",
     "text": [
      "-2\n",
      "-3\n"
     ]
    }
   ],
   "source": [
    "print(int(-2.5))\n",
    "print(floor(-2.5)) # nejbližší nižší číslo je -3!"
   ]
  },
  {
   "cell_type": "markdown",
   "metadata": {},
   "source": [
    "Běžné (finanční) zaokrouhlení k  nejbližšímu celému číslu provádí funkce `round` (ta je přímo vestavěná takže  pro její použití není nutno importovat modul `math`) Pokud je funkce použita v základním tvaru (s jedním parametrem), pak vrací objekt třídy `int`. U čísel s desetinnou částí 0.5 se zaokrouhluje k nejbližšímu sudému číslu."
   ]
  },
  {
   "cell_type": "code",
   "execution_count": 177,
   "metadata": {},
   "outputs": [
    {
     "data": {
      "text/plain": [
       "2"
      ]
     },
     "execution_count": 177,
     "metadata": {},
     "output_type": "execute_result"
    }
   ],
   "source": [
    "round(2.5)"
   ]
  },
  {
   "cell_type": "code",
   "execution_count": 178,
   "metadata": {},
   "outputs": [
    {
     "data": {
      "text/plain": [
       "4"
      ]
     },
     "execution_count": 178,
     "metadata": {},
     "output_type": "execute_result"
    }
   ],
   "source": [
    "round(3.5)"
   ]
  },
  {
   "cell_type": "markdown",
   "metadata": {},
   "source": [
    "Funkce kromě zaokrouhlení na nejbližší celé číslo umí i zaokrouhlení k nejbližšímu násobku mocniny desítky (tj. nejen na jednotky, ale i na desítky, stovky, resp. desetiny, setiny, apod). Stačí přidat druhý parametr (označovaný jako `digits`). Zaukrohlení se provede na hodnotu $10^{-digits}$. Výsledek je stejné třídy jako vstupní číslo."
   ]
  },
  {
   "cell_type": "code",
   "execution_count": 179,
   "metadata": {},
   "outputs": [
    {
     "data": {
      "text/plain": [
       "2000"
      ]
     },
     "execution_count": 179,
     "metadata": {},
     "output_type": "execute_result"
    }
   ],
   "source": [
    "round(2042.0, -3)  # zaokrouhlení na tisíce = 10^3  (výsledek je 'double')"
   ]
  },
  {
   "cell_type": "code",
   "execution_count": 180,
   "metadata": {},
   "outputs": [
    {
     "data": {
      "text/plain": [
       "4000000000"
      ]
     },
     "execution_count": 180,
     "metadata": {},
     "output_type": "execute_result"
    }
   ],
   "source": [
    "round(2**32, -9)  # zaokrouhlení na miliardy (výsledek je 'int')"
   ]
  },
  {
   "cell_type": "code",
   "execution_count": 181,
   "metadata": {},
   "outputs": [
    {
     "data": {
      "text/plain": [
       "3.142"
      ]
     },
     "execution_count": 181,
     "metadata": {},
     "output_type": "execute_result"
    }
   ],
   "source": [
    "round(pi, 3) # zaokrouhlení na tisíciny (výsledek je 'double')"
   ]
  },
  {
   "cell_type": "code",
   "execution_count": 182,
   "metadata": {},
   "outputs": [
    {
     "data": {
      "text/plain": [
       "4"
      ]
     },
     "execution_count": 182,
     "metadata": {},
     "output_type": "execute_result"
    }
   ],
   "source": [
    "round(3.5, 0)  # zaokrouhlení na jednotky (výsledek však není `int` jak je tomu v round(3.5))"
   ]
  },
  {
   "cell_type": "markdown",
   "metadata": {},
   "source": [
    ">**Úkol**: Vypište hodnotu funkce $sin(x) + cos(x)$ pro $x = \\frac{\\pi}{4}$ zaokrouhlenou na setiny."
   ]
  },
  {
   "cell_type": "code",
   "execution_count": 1,
   "metadata": {
    "tags": [
     "h"
    ]
   },
   "outputs": [
    {
     "data": {
      "text/plain": [
       "1.41"
      ]
     },
     "execution_count": 1,
     "metadata": {},
     "output_type": "execute_result"
    }
   ],
   "source": [
    "from math import sin,cos,pi\n",
    "round(sin(pi/4) + cos(pi/4), 2)"
   ]
  },
  {
   "cell_type": "markdown",
   "metadata": {},
   "source": [
    "####  Další užitečné funkce\n",
    "\n",
    "Další užitečné funkce z modulu `math` si ukážeme jen v jednoduchých příkladech."
   ]
  },
  {
   "cell_type": "code",
   "execution_count": 183,
   "metadata": {},
   "outputs": [
    {
     "data": {
      "text/plain": [
       "171122452428141311372468338881272839092270544893520369393648040923257279754140647424000000000000000"
      ]
     },
     "execution_count": 183,
     "metadata": {},
     "output_type": "execute_result"
    }
   ],
   "source": [
    "factorial(69)  # funguje jen pro kladná celá čísla"
   ]
  },
  {
   "cell_type": "markdown",
   "metadata": {},
   "source": [
    "> **Úkol**: Vypočtěte hodnotu kombinačního čísla $n\\choose{k}$ pro $n=100$ a $k=50$. Použijte vztah ${{n}\\choose{k}}=\\frac{n!}{k!(n-k)!}$. Výpočet podle tohoto vztahu není ideální, dokážete říci proč?"
   ]
  },
  {
   "cell_type": "code",
   "execution_count": 99,
   "metadata": {
    "tags": [
     "h"
    ]
   },
   "outputs": [
    {
     "data": {
      "text/plain": [
       "75287520"
      ]
     },
     "execution_count": 99,
     "metadata": {},
     "output_type": "execute_result"
    }
   ],
   "source": [
    "n = 100\n",
    "k = 5\n",
    "\n",
    "factorial(n)//(factorial(k)*factorial(n-k))"
   ]
  },
  {
   "cell_type": "markdown",
   "metadata": {
    "tags": [
     "h"
    ]
   },
   "source": [
    "Pro dělení je použita jeho celočíselná verze (operátor `//`) neboť výsledkem je vždy celé číslo (výsledek tak bude vždy přesný). Nevýhodou využití tohoto vztahu jsou obrovské mezivýsledky. Zatímco výsledek má rozumný řád desítek miliónů ($10^7$), je nutné v čitaleli vypočít 100!, což je číslo řádu $10^{157}$, které nejde vypočítat na běžné kalkulačce (v Pythonu ano, avšak za cenu mnohem pomalejšího kódu a pár bytů navíc). "
   ]
  },
  {
   "cell_type": "code",
   "execution_count": 100,
   "metadata": {},
   "outputs": [
    {
     "data": {
      "text/plain": [
       "9.332621544394415e+157"
      ]
     },
     "execution_count": 100,
     "metadata": {},
     "output_type": "execute_result"
    }
   ],
   "source": [
    "float(factorial(100))"
   ]
  },
  {
   "cell_type": "markdown",
   "metadata": {},
   "source": [
    "Další užitečnou funkcí je druhá odmocnina."
   ]
  },
  {
   "cell_type": "code",
   "execution_count": 184,
   "metadata": {},
   "outputs": [
    {
     "data": {
      "text/plain": [
       "4"
      ]
     },
     "execution_count": 184,
     "metadata": {},
     "output_type": "execute_result"
    }
   ],
   "source": [
    "sqrt(16)  # odmocnina, funguje jen pro kladná čísla (ověřte co dělá pro záporná)"
   ]
  },
  {
   "cell_type": "markdown",
   "metadata": {},
   "source": [
    "Odmocnění lze samozřejmě zapsat i pomocí operátoru mocniny, ale může to být méně efektivní (závisí na procesoru a oprimalizaci Pythonu).\n"
   ]
  },
  {
   "cell_type": "code",
   "execution_count": 185,
   "metadata": {},
   "outputs": [
    {
     "data": {
      "text/plain": [
       "4"
      ]
     },
     "execution_count": 185,
     "metadata": {},
     "output_type": "execute_result"
    }
   ],
   "source": [
    "16 ** 0.5    # méně přehledné a pravděpodobně i o něco pomalejší"
   ]
  },
  {
   "cell_type": "markdown",
   "metadata": {},
   "source": [
    "Nepřesnost čísel v pohyblivé řádové čárce (`float`) se může jevit jako drobná kosmetická vada, kterou lze navíc odstranit vhodným zaokrouhlení při výpise. I když tomu tak v mnoha případech opravdu je, existují výjimky, kdy i použití elementárních funkcí vede k překvapivě velkým chybám. V těch nejextrémnějších případech nemusí výsledek obsahovat ani jedinou platnou číslici (jinak řečeno je to hausnumero). Problémem je i zbytečné přetečení v mezivýsledku. \n",
    "\n",
    "Z tohoto důvodu modul `math` podporuje i zdánlivě nadbytečné funkce, které jsou však navrženy tak, aby tyto případy alespoň částečně eliminovaly."
   ]
  },
  {
   "cell_type": "markdown",
   "metadata": {},
   "source": [
    "Ďábel zbytečného přetečení je ukryt i v běžných výpočtech. Vezměme například výpočet délky přepony ze známých délek odvěsen (tento výpočet se využívá i pro výpočet (eukleidovských) vzdáleností v rovině)."
   ]
  },
  {
   "cell_type": "code",
   "execution_count": 186,
   "metadata": {},
   "outputs": [
    {
     "name": "stdout",
     "output_type": "stream",
     "text": [
      "inf\n"
     ]
    }
   ],
   "source": [
    "a = 5e200\n",
    "b = 6e200\n",
    "c = sqrt(a*a + b*b)\n",
    "print(c)"
   ]
  },
  {
   "cell_type": "markdown",
   "metadata": {},
   "source": [
    "Trojúhelník s odvěsnami s délkou v řádu $10^{200}$ je obtížně představitelný (a to i v případě, že by délkovou jednotkou byla Planckova délka a trojúhelníkem mince ningy = 1/8 triganského pu). Přesto je však výpočet pro dané `float` hodnoty možný i v omezené počítačové aritmetice. Stačí využít specializovanou funkci `hypot` (není to žádná magie, podívejte se na Wikipedii na článek  https://en.wikipedia.org/wiki/Hypot)."
   ]
  },
  {
   "cell_type": "code",
   "execution_count": 187,
   "metadata": {},
   "outputs": [
    {
     "name": "stdout",
     "output_type": "stream",
     "text": [
      "7.810249675906654e+200\n"
     ]
    }
   ],
   "source": [
    "a = 5e200\n",
    "b = 6e200\n",
    "c = hypot(a, b)\n",
    "print(c)"
   ]
  }
 ],
 "metadata": {
  "celltoolbar": "Tags",
  "kernelspec": {
   "display_name": "Python 3",
   "language": "python",
   "name": "python3"
  },
  "language_info": {
   "codemirror_mode": {
    "name": "ipython",
    "version": 3
   },
   "file_extension": ".py",
   "mimetype": "text/x-python",
   "name": "python",
   "nbconvert_exporter": "python",
   "pygments_lexer": "ipython3",
   "version": "3.6.5"
  }
 },
 "nbformat": 4,
 "nbformat_minor": 2
}
