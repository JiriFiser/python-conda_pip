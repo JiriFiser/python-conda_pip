{
 "cells": [
  {
   "cell_type": "markdown",
   "metadata": {},
   "source": [
    "# Vícedimenzionální pole v NumPy"
   ]
  },
  {
   "cell_type": "markdown",
   "metadata": {},
   "source": [
    "Knihovna *NumPy* se zaměřuje na kompaktní representaci vektorů a vícedimenzionálních polí (matic a tensorů) včetně tzv. vektorových operací (tj. operací s celými vícedimenzionálními poli).\n",
    "\n",
    "NumPy dodává jazyku *NumPy* funkčnost, které mnohé programovací jazyky nabízejí již ve své základní syntaxi. Přikladem může být jazyk `R` nebo známé prostředí `Matlab`. NumPy je navíc základem velkého množství dalších balíků pro vědeckotechnické a ekonomické výpočty (např. Pandas)."
   ]
  },
  {
   "cell_type": "markdown",
   "metadata": {},
   "source": [
    "## Nd-array"
   ]
  },
  {
   "cell_type": "markdown",
   "metadata": {},
   "source": [
    "Základním objektem knihovny NumPy je vícedimenzionální pole označované v NumPy slangu jako *nd-array* (zkratka za n-dimensional array), česky *nd-pole*. \n",
    "\n",
    "Nd-pole je kolekcí, která se podobá seznamu. Je homogenní (položky jsou stejného typu), je sekvencí (položky jsou indexovatelné) a je měnitelná. Má však i mnoho jedinečných rysů:\n",
    "\n",
    "\n",
    "* velikost nd-pole (= počet položek) je dán už při vytváření a během života pole se nemění (existuje zde sice možnost rozšíření, v praxi se však příliš často nevyužívá). \n",
    "\n",
    "* nd-pole podporuje složitější metody indexace včetně vícerozměrné indexace. Položky jsou uloženy lineárně za sebou, pro přístup k nim však lze využít n-tice indexů.\n",
    "\n",
    "* nd-pole je optimalizováno pro ukládání čísel resp. logických hodnot. Čísla jsou v poli ukládána jako v nízkoúrovňových jazycích (např. v jazyku C), jedno za druhým v souvislé oblasti paměti. Nd-pole jsou proto dostupná i zpracovatelná v jiných programovacích jazyků (včetně jazyka C, částečně i Java, C#, Matlab, R,  Julia, apod.), resp. lze naopak pomocí nd-polí zpracovávat pole (= souvislá homogenní oblasti paměti) vytvářená i v jiných programovacích jazycích. V NumPy lze vytvářet i pole pythonských objektů např. řetězců, ty se však svou podstatou neliší od seznamů (ukládají odkazy na objekty) a jejich zpracování mimo Pytho je složité.\n",
    "\n",
    "* nad poli jsou implementovány vektorové operace tj. operace nad všemi prvky vektoru. Některé implementace (např. Intel Python) tyto operace výrazně optimalizují (jsou např. prováděny pomocí tzv. SSE rozšíření paralelně tj. v jeden okamžik se provádí operace s více prvky)\n",
    "\n",
    "### Vytváření polí\n",
    "\n",
    "NumPy podporuje několik funkcí pro vytváření nd-polí, neboť požadavky ne jejich počáteční obsah se výrazně liší.\n",
    "\n",
    "#### Vektor (jednodimenzionální pole)\n",
    "\n",
    "Nejjednodušším příkladem nd-pole je jednorozměrný vektor."
   ]
  },
  {
   "cell_type": "code",
   "execution_count": 8,
   "metadata": {},
   "outputs": [
    {
     "data": {
      "text/plain": [
       "array([ 0.,  0.,  0.,  0.,  0.,  0.,  0.,  0.,  0.,  0.,  0.,  0.,  0.,\n",
       "        0.,  0.,  0.,  0.,  0.,  0.,  0.,  0.,  0.,  0.,  0.,  0.,  0.,\n",
       "        0.,  0.,  0.,  0.,  0.,  0.,  0.,  0.,  0.,  0.,  0.,  0.,  0.,\n",
       "        0.,  0.,  0.,  0.,  0.,  0.,  0.,  0.,  0.,  0.,  0.,  0.,  0.,\n",
       "        0.,  0.,  0.,  0.,  0.,  0.,  0.,  0.,  0.,  0.,  0.,  0.,  0.,\n",
       "        0.,  0.,  0.,  0.,  0.,  0.,  0.,  0.,  0.,  0.,  0.,  0.,  0.,\n",
       "        0.,  0.,  0.,  0.,  0.,  0.,  0.,  0.,  0.,  0.,  0.,  0.,  0.,\n",
       "        0.,  0.,  0.,  0.,  0.,  0.,  0.,  0.,  0.])"
      ]
     },
     "execution_count": 8,
     "metadata": {},
     "output_type": "execute_result"
    }
   ],
   "source": [
    "import numpy as np\n",
    "\n",
    "p1 = np.zeros(100, dtype=np.float64)\n",
    "p1"
   ]
  },
  {
   "cell_type": "markdown",
   "metadata": {},
   "source": [
    "Modul numpy se typicky importuje pomocí aliasu `np`. Přirozeně však lze využít i další typy importů, například `from numpy import zeros, float` (v tomto případě není nutné uvádět prefix `np` při volání). "
   ]
  },
  {
   "cell_type": "markdown",
   "metadata": {},
   "source": [
    "Funkce `numpy.zeros` vytváří číselná pole vyplněná nulami. Má jako většina funkcí pro vytváření polí dva parametry:\n",
    "\n",
    "**shape**: určující tvar pole v požadovaných dimenzích. U jednorozměrného pole je to jediné číslo určující počet položek (může to být i jednice obsahující toto číslo). Tento parametr se typicky předává pozičně (je vždy první).\n",
    "\n",
    "**dtype**: datový typ položek. NumPy podporuje více číselných typů než Python. Důvodem je skutečnost, že procesory (CPU) podporují číselné representace různých délek a s různou interpretací. To umožňuje zvolit optimální typ z hlediska výkonu i prostorových nároků. Pokud se typ neurčí, pak je implicitně `np.float64`"
   ]
  },
  {
   "cell_type": "markdown",
   "metadata": {},
   "source": [
    "Podívejme se nejdříve na čísla s pohyblivou řadovou čárkou. Ty jsou v dispozici ve velikosti 2,4,8 a někde i 16 bytů. Liší se podporovaným rozsahem (v tabulce je přibližné nejmenší a největší kladné číslo, podporovány jsou i odpovídající čísla záporná, nula a speciální hodnoty +inf, -inf a NaN) a počtem platných číslic.  \n",
    "\n",
    "| označení | velikost (byty) | rozsah          | platné číslice | poznámka                                                         |\n",
    "|----------|-----------------|-----------------|----------------|------------------------------------------------------------------|\n",
    "| float16  | 2               | 6.1e-5, 65504   | 3.3            | zatím pomalé, hardware pro přímou podporu se začíná objevovat    |\n",
    "| float32  | 4               | 3e-38, 3e38     | 7.2            | nejrychlejší, podpora v CPU i GPU                                |\n",
    "| float64  | 8               | 2e-308, 2e308   | 15.9           | podporováno většinou CPU a některými GPU, rychlé, = Python float |\n",
    "| float128 | 10              | 3e-4932, 1e4932 | 19.2           | pomalejší, není podporováno na všech platformách        |"
   ]
  },
  {
   "cell_type": "markdown",
   "metadata": {},
   "source": [
    "V praxi se nejvíce používá `float64` (tzv. *double precision*). Proto pro něj existuje zkrácení jméno `np.float`.\n",
    "\n",
    "Pouze v případě, že je potřeba šetřit pamětí resp. mírně (cca 2×) urychlit výpočty, je používán i `float32` (tzv. *single precision*). Má však už relativně malou přesnost (výsledek nedostatečně přesný i u jenoduchých výpočtů). Dvojbajtové (*half*) a 16-bytové (*quad precision*) representace nejsou zatím příliš podporovány v hardwaru a mohou tak být o něco pomalejší.\n",
    "\n",
    "Half precision representace je však velmi úsporná a s podporou hardwaru (ta se již objevuje s podporou strojového učení) i enormně rychlá. Quad precision naopak nabízí skvělou přesnost (podporu v CPU resp. GPU však nelze prozatím očekávat)."
   ]
  },
  {
   "cell_type": "markdown",
   "metadata": {},
   "source": [
    ">**Úkol**: Vytvořte jednorozměrné pole položek typu `float16` obsahující $2^{24}$ nul."
   ]
  },
  {
   "cell_type": "code",
   "execution_count": 11,
   "metadata": {
    "tags": [
     "h"
    ]
   },
   "outputs": [
    {
     "data": {
      "text/plain": [
       "array([ 0.,  0.,  0., ...,  0.,  0.,  0.], dtype=float16)"
      ]
     },
     "execution_count": 11,
     "metadata": {},
     "output_type": "execute_result"
    }
   ],
   "source": [
    "np.zeros(2**24, dtype=np.float16)"
   ]
  },
  {
   "cell_type": "markdown",
   "metadata": {},
   "source": [
    "Nabídka typů celých čísel je komplikována tím, že pro každou šířku jsou k dispozici dva typy: znaménkový (representuje záporná i kladná čísla) a neznaménkový representuje jen čísla kladná (počínaje nulou).\n",
    "\n",
    "Rozsah čísel znaménkových čísel je $-2^\\frac{n}{2} \\ldots -2^\\frac{n}{2} -1$ (kde $n$ je počet bytů), neznaménková pak $0 \\ldots 2^n-1$. U vyšších typů stačí znát rozsah přibližně.\n",
    "\n",
    "Základním typem jsou znaménková čísla, s rozsahem daným velikostí přístupných registrů. U 64-bitových operačních systémů je to typicky 64 bitů u 32-bitových pak 32. Ostatní typy volte jen tehdy, pokud máte speciální požadavky (ušetření paměti nebo naopak větší podporovaný obsah)."
   ]
  },
  {
   "cell_type": "markdown",
   "metadata": {},
   "source": [
    "| znaménkový typ | rozsah                                                  | neznaménkový typ | rozsah                         |\n",
    "|----------------|---------------------------------------------------------|------------------|--------------------------------|\n",
    "| np.int8        |                        -128 – 127                       | np.uint8         |             0 – 255            |\n",
    "| np.int16       |                      -32768 – 32767                     | np.uint16        |            0 – 65535           |\n",
    "| np.int32       |              -2 147 483 648 – 2 147 483 647             | np.uint32        |        0 – 4 294 967 295       |\n",
    "| np.int64       | -9 223 372 036 854 775 808 – 9 223 372 036 854 775 807  | np.uint64        | 0 – 18 446 744 073 709 551 615 |"
   ]
  },
  {
   "cell_type": "markdown",
   "metadata": {},
   "source": [
    "Speciálním typem je `np.int`, který označuje celá čísla v šířce typické pro danou platformu (tj. 32 nebo 64). Použitím tohoto typu si usnadníte volbu nejpřirozenější representace celých čísel, skript se však může stát méně přenositelný (při spuštění na jiném počítači se může zvolit jiný typ)."
   ]
  },
  {
   "cell_type": "markdown",
   "metadata": {},
   "source": [
    "Nyní můžeme přistoupit k dalším způsobům vytváření polí."
   ]
  },
  {
   "cell_type": "code",
   "execution_count": 17,
   "metadata": {},
   "outputs": [
    {
     "data": {
      "text/plain": [
       "array([1, 1, 1, ..., 1, 1, 1], dtype=int8)"
      ]
     },
     "execution_count": 17,
     "metadata": {},
     "output_type": "execute_result"
    }
   ],
   "source": [
    "np.ones(1024, dtype=np.int8)  # pole 1O24 jedniček typu int8 (znaménkový byte)"
   ]
  },
  {
   "cell_type": "code",
   "execution_count": 72,
   "metadata": {},
   "outputs": [
    {
     "data": {
      "text/plain": [
       "array([-1., -1., -1., -1., -1., -1., -1., -1., -1., -1., -1., -1., -1.,\n",
       "       -1., -1., -1., -1., -1., -1., -1., -1., -1., -1., -1., -1., -1.,\n",
       "       -1., -1., -1., -1., -1., -1., -1., -1., -1., -1., -1., -1., -1.,\n",
       "       -1., -1., -1., -1., -1., -1., -1., -1., -1., -1., -1., -1., -1.,\n",
       "       -1., -1., -1., -1., -1., -1., -1., -1., -1., -1., -1., -1., -1.,\n",
       "       -1., -1., -1., -1., -1., -1., -1., -1., -1., -1., -1., -1., -1.,\n",
       "       -1., -1., -1., -1., -1., -1., -1., -1., -1., -1., -1., -1., -1.,\n",
       "       -1., -1., -1., -1., -1., -1., -1., -1., -1.], dtype=float16)"
      ]
     },
     "execution_count": 72,
     "metadata": {},
     "output_type": "execute_result"
    }
   ],
   "source": [
    "np.full(100, -1, dtype=np.float16) # pole 100 hodnot -1 typu `float16`"
   ]
  },
  {
   "cell_type": "code",
   "execution_count": 16,
   "metadata": {},
   "outputs": [
    {
     "data": {
      "text/plain": [
       "array([1, 0, 1, 1, 0, 1, 1, 0, 1, 1, 0, 1, 1, 0, 1, 1, 0, 1, 1, 0, 1, 1, 0,\n",
       "       1, 1, 0, 1, 1, 0, 1, 1, 0, 1, 1, 0, 1, 1, 0, 1, 1, 0, 1, 1, 0, 1, 1,\n",
       "       0, 1, 1, 0, 1, 1, 0, 1, 1, 0, 1, 1, 0, 1, 1, 0, 1, 1, 0, 1, 1, 0, 1,\n",
       "       1, 0, 1, 1, 0, 1, 1, 0, 1, 1, 0, 1, 1, 0, 1, 1, 0, 1, 1, 0, 1, 1, 0,\n",
       "       1, 1, 0, 1, 1, 0, 1, 1, 0, 1, 1, 0, 1, 1, 0, 1, 1, 0, 1, 1, 0, 1, 1,\n",
       "       0, 1, 1, 0, 1, 1, 0, 1, 1, 0, 1, 1, 0, 1, 1, 0, 1, 1, 0, 1, 1, 0, 1,\n",
       "       1, 0, 1, 1, 0, 1, 1, 0, 1, 1, 0, 1, 1, 0, 1, 1, 0, 1, 1, 0, 1, 1, 0,\n",
       "       1, 1, 0, 1, 1, 0, 1, 1, 0, 1, 1, 0, 1, 1, 0, 1, 1, 0, 1, 1, 0, 1, 1,\n",
       "       0, 1, 1, 0, 1, 1, 0, 1, 1, 0, 1, 1, 0, 1, 1, 0, 1, 1, 0, 1, 1, 0, 1,\n",
       "       1, 0, 1, 1, 0, 1, 1, 0, 1, 1, 0, 1, 1, 0, 1, 1, 0, 1, 1, 0, 1, 1, 0,\n",
       "       1, 1, 0, 1, 1, 0, 1, 1, 0, 1, 1, 0, 1, 1, 0, 1, 1, 0, 1, 1, 0, 1, 1,\n",
       "       0, 1, 1, 0, 1, 1, 0, 1, 1, 0, 1, 1, 0, 1, 1, 0, 1, 1, 0, 1, 1, 0, 1,\n",
       "       1, 0, 1, 1, 0, 1, 1, 0, 1, 1, 0, 1, 1, 0, 1, 1, 0, 1, 1, 0, 1, 1, 0,\n",
       "       1])"
      ]
     },
     "execution_count": 16,
     "metadata": {},
     "output_type": "execute_result"
    }
   ],
   "source": [
    "p3 = np.array([1,0,1] * 100) # pole ze seznamu (typ je np.int s šířkou podle platformy)\n",
    "p3"
   ]
  },
  {
   "cell_type": "markdown",
   "metadata": {},
   "source": [
    "Vytváření pole ze seznamů je pohodlné (stačí použít funkci `array`), měli byste se mu však vyhýbat, neboť je náročné na paměť. Po určitou dobu totiž v paměti musí existovat jak původní seznam tak nově vytvářené pole.\n",
    "Pro malá pole je však mnohdy tou nejjednoduššá cestou (například zde, kde seznam vzniká opakováním vzoru, který je využívá běžný konstruktor seznamů)."
   ]
  },
  {
   "cell_type": "code",
   "execution_count": 18,
   "metadata": {},
   "outputs": [
    {
     "data": {
      "text/plain": [
       "array([ 0. ,  0.1,  0.2,  0.3,  0.4,  0.5,  0.6,  0.7,  0.8,  0.9,  1. ,\n",
       "        1.1,  1.2,  1.3,  1.4,  1.5,  1.6,  1.7,  1.8,  1.9])"
      ]
     },
     "execution_count": 18,
     "metadata": {},
     "output_type": "execute_result"
    }
   ],
   "source": [
    "np.arange(0.0, 2.0, 0.1) # dtyp je `np.float neboť meze jsou neceločíselné konstanty"
   ]
  },
  {
   "cell_type": "markdown",
   "metadata": {},
   "source": [
    "Vrací pole vyplněné hodnotami od startovní (včetně) po koncovou (vyjma) s daným krokem. Všimněte si, že koncový prvek není obsažen. Celkový počet prvků by měl být $(max-min)/krok$. \n",
    "\n",
    "V některých příkladech je vhodnější použít funkci `linspace`, která rovnoměrně rozdělí interval, tak aby obsahoval $n$ dělících bodů (včetně počátečného a koncového bodu původního intervalu). "
   ]
  },
  {
   "cell_type": "code",
   "execution_count": 36,
   "metadata": {},
   "outputs": [
    {
     "data": {
      "text/plain": [
       "array([ 0.        ,  0.11111111,  0.22222222,  0.33333333,  0.44444444,\n",
       "        0.55555556,  0.66666667,  0.77777778,  0.88888889,  1.        ])"
      ]
     },
     "execution_count": 36,
     "metadata": {},
     "output_type": "execute_result"
    }
   ],
   "source": [
    "np.linspace(0.0, 1.0, 10)  # výsledkem je 10 rovnoměrně rozmístěných bodů od 0.0 do 1.0 včetně ()"
   ]
  },
  {
   "cell_type": "markdown",
   "metadata": {},
   "source": [
    "Tento výsledek je správny, ale pravděpodobně neočekávaný. Pokud chceme rozdělení s krokem 0.1, pak musíte počítat s tím, že se do výsledků zahrne i koncový bod."
   ]
  },
  {
   "cell_type": "code",
   "execution_count": 37,
   "metadata": {},
   "outputs": [
    {
     "data": {
      "text/plain": [
       "array([ 0. ,  0.1,  0.2,  0.3,  0.4,  0.5,  0.6,  0.7,  0.8,  0.9,  1. ])"
      ]
     },
     "execution_count": 37,
     "metadata": {},
     "output_type": "execute_result"
    }
   ],
   "source": [
    "np.linspace(0.0, 1.0, 11) # výsledkem je 11 čísel!"
   ]
  },
  {
   "cell_type": "markdown",
   "metadata": {},
   "source": [
    "Pokud hodláte pole vyplnit až později, pak je nejvhodnější alokovat pole bez vyplnění (bude typicky obsahovat nuly nebo náhodná čísla daná původním bytovým obsahem paměti)."
   ]
  },
  {
   "cell_type": "code",
   "execution_count": 44,
   "metadata": {},
   "outputs": [
    {
     "data": {
      "text/plain": [
       "array([28,  0,  0, ..., 49, 44, 32], dtype=uint8)"
      ]
     },
     "execution_count": 44,
     "metadata": {},
     "output_type": "execute_result"
    }
   ],
   "source": [
    "np.empty(10000, dtype=np.uint8)"
   ]
  },
  {
   "cell_type": "markdown",
   "metadata": {},
   "source": [
    "V Linux mi pro menší rozsahy vrací pole nulované, pro větší počet pole s podivným obsahem (de facto jsou to odpadky z jiných uvolněných bloků paměti). Vyzkoušejte si zadat různé rozsahy.\n",
    "\n",
    "Důležité upozornění: I když se může jevit, že odpadky je náhodná posloupnost čísel, není tomu tak! V poli se mohou vyskytovat dlouhé posloupnosti stejné hodnoty a rozdělení rozhodně není rovnoměrné."
   ]
  },
  {
   "cell_type": "code",
   "execution_count": 57,
   "metadata": {},
   "outputs": [
    {
     "name": "stdout",
     "output_type": "stream",
     "text": [
      "[  4.94065646e-324   2.15142348e-316   1.38338381e-322   6.92337644e-310\n",
      "   6.92322347e-310   6.92337644e-310   4.94065646e-324   1.38338381e-322\n",
      "   6.92337192e-310   6.92322347e-310]\n",
      "-4.64267070575e+17 3.16224606696e+281 6.32521965076e+278\n"
     ]
    }
   ],
   "source": [
    "p = np.empty(1000, dtype=np.float64)\n",
    "print(p[:10]) # vypíš prvních deset\n",
    "print(p.min(), p.max(), p.mean())"
   ]
  },
  {
   "cell_type": "markdown",
   "metadata": {},
   "source": [
    "V Linuxu vypíše zdánlivě náhodná čísla, která se však na začátku pohybují těsně kole nuly, maximum je řádu 3e281, minimu -4e17 a průměr je 6e278. To neodpovídá rovnoměrnému rozdělení (průměr by měl ležet v polovině mezi minimem a maximem, podposloupnost 10 nulových čísel je nepravděpodobná, apod.)."
   ]
  },
  {
   "cell_type": "markdown",
   "metadata": {},
   "source": [
    "Pro generování náhodných čísel je možno využít funkce z modulu `numpy.random`."
   ]
  },
  {
   "cell_type": "code",
   "execution_count": 64,
   "metadata": {},
   "outputs": [
    {
     "data": {
      "text/plain": [
       "array([ 0.94297252,  0.11016571,  0.66853299,  0.02126112,  0.04712289,\n",
       "        0.74512244,  0.13405471,  0.01673796,  0.99215853,  0.87068539,\n",
       "        0.41165957,  0.56381673,  0.63049471,  0.66447207,  0.1758051 ,\n",
       "        0.22140164,  0.0195121 ,  0.15633363,  0.61082973,  0.71438342,\n",
       "        0.22804889,  0.51030382,  0.85069976,  0.28910246,  0.92769602,\n",
       "        0.78635614,  0.69208791,  0.8182663 ,  0.53649046,  0.10832725,\n",
       "        0.19255559,  0.9078615 ,  0.90102169,  0.02266634,  0.13901228,\n",
       "        0.8151203 ,  0.92802334,  0.34973111,  0.68485535,  0.37563312,\n",
       "        0.83498964,  0.17935328,  0.49542913,  0.96050549,  0.42358621,\n",
       "        0.28780531,  0.41943836,  0.69852691,  0.57177212,  0.87186434,\n",
       "        0.44972924,  0.13157124,  0.62184744,  0.28408516,  0.51950409,\n",
       "        0.73333222,  0.59965301,  0.08523781,  0.51504025,  0.50487781,\n",
       "        0.21030087,  0.38594633,  0.75581602,  0.34576024,  0.39907104,\n",
       "        0.8265349 ,  0.3989897 ,  0.82403983,  0.17897944,  0.19582424,\n",
       "        0.43980336,  0.96353378,  0.90190768,  0.34057945,  0.89575406,\n",
       "        0.0108013 ,  0.75531447,  0.3709124 ,  0.69374022,  0.65833611,\n",
       "        0.7961284 ,  0.21207548,  0.90396559,  0.74845553,  0.46227327,\n",
       "        0.70316771,  0.91948169,  0.85271615,  0.70322794,  0.19089279,\n",
       "        0.4870012 ,  0.86351179,  0.02688504,  0.70791034,  0.95079455,\n",
       "        0.48355275,  0.90119978,  0.24066706,  0.2031132 ,  0.25490241])"
      ]
     },
     "execution_count": 64,
     "metadata": {},
     "output_type": "execute_result"
    }
   ],
   "source": [
    "from numpy.random import uniform # uniform = rovnoměrné rozdělení\n",
    "\n",
    "uniform(0.0,1.0,100) # generuje 100 čísel v rozsahu 0.0 až 1.0 "
   ]
  },
  {
   "cell_type": "markdown",
   "metadata": {},
   "source": [
    "V tomto případě nelze určit výsledný typ položek (je vždy `float64`). Lze jej však převést na jiné typy přetypováním pole (viz dále).\n",
    "\n",
    "Celočíselné hodnoty lze získat použitím funkce `numpy.random.randint`). V této funkci se zadá minimální (včetně) a maximální (vyjma) hodnota. Navíc zde lze určit typ položek (musí být celočíselný)."
   ]
  },
  {
   "cell_type": "code",
   "execution_count": 69,
   "metadata": {},
   "outputs": [
    {
     "data": {
      "text/plain": [
       "array([1, 4, 1, 3, 1, 5, 2, 1, 5, 2, 2, 4, 4, 4, 4, 1, 4, 4, 4, 3, 5, 3, 5,\n",
       "       5, 3, 5, 4, 1, 2, 2, 2, 1, 1, 1, 4, 4, 2, 5, 3, 5, 1, 1, 4, 5, 4, 2,\n",
       "       3, 5, 2, 1, 4, 3, 3, 3, 3, 5, 5, 4, 3, 3, 4, 3, 4, 2, 5, 1, 5, 1, 5,\n",
       "       5, 5, 2, 4, 4, 1, 5, 1, 4, 3, 5, 2, 2, 2, 1, 5, 4, 5, 4, 2, 4, 3, 2,\n",
       "       1, 4, 2, 1, 4, 2, 5, 3], dtype=uint8)"
      ]
     },
     "execution_count": 69,
     "metadata": {},
     "output_type": "execute_result"
    }
   ],
   "source": [
    "from numpy.random import randint\n",
    "\n",
    "randint(1,6, 100, dtype=np.uint8)"
   ]
  },
  {
   "cell_type": "markdown",
   "metadata": {},
   "source": [
    "#### Vícerozměrná pole\n",
    "\n",
    "Vytváření vícerozměrných polí se v zásadě neliší od vytváření polí jednorozměrných. Ve většině případů stačí specifikovat tvar matice pomocí dvojic (dvourozměrné pole), či delších n-tic:"
   ]
  },
  {
   "cell_type": "code",
   "execution_count": 74,
   "metadata": {},
   "outputs": [
    {
     "data": {
      "text/plain": [
       "array([[2, 2, 2, 2, 2, 2, 2, 2, 2, 2],\n",
       "       [2, 2, 2, 2, 2, 2, 2, 2, 2, 2],\n",
       "       [2, 2, 2, 2, 2, 2, 2, 2, 2, 2],\n",
       "       [2, 2, 2, 2, 2, 2, 2, 2, 2, 2],\n",
       "       [2, 2, 2, 2, 2, 2, 2, 2, 2, 2],\n",
       "       [2, 2, 2, 2, 2, 2, 2, 2, 2, 2],\n",
       "       [2, 2, 2, 2, 2, 2, 2, 2, 2, 2],\n",
       "       [2, 2, 2, 2, 2, 2, 2, 2, 2, 2],\n",
       "       [2, 2, 2, 2, 2, 2, 2, 2, 2, 2],\n",
       "       [2, 2, 2, 2, 2, 2, 2, 2, 2, 2]])"
      ]
     },
     "execution_count": 74,
     "metadata": {},
     "output_type": "execute_result"
    }
   ],
   "source": [
    "np.full((10,10), 2) # matice o velikosti 10×10 vyplněná hodnotou 2 (dtype je int64 podle typu hodnoty 2)"
   ]
  },
  {
   "cell_type": "code",
   "execution_count": 76,
   "metadata": {},
   "outputs": [
    {
     "data": {
      "text/plain": [
       "array([[[-0.43483579,  0.52818509, -0.64513755],\n",
       "        [-0.43179342, -0.30369106,  0.72636285],\n",
       "        [ 0.12209077, -0.29644951, -0.47268586]],\n",
       "\n",
       "       [[-0.54575958, -0.20655328, -0.09253202],\n",
       "        [-0.00419426, -0.24073618,  0.56739354],\n",
       "        [-0.69812078,  0.9794645 ,  0.70285543]],\n",
       "\n",
       "       [[ 0.27892175,  0.64086446,  0.28993373],\n",
       "        [-0.8117512 ,  0.01646257,  0.84951886],\n",
       "        [ 0.66649653, -0.30473356, -0.9310908 ]]])"
      ]
     },
     "execution_count": 76,
     "metadata": {},
     "output_type": "execute_result"
    }
   ],
   "source": [
    "np.random.uniform(-1.0, 1.0, (3,3,3))  # náhodné trojrozměrné pole 3x3 (rovnoměrné rozdělené od -1 do 1)"
   ]
  },
  {
   "cell_type": "markdown",
   "metadata": {},
   "source": [
    "Zajímavější je použití funkcí `array` a především `arange` či `linspace`.\n",
    "\n",
    "Pokud chceme vytvořit vícerozměrné pole ze seznamů, je nutno využít víceúrovňové vnořené seznamy seznamů. Nejčastěji se používají dvojúrovňové seznamy seznamů, které se převádějí na matice (dvoudimenzionální pole)."
   ]
  },
  {
   "cell_type": "code",
   "execution_count": 78,
   "metadata": {},
   "outputs": [
    {
     "data": {
      "text/plain": [
       "array([[ 1.,  2.],\n",
       "       [ 3.,  4.]])"
      ]
     },
     "execution_count": 78,
     "metadata": {},
     "output_type": "execute_result"
    }
   ],
   "source": [
    "np.array([[1,2], [3, 4]], dtype=np.float64) # matice 2x2 položek typu `float64`"
   ]
  },
  {
   "cell_type": "markdown",
   "metadata": {},
   "source": [
    "> **Úkol**: Vytvořte jednotkovou matici 5×5 (typu `float64`) pomocí funkce `np.array`."
   ]
  },
  {
   "cell_type": "code",
   "execution_count": 80,
   "metadata": {
    "tags": [
     "h"
    ]
   },
   "outputs": [
    {
     "data": {
      "text/plain": [
       "array([[ 1.,  0.,  0.,  0.,  0.],\n",
       "       [ 0.,  1.,  0.,  0.,  0.],\n",
       "       [ 0.,  0.,  1.,  0.,  0.],\n",
       "       [ 0.,  0.,  0.,  1.,  0.],\n",
       "       [ 0.,  0.,  0.,  0.,  1.]])"
      ]
     },
     "execution_count": 80,
     "metadata": {},
     "output_type": "execute_result"
    }
   ],
   "source": [
    "np.array([\n",
    "    [1, 0, 0, 0, 0],\n",
    "    [0, 1, 0, 0, 0],\n",
    "    [0, 0, 1, 0, 0],\n",
    "    [0, 0, 0, 1, 0],\n",
    "    [0, 0, 0, 0, 1]\n",
    "], dtype=np.float64) # typ je zde povinný (implicitně by byla matice celočíselná)"
   ]
  },
  {
   "cell_type": "markdown",
   "metadata": {},
   "source": [
    "Vytváření jednotkových matic tímto způsobem je dosti nepohodlné (hlavně pro větší matice). Není proto překvapením, že existuje i jednodušší postup:"
   ]
  },
  {
   "cell_type": "code",
   "execution_count": 81,
   "metadata": {},
   "outputs": [
    {
     "data": {
      "text/plain": [
       "array([[ 1.,  0.,  0.,  0.,  0.],\n",
       "       [ 0.,  1.,  0.,  0.,  0.],\n",
       "       [ 0.,  0.,  1.,  0.,  0.],\n",
       "       [ 0.,  0.,  0.,  1.,  0.],\n",
       "       [ 0.,  0.,  0.,  0.,  1.]])"
      ]
     },
     "execution_count": 81,
     "metadata": {},
     "output_type": "execute_result"
    }
   ],
   "source": [
    "np.eye(5) # položky jsou implicitně typu `float64`."
   ]
  },
  {
   "cell_type": "markdown",
   "metadata": {},
   "source": [
    "Funkce `numpy.arange` resp. `numpy.linspace` jsou ve své podstatě omezena na tvorbu jednorozměrných polí. Někdy se však hodí vytvářet matice, které jsou tvořeny posloupností prvků (typicky postupně přes jednotlivé řádky). V tomto případě lze využít funkce `reshape`, která změní rozměry (a často i dimenzi), při zachování počtu prvků."
   ]
  },
  {
   "cell_type": "code",
   "execution_count": 83,
   "metadata": {},
   "outputs": [
    {
     "data": {
      "text/plain": [
       "array([[  0.,   1.,   2.,   3.],\n",
       "       [  4.,   5.,   6.,   7.],\n",
       "       [  8.,   9.,  10.,  11.],\n",
       "       [ 12.,  13.,  14.,  15.]])"
      ]
     },
     "execution_count": 83,
     "metadata": {},
     "output_type": "execute_result"
    }
   ],
   "source": [
    "np.linspace(0, 15, 16).reshape(4,4)"
   ]
  },
  {
   "cell_type": "markdown",
   "metadata": {},
   "source": [
    "Při \"přetvarování\" nedochází k žádnému kopírování či přesunu prvků. Původní datový obsah pole se nemění  jen se změní jeho interpretace (tj. indexování)."
   ]
  },
  {
   "cell_type": "markdown",
   "metadata": {},
   "source": [
    "> **Úkol**: Vytvořte tutéž matici pomocí funkce `np.arange`. Jak se liší výsledek (předokládejme použití celočiselných mezí a kroku rozsahu)?"
   ]
  },
  {
   "cell_type": "code",
   "execution_count": 85,
   "metadata": {
    "tags": [
     "h"
    ]
   },
   "outputs": [
    {
     "data": {
      "text/plain": [
       "array([[ 0,  1,  2,  3],\n",
       "       [ 4,  5,  6,  7],\n",
       "       [ 8,  9, 10, 11],\n",
       "       [12, 13, 14, 15]])"
      ]
     },
     "execution_count": 85,
     "metadata": {},
     "output_type": "execute_result"
    }
   ],
   "source": [
    "np.arange(0,16,1).reshape(4,4)"
   ]
  },
  {
   "cell_type": "markdown",
   "metadata": {
    "tags": [
     "h"
    ]
   },
   "source": [
    "Výsledkem je pole celých čísel (`dtype` je `np.int`)."
   ]
  },
  {
   "cell_type": "markdown",
   "metadata": {},
   "source": [
    "### Čtení a ukládání polí do souborů\n",
    "\n",
    "Pro ukládání polí do souborů lze v zásadě použít běžný textově orientovaný výstup vytvořený, vestavěnou metodou `open`. Je to však nepohodlné, protože je nutno parsovat text a především provádět převod seznamů (výsledků parsovaní) na pole.\n",
    "\n",
    "Z tohoto důvodu *NumPy* přináší vlastní metody pro čtení některých textově orientovaných formátů. Nejjednodušší je čtení souborů, která representují dvourozměrná pole pomocí řádků textu, v nichž jsou jednotlivé číslice odděleny jednoduchým oddělovacím znakem (+ případné nevýznamné mezery). Tyto soubory jsou jednoduchou verzí CSV souborů, se kterými jsme se již seznámili.\n",
    "\n",
    "Nejdříve si takový soubor vytvoříme."
   ]
  },
  {
   "cell_type": "code",
   "execution_count": 6,
   "metadata": {},
   "outputs": [
    {
     "name": "stdout",
     "output_type": "stream",
     "text": [
      "[[7 4 7 1 2]\n",
      " [6 4 0 7 0]\n",
      " [3 9 3 1 5]\n",
      " [5 4 4 1 1]\n",
      " [6 5 8 6 8]\n",
      " [5 3 4 2 0]\n",
      " [7 7 8 4 6]\n",
      " [7 4 0 6 1]\n",
      " [7 8 3 2 7]\n",
      " [7 4 8 3 8]]\n"
     ]
    }
   ],
   "source": [
    "import numpy as np\n",
    "\n",
    "array = np.random.randint(0,10,(10, 5))\n",
    "print(array)\n",
    "\n",
    "np.savetxt(\"random_ints.txt\", array, delimiter=\",\")"
   ]
  },
  {
   "cell_type": "markdown",
   "metadata": {},
   "source": [
    "Je zřejmé, že první parametr určuje jméno vytvářeného souboru a druhý ukládané dvojrozměrné pole. Pojmenovaná parametr `delimiter` definuje oddělovací znak.\n",
    "\n",
    "Uložený soubor si můžeme vypsat pomocí standardních vstupně výstupních funkcí."
   ]
  },
  {
   "cell_type": "code",
   "execution_count": 8,
   "metadata": {},
   "outputs": [
    {
     "name": "stdout",
     "output_type": "stream",
     "text": [
      "7.000000000000000000e+00,4.000000000000000000e+00,7.000000000000000000e+00,1.000000000000000000e+00,2.000000000000000000e+00\n",
      "6.000000000000000000e+00,4.000000000000000000e+00,0.000000000000000000e+00,7.000000000000000000e+00,0.000000000000000000e+00\n",
      "3.000000000000000000e+00,9.000000000000000000e+00,3.000000000000000000e+00,1.000000000000000000e+00,5.000000000000000000e+00\n",
      "5.000000000000000000e+00,4.000000000000000000e+00,4.000000000000000000e+00,1.000000000000000000e+00,1.000000000000000000e+00\n",
      "6.000000000000000000e+00,5.000000000000000000e+00,8.000000000000000000e+00,6.000000000000000000e+00,8.000000000000000000e+00\n",
      "5.000000000000000000e+00,3.000000000000000000e+00,4.000000000000000000e+00,2.000000000000000000e+00,0.000000000000000000e+00\n",
      "7.000000000000000000e+00,7.000000000000000000e+00,8.000000000000000000e+00,4.000000000000000000e+00,6.000000000000000000e+00\n",
      "7.000000000000000000e+00,4.000000000000000000e+00,0.000000000000000000e+00,6.000000000000000000e+00,1.000000000000000000e+00\n",
      "7.000000000000000000e+00,8.000000000000000000e+00,3.000000000000000000e+00,2.000000000000000000e+00,7.000000000000000000e+00\n",
      "7.000000000000000000e+00,4.000000000000000000e+00,8.000000000000000000e+00,3.000000000000000000e+00,8.000000000000000000e+00\n",
      "\n"
     ]
    }
   ],
   "source": [
    "with open(\"random_ints.txt\", \"rt\") as f: # otevře textový soubor\n",
    "    print(f.read()) # a vypíše jeho obsah jako jeden dlouhý řetězec"
   ]
  },
  {
   "cell_type": "markdown",
   "metadata": {},
   "source": [
    "Formát není příliš přehledný a zabírá zbytečně mnoho místa. Proto je mnohdy vhodnější uvádět při ukládání i požadovaný formát (formátovací znaky tvoří podmnožinu znaků používanách v popisovačích formátovacích řetězců)."
   ]
  },
  {
   "cell_type": "code",
   "execution_count": 12,
   "metadata": {
    "collapsed": true
   },
   "outputs": [],
   "source": [
    "np.savetxt(\"random_ints.txt\", array, delimiter=\",\", fmt=\"%.0f\")"
   ]
  },
  {
   "cell_type": "code",
   "execution_count": 13,
   "metadata": {},
   "outputs": [
    {
     "name": "stdout",
     "output_type": "stream",
     "text": [
      "7,4,7,1,2\n",
      "6,4,0,7,0\n",
      "3,9,3,1,5\n",
      "5,4,4,1,1\n",
      "6,5,8,6,8\n",
      "5,3,4,2,0\n",
      "7,7,8,4,6\n",
      "7,4,0,6,1\n",
      "7,8,3,2,7\n",
      "7,4,8,3,8\n",
      "\n"
     ]
    }
   ],
   "source": [
    "with open(\"random_ints.txt\", \"rt\") as f: # opět vypíšeme textová obsah\n",
    "    print(f.read())"
   ]
  },
  {
   "cell_type": "markdown",
   "metadata": {},
   "source": [
    "Pro načtení do pole použijeme funkci `numpy.loadtxt`. Parametry jsou zřejmé. Všimněte si, že je nutno uvést požadovaný typ položek (pokud by nebyl uveden byl by to `float`)."
   ]
  },
  {
   "cell_type": "code",
   "execution_count": 14,
   "metadata": {},
   "outputs": [
    {
     "name": "stdout",
     "output_type": "stream",
     "text": [
      "[[7 4 7 1 2]\n",
      " [6 4 0 7 0]\n",
      " [3 9 3 1 5]\n",
      " [5 4 4 1 1]\n",
      " [6 5 8 6 8]\n",
      " [5 3 4 2 0]\n",
      " [7 7 8 4 6]\n",
      " [7 4 0 6 1]\n",
      " [7 8 3 2 7]\n",
      " [7 4 8 3 8]]\n"
     ]
    }
   ],
   "source": [
    "duplicate = np.loadtxt(\"random_ints.txt\", delimiter=\",\", dtype=np.int)\n",
    "print(duplicate)"
   ]
  },
  {
   "cell_type": "markdown",
   "metadata": {},
   "source": [
    "> **Úkol**: Úkol uložte do textového souboru čísla od jedné do 20, tak aby bylo každé na zvláštním řádku.\n",
    "> Rada: musíte použít metodu reshape, abyste pole přeorganizovali do správného tvaru"
   ]
  },
  {
   "cell_type": "code",
   "execution_count": 15,
   "metadata": {
    "tags": [
     "h"
    ]
   },
   "outputs": [
    {
     "name": "stdout",
     "output_type": "stream",
     "text": [
      "[ 1  2  3  4  5  6  7  8  9 10 11 12 13 14 15 16 17 18 19 20]\n"
     ]
    }
   ],
   "source": [
    "cisla = np.arange(1,21)\n",
    "print(cisla)"
   ]
  },
  {
   "cell_type": "markdown",
   "metadata": {
    "tags": [
     "h"
    ]
   },
   "source": [
    "Pole má nesprávný tvar. Po uložený by tvořily jeden řádek. Proto jej upravíme do matice s 20 řádky a jedním sloupcem."
   ]
  },
  {
   "cell_type": "code",
   "execution_count": 16,
   "metadata": {
    "tags": [
     "h"
    ]
   },
   "outputs": [
    {
     "name": "stdout",
     "output_type": "stream",
     "text": [
      "[[ 1]\n",
      " [ 2]\n",
      " [ 3]\n",
      " [ 4]\n",
      " [ 5]\n",
      " [ 6]\n",
      " [ 7]\n",
      " [ 8]\n",
      " [ 9]\n",
      " [10]\n",
      " [11]\n",
      " [12]\n",
      " [13]\n",
      " [14]\n",
      " [15]\n",
      " [16]\n",
      " [17]\n",
      " [18]\n",
      " [19]\n",
      " [20]]\n"
     ]
    }
   ],
   "source": [
    "cisla = cisla.reshape(20,1)\n",
    "print(cisla)"
   ]
  },
  {
   "cell_type": "markdown",
   "metadata": {
    "tags": [
     "h"
    ]
   },
   "source": [
    "Nyní je již uložení snadné (nemusíme ani definovat oddělovač sloupcí, stejně se žádný nepoužije)"
   ]
  },
  {
   "cell_type": "code",
   "execution_count": 18,
   "metadata": {
    "collapsed": true,
    "tags": [
     "h"
    ]
   },
   "outputs": [],
   "source": [
    "np.savetxt(\"cisla.txt\", cisla)"
   ]
  },
  {
   "cell_type": "code",
   "execution_count": 20,
   "metadata": {
    "tags": [
     "h"
    ]
   },
   "outputs": [
    {
     "name": "stdout",
     "output_type": "stream",
     "text": [
      "1.000000000000000000e+00\n",
      "2.000000000000000000e+00\n",
      "3.000000000000000000e+00\n",
      "4.000000000000000000e+00\n",
      "5.000000000000000000e+00\n",
      "6.000000000000000000e+00\n",
      "7.000000000000000000e+00\n",
      "8.000000000000000000e+00\n",
      "9.000000000000000000e+00\n",
      "1.000000000000000000e+01\n",
      "1.100000000000000000e+01\n",
      "1.200000000000000000e+01\n",
      "1.300000000000000000e+01\n",
      "1.400000000000000000e+01\n",
      "1.500000000000000000e+01\n",
      "1.600000000000000000e+01\n",
      "1.700000000000000000e+01\n",
      "1.800000000000000000e+01\n",
      "1.900000000000000000e+01\n",
      "2.000000000000000000e+01\n",
      "\n"
     ]
    }
   ],
   "source": [
    "with open(\"cisla.txt\", \"rt\") as f:\n",
    "    print(f.read())"
   ]
  },
  {
   "cell_type": "markdown",
   "metadata": {},
   "source": [
    "### Indexace\n",
    "\n",
    "Indexace jednorozměrných polí se v zásadě neliší od indexace seznamů. První index je vždy 0 a poslední velikost pole -1 (lze samozřejmě použít i záporné indexy)."
   ]
  },
  {
   "cell_type": "code",
   "execution_count": 88,
   "metadata": {},
   "outputs": [
    {
     "name": "stdout",
     "output_type": "stream",
     "text": [
      "[1 2 3 4 5 6 7 8 9]\n",
      "9\n",
      "1\n",
      "9\n"
     ]
    }
   ],
   "source": [
    "vector = np.arange(1, 10)\n",
    "\n",
    "print(vector)\n",
    "print(len(vector))  # vypíše velikost vektoru\n",
    "print(vector[0])   # první položka\n",
    "print(vector[-1])  # poslední položka"
   ]
  },
  {
   "cell_type": "markdown",
   "metadata": {},
   "source": [
    "Využít lze samozřejmě i výřezy. Ty však na rozdíl od seznamu  nevrací kopie, ale alternativní pohledy na stejná data! Jinak řečeno při indexaci výřezem se nikdy nic nekopíruje."
   ]
  },
  {
   "cell_type": "code",
   "execution_count": 92,
   "metadata": {},
   "outputs": [
    {
     "name": "stdout",
     "output_type": "stream",
     "text": [
      "[-1  8  9]\n",
      "[-1  8  9]\n",
      "[ 1  2  3  4  5  6 -1  8  9]\n"
     ]
    }
   ],
   "source": [
    "tail_of_vector = vector[-3:] # poslední tři prvky původního vektoru\n",
    "print(tail_of_vector)\n",
    "\n",
    "tail_of_vector[0] = -1 # změníme první prvek výřezu\n",
    "print(tail_of_vector)\n",
    "\n",
    "# tím však změníme i předpředposlední prvek původního vektoru!\n",
    "print(vector)"
   ]
  },
  {
   "cell_type": "markdown",
   "metadata": {},
   "source": [
    "> **Úkol**: Vytvořte pole obsahující čísla 0 až 10 (včetně) s krokem 0.5. Pak získejte výřez ukazující jen celočíselné prvky původního pole (= ty se sudým indexem). Nakonec ověřte, že i tento nesouvislý výřez je jen jiným pohledem do původního pole, tím, že všechny hodnoty výřezu nahradíte opačnými čísly (tj. hodnotou -x)."
   ]
  },
  {
   "cell_type": "code",
   "execution_count": 96,
   "metadata": {
    "tags": [
     "h"
    ]
   },
   "outputs": [
    {
     "name": "stdout",
     "output_type": "stream",
     "text": [
      "[  0.    0.5   1.    1.5   2.    2.5   3.    3.5   4.    4.5   5.    5.5\n",
      "   6.    6.5   7.    7.5   8.    8.5   9.    9.5  10. ]\n",
      "[  0.   1.   2.   3.   4.   5.   6.   7.   8.   9.  10.]\n"
     ]
    }
   ],
   "source": [
    "steps = np.arange(0.0, 10.5, 0.5) # vytváření pole\n",
    "print(steps)\n",
    "integer_steps = steps[::2] # využijeme výřez s krokem 2 (0,2,4, … 10 index)\n",
    "print(integer_steps)"
   ]
  },
  {
   "cell_type": "code",
   "execution_count": 99,
   "metadata": {
    "tags": [
     "h"
    ]
   },
   "outputs": [
    {
     "name": "stdout",
     "output_type": "stream",
     "text": [
      "[ -0.  -1.  -2.  -3.  -4.  -5.  -6.  -7.  -8.  -9. -10.]\n",
      "[ -0.    0.5  -1.    1.5  -2.    2.5  -3.    3.5  -4.    4.5  -5.    5.5\n",
      "  -6.    6.5  -7.    7.5  -8.    8.5  -9.    9.5 -10. ]\n"
     ]
    }
   ],
   "source": [
    "for i in range(len(integer_steps)):\n",
    "    integer_steps[i] *= -1     # změníme všechny hodnoty pole výřezu na opačné\n",
    "print(integer_steps)           # a vypíšeme\n",
    "print(steps)                   # o ověříme co se stalo s původním polem"
   ]
  },
  {
   "cell_type": "markdown",
   "metadata": {
    "collapsed": true
   },
   "source": [
    "#### Vícerozměrná indexace\n",
    "\n",
    "Vícerozměrná indexace je v zásadě jednoduchým rozšířením té jednorozměrné. Namísto jednoduchého indexu (či výřezu) se použije n-tice indexů (kde $n$ je dimenze), či n-tice výřezů.  N-tice se píší přímo uvnitř hranatých závorek (kulaté závorky, které ohraničují n-tici lze stejně jako v mnoha dalších kontextech vynechat. \n",
    "\n",
    "Připravíme si jednoduchou matici 10×10. Vytvoříme ji ze seznamu seznamů, které vzniknou použitím vnořené komprehenze. Prvek s řádkovým indexem `i` a sloupcovým `j` má hodnotu `i + j*0.1`. Z hodnoty tak snadno odvodíme její pozici v matici a naopak."
   ]
  },
  {
   "cell_type": "code",
   "execution_count": 24,
   "metadata": {},
   "outputs": [
    {
     "name": "stdout",
     "output_type": "stream",
     "text": [
      "[[ 0.   0.1  0.2  0.3  0.4  0.5  0.6  0.7  0.8  0.9]\n",
      " [ 1.   1.1  1.2  1.3  1.4  1.5  1.6  1.7  1.8  1.9]\n",
      " [ 2.   2.1  2.2  2.3  2.4  2.5  2.6  2.7  2.8  2.9]\n",
      " [ 3.   3.1  3.2  3.3  3.4  3.5  3.6  3.7  3.8  3.9]\n",
      " [ 4.   4.1  4.2  4.3  4.4  4.5  4.6  4.7  4.8  4.9]\n",
      " [ 5.   5.1  5.2  5.3  5.4  5.5  5.6  5.7  5.8  5.9]\n",
      " [ 6.   6.1  6.2  6.3  6.4  6.5  6.6  6.7  6.8  6.9]\n",
      " [ 7.   7.1  7.2  7.3  7.4  7.5  7.6  7.7  7.8  7.9]\n",
      " [ 8.   8.1  8.2  8.3  8.4  8.5  8.6  8.7  8.8  8.9]\n",
      " [ 9.   9.1  9.2  9.3  9.4  9.5  9.6  9.7  9.8  9.9]]\n"
     ]
    }
   ],
   "source": [
    "m = np.array([[i + j*0.1 for j in range(0,10)] for i in range(0,10)])\n",
    "print(m)"
   ]
  },
  {
   "cell_type": "markdown",
   "metadata": {},
   "source": [
    "Začneme jednoduchými číselnými indexy."
   ]
  },
  {
   "cell_type": "code",
   "execution_count": 26,
   "metadata": {},
   "outputs": [
    {
     "name": "stdout",
     "output_type": "stream",
     "text": [
      "0.0\n"
     ]
    }
   ],
   "source": [
    "print(m[0,0]) # pevní řádek, první sloupec"
   ]
  },
  {
   "cell_type": "code",
   "execution_count": 33,
   "metadata": {},
   "outputs": [
    {
     "name": "stdout",
     "output_type": "stream",
     "text": [
      "2.4\n"
     ]
    }
   ],
   "source": [
    "print(m[2,4]) # třetí řádek, pátý sloupec"
   ]
  },
  {
   "cell_type": "code",
   "execution_count": 28,
   "metadata": {},
   "outputs": [
    {
     "name": "stdout",
     "output_type": "stream",
     "text": [
      "8.1\n"
     ]
    }
   ],
   "source": [
    "print(m[-2, 1]) # předposlední žádek, druhýpeint sloupec"
   ]
  },
  {
   "cell_type": "code",
   "execution_count": 29,
   "metadata": {},
   "outputs": [
    {
     "name": "stdout",
     "output_type": "stream",
     "text": [
      "9.9\n"
     ]
    }
   ],
   "source": [
    "print(m[-1, -1]) # poslední řádek, poslední sloupec (= dolní pravý roh)"
   ]
  },
  {
   "cell_type": "markdown",
   "metadata": {},
   "source": [
    "Situace se trochu zkomplikuje použitím výřezů:"
   ]
  },
  {
   "cell_type": "code",
   "execution_count": 35,
   "metadata": {},
   "outputs": [
    {
     "data": {
      "text/plain": [
       "array([[ 1.3,  1.4],\n",
       "       [ 2.3,  2.4],\n",
       "       [ 3.3,  3.4]])"
      ]
     },
     "execution_count": 35,
     "metadata": {},
     "output_type": "execute_result"
    }
   ],
   "source": [
    "m[1:4,3:5]"
   ]
  },
  {
   "cell_type": "markdown",
   "metadata": {},
   "source": [
    "Výsledkem je podmatice tvořená řádky s s indexy 1, 2 3 (= 4 vyjma) a sloupci s indexy 3, 4. \n",
    "\n",
    "Výřezem mohou být i jednotlivé řádky a sloupce. "
   ]
  },
  {
   "cell_type": "code",
   "execution_count": 37,
   "metadata": {},
   "outputs": [
    {
     "data": {
      "text/plain": [
       "array([[ 5.7]])"
      ]
     },
     "execution_count": 37,
     "metadata": {},
     "output_type": "execute_result"
    }
   ],
   "source": [
    "m[5:6, 7:8]"
   ]
  },
  {
   "cell_type": "markdown",
   "metadata": {},
   "source": [
    "Výsledkem je matice tvořená jediným řádkem a jediným sloupcem na pozici s indexem 5, 7."
   ]
  },
  {
   "cell_type": "markdown",
   "metadata": {},
   "source": [
    "V jednom indexu lze samozřejmě spojovat jak výřezy tak číselné indexy."
   ]
  },
  {
   "cell_type": "code",
   "execution_count": 42,
   "metadata": {},
   "outputs": [
    {
     "data": {
      "text/plain": [
       "array([ 5.2,  5.3,  5.4,  5.5,  5.6,  5.7])"
      ]
     },
     "execution_count": 42,
     "metadata": {},
     "output_type": "execute_result"
    }
   ],
   "source": [
    "m[5, 2:8]"
   ]
  },
  {
   "cell_type": "code",
   "execution_count": null,
   "metadata": {
    "collapsed": true
   },
   "outputs": [],
   "source": [
    "Výsledkem je jednorozměrné pole tvořené částí šestého řádku od třetího sloupce po osmý (tj. se šesti prvky)."
   ]
  },
  {
   "cell_type": "code",
   "execution_count": 43,
   "metadata": {},
   "outputs": [
    {
     "data": {
      "text/plain": [
       "array([ 2.5,  3.5,  4.5,  5.5,  6.5,  7.5])"
      ]
     },
     "execution_count": 43,
     "metadata": {},
     "output_type": "execute_result"
    }
   ],
   "source": [
    "m[2:8, 5]"
   ]
  },
  {
   "cell_type": "markdown",
   "metadata": {},
   "source": [
    "Zde je to naopak jednorozměrné pole tvoření částí šestého sloupce od třetího po osmý řádek.\n",
    "\n",
    "Všimněte si, že výslednou dimenzi získáte tím, že od původní dimenze odečtete jedničku za každý fixní index (zde tedy 2-1 = 1)."
   ]
  },
  {
   "cell_type": "markdown",
   "metadata": {},
   "source": [
    "Speciálním případem smíšeného indexu jsou indexy vracející celý řádek resp. sloupec."
   ]
  },
  {
   "cell_type": "code",
   "execution_count": 45,
   "metadata": {},
   "outputs": [
    {
     "data": {
      "text/plain": [
       "array([ 2. ,  2.1,  2.2,  2.3,  2.4,  2.5,  2.6,  2.7,  2.8,  2.9])"
      ]
     },
     "execution_count": 45,
     "metadata": {},
     "output_type": "execute_result"
    }
   ],
   "source": [
    "m[2, :]  # celý třetí řádek (s indexem 2)"
   ]
  },
  {
   "cell_type": "code",
   "execution_count": 47,
   "metadata": {},
   "outputs": [
    {
     "data": {
      "text/plain": [
       "array([ 0.9,  1.9,  2.9,  3.9,  4.9,  5.9,  6.9,  7.9,  8.9,  9.9])"
      ]
     },
     "execution_count": 47,
     "metadata": {},
     "output_type": "execute_result"
    }
   ],
   "source": [
    "m[:,-1]  # celý poslední sloupec (s indexem 9)"
   ]
  },
  {
   "cell_type": "markdown",
   "metadata": {},
   "source": [
    "> **Úkol**: Zaměňte v matici [[1,2], [3,4]] první a poslední sloupec přímým přiřazením sloupců. \n",
    "\n",
    "\n",
    "> Rada: použijte pomocné jednorozměrné pole pro dočasné uchování jednoho ze sloupců (paralelní přiřazení nefunguje). Pro kopírování sloupce do pole použijte metodu `np.copy`. Bez kopírování to nejde."
   ]
  },
  {
   "cell_type": "code",
   "execution_count": 59,
   "metadata": {
    "tags": [
     "h"
    ]
   },
   "outputs": [
    {
     "name": "stdout",
     "output_type": "stream",
     "text": [
      "[[1 2]\n",
      " [3 4]]\n"
     ]
    }
   ],
   "source": [
    "matice = np.array([[1,2], [3,4]])\n",
    "print(matice)"
   ]
  },
  {
   "cell_type": "code",
   "execution_count": 60,
   "metadata": {
    "tags": [
     "h"
    ]
   },
   "outputs": [
    {
     "name": "stdout",
     "output_type": "stream",
     "text": [
      "[[2 1]\n",
      " [4 3]]\n"
     ]
    }
   ],
   "source": [
    "p = np.copy(matice[:,0])      # kopírování prvního sloupce do pomocného ole\n",
    "matice[:,0] = matice[:,-1]    # přepsání celého prvního sloupce posledním\n",
    "matice[:, -1] = p             # a pak posledního kopií prvního (v pomocném poli)\n",
    "print(matice)"
   ]
  },
  {
   "cell_type": "markdown",
   "metadata": {},
   "source": [
    "I ve vícerozměrných polích lze používat výřezy s jiným krokem, než je 1.  I v tomto případě se mění jen výpočet indexace, žádná data se nekopírují či nepřesouvají."
   ]
  },
  {
   "cell_type": "code",
   "execution_count": 62,
   "metadata": {},
   "outputs": [
    {
     "data": {
      "text/plain": [
       "array([[ 9. ,  9.2,  9.4,  9.6,  9.8],\n",
       "       [ 8. ,  8.2,  8.4,  8.6,  8.8],\n",
       "       [ 7. ,  7.2,  7.4,  7.6,  7.8],\n",
       "       [ 6. ,  6.2,  6.4,  6.6,  6.8],\n",
       "       [ 5. ,  5.2,  5.4,  5.6,  5.8],\n",
       "       [ 4. ,  4.2,  4.4,  4.6,  4.8],\n",
       "       [ 3. ,  3.2,  3.4,  3.6,  3.8],\n",
       "       [ 2. ,  2.2,  2.4,  2.6,  2.8],\n",
       "       [ 1. ,  1.2,  1.4,  1.6,  1.8],\n",
       "       [ 0. ,  0.2,  0.4,  0.6,  0.8]])"
      ]
     },
     "execution_count": 62,
     "metadata": {},
     "output_type": "execute_result"
    }
   ],
   "source": [
    "m[::-1, ::2] # řádky v opačném pořadí, každý "
   ]
  },
  {
   "cell_type": "markdown",
   "metadata": {},
   "source": [
    "Využitá indexace za použitá netriviálních výřezů spolu s operacemi nad celými poli často umožňuje elagantně řešit problémy, které by jinak vyžadovali použití cyklu."
   ]
  },
  {
   "cell_type": "markdown",
   "metadata": {},
   "source": [
    "Příkladem je vytvoření matice 12×12 obsahující hodnoty 1 s výjimkou okrajových řádků a sloupců:"
   ]
  },
  {
   "cell_type": "code",
   "execution_count": 71,
   "metadata": {},
   "outputs": [
    {
     "data": {
      "text/plain": [
       "array([[0, 0, 0, 0, 0, 0, 0, 0, 0, 0, 0, 0],\n",
       "       [0, 1, 1, 1, 1, 1, 1, 1, 1, 1, 1, 0],\n",
       "       [0, 1, 1, 1, 1, 1, 1, 1, 1, 1, 1, 0],\n",
       "       [0, 1, 1, 1, 1, 1, 1, 1, 1, 1, 1, 0],\n",
       "       [0, 1, 1, 1, 1, 1, 1, 1, 1, 1, 1, 0],\n",
       "       [0, 1, 1, 1, 1, 1, 1, 1, 1, 1, 1, 0],\n",
       "       [0, 1, 1, 1, 1, 1, 1, 1, 1, 1, 1, 0],\n",
       "       [0, 1, 1, 1, 1, 1, 1, 1, 1, 1, 1, 0],\n",
       "       [0, 1, 1, 1, 1, 1, 1, 1, 1, 1, 1, 0],\n",
       "       [0, 1, 1, 1, 1, 1, 1, 1, 1, 1, 1, 0],\n",
       "       [0, 1, 1, 1, 1, 1, 1, 1, 1, 1, 1, 0],\n",
       "       [0, 0, 0, 0, 0, 0, 0, 0, 0, 0, 0, 0]])"
      ]
     },
     "execution_count": 71,
     "metadata": {},
     "output_type": "execute_result"
    }
   ],
   "source": [
    "zero_margin = np.ones((12,12),dtype=np.int)\n",
    "zero_margin[0,:] = 0   # nastavuje na nulu všechny položky prvního řádku\n",
    "zero_margin[-1,:] = 0  # nastavuje na nulu všechny položky posledního řádku\n",
    "zero_margin[:, 0] = 0  # nastavuje na nulu první sloupec\n",
    "zero_margin[:, -1] = 0 # nastavuje na nulu poslední sloupec\n",
    "zero_margin"
   ]
  },
  {
   "cell_type": "markdown",
   "metadata": {},
   "source": [
    "V jenorozměrném vektoru přičtěte k prvků se sudým indexem (prvnímu, třetímu, pátému) hodnoty následujícího prvku, a tento prvek vynulujte."
   ]
  },
  {
   "cell_type": "code",
   "execution_count": 80,
   "metadata": {},
   "outputs": [
    {
     "name": "stdout",
     "output_type": "stream",
     "text": [
      "[0 1 2 3 4 5 6 7 8 9]\n",
      "[ 1  0  5  0  9  0 13  0 17  0]\n"
     ]
    }
   ],
   "source": [
    "v = np.arange(0,10)\n",
    "print(v)\n",
    "v[0::2] += v[1::2] # k výřezu obsahující prvek s indexem 0,2,4,… přičteme výřez obsahující indexy 1,3,5,…\n",
    "v[1::2] = 0\n",
    "print(v)"
   ]
  },
  {
   "cell_type": "markdown",
   "metadata": {
    "collapsed": true
   },
   "source": [
    "#### Speciální indexace\n",
    "\n",
    "Kromě zobecněné základní indexace a výřezů podporuje nd-array i dva speciální typy indexace. Na rozdíl od běžné indexace je výsledkem obou speciálních indexací kopie příslušné části pole (tj. nikoliv alternativní náhled na část původního pole). To má dva důsledky:\n",
    "\n",
    "1) nelze je použít pro (hromadnou) změnu původního pole\n",
    "2) vyžadují paměť navíc (v paměti je jak původní pole tak jeho kopie)\n",
    "\n",
    "**Indexace sekvencí indexů**\n",
    "\n",
    "Index může být pole či seznam čísel z intervalu 0 až $n-1$. Každá položka pole indexů určuje jednu položku výsledného pole."
   ]
  },
  {
   "cell_type": "code",
   "execution_count": 113,
   "metadata": {},
   "outputs": [
    {
     "name": "stdout",
     "output_type": "stream",
     "text": [
      "[  1   2   4   8  16  32  64 128 256 512]\n"
     ]
    }
   ],
   "source": [
    "v = 2 ** np.arange(0,10) # seznam hodnot 2^i, kde i = 0 až 10 (vyjma)\n",
    "print(v)"
   ]
  },
  {
   "cell_type": "code",
   "execution_count": 114,
   "metadata": {},
   "outputs": [
    {
     "data": {
      "text/plain": [
       "array([  8,  64, 256])"
      ]
     },
     "execution_count": 114,
     "metadata": {},
     "output_type": "execute_result"
    }
   ],
   "source": [
    "v[[3,6,8]] # vrací pole s indexy 3, 6 a 8"
   ]
  },
  {
   "cell_type": "code",
   "execution_count": 115,
   "metadata": {},
   "outputs": [
    {
     "data": {
      "text/plain": [
       "array([  2, 512,   2, 512])"
      ]
     },
     "execution_count": 115,
     "metadata": {},
     "output_type": "execute_result"
    }
   ],
   "source": [
    "v[[1,9,1,9]] # indexy nemusí být vzestupné a mohou se opakovat"
   ]
  },
  {
   "cell_type": "code",
   "execution_count": 116,
   "metadata": {},
   "outputs": [
    {
     "data": {
      "text/plain": [
       "array([  8, 512,   1,  32, 256,  32,  32,  16,   1,   8, 256, 128, 256,\n",
       "        64,   1,  16,   1, 256, 512, 128,   4,  16,  32,   4, 128,   4,\n",
       "         1,  16, 512,   8])"
      ]
     },
     "execution_count": 116,
     "metadata": {},
     "output_type": "execute_result"
    }
   ],
   "source": [
    "v[np.random.randint(0,10,30)] # indexem může být pole"
   ]
  },
  {
   "cell_type": "markdown",
   "metadata": {},
   "source": [
    "Předchozí příklad poskytuje jednoduchý zápis pro provádění náhodného výběru s opakováním (čísla se po vylosování vrací do \"osudí\")."
   ]
  },
  {
   "cell_type": "markdown",
   "metadata": {},
   "source": [
    "> **Úkol**: Vytvořte funkci, která přijímá jednorozměrné pole a vrací pole, v němž je každý prvek původního pole opakován dvakrát za sebou."
   ]
  },
  {
   "cell_type": "code",
   "execution_count": 138,
   "metadata": {
    "tags": [
     "h"
    ]
   },
   "outputs": [],
   "source": [
    "def double_items(a):\n",
    "    n = len(a)  # délka pole\n",
    "    indexes = np.array([[i] * 2 for i in range(len(v))]) # matice [[0,0], [1,1], [2,2], ...]\n",
    "    indexes = indexes.reshape(2*n) # zploštíme pole do jednoho indexu\n",
    "    return a[indexes]"
   ]
  },
  {
   "cell_type": "code",
   "execution_count": 139,
   "metadata": {
    "tags": [
     "h"
    ]
   },
   "outputs": [
    {
     "data": {
      "text/plain": [
       "array([  1,   1,   2,   2,   4,   4,   8,   8,  16,  16,  32,  32,  64,\n",
       "        64, 128, 128, 256, 256, 512, 512])"
      ]
     },
     "execution_count": 139,
     "metadata": {},
     "output_type": "execute_result"
    }
   ],
   "source": [
    "double_items(v)"
   ]
  },
  {
   "cell_type": "markdown",
   "metadata": {},
   "source": [
    "Indexaci polem lze využít i u dvojrozměrných polí:"
   ]
  },
  {
   "cell_type": "code",
   "execution_count": 154,
   "metadata": {},
   "outputs": [
    {
     "name": "stdout",
     "output_type": "stream",
     "text": [
      "[[ 1 -1  0  0 -1]\n",
      " [ 0 -1  1  1 -1]\n",
      " [ 1 -1  1 -1 -1]\n",
      " [-1  1  0  0 -1]\n",
      " [ 0 -1  1  1 -1]]\n",
      "\n",
      "[1 1 1]\n"
     ]
    }
   ],
   "source": [
    "matice = np.random.randint(-1,2,(5,5))\n",
    "print(matice)\n",
    "print()\n",
    "print(matice[[0,0,0], 0]) # první sloupce třikrát opakovaného prvního řádku"
   ]
  },
  {
   "cell_type": "markdown",
   "metadata": {},
   "source": [
    "**Indexová maska**\n",
    "\n",
    "Indexem může být i pole/seznam logických hodnot o velikosti daného rozměru. Vybrány jsou ty prvky, které mají v odpovídajícím poli indexu hodnotu `true`."
   ]
  },
  {
   "cell_type": "code",
   "execution_count": 162,
   "metadata": {},
   "outputs": [
    {
     "name": "stdout",
     "output_type": "stream",
     "text": [
      "[ 1  0  1 -1  1 -1 -1  1]\n"
     ]
    },
    {
     "data": {
      "text/plain": [
       "array([ 1, -1,  1])"
      ]
     },
     "execution_count": 162,
     "metadata": {},
     "output_type": "execute_result"
    }
   ],
   "source": [
    "test = np.random.randint(-1,2,8)\n",
    "print(test)\n",
    "test[np.array([True, False, False, True, False, False, False, True])]"
   ]
  },
  {
   "cell_type": "markdown",
   "metadata": {},
   "source": [
    "Výsledkem je pole obsahující první, čtvrtou a osmou položku.\n",
    "\n",
    "Na první pohled se tento zápis nejeví jako příliš užitečný. Lze jej totiž snadněji napsat pomocí indexu v podobě pole čísel. Navíc nelze prvky přeuspořádávat či opakovat. Pokud by se navíc hodnoty `true` opakovali pravidelně, šlo by použít výřez s explicitním krokem (což je navíc výrazně efektivnější).\n",
    "\n",
    "V praxi se však indexová maska používá v jednom z klasických NumPy ideomů (existuje však i v jiných jazycích orientovaných na zpracování polí).\n",
    "\n",
    "Podívejme se co se stane, pokud použijeme relační operátor (třeba větší než) mezi polem a číslem (skalárem)."
   ]
  },
  {
   "cell_type": "code",
   "execution_count": 163,
   "metadata": {},
   "outputs": [
    {
     "data": {
      "text/plain": [
       "array([ True, False,  True, False,  True, False, False,  True], dtype=bool)"
      ]
     },
     "execution_count": 163,
     "metadata": {},
     "output_type": "execute_result"
    }
   ],
   "source": [
    "test > 0"
   ]
  },
  {
   "cell_type": "markdown",
   "metadata": {},
   "source": [
    "Tento zápis se interpretuje jako porovnání každého prvku s nulou, tj. i zde se operace aplikuje postupně na jednotlivé prvky. Výsledkem je pak přirozeně pole s výsledky jednotlivých porovnání tj. pole booleovských hodnot.\n",
    "\n",
    "Nyní by vám mělo být standardní použití indexové masky zřejmé."
   ]
  },
  {
   "cell_type": "code",
   "execution_count": 164,
   "metadata": {},
   "outputs": [
    {
     "data": {
      "text/plain": [
       "array([1, 1, 1, 1])"
      ]
     },
     "execution_count": 164,
     "metadata": {},
     "output_type": "execute_result"
    }
   ],
   "source": [
    "test[test>0]"
   ]
  },
  {
   "cell_type": "markdown",
   "metadata": {},
   "source": [
    "Výraz vracející pole logických hodnot může být i složitější (mezivýsledky jsou opět pole stejné velikosti)."
   ]
  },
  {
   "cell_type": "code",
   "execution_count": 171,
   "metadata": {},
   "outputs": [
    {
     "name": "stdout",
     "output_type": "stream",
     "text": [
      "16.3636363636\n",
      "18.8933500917\n"
     ]
    },
    {
     "data": {
      "text/plain": [
       "array([16, 23, 10,  8,  5, 14, 27, 18,  4])"
      ]
     },
     "execution_count": 171,
     "metadata": {},
     "output_type": "execute_result"
    }
   ],
   "source": [
    "temperatures = np.array([16, 23, 10, 8, -12, 5, 14, 27, 67, 18, 4])\n",
    "# odstranění outliers = odlehlých hodnot (typicky chyby měření)\n",
    "\n",
    "mean = temperatures.mean() # průměr hodnota\n",
    "stddev = np.std(temperatures) # standardní odchylka\n",
    "print(mean)\n",
    "print(stddev)\n",
    "\n",
    "temperatures[np.abs(temperatures - mean) < stddev] # vybere jen hodnoty ležící +- standardní odchylky od průměru"
   ]
  },
  {
   "cell_type": "markdown",
   "metadata": {},
   "source": [
    "Všimněte si, že pro funkci absolutní hodnoty je potřeba využít verzi nabízenou modulem `numpy` nikoliv např. `math`. Jen ta je vektorizovatelná, tj. po aplikaci na pole je volána na každý prvek zvlášť."
   ]
  },
  {
   "cell_type": "markdown",
   "metadata": {},
   "source": [
    "> **Úkol**: Pro pole náhodných 1 000 000 náhodných `float` čísel v rozsahu -0.1 až 0.1 s rovnoměrným rozdělením, zjistěte indexy všech nulových položek (tj.položek ležících v itervalu $(-10^{-6}, 10^{-6})$. \n",
    "\n",
    "> Rada: Indexovou masku můžete použít i na jiné pole, než je to ze kterého byla odvozena (například pole získané funkcí `numpy.arange`).\n",
    "\n",
    "> Řešení pomocí masky není efektivní. Proč? Navrhněte efektivnější řešení."
   ]
  },
  {
   "cell_type": "code",
   "execution_count": 178,
   "metadata": {
    "tags": [
     "h"
    ]
   },
   "outputs": [
    {
     "name": "stdout",
     "output_type": "stream",
     "text": [
      "[  5.57200189e-07   5.16366151e-07  -5.67220047e-08   9.57766653e-07\n",
      "  -4.99611951e-07   6.01370942e-07  -7.12793066e-07   6.37325515e-07]\n",
      "[ 61796 344165 380757 396370 644410 716595 822702 993977]\n"
     ]
    }
   ],
   "source": [
    "# nejdříve si si vytvoříme náhodné pole\n",
    "numbers = np.random.uniform(-0.1, 0.1, 1_000_000)\n",
    "\n",
    "# pak vytvoříme masku (true jou na pozici (skoro)nul)\n",
    "mask = np.abs(numbers) < 1e-6  \n",
    "\n",
    "# pro kontrolu si skoronuly vypíšeme\n",
    "print(numbers[mask])\n",
    "\n",
    "# a nyní indexy těchto položek\n",
    "print(np.arange(0,1_000_000)[mask])"
   ]
  },
  {
   "cell_type": "markdown",
   "metadata": {
    "tags": [
     "h"
    ]
   },
   "source": [
    "Důvod neefektivity, je zřejmý pro získání pole o pár číslech (počet nalezených čísel je náhodný, ale s vysokoPu pravděpodobností jsou to jen jednotky) vznikají dvě pomocná pole o milionu položek (pole boolovských hodnot a pole čísel v od 0 do 999 999)."
   ]
  },
  {
   "cell_type": "markdown",
   "metadata": {
    "tags": [
     "h"
    ]
   },
   "source": [
    "Při takto malém počtu nalezených prvků je efektivnější jednoduše procházet pole cyklem a nalezené indexy ukládat do seznamu. S využitím komprehenze a vestavěné funkce `enumerate` (vrací postupně dvojice (index, položka pole)) to navíc není o mnoho složitější."
   ]
  },
  {
   "cell_type": "code",
   "execution_count": 179,
   "metadata": {
    "tags": [
     "h"
    ]
   },
   "outputs": [
    {
     "data": {
      "text/plain": [
       "[61796, 344165, 380757, 396370, 644410, 716595, 822702, 993977]"
      ]
     },
     "execution_count": 179,
     "metadata": {},
     "output_type": "execute_result"
    }
   ],
   "source": [
    "[index for index, value in enumerate(numbers) if abs(value) < 1e-6]"
   ]
  }
 ],
 "metadata": {
  "celltoolbar": "Tags",
  "kernelspec": {
   "display_name": "Python 3",
   "language": "python",
   "name": "python3"
  },
  "language_info": {
   "codemirror_mode": {
    "name": "ipython",
    "version": 3
   },
   "file_extension": ".py",
   "mimetype": "text/x-python",
   "name": "python",
   "nbconvert_exporter": "python",
   "pygments_lexer": "ipython3",
   "version": "3.6.3"
  }
 },
 "nbformat": 4,
 "nbformat_minor": 2
}
