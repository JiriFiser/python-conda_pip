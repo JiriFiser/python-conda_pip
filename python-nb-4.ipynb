{
 "cells": [
  {
   "cell_type": "markdown",
   "metadata": {},
   "source": [
    "# Cykly a seznamy"
   ]
  },
  {
   "cell_type": "markdown",
   "metadata": {},
   "source": [
    "## Cyklus for\n",
    "\n",
    "Python má relativně omezený počet složených programových konstrukcí (tj. konstrukcí spojujících více příkazů). Kromě větvení (příkaz `if`) jsou to i cykly. Cykly umožňují vícenásobné provádění bloku příkazů. \n",
    "\n",
    "Hlavním cyklem jazyka Python je cyklus `for`. Cyklus `for` prochází (konečnou) posloupnost objektů, na každý z nich postupně přesměruje tzv. řídící proměnou a následně vykoná (odsazený) blok příkazů tzv. tělo cyklu.\n",
    "\n",
    "#### Cyklus přes `range`"
   ]
  },
  {
   "cell_type": "code",
   "execution_count": 2,
   "metadata": {},
   "outputs": [
    {
     "name": "stdout",
     "output_type": "stream",
     "text": [
      "0\n",
      "1\n",
      "2\n",
      "3\n",
      "4\n"
     ]
    }
   ],
   "source": [
    "for i in range(5):  # hlavička cyklu\n",
    "    print(i)  # tělo cyklu"
   ]
  },
  {
   "cell_type": "markdown",
   "metadata": {},
   "source": [
    "Tento cyklus postupně prochází posloupnost čísel, jež je generována vestavěnou funkcí `range`.  Je to posloupnost čísel 0, 1, 2 až 4 (tj.$n-1$ kde $n$ je jediným parametrem funkce). To že, posloupnost začíná nulou a končí hodnotou $n-1$ souvisí s indexací (předaná hodnota je horní mez a ta v Pythonu není nikdy zahrnuta do generovaného rozsahu).\n",
    "\n",
    "Při prvním průchodu řídící proměnná `i` odkazuje první hodnotu posloupnosti tj. hodnotu nula. S touto hodnotou se poprvé provede tělo cyklu tj. do výstupu se vypíše hodnota 0 (a výstup se odřádkuje).  Tím první průchod končí.\n",
    "\n",
    "Při druhém průchodu řídící proměnná `i` odkazuje druhou hodnotu posloupnosti tj. hodnotu jedna. S touto hodnotou se podruhé provede tělo cyklu tj. do výstupu se vypíše hodnota 1 (a výstup se odřádkuje).  Tím druhý průchod končí.\n",
    "\n",
    "To se opakuje i pro třetí (i=2), čtvrtý (i=3) a pátý již poslední průchod (i=4). Výsledkem provedené je tak výpis čísel 0,1,2,3,4 do výstupu (přičemž každé číslo je na zvláštním řádku).\n",
    "\n",
    "*Poznámka*: Řídící proměnná cyklu může mít zcela libovolné (přípustné) jméno. V případě cyklů přes celočíselné rozsahy se však téměř vždy používá identifikátor `i` (resp. pokud je již užíván pak `j` nebo `k`). Tento úzus vychází z podobného úzu v matematice.\n",
    "\n",
    "Předchozí cyklus jednoduchý a názorný, ale v praxi nepříliš užitečný. Stejně tak neužitečný je příklad následující příklad, který ukazuje, že tělo cyklu nemusí řídící proměnou (zde pojmenovanou `j`): "
   ]
  },
  {
   "cell_type": "code",
   "execution_count": 52,
   "metadata": {},
   "outputs": [
    {
     "name": "stdout",
     "output_type": "stream",
     "text": [
      "Python je prostě boží\n",
      "Python je prostě boží\n",
      "Python je prostě boží\n",
      "Python je prostě boží\n",
      "Python je prostě boží\n",
      "Python je prostě boží\n",
      "Python je prostě boží\n",
      "Python je prostě boží\n",
      "Python je prostě boží\n",
      "Python je prostě boží\n"
     ]
    }
   ],
   "source": [
    "for j in range(10):\n",
    "    print(\"Python je prostě boží\")"
   ]
  },
  {
   "cell_type": "markdown",
   "metadata": {},
   "source": [
    "Tento cyklus 10× vypíše řetězec `\"Python je prostě boží\"`. Při větším počtu výstupních řádků Jupyter naštěstí pozná, že výstup bude extrémně dlouhý a vytvoří tak skrolovatelný výstup, který lze posuvat pomocí posuvníku vpravo (vyzkoušejte)"
   ]
  },
  {
   "cell_type": "markdown",
   "metadata": {},
   "source": [
    "Nyní přejdeme ke (zdánlivě) užitečnějšímu příkladu."
   ]
  },
  {
   "cell_type": "code",
   "execution_count": 12,
   "metadata": {},
   "outputs": [
    {
     "name": "stdout",
     "output_type": "stream",
     "text": [
      "Celé číslo:3000\n",
      "4501500\n"
     ]
    }
   ],
   "source": [
    "n = int(input(\"Celé číslo:\"))\n",
    "suma = 0\n",
    "for i in range(1, n+1):\n",
    "    suma += i\n",
    "print(suma)"
   ]
  },
  {
   "cell_type": "markdown",
   "metadata": {},
   "source": [
    "Tento program počítá součet všech celých čísel od 1 do $n$ (včetně), kde $n$ je čteno ze standardního vstupu. Implementace je přímočará. Nejdříve si připravíme proměnou do níž budeme ukládat jednotlivé dílčí součty. Tato proměnná má na začátku hodnotu 0 (ještě se nic nepřičetlo).\n",
    "\n",
    "Metoda `range` se dvěma parametry vrací posloupnost celých čísel od minima (první parametru) včetně do maxima (druhý parametr) vyjma. V našem případě je minumum rovno 1 a maximum je rovno $n+1$ (poslední přičtené číslo je tudíž $n$). \n",
    "\n",
    "Tato čísla se postupně prochází a každé z nich je v těle cyklu přičteno k proměnné `suma` (zápis `suma += i` je zkratka za `suma = suma + i`). Toto přičtení se provede ($max - min$)krát tj. v našem případě ($n+1 - 1 = n$)krát.\n",
    "\n",
    "Tělo cyklu tvoří odsazený (vnořený) blok tvořený jediným příkazem. Příkaz pro výpis (s funkcí `print`) již odsazen není, nepatří tak již do cyklu. Provede s proto až po dokončení cyklu a to pouze jedenkrát. "
   ]
  },
  {
   "cell_type": "markdown",
   "metadata": {},
   "source": [
    "> **Úkol**: Použití cyklu je v tomto případě zdánlivě přirozené, avšak ve skutečnosti zcela zbytečné. Vytvořte program se stejnou funkčností ale bez použití cyklu (rada: aritmetická posloupnost)."
   ]
  },
  {
   "cell_type": "code",
   "execution_count": 15,
   "metadata": {
    "tags": [
     "h"
    ]
   },
   "outputs": [
    {
     "name": "stdout",
     "output_type": "stream",
     "text": [
      "Celé číslo: 3000\n",
      "4501500\n"
     ]
    }
   ],
   "source": [
    "n = int(input(\"Celé číslo: \"))\n",
    "\n",
    "print(n*(1+n) // 2)"
   ]
  },
  {
   "cell_type": "markdown",
   "metadata": {
    "tags": [
     "h"
    ]
   },
   "source": [
    "Byl využit vzorec pro výpočet součtu členů aritmetické posloupnosti $s_n = \\frac{n \\cdot (a_1 + a_n)}{2}$. Všimněte si použití celočíselného dělení (výsledkem musí být vždy celé číslo)."
   ]
  },
  {
   "cell_type": "code",
   "execution_count": null,
   "metadata": {
    "collapsed": true
   },
   "outputs": [],
   "source": []
  },
  {
   "cell_type": "markdown",
   "metadata": {},
   "source": [
    "**Řešený příklad:**\n",
    "\n",
    "Implementace zjednodušeného modelu pro popis vývoje populací dravců a kořisti (např. lišek a zajíců). Tento model vychází ze zjednodušeného předpokladu, že kořist (zající) mají neomezený zdroj potravy a neumírají stářím (jejich počet by tak za nepřítomnosti dravců rostl exponencionálně). Naopak dravci se živí jen danou kořistí a umírají jen stářím. Tj. za nepřítomnosti kořisti jejich počet exponenciálně klesá. Změna počtu obou druhů popisuje soustava dvou diferenciálních rovnic (Lotka-Volterra):\n",
    "\n",
    "\n",
    "$\\frac{\\mathrm {d} x}{\\mathrm {d} t}=Ax-Bxy$,\n",
    " \n",
    "$\\frac {\\mathrm {d} y}{\\mathrm {d} t}=Dxy-Cy$.\n",
    "\n",
    "kde $x$ je počet kořisti a $y$ je počet dravců. Konstanta $A$ odráží rychlost rozmnožování kořisti, $B$ její úbytek daný lovem (závisí na počtu obou druhů). $C$ určuje přírůstek dravců daný úspěšnosti lovu a $D$ přirozený úbytek dravců (stářím).\n",
    "\n",
    "Při implementaci budeme opakovaně počítat průběžnou změnu počtu počtu kořisti ($\\frac{\\mathrm{d} x}{\\mathrm{d} t}$) a dravců ($\\frac{\\mathrm{d} y}{\\mathrm{d} t}$) za nějaký malý časový okamžik (kladný, blížící se nule). Tuto změnu vždy přičteme k příslušnému počtu."
   ]
  },
  {
   "cell_type": "code",
   "execution_count": 16,
   "metadata": {},
   "outputs": [
    {
     "name": "stdout",
     "output_type": "stream",
     "text": [
      "Počáteční počet zajíců: 1000\n",
      "Počáteční počet lišek: 600\n",
      "0.\t zajíci: 1002\t lišky 583\n",
      "10.\t zajíci: 1049\t lišky 434\n",
      "20.\t zajíci: 1143\t lišky 324\n",
      "30.\t zajíci: 1280\t lišky 242\n",
      "40.\t zajíci: 1466\t lišky 181\n",
      "50.\t zajíci: 1705\t lišky 135\n",
      "60.\t zajíci: 2006\t lišky 102\n",
      "70.\t zajíci: 2382\t lišky 77\n",
      "80.\t zajíci: 2846\t lišky 58\n",
      "90.\t zajíci: 3417\t lišky 44\n",
      "100.\t zajíci: 4117\t lišky 34\n",
      "110.\t zajíci: 4975\t lišky 26\n",
      "120.\t zajíci: 6022\t lišky 20\n",
      "130.\t zajíci: 7301\t lišky 16\n",
      "140.\t zajíci: 8862\t lišky 13\n",
      "150.\t zajíci: 10766\t lišky 11\n",
      "160.\t zajíci: 13086\t lišky 9\n",
      "170.\t zajíci: 15914\t lišky 7\n",
      "180.\t zajíci: 19359\t lišky 7\n",
      "190.\t zajíci: 23555\t lišky 6\n",
      "200.\t zajíci: 28663\t lišky 6\n",
      "210.\t zajíci: 34881\t lišky 6\n",
      "220.\t zajíci: 42445\t lišky 6\n",
      "230.\t zajíci: 51637\t lišky 7\n",
      "240.\t zajíci: 62791\t lišky 10\n",
      "250.\t zajíci: 76285\t lišky 14\n",
      "260.\t zajíci: 92503\t lišky 24\n",
      "270.\t zajíci: 111687\t lišky 47\n",
      "280.\t zajíci: 133331\t lišky 113\n",
      "290.\t zajíci: 153727\t lišky 330\n",
      "300.\t zajíci: 156856\t lišky 1098\n",
      "310.\t zajíci: 107310\t lišky 3111\n",
      "320.\t zajíci: 37180\t lišky 4731\n",
      "330.\t zajíci: 10327\t lišky 4372\n",
      "340.\t zajíci: 3646\t lišky 3450\n",
      "350.\t zajíci: 1730\t lišky 2613\n",
      "360.\t zajíci: 1046\t lišky 1954\n",
      "370.\t zajíci: 759\t lišky 1455\n",
      "380.\t zajíci: 631\t lišky 1080\n",
      "390.\t zajíci: 580\t lišky 802\n",
      "400.\t zajíci: 573\t lišky 595\n",
      "410.\t zajíci: 599\t lišky 441\n",
      "420.\t zajíci: 651\t lišky 327\n",
      "430.\t zajíci: 729\t lišky 243\n",
      "440.\t zajíci: 834\t lišky 181\n",
      "450.\t zajíci: 970\t lišky 135\n",
      "460.\t zajíci: 1142\t lišky 100\n",
      "470.\t zajíci: 1357\t lišky 75\n",
      "480.\t zajíci: 1622\t lišky 56\n",
      "490.\t zajíci: 1949\t lišky 42\n"
     ]
    }
   ],
   "source": [
    "x = float(input(\"Počáteční počet zajíců: \"))  # zkuste jak se program chová pro různé počáateční počty\n",
    "y = float(input(\"Počáteční počet lišek: \"))\n",
    "\n",
    "a = 2\n",
    "b = 0.003\n",
    "c = 3\n",
    "d = 0.0001\n",
    "\n",
    "dt = 1e-2\n",
    "\n",
    "for i in range(500):  # opakovaně (pětsetkrát) vypočítáme \n",
    "    dx_dt = a*x - b*x*y   # průběžnou změnu (derivaci) počtu zajíců\n",
    "    dy_dt = d*x*y - c*y   # průběžnou změnu (derivaci) počtu dravců\n",
    "    x += dx_dt * dt   # změnu dx přičteme k počtu zajíců (je-li záporná tak odečteme)\n",
    "    y += dy_dt * dt   # změnu dy přičteme k počtu lišek (opět může být zaporna)\n",
    "    if i%10 == 0:   # pro stručnost vypíšeme jen každý páty výsledek\n",
    "        print(f\"{i}.\\t zajíci: {x:.0f}\\t lišky {y:.0f}\")  # vypíšeme příslušné počty"
   ]
  },
  {
   "cell_type": "markdown",
   "metadata": {},
   "source": [
    "Pro vhodně zvolené zvolené počty zajíců a lišek (doporučuji cca 1000 zajíců a 500 lišek) získáte typické řešení, v němž se občas výrazně zvýší počet zajíců, který je se zpožděním následován zvýšeným počtem lišek (což ovšem vede k snížení počtu zajíců a následně i lišek). Model pracuje s počty representovanými s neceločíselnými čísly (typu `float`, je to dáno malou hodnotou dt). Ty jsou ve výpise (pouze ve výpise) zaokrouhleny na celá čísla (pomocí formátování nikoliv pomocí funkce `round`)."
   ]
  },
  {
   "cell_type": "markdown",
   "metadata": {},
   "source": [
    "#### Cyklus přes řetězec\n",
    "\n",
    "Pomocí cyklu `for` lze procházet i řetězce."
   ]
  },
  {
   "cell_type": "code",
   "execution_count": 53,
   "metadata": {},
   "outputs": [
    {
     "name": "stdout",
     "output_type": "stream",
     "text": [
      "G\n",
      "e\n",
      "r\n",
      "a\n",
      "l\n",
      "t\n"
     ]
    }
   ],
   "source": [
    "for znak in \"Geralt\":\n",
    "    print(znak)"
   ]
  },
  {
   "cell_type": "markdown",
   "metadata": {},
   "source": [
    "Řětězec je v tomto případě chápán jako posloupnost jednoznakových řetězců. V každém opakování (iteraci) vzniká nový jednoznakový řetězec dočasně označený řídící proměnou.\n",
    "\n",
    "> *Poznámka*: To, že v každé iteraci musí vzniknout nový objekt (který navíc po dokončení iterace zaniká) ukazuje, že iterace přes všechny znaky není příliš efektivní. Je tudíž lepší, pokud se této konstrukci můžete vyhnout (zcela eliminovat ji však nemůžete). Nejčastějším alternativním řešením je využití regulárních výrazů.\n",
    "\n",
    "\n",
    "**Řešený příklad**:\n",
    "\n",
    "Počet souhlásek v textu bez diakritiky (důvodem tohoto omezení je snížení počtu možných souhlásek) včetně výpisu  procentuální podíl mezi všemi hláskami.\n",
    "\n",
    "Návrh řešení: budeme procházet jednotlivé znaky seznamu a za každý výskyt samohlásky přičteme jedničku k proměnné (ta musí být na začátku nulová). Abychom nemuseli rozlišovat malá a velká písmena (to zvýší počet možných samohlásek dvakrát) převedeme řetezec na malá písmena (převedení na velká by bylo ekvivalentní, ale malá písmena jsou ta běžnější)."
   ]
  },
  {
   "cell_type": "code",
   "execution_count": 56,
   "metadata": {},
   "outputs": [
    {
     "name": "stdout",
     "output_type": "stream",
     "text": [
      "Řetězec: Mithrandir\n",
      "Počet samohlásek v řetězci \"Mithrandir\" je 3, což je 30.00%\n"
     ]
    }
   ],
   "source": [
    "s = input(\"Řetězec: \")\n",
    "pocet = 0\n",
    "for znak in s.lower():\n",
    "    if znak in \"aeiouy\":\n",
    "        pocet += 1\n",
    "\n",
    "print(f'Počet samohlásek v řetězci \"{s}\" je {pocet}, což je {100*pocet/len(s):.2f}%.')"
   ]
  },
  {
   "cell_type": "markdown",
   "metadata": {
    "collapsed": true
   },
   "source": [
    "**Řešený příklad**:\n",
    "\n",
    "Výpis prvního nemezerového znaku v řetězci (načteném ze standardního vstupu). Pro testování, zda je znak nemezerový, se použije metoda `isspace` objektů třídy `string` (kromě mezery do této skupiny znaků patří tabulátor a odřádkování).\n",
    "\n",
    "Pro nalezení prvního znaku splňující jistou podmínku stačí postupně procházet jednotlivé znaky řetězce (typicky pomocí cyklu `for`) a testovat tuto podmínku. \n",
    "Co se však uděláme, pokud znak najdeme? Po výpisu prvního nalezeného znaku je již zbytečné procházet ostatní znaky, což je však v rozporu s chováním cyklu `for` (ten prochází všechny znaky). Řešením je předčasné ukončení cyklu příkazem `break`:"
   ]
  },
  {
   "cell_type": "code",
   "execution_count": 3,
   "metadata": {},
   "outputs": [
    {
     "name": "stdout",
     "output_type": "stream",
     "text": [
      "       Minas Tirith\n",
      "M\n"
     ]
    }
   ],
   "source": [
    "s = input()\n",
    "\n",
    "for znak in s:  # procházej všechny znaky (jednoprvkové podřetězce) řetězce\n",
    "    if not znak.isspace():  # a pokud to není! mezera\n",
    "        print(znak)         # vypiš ho\n",
    "        break               # a předčasně ukonči cyklus"
   ]
  },
  {
   "cell_type": "markdown",
   "metadata": {},
   "source": [
    "Co se však stane, pokud řetězec žádný mezerový znak neobsahuje (tj. je buď prázdný nebo obsahuje jen mezerové znaky). Pokud nevíte, pak to vyzkoušejte (zadejte třeba tři mezery). Pokud to víte, pak to to vyzkoušejte pro jistotu také :)\n",
    "\n",
    "Odpověď je samozřejmě jednoduchá, neboť podmínka není nikdy splněna a cyklus proběhne celý (speciálně u prázdného řetězce ani jednou). Po skončení cyklu už není uveden žádný příkaz a program tak skončí bez jakékoliv další interakce (program tedy zdánlivě nic nedělá). \n",
    "\n",
    "Otázkou však zůstáva, jak by reagovat měl. Jsou zde tří základní možnosti:\n",
    "\n",
    "1. opravdu nic nedělat\n",
    "2. vypsat text typu \"Nic nenalezeno\"\n",
    "3. ukončit se vyvoláním (vyhozením) výjimky\n",
    "\n",
    "První řešení je pravděpodobně tím nejhorším. Pokud program nic nedělá (tj. ani minimálně nekomunikuje s uživatelem), pak uživatel (v tomto případě je to přímo programátor) neví co se děje. Spustilo se to vůbec? Je chyba u mne nebo v programu?\n",
    "\n",
    "Druhé řešení je sice dostatečně komunikativní, avšak v obecném případě nelze vždy rozlišit, co je skutečný výstup a co je upozornění o nestandardním výsledku. V našem případě to možné je, neboť standardní výstup je vždy jednoznakový, nám však jde o obecně použitelný přístup. \n",
    "\n",
    "Jako optimální se tak jeví vyvolání výjimky, které signalizuje neočekávaný stav, a zároveň odkládá skutečné řešení (v rámci komplexnějšího programu, lze výjimku ignorovat resp. vypsat chybové hlášení).Zůstává tak otázka, kde výjimku vyvolat. Může to být až po provedení celého cyklu (tj. až po kontrole všech znaků). Bohužel po ukončení cyklu nelze jednoduše zjistit, zda cyklus proběhl celý či, zda byl předčasně ukončen (po nalezení nemezerového znaku).  V Pythonu lze sice i po ukončení cyklu přistupovat k řídící proměnné, obecně je však hodnota této proměnné nedefinovaná (tj. může obsahovat poslední položku, ale nemusí). Navíc v mnoha dalších programovacích jazycích řídící proměnná není vně cyklu přístupná vůbec.\n",
    "\n",
    "Jediným bezpečným řešením je použití nové logické proměnné, která reflektuje stav hledání. Na začátku (před vstupem do cyklu) je `False`, neboť  prozatím nebylo nic nalezeno. Na hodnotu `True` je nastavena jen v případě, že byl příslušný znak nalezen. Po skončení cyklu tak snadno zjistíme, zda byl hledaný znak nalezen (proměnná byla změněna na `True`) či nikoliv (proměnná má původní hodnotu `False`)."
   ]
  },
  {
   "cell_type": "code",
   "execution_count": 4,
   "metadata": {},
   "outputs": [
    {
     "name": "stdout",
     "output_type": "stream",
     "text": [
      "               \n"
     ]
    },
    {
     "ename": "Exception",
     "evalue": "Nemezerový znak nenalezen",
     "output_type": "error",
     "traceback": [
      "\u001b[0;31m---------------------------------------------------------------------------\u001b[0m",
      "\u001b[0;31mException\u001b[0m                                 Traceback (most recent call last)",
      "\u001b[0;32m<ipython-input-4-3058ef2ddff2>\u001b[0m in \u001b[0;36m<module>\u001b[0;34m()\u001b[0m\n\u001b[1;32m      8\u001b[0m         \u001b[0;32mbreak\u001b[0m              \u001b[0;31m# a nezapomeneme předčasně ukončit cyklus\u001b[0m\u001b[0;34m\u001b[0m\u001b[0m\n\u001b[1;32m      9\u001b[0m \u001b[0;32mif\u001b[0m \u001b[0;32mnot\u001b[0m \u001b[0mnalez\u001b[0m\u001b[0;34m:\u001b[0m              \u001b[0;31m# až po ukončené cyklu ošetříme případ, že jsme nic nenalezli\u001b[0m\u001b[0;34m\u001b[0m\u001b[0m\n\u001b[0;32m---> 10\u001b[0;31m     \u001b[0;32mraise\u001b[0m \u001b[0mException\u001b[0m\u001b[0;34m(\u001b[0m\u001b[0;34m\"Nemezerový znak nenalezen\"\u001b[0m\u001b[0;34m)\u001b[0m\u001b[0;34m\u001b[0m\u001b[0m\n\u001b[0m",
      "\u001b[0;31mException\u001b[0m: Nemezerový znak nenalezen"
     ]
    }
   ],
   "source": [
    "s = input()\n",
    "nalez = False # pesimisticky předpokládáme, že nic nenalezneme\n",
    "\n",
    "for znak in s:  \n",
    "    if not znak.isspace(): # a pokud přesto nalezneme\n",
    "        nalez = True       # zmměníme proměnou na `True`\n",
    "        print(znak)       \n",
    "        break              # a nezapomeneme předčasně ukončit cyklus\n",
    "if not nalez:              # až po ukončené cyklu ošetříme případ, že jsme nic nenalezli\n",
    "    raise Exception(\"Nemezerový znak nenalezen\")"
   ]
  },
  {
   "cell_type": "markdown",
   "metadata": {},
   "source": [
    ">**Úkol**: Ověřte, zda je zadaný řetězec monotónní tj. je tvořen opakováním jediného znaku. Jednoznakové řetězce jsou z definice monotónní. Výsledek vypiště do standardního výstupu (text \"Řetězec je/není monotónní). Vyzkoušejte, jak se Váš program chová v případě prázdného řetězce (je toto chování rozumné). Rada: řešení se lépe chápe, pokud program chápeme jako hledání nemonotónnosti."
   ]
  },
  {
   "cell_type": "code",
   "execution_count": 6,
   "metadata": {
    "tags": [
     "h"
    ]
   },
   "outputs": [
    {
     "name": "stdout",
     "output_type": "stream",
     "text": [
      "aaaab\n",
      "Řetězec není monotónní\n"
     ]
    }
   ],
   "source": [
    "s = input()\n",
    "nemonoton = False # hledáme nemonotónnost, a jsme opět pesimitičtí (zatím jsme narušení monotónnosti nenašli) \n",
    "prvni = s[0] # uložíme si první znak (jako jednoznakový řetězec)\n",
    "\n",
    "for znak in s[1:]: # projdeme zbytek řetězce (od druhého znaku dokonce)\n",
    "    if znak != prvni:  # aktuální znak je různý od prvního => hurá řetězec je nemonotónní\n",
    "        nemonoton = True\n",
    "        print(\"Řetězec není monotónní\")\n",
    "        break  # předčasně ukončíme cyklus (další narušení monotónnosti hledat nemusíme)\n",
    "if not nemonoton:  # not nemonoton = monoton (negace negace)\n",
    "    print(\"Řetězec je monotónní\")"
   ]
  },
  {
   "cell_type": "markdown",
   "metadata": {
    "tags": [
     "h"
    ]
   },
   "source": [
    "Vstup prázdného řetězce vede k vyvolání výjimky už v okamžiku, kdy přistupujeme k prvnímu prvku (index = 0). To je akceptovatelné, i když výjimka může být trochu zavádějící (signalizuje, že i nulový index je mimo platný rozsah indexů)."
   ]
  },
  {
   "cell_type": "markdown",
   "metadata": {},
   "source": [
    "I když je procházení řetězců pomocí přímé aplikace cyklu `for` pohodlné, nelze jím bohužel řešit všechny problémy. Ukážeme si to na následujícím řešeném příkladě.\n",
    "\n",
    "**Řešený příklad**:\n",
    "\n",
    "Ověřte, zda je zadaný řetězec palindrom tj. obsahuje stejné znaky čtený zleva doprava i obráceně (zprava doleva). \n",
    "\n",
    "Postup (algoritmus) je v tomto případě zřejmý, stačí si představit souběžně čtení řetězce zleva doprava a zprava doleva. Je pak zřejmé že první znak musí být shodný s posledním, následně druhý s předposledním, třetí s předpředposldním atd. Toto porovnání stačí ukončit v polovině řetězce (další porovnání je již zbytečné) viz obrázek.\n",
    "\n",
    "![Palindrom](palindrom.png)\n",
    "\n",
    "Pokud bychom i v případě tohoto algoritmu uvažovali použití běžného cyklu `for` přes vstupní řetězec, narazíme již na začátku na závažný problém: v každé iteraci máme přímý přístup jen k jedinému znaku řetězce (je odkazován řídící proměnnou). I když si můžeme zapamatovat i některé ostatní znaky (jako tomu bylo v předchozím úkolu, v němž jsme si zapamatovali první znak), je počet těchto znaků omezen (vždy existuje jen konečný a v praxi velmi malý počet proměnných) a především nelze odkazovat znaky, které jsme ještě neprošli. To je však v případě palindromu nezbytné, neboť v první iteraci porovnáváme první znak s posledním (i když jsme jej ještě neprošli), ve druhé druhý znak s předposledním, atd.\n",
    "\n",
    "Obecně lze říci, že pomocí cyklu `for` přes řetězec lze řešit pouze lokální vlastnosti jednotlivých znaků resp. vzory omezené délky. \n",
    "\n",
    "V ostatních případech je nutné použít cykly přes rozsahy (`range`), které jsou následně využívány pro indexaci (tj. neiterujeme přes jednotlivé znaky, ale přes jejich indexy).\n",
    "\n",
    "Nechť $n$ je délka řetězce (= počet znaků), pak nejdříve porovnáváme znak na indexu 0 (první) s prvkem na indexu $n-1$ (poslední). Pak se porovnává prvek s indexem 1 (druhý) s prvkem na indexu $n-2$. Obecně se porovnává prvek na indexu `i` s prvkem na indexu `n-i-1`.  Ověřte na obrázku výše, kde $n=9$ (tyto obrázky jsou pro ověření správné indexace nezastupitelné).  Poslední porovnání se děje mezi prvky s indexy  `n//2 - 1` a `n - n//2`  (opět ověřte na obrázku). Všimněte si, že u řetezců s lichou délkou prostřední prvek do porovnání nevstupuje. V případě řetězců sudých délek tento prostřední prvek neexistuje, indexy poslední dvojice prvků jsou nicméně stejné (opět ověřte, tentokrát si ilustrativní schéma vytvořte sami, požijte např. slovo 'anna').\n",
    "\n",
    "Jádrem řešení je tedy cyklus přes rozsah 0 (včetně) do `n//2` (vyjma) (dělení je celočíselné!), v jehož těle se porovnává `i`-tý znak (získaný pomocí indexace) se znakem na indexu `n-i-1` (znaky čtené zprava)."
   ]
  },
  {
   "cell_type": "code",
   "execution_count": 10,
   "metadata": {},
   "outputs": [
    {
     "name": "stdout",
     "output_type": "stream",
     "text": [
      "Potenciální palindrom: nepochopen\n",
      "Řetězec není palindrom\n"
     ]
    }
   ],
   "source": [
    "s = input(\"Potenciální palindrom: \")\n",
    "n = len(s)\n",
    "palindrom = True  # prázdný řetězec je vždy palindrom\n",
    "\n",
    "for i in range(0, n//2):  # horní mez je vyjma (poslední je tedy prvek s indexem n//2-1)\n",
    "    if s[i] != s[n-i-1]:\n",
    "        palindrom = False  # řetězec již nemůže být palindromem\n",
    "        break              # předčasně ukončujeme cyklus (výpis necháváme )\n",
    "if palindrom: \n",
    "    print(\"Řetězec je palindrom\")\n",
    "else:\n",
    "    print(\"Řetězec není palindrom\")"
   ]
  },
  {
   "cell_type": "markdown",
   "metadata": {},
   "source": [
    "> **Úkol**: Vytvořte program, který provede proložení (angl. *interlacing*) dvou řetězců). Výsledný řetězec začíná prvním znakem prvního řetězce, pokračuje prvním znakem druhého, následuje druhý znak prvního řetězce, druhý druhého, třetí prvního, třetí druhého atd. Pokud je jeden z řetězců delší, pak je jeho nadbytečná část připojena na konec výsledku bez proložení.\n",
    "\n",
    "> Příklad: první řetězec: \"123\", druhý řetězec: \"Frodo\". Výsledek by měl být \"1F2r3odo\"\n",
    "\n",
    "> ![Prokládání řetězců](interlacing.png)\n",
    "\n",
    "> Rady: Předpokládejte, že první řetězec není delší než druhý (není-li tomu tak, pak lze proměnné prohodit). Použijte cyklus přes indexy prvního řetězce (které lze  využít i pro indexaci řetězce druhého). Výsledný řetězec lze konstruovat postupným připojováním jednotlivých jednoznakových řetězců. "
   ]
  },
  {
   "cell_type": "code",
   "execution_count": 15,
   "metadata": {
    "tags": [
     "h"
    ]
   },
   "outputs": [
    {
     "name": "stdout",
     "output_type": "stream",
     "text": [
      "První řetězec: 123\n",
      "Druhý řetězec: abc\n",
      "1a2b3c\n"
     ]
    }
   ],
   "source": [
    "s1 = input(\"První řetězec: \")\n",
    "s2 = input(\"Druhý řetězec: \")\n",
    "\n",
    "if len(s1) > len(s2): # je-li první řetězec delší\n",
    "    s1, s2 = s2, s1   # pak prohodíme proměnné\n",
    "\n",
    "n1 = len(s1) # délka prvního řetězce\n",
    "n2 = len(s2) # délka druhého řetězce\n",
    "    \n",
    "interlaced = \"\"  # proměnná pro postupně rostoucí mezivýsledky \n",
    "    \n",
    "for i in range(n1): # iterace přes čísla 0 až len(s1) - 1\n",
    "    interlaced += s1[i]  # nový řetězec vzniklý připojením i-tého znaku 1.řetězce\n",
    "    interlaced += s2[i]  # nový řetězec vzniklý připojením i-tého znaku 2.řetězce\n",
    "\n",
    "# nesmíme zapomenout na připojení případného přebývajícího delšího 2.řetězce\n",
    "interlaced += s2[n1:]  # přebytek začíná na indexu n1 a pokračuje až do konce\n",
    "\n",
    "print(interlaced)"
   ]
  },
  {
   "cell_type": "markdown",
   "metadata": {},
   "source": [
    "### Cyklus `while`"
   ]
  },
  {
   "cell_type": "markdown",
   "metadata": {},
   "source": [
    "Cyklus `for` je základní konstrukcí zajišťující opakování kódu v Pythonu. Lze ji však použít jen v případě, kdy je počet opakování znám předem resp. pokud se prochází konečná posloupnost objektů."
   ]
  },
  {
   "cell_type": "markdown",
   "metadata": {},
   "source": [
    "Pokud tyto podmínky nejsou splněny, pak je nutno využít obecnější cyklus `while`. Cyklus `while` (opakovaně) vykonává své tělo, dokud je splněna určitá podmínka.\n",
    "\n",
    "Typickým případem užití je opakovaný vstup, jehož ukončení je signalizováno zadáním nějakého specialního textu (zarážky). Typickou zarážkou je prázdný text."
   ]
  },
  {
   "cell_type": "code",
   "execution_count": 18,
   "metadata": {},
   "outputs": [
    {
     "name": "stdout",
     "output_type": "stream",
     "text": [
      "1\n",
      "7\n",
      "9\n",
      "1.6\n",
      "\n",
      "Součet je 18.6\n"
     ]
    }
   ],
   "source": [
    "vstup = input()\n",
    "suma = 0\n",
    "\n",
    "while vstup:   # dokud je  vstupní řetězec neprázdný\n",
    "    suma += float(vstup)\n",
    "    vstup = input()\n",
    "\n",
    "print(f\"Součet je {suma}\")"
   ]
  },
  {
   "cell_type": "markdown",
   "metadata": {},
   "source": [
    "V této ukázce jsou ze standardního vstupu opakovaně čtena čísla a je počítán jejich celkový součet (suma). Počet čísel není omezen, na konci zadání je však nutno zadat prázdný řádek (vstup se bez zadání jakéhokoliv znaku ihned ukončí stiskem klávesy `Enter`).\n",
    "\n",
    "Popišme si krok za krokem průběh programu:\n",
    "1. Čtení (první) řádky ze standardního vstupu (`input`). Vstupní text je jako řetězec označen proměnnou novou `vstup`.\n",
    "2. Vzniká nová proměnná `suma`, která označuje číslo 0\n",
    "3. Testování podmínky cyklu `while`. Podmínkou je přímo objekt řetězce, který tak musí být převeden na hodnotu třídy `bool`. Řetězec je v Pythonu interpretován jako pravdivý, pokud je neprázdný (tj. obsahuje alespoň jeden znak). Je-li podmínka pravdivá (neprázdný tj. neukončovací řetězec) je vykonáno tělo cyklu (dále krok 4), jinak je cyklus ukončen (řízení přechází na první příkaz za tělem cyklu), dále krok 6\n",
    "4. K sumě je přičtena hodnota vstupu, který je chápán jako zápis čísla třídy `float` (explicitní přetypování na `float`)\n",
    "5. Je načten nový vstup. Tím je ukončeno tělo cyklu a program dále pokračuje novým testováním podmínky (již na nový vstup), tj. bodem 3\n",
    "6. Cyklus je ukončen a tak může být proveden výpis celkového součtu\n",
    "\n",
    "\n",
    "Všimněte si několika charakteristických rysů:\n",
    "* Tělo cyklu se nemusí provést ani jednou. Je tomu tak v případě, že podmínka je už při svém vyhodnocení nepravdivá (v našem případě, je již první vstup prádný řádek)\n",
    "* V těle cyklu musí dojít ke změně proměnných resp. objektů na nichž závisí podmínka (v našem případě mění proměnná `vstup`, která je v každé iteraci přesměrována na jiný řetězec). Pokud by k žádné změně nedošlo, pak by byla podmínka stále pravdivá a cyklus by byl nekonečný.\n",
    " "
   ]
  },
  {
   "cell_type": "markdown",
   "metadata": {},
   "source": [
    "> **Úkol**: Vypište nejvyšší číslo (maximum) ze zadané posloupnosti čísel (čtených ze standardního vstupu, vždy jedno na řádce). Koncovým vstupem je opět prázdný řádek. Pro jedboduchost předpokládejme, že zadáno bude alespoň jedno číslo (maximum z nula čísel není definováno)."
   ]
  },
  {
   "cell_type": "code",
   "execution_count": 55,
   "metadata": {
    "tags": [
     "h"
    ]
   },
   "outputs": [
    {
     "name": "stdout",
     "output_type": "stream",
     "text": [
      "1. číslo: 2\n",
      "2. číslo: 8\n",
      "3. číslo: -3\n",
      "4. číslo: 9\n",
      "5. číslo: 0.6\n",
      "6. číslo: \n",
      "Maximum je 9.0\n"
     ]
    }
   ],
   "source": [
    "max = float(input(\"1. číslo: \")) # průběžné maximum (u pevního čísla je rovno tomuto číslu)\n",
    "vstup = input(\"2. číslo: \")  # druhé čtení (nevíme ještě zda je to číslo, může to být i koncový řetězec)\n",
    "i = 2  # pomocný čítač čísel (jen pro lepší zobrazení), dva vstupy už jsou načtené\n",
    "\n",
    "while vstup:\n",
    "    x = float(vstup)\n",
    "    if x > max: # pokud je nové číslo větší než průběžné maximum\n",
    "        max = x # pak se stavá novým maximem\n",
    "    i += 1 # zvýšíme čítač načtených čísel\n",
    "    vstup = input(f\"{i}. číslo: \") # nový vstup (i o něm zatím nevíme zda je to číslo nebo prázdný vstup)\n",
    "    # program pokračuje novou kontrolou podmínky cyklu\n",
    "    \n",
    "# po skončení cyklu (vstup byl prázdný)\n",
    "print(f\"Maximum je {max}\") # vypíšeme průběžné a nyní už i konečné maximum"
   ]
  },
  {
   "cell_type": "markdown",
   "metadata": {},
   "source": [
    "**Řešený příklad**\n",
    "\n",
    "Collatzova (nedokázaná) domněnka tvrdí, že posloupnost čísel určená počáteční hodnotou $a_0$, v  níž je každá následující hodnota vypočtena podle vztahu:\n",
    "$a_{i+1}={\\begin{cases}3a_i+1{\\text{,}}&{\\text{ je-li }}n{\\text{ liché,}}\\\\\\frac{a_i}{2}{\\text{,}}&{\\text{ je-li }}n{\\text{ sudé.}}\\end{cases}}$ \n",
    "\n",
    "dosáhne po konečném počtu kroků hodnoty 1, pro libovolnou počáteční hodnotu $a_0$ z $\\mathbb{N}$.\n",
    "\n",
    "I když je tato hypotéza navzdory velmi triviálnímu zadání prozatím nedokazatelná, lze za pomoci počítačů relativně snadno prokázat, že platí pro všechna relativně malá čísla ($<2^{20}$, https://en.wikipedia.org/wiki/Collatz_conjecture).\n",
    "\n",
    "Program, který počítá pro dané $a_0$ příslušnou Collatzovu posloupnost (zakončenou 1) je velmi snadné vytvořit. Jádrem je samozřejmě `while` cyklus, neboť výpočet následující hodnoty se stále opakuje, přičemž není známo kolik těchto opakování bude.\n"
   ]
  },
  {
   "cell_type": "code",
   "execution_count": 38,
   "metadata": {},
   "outputs": [
    {
     "name": "stdout",
     "output_type": "stream",
     "text": [
      "Zadej celé číslo: 871\n",
      "871, 2614, 1307, 3922, 1961, 5884, 2942, 1471, 4414, 2207, 6622, 3311, 9934, 4967, 14902, 7451, 22354, 11177, 33532, 16766, 8383, 25150, 12575, 37726, 18863, 56590, 28295, 84886, 42443, 127330, 63665, 190996, 95498, 47749, 143248, 71624, 35812, 17906, 8953, 26860, 13430, 6715, 20146, 10073, 30220, 15110, 7555, 22666, 11333, 34000, 17000, 8500, 4250, 2125, 6376, 3188, 1594, 797, 2392, 1196, 598, 299, 898, 449, 1348, 674, 337, 1012, 506, 253, 760, 380, 190, 95, 286, 143, 430, 215, 646, 323, 970, 485, 1456, 728, 364, 182, 91, 274, 137, 412, 206, 103, 310, 155, 466, 233, 700, 350, 175, 526, 263, 790, 395, 1186, 593, 1780, 890, 445, 1336, 668, 334, 167, 502, 251, 754, 377, 1132, 566, 283, 850, 425, 1276, 638, 319, 958, 479, 1438, 719, 2158, 1079, 3238, 1619, 4858, 2429, 7288, 3644, 1822, 911, 2734, 1367, 4102, 2051, 6154, 3077, 9232, 4616, 2308, 1154, 577, 1732, 866, 433, 1300, 650, 325, 976, 488, 244, 122, 61, 184, 92, 46, 23, 70, 35, 106, 53, 160, 80, 40, 20, 10, 5, 16, 8, 4, 2, 1\n",
      "Délka Collatzovy posloupnosti čísla 871 je 178\n"
     ]
    }
   ],
   "source": [
    "vstup = int(input(\"Celé číslo: \"))\n",
    "delka = 0  # tato proměnná bude počítat délku posloupnosti\n",
    "a = vstup  # počátkem posloupnosti je vložené číslo\n",
    "\n",
    "while a != 1: # dokud nejsme na konci posloupnosti\n",
    "    delka += 1  # zvýšíme délku posloupnosti o jedna\n",
    "    print(a, end=\", \")  # výpis s explicitně předaným zakončením\n",
    "    # a vypočteme nové a\n",
    "    if  a % 2 == 1: # liché\n",
    "        a = 3 * a + 1\n",
    "    else: # sudé\n",
    "        a //= 2 # celočíselné dělení dvěma\n",
    "print(1) # do výstupu doplníme poslední člen poslopupnosti\n",
    "print(f\"Délka Collatzovy posloupnosti čísla {vstup} je {delka}\")"
   ]
  },
  {
   "cell_type": "markdown",
   "metadata": {},
   "source": [
    "Implementace je zřejmá, po načtení čísla do uložíme do proměnné `a` aktuální (zde tedy počáteční) člen posloupnosti a připravíme proměnnou pro postupné zvyšování počtu členů. V těle cyklu pak počítáme další člen posloupnosti (sudost a lichost je určena zbytkem po dělení dvěma), který nahradí předchozí člen v proměnné `a` (stane se novým aktuálním). Navíc se zvýší délka zatím prozkoumané části posloupnosti o jedničku a vypíše se (pro kontrolu) aktuální člen. Tělo cyklu se opakuje dokud je aktuální člen různý od jedné (tj. nebylo dosaženo konce posloupnosti). \n",
    "\n",
    "#### Pojmenované parametry\n",
    "\n",
    "Všimněte si volání funkce `print`, které kromě svého základního parametru (co se má vypsat) obsahuje i parametr ve tvaru `end=\", \"`. Pokud parametry ve volání začínají identifikátorem následovaným rovnítkem, jsou to tzv. **pojmenované parametry**. Běžné parametry jsou tzv. poziční,  tj, jejich funkce závisí na pořadí při volání (první, druhý, … parametr), Naopak pojmenované parametry mohou být uváděny v libovolném pořadí (jejich funkce se pozná podle identifikátoru). U pojmenovaných parametrů si tak nemusíte pamatovat pořadí (na druhou stranu si musíte pamatovat jejich jméno).\n",
    "\n",
    "Podívejme se na například na volání funkce `re.sub`. Ta má tři parametry, které musíte uvádět v pořadí hledaný vzor (regulární výraz), náhrada (řetězec nahrazující všechny výskyty) a nakonec řetězec, ve kterém se provádí substituce.\n"
   ]
  },
  {
   "cell_type": "code",
   "execution_count": 42,
   "metadata": {},
   "outputs": [
    {
     "data": {
      "text/plain": [
       "'a?a'"
      ]
     },
     "execution_count": 42,
     "metadata": {},
     "output_type": "execute_result"
    }
   ],
   "source": [
    "import re\n",
    "re.sub(\"n+\", \"?\", \"anna\") # nahradí libovolnou posloupnost znaků `n` za otazník"
   ]
  },
  {
   "cell_type": "markdown",
   "metadata": {},
   "source": [
    "Pokud máte problém za zapamatováním pořadí, lze parametry volat jako pojmenované (jména najdete v dokumentaci)"
   ]
  },
  {
   "cell_type": "code",
   "execution_count": 45,
   "metadata": {},
   "outputs": [
    {
     "data": {
      "text/plain": [
       "'a?a'"
      ]
     },
     "execution_count": 45,
     "metadata": {},
     "output_type": "execute_result"
    }
   ],
   "source": [
    "re.sub(string=\"anna\", pattern=\"n+\", repl=\"?\")"
   ]
  },
  {
   "cell_type": "markdown",
   "metadata": {},
   "source": [
    "Abě možnosti lze i kombinovat, musí však být splněny nasledující podmínky:\n",
    "\n",
    "1. poziční parametry musí být uvedeny jako první a to ve správném pořadí. Pokud je nějaký parametr vynechán (má implicitní hodnotu nebo bude uveden uveden jako pojmenovaný), pak musí být vynechány i všechny ostatní.\n",
    "2. pojmenované parametry musí být uvedeny jako poslední a nesmí obsahovat parametr, který byl předán jako poziční\n",
    "3. některé parametry je nutné zadávat jako pojmenované (nelze je tedy předat jako poziční)\n",
    "\n",
    ">> **Úkol**: V případě volání funkce `re.sub` existuje jen tři smíšené možnosti volání, zkuste je najít a vyzkoušet (žádný z parametrů nelze z volání zcela vyjmout)"
   ]
  },
  {
   "cell_type": "code",
   "execution_count": 50,
   "metadata": {
    "tags": [
     "h"
    ]
   },
   "outputs": [
    {
     "name": "stdout",
     "output_type": "stream",
     "text": [
      "a?a\n",
      "a?a\n",
      "a?a\n"
     ]
    }
   ],
   "source": [
    "print( re.sub(\"n+\", repl=\"?\", string=\"anna\") )\n",
    "print( re.sub(\"n+\", string=\"anna\", repl=\"?\"))\n",
    "print( re.sub(\"n+\", \"?\", string=\"anna\"))"
   ]
  },
  {
   "cell_type": "markdown",
   "metadata": {},
   "source": [
    "I když Python nabízí relativně velké množství různých kombinací pozičních a pojmenovaných parametrů při volání, v praxi se běžně používají jen dva základní: \n",
    "* parametry jsou předávány vždy jako poziční kromě těch, které musí být pojmenované (to je i případ výše uvedeného volání funkce `print`, kde `end` je povinně pojmenovaný parametr). Poziční parametry jsou typicky klíčovými parametry, které musí být vždy uvedeny, pojmenované jsou doplňkové a tudíž nepovinné.\n",
    "* všechny parametry jsou předány jako pojmenované. Tento přístup se používá v případě funkcí, které mají větší počet hlavních parametrů z nichž některé jsou nepovinné.\n",
    "\n",
    "A abychom nezapomněli, parametr `end` u vestavěné funkce `print` umožňuje změnit znaky, který se automaticky vypisují na konci výpisu. Standardně je to znak odřádkování (proto se každý výpis vypisuje na nový řádek). Změnou na jiný znak lze zajistit postupný výpis do jediného řádku s příslušným oddělovačem. "
   ]
  },
  {
   "cell_type": "markdown",
   "metadata": {},
   "source": [
    "> **Úkol**: (složitější) Pomocí rozšířeného programu, jaké číslo v rozsahu 2-99 má nejdelší Collatzovu posloupnost.\n",
    "\n",
    "> Rada: vnější `for` cyklus přes kód uvedený v předchozí ukázce (s malými změnami v oblasti vstupu a výstupu) a nalezení maxima podle vzoru předchozího úkolu."
   ]
  },
  {
   "cell_type": "code",
   "execution_count": 37,
   "metadata": {
    "tags": [
     "h"
    ]
   },
   "outputs": [
    {
     "name": "stdout",
     "output_type": "stream",
     "text": [
      "2:1, 3:7, 4:2, 5:5, 6:8, 7:16, 8:3, 9:19, 10:6, 11:14, 12:9, 13:9, 14:17, 15:17, 16:4, 17:12, 18:20, 19:20, 20:7, 21:7, 22:15, 23:15, 24:10, 25:23, 26:10, 27:111, 28:18, 29:18, 30:18, 31:106, 32:5, 33:26, 34:13, 35:13, 36:21, 37:21, 38:21, 39:34, 40:8, 41:109, 42:8, 43:29, 44:16, 45:16, 46:16, 47:104, 48:11, 49:24, 50:24, 51:24, 52:11, 53:11, 54:112, 55:112, 56:19, 57:32, 58:19, 59:32, 60:19, 61:19, 62:107, 63:107, 64:6, 65:27, 66:27, 67:27, 68:14, 69:14, 70:14, 71:102, 72:22, 73:115, 74:22, 75:14, 76:22, 77:22, 78:35, 79:35, 80:9, 81:22, 82:110, 83:110, 84:9, 85:9, 86:30, 87:30, 88:17, 89:30, 90:17, 91:92, 92:17, 93:17, 94:105, 95:105, 96:12, 97:118, 98:25, 99:25, \n",
      "Nejdelší Collatzovu posloupnost má číslo 97 s délkou 118\n"
     ]
    }
   ],
   "source": [
    "maxdelka = 0 # maximální délka bude určitě větší \n",
    "maxi = None  # číslo s maximální délkou psoloupnosti (zatím jej neznáme)\n",
    "\n",
    "for i in range(2,100):  # zkoušíme pro všechna čísla od 2 do 100 (vyjma)\n",
    "    delka = 0           \n",
    "    a = i               # počátek poslupnosti je testované číslo\n",
    "\n",
    "    while a != 1: # dokud nejsme na konci\n",
    "        delka += 1 \n",
    "        if  a % 2 == 1: # liché\n",
    "            a = 3 * a + 1\n",
    "        else: # sudé\n",
    "            a //= 2 # celočíselné dělení dvěma\n",
    "    print(f\"{i}:{delka}\", end=\", \")  # vypíšeme pro kontrolu nalezenou délku\n",
    "    if delka > maxdelka: # je delší než průběžně maximální\n",
    "        maxdelka = delka\n",
    "        maxi = i   # testované číslo (počátek posloupnosti)\n",
    "# a po skončení vnejšího cyklu\n",
    "print()  # prízdné print odřádkuje\n",
    "print(f\"Nejdelší Collatzovu posloupnost má číslo {maxi} s délkou {maxdelka}\")"
   ]
  },
  {
   "cell_type": "markdown",
   "metadata": {},
   "source": [
    "> **Úkol**: Vypište prvních `n` členů Fibonnaciovy posloupnosti (pokud ji neznáte, najdete ji určitě na tetě Wikipedii). Hodnota `n` by měla být přečtena ze standardního vstupu:"
   ]
  },
  {
   "cell_type": "code",
   "execution_count": 53,
   "metadata": {
    "tags": [
     "h"
    ]
   },
   "outputs": [
    {
     "name": "stdout",
     "output_type": "stream",
     "text": [
      "Počet členů posloupnosti: 33\n",
      "1, 1, 2, 3, 5, 8, 13, 21, 34, 55, 89, 144, 233, 377, 610, 987, 1597, 2584, 4181, 6765, 10946, 17711, 28657, 46368, 75025, 121393, 196418, 317811, 514229, 832040, 1346269, 2178309, 3524578, "
     ]
    }
   ],
   "source": [
    "n = int(input(\"Počet členů posloupnosti: \"))\n",
    "\n",
    "a = 1  # první člen\n",
    "b = 1  # druhý člen\n",
    "\n",
    "print(a, end=\", \") # ještě před cyklem musíme vypsat prvni člen\n",
    "\n",
    "for i in range(n-1):  # vypíšeme jen n-1 (první člen už je vypsán)\n",
    "    a,b = b, a+b  # to je jádro řešení posuneme se o člen dále\n",
    "                  # nový první je roven původnímu druhému a nový druhý součtu původních členů\n",
    "    print(a, end=\", \")"
   ]
  },
  {
   "cell_type": "markdown",
   "metadata": {},
   "source": [
    "#### pyephem - knihovna astronomických efemerid\n",
    "\n",
    "I když jsou elementární numerické výpočty typu Collatzovy či Fibonnaciovy posloupnosti zajímavé, praktické použití příliš nemají. I když tvoří čísla a řetězce základní objekty Pythonu, v praxi většina uživatelů používá komplexnější objekty nabízené externími moduly a balíčky třetích stran (tj. nikoliv od tvůrců Pythonu nebo od Vás resp. Vašeho týmu). Pythonské balíčky  mohou kromě modulů (což je pythonský program primárně určený pro volání z jiných programů a modulů) obahovat i další soubory (konfigurační soubory, data, spustitelné soubory, dokumentaci, apod.).\n",
    "\n",
    "Python nabízí desetitisíce externích  prostřednictvím portálu Pypi (*Python Package Index*), z nichž několik využijeme v rámci této opory. Hlavním cílem je ilustrace obecných rysů jazyka nikoliv zevrubný popis těchto balíčků. Pokud Vás zaujmou, pak další informace naleznete v jejich dokumentaci.\n",
    "\n",
    "Prvním externím balíčkem, s nímž se seznámíme je `PyEphem`, který obsahuje modul `ephem` nabízející výpočty poloh hlavních objektů naší sluneční soustavy spolu s dalšími astronomickými charakteristikami (fáze, jasnosti, apod.). "
   ]
  },
  {
   "cell_type": "markdown",
   "metadata": {},
   "source": [
    "Modul `ephem` je vysoce specializovaný a tak nebývá předinstalován ani ve vědeckotechnických distribucích Pythonu (Anaconda, Intel Python). Naštěstí instalace většiny balíčků z  `Pypi` je velmi snadná. Stačí pokud v příkazovém řádku (shellu) zavoláte příkaz `pip` s následujícími parametry."
   ]
  },
  {
   "cell_type": "markdown",
   "metadata": {},
   "source": [
    "```sh\n",
    "pip install pyephem\n",
    "```"
   ]
  },
  {
   "cell_type": "markdown",
   "metadata": {},
   "source": [
    "V případě, že máte více instalací Pythonu (což je pravděpodobné, pokud používáte Linux) resp. využíváte-li virtualizované překladače (*virtual environment*), je nutné zajistit, že se volá příkaz `pip` odpovídající danému interpretru. V tomto případě je vhodnější použít celou cestu k příkazu pip a/nebo spustitelný soubor obsahující číslo verze Pythonu (příklad je z mé instalace Linuxu a Intel Pythonu, cesta ve Vašem systému bude zcela jistě jiná).  "
   ]
  },
  {
   "cell_type": "markdown",
   "metadata": {},
   "source": [
    "```sh\n",
    "/home/fiser/apps/intelpython3/bin/pip3.6 install pyephem\n",
    "```"
   ]
  },
  {
   "cell_type": "markdown",
   "metadata": {},
   "source": [
    "Výrazně jednodušší je situace pokud používáte Jupyter notebook. Zde stačí zadat v kódové buňce tzv. externí příkaz (začíná znakem vykřičník), jenž se vykoná automaticky vykoná v shellu a výsledek se vloží do výstupní buňky (navíc příkaz `pip` by měl být ten správný `pip`)"
   ]
  },
  {
   "cell_type": "code",
   "execution_count": 84,
   "metadata": {},
   "outputs": [
    {
     "name": "stdout",
     "output_type": "stream",
     "text": [
      "Requirement already satisfied: pyephem in /home/fiser/storage/apps/intelpython3/lib/python3.6/site-packages (3.7.6.0)\n",
      "\u001b[31mtensorflow 1.3.1 requires tensorflow-tensorboard<0.2.0,>=0.1.0, which is not installed.\u001b[0m\n",
      "\u001b[31mtensorflow 1.3.1 has requirement protobuf>=3.3.0, but you'll have protobuf 3.2.0 which is incompatible.\u001b[0m\n"
     ]
    }
   ],
   "source": [
    "!pip install pyephem"
   ]
  },
  {
   "cell_type": "markdown",
   "metadata": {},
   "source": [
    "Pokud je vše v pořádku, pak výpis obsahuje text `installation succeed`. Je-li balíček již nainstalován, pak se provede aktualizace resp. se vypíše zpráva, že požadavek je již zplněn. Pokud je vše v pořádku můžeme přejít k využití balíčku.\n",
    "\n"
   ]
  },
  {
   "cell_type": "markdown",
   "metadata": {},
   "source": [
    "**Řešený příklad**\n",
    "\n",
    "Jako *superměsíc* se označuje měsíční úplněk, který nastává blízko maximálního přiblížení Měsíce k Zemi (tzv. přízemí), viz https://en.wikipedia.org/wiki/Supermoon. Měsíc má v tomto případě cca o 20% větší jas a o trochu větší velikost než když je v odzemí. Rozdíl je ve skutečnosti velmi malý a většina pozorovatelů ho ani nezaznamená (tím spíše nedívá-li se na Měsíc pravidelně). Navzdory tomu je to velmi populární úkaz, který se objevuje i mainstraimových médiích (http://tn.nova.cz/clanek/nebe-ozari-novorocni-supermesic-pak-nas-ceka-modry-uplnek.html)\n",
    "\n",
    "Pomocí modulu `ephem` lze snadno vypsat několik nejbližších superměsíců tj. úplňků, v nichž je (geocentrická) vzdálenost středu Měsíce od středu Země menší než 36000 km (viz článek na anglické Wikipedii). "
   ]
  },
  {
   "cell_type": "markdown",
   "metadata": {},
   "source": [
    "V programu budou využity následující funkce a metody:\n",
    "\n",
    "Funkce `ephem.new()` vrací aktuální čas v representaci používané v modulu `ephem`, což je objekt třídy `ephem.Date`. \n",
    "Tato representace se liší od běžné representace kalendářních dat v Pythonu (je optimalizována pro astronomické výpočty). Lze ji nicméně převádět na běžnou textovou representaci pomocí přetypování na `string` (vestavěná funkce `str`). Funnguje i opačné přetypování."
   ]
  },
  {
   "cell_type": "code",
   "execution_count": 88,
   "metadata": {},
   "outputs": [
    {
     "data": {
      "text/plain": [
       "'2018/7/17 16:26:59'"
      ]
     },
     "execution_count": 88,
     "metadata": {},
     "output_type": "execute_result"
    }
   ],
   "source": [
    "str(ephem.now())"
   ]
  },
  {
   "cell_type": "markdown",
   "metadata": {},
   "source": [
    "Všimněte si, že kalendářní údaj se uvádí v pořadí rok/měsíc/den (tento formát by měl být srozumitelný většině astronomů). Čas není v lokálním časovém pásmu, ale v univerzálním (dříve greenwichském) čase. Ten je o hodinu (v době platnosti středoevropského času) resp. dvě hodiny (při platnosti středoevropského letního času) posunut oproti času v ČR. I tento čas je pro astronomy přirozenější, než čas diktovaný (a často i posouvaný) lokálními politiky.\n",
    "\n",
    "Přetypování na string se využívá i při interpolaci řetězců. "
   ]
  },
  {
   "cell_type": "code",
   "execution_count": 89,
   "metadata": {},
   "outputs": [
    {
     "data": {
      "text/plain": [
       "'Aktuální datum a čas je 2018/7/17 16:29:22'"
      ]
     },
     "execution_count": 89,
     "metadata": {},
     "output_type": "execute_result"
    }
   ],
   "source": [
    "f\"Aktuální datum a čas je {ephem.now()}\""
   ]
  },
  {
   "cell_type": "markdown",
   "metadata": {},
   "source": [
    "Druhou (a pro nás klíčovou) funkcí je funkce `ephem.next_full_moon()`. Tato funkce najde čas nejbližšího úplňku počínaje časem, který je uveden jako jediný parametr funkce."
   ]
  },
  {
   "cell_type": "code",
   "execution_count": 91,
   "metadata": {},
   "outputs": [
    {
     "data": {
      "text/plain": [
       "'2018/7/27 20:20:20'"
      ]
     },
     "execution_count": 91,
     "metadata": {},
     "output_type": "execute_result"
    }
   ],
   "source": [
    "str(ephem.next_full_moon(ephem.now()))"
   ]
  },
  {
   "cell_type": "markdown",
   "metadata": {},
   "source": [
    "Počáteční čas lze zadat i jako řetězec (funkce jej přetypuje na objekt třídy `ephem.Date`)"
   ]
  },
  {
   "cell_type": "code",
   "execution_count": 95,
   "metadata": {},
   "outputs": [
    {
     "data": {
      "text/plain": [
       "'2001/1/9 20:24:25'"
      ]
     },
     "execution_count": 95,
     "metadata": {},
     "output_type": "execute_result"
    }
   ],
   "source": [
    "str(ephem.next_full_moon(\"2001/1/1\"))  # první úplněk nového tisíciletí"
   ]
  },
  {
   "cell_type": "markdown",
   "metadata": {},
   "source": [
    "Pro zjištění aktuální polohy Měsíce, slouží objekt třídy `ephem.Moon` (existují i třídy `ephem.Mercury`, `ephem.Mars`, apod.). Po vytvoření pomocí tzv. konstruktoru (je to funkce, která má stejné jménom jako třída) lze využívat pouze atributy, které nejsou závislé na čase."
   ]
  },
  {
   "cell_type": "code",
   "execution_count": 96,
   "metadata": {},
   "outputs": [
    {
     "name": "stdout",
     "output_type": "stream",
     "text": [
      "Moon\n"
     ]
    }
   ],
   "source": [
    "m = ephem.Moon()  # konstruktor objektu\n",
    "print(m.name)  # jméno objektu se nemění časem"
   ]
  },
  {
   "cell_type": "code",
   "execution_count": 97,
   "metadata": {},
   "outputs": [
    {
     "ename": "RuntimeError",
     "evalue": "field earth_distance undefined until first compute()",
     "output_type": "error",
     "traceback": [
      "\u001b[0;31m---------------------------------------------------------------------------\u001b[0m",
      "\u001b[0;31mRuntimeError\u001b[0m                              Traceback (most recent call last)",
      "\u001b[0;32m<ipython-input-97-60ff01508093>\u001b[0m in \u001b[0;36m<module>\u001b[0;34m()\u001b[0m\n\u001b[0;32m----> 1\u001b[0;31m \u001b[0mm\u001b[0m\u001b[0;34m.\u001b[0m\u001b[0mearth_distance\u001b[0m\u001b[0;34m\u001b[0m\u001b[0m\n\u001b[0m",
      "\u001b[0;31mRuntimeError\u001b[0m: field earth_distance undefined until first compute()"
     ]
    }
   ],
   "source": [
    "m.earth_distance # tohle už nejde (vzdálenost Země – Měsíc na čase závisí )"
   ]
  },
  {
   "cell_type": "markdown",
   "metadata": {},
   "source": [
    "Řešení je jednoduché (a doporučuje ho i zpráva ve výjimce), nejdříve je nutné zavolat metodu `compute` (volá se nad objektem měsíce)"
   ]
  },
  {
   "cell_type": "code",
   "execution_count": 99,
   "metadata": {},
   "outputs": [
    {
     "data": {
      "text/plain": [
       "0.0024958308786153793"
      ]
     },
     "execution_count": 99,
     "metadata": {},
     "output_type": "execute_result"
    }
   ],
   "source": [
    "m.compute()  # počítá polohy pro aktuální čas\n",
    "m.earth_distance"
   ]
  },
  {
   "cell_type": "markdown",
   "metadata": {},
   "source": [
    "Vrácena je vzdálenost v astronomických jednotkách (= průměrná vzdálenost Slunce — Země). Pro převod na metry lze využít konstantu `ephem.meters_per_au`. "
   ]
  },
  {
   "cell_type": "code",
   "execution_count": 103,
   "metadata": {},
   "outputs": [
    {
     "name": "stdout",
     "output_type": "stream",
     "text": [
      "0.0027114651165902615\n",
      "405629406.02120477\n"
     ]
    }
   ],
   "source": [
    "m.compute(\"935/9/28 6:00\")  # změníme čas, pro nějž je počítána poloha na šestou hodinu 28.9 935 AD\n",
    "print(m.earth_distance)  # vzdálenost v astronomických jednotkách\n",
    "print(m.earth_distance * ephem.meters_per_au) # a v metrech"
   ]
  },
  {
   "cell_type": "markdown",
   "metadata": {},
   "source": [
    "Nyní máme vše připraveno a můžeme se tak podívat na program pro nalezení nejbližsích super úplňků."
   ]
  },
  {
   "cell_type": "code",
   "execution_count": null,
   "metadata": {
    "collapsed": true
   },
   "outputs": [],
   "source": []
  },
  {
   "cell_type": "code",
   "execution_count": 109,
   "metadata": {},
   "outputs": [
    {
     "name": "stdout",
     "output_type": "stream",
     "text": [
      "2019/1/21 05:16:05\t357715 km\n",
      "2019/2/19 15:53:34\t356843 km\n"
     ]
    }
   ],
   "source": [
    "import ephem   # importuje nainstalovaná modul\n",
    "\n",
    "uplnek = ephem.next_full_moon(ephem.now())  # nalezení nejbližšího úplňku (od aktuálního okamžiku)\n",
    "mesic = ephem.Moon()  # vytvoření objektu representujícího Měsíc (jako nebeské těleso)\n",
    "\n",
    "for i in range(12):  # otestujeme dvanáct nejbližších úplňků\n",
    "    mesic.compute(uplnek)  # spočítáme polohu Měsíce v okamžiku úplňku\n",
    "    vzdalenost = mesic.earth_distance  * ephem.meters_per_au / 1000.0 # zjistíme vzdálenost v kilometrech\n",
    "    if vzdalenost < 360_000:  # je-li menší než 360 000\n",
    "        print(f\"{uplnek}\\t{vzdalenost:.0f} km\")  # vypíšeme čas a vzdálenost (zaokrouhlenou na kilometry)\n",
    "    uplnek=ephem.next_full_moon(uplnek)  # a nalezneme čas dalšího úplňku"
   ]
  },
  {
   "cell_type": "markdown",
   "metadata": {},
   "source": [
    "#### Chyby vstupů a modelu a zaokrouhlení výsledku\n",
    "\n",
    "Vzdálenosti Měsíce jsme zaokrouhlili na kilometry i když výpočet vrací mnohem přesnější údaje. Důvod je skutečnost, že\n",
    "přesnost výsledků počítačových výpočtů závisí na přesnosti vstupu a použitém matematickém modelu (a jak víme v určité míře i na representaci čísel v počítači). Nemá smysl udávat zdánlivě super-přesné údaje, u nichž je většina číslic jen šum. Do publikačních výstupů uvádějte příslušně zaokrouhlené údaje.\n",
    "\n",
    "Jak však můžeme příslušnou chybu a tím i řád zaokrouhlení odhadnout? Odpověď není jednoduchá, neboť problematika šíření chyb je opravdu věda. Pro základní orientaci stačí několik úvah:\n",
    "\n",
    "zdroje chyb ve výpočtu vzdálenosti:\n",
    "1. chyba modelu = chyba výpočtů poloh v `ephem`. Tu je nutné najít v dokumentaci programu XEphem (http://www.clearskyinstitute.com/xephem, sekce Accuracy). Z ní lze zjistit, že chyba v poloze by měla být menší než 0.5 úhlové minuty, kterou Měsíc překoná za cca 2 vteřiny (pohybuje se průměrně 33 úhlových minut za hodinu). \n",
    "\n",
    "2. chyba daná representací čísel je v řádu $10^{-15}$, což je na úrovní mikrometru (řád výsledku je $10^{8}$ * $10^{-15}$ = $10^{-7}$). To je přirozeně zanedbatelné (za 2 vteřiny Měsíc urazí výrazně větší vzdálenost)\n",
    "\n",
    "3. chyba daná přesností vstupu. Vstupem do výpočtu vzdáleností je čas, který je vypočítán s přesností minimálně jednotek vteřin (stropem je zde opět chyba výpočtů)\n",
    "\n",
    "Jak lze vidět největší chybu vnáší měření času a to v řádu větších desítek minut. Spočítáme tedy polohu měsíce v časech  $\\pm 5s$ (chyby se mohou sčítat).\n"
   ]
  },
  {
   "cell_type": "code",
   "execution_count": 110,
   "metadata": {},
   "outputs": [
    {
     "name": "stdout",
     "output_type": "stream",
     "text": [
      "357714741.6904103\n",
      "357714602.36653686\n"
     ]
    }
   ],
   "source": [
    "m.compute(\"2019/1/21 05:16:00\")  # o půl hodiny dříve\n",
    "print(m.earth_distance * ephem.meters_per_au)\n",
    "m.compute(\"2019/1/21 05:16:10\")  # o půl hodiny dříve\n",
    "print(m.earth_distance * ephem.meters_per_au)"
   ]
  },
  {
   "cell_type": "markdown",
   "metadata": {},
   "source": [
    "Z výsledků je zřejmé, že chyba je v řádu stovek metrů, tj. zaokrouhlení na kilometry je rozumné. Je to navíc jen orientační údaj, neboť skutečná jasnost je ovlivněna i dalšími skutečnostmi, které jsme zanedbali (úhlová odrazivost Měsíčního povrchu, poloměr Země, neboť Měsíc nepozorujeme z jeho středu)"
   ]
  },
  {
   "cell_type": "markdown",
   "metadata": {},
   "source": [
    "> **Úkol**: Upravte program tak, aby našel superúplněk s minimální vzdáleností Měsíce v tomto tisíciletí."
   ]
  },
  {
   "cell_type": "code",
   "execution_count": 112,
   "metadata": {
    "tags": [
     "h"
    ]
   },
   "outputs": [
    {
     "name": "stdout",
     "output_type": "stream",
     "text": [
      "2257/1/1 13:07:48\t356371416 km\n"
     ]
    }
   ],
   "source": [
    "import ephem   # importuje nainstalovaná modul\n",
    "import math\n",
    "\n",
    "uplnek = ephem.next_full_moon(\"2001/1/1\")\n",
    "mesic = ephem.Moon()\n",
    "minVzdalenost = 1e100  # číslo, které je rozhodně větší než vzdálenost Měsíc Země v metrech\n",
    "minUplnek = None\n",
    " \n",
    "while uplnek < ephem.Date(\"3001/1/1\"): # dokud je čas úplňku menší než konec tisíciletí (neznáme počet úplňků)\n",
    "    mesic.compute(uplnek)  # spočítáme polohu Měsíce v okamžiku úplňku\n",
    "    vzdalenost = mesic.earth_distance  * ephem.meters_per_au\n",
    "    if vzdalenost < minVzdalenost:  # je-li menší než minimum (u prvního údaje je to určitě splněno)\n",
    "        minVzdalenost = vzdalenost  # nové průběžné minimum \n",
    "        minUplnek = uplnek # čas minimálního úplňku\n",
    "    uplnek=ephem.next_full_moon(uplnek)  # a nalezneme čas dalšího úplňku\n",
    "print(f\"{minUplnek}\\t{minVzdalenost:.0f} km\")  # vypíšeme čas a vzdálenost (zaokrouhlenou na kilometry)"
   ]
  },
  {
   "cell_type": "markdown",
   "metadata": {
    "tags": [
     "h"
    ]
   },
   "source": [
    "Všimněte si, že výpočet již chvíli trvá (musí se spočítat polohy Měsíce pro cca 12300 úplňků). Dále je vidět, že rozdíly vzdáleností oproti běžnému superúplňku jsou skutečně minimální (v řádu tisíce kilometrů) a naši potomci tedy neuvidí nic mimořádného."
   ]
  },
  {
   "cell_type": "markdown",
   "metadata": {},
   "source": [
    "## Seznam"
   ]
  },
  {
   "cell_type": "markdown",
   "metadata": {},
   "source": [
    "Seznam (angl. *list*) je základní druh tzv. kolekce v Pythonu. Kolekce jsou objekty, které primárně slouží k uchovávání  jiných objektů (jinak řečeno jsou to schránky na objekty).\n",
    "\n",
    "V Pythonu existuje větší počet různých typů kolekcí (a mnoho dalších dodávají externí balíčky). Jednotlivé typy  kolekcí se liší uspořádáním prvků, optimalizací základních operací (vkládání, vyhledávání, vyjímání apod.) a omezeními kladenými na jejich položky.\n",
    "\n",
    "Seznamy mají tyto základní charakteristiky:\n",
    "* položky jsou v seznamu uspořádány sekvenčně (jedna za druhou) a jsou dostupné pomocí pozičních indexů\n",
    "\n",
    "* počet položek je neomezený (resp. omezený pouze dostupnou operační pamětí) a může se měnit (tj. do seznamu lze přidávat i odebírat položky)\n",
    "\n",
    "* položky v seznamu mohou být různých typů a to i v rámci jediného seznamu"
   ]
  },
  {
   "cell_type": "markdown",
   "metadata": {},
   "source": [
    "### Vytváření seznamu\n",
    "\n",
    "Nejjednodušším způsobem vytvoření seznamu je specifikace všech jeho položek výčtem uzavřeným v hranatých závorkách:"
   ]
  },
  {
   "cell_type": "code",
   "execution_count": 122,
   "metadata": {
    "collapsed": true
   },
   "outputs": [],
   "source": [
    "seznam = [1, 2, 3, 4 ,5] # seznam šesti čísel (`int`)"
   ]
  },
  {
   "cell_type": "markdown",
   "metadata": {},
   "source": [
    "Počet prvků seznamu lze získat nám již známou vestavěnou funkcí `len` (stejně jako délku řetězce)"
   ]
  },
  {
   "cell_type": "code",
   "execution_count": 123,
   "metadata": {},
   "outputs": [
    {
     "data": {
      "text/plain": [
       "5"
      ]
     },
     "execution_count": 123,
     "metadata": {},
     "output_type": "execute_result"
    }
   ],
   "source": [
    "len(seznam)"
   ]
  },
  {
   "cell_type": "markdown",
   "metadata": {},
   "source": [
    "Pro přístup k položkám lze (opět podobně jako u řetězců) využít indexaci (indexuje se opět od nuly, fungují i záporné indexy od konce). Výsledkem indexace však není jednoprvkový seznam, ale přímo daná položka (tj. v našem případě číslo)."
   ]
  },
  {
   "cell_type": "code",
   "execution_count": 124,
   "metadata": {},
   "outputs": [
    {
     "data": {
      "text/plain": [
       "6"
      ]
     },
     "execution_count": 124,
     "metadata": {},
     "output_type": "execute_result"
    }
   ],
   "source": [
    "seznam[0] + seznam[-1] # součet první a poslední položky"
   ]
  },
  {
   "cell_type": "markdown",
   "metadata": {},
   "source": [
    "Fungují i některé další operace se kterými jsme se seznámily u řetězců (není to překvapivé neboť i řetězec je sekvenční kolkce, která je však specializována na ukládání znaků)"
   ]
  },
  {
   "cell_type": "code",
   "execution_count": 126,
   "metadata": {},
   "outputs": [
    {
     "data": {
      "text/plain": [
       "[2, 3, 4]"
      ]
     },
     "execution_count": 126,
     "metadata": {},
     "output_type": "execute_result"
    }
   ],
   "source": [
    "seznam[1:-1]  # výřez (od druhé do poslední vyjma)"
   ]
  },
  {
   "cell_type": "code",
   "execution_count": 127,
   "metadata": {},
   "outputs": [
    {
     "data": {
      "text/plain": [
       "False"
      ]
     },
     "execution_count": 127,
     "metadata": {},
     "output_type": "execute_result"
    }
   ],
   "source": [
    "6 in seznam # zjištuje zda se hodnota vyskytuje v seznamu"
   ]
  },
  {
   "cell_type": "markdown",
   "metadata": {},
   "source": [
    "Operátor `in` lze v případě seznamů použít jen pro hledání jednotlivého prvku (nikoliv např. podseznamu)"
   ]
  },
  {
   "cell_type": "code",
   "execution_count": 129,
   "metadata": {},
   "outputs": [
    {
     "data": {
      "text/plain": [
       "[1, 2, 3, 4, 5, 10, 11, 12]"
      ]
     },
     "execution_count": 129,
     "metadata": {},
     "output_type": "execute_result"
    }
   ],
   "source": [
    "seznam + [10, 11, 12]  # spojení dvou seznamů (výsledkem je nový seznam)"
   ]
  },
  {
   "cell_type": "markdown",
   "metadata": {},
   "source": [
    "Seznamy lze vytvářet i z dalších kolekcí resp. objektů vracejících posloupnost prvků (například rozsahů). V tomto případě se použije funkce (konstruktor), který má stejné jméno jako třída. Konstruktor projde originální posloupnost (stejně jako by se využil cyklus `for` a získané prvky uloží do nově vytvářeného seznamu)."
   ]
  },
  {
   "cell_type": "code",
   "execution_count": 131,
   "metadata": {},
   "outputs": [
    {
     "data": {
      "text/plain": [
       "['a', 'h', 'o', 'j']"
      ]
     },
     "execution_count": 131,
     "metadata": {},
     "output_type": "execute_result"
    }
   ],
   "source": [
    "list(\"ahoj\") # získáme seznam jednoprvkových řetězců"
   ]
  },
  {
   "cell_type": "code",
   "execution_count": 133,
   "metadata": {},
   "outputs": [
    {
     "data": {
      "text/plain": [
       "[0, 1, 2, 3, 4, 5, 6, 7, 8, 9, 10, 11, 12, 13, 14, 15, 16, 17, 18, 19]"
      ]
     },
     "execution_count": 133,
     "metadata": {},
     "output_type": "execute_result"
    }
   ],
   "source": [
    "list(range(20)) # získáme seznam od nuly včetně do dvacet vyjma"
   ]
  },
  {
   "cell_type": "markdown",
   "metadata": {},
   "source": [
    "Seznamy nejsou omezeny na číselné položky. Položkami mohou být objekty libovolných typů např. řetězce či jiné objekty.\n",
    "\n",
    "#### Cesty k souborům a adresářům\n",
    "\n",
    "Python se kromě jiných oblastí používá i pro skriptování na úrovni souborového systému. Pomocí Pythonu lze například snadno získat seznam souborů v domovské adresáři:"
   ]
  },
  {
   "cell_type": "code",
   "execution_count": 177,
   "metadata": {},
   "outputs": [
    {
     "name": "stdout",
     "output_type": "stream",
     "text": [
      "180\n",
      "[PosixPath('/home/fiser/#alit.lyx#'), PosixPath('/home/fiser/.AndroidStudio3.1'), PosixPath('/home/fiser/.ICEauthority')]\n"
     ]
    }
   ],
   "source": [
    "from pathlib import Path\n",
    "\n",
    "soubory = list(Path.home().glob(\"*\")) # vrací seznam všech souborů v domovském adresáři \n",
    "# soubor je representován jako objekt třídy `pathlib.PosixPath` bebo `pathlib.WindowsPath`\n",
    "print(len(soubory)) # počet nalezených souborů \n",
    "print(soubory[:3])   # pro ukázku vypíšeme první tři položky seznamub\n"
   ]
  },
  {
   "cell_type": "markdown",
   "metadata": {},
   "source": [
    "Výraz pro získání absolutních cest k souborům v domovském adresáři je dosti složitý a proto si ukážemě jeho vyhodnocení krok za krokem:\n",
    "\n",
    "1) volání metody `home` nad třídou `pathlib.Path` (zde se metoda nevolá nad objektem, ale nad třídou, což je v Pythonu možné). Metoda vrací cestu k domovskému adresáři aktuálního užiavatele (jako objekt třídy `PosixPath` nebo `WindowsPath` podle hostitelského operačního systému, označení POSIX zahrnuje všechny Unixy, Linux, Mas OS X a další). "
   ]
  },
  {
   "cell_type": "code",
   "execution_count": 181,
   "metadata": {},
   "outputs": [
    {
     "data": {
      "text/plain": [
       "PosixPath('/home/fiser')"
      ]
     },
     "execution_count": 181,
     "metadata": {},
     "output_type": "execute_result"
    }
   ],
   "source": [
    "Path.home()  # vrací cestu k domovskému adresáři"
   ]
  },
  {
   "cell_type": "markdown",
   "metadata": {},
   "source": [
    "2) nad objektem representujícím cestu k adresáři je volána metoda `glob`, jejímž parametrem je vzor názvu souboru (vzor  typicky obsahuje tzv. žolíky). Metoda nalezně všechny soubory v daném adresáři odpovídající vzoru.\n",
    "\n",
    "Vzoru `*` odpovídají všechny soubory. Pokud bychom například chtěli hledat jen soubory s příponou `png` použili bychom vzor `*.png`. \n",
    "\n",
    "Výsledkem volání není seznam nalezených souborů, ale objekt, který je vrací po jednom na požádání (stejně jako `range` vrací na požádání čísla). Proto je nutné provést ještě jeden krok.\n",
    "\n",
    "3) voláme vestavenou funkci pro konstrukci seznamu `list` nad objektem vráceným metodou `glob`. Ta si postupně vyžádá všechny nalezené cesty a vytvoří z nich seznam (tj. od této chvíle existují objekty cest pro všechny nalezené soubory)."
   ]
  },
  {
   "cell_type": "markdown",
   "metadata": {},
   "source": [
    "Všimněte se také výpisu (fragmentu) seznamu. Seznam je vypisován jako výčet řetězcových representací třídy `PosixPath` (pracuji v Linuxu).\n",
    "\n",
    "Seznam jednotlivých cest k souborům lze procházet pomocí cyklu `for`. Lze tak například vypsat všechny běžné soubory s velikostí větší než 5MiB (5 binarních megabitů tj. $5\\times 2^{20}$)."
   ]
  },
  {
   "cell_type": "code",
   "execution_count": 180,
   "metadata": {},
   "outputs": [
    {
     "name": "stdout",
     "output_type": "stream",
     "text": [
      "Python-3.7.0.tgz\n"
     ]
    }
   ],
   "source": [
    "for soubor in soubory:\n",
    "    if soubor.is_file() and soubor.stat().st_size > 5*2**20:\n",
    "        print(soubor.relative_to(path.home()))"
   ]
  },
  {
   "cell_type": "markdown",
   "metadata": {},
   "source": [
    "Uvnitř cyklu proměnná soubor postupně odkazuje jednotlivé objekty `PosixPath`, na něž je možno volat různé metody. V ukázce je použita metoda `is_file`, která vrací hodnotu `True`, pokud daná cesta přísluší běžnému souboru (tj. nikoliv adresáři, v případě Unixu to nesmí ani symbolický odkaz či speciální soubor). Metoda `stat` vrací metainformace souboru (čas vytvoření, vlastník, apod.) Zde je použit atribut `st_size`, který vrací velikost souboru v bytech (předpona `st` je ve jméně atributu z historických důvodů).\n",
    "\n",
    "Poslední použitou metodou je `relative_to`, která vrací relativní cestu k souboru počínaje adresářem, jehož cesta je předána jako parametr. Pokud předáme adresář, který jsme pomocí globu procházeli získáme vlastní jméno souboru (relativní cesta vztažená k adresáři v němž se soubor nachází obsahuje pouze vlastní jméno souboru)."
   ]
  },
  {
   "cell_type": "markdown",
   "metadata": {},
   "source": [
    "**Řešený příklad**: \n",
    "\n",
    "Spočítejte počet souborů s příponou `*.png` ve Vašem adresáři/složce pro úschovu obrázků včetně jeho podadresářů. \n",
    "\n",
    "Python bohužel nenabízí metodu pro získání cesty ke standardnímu uživatelskému adresáři/složce pro úschovu obrázků. V Ubuntu, který používám (české jazykové nastavení) je to podadresář `Obrázky` domovského adresáře. Objekt cesty k tomuto adresáří lze získat zápisem `Path.home() / \"Obrázky\"`, kde operátor `/` slouží v případě objektů cest k řetězení (skládání) částí cesty.\n",
    "\n",
    "Ukázka mechanismu řetězení cest:"
   ]
  },
  {
   "cell_type": "code",
   "execution_count": 195,
   "metadata": {},
   "outputs": [
    {
     "name": "stdout",
     "output_type": "stream",
     "text": [
      "/home/fiser/bin\n"
     ]
    }
   ],
   "source": [
    "from pathlib import Path\n",
    "\n",
    "print( Path(\"/\") / \"home\" / \"fiser\" / \"bin\" )"
   ]
  },
  {
   "cell_type": "markdown",
   "metadata": {},
   "source": [
    "Pro získání globu (objektu pro procházení souborů), který prochází i soubory v podadresářích daného adresáře stačí využít rozšířený vzor začínající  znaky `**/`, který se shoduje s libovolnou posloupností vnořených adresářů (včetně nulové posloupnosti, tj. jsou procházeny i soubory umístěné přímo v daném adresáři).\n",
    "\n",
    "Zde konkrétně použijeme vzor `**/*.jpg`, kterému odpovídají všechny cesty začínající v daném adresáři a končící příponou `jpg` (tj. i soubory v podadresářích, podadresářích podadresářů, atd.)"
   ]
  },
  {
   "cell_type": "code",
   "execution_count": 199,
   "metadata": {},
   "outputs": [
    {
     "name": "stdout",
     "output_type": "stream",
     "text": [
      "Počet PNG obrázku v adresáři /home/fiser/Obrázky je 298\n"
     ]
    }
   ],
   "source": [
    "from pathlib import Path\n",
    "\n",
    "adresar = Path.home() / \"Obrázky\"\n",
    "\n",
    "cesty = list(adresar.glob(\"**/*.jpg\")) # vytvoříme seznam všech souborů s příponou png\n",
    "print(f\"Počet PNG obrázku v adresáři {adresar} je {len(cesty)}\")\n"
   ]
  },
  {
   "cell_type": "markdown",
   "metadata": {},
   "source": [
    "> **Úkol**: Vytvořte program, který nalezne a vypíše největší soubor ve Vašem domovském adresáři a jeho poadresářích libovolné úrovně."
   ]
  },
  {
   "cell_type": "code",
   "execution_count": 206,
   "metadata": {
    "tags": [
     "h"
    ]
   },
   "outputs": [
    {
     "name": "stdout",
     "output_type": "stream",
     "text": [
      "Největší soubor /home/fiser/.julia/.cache/Calculus/refs/heads/master má velikost 44137840640\n"
     ]
    }
   ],
   "source": [
    "maxSize = 0\n",
    "maxPath = None\n",
    "\n",
    "for path in Path.home().glob(\"**/*\"):\n",
    "    if path.is_file():\n",
    "        size = path.stat().st_size\n",
    "        if size > maxSize:\n",
    "            maxPath = path\n",
    "            maxSize = size\n",
    "print(f\"Největší soubor {path} má velikost {maxSize}\")\n"
   ]
  },
  {
   "cell_type": "markdown",
   "metadata": {},
   "source": [
    "### Seznam jako měnitelný objekt"
   ]
  },
  {
   "cell_type": "markdown",
   "metadata": {},
   "source": [
    "Seznamy jsou na rozdíl od řetězů (a mnoha dalších objektů) měnitelnými objekty, tj. lze je modifikovat i po vytvoření, Důvodem je efektivita, neboť seznamy jsou optimalizovány pro operace typu změna položky, resp. její přidání či odebírání. Pokud by byl seznam neměnný pak by například přidání jedné jediné položky do seznamu s milionem položek znamenal vytvoření nového seznamu a zkopírovaní všech milion položek.\n",
    "\n",
    "Podívejme se na základní modifiční operace:"
   ]
  },
  {
   "cell_type": "code",
   "execution_count": 235,
   "metadata": {},
   "outputs": [
    {
     "name": "stdout",
     "output_type": "stream",
     "text": [
      "[1, 2, 3, 4, 5, 6, 7, 8, 9]\n"
     ]
    }
   ],
   "source": [
    "seznam = list(range(1,10)) # ukázkový seznam\n",
    "print(seznam)"
   ]
  },
  {
   "cell_type": "markdown",
   "metadata": {},
   "source": [
    " Jednotlivé položky lze změnit pomocí přiřazení na jehož levé straně je indexovaný výraz:"
   ]
  },
  {
   "cell_type": "code",
   "execution_count": 236,
   "metadata": {},
   "outputs": [
    {
     "name": "stdout",
     "output_type": "stream",
     "text": [
      "[-1, 2, 3, 4, 5, 6, 7, 8, 9]\n"
     ]
    }
   ],
   "source": [
    "seznam[0] = -1 # mění se přímo seznam nikoliv jeho kopie!\n",
    "print(seznam)"
   ]
  },
  {
   "cell_type": "code",
   "execution_count": 237,
   "metadata": {},
   "outputs": [
    {
     "name": "stdout",
     "output_type": "stream",
     "text": [
      "[-1, -2, -3, -4, -5, -6, -7, -8, -9]\n"
     ]
    }
   ],
   "source": [
    "for i in range(1, len(seznam)): # nyní obrátíme znaménka u všech dalších položek\n",
    "    seznam[i] = -seznam[i]\n",
    "print(seznam)"
   ]
  },
  {
   "cell_type": "markdown",
   "metadata": {},
   "source": [
    "*Pozor!*: předchozí buňku s kódem vyhodnoťte jen jednou. Pokud jej vyhodnotíte dvakrát dojde k dvojité změně znaménka (a nic se tak nezmění). Toto upozornění se samozřejmě týká i téměř všech následujicích příkladů.\n",
    "\n",
    "Pro přidání položky na konec lze použít metodu `append`:"
   ]
  },
  {
   "cell_type": "code",
   "execution_count": 238,
   "metadata": {},
   "outputs": [
    {
     "name": "stdout",
     "output_type": "stream",
     "text": [
      "[-1, -2, -3, -4, -5, -6, -7, -8, -9, -1]\n"
     ]
    }
   ],
   "source": [
    "seznam.append(-1)\n",
    "print(seznam)"
   ]
  },
  {
   "cell_type": "markdown",
   "metadata": {},
   "source": [
    "Všimněte si, že nelze psát `seznam = seznam.append(10)`, neboť se mění přímo objekt tj. proměnná nemusí být přesměrována (ukazuje stále na stejný objekt). Zápis je dokonce nepřípustný, neboť metoda vrací objekt `None` (zjednodušeně nic nevrací). Přiřazením byste naopak přišli o odkaz na seznam (= odstranili bychom štítek) a seznam by tak de iure přestal existovat. "
   ]
  },
  {
   "cell_type": "code",
   "execution_count": 224,
   "metadata": {},
   "outputs": [
    {
     "name": "stdout",
     "output_type": "stream",
     "text": [
      "None\n"
     ]
    }
   ],
   "source": [
    "obet = [0, 0, 0, 0]  # tento seznam bude obětován, abychom ukázali jak to nedělat\n",
    "obet = obet.append(10) # chyba!!!! Tak to nikdy nedělejte   \n",
    "print(obet) # nic nevypise a seznam `obet` je navždy ztracen"
   ]
  },
  {
   "cell_type": "code",
   "execution_count": 239,
   "metadata": {},
   "outputs": [
    {
     "name": "stdout",
     "output_type": "stream",
     "text": [
      "[-2, -3, -4, -5, -6, -7, -8, -9, -1]\n"
     ]
    }
   ],
   "source": [
    "seznam.remove(-1)  # smaže první výskyt shodného objektu v seznamu\n",
    "print(seznam)"
   ]
  },
  {
   "cell_type": "markdown",
   "metadata": {},
   "source": [
    "Výmaz položky na zadané pozici se provádí příkazem `del` (zkratka za *delete*), jehož argumentem je indexovaný výraz (index určuje pozici odstraňované položky)."
   ]
  },
  {
   "cell_type": "code",
   "execution_count": 240,
   "metadata": {},
   "outputs": [
    {
     "name": "stdout",
     "output_type": "stream",
     "text": [
      "[-2, -3, -4, -5, -6, -7, -8, -9]\n"
     ]
    }
   ],
   "source": [
    "del seznam[-1] # výmaz poslední položky\n",
    "print(seznam)"
   ]
  },
  {
   "cell_type": "code",
   "execution_count": 241,
   "metadata": {},
   "outputs": [
    {
     "name": "stdout",
     "output_type": "stream",
     "text": [
      "[-5, -6, -7, -8, -9]\n"
     ]
    }
   ],
   "source": [
    "del seznam[:3] # mazat lze i několik položek najednou (použije se výřez)\n",
    "print(seznam)"
   ]
  },
  {
   "cell_type": "markdown",
   "metadata": {},
   "source": [
    "Pro odebrání posledního prvku slouží metoda `pop`. Ta navíc odebraný prvek vrátí (a může tak být uložen jinam)."
   ]
  },
  {
   "cell_type": "code",
   "execution_count": 243,
   "metadata": {},
   "outputs": [
    {
     "name": "stdout",
     "output_type": "stream",
     "text": [
      "-9\n",
      "[-5, -6, -7, -8]\n"
     ]
    }
   ],
   "source": [
    "posledni = seznam.pop()\n",
    "print(posledni)\n",
    "print(seznam)"
   ]
  },
  {
   "cell_type": "markdown",
   "metadata": {},
   "source": [
    "Někdy se hodí seznam obrátit. K tomu slouží metoda `reverse`."
   ]
  },
  {
   "cell_type": "code",
   "execution_count": 244,
   "metadata": {},
   "outputs": [
    {
     "name": "stdout",
     "output_type": "stream",
     "text": [
      "[-8, -7, -6, -5]\n"
     ]
    }
   ],
   "source": [
    "seznam.reverse()\n",
    "print(seznam)"
   ]
  },
  {
   "cell_type": "markdown",
   "metadata": {},
   "source": [
    "Prvky lze  vkládat i na jiné pozice než na poslední. Po vložení se všechny původní prvky posunou (tj. nic se nepřepisuje)"
   ]
  },
  {
   "cell_type": "code",
   "execution_count": 245,
   "metadata": {},
   "outputs": [
    {
     "name": "stdout",
     "output_type": "stream",
     "text": [
      "[10, -8, -7, -6, -5]\n"
     ]
    }
   ],
   "source": [
    "seznam.insert(0, 10) # vložení prvku na pozici (prvním parametrem je pozice, druhým přidávaný prvek)\n",
    "print(seznam)"
   ]
  },
  {
   "cell_type": "markdown",
   "metadata": {},
   "source": [
    "Prvky v poli je možno i setřídit. K tomu slouží metoda `sort`. Ta prohází prvky seznamu tak, že jsou uspořádány od nejmenšího k největšímu."
   ]
  },
  {
   "cell_type": "code",
   "execution_count": 246,
   "metadata": {},
   "outputs": [
    {
     "name": "stdout",
     "output_type": "stream",
     "text": [
      "[-8, -7, -6, -5, 10]\n"
     ]
    }
   ],
   "source": [
    "seznam.sort()\n",
    "print(seznam)"
   ]
  },
  {
   "cell_type": "markdown",
   "metadata": {},
   "source": [
    "A nakonec je možno smazat celý obsah seznamu. Vymaže se pouze obsah, seznam samotný bude stále existovat, jen bude prázdný."
   ]
  },
  {
   "cell_type": "code",
   "execution_count": 247,
   "metadata": {},
   "outputs": [
    {
     "name": "stdout",
     "output_type": "stream",
     "text": [
      "[]\n"
     ]
    }
   ],
   "source": [
    "seznam.clear() # a vymažeme dočista do čista\n",
    "print(seznam)"
   ]
  },
  {
   "cell_type": "markdown",
   "metadata": {},
   "source": [
    "**Řešený příklad**\n",
    "\n",
    "Naším úkolem bude vytvoření seznamu 10  čísel typu `float` v rozmezí 0 až 100. Poté tento seznam rozdělíme na dva podseznamy. V prvním budou hodnoty menší než průměr a v druhém ty vyšší (včetně těch, které jsou rovné průměru, ale to je spíše teoretické, neboť pravděpodobnost dvou stejných náhodných čísel typu `float` je téměř nulová)"
   ]
  },
  {
   "cell_type": "markdown",
   "metadata": {},
   "source": [
    "####  Náhodná čísla\n",
    "\n",
    "Vytváření náhodných čísel patří mezi základní mechanismy nabízené počítačem. Pomocí náhodných čísel mohou počítačové programy modelovat náhodu, (informační) šum nebo nejistotu (Přijede ten vlak? Nebo si mám už raději zajistit náhradní odvoz).\n",
    "\n",
    "Generátor náhodných čísel je harwarové nebo softwarové zařízení, které produkuje posloupnost čísel na které je kladeno hned několik požadavků: \n",
    "* čísla mají určité statistické rozdělení (a to platí i pro potenciálně nekonečné podposloupnosti např. posloupnost tvořenou každým druhý, třetím atd. číslem)\n",
    "* není snadné resp. je dokonce vůbec nemožné predikovat jaké další číslo přijde (tj. v posloupnosti není možné najít jakékoliv opakování či opakovaný vzor)\n",
    "\n",
    "Klasickým příkladem mechanického generátoru náhoedného čísla je hrací kostka, která:\n",
    "* vrací čísla v rovnoměrném rozvržení (tj. pravděpodobnost hodu jednotlivých čísel se pro velký počet hodů blíží 1/6). To platí i pro podposloupnosti (pokud střídavě hází tři lidé, tak hody každého mají také rovnoměrné rozložení, nestane se např. že někomu padají častěji šestky, a pokud to tak vypadá je to jen dočasné chování)\n",
    "* nelze předem odhadnout, jaké číslo padne (a to ani při znalosti celé historie hodů). Neplatí například, že v každém desátém hodu padne stejné číslo jako dva hody předtím, resp. neplatí, že po miliontém hodu se hody opakují.\n",
    "\n",
    "Jediným skutečně dokonalým generátorem náhodných čísel jsou kvantové jevy, o něco méně dokonalé jsou různé šumy vzniklé jako důsledek některých komplexních procesů, příkladem je tepelný šum (detaili viz https://en.wikipedia.org/wiki/Hardware_random_number_generator).\n",
    "\n",
    "V praxi však převažují softwarové generátory využívající aplikaci elementárních aritmetických posloupností na pomocná data uložená v paměti. Ty sice mají mnohem horší kvalitu (např. jen částečně splňují druhou podmínku), ale dokáží ryhle produkovat velká množství náhodných dat bez investic  do drahých hardwarových generátorů. Navíc pro mnoho účelů stačí (fyzikální modelování, počítačové hry). Nejmodernější trendem jsou smíšené generátory integrované do CPU (viz např.instrukce RDRAND https://en.wikipedia.org/wiki/RdRand)."
   ]
  },
  {
   "cell_type": "markdown",
   "metadata": {},
   "source": [
    "Standardní knihovny Pythonu podporuje kvalitní softwarový generátor prostřednictvím modulu `random` (existují však i lepší alternativy se kterými se ještě seznámíme). Modul nabízí několik funkcí, z nichž ta pro nás nejdůležitější je `random.uniform`:"
   ]
  },
  {
   "cell_type": "code",
   "execution_count": 248,
   "metadata": {},
   "outputs": [
    {
     "name": "stdout",
     "output_type": "stream",
     "text": [
      "39.77648413346149\n"
     ]
    }
   ],
   "source": [
    "from random import uniform\n",
    "\n",
    "print( uniform(0,100)) # vrací náhodné číslo s rovnoměrným rozdělením v intervalu 0 a 100 (včetně)"
   ]
  },
  {
   "cell_type": "markdown",
   "metadata": {},
   "source": [
    "Při rovnoměrném rozdělení je zajištěno, že limita pravděpodobnosti (pro počet pokusů blížící se nekonečnu) vygenerování čísla z podintervalu $[\\alpha,\\beta] \\in [a,b]$ (kde $[a,b]$ je interval z něhož se generují čísla) je dána pouze jeho velikostí (tj. rozdílu $\\beta-\\alpha$). Tato limitní pravděpodobnost je rovna $\\frac{\\beta-\\alpha}{b-a}$"
   ]
  },
  {
   "cell_type": "markdown",
   "metadata": {},
   "source": [
    "> **Dílčí úkol**: \n",
    "\n",
    "> Ověřte, že rozdělení generátoru se blíží rovnoměrnému rozdělení. V programu generujte čísla v rozsahu $[0,1]$ a zjistěte s jakou pravděpodobností leží v (náhodně zvoleném) intervalu $[0.42, 0.52]$. Zjištěná pravděpodobnost pro dostatečně velký počet generovaných čísel by se měla blížit $\\frac{0.52-0.42}{1-0} = 0.1$\n",
    "\n",
    "> Rada počet pokusů (= počet iterací cyklu) volte v řádu stovek tisíc."
   ]
  },
  {
   "cell_type": "code",
   "execution_count": 251,
   "metadata": {
    "tags": [
     "h"
    ]
   },
   "outputs": [
    {
     "name": "stdout",
     "output_type": "stream",
     "text": [
      "0.09999375\n"
     ]
    }
   ],
   "source": [
    "count = 0 # čítač\n",
    "n = 800_000 # počet pokusů\n",
    "\n",
    "for i in range(n):  # n-krát \n",
    "    x = uniform(0,1)\n",
    "    if 0.42 <= x <= 0.52:\n",
    "        count += 1\n",
    "\n",
    "print(count/n)"
   ]
  },
  {
   "cell_type": "markdown",
   "metadata": {},
   "source": [
    "Nyní se vraťme k anšemu hlavnímu úkolu. Nejdříve musíme vygenerovat seznam 100 (různých) náhodných čísel. Prozatím však umíme generovat jen jednotlivá náhodná čísla. Jak z nich vytvoříme seznam?\n",
    "\n",
    "Prozatím známe čtyři způsoby jak vkládat položky do seznamů:\n",
    "\n",
    "1) uvedení všech položek v explicitním zápise seznamu\n",
    "\n",
    "2) přidávaní položek metodou `append`\n",
    "\n",
    "3) vkládání položek metodou `insert`\n",
    "\n",
    "4) přiřazením hodnot do existujicích položek (`seznam[i] = ....`)\n",
    "\n",
    "I když je možnost (1) nejjednodušší má zásadní nedostatek. Vytvoření seznamu dvou náhodných čísel je snadné:"
   ]
  },
  {
   "cell_type": "code",
   "execution_count": 253,
   "metadata": {},
   "outputs": [
    {
     "name": "stdout",
     "output_type": "stream",
     "text": [
      "[10.674020395502826, 15.467873301026048]\n"
     ]
    }
   ],
   "source": [
    "cisla = [uniform(0,100), uniform(0,100)]\n",
    "print(cisla)"
   ]
  },
  {
   "cell_type": "markdown",
   "metadata": {},
   "source": [
    "Zápis 100-prvkového seznamu pomocí tohoto zápisu je však dosti nepohodlný (a co když si vymyslím seznam 1000 čísel).\n",
    "\n",
    "Možnost (4) je již rozumná, neboť ji lze provést v cyklu (v každé iteraci nastavíme i-tý prvek). Má to však malý háček, nastavit (změnit) lze jen existující položky (přístup k neexistující položce vyvolá výjimky). Proto nejdříve musíme vytvořit libovolné stoprvkovy seznam.\n",
    "\n",
    "Nejjednodušší možností je operátor `*`, který je-li použit na seznam vytváří nový seznam tvořené n-násobným opakováním původního seznamu."
   ]
  },
  {
   "cell_type": "code",
   "execution_count": 254,
   "metadata": {},
   "outputs": [
    {
     "data": {
      "text/plain": [
       "[0, 1, 2, 0, 1, 2, 0, 1, 2]"
      ]
     },
     "execution_count": 254,
     "metadata": {},
     "output_type": "execute_result"
    }
   ],
   "source": [
    "[0, 1, 2] * 3 # třikrát se opakuje"
   ]
  },
  {
   "cell_type": "markdown",
   "metadata": {},
   "source": [
    "Nyní již víme, jak tímto způsobem vytvořit seznam 100 náhodných čísel v daném rozdělení (pro porovnání časové efektivity necháme provést benchmarking pomocí makockého příkazu `%%timeit`)"
   ]
  },
  {
   "cell_type": "code",
   "execution_count": 290,
   "metadata": {},
   "outputs": [
    {
     "name": "stdout",
     "output_type": "stream",
     "text": [
      "3.59 µs ± 124 ns per loop (mean ± std. dev. of 7 runs, 100000 loops each)\n"
     ]
    }
   ],
   "source": [
    "%%timeit\n",
    "p = [0.0] * 10  # vytvoříme seznam 10 hodnot 0.0 \n",
    "for i in range(10): # a stokrát (řídící proměnná není dále využita)\n",
    "    p[i] = uniform(0,100) # a přepíšeme je náhodným obsahem"
   ]
  },
  {
   "cell_type": "markdown",
   "metadata": {},
   "source": [
    "Toto řešení není špatné, ale může se jevit neefektivní.  Seznam je totiž plněn dvakrát (přičemž první nastavené hodnoty tj. nuly nejsou nikde použity)."
   ]
  },
  {
   "cell_type": "markdown",
   "metadata": {},
   "source": [
    "Zkusíme tedy i druhý základní. Na začátku vytvoříme prázdný seznam, do něhož budeme postupně přidávat náhodná čísla. Nejjefektivnějším způsobem přidávání je přidávání na konec (metoda `append`), neboť vkládáná na jakoukoliv jinou pozici vyžaduje posun položky před níž provádíme vkládání a všech následujících. Vyzkoušíme tedy nejdříve řešení s přidáváním na konci."
   ]
  },
  {
   "cell_type": "code",
   "execution_count": 291,
   "metadata": {},
   "outputs": [
    {
     "name": "stdout",
     "output_type": "stream",
     "text": [
      "3.87 µs ± 19.7 ns per loop (mean ± std. dev. of 7 runs, 100000 loops each)\n"
     ]
    }
   ],
   "source": [
    "%%timeit\n",
    "p = []  # seznam je na začátku prázdný\n",
    "for i in range(10): # a stokrát\n",
    "    p.append(uniform(0,100)) # přidám na nové náhodné číslo na konec"
   ]
  },
  {
   "cell_type": "markdown",
   "metadata": {},
   "source": [
    "Kupodivu je to ještě o pár mikrosekund horší. Důvodem je skutečnost, že při zvětšování seznam musí systém alokovat další paměť pro položku a to přináší dodatečnou režii (Python není tak hloupý, aby to dělal pro každou přidanou položku, paměť alokuje po větších úsecích)."
   ]
  },
  {
   "cell_type": "markdown",
   "metadata": {},
   "source": [
    "A pouze pro kontrolu řešení s přidáváním na začátku (což je nejhorší možnost, neboť při každém vkládání je potřeba o jednu pozici posunout všechny dříve vložené položky)."
   ]
  },
  {
   "cell_type": "code",
   "execution_count": 292,
   "metadata": {},
   "outputs": [
    {
     "name": "stdout",
     "output_type": "stream",
     "text": [
      "4.71 µs ± 37.8 ns per loop (mean ± std. dev. of 7 runs, 100000 loops each)\n"
     ]
    }
   ],
   "source": [
    "%%timeit\n",
    "p = []  # seznam je na začátku prázdný\n",
    "for i in range(10): # a stokrát\n",
    "    p.insert(0, uniform(0,100)) # přidám náhodné číslo na začátek"
   ]
  },
  {
   "cell_type": "markdown",
   "metadata": {},
   "source": [
    "Zde už je rozdíl zřejmější (je to o cca 50% pomalejší). U delších seznamů bude rozdíl ještě propastnější."
   ]
  },
  {
   "cell_type": "markdown",
   "metadata": {},
   "source": [
    "Nyní je potřeba spočítat aritmetický průměr ze všech hodnot seznamu. Něco podobného jsme už programovali, stačí v cyklu  přičítat položky do sumační proměnné a následně provést podíl součtu a počtu položek. V Pythonu však lze běžné operace provádět i elegantněji. Pro sumaci seznamů (a dalších podobných kolekcí) slouží vestavěná funkce `sum`, průměr lze tedy vypočíst na jediném  řádku. Nejdříve však musíme vytvořit znovu pole náhodných čísel, neboť proměnné vytvořené v sekci za `%%timeit` nejsou globální tj, viditelné v celém notebooku."
   ]
  },
  {
   "cell_type": "code",
   "execution_count": 293,
   "metadata": {},
   "outputs": [
    {
     "name": "stdout",
     "output_type": "stream",
     "text": [
      "43.00803957546755\n"
     ]
    }
   ],
   "source": [
    "n = 10 # požadovaný počet položek\n",
    "\n",
    "p = [0.0] * n  # volíme nejrychlejší přístup\n",
    "for i in range(n):\n",
    "    p[i] = uniform(0,100)\n",
    "    \n",
    "# a nyní spočítáme průměr\n",
    "prumer = sum(p)/n\n",
    "print(prumer) # měl by být blízký 50"
   ]
  },
  {
   "cell_type": "code",
   "execution_count": null,
   "metadata": {
    "collapsed": true
   },
   "outputs": [],
   "source": []
  },
  {
   "cell_type": "markdown",
   "metadata": {},
   "source": [
    "Rozdělení seznamu na dva podseznamy se podobá známému úkolu pro Popelku, neboť čísla nejsou v seznamu nijak uspořádána a tak se malá čísla zcela náhodně prolínají s velkými. Podívejme se na seznam."
   ]
  },
  {
   "cell_type": "code",
   "execution_count": 294,
   "metadata": {},
   "outputs": [
    {
     "data": {
      "text/plain": [
       "[33.483177234077054,\n",
       " 64.11740507936643,\n",
       " 52.34073528150165,\n",
       " 47.430316193888224,\n",
       " 2.8351894009906453,\n",
       " 24.827843626277957,\n",
       " 52.80898118902153,\n",
       " 23.021855989285655,\n",
       " 63.439170800784815,\n",
       " 65.77572095948145]"
      ]
     },
     "execution_count": 294,
     "metadata": {},
     "output_type": "execute_result"
    }
   ],
   "source": [
    "p"
   ]
  },
  {
   "cell_type": "markdown",
   "metadata": {},
   "source": [
    "I v tomto malém vzorku naáhodně prolínají jak čísla menší než průměr tak čísla větší. Podobají se tak misce čočky a hrachu, s nímž Popelce museli pomoci holoubci. Naše situace je jednodušší, neboť máme Python.\n",
    "\n",
    "Doufám, že Vás napadlo alespoň jedno řešení. Mně napadla nejdříve tato dvě:\n",
    "\n",
    "1. Procházet postupně seznam náhodných čísel pomocí cyklu `for`. Každé číslo porovnat s průměrem a podle výsledku porovnání číslo přidat do seznamu menších nebo větších čísel (tyto seznamy jsou vytvořeny ještě před vstupem do cyklu jako prázdné)\n",
    "2. Nejdřívě seznam uspořádat (vzestupně). Poté najít hranici mezi většími a menšími čísly (měla by být někde v okolí středu seznamu). Oba seznamy pak lze vytvořit pomocí výřezu, menší čísla se totiž nacházejí od první položky k hraničnímu číslu, větší čísla od tohoto hraničního čísla až do konce seznamu.\n",
    "\n",
    "Zkusíme nejdřívě naprogramovat první řešení, neboť je přímočařejší (viz čočka a hrách):"
   ]
  },
  {
   "cell_type": "code",
   "execution_count": 295,
   "metadata": {},
   "outputs": [
    {
     "name": "stdout",
     "output_type": "stream",
     "text": [
      "[33.483177234077054, 2.8351894009906453, 24.827843626277957, 23.021855989285655]\n",
      "[64.11740507936643, 52.34073528150165, 47.430316193888224, 52.80898118902153, 63.439170800784815, 65.77572095948145]\n"
     ]
    }
   ],
   "source": [
    "mensi = []\n",
    "vetsi = []\n",
    "for x in p: # projdeme seznam nájodných čísel\n",
    "    if x < prumer:\n",
    "        mensi.append(x)  # je-li menší průměru přidáme do prvního seznamu\n",
    "    else:\n",
    "        vetsi.append(x)  # jinak (je větší nebo rovno průměru) do druhého\n",
    "print(mensi)\n",
    "print(vetsi)"
   ]
  },
  {
   "cell_type": "markdown",
   "metadata": {},
   "source": [
    "Druhé řešení se jeví jako elegantnější (především pro ty, kteří mají rádi pořádek). Hlavním problémem je najít hraniční položku, což pro nás bude první položka v uspořádaném seznamu, která je větší než průměr (může to samozřejmě být opačně i poslední menší průměru, ale první přístup zjednoduší indexování).\n",
    "\n",
    "Jak tuto položku najdeme? Jak bylo řečeno výše nachází se někde kolem poloviny seznamu (viz pravděpodobnosti podintervalů v rovnoměrném rozdělení). Zkusíme tedy nejdříve položku uprostřed (s indexem `len(p)//2`) jako první odhad (nástřel) hraniční položky. Pokud je menší než průměr, pak postupně procházíme položky vpravo (s vyšším indexem), dokud nenajdeme první, která je větší (což je hraniční). Pokud je střední položka větší než průměr jdeme naopak doleva (k menším indexům) a hledáme první, která je menší (což je položka s indexem o jedna menší než je hraniční)."
   ]
  },
  {
   "cell_type": "code",
   "execution_count": 296,
   "metadata": {},
   "outputs": [
    {
     "name": "stdout",
     "output_type": "stream",
     "text": [
      "pro kontrolu průměr je 43.00803957546755\n",
      "[2.8351894009906453, 23.021855989285655, 24.827843626277957, 33.483177234077054]\n",
      "[47.430316193888224, 52.34073528150165, 52.80898118902153, 63.439170800784815, 64.11740507936643, 65.77572095948145]\n"
     ]
    }
   ],
   "source": [
    "p.sort() # setřídíme položky od nejmenší k největším\n",
    "hranice = len(p)//2  # první odhad\n",
    "if p[hranice] < prumer:\n",
    "    while p[hranice] < prumer:\n",
    "        hranice += 1\n",
    "else:\n",
    "    while p[hranice] >= prumer:\n",
    "        hranice -= 1\n",
    "    hranice += 1 # jsme na posledním menším, musíme se posunout na první větší\n",
    "\n",
    "mensi = p[:hranice] # hranice je index vyjma, což je správně (hranice je první větší)\n",
    "vetsi = p[hranice:] # tentokrát je položka s indexem hranice zahrnut\n",
    "print(f\"pro kontrolu průměr je {prumer}\")\n",
    "print(mensi)\n",
    "print(vetsi)"
   ]
  },
  {
   "cell_type": "markdown",
   "metadata": {},
   "source": [
    "Obě řešení mají své výhody a nedostatky: přímočarý přístup je efektivnější, neboť seřazení celého pole není zadarmo (ve skutečnosti může být u velkých polí výrazně pomalejší). Toto řešení je i pochopitelnější. Řešení využívající seřazeného pole je oproti tomu mnohem snadněji kontrolovatelné (díky seřazení, je na první pohled zřejmé, že se rozdělení provedlo správně). \n",
    "\n",
    "Ve skutečnosti však existuje ještě jedno řešení, které je ještě efektivnější než přímočarý přístup a navíc relativně snadno pochopitelné. Navíc stejně jako řešení založené na seřazení vychází z přeuspořádání čísel, tak aby ty menší (něž průměr) byly  vlevo a ty větší vpravo. Navíc vychází z postřehu, že ještě před rozřazením se řádově polovina čísel nachází na správné straně původního seznamu, takže by bylo nejlepší s nimi vůbec nehýbat.\n",
    "\n",
    "Z tohoto pozorování lze již relativně snadno odvodit algoritmus. Jádrem je prohození prvků mezi levou a pravou částí seznamu, pokud jsou tyto prvky v nesprávné části (tj. velká čísla v levé a malá v pravé). Navíc musíme být důslední, takže špatně umístěné prvky hledáme nejdříve co nejvíce vlevo (větší než průměr) resp. vpravo (menší než průměr).\n",
    "\n",
    "Výsledkem je algoritmus pracující se dvěma indexy — levým (na začátku ma hodnotu 0 tj. odkazuje první prvek) a pravým (na začátku odkazuje poslední prvek s indexem $n-1$).\n",
    "\n",
    "Nejdříve najdeme první špatně umístěný prvek zleva (první, který je větší průměr), a to tím, že postupně posouváme levý index (přičítáním jedničky). Podobně najdeme i první špatně umístěný prvek zprava (poslední, který je menší než průměr)\n",
    "tentokrát posouváme pravý index opačným směrem (odečítáním jedničky). Po skončení této fáze může nastat situace, že levý index odkazuje na prvek vpravo od prvku, na nějž odkazuje pravý index (tj. levý je vpravo a pravý vlevo tzv. inverze indexů). V tomto případě máme vyhráno, neboť seznam je rozdělen tak jak potřebujeme (a levý index je hraniční).\n",
    "\n",
    "V opačném případě ještě nemáme hotovo. Musíme prohodit prvky indexované levým a pravým indexem (oba indexy určitě odkazují různé prvky). Následně oba indexy posuneme o jednu položku vpravo (levý index) resp. vpravo (pravý index), abychom  zbytečně v dalším kroku nekontrolovali již prohozené prvky. \n",
    "\n",
    "Nyní znovu zkontrolujeme, zda nedošlo k inverzi indexů (pokud ano můžeme skončit) a pokračujeme hledáním dalších špatně umístěných prvků. \n",
    "\n",
    "Celý algoritmus pro malý ukázkový seznam ilustruje následující obrázek."
   ]
  },
  {
   "cell_type": "markdown",
   "metadata": {},
   "source": [
    "![prohozeni prvku](vymena.png)"
   ]
  },
  {
   "cell_type": "markdown",
   "metadata": {},
   "source": [
    " Implemenrace v Pythonu je přímočará. Jádrem je využití cyklů `while` a to dokonce ve dvou úrovních (použité cyklu `while` je zřejmé, neboť neznáme počty výměn ani vzdálenosti mezi špatně umístěnými prvky)."
   ]
  },
  {
   "cell_type": "code",
   "execution_count": 316,
   "metadata": {},
   "outputs": [
    {
     "name": "stdout",
     "output_type": "stream",
     "text": [
      "[78.3721686147812, 71.64731447752477, 55.29858610664697, 25.841241079501774, 58.04103421863217, 87.2575698485105, 93.71607216076043, 72.9654827575575, 56.44719817864136, 1.310209561722997]\n",
      "60.089687700427966\n",
      "[1.310209561722997, 56.44719817864136, 55.29858610664697, 25.841241079501774, 58.04103421863217]\n",
      "[87.2575698485105, 93.71607216076043, 72.9654827575575, 71.64731447752477, 78.3721686147812]\n"
     ]
    }
   ],
   "source": [
    "n = 10\n",
    "p = [0.0] * n  # inicializace pole náhodných hodnot\n",
    "for i in range(n):\n",
    "    p[i] = uniform(0,100)\n",
    "print(p)\n",
    "    \n",
    "# nyní spočítáme průměr\n",
    "prumer = sum(p)/len(p)\n",
    "print(prumer) \n",
    "\n",
    "levy = 0  # počáteční nastavení levého indexu (první položka)\n",
    "pravy = n - 1 # počáteční nastavení pravého indexu (poslední položka)\n",
    "\n",
    "while(levy<= pravy):  # dokud nedojde k inverzi indexů\n",
    "    while(p[levy] < prumer):  # posun levého indexu na první (prozatím neprohozený) špatně umístěný prvek\n",
    "        levy += 1\n",
    "    while(p[pravy] >= prumer): # posun pravého indexu na poslední (prozatím neprohozený) špatně umístěný prvek\n",
    "        pravy -= 1\n",
    "    if levy < pravy:  # opět kontrolujeme zda nedošlo k inverzi\n",
    "        p[levy], p[pravy] = p[pravy], p[levy]  # pokud ne, prohodíme prvky\n",
    "        levy += 1  # posuneme se na následující položku u levého\n",
    "        pravy -= 1  # a předcházející \n",
    "\n",
    "print(p[:levy])     # vypíšeme seznam menších než průměr\n",
    "print(p[pravy+1:])  # a větších než průměr "
   ]
  },
  {
   "cell_type": "markdown",
   "metadata": {
    "collapsed": true
   },
   "source": [
    ">  **Úkol**: Ve výše uvedené implementaci se na dvou místech kontroluje, zda bylo dosaženo konce (tj. k inverzi indexů). Navíc podmínka vnějšího cyklu explicitně zahrnuje i rovnost (tj. rovnost, ještě není inverze). Argumentujte proč? Svouji argumentaci podpořte příkladem, v němž je tento rozdíl kritický. "
   ]
  },
  {
   "cell_type": "markdown",
   "metadata": {},
   "source": [
    "> **Úkol**: Zkuste napsat alternativní implementaci, která eleminuje dvojí testování inverze indexů. \n",
    "    \n",
    "> Rada: Nadbytečná je podmínka vnějšího cyklu `while`, tento cyklus může být formálně nekonečný (podmínka je stále pravdivá), zakončení zajistí výskok z cyklu (`break`)"
   ]
  },
  {
   "cell_type": "code",
   "execution_count": 334,
   "metadata": {
    "tags": [
     "h"
    ]
   },
   "outputs": [
    {
     "name": "stdout",
     "output_type": "stream",
     "text": [
      "[17.777508951901567, 26.61167135099044, 83.01888427614219, 53.008732947055215, 49.31410984666847, 23.06166432511597, 38.74583385951125, 67.14299023939662, 91.80103304554719, 4.167330088280696]\n",
      "45.46497589306096\n",
      "[17.777508951901567, 26.61167135099044, 4.167330088280696, 38.74583385951125, 23.06166432511597]\n",
      "[49.31410984666847, 53.008732947055215, 67.14299023939662, 91.80103304554719, 83.01888427614219]\n"
     ]
    }
   ],
   "source": [
    "n = 10\n",
    "p = [0.0] * n  # inicializace pole náhodných hodnot\n",
    "for i in range(n):\n",
    "    p[i] = uniform(0,100)\n",
    "print(p)\n",
    "    \n",
    "# nyní spočítáme průměr\n",
    "prumer = sum(p)/len(p)\n",
    "print(prumer) \n",
    "\n",
    "levy = 0  # počáteční nastavení levého indexu (první položka)\n",
    "pravy = n - 1 # počáteční nastavení pravého indexu (poslední položka)\n",
    "\n",
    "while True:  # dokud nedojde k inverzi indexů\n",
    "    while(p[levy] < prumer):  # posun levého indexu na první (prozatím neprohozený) špatně umístěná prvek\n",
    "        levy += 1\n",
    "    while(p[pravy] >= prumer): # posun pravého indexu na poslední (prozatím neprohozený) špatně umístěný prvek\n",
    "        pravy -= 1\n",
    "    if levy > pravy: # inverze indexů končíme cyklus\n",
    "        break    \n",
    "    p[levy], p[pravy] = p[pravy], p[levy]  # pokud ne, prohodíme prvky\n",
    "    levy += 1  # posuneme se na následující položku u levého\n",
    "    pravy -= 1  # a předcházející \n",
    "    \n",
    "print(p[:levy])     # vypíšeme seznam menších než průměr\n",
    "print(p[pravy+1:])  # a větších než průměr "
   ]
  },
  {
   "cell_type": "markdown",
   "metadata": {},
   "source": [
    "### Seznamová komprehenze"
   ]
  },
  {
   "cell_type": "markdown",
   "metadata": {},
   "source": [
    "V předchozí části jsme se seznámili s třemi\n",
    "základními metodami vytváření rozsáhlejších seznamů:\n",
    "\n",
    "1. plnění seznamu z objektů rozsahu `range`\n",
    "2. přidávání nových prvků na konec seznamu v rámci cyklu\n",
    "3. n-násobné opakování (menšího seznamu)"
   ]
  },
  {
   "cell_type": "code",
   "execution_count": 339,
   "metadata": {},
   "outputs": [
    {
     "name": "stdout",
     "output_type": "stream",
     "text": [
      "[1, 3, 5, 7, 9]\n"
     ]
    }
   ],
   "source": [
    "posloupnost = list(range(1,10,2)) # plnění z rozsahu (od 1 do 10 vyjma s krokem 2)\n",
    "print(posloupnost)\n"
   ]
  },
  {
   "cell_type": "code",
   "execution_count": 337,
   "metadata": {},
   "outputs": [
    {
     "name": "stdout",
     "output_type": "stream",
     "text": [
      "[0, 1, 4, 9, 16, 25, 36, 49, 64, 81]\n"
     ]
    }
   ],
   "source": [
    "ctverce = []   # pole druhých mocnim\n",
    "for i in range(10):\n",
    "    ctverce.append(i*i)\n",
    "print(ctverce)"
   ]
  },
  {
   "cell_type": "code",
   "execution_count": 338,
   "metadata": {},
   "outputs": [
    {
     "name": "stdout",
     "output_type": "stream",
     "text": [
      "[0, 0, 0, 0, 0, 0, 0, 0, 0, 0]\n"
     ]
    }
   ],
   "source": [
    "sameNuly = [0] * 10\n",
    "print(sameNuly)"
   ]
  },
  {
   "cell_type": "markdown",
   "metadata": {},
   "source": [
    "Z těchto tří způsobů je nejobecnější použití `append` v cyklu. Pomocí cyklu lze snadno vytvářet seznamy tvořené posloupnostmi čísel resp. seznamy tvořené opakovaným vzorem. Bohužel je také nejméně přehledné, neboť vyžaduje minimálně tří příkazy (= řádky) kódu: inicializaci, hlavičku `for`-cyklu a jeho tělo (s volaním metody `append`).\n",
    "\n",
    "Python proto podporuje i zápis, který vychází z přidávajího cyklu je však výrazně přehlednější --- seznamovou komprehenzi (český název prozatím neexistuje). Syntaxe má tento tvar:\n",
    "\n",
    "```\n",
    "[výraz for proměnná in zdroj]\n",
    "```\n",
    "\n",
    "\n",
    "kde, `proměnná` je řídicí proměnná komprehenze (obdoba řídicí proměnné cyklu), `zdroj` je objekt poskytující posloupnost hodnot (rozsah, jiný seznam nebo sekvenční kolekce). Klíčovou částí je pak počáteční výraz, který je vyhodnocen nad každým objektem získaným nad zdrojem. Výsledky tohoto vyhodnocení postupně tvoří prvky nového seznamu.\n",
    "\n",
    "Ukažme si několik jednoduchých příkladů:"
   ]
  },
  {
   "cell_type": "code",
   "execution_count": 340,
   "metadata": {},
   "outputs": [
    {
     "data": {
      "text/plain": [
       "[0, 1, 4, 9, 16, 25, 36, 49, 64, 81]"
      ]
     },
     "execution_count": 340,
     "metadata": {},
     "output_type": "execute_result"
    }
   ],
   "source": [
    "[i*i for i in range(10)] #"
   ]
  },
  {
   "cell_type": "markdown",
   "metadata": {},
   "source": [
    "Výsledkem je seznam hodnot `i*i` (druhých mocnin), kde `i` postupně nabývá hodnot od nuly (včetně) do 10 (vyjma). Všimněte si i základního rozdílu mezi komprehenzí a `for`-cyklem (navzdory výrazné syntaktické podobnosti). Cyklus nevrací žádnou hodnotu (není to výraz), pouze uvnitř modifikuje proměnné nebo objekty. Komprehenze žádné proměnné (kromě řídicí) ani objekty nemění pouze vytváří nové objekty, které umisťuje do nově vytvářeného seznamu) "
   ]
  },
  {
   "cell_type": "code",
   "execution_count": 341,
   "metadata": {},
   "outputs": [
    {
     "data": {
      "text/plain": [
       "[0, 0, 0, 0, 0, 0, 0, 0, 0, 0]"
      ]
     },
     "execution_count": 341,
     "metadata": {},
     "output_type": "execute_result"
    }
   ],
   "source": [
    "[0 for i in range(10)] # pole deseti nul"
   ]
  },
  {
   "cell_type": "markdown",
   "metadata": {},
   "source": [
    "Stejně jako u cyklů nemusíte řídicí proměnnou vůbec využívat (důležité je pouze to, že nula se přidá do pole desetkrát)."
   ]
  },
  {
   "cell_type": "code",
   "execution_count": 345,
   "metadata": {},
   "outputs": [
    {
     "data": {
      "text/plain": [
       "[86.96142559306514,\n",
       " 41.82976507293535,\n",
       " 73.09569537407411,\n",
       " 75.55173611012951,\n",
       " 85.4659253312693,\n",
       " 6.957672108421442,\n",
       " 89.16447356230772,\n",
       " 14.042703100114174,\n",
       " 30.295117907156055,\n",
       " 54.58454459759194]"
      ]
     },
     "execution_count": 345,
     "metadata": {},
     "output_type": "execute_result"
    }
   ],
   "source": [
    "from random import uniform\n",
    "\n",
    "[uniform(0,100) for i in range(10)]"
   ]
  },
  {
   "cell_type": "markdown",
   "metadata": {},
   "source": [
    "Vytvoření seznamu náhodných hodnot je pomocí komprehenze snadné. \n",
    "\n",
    "Další možnosti přináší rozšíření komprehenze o sekci `if` pomocí níž lze filtrovat jen některé položky získané ze zdroje."
   ]
  },
  {
   "cell_type": "code",
   "execution_count": 349,
   "metadata": {},
   "outputs": [
    {
     "data": {
      "text/plain": [
       "[25, 121, 225, 256, 289, 324, 529, 625, 729]"
      ]
     },
     "execution_count": 349,
     "metadata": {},
     "output_type": "execute_result"
    }
   ],
   "source": [
    "[i*i for i in range(1,30) if \"2\" in str(i*i)]"
   ]
  },
  {
   "cell_type": "markdown",
   "metadata": {},
   "source": [
    "Tato komprehenze prochází všechny čísla od jedné do 30 a vytváří seznam některách jejich druhých mocnin, a to jen je těch jejichž druhá mocnina obsahuje číslici 2 (testování číslic se děje pomocí hledání znaků v řetězcové representaci čísla). "
   ]
  },
  {
   "cell_type": "code",
   "execution_count": 352,
   "metadata": {},
   "outputs": [
    {
     "name": "stdout",
     "output_type": "stream",
     "text": [
      "[37.974271587243614, 29.750719049039233, 52.072164495303234, 48.30461024511137, 33.33491001914074]\n",
      "[82.67089928640613, 74.27670300996004, 75.38932687843393, 94.46348806824156, 77.14109834588017]\n"
     ]
    }
   ],
   "source": [
    "p = [uniform(1,100) for i in range(10)] # deset náhodných čísel\n",
    "prumer = sum(p)/len(p)\n",
    "\n",
    "mensi = [x for x in p if x < prumer]\n",
    "vetsi = [x for x in p if x >= prumer]\n",
    "\n",
    "print(mensi)\n",
    "print(vetsi)"
   ]
  },
  {
   "cell_type": "markdown",
   "metadata": {},
   "source": [
    "Další řešení příkladu, který jsme diskutovali v předchozí kapitole (podseznam čísel menších resp. větších než průměr). Toto řešení je rozhodně nejjednodušší a tím i nejlépe čitelné. Na druhou stranu je nejpomalejší (v zásadě se jedná o variantu postupného procházení seznamu a průběžného vytváření nového seznamu). Pro seznamy běžné velikosti (tisíce položek) je však rozdíl daný nižší efektivností zanedbatelný a jasně vyhrává elegance a jednoduchost zápisu (strojový čas je mnohem levnější než práce programátora)."
   ]
  },
  {
   "cell_type": "markdown",
   "metadata": {},
   "source": [
    "> **Úkol**: Pomocí komprehenze vytvořte seznam obsahující čísla [0, 0.1, 0.2, … 1.9] (krok 0.1)"
   ]
  },
  {
   "cell_type": "code",
   "execution_count": 355,
   "metadata": {
    "tags": [
     "h"
    ]
   },
   "outputs": [
    {
     "data": {
      "text/plain": [
       "[0.0,\n",
       " 0.1,\n",
       " 0.2,\n",
       " 0.30000000000000004,\n",
       " 0.4,\n",
       " 0.5,\n",
       " 0.6000000000000001,\n",
       " 0.7000000000000001,\n",
       " 0.8,\n",
       " 0.9,\n",
       " 1.0,\n",
       " 1.1,\n",
       " 1.2000000000000002,\n",
       " 1.3,\n",
       " 1.4000000000000001,\n",
       " 1.5,\n",
       " 1.6,\n",
       " 1.7000000000000002,\n",
       " 1.8,\n",
       " 1.9000000000000001]"
      ]
     },
     "execution_count": 355,
     "metadata": {},
     "output_type": "execute_result"
    }
   ],
   "source": [
    "[0.1*i for i in range(20)]"
   ]
  },
  {
   "cell_type": "markdown",
   "metadata": {},
   "source": [
    "> **Úkol**: Vytvořte pomocí komprehenze seznam řetězců [\"a\", \"b\", \"c\", … \"z\"].\n",
    "    \n",
    "> Rada: Využijte vetavěnou funkci `chr` která vrací řetězec tvořený znakem, jehož interní kód je předán jako parametr (znaky jsou v počítači representovány číslem, které identifikuje znak v rozsáhlé tabulce všech znaků). Běžné (anglické) znaky tvoří v této tabulce souvislou posloupnost:"
   ]
  },
  {
   "cell_type": "code",
   "execution_count": 362,
   "metadata": {},
   "outputs": [
    {
     "name": "stdout",
     "output_type": "stream",
     "text": [
      "a\n",
      "b\n",
      "z\n"
     ]
    }
   ],
   "source": [
    "print(chr(97))\n",
    "print(chr(98))\n",
    "print(chr(122))"
   ]
  },
  {
   "cell_type": "code",
   "execution_count": 363,
   "metadata": {
    "tags": [
     "h"
    ]
   },
   "outputs": [
    {
     "data": {
      "text/plain": [
       "['a',\n",
       " 'b',\n",
       " 'c',\n",
       " 'd',\n",
       " 'e',\n",
       " 'f',\n",
       " 'g',\n",
       " 'h',\n",
       " 'i',\n",
       " 'j',\n",
       " 'k',\n",
       " 'l',\n",
       " 'm',\n",
       " 'n',\n",
       " 'o',\n",
       " 'p',\n",
       " 'q',\n",
       " 'r',\n",
       " 's',\n",
       " 't',\n",
       " 'u',\n",
       " 'v',\n",
       " 'w',\n",
       " 'x',\n",
       " 'y',\n",
       " 'z']"
      ]
     },
     "execution_count": 363,
     "metadata": {},
     "output_type": "execute_result"
    }
   ],
   "source": [
    "[chr(i) for i in range(97,123)]"
   ]
  },
  {
   "cell_type": "markdown",
   "metadata": {},
   "source": [
    "> **Úkol**: Vytvořte 16-prvkový seznam tvořený střídajícími se hodnotami `True` a  `False` (první je optimisticky `True`)"
   ]
  },
  {
   "cell_type": "code",
   "execution_count": 364,
   "metadata": {
    "tags": [
     "h"
    ]
   },
   "outputs": [
    {
     "data": {
      "text/plain": [
       "[True,\n",
       " False,\n",
       " True,\n",
       " False,\n",
       " True,\n",
       " False,\n",
       " True,\n",
       " False,\n",
       " True,\n",
       " False,\n",
       " True,\n",
       " False,\n",
       " True,\n",
       " False,\n",
       " True,\n",
       " False]"
      ]
     },
     "execution_count": 364,
     "metadata": {},
     "output_type": "execute_result"
    }
   ],
   "source": [
    "[True, False] * 8"
   ]
  },
  {
   "cell_type": "code",
   "execution_count": null,
   "metadata": {
    "collapsed": true
   },
   "outputs": [],
   "source": []
  }
 ],
 "metadata": {
  "celltoolbar": "Tags",
  "kernelspec": {
   "display_name": "Python 3",
   "language": "python",
   "name": "python3"
  },
  "language_info": {
   "codemirror_mode": {
    "name": "ipython",
    "version": 3
   },
   "file_extension": ".py",
   "mimetype": "text/x-python",
   "name": "python",
   "nbconvert_exporter": "python",
   "pygments_lexer": "ipython3",
   "version": "3.6.5"
  }
 },
 "nbformat": 4,
 "nbformat_minor": 2
}
