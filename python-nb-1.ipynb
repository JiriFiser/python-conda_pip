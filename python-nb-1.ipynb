{
 "cells": [
  {
   "cell_type": "markdown",
   "metadata": {},
   "source": [
    "# Programování a Python"
   ]
  },
  {
   "cell_type": "markdown",
   "metadata": {},
   "source": [
    "## Co je programování?"
   ]
  },
  {
   "cell_type": "markdown",
   "metadata": {},
   "source": [
    "**Programování** je v současné češtině (resp. *coding* v současné angličtině) relativně běžné slovo. Stejně jako slova *integrál* nebo *kvantum* je však spojováno se subkulturou ne zcela normálních lidí, pro něž má angličtina slovo *nerd* (české *mimoň* není zcela přesným ekvivalentem).\n",
    "\n",
    "``\n",
    "Je to osoba vnímaná jako nadprůměrně inteligentní až obsesivní, většinou s nedostatkem sociálních dovedností. Poznávacím znamením je jejich neschopnost chápat a navazovat sociální vztahy s většinou populace. \n",
    "...\n",
    "Typickou pracovní náplní nerdů je programování a věda.\n",
    "...\n",
    "``\n",
    "\n",
    "Česká Wikipedia, heslo `nerd` [https://cs.wikipedia.org/w/index.php?title=Nerd&oldid=15961484].\n",
    "\n",
    "![Párty na matfyzu](nerdi.jpg)\n",
    "\n",
    "Klasická představa nerdů (tzv. \"Párty na matfyzu\" resp. \"Brutální pařba informatiků\"), skutečný kontext viz např. <a href=\"http://forum24.cz/jak-dopadli-chlapci-z-brutalni-parby-informatiku-2\">forum24.cz</a>\n",
    "</center>\n",
    "\n",
    "Hlavním cílem programování však není identifikace s touto subkulturou, ale možnost lépe využívat pomoci počítačů pro řešení jednoduchých i složitějších úkolů z běžného ale především odborného života (spojení *odborný život* doufám není jen synonymum pro život nerda).\n",
    "\n",
    "Běžní uživatelé s počítači komunikují pomocí grafických rozhraní, která obsahují různé vstupní a výstupní vizuální. To je sice možné, ale podobá se to komunikaci dospělé osoby s dítětem pomocí obrázkové knížky. Dospělé osoby navzájem komunikují pomocí velmi složitého lidského jazyka, který je v případě přírodovědně orientovaných jedinců doplněn o abstraktní terminologii a o mnohdy ještě abstraktnější matematické konstrukce (funkce, rovnice).\n",
    "\n",
    "Pokud chcete s počítačem komunikovat na této úrovni nezbývá Vám nic jiného, než se naučit programovat tj. přepisovat svoje myšlenky do některého ze speciálních jazyků pro komunikaci s počítačem tzv. **programovacího jazyka**. \n",
    "\n",
    "Komunikace pomocí programovacího jazyka se může na začátku jevit jako obtížná, neboť se programovací jazyky (prozatím?) výrazně odlišují od jazyků lidských. Důvodem je jiný výchozí model digitálních počítačů (aritmetické operace mezi pamětí složené z jednotlivých paměťových buněk) a jejich omezené (především) paměťové prostředky (nelze tak prozatím simulovat lidský mozek ani lidskou komunikaci). Většina programovacích jazyků je proto založena na elementárních matematických konstrukcích (jako jsou aritmetické operace a kopírování hodnot mezi paměťovými místy). Programátoři tak museli (a do značné míry stále musejí) dobře znát některé části matematiky (naštěstí dosti elementární) a především chápat interní representaci digitálních počítačů (procesory, strojový jazyk apod.).\n",
    "\n",
    "Modernější programovací jazyky (dále jen jazyky) však nabízejí konstrukce, které jsou mnohem abstraktnější a v mnoha případech bližší lidskému myšlení (na druhé straně však v nových programovacích jazycích existují i složité koncepce, jejichž pochopení není pro člověka úplně snadné). Komunikace s počítačem tak stále ještě není komunikací mezi dvěma rovnocennými partnery, je však dostupná (a užitečná) i nenerdům."
   ]
  },
  {
   "cell_type": "markdown",
   "metadata": {},
   "source": [
    "> **Otázka:**  Čím se principiálně liší programovací jazyk od matematického zápisu (notace)?"
   ]
  },
  {
   "cell_type": "markdown",
   "metadata": {
    "tags": [
     "h"
    ]
   },
   "source": [
    "Programovací jazyk je primárně určen pro zápis počítačových programů, tj. musí být interpretovatelný počítačem.'"
   ]
  },
  {
   "cell_type": "markdown",
   "metadata": {},
   "source": [
    "## Proč právě Python?"
   ]
  },
  {
   "cell_type": "markdown",
   "metadata": {},
   "source": [
    "Stejně jako v případě přirozených jazyků (tj. jazyků určených pro komunikaci člověk ↔ člověk) existují i v případě jazyků programovacích (komunikace člověk ↔ počítač) tisíce různých jazyků a jejich dialektů. \n",
    "\n",
    "Přirozené jazyky jsou sice běžně navzájem zcela nesrozumitelné většinou však sdílejí mnoho společných koncepcí  (i přes zjevnou rozdílnost angličtiny a češtiny  oba jazyky sdílejí například protiklad podstatné jméno versus sloveso, koncepce předložek, gramatických osob a slovesných časů). Přirozené jazyky navíc běžně sdílejí tzv. sémantické pole (čeština a angličtina má řádově shodný počet slov, které v zásadě označují podobné entity a ideje). I když může být překlad mezi jazyky přirozenými jazyky obtížný, je v zásadě možný a délky obou jazykových verzí se řádově neliší (po přeložení textu z angličtiny do češtiny běžně nezískáme desetkrát delší text). \n",
    "\n",
    "U programovacích jazyků je situace poněkud odlišná. Za prvé mohou vycházet ze zcela odlišných koncepcí, která se většinou označují jako tzv. **programovací paradigmata**. Některá paradigmata jsou široce rozšířena (např. tzv. strukturované nebo procedurální) jiná jsou podporovány jediným programovacím jazykem. Existují však i rysy sdílené většinou programovacích jazyků (podpora operací nad celými čísly nebo koncept označování hodnot dočasnými symboly).\n",
    "\n",
    "Ještě větší rozdíly existují v podpoře různých druhů informací, objektů nabízených informačními technologiemi a operací nad nimi. Existují jazyky *silně specializované* (podporující často jen zcela okrajové přístupy ke zpracování informací), *jazyky teoreticky univerzální* (schopné, alespoň teoreticky zpracovat libovolné informace a přistupovat ke všem prostředků, i když mnohdy za cenu extrémně dlouhého a složitého programu), a *jazyky téměř universální* (snadno použitelné pro téměř libovolné úkoly).\n",
    "\n",
    "Buhužel (nebo bohudík) neexistuje žádný skutečně univerzální jazyk, který by plně uspokojoval majoritu resp. alespoň výraznější minoritu programátorů (neexistuje žádná počítačová \"angličtina\"). Nezbývá tak nic jiného než si nějaký jazyk zvolit (na základě jeho popularity nebo  maximální kompatibility s Vaším myšlením) resp. naučit se hned několik programovacích jazyků (pro profesionální programátory je to nutnost).\n",
    "\n",
    "Pro účely tohoto studijního materiálu jsem provedl volbu za Vás a zvolil programovací jazyk **Python**. I když ani Python dokonalý má hned několik konkurenčních výhod:\n",
    "\n",
    "* je téměř univerzální, přičemž přímo podporuje i činnosti, které vyžadují odborníci přírodovědných oborů:\n",
    "    * snadné zpracování velkých dat s možností jejich vizualizace\n",
    "    * podpora webových služeb (získávání a poskytování dat na Internetu)\n",
    "    * možnost interaktivního využívání  \n",
    "* je tzv. multiparadigmatický, tj. kromě hlavního paradigmatu (je jím v současnosti nejpoužívanějšé objektové) popdporuje i další\n",
    "    \n",
    "* má velkou a aktivní komunitu uživatelů a to i mezi vědci a inženýry\n",
    "\n",
    "* je užíván i podporován i v komerční sféře (a to i velkými firmami)\n",
    "\n",
    "* má jednoduchou syntaxi (která je sice jedinečná, ale v zásadě se neliší od syntaxe programovacích jazyků hlavního proudu)\n",
    "\n",
    "* pro celý dokumentace a výukové materiály pro začátečníky i pokročilé (především v angličtině, ale ani podpora v českém jazyce není špatná)"
   ]
  },
  {
   "cell_type": "markdown",
   "metadata": {
    "collapsed": true
   },
   "source": [
    "> **Otázka**: Podle čeho je pojmenován jazyk Python?\n",
    ">\n",
    ">1. podle kobry (anglicky *python*)\n",
    ">2. podle Monty Pythonů\n",
    ">3. podle draka (hada) střežícího Delfy\n",
    "\n",
    "> Nápověda: Logo Pythonu\n",
    "\n",
    "![Logo Pythonu](python-logo.png)"
   ]
  },
  {
   "cell_type": "markdown",
   "metadata": {
    "tags": [
     "h"
    ]
   },
   "source": [
    "Navzdory použití stylizovaného hada v logu Pythonu je primárním zdrojem jména jazyka komediální britská skupina **Monty Python**."
   ]
  },
  {
   "cell_type": "markdown",
   "metadata": {
    "collapsed": true
   },
   "source": [
    "## Co pro programování v Pythonu potřebujete?"
   ]
  },
  {
   "cell_type": "markdown",
   "metadata": {},
   "source": [
    "Pro programování v Pythonu v zásadě potřebuje jen jedinou aplikaci: **interpret jazyka Python**, který vykonává program v Pythonu, tj. provádí jednotlivé kroky programu na procesoru a s využitím dalších prostředků počítače nebo počítačové sítě.\n",
    "\n",
    "### Interpret jazyka\n",
    "\n",
    "Interpret buď vykonává jednotlivé příkazy programu zadávané z konzole (*režim interaktivní*) nebo vykonává příkazy uložené v textovém souboru (tzv. skriptu) v *režimu dávkovém*. Skripty jsou vytvářeny a editovány pomocí textového editoru (může to být libovolný editor nevkládající formátovací značky jako např. `notepad`, ale častěji to bývají tzv. programátorské editory). \n",
    "\n",
    "Instalace pythonského interpretu není triviální, neboť kromě spustitelného souboru interpret vyžaduje stovky dalších souborů – knihoven, dokumentace, pomocných skriptů a dokonce i pomocných spustitelných souborů. Proto je vhodnější nainstalovat interpret i s celou jeho podporou tzv. distribuci Pythonu.\n",
    "\n",
    "#### Standardní distribuce Pythonu (Python Software Foundation)\n",
    "\n",
    "Základní možností je standardní distribuce dostupná na domovských stránkách Pythonu: [Python download](https://www.python.org/downloads). Aktuální hlavní větev Pythonu je nyní Python 3 a proto stahujte nejnovější verzi v této větvi (v době psaní tohoto textu to byla verze 3.6.5).\n",
    "\n",
    "Výhodou této distribuce je vždy nejnovější verze Pythonu a podpora velkého množství platforem (operačních systémů).\n",
    "\n",
    "#### Intel Distribution  for Python\n",
    "\n",
    "V mnoha případech je však pohodlnější distribuce tzv. Intel Pythonu. Ta kromě optimalizací pro procesory Intel obsahuje i velké množství dodatečných knihoven, z nichž mnohé budeme dále využívat (lze je snadno doinstalovat i do standardní distribuce, ale je to pamalejší a občas se mohou vyskytnout problémy).\n",
    "\n",
    "Distribuci Intel Pythonu najdete na stránce [Intel Distribution for Python](https://software.seek.intel.com/python-distribution). Je opět k dispozici pro Linux i Windows a v obou větvích (**opět zvolte novější Python 3!**). Pozor: tato distribuce má již při stažení velikost přes jeden gigabyte (po instalaci je to ještě více).\n",
    "\n",
    "#### Další alternativy\n",
    "\n",
    "Kromě výše uvedených existují i další zajímavé distribuce: [Active Python](https://www.activestate.com/activepython) resp. [Anaconda](https://www.anaconda.com/download/#linux).\n",
    "\n",
    "V případě Linuxu je Python běžně k dispozici v balíčcích v repositářích dané linuxovské distribuce. I zde zvole balíčky pro verzi Python 3 (nejběžnější jméno je `python3`). Balíčky nemusí podporovat nejnovější verzi Pythonu (u Ubuntu 16.04, který používám je to Python 3.5).\n",
    "\n",
    "**Navíc zde existuje možnost, jak se (lokální) instalaci Pythonu zcela vyhnout. Python je běžně nabízen jako cloudová služba, nejčastěji prostřednictvím rozhraní notebooků Jupyter (čtěte dále)**\n"
   ]
  },
  {
   "cell_type": "markdown",
   "metadata": {},
   "source": [
    "### Interaktivní interpret\n",
    "\n",
    "Jak bylo řečeno výše může být interpret jazyka Python využit i v interaktivní režimu. Je to však velmi nepohodlné, neboť standardní interpret jazyka Python neumožňuje ani řádkovou editace, tím spíše celoobrazovkový režim.\n",
    "\n",
    "Z tohoto důvodu vznikl vyspělejší textově orientovaný interaktivní interpret `ipython`, který kromě řídkové editace podporuje i historii či doplňování syntaxe. Dalším vývojem *ipythonu* vznikl projekt `jupyter` (skutečně s ypsilonem, spojení `py` je jakýmsi poznávacím znamením pythonských nástrojů). *Jupyter* nabízí interaktivní dokumenty  tzv. notebooky. Notebooky mohou kromě kódu, textového vstupu a výstupu zobrazovat i grafiku resp. strukturované texty.\n",
    "\n",
    "Pomocí *Jupyterovského* notebooku (dále jen notebook) je vytvořen i tento dokument a budeme jej využívat i nadále pro komentované ukázky kratších pythonských kódů. Můžete jej sa\n",
    "mozřejmě využívat jako jakousi vylepšenou pythonského kalkulačku pro řešení konkrétních úkolů."
   ]
  },
  {
   "cell_type": "markdown",
   "metadata": {},
   "source": [
    "#### Instalace a spuštění\n",
    "\n",
    "Pokud máte nainstalován Intel Python, pak již nemusíte níc instalovat. Stačí spustit příkaz: \n",
    "\n",
    "```bash\n",
    "jupyter notebook\n",
    "```\n",
    "\n",
    "Příkaz najdete v adresáři `bin` uvnitř adresáře, který vznikne po instalaci Pythonu (v Linuxu je to adresář `intelpython3`.\n",
    "\n",
    "Po spuštění se vytvoří lokální webový server a vyvolá se **webový prohlížeč**, který zobrazí tzv.`dashboard`. V něm lze otvírat již existující notebooky (dole prostřednictvím výpisu obsahu aktuálního adresáře resp. vytvářet notebooky nové (tlačítko `New` vpravo nahoře).\n",
    "\n",
    "<p align=\"center\"><img src=\"notebook.png\" alt=\"dashboard\" style=\"width: 50%;\"/></p>"
   ]
  },
  {
   "cell_type": "markdown",
   "metadata": {},
   "source": [
    "Pokud není popdpora Jupyteru obsažena v instalaci Pythonu, lze ji doinstalovat pomocí nástrojů pro instalaci pythonských modulů (knihoven).\n",
    "Obecně lze využít napřiklad nástroj `pip`, který obsahují všechny moderní instalace Pythonu. Na příkazovém řádku stačí uvést:\n",
    "\n",
    "```bash\n",
    "pip install jupyter\n",
    "```\n",
    "\n",
    "(program `pip` musí být v aktuálním adresáři resp. v tzv. cestě).\n",
    "\n",
    "#### Jupyter notebok jako cloudová služba\n",
    "\n",
    "Nejjednodušší možností použití notebooků je využití cloudové podpory. V tomto případě není nutno nic instalovat (dokonce ani Python).\n",
    "\n",
    "Nejjednodušší použití nabízejí dva projekty:\n",
    "\n",
    "* Microsoft Azure Notebooks \n",
    "* Google Collaboratory\n",
    "\n",
    "Použití je většinou zcela intuitivním vyžaduje však registraci a Google resp. Microsoft (internetový) účet. \n",
    "\n",
    "Protože nevlastním účet Microsoftu (nepoužívám MS Windows), popíši zde použití Google Collaboratory.\n",
    "\n",
    "1) přihlašte se do Googlu\n",
    "2) přejděte na URL https://colab.research.google.com\n",
    "3) vytvořte nový (Python 3) notebook (resp. otevřte existující se seznamu)\n",
    "\n",
    "Notebooky jsou v případě této služby uloženy na *Google Drive* (alternativně lze využít i GitHub). Google Collaboratory používá mírně odlišný grafický vzhled (styl) notebooků, základní rozvržení (je však stejné)."
   ]
  },
  {
   "cell_type": "markdown",
   "metadata": {
    "collapsed": true
   },
   "source": [
    "### Použití notebooku\n",
    "\n",
    "Potevření notebooku lze psát kód přímo tzv. vstupních buněk (jsou označeny výzvou `In` vpravo od buňky, viz také obrázek).\n",
    "\n",
    "<p align=\"center\"><img src=\"jupyter-notebook.png\" alt=\"notebook\" style=\"width: 50%;\"/></p>"
   ]
  },
  {
   "cell_type": "markdown",
   "metadata": {},
   "source": [
    "Po zadání kódu jej lze vyhodnotit současným stiskem `Shift+Enter`. Výsledek se objeví v tzv. výstupní buňce (vlevo s označení `Out`). Pokud kód žádný výstup neprodukuje (viz vstupy číslo 8 a 9 na obrázku), pak se výstupní buňka nevytvoří.\n",
    "Pod ní se objeví nová vstupní buňka (na rozdíl od již vyhodnocených není označena číslem). \n",
    "\n",
    "Kromě lineárního vkládání vstupů (a následného zobrazování výstupů) lze notebook využívat jako skutečný poznámkový blok. Můžete se vracet do již existujících (a vykonaných) vstupních buněk, editovat je a následně opakovaně vykonávat. Lze vkládat nové (vstupní) buňky resp. buňky naopak mazat.\n",
    "\n",
    "Editace notebooku je relativně komplexní činnost, kterou můžete provádět pomocí myši (a hlavního menu resp. nástrojové lišty) nebo pomocí četných klávesových zkratek (to je rychlejší a většinou i pohodlnější). "
   ]
  },
  {
   "cell_type": "markdown",
   "metadata": {
    "collapsed": true
   },
   "source": [
    "Základní pravidla jsou tato:\n",
    "    \n",
    "editor se může nacházet ve dvou režimech:\n",
    "    \n",
    "1. editační režim – přímá editace vstupní buňky (dostupné jsou jen základní editační klávesy podobně jako např. v notepadu)\n",
    "\n",
    "2. příkazový režim – klávesnice slouží k zadávání příkazů pracujícími s celými buňkami (příkazy jsou běžné znaky, není třeba využívat přepínače Ctrl nebo Alt). V tomto režimu nelze přímo zadávat text!\n",
    "\n",
    "Aktuální režim lze zjistit pomocí ikonky režimu vpravo od toolbar. Pokud tam je stylizovaná tužka pak jste v editačním režimu, tj. můžete začít přímo vkládat kód nebo texty. V příkazovém režimu se ikonka nezobrazuje. Režim se navíc projevuje i v dalších příznacích, např. zobrazováním textového kurzoru v editačním režimu (v příkazovém se nezobrazuje) nebo barvou okraje aktuálního vstupního poo le (v příkazovém je okraj zelený).\n",
    "\n",
    "Při práci s notebookem jste běžně v editačním režimu (po startu, po vyhodnocení kódu a vložení nové vstupní buňky). Do příkazového režimu se dostanete stiskem klávesy `Esc`.  Nazpět do příkazového je nejjednodušší použít klávesu `Enter` (lze použít i kliknutí myší do příslušné buňky).\n",
    "\n",
    "V příkazovém režimu (bez ikony, s modrým okrajem) lze zadávat velké množství příkazů, z nichž si na začátku stačí pamatovat jen následující:\n",
    "\n",
    "| klávesa           | funkce v příkazovém režimu                                 |\n",
    "|-------------------| -----------------------------------------------------------|\n",
    "| kurzurové klávesy | posun mezi vstupními buňkami (nahoru a dolů)               |\n",
    "| a                 | přidat vstupní pole nad aktuální buňku ([a]bove)           |\n",
    "| b                 | přidat vstupní pole pod aktuální buňku ([b]elow)           |\n",
    "| dd (=2×d)         | smazání aktuální buňky                                     |\n",
    "| y                 | nastaví aktuální buňku jako výpočetní (= obsahuje kód)     |\n",
    "| m                 | nastaví aktuální buňku jako popisnou (= obsahuje značkování)|"
   ]
  },
  {
   "cell_type": "markdown",
   "metadata": {},
   "source": [
    "Poslední dvě klávesové zkratky souvisejí s dalším charakteristickým rysem notebooků. Kromě kódu lze do buněk vkládat i formátovaný text ve funkci anotací, doprovodného textu apod. Tento text je zapisován pomocí jednoduchého značkovacího jazyka *Markdown*.\n",
    "\n",
    "I když je tato možnost velmi praktická a je plně využita při tvorbě této opory (veškerý text je vložen pomocí popisných buněk) není popis Markdown součástí této opory. Pokud máte o popisné texty zájem doporučuji například úvod na stránce http://jupyter-notebook.readthedocs.io/en/stable/examples/Notebook/Working%20With%20Markdown%20Cells.html. "
   ]
  },
  {
   "cell_type": "markdown",
   "metadata": {},
   "source": [
    "> **Úkoly**: \n",
    "Otevřete nový notebook (v lokální instalaci Pythonu resp. v Google Collaboratory) a vložte následující postupně buňky (až po buňku označenou jako konec příkladu vyjma):"
   ]
  },
  {
   "cell_type": "code",
   "execution_count": 4,
   "metadata": {},
   "outputs": [
    {
     "data": {
      "text/plain": [
       "2.302585092994046"
      ]
     },
     "execution_count": 4,
     "metadata": {},
     "output_type": "execute_result"
    }
   ],
   "source": [
    "from math import *\n",
    "log(10)"
   ]
  },
  {
   "cell_type": "code",
   "execution_count": 5,
   "metadata": {},
   "outputs": [
    {
     "data": {
      "text/plain": [
       "1.0"
      ]
     },
     "execution_count": 5,
     "metadata": {},
     "output_type": "execute_result"
    }
   ],
   "source": [
    "log10(10)"
   ]
  },
  {
   "cell_type": "markdown",
   "metadata": {},
   "source": [
    "[konec příkladu]"
   ]
  },
  {
   "cell_type": "markdown",
   "metadata": {},
   "source": [
    ">Jen za pomoci klávesnice se pohybujte mezi výše vloženými buňkami (v příkazovém režimu). Do první buňky doplňte programovou poznámku (v editačním režimu), tak aby vypadala takto (vyhodnoťte a popřípadě odstraňte novou prázdnou buňku, která se po vyhodnocení vloží):"
   ]
  },
  {
   "cell_type": "code",
   "execution_count": 2,
   "metadata": {},
   "outputs": [
    {
     "data": {
      "text/plain": [
       "2.302585092994046"
      ]
     },
     "execution_count": 2,
     "metadata": {},
     "output_type": "execute_result"
    }
   ],
   "source": [
    "from math import * # vložení modulu matematických funkcí nad reálnými čísly\n",
    "log(10)"
   ]
  },
  {
   "cell_type": "markdown",
   "metadata": {},
   "source": [
    "> smažte buňku s výpočtem log10 (tvoři jí vstup i výstup). A místo ní vložte (nad) novou kódovou buňku s následujícím kódem a vyhodnoťte ji (a opět popřípadě odstraňte novou prázdnou buňku, která se po vyhodnocení vloží)"
   ]
  },
  {
   "cell_type": "code",
   "execution_count": 4,
   "metadata": {},
   "outputs": [
    {
     "data": {
      "text/plain": [
       "2.0"
      ]
     },
     "execution_count": 4,
     "metadata": {},
     "output_type": "execute_result"
    }
   ],
   "source": [
    "log(100)/log(10)"
   ]
  },
  {
   "cell_type": "markdown",
   "metadata": {},
   "source": [
    "### Editor a vývojové prostředí"
   ]
  },
  {
   "cell_type": "markdown",
   "metadata": {},
   "source": [
    "I když je Jupyter notebook velmi užitečným nástrojem pro interakci s Pythonem a v mnoha případech i plně dostačuje, existují i činnosti, na které se příliš nehodí. Problém nastává hlavně v případě, že potřebujete editovat rozsáhlejší programy (aplikace) resp. vytvářet vlastní moduly.\n",
    "\n",
    "V těchto případech je vhodnější editace pomocí externího editoru (v podobě lokální aplikace). Použít lze sice jakýkoliv editor nevkládající formátovací znaky (např. notepad), existuje však i komfortnější alternativa: integrovaná vývojová prostředí (angl. zkratka IDE).\n",
    "\n",
    "Pro Python existuje hned několik integrovavaných vývojových prostředí (*Komodo*, *LiClipse*, *Wing*, přehled dalších viz  https://wiki.python.org/moin/IntegratedDevelopmentEnvironments). V rámci této výukové opory bude využívána aplikace *PyCharm* od firmy *JetBrains*.\n",
    "\n",
    "Toto vývojové prostředí podporuje (mimo jiné):\n",
    "* projekty (aplikace tvořené více soubory s kódem)\n",
    "* podpora při editování kódu (je na výrazně vyšší úrovni než je tomu v Jupyter noteboocích) \n",
    "    * zvýrazňování syntaxe\n",
    "    * sémantické doplňování (nabízí možná dokončení kódu v závislosti na aktuálním kontextu)\n",
    "* snadné spouštění a ladění kódu \n",
    "* generování a refaktotizace kódu (automatický vytváření a úprava kódu)\n",
    "* integrovaná IPython konzole (méně výkonná, ale pro ladění mnohdy dostatečná obdoba Jupyter notebooků)\n",
    "\n",
    "Určitou nevýhodou je skutečnost, že *PyCharm* není zcela open-source. Otevřená (a zcela bezplatná) je pouze verze Community. Ta má sice určitá omezení avšak pro naše účely bohatě stačí."
   ]
  },
  {
   "cell_type": "markdown",
   "metadata": {},
   "source": [
    "PyCharm je k dispozici pro všechny hlavní platformy (Linux, MS Windows, Mac OS X) a jeho instalace je snadná. Instalační aplikaci (včetně detilního návodu) lze nalézt na stránkách \n",
    "\n",
    "**Upozornění**: Před instalací PyCharmu je vhodné provést instalaci vlastního Pythonu (viz výše). Vývojová prostředí běžně neobsahují interprety a překladače příslušných  programovacích jazyků."
   ]
  },
  {
   "cell_type": "markdown",
   "metadata": {},
   "source": [
    "#### První spuštění\n",
    "\n",
    "Při prvním spuštění PyCharmu provedete základní konfiguraci (zásadnější je pouze rozhodnutí o baravném tématu, u ostatních je možné nechat defaultní hodnoty).\n",
    "\n",
    "Poté se objeví okno startovní menu, v němž zvolte vytvoření nového projektu (levá část okna). Poté se zobrazí konfigurační dialog.\n",
    "\n",
    "<p align=\"center\"><img src=\"pycharm_project.png\" alt=\"notebook\" style=\"width: 60%;\"/></p>\n",
    "\n",
    "Nejdříve zadejte jméno projektu, které tvoří jméno adresáře na konci cesty, jež je zobrazena v prvním vstupním poli (jméno projektu je na obrázku zvýrazněno červeným obdélníkem). Můžete samozřejmě měnit i celous cestu, u zkušebních projektů to nicméně není nutné (pro volbu cesty k projektovému adresáři lze samozřejmě využít i běžný výběr souboru/adresáře dostupný tlačítkem se třemi tečkami  vpravo od vstupního pole).\n",
    "\n",
    "Při vytváření prvního projektu je nutno zvolit i cestu k interpretu Pythonu, který chcete použít pro spuštěnní programů (to je kritické především u uživatelů s více interprety tohoto jazyka).\n",
    "\n",
    "Nejdříve zvolte přepínač `Existing interpreter`. Pokud je požadovaný interpret v nabídce rozbalovacího vstupního pole (rozbalí se po stisku tlačítka se trojúhelníkem) máte vyhráno. Pokud tam není pak je nutno vyvolat dialogový box dostupný prostřednictvím tlačítka s třemi tečkami zcela vpravo od vstupního pole.\n",
    "\n",
    "Poté se zobrazí další dialogový box, v němž je nutno nastavit vstupní pole \"Interpreter\" (opět nejlépe s využitím tlačítka s třemi tečkami v pravo). Poté se již zobrazí běžný výběr souborů. Pomocí něho musíte najít cestu k interpretu, tj. ke spustitelnému souboru s názvem `python3` nebo `python3.X` kde *X* je číslo podverze (6,7,…). Pokud nemůžete tento soubor najít, použijte běžný souborový manažer a jeho nástroje pro hledání (nalezenou cestu pak stačí jen nakopírovat do hlavního konfiguračního dialogu). Po volbě se musí v pravé části vstupního pole objevit ikonka Pythonu s číslem verze (na obrázku je to Python 3.6).\n",
    "\n",
    "Nastavení interpretu je relativně nepohodlné a zdlouhavé, ale provádí se naštěstí jen u prvního projektu (můžete ho však samozřejmě změnit)."
   ]
  },
  {
   "cell_type": "markdown",
   "metadata": {},
   "source": [
    "Po nastavení projektu se zobrazí projektové okno, podobné tomu na následujícím obrázku (skutečné okno se může poněkud lišit stylem i uspořádáním).\n",
    "\n",
    "<p align=\"center\"><img src=\"pycharm-main.png\" alt=\"notebook\" style=\"width: 85%;\"/></p>\n",
    "\n"
   ]
  },
  {
   "cell_type": "markdown",
   "metadata": {},
   "source": [
    "Hlavní okno aplikace se skládá ze dvou základních panelů. Vlevo je panel projektu, který zobrazuje jednotlivé části projektu (adresáře, soubory, externí knihovny, apod.). Vpravo je (výrazně větší) vlastní editační okno, které umožňuje zobrazovat jednotlivé textové soubory projektu. V jednom okamžiku lze vidět a editovat jediný soubor, ostatní soubory jsou dostupné pomocí bežného systému záložek (oušek) v horní části editoru (na obrázku je pouze jedna záložka).\n",
    "\n",
    "Ostatní panely jsou nepovinné a zobrazují se jen tehdy, pokud jsou potřeba. Nejčastěji se setkáte s výstupním panelem, který zobrazuje textový výstup programů (na obrázku v dolní části).\n",
    "\n",
    "Po otevření nového projektu je editační okno prázdné, neboť projekt neobsahuje žádný zdrojový soubor. Proto je nutné nejdřívě tento soubor vytvořit. V projektovém panelu klikněte na jméno projektu, které representuje projektový adresář (prozatím prázdný) a z hlavního menu zvolte volbu `File | New …`. Zobrazí se malé menu, v němž zvolte `Python File`. V minidialogovém okně zadejte jeho jméno (stačí bez přípony `py` ta se doplní automaticky)."
   ]
  },
  {
   "cell_type": "markdown",
   "metadata": {},
   "source": [
    "Nově vytvořený zdrojový soubor se automaticky zobrazí v editačním okně (i s příslušným ouškem). Jméno nového souboru se zobrazí i uvnitř projektového adresáře v projektovém panelu a v tzv. projektové liště pod hlavím menu. \n",
    "\n",
    "Po napsání programu lze program spustit pomocí menu `Run | Run …` (objeví se seznam zdrojových souborů v daném projektu, z něhož jeden vybereme). Pokud program neobsahuje chybu, pak se objeví výstupní okno, v němž se (mimo jiné) zobrazí i výstup programu (na obrázku v dolním červěném čtverci).\n",
    "\n",
    "Opakované spuštění programu je již jednodušší. Stačí zvolit tlačítko se zeleným trojúhelníkem vpravo v projektové liště nebo vlevo ve výstupním panelu. Lze samozřejmě využít i hlavní menu (`Run | Run xxx.py`, kde *xxx* je jméno skriptu bez přípony) resp. klávesovou zkratku `Shift + F10`)."
   ]
  },
  {
   "cell_type": "markdown",
   "metadata": {},
   "source": [
    ">**Úkol**: Pomocí vývojového prostředí a vytvořte zdrojový soubor (= skript) s následujícím obsahem:"
   ]
  },
  {
   "cell_type": "code",
   "execution_count": 1,
   "metadata": {},
   "outputs": [
    {
     "name": "stdout",
     "output_type": "stream",
     "text": [
      "Linux #50~16.04.1-Ubuntu SMP Wed May 30 11:18:27 UTC 2018\n"
     ]
    }
   ],
   "source": [
    "import os\n",
    "\n",
    "\n",
    "print(os.uname().sysname + \" \" + os.uname().version)"
   ]
  },
  {
   "cell_type": "markdown",
   "metadata": {},
   "source": [
    "> Poté program spustťe. Po spuštění interpretujte jeho výstup (může se lišit od výše uvedeného)."
   ]
  },
  {
   "cell_type": "markdown",
   "metadata": {},
   "source": [
    "## Základní syntaxe Pythonu"
   ]
  },
  {
   "cell_type": "markdown",
   "metadata": {},
   "source": [
    "Termínem syntaxe se označují pravidla určující přípustný zápis (skript, program) v Pythonu.  Pokud je program syntakticky správný, pak jej lze spustit (program však nutně nemusí vykonávat užitečnou činnost).\n",
    "\n",
    "Syntaxe odpovídá pravopisu, který známe z češtiny a dalších jazyků se standardizovaným textovým zápisem. Mezi syntaxí a pravopisem však existují jeden zásadní rozdíly:\n",
    "\n",
    "Syntaxe programovacích jazyků je striktní. F přýpaďe přyrozenýh jazikú lzepřětšýzd y zápyz porušujýcý fšechna prawopysnáprawy dla. U programů v programovacím jazyce stačí jediný chybný znak a program nemůže být spuštěn\n",
    "\n",
    "Se syntaxí Pythonu se budeme seznamovat v celé první polovině kurzu (a v omezené míře i ve druhé). Na začátku si uveďme jen ta nejzásadnější pravidla.\n",
    "\n",
    "#### Mezery\n",
    "\n",
    "**Mezery** lze v Pythonu psát kdekoliv mezi jednotlivými tzv. tokeny (čísly, identifikátory, operátory apod.). Ve většině případů jsou však nepovinné a slouží pouze ke zvýšení přehlednosti kódu (lépe vizuálně oddělují tokeny)."
   ]
  },
  {
   "cell_type": "code",
   "execution_count": 12,
   "metadata": {},
   "outputs": [
    {
     "data": {
      "text/plain": [
       "20"
      ]
     },
     "execution_count": 12,
     "metadata": {},
     "output_type": "execute_result"
    }
   ],
   "source": [
    "2 + 3*6"
   ]
  },
  {
   "cell_type": "code",
   "execution_count": 13,
   "metadata": {},
   "outputs": [
    {
     "data": {
      "text/plain": [
       "20"
      ]
     },
     "execution_count": 13,
     "metadata": {},
     "output_type": "execute_result"
    }
   ],
   "source": [
    "2+3 * 6"
   ]
  },
  {
   "cell_type": "markdown",
   "metadata": {},
   "source": [
    "Oba zápisy jsou ekvivalentní. V obou případech se nejdříve provede násobení a až poté sčítání (bez ohledu na mezery). Z důvodů přehlednosti a tradic jsou však některé zápisy více preferovány více než jiné (zde je výrazně přehlednější první zápis). Mnoho uživazelů Pythonu však píše mezery kolem všech operátorů (= symbolů aritmetických operací)."
   ]
  },
  {
   "cell_type": "code",
   "execution_count": 9,
   "metadata": {},
   "outputs": [
    {
     "data": {
      "text/plain": [
       "20"
      ]
     },
     "execution_count": 9,
     "metadata": {},
     "output_type": "execute_result"
    }
   ],
   "source": [
    "2 + 3 * 6"
   ]
  },
  {
   "cell_type": "markdown",
   "metadata": {},
   "source": [
    "Formálně jsou povoleny i vícenásobné mezery:"
   ]
  },
  {
   "cell_type": "code",
   "execution_count": 11,
   "metadata": {},
   "outputs": [
    {
     "data": {
      "text/plain": [
       "20"
      ]
     },
     "execution_count": 11,
     "metadata": {},
     "output_type": "execute_result"
    }
   ],
   "source": [
    "2      + 3                  *6"
   ]
  },
  {
   "cell_type": "markdown",
   "metadata": {},
   "source": [
    "V praxi se však vícenásobné mezery téměř nikdy nevyužívají (rozhodně ne ve stylu předchozího příkladu)."
   ]
  },
  {
   "cell_type": "markdown",
   "metadata": {},
   "source": [
    "V Pythonu však existuje i velmi **důležitá výjimka** z volného zápisu mezer. Mezery na začátku (neprázdného) řádku slouží k odsazení, které má v Pythonu klíčovou roli pro organizaci kódu. Mezery na začátku lze využívat jen u vnořených konstrukcí a roli hraje i (relativní) počet použitých mezer!"
   ]
  },
  {
   "cell_type": "code",
   "execution_count": 16,
   "metadata": {},
   "outputs": [
    {
     "name": "stdout",
     "output_type": "stream",
     "text": [
      "0\n",
      "1\n",
      "2\n",
      "2\n",
      "1\n",
      "0\n"
     ]
    }
   ],
   "source": [
    "for i in range(3):\n",
    "    print(i)\n",
    "for i in reversed(range(3)):\n",
    "    print(i)"
   ]
  },
  {
   "cell_type": "markdown",
   "metadata": {},
   "source": [
    "Mezery na počátku druhého  a čtvrtého řádku jsou povinné. Formálně by stačila i jedna, ale čtyři jsou doporučovány. V každém případě se musí jednat o stejný počet na obou odsazených řádcích. Naopak stranu na prvním a třetím řádku (začínají slovem `for`) nesmí být na začátku žádná mezera!."
   ]
  },
  {
   "cell_type": "markdown",
   "metadata": {},
   "source": [
    "#### Odřádkování\n",
    "\n",
    "Na rozdíl od mezer je odřádkování v Pythonu téměř vždy syntakticky významné. Odřádkování (neviditelný znak vkládaný klávesou `Enter`) odděluje příkazy. V předchozím příkladě jsou čtyři příkazy na čtyřech řádcích. \n",
    "\n",
    "Rozložení příkazů na více řádků je sice možné, ale nelze je provádět kdekoliv. V našem případě je to navíc zbytečné (řádky jsou krátké a rozdělením přehlednost nezvýšíte). \n",
    "\n",
    "U dlouhých příkazů (typicky > 80 znaků) je rozdělení běžné, lze jej však provést pouze na místě, kde jsou přípustné mezery a zároveň leží mezi dvěma párovými závorkami."
   ]
  },
  {
   "cell_type": "code",
   "execution_count": 17,
   "metadata": {},
   "outputs": [
    {
     "data": {
      "text/plain": [
       "2.9289682539682538"
      ]
     },
     "execution_count": 17,
     "metadata": {},
     "output_type": "execute_result"
    }
   ],
   "source": [
    "(1 + 1/2 + 1/3 + 1/4 + 1/5 + 1/6 + 1/7 + 1/8 + 1/9 + 1/10 \n",
    "   + 1/11 + 1/12)"
   ]
  },
  {
   "cell_type": "markdown",
   "metadata": {},
   "source": [
    "I když výše uvedený zápis využívá dva řádky, jedná se stále o jediný příkaz. Odřádkování je zde využito jen pro přehlednost (dlouhé řádky se nemusí vejít na displej). Rozdělení je přípustné, neboť je umístěno mezi dva tokeny (číslo `10` a operátor `+`) a leží uvnitř párových závorek (ty jsou zde použity jen z důvodů podpory rozdělení, u jednořádkové verze by byly nadbytečné). Zajímavé je i odsazení pokračovacího řádku. To je v tomto případě nepovinné (není to odsazení na začátku příkazu) a je zde pouze z důvodů přehlednosti (na první pohled je zřejmém, že se jedná jen o pokračování předchozího řádku). Velikost odsazení pokračovacího řádku (pokud je vůbec použito) může být libovolné (v našem případě bylo dosaženo hezkého zarovnání operátoru `+`). "
   ]
  },
  {
   "cell_type": "markdown",
   "metadata": {},
   "source": [
    "Spojení více příkazů do jednoho řádku je sice možné, ale velmi omezené. Navíc se důrazně nedoporučuje.\n",
    "\n",
    "Přípustné jsou i prázdné řádky (a to kdekoliv). Prázdné řádky nemají pro překladač žádný význam a používají se jen pro (vertikální) vizuální oddělení některýchh sekcí kódu."
   ]
  },
  {
   "cell_type": "markdown",
   "metadata": {},
   "source": [
    "#### Poznámky\n",
    "\n",
    "Na konci řádků (po všech nemezerových znacích) lze uvádět tzv. poznámky. Poznámky nejsou překladačem interpretován, a slouží tak jen k orientaci programátorů. Poznámky začínají znakem `#` a končí na konci řádku (tj. jsou vždy jednořádkové). Znak odřádkování k dané poznámce nepatří (slouží k oddělení příkazů tj. je interpretován překladačem)"
   ]
  },
  {
   "cell_type": "code",
   "execution_count": null,
   "metadata": {
    "collapsed": true
   },
   "outputs": [],
   "source": [
    "print(\"Hello Middle-earth\")  # toto je poznámka \n",
    "# a toto je jiná (překladač místo ní vidí nevýznamný prázdný řádek)"
   ]
  },
  {
   "cell_type": "markdown",
   "metadata": {},
   "source": [
    "Shrňme si základní syntaktická pravidla Pythonu:\n",
    "\n",
    "1. Mezery jsou nepovinné a uvádějí se jen z důvodu zvýšení přehlednosti kódu, výjimkou jsou mezery sloužící k odsazení (na samém začátku řádků). \n",
    "2. Řádkování slouží k oddělení jednotlivých příkazů a je tudíž povinné. Navíc je lze použít i pro rozdělení dlouhých příkazů (to však lze bez problémů učinit jen mezi párem jakýchkoliv závorek)\n",
    "3. Na konci řádků lze zapisovat poznámky (určené pro lidské čtenáře programů). Poznámky začínají znakem `#`."
   ]
  }
 ],
 "metadata": {
  "celltoolbar": "Tags",
  "kernelspec": {
   "display_name": "Python 3",
   "language": "python",
   "name": "python3"
  },
  "language_info": {
   "codemirror_mode": {
    "name": "ipython",
    "version": 3
   },
   "file_extension": ".py",
   "mimetype": "text/x-python",
   "name": "python",
   "nbconvert_exporter": "python",
   "pygments_lexer": "ipython3",
   "version": "3.6.3"
  }
 },
 "nbformat": 4,
 "nbformat_minor": 2
}
