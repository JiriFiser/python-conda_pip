{
 "cells": [
  {
   "cell_type": "markdown",
   "metadata": {},
   "source": [
    "# Výjimky\n",
    "\n",
    "Jménem **výjimka** (*exception*) se označuje jazyková konstrukce, která pomáhá řešit výjimečné konstrukce (resp. objekt\n",
    "který v rámci této konstrukce vzniká a nese informací o výjimečné situaci).\n",
    "\n",
    "## Výjimečná situace\n",
    "\n",
    "Pojem *výjimečná situace* má i v běžném jazyce mlhavý význam. Je výjimečnou situací, když má váš ranní vlak zpoždění 10 minut, nebo nepřijede vůbec. Je výjimečnou situací, když potkáte cestou koně, slona či opilce?\n",
    "\n",
    "Výjimečná situace se povětšinou definuje podle četnosti. Výjimečné situace jsou takové, které nastávají jen zřídka. Otázkou však je jak zřídka musí nastávat nějaká situace, aby ji bylo lze označit za výjimečnou.\n",
    "\n",
    "Většina lidí na zemi nikdy nenavštívila Ústí nad Labem. Pokud ho náhodou navštíví (1× za život) bude to pro ně výjimečná situace?\n",
    "\n",
    "Zajímavější je hodnocení na základě toho, zda určitou situaci zvládneme běžnými prostředky (tj. výjimečné je opak obvyklého). Pokud má vlak jen deset minut zpoždění, pak vše stíháme a nemusíme nic řešit. Pokud nepřijede vůbec a my nemáme auto, pak tuto situaci nevyřešíme vůbec nebo musíme shánět přítele s auutem (přítele s koněm bohužel nemám). I zde je všechno samozřejmě relativní. Pokud máte auto a vlak nejezdí každý druhý den, pak se samozřejmě o výjimečnou situaci nejedná.\n",
    "\n",
    "Pomocnou charakteristikou je i schopnost řešení situace na místě vzniku. Pokud vás bolí břicho a pro řešení stačí nějaký běžný lék, pak to není výjimečná situace (tím spíše, pokud vás takový problém trápí každý měsíc a léky máte vždy po ruce). V okamžiku, kdy vás ale odvezou do nemocnice, jedná se s velkou pravděpodobností o výjimečnou situaci (pokud vás tedy neodvážejí do nemocnice každý týden, pak ale v zásadě žijete ve světě podobném kvantové mechanice, kde se s určitou pravděpodobností nacházíte zároveň jak doma tak v nemocnici).\n",
    "\n",
    "Podobně lze výjimečné situace vymezit i v případě programování. \n",
    "\n",
    "Výjimečná situace je stav programu, který\n",
    "1. není pokryt základním modelem aplikace (tj. není řešen běžně navrhovaným kódem)\n",
    "2. nemůže být vyřešen na místě svého vzniku\n",
    "3. pravděpodobnost dosažení stavu je malá\n",
    "\n",
    "Uveďme několik konkrétních případů.\n",
    "\n",
    "**vyčerpání prostředků poskytovaných operačním systémem (a sdílených s jinými aplikacemi)**\n",
    "\n",
    "Příkladem budiž například místo na pevném disku nebo nedostatek rozšířené operační paměti\n",
    "\n",
    "Tato situace není běžně pokryta základním modelem aplikace, neboť nastává nahodile a nelze jí predikovat (vyčerpání může způsobit jiný proces). Lze ji také obtížně řešit na místě vzniku, neboť může nastat skutečně kdykoliv a kdekoliv. Tj. například v nízkoúrovňovém kódu (který ani nemusí souviset s daným vyčerpáním).  Pravděpodobnost stavu je navíc přirozeně  malá (pokud by byla velká, pak bylo obtížné vůvec nějaké aplikace provozovat)\n",
    "\n",
    "**neexistence konfiguračního souboru**\n",
    "\n",
    "Zde lze vycházet především z nemožnosti řešení dané situace v místě jejího vzniku. Tou je knihovní funkce/metoda pro otvírání souboru (např. `open`). V okamžiku vzniku jakékoliv výjimečné situace, která má charakter chyby máme jen tři základní (rozumné) možnosti, jak na situaci reagovat.\n",
    "\n",
    "1. rozumné ukončení programu (s výpisem důvodu ukončení a uložením stavu případného dokumentu)\n",
    "2. alternativního řešení (v našem případě tedy nastavením implicitních hodnot)\n",
    "3. opakování činností, které vedly ke vzniku výjimečné situace (s možností modifikace parametrů)\n",
    "\n",
    "První dvě možnosti nelze využít, neboť nízkoúrovňový kód ze standardní knihovny nemůže poskytovat alternativní řešení\n",
    "(je totiž používán v obrovském množství různých vzájemně neosouvisejících aplikacích), a nemůže dokonce ani rozumně ukončit program. Neví totiž ani jak uživatele informovat o problému. Výpis do chybového výstupu je aplikovatelný jen v konzolových aplikacích. U GUI nebo webových aplikacích se standardní chybový výstup běžně nezobrazuje.\n",
    "\n",
    "Opakování činnosti samozřejmě také nepomůže, neboť je málo pravděpodobné, že se konfigurační program zázračně objeví (i když v multitáskových systémech ho může. alespoň teoreticky vytvořit jiný proces).\n",
    "\n",
    "Stejnou charakteristiku mají i výjimečné stavy vzniklé chybou programátora. Pokud metodě očekávající neprázdný seznam předáme seznam bez jediného prvku nebo dokonce objekt `None` tak vznikne chybová situace (chybové situace jsou v mnoha případech výjimečné a naopak. takže oba pojmy často splývají).\n",
    "\n"
   ]
  },
  {
   "cell_type": "code",
   "execution_count": 1,
   "metadata": {},
   "outputs": [
    {
     "ename": "ValueError",
     "evalue": "max() arg is an empty sequence",
     "output_type": "error",
     "traceback": [
      "\u001b[0;31m---------------------------------------------------------------------------\u001b[0m",
      "\u001b[0;31mValueError\u001b[0m                                Traceback (most recent call last)",
      "\u001b[0;32m<ipython-input-1-a48d8f8c12de>\u001b[0m in \u001b[0;36m<module>\u001b[0;34m\u001b[0m\n\u001b[0;32m----> 1\u001b[0;31m \u001b[0mmax\u001b[0m\u001b[0;34m(\u001b[0m\u001b[0;34m[\u001b[0m\u001b[0;34m]\u001b[0m\u001b[0;34m)\u001b[0m\u001b[0;34m\u001b[0m\u001b[0;34m\u001b[0m\u001b[0m\n\u001b[0m",
      "\u001b[0;31mValueError\u001b[0m: max() arg is an empty sequence"
     ]
    }
   ],
   "source": [
    "max([])"
   ]
  },
  {
   "cell_type": "markdown",
   "metadata": {},
   "source": [
    "Uvnitř metody `max` nastala výjimečná resp. chybová situace (kód metody nemůže rozumně ukončit program, ani tvolot alternativní řešení, neboť neexistuje cesta jak vrátit maximum z prázdného seznamu)"
   ]
  },
  {
   "cell_type": "markdown",
   "metadata": {},
   "source": [
    "## Výjimky\n",
    "\n",
    "Výjimky nabízejí mechanismus, jak řešit výjimečné situace na příslušném místě aplikace bez výrazného komplikování programu. Celý mechanismus se provádí v několika fázích.\n",
    "\n",
    "* 1. **detekce výjimečného stavu**\n",
    "\n",
    "Tato fáze není ve skutečnosti součástí mechanismu výjimek. Detekce výjimečných (tj. typicky chybových) stavů je odpovědností programátora a patří k těm složitějším dovednostem. Detailněji byla diskutována v prním semestru.\n",
    "\n",
    "* 2. **vyhození výjimky**\n",
    "\n",
    "Vyhození výjimky je snadné a už jej znáte. Jediné, co musíte rozhodnout je volba třídy výjimky. Pokud nepotřebujete speciální ošetření je nejrozumnější vyhodit výjimku třídy `Exception` nebo jinou standardní pokud sémanticky vyhovuje resp. je předepsána příslušným protokolem (a jeho kontraktem). V opačném případě je možné nadefinovat vlastní třídu výjimek.\n",
    "\n",
    "* 3. **šíření výjimky**\n",
    "\n",
    "Po vyhození výjimky se výrazně změní chování programu. Nevykonává se žádný kód je je postupně ukončují bloky `try` (viz dále) a především se postupně ukončují jednotlivé volané funkce či metody (bez toho, že by se vracela nějaká hodnota). Zanikají tak postupně lokální prostředí tj. všechny proměnné a popřípadě i objekty, které jsou u nich odkazovány (pokud\n",
    "nejsou odkazovány odjinud). Obecně platí, že stejně jako v případě řek, nelze nikde vstoupit do místa stejné funkce dvakrát (při opakovaném volání se vytvoří nové lokální proměnné, které mohou obsahovat nové objekty). Při šíření výjimky se neprovádí žádný kód kromě bloku `finally`, V bloku `finally` je vykonávána i metoda `__exit__` manažerů kontextu (ty se typicky postarají o úklid prosředků, apod.)\n",
    "\n",
    "* 4. **zachycení výjimky**\n",
    "\n",
    "Výjimky lze zachytávat pomocí konstrukce `try-except`. Když výjimka opouští blok záhajený klíčovým slovem `try` (tzv. *try*-blok) je instance výjimky postupně porovnána testována s třídami uvedenými v sekcích `except`, které následují za *try*-blokem. Pokud je výjimka instancí dané třídy (přímo i nepřímo, tj. je instancí odvozené třídy), pak se výjimka naváže na proměnou uvednou za klíčovým slovem `as` (typicky se používá identifikátor `e`) a provede se obslužná rutina v daném bloku za `except` (a žádný jiný blok `except` za daným `try`) Pokud se neúspěšně projdou všechny bloky `except` (tj. objekt výjimky neni instancí žádné z uvedených tříd), pak se výjimka šíří do nadřazeného bloku `try` . Jestliže žádný takový nadřazený blok není, pak opustí příslušnou funkci/metodu a šíří se od místa jejího volání.\n",
    "\n",
    "V následujícím bloku se vyvolává výjimka třídy `Exception` uvnitř bloku `try`. Po jejím vyvolání se nejdřívě ověří zda je instancí třídy `KeyError` (první `except` za blokem `try`). Není tomu tak (`Exception` je nadtřídou nikoliv podtřídou třídy `LookupError`). Proto se testuje druhý `except`-blok. Ten je splněn (výjimka je přímou instancí očekávané třídy) a tak je proveden druhý `except`-blok (objekt výjimky je v něm označen identifikátorem `e`)."
   ]
  },
  {
   "cell_type": "code",
   "execution_count": 5,
   "metadata": {},
   "outputs": [
    {
     "name": "stdout",
     "output_type": "stream",
     "text": [
      "zachycena obecná výjimka Exception testovací výjimka\n"
     ]
    }
   ],
   "source": [
    "try:\n",
    "    raise Exception(\"testovací výjimka\")\n",
    "except LookupError as e:\n",
    "    print(f\"zachycena výjimka LookupError {e}\")    \n",
    "except Exception as e:\n",
    "    print(f\"zachycena obecná výjimka Exception {e}\")"
   ]
  },
  {
   "cell_type": "markdown",
   "metadata": {},
   "source": [
    "> **Úkol**: Jaký `except`-blok se provede (a co je vypsáno), vyhodí li se výjimka třídy `lookupError`? A jak tomu v případě třídy `ValueError` (ta je podtřídou třídy `Exception` nikoliv však `Lookuprror`) nebo `IndexError` (ta je podtřídou `LookupError`?\n",
    "\n",
    "Pro snadnější orientaci v heirarchii základních výjimek viz následující obrázek:\n",
    "\n",
    "![hierarchie výjimek](https://o7planning.org/en/11421/cache/images/i/7601427.png)\n",
    "\n",
    "> **Rozšíření úkolu**: vyvolejte výjimku `IndexError` bez použití klíčového slova `raise`."
   ]
  },
  {
   "cell_type": "markdown",
   "metadata": {},
   "source": [
    "* 5. **ošetření výjimky**\n",
    "\n",
    "V `except` bloku se musí výjimka ošetřit  V zásadě existují jen tří základní možnosti (finální) reakce na výjimku.\n",
    "\n",
    "1. ignorování (často včetně zobrazení upozornění či častěji logování varování či chyby)\n",
    "2. spuštění alternativního řešení (včetně spuštění stejného kódu s jinými parametry)\n",
    "3. rozumné ukončení programu\n",
    "\n",
    "Ignorování je možné v případě, že příslušná funkčnost není kritická resp. její selhání uživatele ovlivní jen minimálně. V každém případě by měla být informace o dosažení výjimečného (v tomto případě nikoliv chybového stavu) logována (tj. uložena pro další případný rozbor). Logování je relativně komplexní záležitost (podívejte se na https://docs.python.org/3/library/logging.html)\n",
    "\n",
    "Alternativní řešení může spočívat jen ve změně parametrů (napřiklad ve změně jména otvíraného souboru, snížení rozlišení generovaného obrázku apod.) ale může to být i zcela nezávislé řešení (například alternativní uživatelské rozhraní v případě, že primární nelze využít). I v tomto případě je vhodné použití logovat.\n",
    "\n",
    "Rozumné ukončení programu v sobě zahrnuje:\n",
    "* informace o příčině ukončení (výpis výjimky většinou nedostačuje)\n",
    "* uložení rozpracované práce (pozor může způsobit další výjimečný stav)\n",
    "* uvolnění prostředků vlastněných procesech (některé jako například otevřené soubory se uvolní po ukončení procesu, ale u některých to není tak automatické například u dočasných souborů, přihlášení na webových službách)\n",
    "\n",
    "Místo zachycení výjimky závisí na její obsluze. Typicky to bývají vrstvy zajišťující hlavní logiku programu (což jsou v rámci programu metody umístěné v řetězci volání blízko hlavního programu). Výjimkou jsou skutečně neočekávané výjimky, které  se zachytávají na nejvyšší úrovni programu (tj. v například v hlavním programu) a které vedou k bezprostřednímu (ale pokud možno stále „rozumnému“) ukončení programu. Speciálním případem jsou tzv. „nezachycené“ výjimky, které opustí i hlavní program a jsou zachyceny až v kódu běhové podpory (ta připravuje prostředí pro běh pythonského programu a pak předává řízení hlavnímu programu). Tyto výjimky vždy vedou k ukončení programu (bez uložení práce a uvolnění prostředků). Často jsou také zobrazeny nějaké dodatečné informace, resp. je spuštěn debugger (to je konfigurovatelné a závisí tak na prostředí odkud byl program spuštěn). V *release* verzích profesionálních programů by se však „nezachycené“ výjimky neměly objevovat.\n",
    "\n",
    "Výjimky lze zachytávat i v místech, ve kterých ještě nemůže být rozhodnuto, jaké řešení se zvolí (tj. kód je ještě příliš obecný), není však vhodné nechat danou výjimku opustit příslušnou metodu, protože je příliš závislá na interní implementaci (narušení zapouzdřenosti). V tomto případě je vhodné v rámci obsluhy \n",
    "\n",
    "přerušení vyhodit novou výjimku, která bývá obecnější. Navíc je vhodné (primárně pro účely ladění) výjimky tzv. zřetězit. Tj. nová (abstraknější) výjimka v sobě nese odkaz na výjimku původní (konkrétnější). \n",
    "\n",
    "Předpokládejme například zjednodušené polymorfní třídy pro čtení konfiguračného nastavení, která v jedné ze svých podob předpokládá využití jednoduchého XML formátu (další možností, které si můžete také naprogramovat je JSON, ini-soubor nebo Windows registry, vše je podporováno ve standardní knihovně Pythonu)."
   ]
  },
  {
   "cell_type": "code",
   "execution_count": 30,
   "metadata": {},
   "outputs": [],
   "source": [
    "from xml.dom.minidom import parse, parseString\n",
    "\n",
    "class SimpleXmlConfigReader:\n",
    "    def __init__(self, filename):\n",
    "        self.fname = filename\n",
    "    def get(self, settings):\n",
    "        with open(self.fname, \"rt\") as f:\n",
    "            element = parse(f).getElementsByTagName(settings)[0] #nalezne element specifikovaného jména\n",
    "            return element.childNodes[0].nodeValue # get text contents of element"
   ]
  },
  {
   "cell_type": "markdown",
   "metadata": {},
   "source": [
    "Vyzkoušíme na jednoduchém XM dokumentu, v němž jednotlivá nastavení tvoří dětské elementy kořenového uzlu-"
   ]
  },
  {
   "cell_type": "code",
   "execution_count": 3,
   "metadata": {},
   "outputs": [
    {
     "name": "stdout",
     "output_type": "stream",
     "text": [
      "Writing conf.xml\n"
     ]
    }
   ],
   "source": [
    "%%writefile conf.xml\n",
    "\n",
    "<settings>\n",
    "<title>Pán prstenů</title>\n",
    "<author>J.R.R.Tolkein</author>\n",
    "</settings>"
   ]
  },
  {
   "cell_type": "code",
   "execution_count": 29,
   "metadata": {},
   "outputs": [
    {
     "data": {
      "text/plain": [
       "'Pán prstenů'"
      ]
     },
     "execution_count": 29,
     "metadata": {},
     "output_type": "execute_result"
    }
   ],
   "source": [
    "cr = SimpleXmlConfigReader(\"conf.xml\")\n",
    "cr.get(\"title\")"
   ]
  },
  {
   "cell_type": "markdown",
   "metadata": {},
   "source": [
    "Co se stane pokud nenalezneme příslušný podelement?"
   ]
  },
  {
   "cell_type": "code",
   "execution_count": 33,
   "metadata": {},
   "outputs": [
    {
     "ename": "IndexError",
     "evalue": "list index out of range",
     "output_type": "error",
     "traceback": [
      "\u001b[0;31m---------------------------------------------------------------------------\u001b[0m",
      "\u001b[0;31mIndexError\u001b[0m                                Traceback (most recent call last)",
      "\u001b[0;32m<ipython-input-33-d83c74399657>\u001b[0m in \u001b[0;36m<module>\u001b[0;34m\u001b[0m\n\u001b[0;32m----> 1\u001b[0;31m \u001b[0mcr\u001b[0m\u001b[0;34m.\u001b[0m\u001b[0mget\u001b[0m\u001b[0;34m(\u001b[0m\u001b[0;34m\"autor\"\u001b[0m\u001b[0;34m)\u001b[0m \u001b[0;31m# překlep\u001b[0m\u001b[0;34m\u001b[0m\u001b[0;34m\u001b[0m\u001b[0m\n\u001b[0m",
      "\u001b[0;32m<ipython-input-28-cb228685eb7d>\u001b[0m in \u001b[0;36mget\u001b[0;34m(self, settings)\u001b[0m\n\u001b[1;32m      6\u001b[0m     \u001b[0;32mdef\u001b[0m \u001b[0mget\u001b[0m\u001b[0;34m(\u001b[0m\u001b[0mself\u001b[0m\u001b[0;34m,\u001b[0m \u001b[0msettings\u001b[0m\u001b[0;34m)\u001b[0m\u001b[0;34m:\u001b[0m\u001b[0;34m\u001b[0m\u001b[0;34m\u001b[0m\u001b[0m\n\u001b[1;32m      7\u001b[0m         \u001b[0;32mwith\u001b[0m \u001b[0mopen\u001b[0m\u001b[0;34m(\u001b[0m\u001b[0mself\u001b[0m\u001b[0;34m.\u001b[0m\u001b[0mfname\u001b[0m\u001b[0;34m,\u001b[0m \u001b[0;34m\"rt\"\u001b[0m\u001b[0;34m)\u001b[0m \u001b[0;32mas\u001b[0m \u001b[0mf\u001b[0m\u001b[0;34m:\u001b[0m\u001b[0;34m\u001b[0m\u001b[0;34m\u001b[0m\u001b[0m\n\u001b[0;32m----> 8\u001b[0;31m             \u001b[0melement\u001b[0m \u001b[0;34m=\u001b[0m \u001b[0mparse\u001b[0m\u001b[0;34m(\u001b[0m\u001b[0mf\u001b[0m\u001b[0;34m)\u001b[0m\u001b[0;34m.\u001b[0m\u001b[0mgetElementsByTagName\u001b[0m\u001b[0;34m(\u001b[0m\u001b[0msettings\u001b[0m\u001b[0;34m)\u001b[0m\u001b[0;34m[\u001b[0m\u001b[0;36m0\u001b[0m\u001b[0;34m]\u001b[0m\u001b[0;34m\u001b[0m\u001b[0;34m\u001b[0m\u001b[0m\n\u001b[0m\u001b[1;32m      9\u001b[0m             \u001b[0;32mreturn\u001b[0m \u001b[0melement\u001b[0m\u001b[0;34m.\u001b[0m\u001b[0mchildNodes\u001b[0m\u001b[0;34m[\u001b[0m\u001b[0;36m0\u001b[0m\u001b[0;34m]\u001b[0m\u001b[0;34m.\u001b[0m\u001b[0mnodeValue\u001b[0m \u001b[0;31m# get text contents of element\u001b[0m\u001b[0;34m\u001b[0m\u001b[0;34m\u001b[0m\u001b[0m\n",
      "\u001b[0;31mIndexError\u001b[0m: list index out of range"
     ]
    }
   ],
   "source": [
    "cr.get(\"autor\") # překlep"
   ]
  },
  {
   "cell_type": "markdown",
   "metadata": {},
   "source": [
    "Vznikne výjimka, která není přiliš informativní (jak `index out of range` souvisí s čtení nastavení) a především odhaluje interní implementaci (použití tzv. DOM).\n",
    "\n",
    "Proto je lepší už v metodě `get` danou výjimku zachytit a místo ní vyhodit jinou, která neodhaluje sémantické detaily, ale zaměřuje se na hlavní problém tj. neexistenci daného nastavení v konfiguračním souboru."
   ]
  },
  {
   "cell_type": "code",
   "execution_count": 34,
   "metadata": {},
   "outputs": [],
   "source": [
    "from xml.dom.minidom import parse, parseString\n",
    "\n",
    "class SimpleXmlConfigReader:\n",
    "    def __init__(self, filename):\n",
    "        self.fname = filename\n",
    "    def get(self, settings):\n",
    "        with open(self.fname, \"rt\") as f:\n",
    "            try:\n",
    "                element = parse(f).getElementsByTagName(settings)[0]\n",
    "                return element.childNodes[0].nodeValue\n",
    "            except IndexError as e:\n",
    "                raise LookupError(f\"Unknown settings `{settings}`\") from e"
   ]
  },
  {
   "cell_type": "markdown",
   "metadata": {},
   "source": [
    "V obslužném kódu výjimky `IndexError` vyhazujeme novou výjimku třídy `LookppError` (sémanticky se opravdu jedná o výjimku signalizující problém s vyhledáváním). Použití klíčového slova `from` výjimky zřetězí (nová výjimka `LookupError` tak nese informaci o tom, že vznikla jako reakce na výjimku `IndexError` v kódu zpracovávajícím XML). "
   ]
  },
  {
   "cell_type": "code",
   "execution_count": 35,
   "metadata": {},
   "outputs": [
    {
     "ename": "LookupError",
     "evalue": "Unknown settings `autor`",
     "output_type": "error",
     "traceback": [
      "\u001b[0;31m---------------------------------------------------------------------------\u001b[0m",
      "\u001b[0;31mIndexError\u001b[0m                                Traceback (most recent call last)",
      "\u001b[0;32m<ipython-input-34-fef9a364d438>\u001b[0m in \u001b[0;36mget\u001b[0;34m(self, settings)\u001b[0m\n\u001b[1;32m      8\u001b[0m             \u001b[0;32mtry\u001b[0m\u001b[0;34m:\u001b[0m\u001b[0;34m\u001b[0m\u001b[0;34m\u001b[0m\u001b[0m\n\u001b[0;32m----> 9\u001b[0;31m                 \u001b[0melement\u001b[0m \u001b[0;34m=\u001b[0m \u001b[0mparse\u001b[0m\u001b[0;34m(\u001b[0m\u001b[0mf\u001b[0m\u001b[0;34m)\u001b[0m\u001b[0;34m.\u001b[0m\u001b[0mgetElementsByTagName\u001b[0m\u001b[0;34m(\u001b[0m\u001b[0msettings\u001b[0m\u001b[0;34m)\u001b[0m\u001b[0;34m[\u001b[0m\u001b[0;36m0\u001b[0m\u001b[0;34m]\u001b[0m\u001b[0;34m\u001b[0m\u001b[0;34m\u001b[0m\u001b[0m\n\u001b[0m\u001b[1;32m     10\u001b[0m                 \u001b[0;32mreturn\u001b[0m \u001b[0melement\u001b[0m\u001b[0;34m.\u001b[0m\u001b[0mchildNodes\u001b[0m\u001b[0;34m[\u001b[0m\u001b[0;36m0\u001b[0m\u001b[0;34m]\u001b[0m\u001b[0;34m.\u001b[0m\u001b[0mnodeValue\u001b[0m\u001b[0;34m\u001b[0m\u001b[0;34m\u001b[0m\u001b[0m\n",
      "\u001b[0;31mIndexError\u001b[0m: list index out of range",
      "\nThe above exception was the direct cause of the following exception:\n",
      "\u001b[0;31mLookupError\u001b[0m                               Traceback (most recent call last)",
      "\u001b[0;32m<ipython-input-35-6aeeddca4c31>\u001b[0m in \u001b[0;36m<module>\u001b[0;34m\u001b[0m\n\u001b[1;32m      1\u001b[0m \u001b[0mcr\u001b[0m \u001b[0;34m=\u001b[0m \u001b[0mSimpleXmlConfigReader\u001b[0m\u001b[0;34m(\u001b[0m\u001b[0;34m\"conf.xml\"\u001b[0m\u001b[0;34m)\u001b[0m\u001b[0;34m\u001b[0m\u001b[0;34m\u001b[0m\u001b[0m\n\u001b[0;32m----> 2\u001b[0;31m \u001b[0mcr\u001b[0m\u001b[0;34m.\u001b[0m\u001b[0mget\u001b[0m\u001b[0;34m(\u001b[0m\u001b[0;34m\"autor\"\u001b[0m\u001b[0;34m)\u001b[0m\u001b[0;34m\u001b[0m\u001b[0;34m\u001b[0m\u001b[0m\n\u001b[0m",
      "\u001b[0;32m<ipython-input-34-fef9a364d438>\u001b[0m in \u001b[0;36mget\u001b[0;34m(self, settings)\u001b[0m\n\u001b[1;32m     10\u001b[0m                 \u001b[0;32mreturn\u001b[0m \u001b[0melement\u001b[0m\u001b[0;34m.\u001b[0m\u001b[0mchildNodes\u001b[0m\u001b[0;34m[\u001b[0m\u001b[0;36m0\u001b[0m\u001b[0;34m]\u001b[0m\u001b[0;34m.\u001b[0m\u001b[0mnodeValue\u001b[0m\u001b[0;34m\u001b[0m\u001b[0;34m\u001b[0m\u001b[0m\n\u001b[1;32m     11\u001b[0m             \u001b[0;32mexcept\u001b[0m \u001b[0mIndexError\u001b[0m \u001b[0;32mas\u001b[0m \u001b[0me\u001b[0m\u001b[0;34m:\u001b[0m\u001b[0;34m\u001b[0m\u001b[0;34m\u001b[0m\u001b[0m\n\u001b[0;32m---> 12\u001b[0;31m                 \u001b[0;32mraise\u001b[0m \u001b[0mLookupError\u001b[0m\u001b[0;34m(\u001b[0m\u001b[0;34mf\"Unknown settings `{settings}`\"\u001b[0m\u001b[0;34m)\u001b[0m \u001b[0;32mfrom\u001b[0m \u001b[0me\u001b[0m\u001b[0;34m\u001b[0m\u001b[0;34m\u001b[0m\u001b[0m\n\u001b[0m",
      "\u001b[0;31mLookupError\u001b[0m: Unknown settings `autor`"
     ]
    }
   ],
   "source": [
    "cr = SimpleXmlConfigReader(\"conf.xml\")\n",
    "cr.get(\"autor\")"
   ]
  },
  {
   "cell_type": "markdown",
   "metadata": {},
   "source": [
    "Výpis (nezachycené) výjimky zobraze jako hlavní výjimku výjimku `LookupError: Unknown settings autor` (na konci), která vznikla jako důsledek výjimky `IndexError`."
   ]
  },
  {
   "cell_type": "markdown",
   "metadata": {},
   "source": [
    "## Vytvoření vlastní třídy výjimek\n",
    "\n",
    "Třída výjimek nese základní informaci o výjimečné situaci, která výjimku způsobila. Podívejme se na dva extrémy při návrhu výjimek:\n",
    "\n",
    "**všechny výjimky patří do jediné třídy**\n",
    "* zachytávání určité podmnožiny výjimek je obtížné a nepřehledné (musí být zachytávány všechny a pak na základě jejich obsahu, je buď ošetřit nebo znovu vyvolat)\n",
    "\n",
    "**každá jednotlivá příčina výjimek má vlastní třídu, které tvoří rozsáhlou a hlubokou hierarchii dědičnosti**\n",
    "* objektový návrh výjimek je, co se týče komplexnosti, srovnatelný s návrhem běžných tříd (tj. model výjimečných situací je srovnatelný s základním modelem,  narušení princ\n",
    "* rozdělení výjimek do tříd a především hierarchie může být v rozporu s požadavky uživatele daného (knihovního) kódu\n",
    "(tj. výjimky se stejným ošetřením jsou v různých třídách a/nebo výjimky s různým ošetřením jsou ve stejné třídě)\n",
    "\n",
    "Skutečné využití možnosti členění výjimek je někde mezi těmito extrémy a neexistuje žádný jednotný přístup nebo metodika.  Existují však neformální (a často si i protiřečící) rady:\n",
    "\n",
    "* pokud je možno využít řídu ze standardní hierarchie výjimek, pak ji použijte\n",
    "* u rozsáhlejších knihoven vytvořte jedinou vlastní třídu výjimek, nebo menší počet vlastních výjimek pokud existuje více výrazně odlišných výjimečných situacích\n",
    "* výjimku odvoďte ze třídy bázové třídy `Exception` resp. několika málo top-level obecných tříd jako `LookUpError`, `OSError`\n",
    "* nepoužívejte rozsáhlejší hierarchie výjimek"
   ]
  },
  {
   "cell_type": "markdown",
   "metadata": {},
   "source": [
    "Vytváření vlastní třídy výjimek je snadné. Musí být splněny jen dva požadavky:\n",
    "    \n",
    "1. třída musí být odvozena ze třídy `Exception` nebo z ní odvozené třídy\n",
    "2. musí být definován konstruktor s jedním parametrem, jímž je detailnější specifikace chybové situace (užívá se jen ve fázi ladění a běžně je jen v angličtině). Text by měl být uložen do atributu `message`\n",
    "\n",
    "Název třídy by měl končit slovem *Exception* resp. *Error* (nepovinné)"
   ]
  },
  {
   "cell_type": "code",
   "execution_count": 6,
   "metadata": {},
   "outputs": [],
   "source": [
    "class MyException(Exception):\n",
    "    def __init__(self, msg):\n",
    "        self.message = \"We have a problem\"\n",
    "    "
   ]
  },
  {
   "cell_type": "code",
   "execution_count": 7,
   "metadata": {},
   "outputs": [
    {
     "ename": "MyException",
     "evalue": "We have a problem",
     "output_type": "error",
     "traceback": [
      "\u001b[0;31m---------------------------------------------------------------------------\u001b[0m",
      "\u001b[0;31mMyException\u001b[0m                               Traceback (most recent call last)",
      "\u001b[0;32m<ipython-input-7-719e4c7b7798>\u001b[0m in \u001b[0;36m<module>\u001b[0;34m\u001b[0m\n\u001b[0;32m----> 1\u001b[0;31m \u001b[0;32mraise\u001b[0m \u001b[0mMyException\u001b[0m\u001b[0;34m(\u001b[0m\u001b[0;34m\"We have a problem\"\u001b[0m\u001b[0;34m)\u001b[0m\u001b[0;34m\u001b[0m\u001b[0;34m\u001b[0m\u001b[0m\n\u001b[0m",
      "\u001b[0;31mMyException\u001b[0m: We have a problem"
     ]
    }
   ],
   "source": [
    "raise MyException(\"We have a problem\")"
   ]
  },
  {
   "cell_type": "code",
   "execution_count": null,
   "metadata": {},
   "outputs": [],
   "source": []
  }
 ],
 "metadata": {
  "kernelspec": {
   "display_name": "Python 3",
   "language": "python",
   "name": "python3"
  },
  "language_info": {
   "codemirror_mode": {
    "name": "ipython",
    "version": 3
   },
   "file_extension": ".py",
   "mimetype": "text/x-python",
   "name": "python",
   "nbconvert_exporter": "python",
   "pygments_lexer": "ipython3",
   "version": "3.7.7"
  }
 },
 "nbformat": 4,
 "nbformat_minor": 4
}
