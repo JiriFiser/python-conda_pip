{
 "cells": [
  {
   "cell_type": "markdown",
   "metadata": {},
   "source": [
    "# Abstraktní datové typy\n",
    "\n",
    "**Datový typ** je jeden ze ze základních pojmů ve světě programovacích jazyků a to již od jejich počátků.\n",
    "\n",
    "Datový typ je množina hodnot, pro níž jsou definovány operace, které s příslušnými hodnotami operují. \n",
    "\n",
    "Z hlediska vymezení datového typu jsou proto rozhodující tři (vzájemně) související charakteristiky:\n",
    "\n",
    "* **representace**: jak jsou v paměti dané hodnoty representovány (kolik bytů zaujímají, jak jsou interpretovány jednotlivé byty či jejích skupiny)\n",
    "\n",
    "* **množina přípustných hodnot (stavů)**: všechny stavy (tj. přípustné) hodnoty dasného datového typu\n",
    "\n",
    "* **specifikace (podporovaných) operací**\n",
    "\n",
    "Ve většině nízkoúrovňových jazyků jsou klíčové první dvě charakteristiky. Například ve většině implementací jazyka C je definováno, že hodnoty typu `int` zaujímaji čtyři nebo osm (souvislých) bytů, které jsou interpretovány jako binární representace danách čísel v tzv.\n",
    "dvojkovém doplňku (https://en.wikipedia.org/wiki/Two%27s_complement). Počet bytů a především \n",
    "jejich počet závisí na hardwarové či softwarové platformě, ale je pro danou platformu fixní a jednoznačně definuje množinu přípustných hodnot (od $-2^{n-1}$ do $2^{n-1}-1$).\n",
    "\n",
    "Na druhou stranu množina přípustných není tak jasně určena. Jejím jádrem jsou přirozeně běžné číselné operace. Hodnoty typu `int` však lze používat i jako adresy paměti nebo jako hodnoty výčtových typů."
   ]
  },
  {
   "cell_type": "markdown",
   "metadata": {},
   "source": [
    "U vysokoúrovňových jazyků je hlavním aspektem množina operací (ta je v Pythonu určena primárně pomocí speciálních metod s dvěma podtržítky) a až poté interní representace či z ní vyplývající množina přípustných hodnot. \n",
    "\n",
    "Lze to ilustrovat na příkladě stejnojmenné třídy (třída je jedinou representací datového typu v Pythonu). Operace s celými čísly jsou jasně definovány rozhraním třídy a všechny souvisí s její (celo)číselnou interpretací. Interní representace není všeobecně známa (a nemusí téměř žádného programátora zajímat). Rozsah (a tím množina přípustných hodnot) není určena a je dána pouze velikostí dostupné paměti.\n",
    "\n",
    "Typ `int` je proto typickým zástupcem tzv. **abstraktního datového typu** tj. datového typu, který je primárně určen přípustnými operacemi a sekundárně i množinou přípustných hodnot (ty jsou dány možnými výsledky přípustných operací nikoliv omezeními representace).\n",
    "\n",
    ">**Poznámka**: Abstraktní datové typy nabízejí velmi podobný koncept jako třídy objektově orientovaného programování, nejsou však zcela zaměnitelné. Základní rozdíly:\n",
    "> * abstraktní datové typy jsou abstraktnější koncept, který není vázán na konkrétní realizaci (dají se vytvářet i v jazycích bez tříd a bez přímé podpory OOP)\n",
    "> * objektové programování zavádí i koncepty, které nejsou součástí ADT (dědičnost, apod.)\n",
    "> * abstraktní datové typy jsou využívány v teorii algoritmů (tj. v matematické popisu)\n"
   ]
  },
  {
   "cell_type": "markdown",
   "metadata": {},
   "source": [
    "Abstraktní datové typy, lze v Pythonu implementovat buď pomocí modulů nebo (snadněji a přirozeněji) pomocí tříd.\n",
    "\n",
    "Peo začátek si vytvoříme abstraktní datový typ pro modulární aritmetiku na množině $\\mathbb{Z}_7$, kde. Viz https://cs.wikipedia.org/wiki/Modul%C3%A1rn%C3%AD_aritmetika."
   ]
  },
  {
   "cell_type": "code",
   "execution_count": 7,
   "metadata": {},
   "outputs": [],
   "source": [
    "class Z7:\n",
    "    def __init__(self,i):\n",
    "        assert 0 <= i < 7, \"Number out of range\"\n",
    "        self.i = i\n",
    "    def __add__(self, other): # speciální metoda volaná při aplikaci operace sčítání\n",
    "        return Z7((self.i + other.i)%7)\n",
    "    def __str__(self): # aby bylop mořno hodnoty vypisovat (převádí hodnotu na číselnou repr.)\n",
    "        return str(self.i)"
   ]
  },
  {
   "cell_type": "code",
   "execution_count": 8,
   "metadata": {},
   "outputs": [
    {
     "name": "stdout",
     "output_type": "stream",
     "text": [
      "1\n"
     ]
    }
   ],
   "source": [
    "x = Z7(3)\n",
    "y = Z7(5)\n",
    "print(x+y)"
   ]
  },
  {
   "cell_type": "markdown",
   "metadata": {},
   "source": [
    "> **Úkol**:  Vypište sčítací tabulku pro všechny přípustné dvojice sčítanců."
   ]
  },
  {
   "cell_type": "code",
   "execution_count": 12,
   "metadata": {
    "tags": [
     "h"
    ]
   },
   "outputs": [
    {
     "name": "stdout",
     "output_type": "stream",
     "text": [
      "0\t1\t2\t3\t4\t5\t6\t\n",
      "\n",
      "1\t2\t3\t4\t5\t6\t0\t\n",
      "\n",
      "2\t3\t4\t5\t6\t0\t1\t\n",
      "\n",
      "3\t4\t5\t6\t0\t1\t2\t\n",
      "\n",
      "4\t5\t6\t0\t1\t2\t3\t\n",
      "\n",
      "5\t6\t0\t1\t2\t3\t4\t\n",
      "\n",
      "6\t0\t1\t2\t3\t4\t5\t\n",
      "\n"
     ]
    }
   ],
   "source": [
    "for i in range(7):\n",
    "    for j in range(7):\n",
    "        print( Z7(i)+Z7(j), end=\"\\t\")\n",
    "    print(\"\\n\")"
   ]
  },
  {
   "cell_type": "markdown",
   "metadata": {
    "tags": [
     "h"
    ]
   },
   "source": [
    "Pro  přehlednost lze využít výstup v podobě HTML tabulky (ta to však lze využít jen v Jupyter noteboocích)."
   ]
  },
  {
   "cell_type": "code",
   "execution_count": 25,
   "metadata": {
    "tags": [
     "h"
    ]
   },
   "outputs": [
    {
     "data": {
      "text/html": [
       "<table><tr><th/><th>0</th><th>1</th><th>2</th><th>3</th><th>4</th><th>5</th><th>6</th></tr><th>0</th><td>0</td><td>1</td><td>2</td><td>3</td><td>4</td><td>5</td><td>6</td></tr><th>1</th><td>1</td><td>2</td><td>3</td><td>4</td><td>5</td><td>6</td><td>0</td></tr><th>2</th><td>2</td><td>3</td><td>4</td><td>5</td><td>6</td><td>0</td><td>1</td></tr><th>3</th><td>3</td><td>4</td><td>5</td><td>6</td><td>0</td><td>1</td><td>2</td></tr><th>4</th><td>4</td><td>5</td><td>6</td><td>0</td><td>1</td><td>2</td><td>3</td></tr><th>5</th><td>5</td><td>6</td><td>0</td><td>1</td><td>2</td><td>3</td><td>4</td></tr><th>6</th><td>6</td><td>0</td><td>1</td><td>2</td><td>3</td><td>4</td><td>5</td></tr></table>"
      ],
      "text/plain": [
       "<IPython.core.display.HTML object>"
      ]
     },
     "metadata": {},
     "output_type": "display_data"
    }
   ],
   "source": [
    "from IPython.core.display import display, HTML\n",
    "lines = \"<tr><th/>\" + \"\".join(f\"<th>{hj}</th>\" for hj in range(7)) + \"</tr>\"\n",
    "for i in range(7):\n",
    "    lines += f\"<th>{i}</th>\"\n",
    "    for j in range(7):\n",
    "        lines += f\"<td>{Z7(i)+Z7(j)}</td>\"\n",
    "    lines += \"</tr>\"\n",
    "display(HTML(f\"<table>{lines}</table>\"))"
   ]
  },
  {
   "cell_type": "markdown",
   "metadata": {},
   "source": [
    "> **Úkol**: Doplňte další operace modulární aritmetiky): násobení, opačná hodnota (unární minus, vrací takové číslo, že jeho přičtením získáme 0), resp. odečítání (= přičtení opačného čísla)."
   ]
  },
  {
   "cell_type": "markdown",
   "metadata": {},
   "source": [
    "## Kolekce jako abstraktní datové typy"
   ]
  },
  {
   "cell_type": "markdown",
   "metadata": {},
   "source": [
    "Typickým příkladem abstraktních datových typů jsou kolekce například seznam a slovník."
   ]
  },
  {
   "cell_type": "markdown",
   "metadata": {},
   "source": [
    ">**Otázka**: Jaké operace definují seznam a množinu. Jaké mají minimální požadavky na časovou složitost?"
   ]
  },
  {
   "cell_type": "markdown",
   "metadata": {},
   "source": [
    "Klasickým ADT (abstraktní datový typ) je dvojice dvou kolekcí s jednoduchým, ale velmi užitečným rozhraním — zásobník a fronta (*stack* a *queue*). Python tyto ADT přímo nepodporuje, lze je však snadno realizovat pomocí vestavěných kolekcí (pro frontu modul, který však implementuje speciální verzi fronty vhodnou pro paralelní programování)."
   ]
  },
  {
   "cell_type": "markdown",
   "metadata": {},
   "source": [
    "### Zásobník"
   ]
  },
  {
   "cell_type": "markdown",
   "metadata": {},
   "source": [
    "Zásobník (angl. *stack*) je datová struktura, která ve své klasické podobě podporuje jen dvě základní operace pro vkládání a vyjímání prvků a jednu (nepovinnou ale užitečnou) vlastnost, která testuje zda je zasobník prázdný:\n",
    "\n",
    "1. operace `push`: vkládá do zásobníku libovolný objekt (ta je parametrem metody)\n",
    "2. operace `pop`: vyjímá ze zásobníku **naposledy** vložený objekt. Pokud je zásobník prázdný, tak je chování této operace nedefinované (metody by mělě vyhodit výjimku)\n",
    "3. vlastnost `isEmpty`: vrací `true`, pokud je zásobník prázdný (což platí i bezprostředně po jeho vytvoření), jinak `false`.\n",
    "\n",
    "Pro zásobník je tedy typické že poslední vložená hodnota je jako první vyjímána a proto se běžně označuje zkratkou **LIFO** (*last in first out*).\n",
    "\n",
    "![Operace nad zásobníkem](https://upload.wikimedia.org/wikipedia/commons/b/b4/Lifo_stack.png)\n",
    "\n",
    "Implementace zásobníku v Pythonu je snadná, neboť příslušné metody jsou již podporovány nad seznamem. Vytvořením vlastní třídy, ale zakryjeme implementaci a zpřístupníme jen ty správné opaerace (pod klasickými jmény)."
   ]
  },
  {
   "cell_type": "code",
   "execution_count": 29,
   "metadata": {},
   "outputs": [],
   "source": [
    "class Stack:\n",
    "    def __init__(self):\n",
    "        self.data = [] # zásobník je prázdný\n",
    "    def push(self, value): # vložení\n",
    "        self.data.append(value) # přidáme na konec seznamu\n",
    "    def pop(self): # vyjmutí posledního vloženého\n",
    "        return self.data.pop() # vyjímá poslední prvek = naposledy vložený\n",
    "    def isEmpty(self):\n",
    "        return not self.data \n",
    "    # seznam se v kontextu, kdy je očekávána log. hodnota vyhodnotí na `true` je-li neprázdný"
   ]
  },
  {
   "cell_type": "code",
   "execution_count": 34,
   "metadata": {},
   "outputs": [
    {
     "name": "stdout",
     "output_type": "stream",
     "text": [
      "False\n",
      "5\n",
      "2\n",
      "True\n"
     ]
    }
   ],
   "source": [
    "s = Stack()\n",
    "s.push(2)\n",
    "s.push(5)\n",
    "\n",
    "print(s.isEmpty())\n",
    "\n",
    "print(s.pop())\n",
    "print(s.pop())\n",
    "\n",
    "print(s.isEmpty())\n"
   ]
  },
  {
   "cell_type": "markdown",
   "metadata": {},
   "source": [
    "> **Úkol**: Ověřte, jak se chová metoda `pop` nad prázdným zásobník (opravte definici zásobníku, tak aby vznikla výjimka se lepší sémantikou tj. lepším popisem důvodu vzniku výjimky)"
   ]
  },
  {
   "cell_type": "markdown",
   "metadata": {},
   "source": [
    "Implementace je efektivní, neboť všechny metody mají časovou složitost $O(1)$."
   ]
  },
  {
   "cell_type": "markdown",
   "metadata": {},
   "source": [
    "Kromě zákaldních metod implementace zásobníku podporují i další (výsledkem je mírně pozměněné ADT, které lze označit jako *rozšířený zásobník*).\n",
    "\n",
    "* metoda `top` vracející horní (= naposledy vloženou) hodnotu, aniž by ji vyjmula ze zásobníku\n",
    "* vlastnost `length` vracející počet aktuálně uložených prvků (někdy je implementována namísto vlastnosti `isEmpty`).\n",
    "\n",
    "> **Úkol**: Implementujte tyto dodatečné operace (vlastnost `length` pomocí speciálné metody `__len__`, která je volána při použití vestavěné metody `len`). "
   ]
  },
  {
   "cell_type": "markdown",
   "metadata": {},
   "source": [
    "### Fronta\n",
    "\n",
    "Fronta (angl. *queue*, výslovnoat *kjú*) je abstraktní datový typ, jejíž rozhraní je podobné zásobníku. Operace pro vkládání se běžně nazývá `enqueue`, operace vyjímání `dequeue` (názvy nejsou tak zažité jako u zásobníku). Hlavním rozdílem je sémantika operace vyjímání, která vyjímá první (ještě nevyjmutou hodnotu), tj. realizuje strategii **FIFO** (*first in first out*).\n",
    "\n",
    "Fronta tudíž skutečně odpovídá frontám známým z obchodů apod. I ve frontě je první obsloužen ten, kdo jako první přišel.\n",
    "\n",
    "![Fronta](https://upload.wikimedia.org/wikipedia/commons/thumb/5/52/Data_Queue.svg/500px-Data_Queue.svg.png)"
   ]
  },
  {
   "cell_type": "markdown",
   "metadata": {},
   "source": [
    "Implementace fronty v Pythonu není tak přímočará jako u zásobníku. Naivní implementace je obdobná zásobníku (jedinou změnou kromě změn jmen metod je jiná implementace vyjímání)."
   ]
  },
  {
   "cell_type": "code",
   "execution_count": 36,
   "metadata": {},
   "outputs": [],
   "source": [
    "class Queue:\n",
    "    def __init__(self):\n",
    "        self.data = [] # fronta je prázdná\n",
    "    def enqueue(self, value): # vložení\n",
    "        self.data.append(value) # přidáme na konec seznamu\n",
    "    def dequeue(self): # vyjmutí posledního vloženého\n",
    "        return self.data.pop(0) # vyjímá první prvek = nejdříve vložený\n",
    "    def isEmpty(self):\n",
    "        return not self.data \n",
    "    # seznam se v kontextu, kdy je očekávána log. hodnota vyhodnotí na `true` je-li neprázdný"
   ]
  },
  {
   "cell_type": "code",
   "execution_count": 37,
   "metadata": {},
   "outputs": [
    {
     "name": "stdout",
     "output_type": "stream",
     "text": [
      "False\n",
      "1\n",
      "2\n",
      "True\n"
     ]
    }
   ],
   "source": [
    "q = Queue()\n",
    "q.enqueue(1)\n",
    "q.enqueue(2)\n",
    "\n",
    "print(q.isEmpty())\n",
    "\n",
    "print(q.dequeue())\n",
    "print(q.dequeue())\n",
    "\n",
    "print(q.isEmpty())"
   ]
  },
  {
   "cell_type": "markdown",
   "metadata": {},
   "source": [
    "Implementace funguje, ale časová složitost operace `dequeu` není optimální, neboť je rovna $O(n)$, kde $n$ je v tomto případě rovno průměrné délce fronty (= aktuálnímu počtu prvků).\n",
    "Nezáleží tudíž na celkovém počtu vložených hodnot, ale jen na počtu uchovávaných (= vložených a ještě nevybraných). "
   ]
  },
  {
   "cell_type": "markdown",
   "metadata": {},
   "source": [
    "V zásadě existují dvě řešení tohoto problému:\n",
    "\n",
    "1. použití lineární datové struktury, která zajišťuje časovou složitost $O(1)$ na onou koncích kolekce. V Pythonu je to primárně tzv. oboustranná fronta angl. *deque* (vyslovnost *dek*), Výhodou je použití téměř identického kódu (mění se jen volání konstruktoru interní kolekce a odebrání prvku se začátku),\n",
    "2. Použití tzv. kruhové fronty. Výhodou je nezávislost na další (a obecně komplikovanější) datové struktuře. Hlavní nevýhodou je omezená maximální velikost fronty, která musí být známa předem (je tak nutno řešit přeplnění fronty)."
   ]
  },
  {
   "cell_type": "code",
   "execution_count": 40,
   "metadata": {},
   "outputs": [],
   "source": [
    "import collections\n",
    "\n",
    "class FQueue:\n",
    "    def __init__(self):\n",
    "        self.data = collections.deque() # prázdná obousměrná fronta\n",
    "    def enqueue(self, value): # vložení\n",
    "        self.data.append(value) # přidáme na konec seznamu\n",
    "    def dequeue(self): # vyjmutí posledního vloženého\n",
    "        return self.data.popleft() # vyjímá první prvek = nejdříve vložený\n",
    "    def isEmpty(self):\n",
    "        return not self.data \n",
    "    # seznam se v kontextu, kdy je očekávána log. hodnota vyhodnotí na `true` je-li neprázdný"
   ]
  },
  {
   "cell_type": "code",
   "execution_count": 41,
   "metadata": {},
   "outputs": [
    {
     "name": "stdout",
     "output_type": "stream",
     "text": [
      "False\n",
      "1\n",
      "2\n",
      "True\n"
     ]
    }
   ],
   "source": [
    "q = FQueue()\n",
    "q.enqueue(1)\n",
    "q.enqueue(2)\n",
    "\n",
    "print(q.isEmpty())\n",
    "\n",
    "print(q.dequeue())\n",
    "print(q.dequeue())\n",
    "\n",
    "print(q.isEmpty())"
   ]
  },
  {
   "cell_type": "markdown",
   "metadata": {},
   "source": [
    ">**Úkol**: Implementujte cyklickou (kruhovou) frontu.  Popis jehí funkce najdete např. na https://en.wikipedia.org/wiki/Circular_buffer."
   ]
  },
  {
   "cell_type": "code",
   "execution_count": null,
   "metadata": {},
   "outputs": [],
   "source": []
  }
 ],
 "metadata": {
  "kernelspec": {
   "display_name": "Python 3",
   "language": "python",
   "name": "python3"
  },
  "language_info": {
   "codemirror_mode": {
    "name": "ipython",
    "version": 3
   },
   "file_extension": ".py",
   "mimetype": "text/x-python",
   "name": "python",
   "nbconvert_exporter": "python",
   "pygments_lexer": "ipython3",
   "version": "3.7.7"
  }
 },
 "nbformat": 4,
 "nbformat_minor": 4
}
