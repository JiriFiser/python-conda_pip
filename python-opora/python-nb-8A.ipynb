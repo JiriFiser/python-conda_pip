{
 "cells": [
  {
   "cell_type": "markdown",
   "metadata": {},
   "source": [
    "# Výjimky\n",
    "\n",
    "V programu se často vyskytují situace, kdy není definováno, jak postupovat dál. Běžný běh programu není možný (např. z důvodů, že něco chybí) a v daném místě nelze zajistit ani žádné náhradní řešení.\n"
   ]
  },
  {
   "cell_type": "markdown",
   "metadata": {},
   "source": [
    "Příklady:\n",
    "\n",
    "a) Funkce hledající průměr dostane prázdný seznam. Pro tento seznam není definován průměr a alternativní řešení jsou nevhodná nebo matoucí:\n",
    "* vrácení hodnoty None (problém se jen odsune, s hodnotou `None` nelze dělat žádné aritmetické výpočty\n",
    "* vrácení hodnoty `math.NaN` (hodnotu `Nan` nesmí vidět koncový uživatel, a obtížně se zjišťuje, kde vznikla)\n",
    "* vrácení 0 (nejvíc matoucí, 0 je možným průměrem, ale nikoliv u prízdného seznamu). Jaká je průměrná tělesná teplota prázdného seznamu lidí? (0? a v jakých stupních 0°C nebo 0 K)\n",
    "* nic se nevrací (v Pythonu shodné s vrácením `None`, v některých jiných jazycích nemožné)"
   ]
  },
  {
   "cell_type": "code",
   "execution_count": 1,
   "metadata": {},
   "outputs": [
    {
     "ename": "ValueError",
     "evalue": "max() arg is an empty sequence",
     "output_type": "error",
     "traceback": [
      "\u001b[0;31m---------------------------------------------------------------------------\u001b[0m",
      "\u001b[0;31mValueError\u001b[0m                                Traceback (most recent call last)",
      "\u001b[0;32m<ipython-input-1-a48d8f8c12de>\u001b[0m in \u001b[0;36m<module>\u001b[0;34m\u001b[0m\n\u001b[0;32m----> 1\u001b[0;31m \u001b[0mmax\u001b[0m\u001b[0;34m(\u001b[0m\u001b[0;34m[\u001b[0m\u001b[0;34m]\u001b[0m\u001b[0;34m)\u001b[0m\u001b[0;34m\u001b[0m\u001b[0;34m\u001b[0m\u001b[0m\n\u001b[0m",
      "\u001b[0;31mValueError\u001b[0m: max() arg is an empty sequence"
     ]
    }
   ],
   "source": [
    "max([])"
   ]
  },
  {
   "cell_type": "markdown",
   "metadata": {},
   "source": [
    "b) Funkce, která komunikuje s HTTP serverem provede operaci GET s neplatným nebo neexistujícím URL. Zde sice zdánlově existuje relativně rozumná možnost, tj. vrácení chybové hodnoty (HTTP error code), ale ty jsou podle standardu generovány HTTP serverem nikoliv klientem."
   ]
  },
  {
   "cell_type": "code",
   "execution_count": 1,
   "metadata": {},
   "outputs": [],
   "source": [
    "from requests import get"
   ]
  },
  {
   "cell_type": "code",
   "execution_count": 4,
   "metadata": {},
   "outputs": [
    {
     "ename": "MissingSchema",
     "evalue": "Invalid URL 'xx': No schema supplied. Perhaps you meant http://xx?",
     "output_type": "error",
     "traceback": [
      "\u001b[0;31m---------------------------------------------------------------------------\u001b[0m",
      "\u001b[0;31mMissingSchema\u001b[0m                             Traceback (most recent call last)",
      "\u001b[0;32m<ipython-input-4-66b9090fe734>\u001b[0m in \u001b[0;36m<module>\u001b[0;34m\u001b[0m\n\u001b[0;32m----> 1\u001b[0;31m \u001b[0mget\u001b[0m\u001b[0;34m(\u001b[0m\u001b[0;34m\"xx\"\u001b[0m\u001b[0;34m)\u001b[0m\u001b[0;34m\u001b[0m\u001b[0;34m\u001b[0m\u001b[0m\n\u001b[0m",
      "\u001b[0;32m~/apps/intelpython3/lib/python3.7/site-packages/requests/api.py\u001b[0m in \u001b[0;36mget\u001b[0;34m(url, params, **kwargs)\u001b[0m\n\u001b[1;32m     73\u001b[0m \u001b[0;34m\u001b[0m\u001b[0m\n\u001b[1;32m     74\u001b[0m     \u001b[0mkwargs\u001b[0m\u001b[0;34m.\u001b[0m\u001b[0msetdefault\u001b[0m\u001b[0;34m(\u001b[0m\u001b[0;34m'allow_redirects'\u001b[0m\u001b[0;34m,\u001b[0m \u001b[0;32mTrue\u001b[0m\u001b[0;34m)\u001b[0m\u001b[0;34m\u001b[0m\u001b[0;34m\u001b[0m\u001b[0m\n\u001b[0;32m---> 75\u001b[0;31m     \u001b[0;32mreturn\u001b[0m \u001b[0mrequest\u001b[0m\u001b[0;34m(\u001b[0m\u001b[0;34m'get'\u001b[0m\u001b[0;34m,\u001b[0m \u001b[0murl\u001b[0m\u001b[0;34m,\u001b[0m \u001b[0mparams\u001b[0m\u001b[0;34m=\u001b[0m\u001b[0mparams\u001b[0m\u001b[0;34m,\u001b[0m \u001b[0;34m**\u001b[0m\u001b[0mkwargs\u001b[0m\u001b[0;34m)\u001b[0m\u001b[0;34m\u001b[0m\u001b[0;34m\u001b[0m\u001b[0m\n\u001b[0m\u001b[1;32m     76\u001b[0m \u001b[0;34m\u001b[0m\u001b[0m\n\u001b[1;32m     77\u001b[0m \u001b[0;34m\u001b[0m\u001b[0m\n",
      "\u001b[0;32m~/apps/intelpython3/lib/python3.7/site-packages/requests/api.py\u001b[0m in \u001b[0;36mrequest\u001b[0;34m(method, url, **kwargs)\u001b[0m\n\u001b[1;32m     58\u001b[0m     \u001b[0;31m# cases, and look like a memory leak in others.\u001b[0m\u001b[0;34m\u001b[0m\u001b[0;34m\u001b[0m\u001b[0;34m\u001b[0m\u001b[0m\n\u001b[1;32m     59\u001b[0m     \u001b[0;32mwith\u001b[0m \u001b[0msessions\u001b[0m\u001b[0;34m.\u001b[0m\u001b[0mSession\u001b[0m\u001b[0;34m(\u001b[0m\u001b[0;34m)\u001b[0m \u001b[0;32mas\u001b[0m \u001b[0msession\u001b[0m\u001b[0;34m:\u001b[0m\u001b[0;34m\u001b[0m\u001b[0;34m\u001b[0m\u001b[0m\n\u001b[0;32m---> 60\u001b[0;31m         \u001b[0;32mreturn\u001b[0m \u001b[0msession\u001b[0m\u001b[0;34m.\u001b[0m\u001b[0mrequest\u001b[0m\u001b[0;34m(\u001b[0m\u001b[0mmethod\u001b[0m\u001b[0;34m=\u001b[0m\u001b[0mmethod\u001b[0m\u001b[0;34m,\u001b[0m \u001b[0murl\u001b[0m\u001b[0;34m=\u001b[0m\u001b[0murl\u001b[0m\u001b[0;34m,\u001b[0m \u001b[0;34m**\u001b[0m\u001b[0mkwargs\u001b[0m\u001b[0;34m)\u001b[0m\u001b[0;34m\u001b[0m\u001b[0;34m\u001b[0m\u001b[0m\n\u001b[0m\u001b[1;32m     61\u001b[0m \u001b[0;34m\u001b[0m\u001b[0m\n\u001b[1;32m     62\u001b[0m \u001b[0;34m\u001b[0m\u001b[0m\n",
      "\u001b[0;32m~/apps/intelpython3/lib/python3.7/site-packages/requests/sessions.py\u001b[0m in \u001b[0;36mrequest\u001b[0;34m(self, method, url, params, data, headers, cookies, files, auth, timeout, allow_redirects, proxies, hooks, stream, verify, cert, json)\u001b[0m\n\u001b[1;32m    517\u001b[0m             \u001b[0mhooks\u001b[0m\u001b[0;34m=\u001b[0m\u001b[0mhooks\u001b[0m\u001b[0;34m,\u001b[0m\u001b[0;34m\u001b[0m\u001b[0;34m\u001b[0m\u001b[0m\n\u001b[1;32m    518\u001b[0m         )\n\u001b[0;32m--> 519\u001b[0;31m         \u001b[0mprep\u001b[0m \u001b[0;34m=\u001b[0m \u001b[0mself\u001b[0m\u001b[0;34m.\u001b[0m\u001b[0mprepare_request\u001b[0m\u001b[0;34m(\u001b[0m\u001b[0mreq\u001b[0m\u001b[0;34m)\u001b[0m\u001b[0;34m\u001b[0m\u001b[0;34m\u001b[0m\u001b[0m\n\u001b[0m\u001b[1;32m    520\u001b[0m \u001b[0;34m\u001b[0m\u001b[0m\n\u001b[1;32m    521\u001b[0m         \u001b[0mproxies\u001b[0m \u001b[0;34m=\u001b[0m \u001b[0mproxies\u001b[0m \u001b[0;32mor\u001b[0m \u001b[0;34m{\u001b[0m\u001b[0;34m}\u001b[0m\u001b[0;34m\u001b[0m\u001b[0;34m\u001b[0m\u001b[0m\n",
      "\u001b[0;32m~/apps/intelpython3/lib/python3.7/site-packages/requests/sessions.py\u001b[0m in \u001b[0;36mprepare_request\u001b[0;34m(self, request)\u001b[0m\n\u001b[1;32m    460\u001b[0m             \u001b[0mauth\u001b[0m\u001b[0;34m=\u001b[0m\u001b[0mmerge_setting\u001b[0m\u001b[0;34m(\u001b[0m\u001b[0mauth\u001b[0m\u001b[0;34m,\u001b[0m \u001b[0mself\u001b[0m\u001b[0;34m.\u001b[0m\u001b[0mauth\u001b[0m\u001b[0;34m)\u001b[0m\u001b[0;34m,\u001b[0m\u001b[0;34m\u001b[0m\u001b[0;34m\u001b[0m\u001b[0m\n\u001b[1;32m    461\u001b[0m             \u001b[0mcookies\u001b[0m\u001b[0;34m=\u001b[0m\u001b[0mmerged_cookies\u001b[0m\u001b[0;34m,\u001b[0m\u001b[0;34m\u001b[0m\u001b[0;34m\u001b[0m\u001b[0m\n\u001b[0;32m--> 462\u001b[0;31m             \u001b[0mhooks\u001b[0m\u001b[0;34m=\u001b[0m\u001b[0mmerge_hooks\u001b[0m\u001b[0;34m(\u001b[0m\u001b[0mrequest\u001b[0m\u001b[0;34m.\u001b[0m\u001b[0mhooks\u001b[0m\u001b[0;34m,\u001b[0m \u001b[0mself\u001b[0m\u001b[0;34m.\u001b[0m\u001b[0mhooks\u001b[0m\u001b[0;34m)\u001b[0m\u001b[0;34m,\u001b[0m\u001b[0;34m\u001b[0m\u001b[0;34m\u001b[0m\u001b[0m\n\u001b[0m\u001b[1;32m    463\u001b[0m         )\n\u001b[1;32m    464\u001b[0m         \u001b[0;32mreturn\u001b[0m \u001b[0mp\u001b[0m\u001b[0;34m\u001b[0m\u001b[0;34m\u001b[0m\u001b[0m\n",
      "\u001b[0;32m~/apps/intelpython3/lib/python3.7/site-packages/requests/models.py\u001b[0m in \u001b[0;36mprepare\u001b[0;34m(self, method, url, headers, files, data, params, auth, cookies, hooks, json)\u001b[0m\n\u001b[1;32m    311\u001b[0m \u001b[0;34m\u001b[0m\u001b[0m\n\u001b[1;32m    312\u001b[0m         \u001b[0mself\u001b[0m\u001b[0;34m.\u001b[0m\u001b[0mprepare_method\u001b[0m\u001b[0;34m(\u001b[0m\u001b[0mmethod\u001b[0m\u001b[0;34m)\u001b[0m\u001b[0;34m\u001b[0m\u001b[0;34m\u001b[0m\u001b[0m\n\u001b[0;32m--> 313\u001b[0;31m         \u001b[0mself\u001b[0m\u001b[0;34m.\u001b[0m\u001b[0mprepare_url\u001b[0m\u001b[0;34m(\u001b[0m\u001b[0murl\u001b[0m\u001b[0;34m,\u001b[0m \u001b[0mparams\u001b[0m\u001b[0;34m)\u001b[0m\u001b[0;34m\u001b[0m\u001b[0;34m\u001b[0m\u001b[0m\n\u001b[0m\u001b[1;32m    314\u001b[0m         \u001b[0mself\u001b[0m\u001b[0;34m.\u001b[0m\u001b[0mprepare_headers\u001b[0m\u001b[0;34m(\u001b[0m\u001b[0mheaders\u001b[0m\u001b[0;34m)\u001b[0m\u001b[0;34m\u001b[0m\u001b[0;34m\u001b[0m\u001b[0m\n\u001b[1;32m    315\u001b[0m         \u001b[0mself\u001b[0m\u001b[0;34m.\u001b[0m\u001b[0mprepare_cookies\u001b[0m\u001b[0;34m(\u001b[0m\u001b[0mcookies\u001b[0m\u001b[0;34m)\u001b[0m\u001b[0;34m\u001b[0m\u001b[0;34m\u001b[0m\u001b[0m\n",
      "\u001b[0;32m~/apps/intelpython3/lib/python3.7/site-packages/requests/models.py\u001b[0m in \u001b[0;36mprepare_url\u001b[0;34m(self, url, params)\u001b[0m\n\u001b[1;32m    385\u001b[0m             \u001b[0merror\u001b[0m \u001b[0;34m=\u001b[0m \u001b[0merror\u001b[0m\u001b[0;34m.\u001b[0m\u001b[0mformat\u001b[0m\u001b[0;34m(\u001b[0m\u001b[0mto_native_string\u001b[0m\u001b[0;34m(\u001b[0m\u001b[0murl\u001b[0m\u001b[0;34m,\u001b[0m \u001b[0;34m'utf8'\u001b[0m\u001b[0;34m)\u001b[0m\u001b[0;34m)\u001b[0m\u001b[0;34m\u001b[0m\u001b[0;34m\u001b[0m\u001b[0m\n\u001b[1;32m    386\u001b[0m \u001b[0;34m\u001b[0m\u001b[0m\n\u001b[0;32m--> 387\u001b[0;31m             \u001b[0;32mraise\u001b[0m \u001b[0mMissingSchema\u001b[0m\u001b[0;34m(\u001b[0m\u001b[0merror\u001b[0m\u001b[0;34m)\u001b[0m\u001b[0;34m\u001b[0m\u001b[0;34m\u001b[0m\u001b[0m\n\u001b[0m\u001b[1;32m    388\u001b[0m \u001b[0;34m\u001b[0m\u001b[0m\n\u001b[1;32m    389\u001b[0m         \u001b[0;32mif\u001b[0m \u001b[0;32mnot\u001b[0m \u001b[0mhost\u001b[0m\u001b[0;34m:\u001b[0m\u001b[0;34m\u001b[0m\u001b[0;34m\u001b[0m\u001b[0m\n",
      "\u001b[0;31mMissingSchema\u001b[0m: Invalid URL 'xx': No schema supplied. Perhaps you meant http://xx?"
     ]
    }
   ],
   "source": [
    "get(\"xx\")"
   ]
  },
  {
   "cell_type": "markdown",
   "metadata": {},
   "source": [
    "c) uživatel přeruší běh programu (například během vstupu). To lze v Jupyter notebooku provést pomocí menu `Kernel|Interrupt kernel` (pří běhu skriptu pak klávesou `Ctrl+C`). Uživatel jasně naznačil, že běžné ukončení programu není možné (resp. požadované)."
   ]
  },
  {
   "cell_type": "code",
   "execution_count": 2,
   "metadata": {},
   "outputs": [
    {
     "ename": "KeyboardInterrupt",
     "evalue": "Interrupted by user",
     "output_type": "error",
     "traceback": [
      "\u001b[0;31m---------------------------------------------------------------------------\u001b[0m",
      "\u001b[0;31mKeyboardInterrupt\u001b[0m                         Traceback (most recent call last)",
      "\u001b[0;32m<ipython-input-2-598608388cb3>\u001b[0m in \u001b[0;36m<module>\u001b[0;34m\u001b[0m\n\u001b[0;32m----> 1\u001b[0;31m \u001b[0mx\u001b[0m \u001b[0;34m=\u001b[0m \u001b[0minput\u001b[0m\u001b[0;34m(\u001b[0m\u001b[0;34m)\u001b[0m\u001b[0;34m\u001b[0m\u001b[0;34m\u001b[0m\u001b[0m\n\u001b[0m",
      "\u001b[0;32m~/apps/intelpython3/lib/python3.7/site-packages/ipykernel/kernelbase.py\u001b[0m in \u001b[0;36mraw_input\u001b[0;34m(self, prompt)\u001b[0m\n\u001b[1;32m    861\u001b[0m             \u001b[0mself\u001b[0m\u001b[0;34m.\u001b[0m\u001b[0m_parent_ident\u001b[0m\u001b[0;34m,\u001b[0m\u001b[0;34m\u001b[0m\u001b[0;34m\u001b[0m\u001b[0m\n\u001b[1;32m    862\u001b[0m             \u001b[0mself\u001b[0m\u001b[0;34m.\u001b[0m\u001b[0m_parent_header\u001b[0m\u001b[0;34m,\u001b[0m\u001b[0;34m\u001b[0m\u001b[0;34m\u001b[0m\u001b[0m\n\u001b[0;32m--> 863\u001b[0;31m             \u001b[0mpassword\u001b[0m\u001b[0;34m=\u001b[0m\u001b[0;32mFalse\u001b[0m\u001b[0;34m,\u001b[0m\u001b[0;34m\u001b[0m\u001b[0;34m\u001b[0m\u001b[0m\n\u001b[0m\u001b[1;32m    864\u001b[0m         )\n\u001b[1;32m    865\u001b[0m \u001b[0;34m\u001b[0m\u001b[0m\n",
      "\u001b[0;32m~/apps/intelpython3/lib/python3.7/site-packages/ipykernel/kernelbase.py\u001b[0m in \u001b[0;36m_input_request\u001b[0;34m(self, prompt, ident, parent, password)\u001b[0m\n\u001b[1;32m    891\u001b[0m             \u001b[0;32mexcept\u001b[0m \u001b[0mKeyboardInterrupt\u001b[0m\u001b[0;34m:\u001b[0m\u001b[0;34m\u001b[0m\u001b[0;34m\u001b[0m\u001b[0m\n\u001b[1;32m    892\u001b[0m                 \u001b[0;31m# re-raise KeyboardInterrupt, to truncate traceback\u001b[0m\u001b[0;34m\u001b[0m\u001b[0;34m\u001b[0m\u001b[0;34m\u001b[0m\u001b[0m\n\u001b[0;32m--> 893\u001b[0;31m                 \u001b[0;32mraise\u001b[0m \u001b[0mKeyboardInterrupt\u001b[0m\u001b[0;34m(\u001b[0m\u001b[0;34m\"Interrupted by user\"\u001b[0m\u001b[0;34m)\u001b[0m \u001b[0;32mfrom\u001b[0m \u001b[0;32mNone\u001b[0m\u001b[0;34m\u001b[0m\u001b[0;34m\u001b[0m\u001b[0m\n\u001b[0m\u001b[1;32m    894\u001b[0m             \u001b[0;32melse\u001b[0m\u001b[0;34m:\u001b[0m\u001b[0;34m\u001b[0m\u001b[0;34m\u001b[0m\u001b[0m\n\u001b[1;32m    895\u001b[0m                 \u001b[0;32mbreak\u001b[0m\u001b[0;34m\u001b[0m\u001b[0;34m\u001b[0m\u001b[0m\n",
      "\u001b[0;31mKeyboardInterrupt\u001b[0m: Interrupted by user"
     ]
    }
   ],
   "source": [
    "x = input()"
   ]
  },
  {
   "cell_type": "markdown",
   "metadata": {},
   "source": [
    "Program (přesněji řečeno běhová podpora Pythonu) zareagovala ve všech těchto případech stejně. Program je přerušen a vznikne objekt označovaný jako výjimka. Ten nese dvě základní informace:\n",
    "\n",
    "1. důvod proč nelze pokračovat v programu\n",
    "2. místo, kde byl program přerušen\n",
    "\n",
    "Standardní reakcí na vznik výjimky (a tím i dočasné) přerušení programu je bezprostřední dokončení programu a výpis informací o výjimce (krátký anglický text + místo vzniku výjimky). \n",
    "\n",
    "Jednou z možných interpretací výjimky je vzdát **vzdání se odpovědnosti**. Když už nějaký kód neví jak dál, tak se může vzdát odpovědnosti  a nechat řešení na jiné části kódu počítaje v to i kód, který program rozumně ukončí (rozumně = například s hlášením, co a kde se stalo)\n",
    "\n",
    "> **Úkol**: Uveďte i další případy, kdy program končí výjimkou."
   ]
  },
  {
   "cell_type": "markdown",
   "metadata": {},
   "source": [
    "## Vyhození výjimky\n",
    "\n",
    "Výjimka však nemusí vzniknout jen externím přičiněním (tj. přerušením programu uživatelem resp. operačním systémem) nebo uvnitř knihovních metod a funkcí (jako tomu bylo u funkce `max` či `requests.get`). Může to udělat o programátor. pokud se dostane do situace. kdy neexistuje žádné obecně použitelné řešení a musí se tak vzdát odpovědnosti.\n",
    "\n",
    "Děje se tak mechanismem označovaným jako **vyhození výjimky**. Příkaz `raise` pozastaví program a vytvoří objket výjimky, která nese informaci o příčině.\n",
    "\n",
    "Ukažme si příklad. Následující funkce má za úkol najít průsečík dvou přímek zadaných v obecném tvaru $ax+by+c=0$. Funkce by měla vracet jeden bod. V případě, že jsou přímky rovnoběžné, není návratová hodnota definována (protože takový bod neexistuje resp. existuje nekonečně mnoho bodů). Funkce se proto zbaví odpovědnosti tím, že vyhodí výjimku."
   ]
  },
  {
   "cell_type": "code",
   "execution_count": 6,
   "metadata": {},
   "outputs": [],
   "source": [
    "def intersection(p, q):\n",
    "    pa,pb,pc = p # dekonstrukce hodnot z n-tic resp. seznamů\n",
    "    qa,qb,qc = q\n",
    "    det = pa * qb - pb * qa\n",
    "    if pa * qb - pb * qa == 0:  # normálové vektory jsou závislé (determinant = 0)\n",
    "        raise Exception(\"Parallel lines\") # vyhození výjimky\n",
    "    return (pc * qb - pb * qc)/det, (pa * qc - pc * qa)/det # Crammerovo pravidlo\n",
    "    "
   ]
  },
  {
   "cell_type": "code",
   "execution_count": 4,
   "metadata": {},
   "outputs": [
    {
     "data": {
      "text/plain": [
       "(-3.0, 3.0)"
      ]
     },
     "execution_count": 4,
     "metadata": {},
     "output_type": "execute_result"
    }
   ],
   "source": [
    "intersection((1,1,0), (0,1,3)) # průsečík existuje"
   ]
  },
  {
   "cell_type": "code",
   "execution_count": 7,
   "metadata": {},
   "outputs": [
    {
     "ename": "Exception",
     "evalue": "Parallel lines",
     "output_type": "error",
     "traceback": [
      "\u001b[0;31m---------------------------------------------------------------------------\u001b[0m",
      "\u001b[0;31mException\u001b[0m                                 Traceback (most recent call last)",
      "\u001b[0;32m<ipython-input-7-5b4ceb58d934>\u001b[0m in \u001b[0;36m<module>\u001b[0;34m\u001b[0m\n\u001b[0;32m----> 1\u001b[0;31m \u001b[0mintersection\u001b[0m\u001b[0;34m(\u001b[0m\u001b[0;34m(\u001b[0m\u001b[0;36m2\u001b[0m\u001b[0;34m,\u001b[0m\u001b[0;36m3\u001b[0m\u001b[0;34m,\u001b[0m\u001b[0;36m4\u001b[0m\u001b[0;34m)\u001b[0m\u001b[0;34m,\u001b[0m \u001b[0;34m(\u001b[0m\u001b[0;36m4\u001b[0m\u001b[0;34m,\u001b[0m\u001b[0;36m6\u001b[0m\u001b[0;34m,\u001b[0m\u001b[0;36m1\u001b[0m\u001b[0;34m)\u001b[0m\u001b[0;34m)\u001b[0m\u001b[0;34m\u001b[0m\u001b[0;34m\u001b[0m\u001b[0m\n\u001b[0m",
      "\u001b[0;32m<ipython-input-6-5f7deba820e7>\u001b[0m in \u001b[0;36mintersection\u001b[0;34m(p, q)\u001b[0m\n\u001b[1;32m      4\u001b[0m     \u001b[0mdet\u001b[0m \u001b[0;34m=\u001b[0m \u001b[0mpa\u001b[0m \u001b[0;34m*\u001b[0m \u001b[0mqb\u001b[0m \u001b[0;34m-\u001b[0m \u001b[0mpb\u001b[0m \u001b[0;34m*\u001b[0m \u001b[0mqa\u001b[0m\u001b[0;34m\u001b[0m\u001b[0;34m\u001b[0m\u001b[0m\n\u001b[1;32m      5\u001b[0m     \u001b[0;32mif\u001b[0m \u001b[0mpa\u001b[0m \u001b[0;34m*\u001b[0m \u001b[0mqb\u001b[0m \u001b[0;34m-\u001b[0m \u001b[0mpb\u001b[0m \u001b[0;34m*\u001b[0m \u001b[0mqa\u001b[0m \u001b[0;34m==\u001b[0m \u001b[0;36m0\u001b[0m\u001b[0;34m:\u001b[0m  \u001b[0;31m# normálové vektory jsou závislé (determinant = 0)\u001b[0m\u001b[0;34m\u001b[0m\u001b[0;34m\u001b[0m\u001b[0m\n\u001b[0;32m----> 6\u001b[0;31m         \u001b[0;32mraise\u001b[0m \u001b[0mException\u001b[0m\u001b[0;34m(\u001b[0m\u001b[0;34m\"Parallel lines\"\u001b[0m\u001b[0;34m)\u001b[0m \u001b[0;31m# vyhození výjimky\u001b[0m\u001b[0;34m\u001b[0m\u001b[0;34m\u001b[0m\u001b[0m\n\u001b[0m\u001b[1;32m      7\u001b[0m     \u001b[0;32mreturn\u001b[0m \u001b[0;34m(\u001b[0m\u001b[0mpc\u001b[0m \u001b[0;34m*\u001b[0m \u001b[0mqb\u001b[0m \u001b[0;34m-\u001b[0m \u001b[0mpb\u001b[0m \u001b[0;34m*\u001b[0m \u001b[0mqc\u001b[0m\u001b[0;34m)\u001b[0m\u001b[0;34m/\u001b[0m\u001b[0mdet\u001b[0m\u001b[0;34m,\u001b[0m \u001b[0;34m(\u001b[0m\u001b[0mpa\u001b[0m \u001b[0;34m*\u001b[0m \u001b[0mqc\u001b[0m \u001b[0;34m-\u001b[0m \u001b[0mpc\u001b[0m \u001b[0;34m*\u001b[0m \u001b[0mqa\u001b[0m\u001b[0;34m)\u001b[0m\u001b[0;34m/\u001b[0m\u001b[0mdet\u001b[0m \u001b[0;31m# Crammerovo pravidlo\u001b[0m\u001b[0;34m\u001b[0m\u001b[0;34m\u001b[0m\u001b[0m\n\u001b[1;32m      8\u001b[0m \u001b[0;34m\u001b[0m\u001b[0m\n",
      "\u001b[0;31mException\u001b[0m: Parallel lines"
     ]
    }
   ],
   "source": [
    "intersection((2,3,4), (4,6,1))"
   ]
  },
  {
   "cell_type": "markdown",
   "metadata": {},
   "source": [
    "Při návrhu metody by bylo lze uvažovat i o jiném řešení nedefinovaného případu. Funkce by v tomto případě mohla vrátit nějakou speciální hodnotu, v tomto případě například `None`. To je však méně přehledné (`None` v tomto případě representuje, jak neexistenci bodu tak existenci několika možných bodů). Navíc zátěž testování (které je nutné, neboť `None` objekt nelze využít jako běžnou representaci 2D bodu) by byla na kódu, který danou funkci využívá."
   ]
  },
  {
   "cell_type": "markdown",
   "metadata": {},
   "source": [
    "> **Základní pravidlo**: Jakýkoliv program by měl buď fungovovat podle specifikace (tj. poskytovat správné výsledky nebo u interaktivních funčnost) nebo být předčasně ukončen výjimkou."
   ]
  },
  {
   "cell_type": "markdown",
   "metadata": {},
   "source": [
    "Objekt výjimky v našem případě instancí třídy `Exception` (v rámci výrazu za příkazem `raise` se volá konstruktor této třídy). Obecně však mohou být objekty výjimek i instancemi specializovanějších tříd.\n",
    "Přehhled vestavěných tříd výjimek najdete na stránkách https://docs.python.org/3/library/exceptions.html#base-classes resp. https://docs.python.org/3/library/exceptions.html#concrete-exceptions (o něco konkrétnější výjimky)."
   ]
  },
  {
   "cell_type": "markdown",
   "metadata": {},
   "source": [
    "> **Úkol**: Pokuste se najít konkrétnější výjimku pro náš příklad s průsečíkem přímek (a použijte ji v pro\n",
    "gramu)."
   ]
  },
  {
   "cell_type": "markdown",
   "metadata": {
    "tags": [
     "h"
    ]
   },
   "source": [
    "Nejvhodnější specifičtější třída výjimek pro náš případ je výjimka `ValueError`, která se využívá v případě nepodporovaných hodnot vstupních parametrů. "
   ]
  },
  {
   "cell_type": "code",
   "execution_count": 7,
   "metadata": {
    "tags": [
     "h"
    ]
   },
   "outputs": [],
   "source": [
    "def intersection2(p, q):\n",
    "    pa,pb,pc = p # dekonstrukce hodnot z n-tic resp. seznamů\n",
    "    qa,qb,qc = q\n",
    "    det = pa * qb - pb * qa\n",
    "    if pa * qb - pb * qa == 0:  # normálové vektory jsou závislé (determinant = 0)\n",
    "        raise ValueError(\"Intersection is not defined for parallel lines\") # vyhození výjimky\n",
    "    return (pc * qb - pb * qc)/det, (pa * qc - pc * qa)/det # Crammerovo pravidlo"
   ]
  },
  {
   "cell_type": "markdown",
   "metadata": {},
   "source": [
    "## Aserce (testovací tvrzení)\n",
    "\n",
    "Mechanismus výjimek se využívá i v případě, tzv. asercí, které primárně kontrolují sémantické chyby v programu. Aserce je test, který ověřuje, že jsou splněny všechny předpoklady pro úspěšné pokračování programu (tj. jinak řečeno zda se program nachází v definovaném stavu), Pokud je podmínka splněna (vše je OK), program pokračuje bez jakéhokoliv ovlivnění, pokud splněna není je přerušen a je vyhozena výjimka `AssertionError`."
   ]
  },
  {
   "cell_type": "code",
   "execution_count": 2,
   "metadata": {},
   "outputs": [
    {
     "ename": "AssertionError",
     "evalue": "Hodnoty a, b nesmí být stejné",
     "output_type": "error",
     "traceback": [
      "\u001b[0;31m---------------------------------------------------------------------------\u001b[0m",
      "\u001b[0;31mAssertionError\u001b[0m                            Traceback (most recent call last)",
      "\u001b[0;32m<ipython-input-2-3b96afc73ad0>\u001b[0m in \u001b[0;36m<module>\u001b[0;34m\u001b[0m\n\u001b[1;32m      1\u001b[0m \u001b[0ma\u001b[0m \u001b[0;34m=\u001b[0m \u001b[0;36m2\u001b[0m\u001b[0;34m\u001b[0m\u001b[0;34m\u001b[0m\u001b[0m\n\u001b[1;32m      2\u001b[0m \u001b[0mb\u001b[0m \u001b[0;34m=\u001b[0m \u001b[0;36m2\u001b[0m\u001b[0;34m\u001b[0m\u001b[0;34m\u001b[0m\u001b[0m\n\u001b[0;32m----> 3\u001b[0;31m \u001b[0;32massert\u001b[0m \u001b[0ma\u001b[0m \u001b[0;34m!=\u001b[0m \u001b[0mb\u001b[0m\u001b[0;34m,\u001b[0m \u001b[0;34m\"Hodnoty a, b nesmí být stejné\"\u001b[0m\u001b[0;34m\u001b[0m\u001b[0;34m\u001b[0m\u001b[0m\n\u001b[0m\u001b[1;32m      4\u001b[0m \u001b[0mx\u001b[0m \u001b[0;34m=\u001b[0m \u001b[0;36m2\u001b[0m \u001b[0;34m/\u001b[0m \u001b[0;34m(\u001b[0m\u001b[0ma\u001b[0m\u001b[0;34m-\u001b[0m\u001b[0mb\u001b[0m\u001b[0;34m)\u001b[0m\u001b[0;34m\u001b[0m\u001b[0;34m\u001b[0m\u001b[0m\n",
      "\u001b[0;31mAssertionError\u001b[0m: Hodnoty a, b nesmí být stejné"
     ]
    }
   ],
   "source": [
    "a = 2\n",
    "b = 2\n",
    "assert a != b, \"Hodnoty a, b nesmí být stejné\"\n",
    "x = 2 / (a-b)"
   ]
  },
  {
   "cell_type": "markdown",
   "metadata": {},
   "source": [
    "Ne zcela intuitivní je u asercí skutečnost, že podmínka definuje požadovaný (tj. bezchybný stav a nepovinná zpráva naopak popisuje stav chybový (tj. je-li splněna negace podmínky)!"
   ]
  },
  {
   "cell_type": "markdown",
   "metadata": {},
   "source": [
    "Použití asercí se významně překrývá s oblastí použití výjimek. Mezi základní rozlišovací charakteristiky patří:\n",
    "* aserce signalizují interní chyby nikoliv chybné vstupy či jiné vnější chyby (nedostatek prostředků). Tj. v modelu předpokládáme, že hodnoty proměnnách `a`, `b` jsou vždy různé (což může být zajištěno již ve stupní rutině např. znemožněním zadání stetjných hodnot v GUI formuláři, či testováním přípustných hodnot při čtení datových souborů), pak je namístě *aserce* (chyba vznikne např. špatným výpočtem, resp. použitím špatné funkce). V opačném případě je namístě vyvolání výjimky\n",
    "* u asercí se předpokládá, že vždy povedou k předčasnému konci programu (jiné řešení znamená, že akceptujeme či se snažíme zakrýt nějakou berličkou chybu programu)\n",
    "\n",
    "Při běhu programu se chování asercí od běžných výjimek liší v tom, že v tzv. release nasazení (tj. ve finálním nastavení u zákazníka) neuplatňují (tj. se nevznikají výjimky a nedochází ani k testování testovací podmínky), jinak řečeno aserce v release nasazení program nezpomalují.  \n",
    "\n",
    "V Pythonu jsou aserce vypínány v případě, že vestavěná proměnná `__debug__` nabývá hodnoty `False`, což se děje jen v případě, že překladač spustíte s přepínačem `-O` (tím se zapne tzv, optimalizace kódu)."
   ]
  },
  {
   "cell_type": "markdown",
   "metadata": {},
   "source": [
    "> *Upozornění*: vypnutím asercí se samozřejmě neodstraní příčina chyby. Program musí být nejdříve důkladně otestován a teprve pak se spouštěn v optimalizovaném `release` režimu."
   ]
  },
  {
   "cell_type": "markdown",
   "metadata": {},
   "source": [
    "Aserci můžete použít i v našem případě s průsečíkem přímek. Je však nutné zajistit, že odpovědnost za zajištění nerovnoběžnosti přímek bude kódu volajícím danou funkci. To lze zajistit například tím, že tento požadavek uvedeme do dokumentace k dané funkci. Dokumentace se uvádí jako řetězec (často víceřádkový) za hlavičkou funkce."
   ]
  },
  {
   "cell_type": "code",
   "execution_count": 3,
   "metadata": {},
   "outputs": [],
   "source": [
    "def intersection3(p, q):\n",
    "    \"\"\"\n",
    "    Průsečík dvou přímek. Přímky přímky nesmí být rovnoběžné či identické.\n",
    "    Args:\n",
    "        p: trojice koeficientů (a,b,c) z obecného tvaru první přímky  ax + by + c = 0\n",
    "        q: trojice koeficientů (a,b,c) z obecného tvaru druhé přímky  ax + by + c = 0\n",
    "    \"\"\"\n",
    "    pa,pb,pc = p # dekonstrukce hodnot z n-tic resp. seznamů\n",
    "    qa,qb,qc = q\n",
    "    det = pa * qb - pb * qa\n",
    "    assert pa * qb - pb * qa != 0, \"Paralllel lines are not supported\"\n",
    "    return (pc * qb - pb * qc)/det, (pa * qc - pc * qa)/det # Crammerovo pravidlo "
   ]
  },
  {
   "cell_type": "code",
   "execution_count": 4,
   "metadata": {},
   "outputs": [
    {
     "name": "stdout",
     "output_type": "stream",
     "text": [
      "Help on function intersection3 in module __main__:\n",
      "\n",
      "intersection3(p, q)\n",
      "    Průsečík dvou přímek. Přímky přímky nesmí být rovnoběžné či identické.\n",
      "    Args:\n",
      "        p: trojice koeficientů (a,b,c) z obecného tvaru první přímky  ax + by + c = 0\n",
      "        q: trojice koeficientů (a,b,c) z obecného tvaru druhé přímky  ax + by + c = 0\n",
      "\n"
     ]
    }
   ],
   "source": [
    "help(intersection3) # takto lze zobrazit dokumentaci (zobrazuje se i v růůzných IDE)"
   ]
  },
  {
   "cell_type": "code",
   "execution_count": 16,
   "metadata": {},
   "outputs": [
    {
     "ename": "AssertionError",
     "evalue": "Paralllel lines are not supported",
     "output_type": "error",
     "traceback": [
      "\u001b[0;31m---------------------------------------------------------------------------\u001b[0m",
      "\u001b[0;31mAssertionError\u001b[0m                            Traceback (most recent call last)",
      "\u001b[0;32m<ipython-input-16-2eb29a8b1246>\u001b[0m in \u001b[0;36m<module>\u001b[0;34m\u001b[0m\n\u001b[0;32m----> 1\u001b[0;31m \u001b[0mintersection3\u001b[0m\u001b[0;34m(\u001b[0m\u001b[0;34m(\u001b[0m\u001b[0;36m1\u001b[0m\u001b[0;34m,\u001b[0m\u001b[0;36m0\u001b[0m\u001b[0;34m,\u001b[0m\u001b[0;36m1\u001b[0m\u001b[0;34m)\u001b[0m\u001b[0;34m,\u001b[0m \u001b[0;34m(\u001b[0m\u001b[0;36m2\u001b[0m\u001b[0;34m,\u001b[0m\u001b[0;36m0\u001b[0m\u001b[0;34m,\u001b[0m\u001b[0;36m2\u001b[0m\u001b[0;34m)\u001b[0m\u001b[0;34m)\u001b[0m\u001b[0;34m\u001b[0m\u001b[0;34m\u001b[0m\u001b[0m\n\u001b[0m",
      "\u001b[0;32m<ipython-input-11-42e3e8b130d7>\u001b[0m in \u001b[0;36mintersection3\u001b[0;34m(p, q)\u001b[0m\n\u001b[1;32m     10\u001b[0m     \u001b[0mqa\u001b[0m\u001b[0;34m,\u001b[0m\u001b[0mqb\u001b[0m\u001b[0;34m,\u001b[0m\u001b[0mqc\u001b[0m \u001b[0;34m=\u001b[0m \u001b[0mq\u001b[0m\u001b[0;34m\u001b[0m\u001b[0;34m\u001b[0m\u001b[0m\n\u001b[1;32m     11\u001b[0m     \u001b[0mdet\u001b[0m \u001b[0;34m=\u001b[0m \u001b[0mpa\u001b[0m \u001b[0;34m*\u001b[0m \u001b[0mqb\u001b[0m \u001b[0;34m-\u001b[0m \u001b[0mpb\u001b[0m \u001b[0;34m*\u001b[0m \u001b[0mqa\u001b[0m\u001b[0;34m\u001b[0m\u001b[0;34m\u001b[0m\u001b[0m\n\u001b[0;32m---> 12\u001b[0;31m     \u001b[0;32massert\u001b[0m \u001b[0mpa\u001b[0m \u001b[0;34m*\u001b[0m \u001b[0mqb\u001b[0m \u001b[0;34m-\u001b[0m \u001b[0mpb\u001b[0m \u001b[0;34m*\u001b[0m \u001b[0mqa\u001b[0m \u001b[0;34m!=\u001b[0m \u001b[0;36m0\u001b[0m\u001b[0;34m,\u001b[0m \u001b[0;34m\"Paralllel lines are not supported\"\u001b[0m\u001b[0;34m\u001b[0m\u001b[0;34m\u001b[0m\u001b[0m\n\u001b[0m\u001b[1;32m     13\u001b[0m     \u001b[0;32mreturn\u001b[0m \u001b[0;34m(\u001b[0m\u001b[0mpc\u001b[0m \u001b[0;34m*\u001b[0m \u001b[0mqb\u001b[0m \u001b[0;34m-\u001b[0m \u001b[0mpb\u001b[0m \u001b[0;34m*\u001b[0m \u001b[0mqc\u001b[0m\u001b[0;34m)\u001b[0m\u001b[0;34m/\u001b[0m\u001b[0mdet\u001b[0m\u001b[0;34m,\u001b[0m \u001b[0;34m(\u001b[0m\u001b[0mpa\u001b[0m \u001b[0;34m*\u001b[0m \u001b[0mqc\u001b[0m \u001b[0;34m-\u001b[0m \u001b[0mpc\u001b[0m \u001b[0;34m*\u001b[0m \u001b[0mqa\u001b[0m\u001b[0;34m)\u001b[0m\u001b[0;34m/\u001b[0m\u001b[0mdet\u001b[0m \u001b[0;31m# Crammerovo pravidlo\u001b[0m\u001b[0;34m\u001b[0m\u001b[0;34m\u001b[0m\u001b[0m\n",
      "\u001b[0;31mAssertionError\u001b[0m: Paralllel lines are not supported"
     ]
    }
   ],
   "source": [
    "intersection3((1,0,1), (2,0,2))  # byli jste varováni"
   ]
  },
  {
   "cell_type": "markdown",
   "metadata": {},
   "source": [
    "> **Úkol**:  Konkrétní formát dokumentačníjo řetězce Python nepředepisuje. V praxi existuje několik formátů podporovaných různými nástroji (generátory dokumentace, IDE). Z přehledu na stránkách [datacampu](https://www.datacamp.com/community/tutorials/docstrings-python) (autor Aditya Sharma) určete jaký formát byl použit v příkladě (resp. proč?)."
   ]
  },
  {
   "cell_type": "markdown",
   "metadata": {
    "tags": [
     "h"
    ]
   },
   "source": [
    "Byl použit formát *Google Style Docstrings*, který je nejjednodušší a nejstručnější z běžně používaných formátů."
   ]
  },
  {
   "cell_type": "markdown",
   "metadata": {},
   "source": [
    "## Správce kontextu "
   ]
  },
  {
   "cell_type": "markdown",
   "metadata": {},
   "source": [
    "Při vzniku výjimky zanikají všechny kontexty, ve kterých došlo jejímu vyhození. Zanikají proměnné, uvolňují se objekty, apod. Jinak řečeno výjimky zajistí, že se i po předčasném skončení funkcí, či celých programů zanechá čistý stůl.\n",
    "To však platí jen v případě zdrojů umístěných v operační paměti. Pokud jsou v daném kontextu drženy nějaké zdroje operačního systému (otevřené soubory, dočasné soubory, síťová spojení, bitmapy v GPU, apod.) tak se neuvolní!\n",
    "\n",
    "Podívejme se na následující příklad. Je to funkce, která otevře konfigurační soubor s názvem `network.ini`, která obsahuje jediný řádek, který definuje hodnotu konfigurační volby `network`, která může nabývat hodnoty `yes` nebo `no`.\n",
    "\n",
    "Nejdříve vytvoříme příslušný konfigurační soubor."
   ]
  },
  {
   "cell_type": "code",
   "execution_count": 29,
   "metadata": {},
   "outputs": [
    {
     "name": "stdout",
     "output_type": "stream",
     "text": [
      "Overwriting network.ini\n"
     ]
    }
   ],
   "source": [
    "%%writefile network.ini\n",
    "network=no"
   ]
  },
  {
   "cell_type": "code",
   "execution_count": 30,
   "metadata": {},
   "outputs": [
    {
     "data": {
      "text/plain": [
       "False"
      ]
     },
     "execution_count": 30,
     "metadata": {},
     "output_type": "execute_result"
    }
   ],
   "source": [
    "def network_configuration():\n",
    "    import re\n",
    "    f = open(\"network.ini\")\n",
    "    line = f.read()\n",
    "    match = re.match(\"network=(yes|no)\", line)\n",
    "    if not match:\n",
    "        raise Exception(\"Invalid configuration file\")\n",
    "    f.close() # nesmíme zapomenout zavřít soubor\n",
    "    return match.group(1) == \"yes\"\n",
    "\n",
    "network_configuration()"
   ]
  },
  {
   "cell_type": "markdown",
   "metadata": {},
   "source": [
    "Nyní vytvoříme soubor s chybnou syntaxí (hodnota `false` není podporována)."
   ]
  },
  {
   "cell_type": "code",
   "execution_count": 31,
   "metadata": {},
   "outputs": [
    {
     "name": "stdout",
     "output_type": "stream",
     "text": [
      "Overwriting network.ini\n"
     ]
    }
   ],
   "source": [
    "%%writefile network.ini\n",
    "network=false"
   ]
  },
  {
   "cell_type": "code",
   "execution_count": 32,
   "metadata": {},
   "outputs": [
    {
     "ename": "Exception",
     "evalue": "Invalid configuration file",
     "output_type": "error",
     "traceback": [
      "\u001b[0;31m---------------------------------------------------------------------------\u001b[0m",
      "\u001b[0;31mException\u001b[0m                                 Traceback (most recent call last)",
      "\u001b[0;32m<ipython-input-32-509c3495cacb>\u001b[0m in \u001b[0;36m<module>\u001b[0;34m\u001b[0m\n\u001b[0;32m----> 1\u001b[0;31m \u001b[0mnetwork_configuration\u001b[0m\u001b[0;34m(\u001b[0m\u001b[0;34m)\u001b[0m\u001b[0;34m\u001b[0m\u001b[0;34m\u001b[0m\u001b[0m\n\u001b[0m",
      "\u001b[0;32m<ipython-input-30-14e3b2a47805>\u001b[0m in \u001b[0;36mnetwork_configuration\u001b[0;34m()\u001b[0m\n\u001b[1;32m      5\u001b[0m     \u001b[0mmatch\u001b[0m \u001b[0;34m=\u001b[0m \u001b[0mre\u001b[0m\u001b[0;34m.\u001b[0m\u001b[0mmatch\u001b[0m\u001b[0;34m(\u001b[0m\u001b[0;34m\"network=(yes|no)\"\u001b[0m\u001b[0;34m,\u001b[0m \u001b[0mline\u001b[0m\u001b[0;34m)\u001b[0m\u001b[0;34m\u001b[0m\u001b[0;34m\u001b[0m\u001b[0m\n\u001b[1;32m      6\u001b[0m     \u001b[0;32mif\u001b[0m \u001b[0;32mnot\u001b[0m \u001b[0mmatch\u001b[0m\u001b[0;34m:\u001b[0m\u001b[0;34m\u001b[0m\u001b[0;34m\u001b[0m\u001b[0m\n\u001b[0;32m----> 7\u001b[0;31m         \u001b[0;32mraise\u001b[0m \u001b[0mException\u001b[0m\u001b[0;34m(\u001b[0m\u001b[0;34m\"Invalid configuration file\"\u001b[0m\u001b[0;34m)\u001b[0m\u001b[0;34m\u001b[0m\u001b[0;34m\u001b[0m\u001b[0m\n\u001b[0m\u001b[1;32m      8\u001b[0m     \u001b[0mf\u001b[0m\u001b[0;34m.\u001b[0m\u001b[0mclose\u001b[0m\u001b[0;34m(\u001b[0m\u001b[0;34m)\u001b[0m \u001b[0;31m# nesmíme zapomenout zavřít soubor\u001b[0m\u001b[0;34m\u001b[0m\u001b[0;34m\u001b[0m\u001b[0m\n\u001b[1;32m      9\u001b[0m     \u001b[0;32mreturn\u001b[0m \u001b[0mmatch\u001b[0m\u001b[0;34m.\u001b[0m\u001b[0mgroup\u001b[0m\u001b[0;34m(\u001b[0m\u001b[0;36m1\u001b[0m\u001b[0;34m)\u001b[0m \u001b[0;34m==\u001b[0m \u001b[0;34m\"yes\"\u001b[0m\u001b[0;34m\u001b[0m\u001b[0;34m\u001b[0m\u001b[0m\n",
      "\u001b[0;31mException\u001b[0m: Invalid configuration file"
     ]
    }
   ],
   "source": [
    "network_configuration()"
   ]
  },
  {
   "cell_type": "markdown",
   "metadata": {},
   "source": [
    "Výsledek není překvapivý. Je vyolána výjimka, neboť obsah konfiguračního souboru není v našem modelu interpretovatelný.\n",
    "Je zde však i jeden nepříjemný důsledek. Soubor `network.ini` je otevřen, ale není uzavřen! A to navzdory tomu, že je explicitně uzavírán na řádku pod vyhozením výjimky."
   ]
  },
  {
   "cell_type": "markdown",
   "metadata": {},
   "source": [
    "Důvod je zřejmý. Po vyhození výjimky se se zbytek funkce neprovede (výjimka opustí funkci) a neprovede se tedy ani volání metody `close`. V běžných programech se sice soubor uzavře po ukončení programu, ale k tomu nemusí dojít, neboť výjimka může být tzv. zachycena. Děje se tak i v případě vyvolání funkce v Jupyter notebooku. V tomto případě nejen, že nedošlo k uzavření souboru, ale soubor už ani nelze uzavřít (lokální proměnná totiž přestává existovat a my nemáme žádný odkaz na objekt zpřístupňující otevřený soubor). "
   ]
  },
  {
   "cell_type": "markdown",
   "metadata": {},
   "source": [
    "Neuzavření souboru sice většinou nebrání dalšímu běhu, snižuje se však množství volných prostředků. Po určoté době prostředky dojdou. V případě Linuxu i dalších operačních systémů je množství simultánně otevřených souborů na proces relativně vysoké, ale i tak není nekonečné."
   ]
  },
  {
   "cell_type": "markdown",
   "metadata": {},
   "source": [
    "> **Úkol**: Zjistěte jaké maximální simultánně běžících procesů může mít váš Jupyter notebook (v rámci vaší instance operačního systému)."
   ]
  },
  {
   "cell_type": "markdown",
   "metadata": {
    "tags": [
     "h"
    ]
   },
   "source": [
    "Řešení pro Linux a unixové systémy (MS Windows nepoužívám):"
   ]
  },
  {
   "cell_type": "code",
   "execution_count": 8,
   "metadata": {
    "tags": [
     "h"
    ]
   },
   "outputs": [
    {
     "name": "stdout",
     "output_type": "stream",
     "text": [
      "4096\n"
     ]
    }
   ],
   "source": [
    "!ulimit -n"
   ]
  },
  {
   "cell_type": "markdown",
   "metadata": {},
   "source": [
    "Základním řešením tohoto problému je využití tzv. správců kontextů. Objekty, které fungují jako správci kontextů podporují dvě metody. Metoda `__enter__` je volána při vstupu do určitého úseku kódu (tj. například do úseku kódu využívajícího otevřený soubor), metoda `__exit__` při výstupu, ať už je úsek kódu opuštěn doasažením konce, výskokem (např. příkazem `return`) nebo vyhozením výjimky.\n",
    "\n",
    "Příslušný úsek kódu je definován příkazem `with`, za nímž následuje odsazený blok. Na začátku bloku se typicky vytváří objekt funngující (mimo jiné) jako kontextový manager a je volána jeho metoda `__enter__`. Na konci bloku se volá metoda `__exit__`, která uvolní prostředky svázané s objektem (samotná objekt nicméně stále existuje)."
   ]
  },
  {
   "cell_type": "code",
   "execution_count": 12,
   "metadata": {},
   "outputs": [
    {
     "name": "stdout",
     "output_type": "stream",
     "text": [
      "network=false\n",
      "\n"
     ]
    }
   ],
   "source": [
    "with open(\"network.ini\", \"rt\") as f:\n",
    "    print(f.read())"
   ]
  },
  {
   "cell_type": "markdown",
   "metadata": {},
   "source": [
    "Za klíčovým slovem `with` je výraz, jehož vyhodnocením vznikne objekt proudu, který se zároveň stane správcem kontextu, je na něm volána metoda `__enter__` a je opatřen jménem `f`. Uvnitř odsazeného bloku (zde je to jediný řádek) lze využívat proměnnou, objekt, který odkazuje, i otevřený soubor, který je vlastněn objektem (tj. ze souboru lze číst).\n",
    "\n",
    "Po ukončení existuje jak proměnná (zde `f`, tak objekt souboru) tak objekt proudu, je však uzavřen soubor, který je s ním spjat (uvnitř volání metody `exit`). Ten již proto zbytečně nealokuje prostředky. Nelze jej však využít pro další práci."
   ]
  },
  {
   "cell_type": "code",
   "execution_count": 13,
   "metadata": {},
   "outputs": [
    {
     "ename": "ValueError",
     "evalue": "I/O operation on closed file.",
     "output_type": "error",
     "traceback": [
      "\u001b[0;31m---------------------------------------------------------------------------\u001b[0m",
      "\u001b[0;31mValueError\u001b[0m                                Traceback (most recent call last)",
      "\u001b[0;32m<ipython-input-13-571e9fb02258>\u001b[0m in \u001b[0;36m<module>\u001b[0;34m\u001b[0m\n\u001b[0;32m----> 1\u001b[0;31m \u001b[0mf\u001b[0m\u001b[0;34m.\u001b[0m\u001b[0mread\u001b[0m\u001b[0;34m(\u001b[0m\u001b[0;34m)\u001b[0m\u001b[0;34m\u001b[0m\u001b[0;34m\u001b[0m\u001b[0m\n\u001b[0m",
      "\u001b[0;31mValueError\u001b[0m: I/O operation on closed file."
     ]
    }
   ],
   "source": [
    "f.read()"
   ]
  },
  {
   "cell_type": "markdown",
   "metadata": {},
   "source": [
    "> **Úkol**: Vyzkoušejte, že k uzavření souboru dojde i v případě, že uvnitř bloku po `with` dojde ke vzniku výjimky. Implentujte správnou verzi funkce `network_configuration`."
   ]
  },
  {
   "cell_type": "code",
   "execution_count": 15,
   "metadata": {},
   "outputs": [
    {
     "ename": "Exception",
     "evalue": "Invalid configuration file",
     "output_type": "error",
     "traceback": [
      "\u001b[0;31m---------------------------------------------------------------------------\u001b[0m",
      "\u001b[0;31mException\u001b[0m                                 Traceback (most recent call last)",
      "\u001b[0;32m<ipython-input-15-7ad1ce4d18e3>\u001b[0m in \u001b[0;36m<module>\u001b[0;34m\u001b[0m\n\u001b[1;32m      8\u001b[0m         \u001b[0;32mreturn\u001b[0m \u001b[0mmatch\u001b[0m\u001b[0;34m.\u001b[0m\u001b[0mgroup\u001b[0m\u001b[0;34m(\u001b[0m\u001b[0;36m1\u001b[0m\u001b[0;34m)\u001b[0m \u001b[0;34m==\u001b[0m \u001b[0;34m\"yes\"\u001b[0m                    \u001b[0;31m# opuštění with bloku ukončením funkce (výskokem)\u001b[0m\u001b[0;34m\u001b[0m\u001b[0;34m\u001b[0m\u001b[0m\n\u001b[1;32m      9\u001b[0m \u001b[0;34m\u001b[0m\u001b[0m\n\u001b[0;32m---> 10\u001b[0;31m \u001b[0mnetwork_configuration\u001b[0m\u001b[0;34m(\u001b[0m\u001b[0;34m)\u001b[0m\u001b[0;34m\u001b[0m\u001b[0;34m\u001b[0m\u001b[0m\n\u001b[0m",
      "\u001b[0;32m<ipython-input-15-7ad1ce4d18e3>\u001b[0m in \u001b[0;36mnetwork_configuration\u001b[0;34m()\u001b[0m\n\u001b[1;32m      5\u001b[0m         \u001b[0mmatch\u001b[0m \u001b[0;34m=\u001b[0m \u001b[0mre\u001b[0m\u001b[0;34m.\u001b[0m\u001b[0mmatch\u001b[0m\u001b[0;34m(\u001b[0m\u001b[0;34m\"network=(yes|no)\"\u001b[0m\u001b[0;34m,\u001b[0m \u001b[0mline\u001b[0m\u001b[0;34m)\u001b[0m\u001b[0;34m\u001b[0m\u001b[0;34m\u001b[0m\u001b[0m\n\u001b[1;32m      6\u001b[0m         \u001b[0;32mif\u001b[0m \u001b[0;32mnot\u001b[0m \u001b[0mmatch\u001b[0m\u001b[0;34m:\u001b[0m\u001b[0;34m\u001b[0m\u001b[0;34m\u001b[0m\u001b[0m\n\u001b[0;32m----> 7\u001b[0;31m             \u001b[0;32mraise\u001b[0m \u001b[0mException\u001b[0m\u001b[0;34m(\u001b[0m\u001b[0;34m\"Invalid configuration file\"\u001b[0m\u001b[0;34m)\u001b[0m \u001b[0;31m# opuštění with bloku výjimkou\u001b[0m\u001b[0;34m\u001b[0m\u001b[0;34m\u001b[0m\u001b[0m\n\u001b[0m\u001b[1;32m      8\u001b[0m         \u001b[0;32mreturn\u001b[0m \u001b[0mmatch\u001b[0m\u001b[0;34m.\u001b[0m\u001b[0mgroup\u001b[0m\u001b[0;34m(\u001b[0m\u001b[0;36m1\u001b[0m\u001b[0;34m)\u001b[0m \u001b[0;34m==\u001b[0m \u001b[0;34m\"yes\"\u001b[0m                    \u001b[0;31m# opuštění with bloku ukončením funkce (výskokem)\u001b[0m\u001b[0;34m\u001b[0m\u001b[0;34m\u001b[0m\u001b[0m\n\u001b[1;32m      9\u001b[0m \u001b[0;34m\u001b[0m\u001b[0m\n",
      "\u001b[0;31mException\u001b[0m: Invalid configuration file"
     ]
    }
   ],
   "source": [
    "def network_configuration():\n",
    "    import re\n",
    "    with open(\"network.ini\") as f:\n",
    "        line = f.read()\n",
    "        match = re.match(\"network=(yes|no)\", line)\n",
    "        if not match:\n",
    "            raise Exception(\"Invalid configuration file\") # opuštění with bloku výjimkou\n",
    "        return match.group(1) == \"yes\"                    # opuštění with bloku ukončením funkce (výskokem)\n",
    "\n",
    "network_configuration()"
   ]
  },
  {
   "cell_type": "markdown",
   "metadata": {},
   "source": [
    "> **Úkol**: Porovnejte použití správce kontextů mezi bežnými soubory a soubory dočasnými (viz standardní modul `tempfile`). Vyzkoušejte na příkladě. (můžete použít příklad z dokumentace)."
   ]
  },
  {
   "cell_type": "markdown",
   "metadata": {
    "tags": [
     "h"
    ]
   },
   "source": [
    "Základní rozdíl je v tom, že dočasný soubor je po ukončení svého kontextu (= blok po `with`) smazán. Všiměte si také, že nemusí být smazán."
   ]
  }
 ],
 "metadata": {
  "kernelspec": {
   "display_name": "Python 3",
   "language": "python",
   "name": "python3"
  },
  "language_info": {
   "codemirror_mode": {
    "name": "ipython",
    "version": 3
   },
   "file_extension": ".py",
   "mimetype": "text/x-python",
   "name": "python",
   "nbconvert_exporter": "python",
   "pygments_lexer": "ipython3",
   "version": "3.7.7"
  }
 },
 "nbformat": 4,
 "nbformat_minor": 4
}
