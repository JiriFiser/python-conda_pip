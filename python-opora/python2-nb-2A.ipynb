{
 "cells": [
  {
   "cell_type": "markdown",
   "metadata": {},
   "source": [
    "# Vytváření vlastních tříd\n",
    "\n",
    "Uživatel Pythonu není omezen jen na užívání tříd, které nabízí standardní \n",
    "knihovny jazyka resp. knihovny třetích stran. Vlastní podstata objektově\n",
    "orientovaného programování spočívá ve vytváření vlastních tříd, které modelují\n",
    "nějakou množinu objektů z reálného světa či ze světů vědecko-technických abstrakcí.\n",
    "\n",
    "## Vnější pohled na třídu\n",
    "\n",
    "Jak jste již poznali, objekty jsou navenek charakterizovány svým chováním tj. tím\n",
    "jaké metody můžete na daném objektu volat (počítaje v to i obecné vestavěné funkce\n",
    "a operace). Zopakujme si to na příkladu objektu seznamu."
   ]
  },
  {
   "cell_type": "code",
   "execution_count": 150,
   "metadata": {
    "pycharm": {
     "name": "#%%%\n"
    }
   },
   "outputs": [
    {
     "name": "stdout",
     "output_type": "stream",
     "text": [
      "[0, 1, 5]\n",
      "[0, 1, 5, 0, 1, 5, 0, 1, 5, 0, 1, 5, 0, 1, 5]\n"
     ]
    }
   ],
   "source": [
    "seznam = [1, 5, 0] # vytvoření seznamu\n",
    "\n",
    "seznam.sort() # volání metody\n",
    "print(str(seznam)) # volání obecné vestavěné funkce 'str'\n",
    "\n",
    "print(seznam * 5) # volání operace násobení nad objektem "
   ]
  },
  {
   "cell_type": "markdown",
   "metadata": {},
   "source": [
    "Už pouhým pohledem na tento ukázkový kód zjistíme, že náš seznam je tříditelný (má\n",
    "smysl nad ním volat metodu `sort`), je možné vypsat jeho textovou representaci\n",
    "(tj. je převoditelný na řetězec) a je možné ho násobit celým číslem.\n",
    "\n",
    "To vše samozřejmě platí i pro všechny ostatní objekty dané třídy. Navíc při použití\n",
    "daných metod (funkcí, operací) získáme obdobné výsledky \n",
    "(liší se jen různými konkrétními položkami jednotlivých seznamů).\n",
    "\n",
    "Obecně proto platí, že třída je jednoznačně popsaná tím, že stanovíme metody, \n",
    "které lze volat na její instance (včetně operací a volání vestavěných funkcí),\n",
    "a určíme jaký efekt budou mít tyto metody pro objekt v určitém stavu, jinak \n",
    "(a stručněji) řečeno stanovíme **rozhraní** objektů."
   ]
  },
  {
   "cell_type": "markdown",
   "metadata": {},
   "source": [
    "## Vnitřní pohled na třídu\n",
    "\n",
    "Aby mohly objekty třídy nabízet určitou funčnost musí nějak interně representovat \n",
    "svůj stav. U objektů uživatelských tříd je stav representován vnitřními \n",
    "(pod)objekty. Jinak řečeno každý objekt uživatelské třídy je složen z alespoň\n",
    "jednoho (pod)objektu jiné třídy. Tyto podobjekty je nutno v rámci daného podobjektu\n",
    "nějak jednoznačně identifikovat, k čemuž slouží tzv. **atributy**.\n",
    "\n",
    "Atribut je obdobou proměnné, která je však omezená jen na na jediný objekt.\n",
    "Stejně jako proměnná je to jen štítek, který (dočasně) identifikuje (pod)objekt.\n",
    "\n",
    "Podobjekty mohou být nejen instance jednoduchých tříd jako jsou čísla nebo řetězce,\n",
    "ale mohou to být i například i kontejnery či dokonce objekty dalších uživatelských\n",
    "tříd."
   ]
  },
  {
   "cell_type": "markdown",
   "metadata": {},
   "source": [
    "Nejdříve vytvoříme \n",
    "triviáalní  model kasičky (prasátka),\n",
    "do něhož můžeme vkládat libovolné peněžní prostředky (není to přiznávám příliš užitečné, ale nějak se začít musí). \n",
    "\n",
    "\n",
    "Pro jednoduchost budeme předpokládat, že kasička je bezedná \n",
    "tj. lze do ní vložit libovolné množství peněz \n",
    "(obecně je velmi složité zjistit, kolik prostoru mohou zaujímat\n",
    "mince v prostoru kasičky).\n",
    "\n",
    "Dále budeme předpokládat následující chování:\n",
    "*  kasičky nelze vyjímat peníze, lze ji jen rozbít a získat tak najednou celou sumu\n",
    "*  po rozbytí nelze kasičku už použít (nelze do ní vkládat peníze)\n",
    "\n",
    "Z modelu je navíc zřejmé, že každý objekt kasičky (může existovat libovolné množství objektů kasiček) by měl podporovat dvě metody (modelující možné interakce s kasičkou):\n",
    "\n",
    "1) metoda *pridej_penize* \n",
    "\n",
    "Tato metoda přijímá jako parametr obnos, což je kladné celé číslo (naše kasička nebude implementovat přidání zlomků základní peněžní jednotky, pro koruny je to zbytečné). Přidáná suma není v našem modelu shora omezená (máme bezednou kasičku a koho by nepotěšilo například například přidání bilión korun).\n",
    "\n",
    "Pokud bude vše v pořádku, metoda nemusí nic vracet (jen změní stav kasičky). Je však jasné, že může dojít k problémům. Za prvé se někdo může pokusit přidat zápornou částku (a pokusit se tak vytáhnout peníze z kasičky bez jejího rozbití). V realitě to nejde, ale v Pythonu nezabráníme použití záporné hodnoty v parametru.\n",
    "\n",
    "Dalším typem problematického přidání je vkládání peněz do rozbité kasičky. To je podle našeho modelu nepřípustné (a ani v realitě to není snadné).\n",
    "\n",
    "Protože při běžném použití kasičky by k těmto problematickým voláním mělo docházet jen zřídka, budeme tito situace řešit výjimkou (výjimka by měla být reakce na výjimečnou situaci). Rozhodně nemůžeme tyto situace v ignorovat a to ani v počáteční fázi, neboť uživatelé by začali kasičku využívat \"netradičně\", a pak by byli překvapeni, že v nové verzi jim to nefunguje (uživatelem můžete být samozřejmě i autor třídy, obecně jsou to však jiní lidé).\n",
    "\n",
    "Ve skutečnosti jsme však nevyřešili všechny možné nedefinované či okrajové příklady. Co například přidání nulové částky? Je to trochu netradiční, ale můžeme to povolit (nemění to stav kasičky). Jak se postavíme k předání jiného než celočíselného (`int`) objektu. Můžeme se snažit přidat cokoliv:  číslo v pohyblivé řádové čárce (to by nemusel být takový problém), komplexní číslo (kasička s imaginární jednotkou korun?), řetězce, seznamy, jiné kasičky (ty mohou obsahovat jiné kasičky, takže můžeme dostat celý řetězec kasiček, navíc do kasičky lze vložit odkaz na sebe sama, to už je hluboký filozofický problém). I když běžné kasičky nejsou tak striktní (lze do nich vkládat i jiné věci než peníze), my všechny neceločíselné objekty zakážeme (při pokusu o přidání vyvoláme výjimku).\n",
    "\n",
    "2) metoda *rozbij*\n",
    "\n",
    "Tato metoda je mnohem jednodušší. Pokud není kasička rozbitá, pak ji rozbije (= změní její stav) a vrátí celkovou naspořenou částku (může to být i nula). Pokud je již rozbitá, pak vyvoláme výjimku (nemůžeme získat peníze z již rozbité kasičky!). Žádná další možnost již není (metodě nic nepředáváme, takže její výsledek je určen pouze stavem objektu)\n",
    "\n",
    "Nyní již máme vše připraveno k implementaci:"
   ]
  },
  {
   "cell_type": "code",
   "execution_count": 151,
   "metadata": {
    "pycharm": {
     "name": "#%%\n"
    }
   },
   "outputs": [],
   "source": [
    "class Kasicka: # hlavička třídy\n",
    "    def __init__(self):  # konstruktor\n",
    "        self.castka = 0  # (počáteční) nastavení atributu\n",
    "        self.rozbita = False # (počáteční) nastavení atributu\n",
    "    def pridej_penize(self, castka):  # metoda\n",
    "        if not isinstance(castka, int):\n",
    "            raise Exception(\"Částka není celé číslo\")\n",
    "        if castka < 0:\n",
    "            raise Exception(\"Částka je záporná\")\n",
    "        if self.rozbita:\n",
    "            raise Exception(\"Kasička je rozbitá\")\n",
    "        self.castka += castka  # vlastní kód metody: zvýšení uložené částky o předanou částku\n",
    "    def rozbij(self):\n",
    "        if self.rozbita:\n",
    "            raise Exception(\"Kasička je rozbitá\")\n",
    "        self.rozbita = True\n",
    "        return self.castka # a nezapomeneme vrátit konečný stav peněz"
   ]
  },
  {
   "cell_type": "markdown",
   "metadata": {},
   "source": [
    "Implementace třídy začíná hlavičkou, která po kličovém slově `class` uvádí jméno třídy. V Pythonu neexistuje zcela jednotný úzus ohledně identifikátorů třídy. Klíčový dokument [PEP 8 -- Style Guide for Python Code](https://www.python.org/dev/peps/pep-0008/#class-names) doporučuje jména začínající velkým písmenem, bez použití podtržítek na  místě mezer (nová slova začínají velkým písmenem). Tuto konvenci budeme dodržovat. \n",
    "\n",
    "Jména vestavěných tříd (např. `int`, `str`) však tuto konvenci nedodržují, neboť jejich jména jsou úzce spojena se stejnojmenými vestavěnými funkcemi. Podobný zápis se však využívá i u tříd standardní knihovny (například `datetime.datetime`), kde je využíván pravděpodobně z historických důvodů.\n",
    "\n",
    "Hlavička třídy končí dvojtečkou, takže je jasné, že bude následovat odsazený blok (tzv. tělo třídy). Ten obsahuje definice metod, což jsou ve skutečnosti funkce volané nad objekty dané třídy.\n",
    "\n",
    "První z metod má podivný název `__init__` (dvě podtržítka na začátku a dvě na konci!). Metody začínající a končící dvěma podtržítky (v Pythonské slangu speciální, magické respektive *dunder* metody) mají v Pythonu pevně definovaný význam a téměř nikdy se nevolají přímo tj. zápisem `objekt.__method__()`.\n",
    "\n",
    "Metoda označená `__init` je tzv. **konstruktor**. Tato metoda se volá při vytváření/konstrukci objektu a její funkcí je vytvořit atributy objektu (definující jeho stav) a jejich inicializace tj. nastavení na počáteční hodnotu.\n",
    "\n",
    "Prvním parametrem konstruktoru je nově vytvořený, ale prozatím ještě prázdný a neinicializovaný objekt. Tento paarmetr se v Pythonu vždy označuje jménem `self` (vždy odkazuje na objekt nad kterým je metoda volána, resp. k níž patří tj. jakoby na sebe sama). \n",
    "\n",
    "Poznámka: Použití jména `self` není vynucováno překladačem (formálně může být použito jakékoliv jméno bez vypsání chyby). Je to však tak silná konvence, že její narušení se chápe jako závažná stylistická chyba. Je to podobné použití hovorového či dokonce vulgárního tvaru ve formálním dokumentu. Neovlivňuje to sice jeho čitelnost, může však vést k jeho odmítnutí komunitou (zde tedy ostatními programátory).\n",
    "\n",
    "Náš konstruktor nemá žádné další parametry, neboť bude vytvářet objekty s identickým obsahem. Náš nový objekt kasičky (dočasně označený proměnou/parametrem `self`) bude obsahovat dva atributy (atribut je něco jako interní proměnná spojená s daným objektem). Nejdříve nastavíme atribut částka (`self.castka`) tak, aby označoval objekt nula (třídy `int`), neboť kasička je na začátku prázdná (= obsahuje O jednotek měny).\n",
    "\n",
    "Druhý atribut `self.rozbita` určuje zda je kasička rozbitá (= `True`) nebo nikoliv (= `False`). Je zřejmé, že nové kasičky se nevyrábějí rozbité (tj. atribut má na počátku hodnotu `False`). \n",
    "\n",
    "Tím máme objekt plně inicializovaný. Vytváření objektu můžeme hned vyzkoušet. Objekt třídy se vytvoří použitím jména třídy jako funkce (s případnými parametry v kulatých závorkách). "
   ]
  },
  {
   "cell_type": "code",
   "execution_count": 152,
   "metadata": {
    "pycharm": {
     "name": "#%%\n"
    }
   },
   "outputs": [],
   "source": [
    "prasatko = Kasicka() # vznikne nový objekt odkazovaný proměnnou `prasatko`"
   ]
  },
  {
   "cell_type": "markdown",
   "metadata": {},
   "source": [
    "Pro kontrolu lze vypsat hodnoty atributů nového objektu."
   ]
  },
  {
   "cell_type": "code",
   "execution_count": 153,
   "metadata": {
    "pycharm": {
     "name": "#%%\n"
    }
   },
   "outputs": [
    {
     "name": "stdout",
     "output_type": "stream",
     "text": [
      "0\n",
      "False\n"
     ]
    }
   ],
   "source": [
    "print(prasatko.castka)\n",
    "print(prasatko.rozbita)"
   ]
  },
  {
   "cell_type": "markdown",
   "metadata": {},
   "source": [
    "Další metodou je metoda přidávající peníze do prasátka (`pridej_penize`). I tato metoda stejně jako všechny metody nad objektem musí mít první první parametr `self`. Parametr označuje objekt, nad nímž se metoda volá (při volání je vlevo od tečky). V tomto případě však má i další parametr (`castka`), který se při volání předává běžným způsobem tj. v seznamu parametrů.\n",
    "\n",
    "Metoda může ve svém, těle využívat libovolné atributy a metody objektu. Může samozřejmě měnit i hodnoty atributů (mohou začít odkazovat na nové objekty či se změní odkazované objekty). V našem případě zvýšíme hodnotu atributu `self.castka` o číselnou hodnotu, jež je označena parametrem `castka`.\n",
    "\n",
    "I když má atribut stejné jméno jako parametr, jedná se o dvě různé proměnné (resp. označení). Zatímco parametr `castka` zanikne ihned pro dokončení volání metody (je to lokální proměnná), atribut existuje tak dlouho jako objekt, k němuž patří (tj. volání metody určitě přežije)."
   ]
  },
  {
   "cell_type": "markdown",
   "metadata": {},
   "source": [
    "Podívejme se na obrázek, který zobrazuje na co odkazují proměnné a atributy na začátku těla metody `pridej_penize` při jejím volání na prázdný objekt (odkazovaný globální proměnou `prasatko`) s přidávanou částkou 10."
   ]
  },
  {
   "cell_type": "code",
   "execution_count": 154,
   "metadata": {
    "pycharm": {
     "name": "#%%\n"
    }
   },
   "outputs": [],
   "source": [
    "prasatko.pridej_penize(10)"
   ]
  },
  {
   "cell_type": "markdown",
   "metadata": {},
   "source": [
    "![Proměnné, parametry a atributy při volání metody](refinmethod.png)"
   ]
  },
  {
   "cell_type": "markdown",
   "metadata": {},
   "source": [
    "Jak lze vidět, objekt třídy odkazován dvěma proměnnými: globální proměnnou `prasatko` (platí v celém Jupyter notebooku) a prvním parametrem `self`. Uvnitř metody však používáme jen lokální proměnné a parametry, nebo uvnitř metody nevíme jaké existují globální proměnné resp. jaké objekty právě označují).  Stačí vědět, že parametr `self` označuje objekt, s nímž máme pracovat. Objekt samotný odkazuje pomocí svých atributů na další dva podobjekty (ty jsou primárně dostupné jen přes svůj rodičovský objekt). Všimněte si, že výraz `castka` (použije se parametr `castka`) odkazuje jiný objekt, než výraz `self.castka`."
   ]
  },
  {
   "cell_type": "markdown",
   "metadata": {},
   "source": [
    "> **Úkol**: Jak se obrázek změní po přidání/přičtení částky (tj. na konci metody)?"
   ]
  },
  {
   "cell_type": "markdown",
   "metadata": {
    "tags": [
     "h"
    ]
   },
   "source": [
    "Atribut `self` částka bude ukazovat na objekt `int:10`. Ten může být sdílen s parametrem `castka` nebo se může jednat o další kopii. Oba přístupy jsou identické, neboť objekty čísel nelze měnit. Jak bylo řečeno dříve, u malých čísel Python preferuje sdílení. \n",
    "\n",
    "Nový graf proměnných a objektů lze vidět na následujícím obrázku (objekt int:0 je šedý, neboť jej již nikdo neoznačuje a je tak de iure neexistující).\n",
    "\n",
    "![Proměnné, parametry a atributy při volání metody, stav 2](refinmethod2.png)"
   ]
  },
  {
   "cell_type": "markdown",
   "metadata": {},
   "source": [
    "> **Úkol:**: Jak vypadá systém proměnných po dokončení volání funkce (po návratu do globálního kontextu)?"
   ]
  },
  {
   "cell_type": "markdown",
   "metadata": {
    "tags": [
     "h"
    ]
   },
   "source": [
    "Po návratu zanikne lokální kontext a a všechny jeho (lokální) proměnné (`self` a `castka`). Objekt (a jeho podobjekty) však nezaniknou, neboť jsou odkazovány (označeny) proměnnou `prasatko`. Stav ukazuje poslední obrázek.\n",
    "\n",
    "![Proměnné, parametry a atributy při volání metody, stav 3](refinmethod3.png)"
   ]
  },
  {
   "cell_type": "markdown",
   "metadata": {},
   "source": [
    "Vraťme se ještě k metodě `pridej_penize`, která ještě před vlastní akci zvýšení uložené částky kontroluje přípustnost daného volání.\n",
    "\n",
    "Nejdříve kontroluje, zda je předaný objekt třídy `int`. K tomu využívá vestavěnou metodu `isinstance`. Ta očekává dva parametry: objekt a třídu. Vrací `True` je-li objekt instancí dané třídy."
   ]
  },
  {
   "cell_type": "code",
   "execution_count": 155,
   "metadata": {
    "pycharm": {
     "name": "#%%\n"
    }
   },
   "outputs": [
    {
     "data": {
      "text/plain": [
       "True"
      ]
     },
     "execution_count": 155,
     "metadata": {},
     "output_type": "execute_result"
    }
   ],
   "source": [
    "isinstance(2, int)"
   ]
  },
  {
   "cell_type": "code",
   "execution_count": 156,
   "metadata": {
    "pycharm": {
     "name": "#%%\n"
    }
   },
   "outputs": [
    {
     "data": {
      "text/plain": [
       "True"
      ]
     },
     "execution_count": 156,
     "metadata": {},
     "output_type": "execute_result"
    }
   ],
   "source": [
    "isinstance(\"Eldar\", str)"
   ]
  },
  {
   "cell_type": "code",
   "execution_count": 157,
   "metadata": {
    "pycharm": {
     "name": "#%%\n"
    }
   },
   "outputs": [
    {
     "data": {
      "text/plain": [
       "True"
      ]
     },
     "execution_count": 157,
     "metadata": {},
     "output_type": "execute_result"
    }
   ],
   "source": [
    "isinstance(prasatko, Kasicka) # je prasátko kasičkou"
   ]
  },
  {
   "cell_type": "markdown",
   "metadata": {},
   "source": [
    "Pokud není objekt předaný jako parametr třídy `int`, pak je vyvolána výjimka pomocí příkazu `raise`. Příkaz `raise` přeruší vykonávání programu a pokud program na výjimku nezareaguje (to zatím ještě neumíme) pak je i ukončen. Argumentem je nově vytvářený objekt výjimky (zde základní třídy `Exception`).\n",
    "\n",
    "> **Úkol**: Ověření na základě příslušnosti ke třídě `int` není optimální. Proč? Jak to napsat lépe?"
   ]
  },
  {
   "cell_type": "markdown",
   "metadata": {
    "tags": [
     "h"
    ]
   },
   "source": [
    "Problémem je skutečnost, že celá čísla mohou být representována i pomocí objektů třídy `float` (a dokonce i dalšími jako je `complex` nebo `fraction`). Základní možností je pokusit se o přetypování na celé číslo a zpět. Pokud obdržíme původní hodnotu, pak lze číslo representovat jako `int` a je tudíž celé. Bylo by to však nutné provést pro všechny potenciální číslené typy schopné uchovávat celá čísla. V praxi by tak mohlo stačit využití vestavěné metody `is_integer` třídy *float*."
   ]
  },
  {
   "cell_type": "code",
   "execution_count": 158,
   "metadata": {
    "pycharm": {
     "name": "#%%\n"
    },
    "tags": [
     "h"
    ]
   },
   "outputs": [
    {
     "name": "stdout",
     "output_type": "stream",
     "text": [
      "Celé číslo\n"
     ]
    }
   ],
   "source": [
    "# testovací prográmek\n",
    "x = 10.0  \n",
    "# zkuste i použití zlomeku, zamyšlete se nad výsledkem a jeho použitelností\n",
    "# import fractions\n",
    "# x = fractions.Fraction(6,2)\n",
    "if isinstance(x, int) or x.is_integer():\n",
    "    print(\"Celé číslo\")"
   ]
  },
  {
   "cell_type": "markdown",
   "metadata": {},
   "source": [
    "Testování dalších dvou podmínek použitelnosti metody je jednoduché (kladnost přidané částky a stav nerozbytí).\n",
    "\n",
    "Stejně tak jednoduchá je i implementace metody pro rozbití kasičky (kontrola a následná změna jediného atributu). Nynínovou třídu vyzkoušímě (a pro jistotu si vytvoříme novou kasičku)."
   ]
  },
  {
   "cell_type": "code",
   "execution_count": 159,
   "metadata": {
    "pycharm": {
     "name": "#%%\n"
    }
   },
   "outputs": [
    {
     "name": "stdout",
     "output_type": "stream",
     "text": [
      "1000001\n"
     ]
    }
   ],
   "source": [
    "k = Kasicka() # vytvoříme\n",
    "k.pridej_penize(1_000_000) # přidáme pár korun\n",
    "k.pridej_penize(1)  # a ještě jednou\n",
    "print(k.rozbij()) # rozbijeme a vypíšeme celkovou sumu"
   ]
  },
  {
   "cell_type": "markdown",
   "metadata": {},
   "source": [
    "Musíme vyzkoušet i problematická (nepřípustná volání). "
   ]
  },
  {
   "cell_type": "code",
   "execution_count": 164,
   "metadata": {
    "pycharm": {
     "name": "#%%\n"
    }
   },
   "outputs": [
    {
     "name": "stdout",
     "output_type": "stream",
     "text": [
      "Částka je záporná\n"
     ]
    }
   ],
   "source": [
    "k = Kasicka()\n",
    "try:   # zkusíme to risknout (i když očekáváme výjimku)\n",
    "    k.pridej_penize(-10)\n",
    "except Exception as e: # pokud nastane pak ji zachytíme\n",
    "    print(e) # a vypíšeme"
   ]
  },
  {
   "cell_type": "markdown",
   "metadata": {},
   "source": [
    "Program skončil s výjimkou, ale kasička stále existuje (v notebooku existují všechny vytvořené, dokud notebook neuzavřeme)"
   ]
  },
  {
   "cell_type": "code",
   "execution_count": 165,
   "metadata": {
    "pycharm": {
     "name": "#%%\n"
    }
   },
   "outputs": [
    {
     "data": {
      "text/plain": [
       "0"
      ]
     },
     "execution_count": 165,
     "metadata": {},
     "output_type": "execute_result"
    }
   ],
   "source": [
    "k.rozbij()"
   ]
  },
  {
   "cell_type": "code",
   "execution_count": 166,
   "metadata": {
    "pycharm": {
     "name": "#%%\n"
    }
   },
   "outputs": [
    {
     "ename": "Exception",
     "evalue": "Kasička je rozbitá",
     "output_type": "error",
     "traceback": [
      "\u001b[0;31m---------------------------------------------------------------------------\u001b[0m",
      "\u001b[0;31mException\u001b[0m                                 Traceback (most recent call last)",
      "\u001b[0;32m<ipython-input-166-61707489cd4a>\u001b[0m in \u001b[0;36m<module>\u001b[0;34m\u001b[0m\n\u001b[0;32m----> 1\u001b[0;31m \u001b[0mk\u001b[0m\u001b[0;34m.\u001b[0m\u001b[0mpridej_penize\u001b[0m\u001b[0;34m(\u001b[0m\u001b[0;36m100\u001b[0m\u001b[0;34m)\u001b[0m\u001b[0;34m\u001b[0m\u001b[0;34m\u001b[0m\u001b[0m\n\u001b[0m",
      "\u001b[0;32m<ipython-input-151-7669ec07f793>\u001b[0m in \u001b[0;36mpridej_penize\u001b[0;34m(self, castka)\u001b[0m\n\u001b[1;32m      9\u001b[0m             \u001b[0;32mraise\u001b[0m \u001b[0mException\u001b[0m\u001b[0;34m(\u001b[0m\u001b[0;34m\"Částka je záporná\"\u001b[0m\u001b[0;34m)\u001b[0m\u001b[0;34m\u001b[0m\u001b[0;34m\u001b[0m\u001b[0m\n\u001b[1;32m     10\u001b[0m         \u001b[0;32mif\u001b[0m \u001b[0mself\u001b[0m\u001b[0;34m.\u001b[0m\u001b[0mrozbita\u001b[0m\u001b[0;34m:\u001b[0m\u001b[0;34m\u001b[0m\u001b[0;34m\u001b[0m\u001b[0m\n\u001b[0;32m---> 11\u001b[0;31m             \u001b[0;32mraise\u001b[0m \u001b[0mException\u001b[0m\u001b[0;34m(\u001b[0m\u001b[0;34m\"Kasička je rozbitá\"\u001b[0m\u001b[0;34m)\u001b[0m\u001b[0;34m\u001b[0m\u001b[0;34m\u001b[0m\u001b[0m\n\u001b[0m\u001b[1;32m     12\u001b[0m         \u001b[0mself\u001b[0m\u001b[0;34m.\u001b[0m\u001b[0mcastka\u001b[0m \u001b[0;34m+=\u001b[0m \u001b[0mcastka\u001b[0m  \u001b[0;31m# vlastní kód metody: zvýšení uložené částky o předanou částku\u001b[0m\u001b[0;34m\u001b[0m\u001b[0;34m\u001b[0m\u001b[0m\n\u001b[1;32m     13\u001b[0m     \u001b[0;32mdef\u001b[0m \u001b[0mrozbij\u001b[0m\u001b[0;34m(\u001b[0m\u001b[0mself\u001b[0m\u001b[0;34m)\u001b[0m\u001b[0;34m:\u001b[0m\u001b[0;34m\u001b[0m\u001b[0;34m\u001b[0m\u001b[0m\n",
      "\u001b[0;31mException\u001b[0m: Kasička je rozbitá"
     ]
    }
   ],
   "source": [
    "k.pridej_penize(100)"
   ]
  },
  {
   "cell_type": "markdown",
   "metadata": {},
   "source": [
    "#### Zapouzdření\n",
    "\n",
    "V popisu požadovaných rysů kasičky jsem kladl velký důraz na to, že dokud kasičku nerozbijeme, nelze zjistit kolik peněz obsahuje. To však není evidentně pravda:"
   ]
  },
  {
   "cell_type": "code",
   "execution_count": null,
   "metadata": {
    "pycharm": {
     "name": "#%%\n"
    }
   },
   "outputs": [],
   "source": [
    "k = Kasicka() # vytvoříme novou\n",
    "k.pridej_penize(100)\n",
    "\n",
    "print(k.castka)"
   ]
  },
  {
   "cell_type": "markdown",
   "metadata": {},
   "source": [
    "Nyní víme, že v kasičce je 100 korun, ale přesto jsme ji nerozbili.\n",
    "\n",
    "Situace je však ještě horší."
   ]
  },
  {
   "cell_type": "code",
   "execution_count": null,
   "metadata": {
    "pycharm": {
     "name": "#%%\n"
    }
   },
   "outputs": [],
   "source": [
    "k.castka = 0"
   ]
  },
  {
   "cell_type": "markdown",
   "metadata": {},
   "source": [
    "To je vykradení kasičky za bílého dne! Může však být ještě hůře: "
   ]
  },
  {
   "cell_type": "code",
   "execution_count": null,
   "metadata": {
    "pycharm": {
     "name": "#%%\n"
    }
   },
   "outputs": [],
   "source": [
    "k.castka = -100"
   ]
  },
  {
   "cell_type": "markdown",
   "metadata": {},
   "source": [
    "Nyní máme kasičku zadluženku (tj. kasička do níž lze vkládat např. služní úpisy). Podobně můžeme z rozbité kasičky udělat nerozbitou (je to lepší než oprava, nedokážeme totiž rozlišit zda je skutečně nerozbytá nebo znovuskříšená i s původním obnosem)."
   ]
  },
  {
   "cell_type": "markdown",
   "metadata": {},
   "source": [
    "Jak je to vůbec něco takového možné?\n",
    "\n",
    "Důvod je jednoduchý. V Pythonu je dáno pouze dohodou, co smíme dělat (co je košer) a co nikoliv (co je hucpe).\n",
    "\n",
    "**Obecná dohoda je taková, že můžeme volat pouze metody (ať již přímo či nepřímo). Ty musí být napsány tak, že nevznikne žádný nedefinovaný stav. Naopak atributy by neměly být vně metod dané třídy použité.**\n",
    "\n",
    "Tato dohoda vychází ze základního principu objektově orientovaného programování. S objekty lze interagovat pouze pomocí volání metod z veřejného rozhraní. Interní (datová) representace (tj. struktura atributů) je naopak skrytá.\n",
    "\n",
    "Tento princip se označuje jako **zapouzdření** (angl. *encapsulation*). Cílem zapouzdření není skrýt (tajná) data, ale zabránit závislosti okolního kódu na struktuře a zamezit nepřípustné modifikaci interních dat (viz dluhová kasička). \n",
    "\n",
    "Tento princip lze vysvětlit na náramkových hodinkách. Veřejným rozhraním je ciferník, je standardizovaný a běžně se nemění.  Vnitřní mechanismus je skrytý. Pokud by byl snadno viditelný pak by vnější pozorovatel mohl obejít ciferník a využívat pouze vnitřní informace (např. pozice ozubených koleček). Tato (nechtěná) závislost by vedla ke zbytečně složitému algoritmu přístupu (kolečka nejsou primárně určena pro zobrazení času), neautorizovaným změnám (není překvapivé, že po vyjmutí pár koleček nemusí hodinky fungovat a navíc asi přijdeme i o záruku) avšak především by téměř znemožnila upgrade interního mechanismus hodinek (poN přehodu na digitální technologii, již nelze kolečka pro čtení hodinek využívat, naopak ciferník může zůstat beze změny).\n",
    "\n",
    "Některé jazyky si zapouzdřenost vynucují automaticky, jiné mají nástroje jak si zapouzdřenost vynutit explicitně pro danou třídu, Python předpokládá, že programátoři jsou dospělí a tak vědí co činí (resp. co by činit neměli).\n",
    "\n",
    "V některých případech však základní rozdělení na veřejné metody a skryté atributy nestačí. Relativně často se používají pomocné metody, které nejsou součástí veřejného rozhraní, ale používají se výhradně v ostatních metodách (v zásadě je to dodání další skryté vrstvy schované ještě pod veřejným rozhraním).\n",
    "\n",
    "Tyto metody lze vyznačit tím, že se na začátku jejich identifikátoru použije jedno podtržítko. V tomto případě pomůže trochu i Python, který trochu zkomplikuje jejich volání z vnějšku (zabrání se tak nechtěnému použití).\n",
    "Signifikantnější je však neuvedení popisu metody ve veřejné dokumentaci (co není popsáno, jako by nebylo).\n",
    "\n",
    "Na druhou stranu některé objekty nabízejí veřejné atributy. Zde je situace jasná. Atribut je veřejný jen tehdy, když je explicitně zmíněn v dokumentaci. Dokumentace také určuje, zda je pouze pro čtení (typičtější případ) nebo i pro zápis. "
   ]
  },
  {
   "cell_type": "markdown",
   "metadata": {},
   "source": [
    "### Příklad: Matematický model\n",
    "\n",
    "Na začátek vytvoříme třídu, jejíž instance budou representovat velmi jednoduché\n",
    "matematické objekty: uzavřené intervaly na množině reálných čísel.\n",
    "\n",
    "> Poznámka: V rámci programátorské praxe budete jen výjimečně vytvářet třídy\n",
    "> modelující matematické pojmy (programování není matematika). Matematické \n",
    "> pojmy však mají pro výuku základů programování \n",
    "> dvě hlavní výhody: jsou jednoznačně definované (= všichni mají stejnou představu\n",
    "> o příslušných objektech).\n",
    "> a mohou být extrémně jednoduché (což pro modely reálných objektů naplatí).\n",
    "\n",
    "Nejdříve si určíme jaké metody budou objekty nabízet (tím určíme jejich rozhraní\n",
    "a nedefinujeme jejich chování). \n",
    "\n",
    "U takto jednoduchých tříd je nejjednodušší začít návrhem malého programu, který \n",
    "bude využívat objekty naší nové třídy (program je prozatím nefunkční, neboť Python\n",
    "neposkytuje třídu `Interval`).\n",
    "\n",
    "```python\n",
    "interval1 = Interval(0.0, 1.0)  # vytvoření intervalu konstruktorem\n",
    "interval2 = Interval(0.5, 3.0) #  vytvoření intervalu konstruktorem\n",
    "\n",
    "print(str(interval1)) # objekt lze převést na text -> \"<0, 1>\"\n",
    "print(interval2.length()) # je možno zjistit délku intervalu -> 2.5\n",
    "\n",
    "prunik = interval1.intersection(interval2) # vrátí průnik jako nový interval\n",
    "print(prunik) # -> <0.5, 1>\n",
    "\n",
    "print(2.0 in prunik) # použití operátoru `in` -> False\n",
    "```\n",
    "\n",
    "Podívejme se detailněji na jednotlivé požadované metody.\n",
    "\n",
    "Při vytváření nových objektů se volá speciální metoda, která se označuje jako \n",
    "**konstruktoru**.  Tato metoda přijímá parametry, pomocí \n",
    "nichž musí tzv. inicializovat objekt. To znamená že musí:\n",
    "\n",
    "1. vytvořit podobjekty, které budou popisovat stav objektu dané třídy\n",
    "2. vytvořit atributy, které budou podobjekty odkazovat (a tak je budou v rámci\n",
    "    objektu identifikovat)\n",
    "\n",
    "V našem případě má konstruktor dva parametry, které určují dolní a horní mez\n",
    "intervalu (v tomto pořadí). \n",
    "\n",
    "Otázkou je, co by měl konstruktor dělat v případě, že programátor zadá meze\n",
    "v opačném pořadí tj. např.  `Interval(2,1)`.\n",
    "\n",
    "Nabízí se tři základní možnosti:\n",
    "\n",
    "1. ignorovat problém a vytvořit objekt, jehož meze jsou nesprávně nastaveny\n",
    "2. prohodit meze tak, aby byly správně uspořádané (bez upozornění)\n",
    "3. prohodit meze tak, aby byly správně a vypsat upozornění\n",
    "4. odmítnout neplatné meze a vyhodit výjimku (což typicky povede k ukončení \n",
    "   programu).\n",
    "   \n",
    "Je zřejmé, že první (pštrosí) přístup není akceptovatelný. Vždy platí, že objekt\n",
    "by měl být po svým vytvoření v konzistentním stavu. V opačném případě jen\n",
    "oddalujeme problém. Pokud budou meze nesprávně nastaveny, pak nás nesmí překvapit,\n",
    "že délka intervalu bude záporná a funkční nebude ani interval pro hledání průniku\n",
    "(oba výpočty, lze samozřejmě upravit, tak aby fungovaly i s neplatnými mezemi,\n",
    "ale bude to přinášet hodně práce navíc).\n",
    "\n",
    "Druhý přístup se jeví jako perspektivnější a navíc jako vstřícný k uživatelům.\n",
    "Obecně však platí, že byste se měli vyhnout \"magickému\" chování, a to především\n",
    "v případě, kdy slouží k zakrývání chyb či nekonzistencí. \n",
    "Můžete tak totiž nechtěně bránit včasné detekci chyb. Ty se tak mohou projevit až\n",
    "později a bohužel často s mnohem ničivějším účinkem.\n",
    "\n",
    "Doporučit tak lze jen poslední dva přístupy. Tolerance s upozorněním však není\n",
    "tak široce podporována jako mechanismus výjimek (obecně není zřejmé, jak bude\n",
    "upozornění vypisováno). Proto pokud máte svobodu volby, využívejte mechanismu\n",
    "výjimek i za cenu, předčasného ukončení programu."
   ]
  },
  {
   "cell_type": "markdown",
   "metadata": {},
   "source": [
    "Na objekt intervalu bude možno volat obecnou vestavěnou funkci `str`. Tato\n",
    "funkce by měla vrátit textovou representaci intervalu v podobě objektu řetězce.\n",
    "\n",
    "Tato funkce by měla vrátit representaci určenou primárně pro člověka, neboť\n",
    "se využívá primárně pro generování textových výstupů a pro ladění. Obecně\n",
    "nemusí být převoditelná zpět na objekt (tj. nemusí obsahovat všechny informace).\n",
    "V našem případě existuje standardní notace ve tvaru `<D, Y>`, kde `D` je dolní\n",
    "mez a `H` mez horní.\n",
    "\n",
    "Interval bude navíc podporovat i vestavěnou funkci `len`, která by měla (již podle\n",
    "svého názvu) vracet délku intervalu tj. `H` – `D`.\n",
    "\n",
    "Pomocí standardního zápisu volání metody nad objektem je implementována operace,\n",
    "která vrací průnik dvou intervalů (nad prvním je metoda volána, druhý je\n",
    "předán jako parametr). Výsledkem je nový objekt representující výsledný interval.\n",
    "Při návrhu této metody, je nutno zohlednit fakt, že dva intervaly mohou mít\n",
    "prázdný průnik. Jak se v tomto případě metoda zachová?\n",
    "\n",
    "Nemůžeme vyhodit výjimku, neboť prázdný průnik je běžným výsledkem a nejedná\n",
    "se tudíž o výjimečný a tím méně chybový stav. \n",
    "\n",
    "Dalším řešením je zavést objekt,\n",
    "který representuje prázdný interval. To však přináší další obtíže:\n",
    "\n",
    "1. objekt prázdného intervalu není možno vytvořit pomocí konstruktoru \n",
    "(je-li `H` >= `D`, pak interval obsahuje alespoň jeden bod a není tudíž prázdný) \n",
    "2. Jak prázdný interval převedeme na řetězec? Zápis $\\emptyset$ je sice možný,\n",
    "ale vztahuje se spíše na množiny a nikoliv na intervaly (i když interval je\n",
    "samozřejmě množina)\n",
    "3. Jaká je délka prázdného intervalu? Nemůže to být nula, neboť to je délka\n",
    "jednoprvkového intervalu tj. intervalu, jehož horní mez = dolní mez.\n",
    "\n",
    "Bohužel v tomto případě není možné najít zcela uspokojivé a přitom jednoduché \n",
    "řešení. Pro naše účely zvolíme následující přístup:\n",
    "\n",
    "1. prázdný interval bude vytvářen voláním konstruktoru bez parametrů \n",
    "tj. `Interval()`. Navíc umožníme i jednoparametrický konstruktor (vytvářející\n",
    "jednoprvkové intervaly). To sice není nezbytné usnadňuje to však použití, neboť\n",
    "není nutné dvakrát opakovat totéž číslo (resp. tutéž proměnnou). \n",
    "2. řetězcovou representací prázdného intervalu bude `<>`\n",
    "3. volání funkce `len` na prázdný objekt je nedefinované a proto bude vyhozena\n",
    "výjimka. Pro testován, zda je interval prázdný je proto nutné implementovat\n",
    "dodatečnou metodu `isEmpty()`.\n",
    "\n",
    "Příklad použití metody `isEmpty`:\n",
    "```python\n",
    "if prunik.isEmpty():\n",
    "    print(\"prazdný průnik\")\n",
    "```\n",
    "\n",
    "Rozhraní už máme přesně definované a nyní tedy můžeme přejít k návrhu vnitřní\n",
    "implementace. \n",
    "\n",
    "Základní interní intervalů representace je zřejmá: \n",
    "dva atributy, z nichž jeden bude odkazovat\n",
    "reálné číslo representující dolní mez (s jménem např. `low`) a druhý \n",
    "reálné číslo representující \n",
    "horní mez (`high`). Otázkou je však representace prázdného atributu.\n",
    "\n",
    "Zde existují dvě možnosti: jednou je přidání dalšího atributu `empty`, \n",
    "který bude nést\n",
    "logickou hodnotu, signalizující prázdnost intervalu. Druhou možností je využití\n",
    "nějaké neplatné kombinace dolní a horní meze (např. dolní meze větší než horní).\n",
    "\n",
    "Každé z obou řešení má své nevýhody.\n",
    "Přidání dalšího atributu a podobjektu \n",
    "zvětší velikost objektu naší třídy (v našem případě minimálně o 9 bytů na 64-bitovém\n",
    "systému). Navíc, v případě prázdného intervalu jsou atributy dolní a horní meze\n",
    "nevyužité (mohou obsahovat cokoliv). Alternativně lze v případě prázdného seznamu\n",
    "definovat jen atribut `empty`, což však může být matoucí (především pro programátory\n",
    "jazyků, v nichž nelze měnit počet atributů na základě stavu objektů). \n",
    "\n",
    "Použití neplatného stavu (= nepřípustné kombinace hodnot atributů) šetří paměť,\n",
    "je však náchylnější k chybné interpretaci nebo k chybnému použití. Pokud je třída\n",
    "využívána dlouhodobě či je vytvářena větším týmem může dojít k dezinformacím\n",
    "(nepřípustný stav je chybně interpretován).\n",
    "\n",
    "V současnosti, kdy rozsah paměti neni omezujícím faktorem **je lepší preferovat\n",
    "explicitní representaci oproti (zne)užití neplatných hodnot**. Toto pravidlo však\n",
    "nemá absolutní platnost.\n",
    "\n",
    "Nyní už můžeme přistoupit k implementaci (třídu je nutné implementovat v v jediné\n",
    "buňce):"
   ]
  },
  {
   "cell_type": "code",
   "execution_count": 167,
   "metadata": {
    "pycharm": {
     "name": "#%%\n"
    }
   },
   "outputs": [],
   "source": [
    "class Interval: # hlavička třídy\n",
    "    def __init__(self, low=None, high=None):\n",
    "        self.empty =  low is None and high is None # prázdný interval\n",
    "        self.low = low if low is not None else high\n",
    "        self.high = high if high is not None else low\n",
    "        \n",
    "    def __str__(self):\n",
    "        return f\"<{self.low}, {self.high}>\" if not self.empty else \"<>\"\n",
    "\n",
    "    def length(self):\n",
    "        if self.empty: # je-li prázdný\n",
    "            raise ValueError(\"Undefined operation for empty interval\") \n",
    "            # pak vyhoď výjimku\n",
    "        return self.high - self.low\n",
    "    \n",
    "    def intersection(self, other):\n",
    "        if self.empty or other.empty: \n",
    "            # průnikem dvou intervalů, z nichž je alespoň jeden prázdný \n",
    "            return Interval()  # je prázdný interval\n",
    "        low = max(self.low, other.low)\n",
    "        high = min(self.high, other.high)\n",
    "        if low <= high:\n",
    "            return Interval(low, high)\n",
    "        else:\n",
    "            return Interval()\n",
    "            \n",
    "    def __contains__(self, x):\n",
    "        if self.empty:\n",
    "            return False\n",
    "        else:\n",
    "            return self.low <= x and x  <= self.high"
   ]
  },
  {
   "cell_type": "markdown",
   "metadata": {},
   "source": [
    "Vyzkoušejme nejdříve náš návrh v podobě programu \n",
    "(je zbytečné popisovat třídu, která nefunguje):"
   ]
  },
  {
   "cell_type": "code",
   "execution_count": 168,
   "metadata": {
    "pycharm": {
     "name": "#%% \n"
    }
   },
   "outputs": [
    {
     "name": "stdout",
     "output_type": "stream",
     "text": [
      "<0.0, 1.0>\n",
      "2.5\n",
      "<0.5, 1.0>\n",
      "False\n"
     ]
    }
   ],
   "source": [
    "interval1 = Interval(0.0, 1.0)  # vytvoření intervalu konstruktorem\n",
    "interval2 = Interval(0.5, 3.0) #  vytvoření intervalu konstruktorem\n",
    "\n",
    "print(str(interval1)) # objekt lze převést na text -> \"<0, 1>\"\n",
    "print(interval2.length()) # je možno zjistit délku intervalu -> 2.5\n",
    "\n",
    "prunik = interval1.intersection(interval2) # vrátí průnik jako nový interval\n",
    "print(prunik) # -> <0.5, 1>\n",
    "\n",
    "print(2.0 in prunik) # použití operátoru `in` -> False"
   ]
  },
  {
   "cell_type": "markdown",
   "metadata": {},
   "source": [
    "Definice jednotlivých metod lze ve většině případů snadno interpretovat. Pro přetypování na řetězec je nutno definovat speciální (*dunder*) metodu `__str__` (odpovídá příslušné vestavěné funkci `str`, používané ke konstrukci řetězců). Testování, zda je hodnota obsažena (= operátor `in`) se definuje pomocí speciální metody\n",
    "`__contains__` (to už není tak přímočaré, jména jednotlivých *dunder* metod lze nalézt např. na stránkách [Data model](https://docs.python.org/3/reference/datamodel.html)). \n",
    "\n",
    "Jediná metoda, která vyžaduje trochu přemýšlení je metoda `intersection`, neboť nalezení mezí průniku není zcela přímočaré. V každém případě je nutné si na papíře nakreslit jednotlivé případy protínajících se (a neprotínajících se) intervalů. Červeně je `self` interval (na něj se metoda volá) a modře `other` (je předán jako parametr).\n",
    "\n",
    "![různé případy průniku intervalů](intervals.svg)"
   ]
  },
  {
   "cell_type": "markdown",
   "metadata": {},
   "source": [
    "Z obrázku je zřejmé, že dolní mez výsledného průniku je vždy větší z obou původních mezí tj. `max(self.low, other.low)` a horní mez menší z původních horních tj. `min(self.high, other.high)`. Pokud je výsledná dolní mez větší než horní, je průnik prázdný.\n",
    "\n",
    ">  Poznámka: Všimněte si, že objektové programování si vynucuje dosti asymetrický pohled na realitu. Vždy je tu hlavní objekt (adresát metody) a popřípadě další méně důležité objekty, které mohou být nezbytné, ale prostě hrají jen druhé housle. Pomocné objekty jsou předávány jako parametry. \n",
    "> Někdy je tato asymetrie jen čistě umělá, jako je tomu zde (oprerace průniku je symetrická a proto nezáleží, jaký objekt je adresátem (`self`) a jaký jen parametrem (`other`). Ve většině případů je však asymetrie zřejmá.\n",
    "\n",
    "```python\n",
    "seznam.append(položka); # hlavním objekt je je seznam (jen seznam změní stav)\n",
    "pokladnicka.pridej_penize(castka); # pokladnicka je opět hlavním objektem\n",
    "\n",
    "castka.pridej_mne_do(pokladnicka); # opačné chápání je podivné (mění se jen parametr, a jméno je dlouhé)\n",
    "\n",
    "```\n",
    "\n",
    "> Tato asymetrie, je obdobou asymetrie *já* versus ostatní *svět*, která je vlastní lide. Proto je někdy vhodné\n",
    "namísto identifikátoru `self` využívat zájméno `já` či `můj`, které navíc koresponduje se zapouzdřením (ukrývám své já před světem). Stačí se jen ztotožnit s objektem. Lze tedy například říct: \"dolní mez průniku je rovna maximu *mé* dolní meze a *jeho* dolní meze.\"\n"
   ]
  },
  {
   "cell_type": "markdown",
   "metadata": {},
   "source": [
    "> **Úkol:** Vyzkoušejte program i pro jiné vstupní intervaly, především \n",
    "otestujte situace, kdy je některý z intervalů prázdný resp. jednoprvkový."
   ]
  },
  {
   "cell_type": "code",
   "execution_count": 169,
   "metadata": {
    "pycharm": {
     "name": "#%%\n"
    },
    "tags": [
     "h"
    ]
   },
   "outputs": [
    {
     "name": "stdout",
     "output_type": "stream",
     "text": [
      "<0.0, 1.0>\n",
      "1.5\n",
      "<>\n",
      "False\n",
      "výjimka\n"
     ]
    }
   ],
   "source": [
    "interval1 = Interval(0.0, 1.0)  # vytvoření intervalu konstruktorem\n",
    "interval2 = Interval(1.5, 3.0) #  vytvoření intervalu konstruktorem\n",
    "\n",
    "print(str(interval1)) # objekt lze převést na text -> \"<0, 1>\"\n",
    "print(interval2.length()) # je možno zjistit délku intervalu -> 2.5\n",
    "\n",
    "prunik = interval1.intersection(interval2) # vrátí průnik jako nový interval\n",
    "print(prunik) # -> <0.5, 1>\n",
    "\n",
    "print(2.0 in prunik) # použití operátoru `in` -> False\n",
    "\n",
    "try:\n",
    "    print(prunik.length())  # zde musí vzniknout výjimka\n",
    "except:\n",
    "    print(\"výjimka\")"
   ]
  },
  {
   "cell_type": "markdown",
   "metadata": {
    "pycharm": {
     "name": "#%% md \n"
    }
   },
   "source": [
    "## Komplexnější třída (graf spojení mezi městy)\n",
    "\n",
    "Typickou úlohou v geograficky orientovaných informačních systémech je hledání nejbližších cest mezi dvěma místy, s využitím mapových podkladů. To je samozřejmě dosti komplexní problém a proto, si ho zjednodušíme.\n",
    "\n",
    "Budeme proto hledat spojení jen mezi omezeným počtem míst (řekněme třeba mezi městy), jejichž (nejkratší) přímou vzdálenost zadáme ručně (pomocí volání metody).\n",
    "\n",
    "Nejdříve zkusíme navrhnout rozhraní objektů třídy `Place` (tato třída může být používána v reálných aplikacích, takže volíme anglické identifikátory):\n",
    "\n",
    "* konstruktor: parametrem je jméno místa a jeho poloha (zeměpisná šířka a délka)\n",
    "* metoda pro přidání přímého spojení `add_connection`, parametrem je cílové místo a vzdálenost\n",
    "* metoda pro hledání délky nejkratšího spojení `distance`, parametrem je cílové místo. Metoda najde nejkratší spojení (to může procházet více místy) a vrátí jeho vzdálenost. \n",
    "\n",
    "Zeměpisná poloha předávaná v konstruktoru se nepoužívá pro výpočet vzdáleností (vzdálenosti jsou v našem modelu skutečné dopravní vzdálenosti, nikoliv vzdušné vzdálenosti). Použijeme ji později pro nakreslení jednoduché mapy.\n",
    "\n",
    "Obě metody pracující se spojením očekávají jako parametr objekt třídy `Place`, representující cíl. Obě metody tak pracují se dvěma objekty třídy `Place`. Je to jednak objekt dostupný v metodě pomocí parametru `self` (adresát metody = objekt, na nějž je metoda volána) representující počátek spojení, jednak objekt předaný jako běžný parametr representující cíl spojení. \n",
    "\n",
    "Tj. předpokládáme-li, že proměnné `decin` a `teplice` označují objekty příslušných měst, pak bude lze využít následujících volání:\n",
    "\n",
    "```python\n",
    "decin.add_connection(teplice, 21) # 35km z Děčína do Teplic\n",
    "print(decin.distance(teplice))  # vypíše 35km  \n",
    "```\n",
    "\n",
    "Navržené rozhraní má určitý nedostatek, který jste už možná zaznamenali. Pokud existuje přímé spojení z bodu A do B, pak s vysokou pravděpodobností existuje i stejně dlouhé spojení v opačném směru (většina dopravních spojení je obousměrná). Bylo by tedy užitečné, kdyby se při přidání spojení automaticky přidalo i spojení opačným směrem. Na druhou stranu výjimečně může existovat i přímé spojení jen jedním směrem, resp. obě spojení mmohou mít různou délku.\n",
    "\n",
    "Řešením je přidání dalšího parametru `bidi` (relativně běžně používaná zkratka za *bidirectional*) k metodě `add_connection`. Pokud bude mít hodnotu `True` pak se automaticky vloží i spojení opačným směrem (při `False` nikoliv). Navíc zde můžeme použít implicitní hodnoty parametru. Pokud ji nastavíme na `True`, pak se při běžném použití nebude vůbec uvádět (a použití bude identické s výše uvedeným příkladem).  Pokud bude výjimečně potřeba zadat jednodměrné spojení, bude volání o něco delší, ale stále přehledné (hlavně použijeme-li pojmenovaný parametr).\n",
    "\n",
    "```python\n",
    "usti.add_connection(teplice, 21, bidi=False) # umělý příklad (spojení není ve skutečnosti jednosměrné)\n",
    "```"
   ]
  },
  {
   "cell_type": "markdown",
   "metadata": {},
   "source": [
    "Po návrhu rozhraní, musíme navrhnout i datovou representaci objektů míst. Jednoduché je to u jména a polohy místa, neboť každé místo bude míst jen jedno jméno, jednu zeměpisnou šířku a jednu zeměpisnou délku. Tj. stačí vytvořit tři atributy objektu, které budou označovat/odkazovat příslušné hodnoty (řetězec a dvě čísla třídy `double`).\n",
    "\n",
    "Složitější je representace přímých spojení. Každé místo může mít totiž obecně neomezený počet spojení. Navíc spojení není jednoduchá hodnota, ale minimálně hodnoty dvě (identifikace cílového místa a vzdálenost, počáteční místo je dáno umístěním dané informace). Musíme proto využít nějaké kolekce.\n",
    "\n",
    "Klíčovou kolekcí v Pythonu je seznam. Proto ověříme nejdříve jeho použitelnost.\n",
    "\n",
    "Za prvé potřebujeme ukládat dvojice hodnot. To lze zařídit, neboť položkami seznamu mohou být (vnořené) seznamy resp. jiné kolekce. Pokud bychom takový seznam vytvářeli ručně, pak by například mohl mít tento tvar (proměnné označují příslušné objekty):\n",
    "\n",
    "```python\n",
    "spojeniZDecina = [[usti, 15], [teplice, 21], [rumburk, 43], ...] # seznam seznamů\n",
    "```\n",
    "\n",
    "### N-tice\n",
    "\n",
    "Namísto vnořených seznamů lze využít tzv. n-tice (angl. *tuple*), což je uspořádaná kolekce optimalizovaná pro malý počet prvků, která je navíc nemodifikovatelná (po vytvoření do ní nelze přidávat prvky, či prvky zaměňovat). N-tice se na rozdíl od seznamů uzavírají do kulatých závorek (ty lze v některých případech vynechat, v následujícím zápise to však možné není, jistě poznáte proč).\n",
    "\n",
    "```python\n",
    "spojeniZDecina = [(usti, 15), (teplice, 21), (rumburk, 43), ...] # seznam dvojic\n",
    "```"
   ]
  },
  {
   "cell_type": "markdown",
   "metadata": {},
   "source": [
    "Tato implementace se jeví jako rozumná. Není přirozeně zcela dokonalá. Pokud například chcete v našem seznamu vyhledat vzdálenost do Rumburku, musíme postupně procházet jednotlivé prvky a hledat ten, jehož první položka je rovna hledanému místu. Teprve pak můžeme vrátit příslušnou vzdálenost. Můžeme si na však to připravit funkci (parametr `key` je hodnota kterou hledáme, v prohledávaných dvojicí musí být vždy uváděna jako první):"
   ]
  },
  {
   "cell_type": "code",
   "execution_count": 170,
   "metadata": {
    "pycharm": {
     "name": "#%%\n"
    }
   },
   "outputs": [],
   "source": [
    "def get_value(listOfpairs, key):\n",
    "    for k, v in listOfpairs: # postupně procházíme dvojice\n",
    "        if k == key:\n",
    "            return v\n",
    "    return None # pokud nic nenajdeme vrátíme `None`"
   ]
  },
  {
   "cell_type": "markdown",
   "metadata": {},
   "source": [
    "Novinkou kódu je uvedení dvojice proměnných na místě řídící proměnné cyklu `for`. Je to obdoba paralelního přiřazení. Hodnota dvojice z procházeného seznamu je přiřazena do dvojice proměnných (i kolem této dvojice je možno napsat závorky stejně jako u n-tic).\n",
    "\n",
    "Alternativně lze dvojice ukládat pomocí slovníku (`dict`). Pro malý počet dvojic (řádově jednotky) to  však není příliš efektivní (slovník je optimalizován pro větší množiny).  "
   ]
  },
  {
   "cell_type": "markdown",
   "metadata": {},
   "source": [
    "Třídu můžeme implementovat přímo v Jupyter notebooku, není to však pohodlné. Kód třídy musí být celý obsažen v jediné vstupní buňce, což je při jeho rozsahu (několik desítek řádek) nepřehledné.\n",
    "\n",
    "Proto zkusíme třídu naprogramovat v editoru `pycharm`. Podle návodu v první kapitole vytvořte projekt `cities` (jméno projektu nehraje v Pythonu žádnou roli, slouží pouze pro organizaci skriptů v editoru). V rámci projektu vytvořte soubor `cities.py`. Jméno souboru musí mít příponu `py`. Vlastní jméno souboru (bez přípony) se používá jako jméno modulu při importování (takže je vhodné volit krátké, ale přitom dostatečně jednoznačné jméno).\n",
    "\n",
    "Do editoru vložte nejdříve tento text (poznámky přepisovat nemusíte):"
   ]
  },
  {
   "cell_type": "markdown",
   "metadata": {},
   "source": [
    "```python\n",
    "class City:\n",
    "    def __init__(self, name): # konstruktor\n",
    "        self.name = name      # do objektu uložíme jméno města\n",
    "        self.connections = [] # seznam spojení z města je zatím prázdný\n",
    "\n",
    "    def add_connection(self, target, distance, bidi=True):\n",
    "        self.connections.append((target, distance))  \n",
    "        # přidáme dvojici (město, vzdálenost) do seznamu\n",
    "        if bidi:  # je-li spojení obousměrné\n",
    "            target.add_connection(self, distance, bidi=False) # vložíme i opačný směr\n",
    "```"
   ]
  },
  {
   "cell_type": "markdown",
   "metadata": {},
   "source": [
    "**Úkol**: Co se stane, pokud by se v implementaci metody `add_connections` vkládalo opačné spojení voláním metody `add_connection` s implicitní hodnotou parametru `bidi` (tj. s hodnotu `True`)."
   ]
  },
  {
   "cell_type": "markdown",
   "metadata": {
    "tags": [
     "h"
    ]
   },
   "source": [
    "Předpokládejme, že vkládáme obousměrné spojení mezi městy v proměnných `a` a `b`, tj. použijeme volání `a.add_connection(b, 1, bidi=True)`.\n",
    "Parametr `bidi` určuje, že musí být volán i opačný směr tj. uvnitř metody `add_connection` dojde k (rekurzivnímu) volání tvaru `b.add_connection(a, 1, bidi=True)`. Protože i toto volání by bylo nastaveno jako obousměrné, vedlo by opět k novému rekurzivnímu volání metody `add_connection` tentokrát opět v původním gardu tj, `a.add_connection(b, 1, bidi=True)`. I toto volání by však využilo vložení spojení v opačném směru (tj. v podobě  `b.add_connection(a, 1, bidi=True)`). Nyní by Vám již mělo být jasné, že řetězec volání je nekonečný, neboť přidání spojení na jedné straně by vedlo k přidání na straně druhé a tak dále.\n",
    "Výše uvedená implementace však opačný směr přidává jako jednosměrný a řetězec je tak ukončen ihned po druhém volání."
   ]
  },
  {
   "cell_type": "markdown",
   "metadata": {},
   "source": [
    "Před konečnou implementací nám zbývá promyslet implementaci metody `distance`.  Implementace není zcela jednoduchá neboť vyžaduje alespoň základy algoritmického myšlení tj. abstrakce univerzálně použitelných postupů pro řešení matematicky definovaných problémů.\n",
    "\n",
    "Jak najdeme nejkratší spojení do vzdáleného města v reálném životě. Pokud máme k dispozicí mapu pak většinou stačí jediný pohled a danou cestu nalezneme (pokud bereme v potaz jen hlavní klíčové silnice tj. v našem případě silnice druhé a vyšší třídy).  Můžeme se sice splést (například v hledání cesty z Ústí do Teplic nemusí být zřejmé zda jet přes Chlumec nebo přes Řehlovice), ale chyba bude jen malá (v praxi má větší vliv kvalita silnic a aktuální dopravní situace).\n",
    "\n",
    "Tento přístup však nelze pro náš účel použít, nemáme totiž žádné informace o vzájemné pozici měst ani globální pohled na strukturu silnic (odkud, kam a přes jaká města silnice vedou). \n",
    "\n",
    "Zkusíme proto strategii nepříliš inteligentních, ale vytrvalých a partogeneticky se rozmnožujících mravenců. Navíc všichni tito mravenci běhají stejnou konstantní rychlostí (třeba kilometr za den).\n",
    "\n",
    "Nejdříve položíme jediného mravence do počátečního města. Protože je jejich partogenetické rozmnožování úžasně rychlé, je pro něj záležitostí zanedbatelného okamžiku zplodit tolik nových mravenců, kolik spojení vychází z počátečního města. Nově zrození  mravenci se ihned rozbíhají po těchto spojích. Mravenec rodič (tj. defacto praotec) zůstává v počátečním městě, kde (dožívá) ve štěstí a blahobytu (rozmnožování mu bohužel sebralo dost sil).\n",
    "\n",
    "Pokud děti a případně i vzdálenější potomci (vzdálenější ve smyslu příbuzenství) dorazí do dalšího města pak jejich chování záleží na dvou okolnostech.\n",
    "\n",
    "Pokud tam dorazí jako první a město je cílové, pak on a jeho předci vyhráli (štafetový) běh a my známe nejkratší vzdálenost mezi počátečním a cílovým městem (je dáno časem jejich vítězného doběhu, neboť rychlosti jsou konstantní a čas na rozmnožování je zanedbatelně malý). Pokud si mravenci-předci předávali i jména měst, kterými prošli, pak známe i nejkratší cestu.\n",
    "\n",
    "Pokud mravenec dorazí jako první a město není cílové, pak se zachová jako praotec.  Porodí tolik mravenců, kolik je spojení z daného města a ihned je na tato spojení vyšle. Sám zůstává a dožívá v naději, že některý z jeho potomků vyhraje (jistotu však samozřejmě nemá).\n",
    "\n",
    "Nejsmutnější je situace, kdy mravenec do některého z měst nedorazí jako první (což se pozná snadno, neboť ve městě stále dožívá první pokořitel daného města). V tomto případě je totiž zřejmé, že on resp. jeho případné potomci již nemohou vyhrát (potomci prvního mravence již vyrazily dávno předtím). Nezbývá mu nic jiného než spáchat sebevraždu (samozřejmě bez jakéhokoliv rozmnožování).\n",
    "\n",
    "Algoritmus běžně končí tím, že první mravenec dorazí do cílového města. Další sledování mravenců je pak samozřejmě zbytečné (nakonec všichni zbývající stejně spáší sebevraždu). Pokud je však cílové město z počátečního města nedosažitelné (což by se ve Střední Evropě stávat nemělo) končí algoritmus jinak (jedním z konkurenčních výhod dobrého programátora je schopnost vidět i tyto okrajové následky)."
   ]
  },
  {
   "cell_type": "markdown",
   "metadata": {},
   "source": [
    "> **Úkol**: Jak končí algoritmus mravenců-průzkumníků v případě nedosažitelnosti cílového města?"
   ]
  },
  {
   "cell_type": "markdown",
   "metadata": {
    "tags": [
     "h"
    ]
   },
   "source": [
    "Počet mravenců dále nenarůstá (nevznikají noví) a zbývající (nesmrtelní) mravenci zůstávají ve všech městech dosažitelných z počátečního (vždy jeden)."
   ]
  },
  {
   "cell_type": "markdown",
   "metadata": {},
   "source": [
    "Tento algoritmus je relativně snadno pochopitelný, **nelze** jej však bohužel přímo realizovat v běžném počítači. V jednom okamžiku totiž mezi městy pobíhá větší počet mravenců, z nichž každý by pro svou programovou representaci vyžadoval nezávislý procesor, neboť jejich činnosti tj. především rozmnožování musí být zcela nezávislé na ostatních mravencích (a to i v případě, že by přesun do města či dožití by byli representovány pouze čekáním na určitý čas bez nutnosti využití procesoru). Současné počítače sice běžně obsahují více procesorů (jader). Jejich počet je však fixní a relativně malý (bylo by podivné, pokud byste byli nuceni kupovat počítač s desítkami procesorů pro nalezení nejkratší cesty v dopravním systému mezi několika městy)."
   ]
  },
  {
   "cell_type": "markdown",
   "metadata": {},
   "source": [
    "Algoritmus tak musíme trochu upravit. Namísto velkého množství rozplozujících se mravenců, použijeme jen jednoho, který však musí mít schopnost teleportace a musí být gramotný.\n",
    "\n",
    "Tento mravenec je na začátku v počátečním městě. Zjistí si všechna přímá spojení, avšak namísto aby se do některého z nich vydal si je zapíše do svého turistického pořádníku. Napíše si odkud by se měl vydat a kam by měl dorazit. Na pořádí záznamu nezáleží.\n",
    "\n",
    "Navíc si vytvoří tabulku, v níž má u každého města poznamenanou nejmenší ověřenou vzdálenost od města startovního. Na začátku obsahuje u startovního nulu a u všech ostatních nekonečno (náš mravenec umí dokonce i ležatou osmičku). \n",
    "\n",
    "Nyní vše běží ve velké smyčce. Mravenec se podívá do svého turistického pořadníku a teleportuje se do místa, ze kterého vychází první přímé spojení v pořadníku. To spojení projde a tím zjistí vzdálenost. Nezapomene samozřejmě projité spojení odstranit z pořadníku.\n",
    "\n",
    "Poté se podívá se do tabulky. Sečte minimální vzdálenost města, odkud vycházelo právě projité přímé spojení, s ujitou vzdáleností. Pokud je tato vzdálenost menší než aktuální minimální vzdálenost města, v němž se právě nachází, pak najde všechna spojení vycházející z tohoto místa a zapíše si je do pořadníku (opět dvojici odkud a kam). Navíc přepíše minimální vzdálenost aktuálního místa v tabulce. V opačném případě (součet vzdáleností je větší) nemusí v tomto kroku provádět nic.\n",
    "\n",
    "Nyní se vrátíme znovu na počátek smyčky. Pokud je pořadník prázdný pak algoritmus končí. Jinak se mravenec teleportuje do místaze kterého vychází první přímé spojení v pořadníku. To spojení projde a tím zjistí vzdálenost. Nezapomene samozřejmě projité spojení odstranit z pořadníku.\n",
    "\n",
    "Poté se podívá se do tabulky. Sečte minimální vzdálenost města, odkud vycházelo právě projité přímé spojení, s ujitou vzdáleností. Pokud je tato vzdálenost menší než aktuální minimální vzdálenost města, v němž se právě nachází, pak najde všechna spojení vycházející z tohoto místa a zapíše si je do pořadníku (opět dvojici odkud a kam). Navíc přepíše minimální vzdálenost aktuálního místa v tabulce. V opačném případě (součet vzdáleností je větší) nemusí v tomto kroku provádět nic.\n",
    "\n",
    "Nyní se vrátíme znovu na počátek smyčky. Pokud je pořadník prázdný pak algoritmus končí. Jinak se mravenec teleportuje do místa, ze kterého vychází první přímé spojení v pořadníku, ....\n",
    "\n",
    "I když to na první pohled nemusí být zřejmé cyklus nakonec skončí (mravenec si od jisté chvíle již nezapíše nové spojení do svého pořadníčku a ten se tak nakonec vyprázdní). Navíc určitě prošel i minimální cestou, Opakuje totiž všechny cesty svých vzorů, kteří používali strategii \"nas mnogo\" (a v případě potřeby nás může být ještě víc). Minimální vzdálenost najde v tabulce  v řádce cílového města. V nejhorším případě tam nalezne ležatou osmičku (pokud cílové město není ze startovního dosažitelné)."
   ]
  },
  {
   "cell_type": "markdown",
   "metadata": {},
   "source": [
    "Algoritmus lze samozřejmě ještě zjednodušit. Pokud známe předem délku všech přímých spojení, pak je zbytečné aby se mravenec teleportoval. Vše snadno zjistí doma pomocí tužky a papíru (jen připisuje a ruší záznamy ve pořadníku a případně snižuje hodnoty v tabulce měst). To však může provádět i počítač a to pravděpodně značně rychleji. Proto můžeme eliminovat i onoho geniálního zástupce řádu blanokřídlých.\n",
    "\n",
    "Navíc lze v tomto případě algoritmus i mírně optimalizovat, neboť jste si jistě všimli, že mravenci procházeli i spojení, u nichž bylo již v okamžiku startu jasné, že nebudou nejrychlejší (koncové město spojení bylo dosaženo již před startem průchodu spojením). Speciálním případem těchto zbytečných průchodů je návrat do místa, z něhož vyšel předek (resp. předci). Tyto případy lze za pomoci tabulky aktuálních minimálních vzdáleností snadno eliminovat, neboť je nemusíme zařazovat do pořadníku.\n",
    "\n",
    "Dalším vylepšením je eliminace počátečního místa spojení v položce pořadníku, namísto toho stačí uvádět jen vypočtenou minimální vzdálenost, která může (ale nemusí) nahradit minimální vzdálenost v tabulce."
   ]
  },
  {
   "cell_type": "markdown",
   "metadata": {},
   "source": [
    "Poslední navržený algoritmus vyžaduje dvě pomocné struktury.\n",
    "\n",
    "*pořadník*: seznam dvojic naplánovaných průchodů spojeními (koncové město spojení, a nabízená minimální délka spojení). Do seznamu/pořadníku přidáváme na konec a vyjímáme (zpracování+smazání) na začátku. Seznam do něhož přidáváme prvky na konci a vyjímáme je postupně na druhé straně (= počátku) se běžně označuje jako **fronta**).\n",
    "\n",
    "*tabulka*: záznam o minimální vzdálenosti pro každé město. Lze použít seznam dvojic (jméno města, minimální vzdálenost), ale to je dost nepohodlné v případě změny minimální vzdálenosti. V tomto případě by bylo nutné původni dvojice odstraňovat. Naštěstí Python podporuje velké množství různých specializovaných kolekcí, z nichž si vybere téměř každý.\n",
    "\n",
    "#### Slovník s nastavenou implicitní hodnotou\n",
    "\n",
    "Nám se bude hodit kolekce `collections.defaultdict`, která efektivně ukládá dvojice (klíč, hodnota), včetně rychlého hledání hodnot podle klíče a jejich modifikace (v našem případě je klíčem město a hodnotou aktuální minimální vzdálenost). Navíc (na rozdíl od běžného slovníku) podporuje implicitní hodnotu pro klíče, které se ve slovníku nenachází. To se nám hodí, neboť náš algoritmus předpokládá, že město, které ještě nebylo dosaženo při hledání nejkratší cesty má vzdálenost nekonečnou (třída `float` umožňuje representovat i nekonečné hodnoty).\n",
    "\n",
    "Slovník s implicitní hodnotou si vyzkoušíme na jednoduchém příkladě. Klíčem bude jméno studenta (řetězec), hodnotou informace o tom zda splnil podmínky zápočtu. Pokud jméno studenta ve slovníku není, pak se předpokládá, že zápočet nemá."
   ]
  },
  {
   "cell_type": "code",
   "execution_count": 171,
   "metadata": {
    "pycharm": {
     "name": "#%%\n"
    }
   },
   "outputs": [
    {
     "name": "stdout",
     "output_type": "stream",
     "text": [
      "True\n",
      "False\n",
      "False\n"
     ]
    }
   ],
   "source": [
    "from collections import defaultdict\n",
    "\n",
    "def implicit_value(): # tzv. tovární funkce produkující implicitní hodnoty\n",
    "    return False\n",
    "\n",
    "zapocty = defaultdict(implicit_value) # vytvoření slovníku (s registrací tovární funkce)\n",
    "zapocty[\"Novák\"] = True    # přidání dvojice (jméno, výsledek)\n",
    "zapocty[\"Nejezchleba\"] = False # přidání další dvojice\n",
    "\n",
    "print( zapocty[\"Novák\"]) # vypíše uloženou hodnotu pro klíč \"Novák\", což je True\n",
    "print( zapocty[\"Nejezchleba\"])  # pro jistotu vyzkoušíme i druhou uloženou hodnotu\n",
    "\n",
    "print( zapocty[\"Snedlditetikasi\"])  # vypíše hodnotu vracenou tovární metodou (= False)"
   ]
  },
  {
   "cell_type": "markdown",
   "metadata": {},
   "source": [
    "**Úkol**: Vyzkoušejte, nahradit slovník `defaultdict` běžným slovníkem `dict`. (konstruktor běžného slovníku je vestavěný a nemusí mít žádné parametry)."
   ]
  },
  {
   "cell_type": "code",
   "execution_count": 174,
   "metadata": {
    "pycharm": {
     "name": "#%%\n"
    },
    "tags": [
     "h"
    ]
   },
   "outputs": [
    {
     "name": "stdout",
     "output_type": "stream",
     "text": [
      "True\n",
      "False\n",
      "'Snedlditetikasi'\n"
     ]
    }
   ],
   "source": [
    "from collections import defaultdict\n",
    "\n",
    "def implicit_value(): # tzv. tovární funkce produkující implicitní hodnoty\n",
    "    return False\n",
    "\n",
    "zapocty = dict() # běžný slovník\n",
    "zapocty[\"Novák\"] = True    # přidání dvojice (jméno, výsledek)\n",
    "zapocty[\"Nejezchleba\"] = False # přidání další dvojice\n",
    "\n",
    "print( zapocty[\"Novák\"]) # chování je shhodné jako u slovníku s implicitní hodnotou\n",
    "print( zapocty[\"Nejezchleba\"])  # dtto\n",
    "\n",
    "try:\n",
    "    print( zapocty[\"Snedlditetikasi\"])  # přístup k neexistující hodnotě však vede k výjimce\n",
    "except Exception as e:\n",
    "    print(e)"
   ]
  },
  {
   "cell_type": "markdown",
   "metadata": {},
   "source": [
    "Nyní se vraťme k implementaci metody `distance` třídy `city`. Implemantace výše popsaného algoritmu je relativně přímočará. "
   ]
  },
  {
   "cell_type": "code",
   "execution_count": 4,
   "metadata": {},
   "outputs": [
    {
     "name": "stdout",
     "output_type": "stream",
     "text": [
      "Overwriting cities.py\n"
     ]
    }
   ],
   "source": [
    "%%writefile cities.py\n",
    "import math\n",
    "from collections import defaultdict\n",
    "\n",
    "\n",
    "def infinity_factory(): # tovární funkce pro vracení nekonečen\n",
    "    return math.inf\n",
    "\n",
    "\n",
    "class City:\n",
    "    def __init__(self, name): # konstruktor\n",
    "        self.name = name      # do objektu uložíme jméno města\n",
    "        self.connections = [] # seznam spojení z města je zatím prázdný\n",
    "\n",
    "    def add_connection(self, target, distance, bidi=True):\n",
    "        self.connections.append((target, distance))  \n",
    "        # přidáme dvojici (město, vzdálenost) do seznamu\n",
    "        if bidi:  # je-li spojení obousměrné\n",
    "            target.add_connection(self, distance, bidi=False) # vložíme i opačný směr\n",
    "\n",
    "    def distance(self, target):\n",
    "        # pořadník s plánem přesunu do startovního města (=self)\n",
    "        waiting_list = [(self, 0)]\n",
    "        # prázdná tabulka (nekonečné vzdálenosti)\n",
    "        mindist = defaultdict(infinity_factory)\n",
    "        while waiting_list: # dokud není pořadník prázdný\n",
    "            # vyjme a vrátí první dvojici (další testovaný cíl, dosžitelná vzdálenost)\n",
    "            goal, sum_distance = waiting_list.pop()\n",
    "            # je-li dosažitelná vzdálenost menší než aktuální minimální\n",
    "            if sum_distance < mindist[goal]:\n",
    "                # nová minimální vzdálenost je rovna dosažitelné\n",
    "                mindist[goal] = sum_distance\n",
    "                # projdeme spojení do okolních měst (z města `goal`)\n",
    "                for next_goal, next_distance in goal.connections:\n",
    "                    # spočítáme dosažitelnou vzdálenost do okolních měst\n",
    "                    next_sum_distance = sum_distance + next_distance\n",
    "                    # je-li menší než aktuálná minimální\n",
    "                    if next_sum_distance < mindist[next_goal]:\n",
    "                        # pak přidáme spojení do pořadníku\n",
    "                        waiting_list.append((next_goal, next_sum_distance))\n",
    "        # a nakonec vrátíme minimální vzdálenost cílového města\n",
    "        return mindist[target]"
   ]
  },
  {
   "cell_type": "markdown",
   "metadata": {},
   "source": [
    "Po zapsání celého kódu do třídy `City` do souboru `cities.py`, můžeme do souboru připsat i malý testovací kód. "
   ]
  },
  {
   "cell_type": "code",
   "execution_count": 6,
   "metadata": {},
   "outputs": [
    {
     "name": "stdout",
     "output_type": "stream",
     "text": [
      "45\n"
     ]
    }
   ],
   "source": [
    "from cities import City\n",
    "\n",
    "if __name__ == \"__main__\":\n",
    "    usti = City(\"Ústí nad Labem\")\n",
    "    teplice = City(\"Teplice\")\n",
    "    decin = City(\"Děčín\")\n",
    "    most = City(\"Most\")\n",
    "    lovosice = City(\"Lovosice\")\n",
    "\n",
    "    usti.add_connection(teplice, 21)\n",
    "    usti.add_connection(decin, 24)\n",
    "    decin.add_connection(teplice, 35)\n",
    "    teplice.add_connection(most, 27)\n",
    "    lovosice.add_connection(usti, 21)\n",
    "    lovosice.add_connection(teplice, 25)\n",
    "    lovosice.add_connection(most, 36)\n",
    "\n",
    "    print(decin.distance(lovosice))"
   ]
  },
  {
   "cell_type": "markdown",
   "metadata": {},
   "source": [
    "Podmínka na začátku testovacího kódu je typickým pythonským ideomem.  Pokud je soubor přímo vykonáván (tj. je hlavním programem), pak standardní proměnná `__name__` obsahuje řetězec `__main__` (v Pythonu si opravdu užijete podtržítek). Proto se vykoná i náš testovací kód s vytvořením čtyř měst a definicí jejich přímých spojení. Nakonec program vypíše vypočtenou vzdálenost mezi Lovosicemi a Děčínem (je to 45km).\n",
    "\n",
    "Pokud však soubor použijeme jako modul (tj. budeme ho importovat z jiného kódu), pak proměnná `__name__` obsahuje jméno modulu (tj. zde `city`) a testovací kód se neprovede (což je správně neboť import má jen zavést nové třídy, funkce apod. nikoliv provádět nějaký podivný kód s nic neříkajícím textovým výstupem)."
   ]
  },
  {
   "cell_type": "markdown",
   "metadata": {},
   "source": [
    "#### Importování vlastní knihovny\n",
    "\n",
    "Jak již bylo řečeno náš skript lze importovat do jiných skriptů resp. Jupyter notebooku, pomocí příkazu `import`"
   ]
  },
  {
   "cell_type": "code",
   "execution_count": 7,
   "metadata": {
    "pycharm": {
     "name": "#%%\n"
    }
   },
   "outputs": [],
   "source": [
    "import cities"
   ]
  },
  {
   "cell_type": "markdown",
   "metadata": {},
   "source": [
    "Ne vždy se to však podaří.\n",
    "Důvodem je skutečnost, že Python hledá moduly jen v některých adresářích. V zásadě se jedná o tři skupiny adresářů:\n",
    "\n",
    "1. adresáře obsahující standardní knihovny daného překladače Pythonu včetně nainstalovaných knihoven třetích stran \n",
    "2. (nepovinně) speciální podadresář obsažený v rámci vašeho domovského adresáře\n",
    "3. aktuální pracovní adresář interpreteru (proto to funguje v našem Jupyter notebooku)\n",
    "\n",
    "Seznam prohledávaných adresářů lze získat v proměnné `sys.path` (nutno importovat standardní modul `sys`)."
   ]
  },
  {
   "cell_type": "code",
   "execution_count": 8,
   "metadata": {
    "pycharm": {
     "name": "#%%\n"
    }
   },
   "outputs": [
    {
     "data": {
      "text/plain": [
       "['/home/fiser/ownCloud2/jupyter/python-opora',\n",
       " '/home/fiser/apps/intelpython3/lib/python37.zip',\n",
       " '/home/fiser/apps/intelpython3/lib/python3.7',\n",
       " '/home/fiser/apps/intelpython3/lib/python3.7/lib-dynload',\n",
       " '',\n",
       " '/home/fiser/apps/intelpython3/lib/python3.7/site-packages',\n",
       " '/home/fiser/apps/intelpython3/lib/python3.7/site-packages/IPython/extensions',\n",
       " '/home/fiser/.ipython']"
      ]
     },
     "execution_count": 8,
     "metadata": {},
     "output_type": "execute_result"
    }
   ],
   "source": [
    "import sys\n",
    "sys.path"
   ]
  },
  {
   "cell_type": "markdown",
   "metadata": {},
   "source": [
    "Modul lze tak zpřístupnit:\n",
    "    \n",
    "1. umístěním skriptu do některého z vypsaných adresářů (výpis se může lišit pro různé překladače a platformy). V případě Linuxu resp. Mac OS lze místo přesunu/kopírování využít umístění symbolického odkazu do příslušného adresáře.\n",
    "2. přidáním adresáře v němž je skript obsažen do seznamu\n",
    "\n",
    "První přístup je vhodný, když chceme modul využívat dlouhodobě. Druhý se hodí jen pro krátkodobé testování (seznam cest k modulům se obnovuje po každém novém spuštění Pythonu)."
   ]
  },
  {
   "cell_type": "markdown",
   "metadata": {},
   "source": [
    "> **Úkol**: Vyzkoušejte import vyýše uvedeného modulu v *PyCharm* (zkuste více řešení, tj. umístění ve projektovém adresáři, umístení do standardní cesty, rozšíření `sys.path`)"
   ]
  },
  {
   "cell_type": "markdown",
   "metadata": {},
   "source": [
    "> **Úkol:** Vytvořte modul(skript) definující třídu representující přímku pomocí obecné rovnice ve tvaru `ax + by + c = 0`. Konstruktor přímky očekává parametry `a`, `b` a `c` obecné rovnice.\n",
    "\n",
    "> Metoda `normal` vrací normálový vektor přímky jako dvojici (*tuple*).\n",
    "\n",
    "> Implementujte také metodu `p1.parallel_to(p2)`, která zjistí vrátí `True`, pokud jsou přímky representované objekty s proměnnými `p1` a `p2` rovnoběžné. Podobná metoda `p1.perpendicular_to(p2)` testuje kolmost přímek.\n",
    "\n",
    "> Modul by měl mít jméno `geometry`, třída pak jméno `Line`. Vyzkoušejte modul implementovat a v notebooku ověřte jeho funkčnost. Pokud modul vytváříte v `Pycharm` použijte pro něj nový projekt (na jménu nezáleží, zvolte například také `geometry`)."
   ]
  },
  {
   "cell_type": "markdown",
   "metadata": {
    "tags": [
     "h"
    ]
   },
   "source": [
    "Následující snímek obrazovky ukazuje `Pycharm` zobrazující obsah skriptu `geometry.py` (tj. modulu `geometry`).\n",
    "\n",
    "![Pycharm s module geometry](geometry_script.png)"
   ]
  },
  {
   "cell_type": "markdown",
   "metadata": {
    "tags": [
     "h"
    ]
   },
   "source": [
    "Všimněte si definice funkce `parallel_to`, která řeší i případ, kdy je jedna ze souřadnic normálového vektoru nulová. Speciální zpracování této situace je nezbytné, neboť jinak by mohlo dojít k dělení nulou (to vede k výjimce).\n",
    "\n",
    "Modul také obsahuje testovací kód, který ověřuje vztahy mezi třemi přímkami (`x` je rovnoběžné z `y`, `x` je kolmé k `z`). V praxi je to však nedostatečné, neboť se nekontrolují přímky s obecnými polohami či s nulovými souřadnicemi normálových vektorů."
   ]
  },
  {
   "cell_type": "markdown",
   "metadata": {},
   "source": [
    "Modul `geometry` je ještě nutné otestovat:"
   ]
  },
  {
   "cell_type": "markdown",
   "metadata": {
    "pycharm": {
     "name": "#%%\n"
    }
   },
   "source": [
    "```python\n",
    "import sys\n",
    "sys.path.append(\"/home/fiser/PycharmProjects/geometry\")\n",
    "```"
   ]
  },
  {
   "cell_type": "markdown",
   "metadata": {
    "pycharm": {
     "name": "#%%\n"
    }
   },
   "source": [
    "```python\n",
    "from geometry import Line\n",
    "\n",
    "x = Line(2,5,6)\n",
    "y = Line(3,2,0)\n",
    "\n",
    "print(x.parallel_to(y))\n",
    "print(y.perpendicular_to(x))\n",
    "```"
   ]
  },
  {
   "cell_type": "markdown",
   "metadata": {
    "pycharm": {
     "name": "#%%\n"
    }
   },
   "source": [
    "```python\n",
    "x = Line(2, 0, 8)\n",
    "y = Line(5, 0, -1)\n",
    "\n",
    "print(x.parallel_to(y))\n",
    "print(y.perpendicular_to(x))\n",
    "```"
   ]
  },
  {
   "cell_type": "markdown",
   "metadata": {},
   "source": [
    "Práce s vektory pomocí n-tic nebo seznamů (v úkolu byly pro normálové vektory využity dvojice), je dost komplikovaná a nepřehledná, neboť Python nepodporuje ani základní vektorové operace (sčítání, skalární součet, apod.). V tomto případě je vhodné využít knihovnu `NumPy`, která se na manipulaci s vektory a vicedimenzionálními poli zaměřuje."
   ]
  }
 ],
 "metadata": {
  "celltoolbar": "Tags",
  "kernelspec": {
   "display_name": "Python 3",
   "language": "python",
   "name": "python3"
  },
  "language_info": {
   "codemirror_mode": {
    "name": "ipython",
    "version": 3
   },
   "file_extension": ".py",
   "mimetype": "text/x-python",
   "name": "python",
   "nbconvert_exporter": "python",
   "pygments_lexer": "ipython3",
   "version": "3.7.7"
  },
  "pycharm": {
   "stem_cell": {
    "cell_type": "raw",
    "metadata": {
     "collapsed": false
    },
    "source": []
   }
  }
 },
 "nbformat": 4,
 "nbformat_minor": 4
}
