{
 "cells": [
  {
   "cell_type": "markdown",
   "metadata": {},
   "source": [
    "# Podmínky a větvení programu"
   ]
  },
  {
   "cell_type": "markdown",
   "metadata": {},
   "source": [
    "## Pravdivostní hodnoty\n",
    "\n",
    "Kromě číselných objektů podporuje Python i další třídy jednoduchých (tj. nesložených) objektů. Klíčovou roli hrají především tzv. logické resp. pravdivostní hodnoty (*logical, truth*). \n",
    "\n",
    "Logické hodnoty representují výsledek vyhodnocení tzv. výroku, tj. tvrzení, které je buď pravdivé nebo nepravdivé (v jednoduché logice může nastat právě jedna z těchto situací a žádná jiná). Z tohoto důvodu existují jen dvě pravdivostní hodnoty -- `True`, representující pravdivost a `False`  representující nepravdu (lež). Tyto hodnoty patří v Pythonu do jediné třídy označované `bool` (zkratka z označení boolovská (*boolean*) algebra, což je algebraický model dvouhodnotové logiky pojmenovaný podle anglického matematika George Boola).\n",
    "\n",
    "Pravdivostní hodnoty jsou nejčastěji výsledkem vyhodnocení tzv. relačních operátorů, které umožňují zapisovat výroky o rovnosti, či identitě objektů resp. o jejich upořádání.\n",
    "\n",
    "#### Relace rovnosti\n",
    "\n",
    "Základním relačním operátorem je operátor rovnosti zapisovaný pomocí dvou rovnítek (jedno rovnítko má v Pythonu jiný význam, používá se pro přiřazení).  "
   ]
  },
  {
   "cell_type": "code",
   "execution_count": 1,
   "metadata": {},
   "outputs": [
    {
     "data": {
      "text/plain": [
       "False"
      ]
     },
     "execution_count": 1,
     "metadata": {},
     "output_type": "execute_result"
    }
   ],
   "source": [
    "2 == 3"
   ]
  },
  {
   "cell_type": "markdown",
   "metadata": {},
   "source": [
    "Tento výrok je triviální, neboť jakékoliv celé číslo se rovná pouze samo sobě. Výroky porovnávající celá čísla mohou být i složitější, vlastní porovnání je však triviální (a zcela v souhlase s matematikou)."
   ]
  },
  {
   "cell_type": "code",
   "execution_count": 2,
   "metadata": {},
   "outputs": [
    {
     "data": {
      "text/plain": [
       "True"
      ]
     },
     "execution_count": 2,
     "metadata": {},
     "output_type": "execute_result"
    }
   ],
   "source": [
    "a = 3\n",
    "b = 10\n",
    "b % a == b - 3 * a  # výsledek ověřte"
   ]
  },
  {
   "cell_type": "markdown",
   "metadata": {},
   "source": [
    "> Úkol: Pro několik čísel `n` ověřte, že platí $a^2 - b^2 = (a-b)\\cdot(a+b)$"
   ]
  },
  {
   "cell_type": "code",
   "execution_count": 83,
   "metadata": {
    "tags": [
     "h"
    ]
   },
   "outputs": [
    {
     "data": {
      "text/plain": [
       "True"
      ]
     },
     "execution_count": 83,
     "metadata": {},
     "output_type": "execute_result"
    }
   ],
   "source": [
    "a = 2\n",
    "b = 3\n",
    "a**2 - b**2 == (a-b)*(a+b)"
   ]
  },
  {
   "cell_type": "markdown",
   "metadata": {},
   "source": [
    "U necelých čísel rovnost závisí na interní representaci třídy `float`. Dvě `float` čísla jsou shodná, pokud mají stejnou representaci. To je ve většině případů ve shodě s matematickou definicí."
   ]
  },
  {
   "cell_type": "code",
   "execution_count": 12,
   "metadata": {},
   "outputs": [
    {
     "name": "stdout",
     "output_type": "stream",
     "text": [
      "False\n",
      "True\n"
     ]
    }
   ],
   "source": [
    "from math import *\n",
    "\n",
    "print( pi == 22/7 )  # pi se skutečně nerovná tomuto zlomku\n",
    "print( 1/3 == 2/6 ) # to by se rovnat mělo"
   ]
  },
  {
   "cell_type": "markdown",
   "metadata": {},
   "source": [
    "Dozajista však už pro vás není překvapením, že výsledek může být občas z hlediska matematiky mírně řečeno překvapující:"
   ]
  },
  {
   "cell_type": "code",
   "execution_count": 8,
   "metadata": {},
   "outputs": [
    {
     "data": {
      "text/plain": [
       "False"
      ]
     },
     "execution_count": 8,
     "metadata": {},
     "output_type": "execute_result"
    }
   ],
   "source": [
    "3 * 0.1 == 0.3  # to v matematice platí (ve světě čísel `float` nikoliv)"
   ]
  },
  {
   "cell_type": "code",
   "execution_count": 9,
   "metadata": {},
   "outputs": [
    {
     "data": {
      "text/plain": [
       "True"
      ]
     },
     "execution_count": 9,
     "metadata": {},
     "output_type": "execute_result"
    }
   ],
   "source": [
    "x = 1e16\n",
    "x + 1 == x   # to je naopak v matematice nepravda ( 0 ≠ 1)"
   ]
  },
  {
   "cell_type": "markdown",
   "metadata": {},
   "source": [
    "Z tohoto důvodu se pro testování čísel třídy `float` často používá nasledující obrat:"
   ]
  },
  {
   "cell_type": "code",
   "execution_count": 19,
   "metadata": {
    "collapsed": true
   },
   "outputs": [],
   "source": [
    "x = sin(pi/4)  \n",
    "y = sqrt(2)/2\n",
    "epsilon = 1e-15"
   ]
  },
  {
   "cell_type": "code",
   "execution_count": 21,
   "metadata": {},
   "outputs": [
    {
     "data": {
      "text/plain": [
       "True"
      ]
     },
     "execution_count": 21,
     "metadata": {},
     "output_type": "execute_result"
    }
   ],
   "source": [
    "(abs(x-y) < epsilon)  # x a y je přibližně rovno (s chybou menší než zvolené epsilonT)"
   ]
  },
  {
   "cell_type": "markdown",
   "metadata": {},
   "source": [
    "Přibližná nerovnost řeší většinu problémů s porovnáním čísla třídy `float`. V běžném světě stačí vědět, že \n",
    "$\\sin\\frac{\\pi}{4}$  se od $\\frac{\\sqrt{2}}{2}$ liší méně než o zanedbatelných $10^{-15}$ (to že jsou zcela shodné by měl sice vědět každý středoškolák, ale i ti co si to pamatují to ve valné většině nedovedou dokázat).  Úplně dokonalé řešení to však není, neboť:\n",
    "\n",
    "1. u komplexnějších výpočtů může být chyba výrazně větší než námi zvolené `epsilon`. Lze ho sice zvolit i větší, ale pak naopak můžeme označit za rovná i čísla, která by měla být rozdílná. Např. zvolíme-li `epsilon = 1e-10`, pak dokážeme, že gravitační konstanta je nulová a gravitační síla neexistuje!\n",
    "2. přibližná nerovnost neřeší problémy s absolutní ztrátou klíčové informace, jako je tomu v případě pravdivosti výrazu `x + 1 == x`. I když se pokusíte k číslo `1e16` přičíst jedničku opakovaně (potenciálně i nekonečněkrát) stále jeho hodnotu nezvýšíte!\n",
    "3. zápis není zdaleka tak elegantní a čitelný jako přímé porovnání (takže i zkušení programátoři navzdory nebezpečí dávají přednost běžnému porovnání)."
   ]
  },
  {
   "cell_type": "markdown",
   "metadata": {},
   "source": [
    "Python nově obsahuje i funkci, která porovnání čísel typu `float` usnadňuje (je součástí modulu `math`). "
   ]
  },
  {
   "cell_type": "code",
   "execution_count": 85,
   "metadata": {},
   "outputs": [
    {
     "data": {
      "text/plain": [
       "True"
      ]
     },
     "execution_count": 85,
     "metadata": {},
     "output_type": "execute_result"
    }
   ],
   "source": [
    "isclose(sin(pi/4), sqrt(2)/2)"
   ]
  },
  {
   "cell_type": "markdown",
   "metadata": {},
   "source": [
    "Tato funkce je o něco inteligentnější než náš návrh.\n",
    "\n",
    "> **Úkol:** podívejte se na dokumentaci funkce na https://docs.python.org/3/library/math.html\n",
    "Proč je knihovní funkce lepší, než náš návrh."
   ]
  },
  {
   "cell_type": "markdown",
   "metadata": {
    "tags": [
     "h"
    ]
   },
   "source": [
    "Vestavěná funkce `isclose` počítá primárně relativní blízkost čísel (o kolik procent nebo platných číslic se liší). Lze je tak využívat i pro porovnání čísel různých řádů."
   ]
  },
  {
   "cell_type": "markdown",
   "metadata": {},
   "source": [
    "#### Ostatní relační operátory\n",
    "\n",
    "Rovnost je základním relačním operátorem. Existují však samozřejmě i další (z nichž ten s operátorem `<` jsme již použili). Shrňme si je v tabulce:\n",
    "\n",
    "| operátor | matem. zápis | význam                  |\n",
    "|----------|--------------|-------------------------|\n",
    "|   ==     |     =        | rovnost (equality)      |\n",
    "|   !=     |    $\\neq$    | nerovnost               |\n",
    "|   >      |     <        | větší než               |\n",
    "|   >=     |    $\\geq$    | větší nebo rovno        |\n",
    "|   <      |     >        | menší než               |\n",
    "|   <=     |    $\\leq$    | menší nebo rovno        |"
   ]
  },
  {
   "cell_type": "markdown",
   "metadata": {},
   "source": [
    "Jejich použití je obdobné rovnosti. Pro celá čísla využivá přirozené uspořádání čísel. U čísel typu `float` je pouze rozumným přiblížením matematickým relacím a výsledky tak mohou být překvapivé resp. je nelze vůbec rozumně využít (u skutečně malých a skutečněvelkých čísel)."
   ]
  },
  {
   "cell_type": "code",
   "execution_count": 22,
   "metadata": {},
   "outputs": [
    {
     "data": {
      "text/plain": [
       "True"
      ]
     },
     "execution_count": 22,
     "metadata": {},
     "output_type": "execute_result"
    }
   ],
   "source": [
    "pi < 4"
   ]
  },
  {
   "cell_type": "markdown",
   "metadata": {},
   "source": [
    "V Pythonu lze navíc nerovnosti řetězit, tj. lze psát podmínky typu $x < y \\leq z$."
   ]
  },
  {
   "cell_type": "code",
   "execution_count": 25,
   "metadata": {},
   "outputs": [
    {
     "data": {
      "text/plain": [
       "True"
      ]
     },
     "execution_count": 25,
     "metadata": {},
     "output_type": "execute_result"
    }
   ],
   "source": [
    "2 < 3 < 4 <= 4 < 6"
   ]
  },
  {
   "cell_type": "markdown",
   "metadata": {},
   "source": [
    "A o trochu praktičtější příklad:"
   ]
  },
  {
   "cell_type": "code",
   "execution_count": 1,
   "metadata": {},
   "outputs": [
    {
     "data": {
      "text/plain": [
       "False"
      ]
     },
     "execution_count": 1,
     "metadata": {},
     "output_type": "execute_result"
    }
   ],
   "source": [
    "a = 0.0\n",
    "b = 10.0\n",
    "x = 10.0\n",
    "\n",
    "# x leží v otevřeném intervalu (a,b) \n",
    "a < x <  b"
   ]
  },
  {
   "cell_type": "code",
   "execution_count": 2,
   "metadata": {},
   "outputs": [
    {
     "data": {
      "text/plain": [
       "True"
      ]
     },
     "execution_count": 2,
     "metadata": {},
     "output_type": "execute_result"
    }
   ],
   "source": [
    "# x leží v uzavřeném intervalu [a,b]\n",
    "a <= x <= b"
   ]
  },
  {
   "cell_type": "markdown",
   "metadata": {},
   "source": [
    "*Upozornění*: Z důvodů nepřesné representace je rozdíl mezi otevřenými a uzavřenými intervaly spíše kosmetický.\n",
    "Oba zápisy (s operátorem `<` resp. `<=`) lze číst jako, dolní (resp. horní) mez je někde v (těsné) blízkosti  `a` resp. `b`."
   ]
  },
  {
   "cell_type": "markdown",
   "metadata": {},
   "source": [
    "#### Logické spojky\n",
    "\n",
    "Testování přítomnosti bodu v intervalu lze alternativně zapsat i pomocí logoické spojky `and` (česky *a zároveň*).  Zápis je o něco delší a pro začátečníky i méně čitelný, je však použitelný téměř ve všech programovacích jazycích. "
   ]
  },
  {
   "cell_type": "code",
   "execution_count": 11,
   "metadata": {},
   "outputs": [
    {
     "data": {
      "text/plain": [
       "True"
      ]
     },
     "execution_count": 11,
     "metadata": {},
     "output_type": "execute_result"
    }
   ],
   "source": [
    "# x leží v uzavřeném intervalu [a,b]\n",
    "a <= x and  x <= b\n",
    "# čteme a je menší než x a zároveň x je menší nebo rovno b (obě dílčí podmínky musí být splněny)"
   ]
  },
  {
   "cell_type": "markdown",
   "metadata": {},
   "source": [
    "Při složitějších podmínkách je použití logických spojek nezbytností. Pokud chceme testovat zda číslo leží vně intervalu [a,b] (tj. výraz je pravdivý, pokud leží mimo), pak se logické spojce nevyhneme. Máme přitom hned několik možností."
   ]
  },
  {
   "cell_type": "code",
   "execution_count": 5,
   "metadata": {},
   "outputs": [
    {
     "data": {
      "text/plain": [
       "False"
      ]
     },
     "execution_count": 5,
     "metadata": {},
     "output_type": "execute_result"
    }
   ],
   "source": [
    "# negace zřetězených relací\n",
    "not (a <= x <= b)\n",
    "# čteme: neplatí tvrzení, že a je menší nebo rovno než x, které je menší nebo rovno než b"
   ]
  },
  {
   "cell_type": "code",
   "execution_count": 7,
   "metadata": {},
   "outputs": [
    {
     "data": {
      "text/plain": [
       "False"
      ]
     },
     "execution_count": 7,
     "metadata": {},
     "output_type": "execute_result"
    }
   ],
   "source": [
    "# negace výrazu s logickou spojkou AND\n",
    "not (a <= x and x <= b)"
   ]
  },
  {
   "cell_type": "markdown",
   "metadata": {},
   "source": [
    "Nejjednodušší je však zápis využívající spojky OR (česky *nebo*):"
   ]
  },
  {
   "cell_type": "code",
   "execution_count": 9,
   "metadata": {},
   "outputs": [
    {
     "data": {
      "text/plain": [
       "False"
      ]
     },
     "execution_count": 9,
     "metadata": {},
     "output_type": "execute_result"
    }
   ],
   "source": [
    "x < a or x > b"
   ]
  },
  {
   "cell_type": "markdown",
   "metadata": {},
   "source": [
    "Tuto podmínku lze vymyslet přímo. Číslo leží vně intervalu [a,b] pokud je menší než dolní mez nebo pokud je větší než horní mez (stačí splnění jedné dílčí podmínky). Podívejte se na obrázek.\n",
    "\n",
    "![interval](interval-out.svg \"oblast vně intervalu\")"
   ]
  },
  {
   "cell_type": "markdown",
   "metadata": {},
   "source": [
    "Lze ji však odvodit z podmínky $\\neg (a\\leq x \\vee x \\leq b)$ aplikací několika jednoduchých pravidel\n",
    "\n",
    "1. De Morganův zákon: $\\neg(a \\vee b)$ je  ekvivalentní $\\neg a \\wedge \\neg b$\n",
    "   \n",
    "   Porovnejme tvrzení: *není pravda, že krade a zároveň lže* s ekvivalentním tvrzení *nekrade nebo nelže*   (tj. jedno alespoň jednu věc nečiní).\n",
    "   \n",
    "   V našem případě dostaneme podmínku ```not(a <= x) or not(x <= b)```.\n",
    "   \n",
    "2. Využijeme skutečnosti, že negací relace `<=` je `>` (a opačně). Pozor skutečně neplatí, že negací ostré nerovnosti (např. menší než) je opačná ostrá nerovnost (např. větší než)! Negací ostré nerovnosti ($<$) je neostrá ($ \\geq$) a vice versa.\n",
    "\n",
    "   V našem případě dostaneme podmínku `a > x or x > b`.  První porovnání lze samozřejmě otočit, čímž dostaneme požadovaný tvar `x < a or x > b`."
   ]
  },
  {
   "cell_type": "markdown",
   "metadata": {},
   "source": [
    "*Řešený příklad*: Napište podmínku, která ověří, že celé číslo (`int`) označené identifikátorem `i` je kladné sudé číslo.\n",
    "\n",
    "Testování kladnosti je snadné. Číslo je kladné pokud je (ostře) větší než 0. Na druhou stranu Python nemá vestavěnou funkci na testování sudosti, můžeme však vyjít z jednoduché definice, že číslo je sudé pokud je dělitelné dvěma beze zbytku (tj. zbytek pod celočíselném dělení dvěma je nula).\n",
    "\n",
    "Obě podmínky spojíme logickou spojkou AND (číslo musí zároveň kladné i sudé)."
   ]
  },
  {
   "cell_type": "code",
   "execution_count": 16,
   "metadata": {},
   "outputs": [
    {
     "data": {
      "text/plain": [
       "True"
      ]
     },
     "execution_count": 16,
     "metadata": {},
     "output_type": "execute_result"
    }
   ],
   "source": [
    "i = 42   # náhodně zvolené číslo (zkuste jej změnit)\n",
    "i > 0 and i % 2 == 0"
   ]
  },
  {
   "cell_type": "markdown",
   "metadata": {},
   "source": [
    "Všimněte si priority operací. Nejvyšší prioritu mají aritmetické operace (zde je to zbytek po dělení), pak se provedou relační operátory a nakonec se provede operátor s nejnižší prioritou – logická spojka AND.\n",
    "\n",
    "[konec příkladu]"
   ]
  },
  {
   "cell_type": "markdown",
   "metadata": {},
   "source": [
    "> **Úkol:** Napište výraz, který ověří, že číslo označené proměnou `x` je nezáporné ($\\ge 0$) jen za použití operátoru rovnosti (rada: použijte elementární funkci)."
   ]
  },
  {
   "cell_type": "code",
   "execution_count": 88,
   "metadata": {
    "tags": [
     "h"
    ]
   },
   "outputs": [
    {
     "data": {
      "text/plain": [
       "True"
      ]
     },
     "execution_count": 88,
     "metadata": {},
     "output_type": "execute_result"
    }
   ],
   "source": [
    "x = 2.0\n",
    "abs(x) == x"
   ]
  },
  {
   "cell_type": "markdown",
   "metadata": {},
   "source": [
    "## Speciální hodnoty (ne-hodnoty)"
   ]
  },
  {
   "cell_type": "markdown",
   "metadata": {},
   "source": [
    "Kromě běžných hodnot (objektů), které representují reálné objekty dané třídy existují v Pythonu hodnoty, které representují neexistenci hodnoty resp. její nedostupnost."
   ]
  },
  {
   "cell_type": "markdown",
   "metadata": {},
   "source": [
    "#### Hodnota `None`\n",
    "\n",
    "Základní nehodnotou je `None`.  (Ne)hodnota `None` může být interpretována jako neexistující hodnota libovolné třídy (resp. dokonce jako hodnota bez určení třídy či mimo jakoukoliv rozumnou třídu)."
   ]
  },
  {
   "cell_type": "code",
   "execution_count": 18,
   "metadata": {
    "collapsed": true
   },
   "outputs": [],
   "source": [
    "i = None"
   ]
  },
  {
   "cell_type": "markdown",
   "metadata": {},
   "source": [
    "Proměnná `i` nyní sice existuje, označuje však hodnotu, která representuje \"nic\". Méně kostrbatě: existuje, ale nic neoznačuje.\n",
    "\n",
    "`None` nejčastěji vyjadřuje dva významy:\n",
    "\n",
    "1.  Hodnota není dostupná (not available), například rok založení Prahy\n",
    "2.  Hodnota není aplikovatelná (například spotřeba paliva u elektromobilu)\n",
    "\n",
    "S hodnotou `None` lze provádět jen jedinou operaci, porovnávat ji samu se sebou nebo s ostatními hodnotami (libovolné třídy). `None` je nicméně rovna jen sama sobě. Proto je efektivnější testovat `None` na identitu a nikoliv na rovnost (existuje jen jeden objekt `None`).\n",
    "\n",
    "Identita je nejstriktnějším typem rovnosti, neboť dva objekty jsou identické, pokud zaujímají stejné místo v paměti (resp. abstraktněji v časoprostoru).\n",
    "\n",
    "Rozdíl mezi identitou a rovností lze vysvětlit i na příkladu z běžného světa. Každá bankovka 100 Kč je rovna jakékoliv bankovce 100 Kč (z hlediska hlavního použití, jímž je placení). Můžeme navrhnout i striktnější definici rovnosti (shody) bankovek. Bankovky jsou rovné, pokud nesou stejný identifikátor (tj. číslo bankovky). Nocměné nelze zcela vyloučit situaci, kdy uvidíte najednou dvě bankovky se stejným číslem, které leží vedle sebe (tj. zaujímají různé místo v prostoru). Je zřejmé, že i když jsou podle všech kritérii shodné, nejsou identické."
   ]
  },
  {
   "cell_type": "code",
   "execution_count": 19,
   "metadata": {},
   "outputs": [
    {
     "data": {
      "text/plain": [
       "True"
      ]
     },
     "execution_count": 19,
     "metadata": {},
     "output_type": "execute_result"
    }
   ],
   "source": [
    "i == None # testování rovnosti (funguje, ale je pomalé)"
   ]
  },
  {
   "cell_type": "code",
   "execution_count": 20,
   "metadata": {},
   "outputs": [
    {
     "data": {
      "text/plain": [
       "True"
      ]
     },
     "execution_count": 20,
     "metadata": {},
     "output_type": "execute_result"
    }
   ],
   "source": [
    "i is None # doporučené testování, zda je hodnota None"
   ]
  },
  {
   "cell_type": "markdown",
   "metadata": {},
   "source": [
    "Operátor `is` testuje zde je levý operand identický s pravým. V Pythonu se příliš nepoužívá, neboť ve většině případů je důležitější běžná rovnost. Výjimkou jsou jen některé speciální objekty (včetně `None`).\n",
    "\n",
    "Pokud například použijeme test identity na celá čísla, můžeme získat dosti překvapivé a na zdánlivě rozporné výsledky."
   ]
  },
  {
   "cell_type": "code",
   "execution_count": 24,
   "metadata": {},
   "outputs": [
    {
     "data": {
      "text/plain": [
       "True"
      ]
     },
     "execution_count": 24,
     "metadata": {},
     "output_type": "execute_result"
    }
   ],
   "source": [
    "2 is (1 + 1)"
   ]
  },
  {
   "cell_type": "code",
   "execution_count": 25,
   "metadata": {},
   "outputs": [
    {
     "data": {
      "text/plain": [
       "False"
      ]
     },
     "execution_count": 25,
     "metadata": {},
     "output_type": "execute_result"
    }
   ],
   "source": [
    "(2 ** 100) is (2 ** 100)"
   ]
  },
  {
   "cell_type": "markdown",
   "metadata": {},
   "source": [
    "V případě malých čísel platí, že jsou-li výsledky operací rovné pak jsou i identické. Důvodem je skutečnost, že Python šetří paměť tím, že v případě malých čísel uchovává jen jednu kopii celého čísla (často existuje již od okamžiku spuštění programu a nikdy není uvolněno). U velkých čísel je však dlouhodobé uchovávání čísel neefektivní a tak se tyto objekty chovají podle základního modelu. Při výpočtu vznikají vždy nové a poté co je nikdo neodkazuje dochází k destrukci."
   ]
  },
  {
   "cell_type": "markdown",
   "metadata": {},
   "source": [
    "> **Úkol**: Oveřte co jsou ve Vašem Pythonu malá a velká čísla (vzhledem k identitě nově vzniklých objektů)."
   ]
  },
  {
   "cell_type": "code",
   "execution_count": 93,
   "metadata": {
    "tags": [
     "h"
    ]
   },
   "outputs": [
    {
     "data": {
      "text/plain": [
       "True"
      ]
     },
     "execution_count": 93,
     "metadata": {},
     "output_type": "execute_result"
    }
   ],
   "source": [
    "(255 + 1) is (255 + 1)  # poslední \"malé\" číslo (ve vašem překladači to může být i jiné)"
   ]
  },
  {
   "cell_type": "markdown",
   "metadata": {},
   "source": [
    "O tom jaký přístup ke sdílení čísel bude zvolen rozhoduje překladač a může záviset i na vnějších parametrech (např. velikost operační paměti). Nelze jej proto predikovat a využívat v programu (např. pro urychlení). Důsledek je proto zřejmý: **nikdy nepoužívejte operátor `is` pro testování rovnosti čísel**."
   ]
  },
  {
   "cell_type": "markdown",
   "metadata": {},
   "source": [
    "Porovnání (resp. testování identity) je jedinou operací, kterou lze s hodnotou `None` rozumně provádět. Lze ji sice vypsat funkcí `print`, avšak výstupy se mohou lišit podle použitého Pythonu."
   ]
  },
  {
   "cell_type": "code",
   "execution_count": 33,
   "metadata": {},
   "outputs": [
    {
     "name": "stdout",
     "output_type": "stream",
     "text": [
      "None\n"
     ]
    }
   ],
   "source": [
    "print(None)"
   ]
  },
  {
   "cell_type": "markdown",
   "metadata": {},
   "source": [
    "Ostatní operace vyvolají výjimku (tj. výpočet či program se ani nedokončí)."
   ]
  },
  {
   "cell_type": "code",
   "execution_count": 35,
   "metadata": {},
   "outputs": [
    {
     "ename": "TypeError",
     "evalue": "unsupported operand type(s) for +: 'NoneType' and 'NoneType'",
     "output_type": "error",
     "traceback": [
      "\u001b[0;31m---------------------------------------------------------------------------\u001b[0m",
      "\u001b[0;31mTypeError\u001b[0m                                 Traceback (most recent call last)",
      "\u001b[0;32m<ipython-input-35-f75014bbbb7c>\u001b[0m in \u001b[0;36m<module>\u001b[0;34m()\u001b[0m\n\u001b[1;32m      1\u001b[0m \u001b[0mx\u001b[0m \u001b[0;34m=\u001b[0m \u001b[0;32mNone\u001b[0m\u001b[0;34m\u001b[0m\u001b[0m\n\u001b[0;32m----> 2\u001b[0;31m \u001b[0mx\u001b[0m \u001b[0;34m+\u001b[0m \u001b[0mx\u001b[0m\u001b[0;34m\u001b[0m\u001b[0m\n\u001b[0m",
      "\u001b[0;31mTypeError\u001b[0m: unsupported operand type(s) for +: 'NoneType' and 'NoneType'"
     ]
    }
   ],
   "source": [
    "x = None\n",
    "x + x"
   ]
  },
  {
   "cell_type": "markdown",
   "metadata": {},
   "source": [
    "#### Hodnota NaN\n",
    "\n",
    "V případě čísel v pohyblivé řádové čárce existuje ještě jedna speciální hodnota primárně representující neplatný výsledek některých matematických operací. Tato hodnota je označovabná jako `NaN` tj. *Not A Number*."
   ]
  },
  {
   "cell_type": "code",
   "execution_count": 40,
   "metadata": {
    "collapsed": true
   },
   "outputs": [],
   "source": [
    "import math\n",
    "\n",
    "x = math.nan"
   ]
  },
  {
   "cell_type": "markdown",
   "metadata": {},
   "source": [
    "Hodnota `NaN` se chová jako numerická hodnota, která není číslem (to není kontradikce). Patří do třídy `float` a lze na ní aplikovat běžné aritmetické operace."
   ]
  },
  {
   "cell_type": "code",
   "execution_count": 43,
   "metadata": {},
   "outputs": [
    {
     "data": {
      "text/plain": [
       "nan"
      ]
     },
     "execution_count": 43,
     "metadata": {},
     "output_type": "execute_result"
    }
   ],
   "source": [
    "x + x * x"
   ]
  },
  {
   "cell_type": "markdown",
   "metadata": {},
   "source": [
    "Výsledkem těchto operací je však vždy opět `NaN` (tj. `NaN` se šíří jako epidemie).  Tp platí i pro funkce z modulu `math`."
   ]
  },
  {
   "cell_type": "code",
   "execution_count": 45,
   "metadata": {},
   "outputs": [
    {
     "data": {
      "text/plain": [
       "nan"
      ]
     },
     "execution_count": 45,
     "metadata": {},
     "output_type": "execute_result"
    }
   ],
   "source": [
    "math.sin(x)"
   ]
  },
  {
   "cell_type": "markdown",
   "metadata": {},
   "source": [
    "S `NaN` se proto v případě číslených hodnot pracuje povětšinou lépe než s hodnotou `None` (ta se nešíří, způsobuje rovnou výjimku a tím i potenciální nebezpečí ukončení porogramu). I ona však má své mouchy. Lze ji sice porovnat s libovolným číslem třídy `float` (resp. i `int` po přizpůsobení typu). Platí však, že se nerovná žádnému objektu a dokonce ani sama sobě! Je to jediná Pythonská hodnota s tímto podivným chováním."
   ]
  },
  {
   "cell_type": "code",
   "execution_count": 46,
   "metadata": {},
   "outputs": [
    {
     "data": {
      "text/plain": [
       "False"
      ]
     },
     "execution_count": 46,
     "metadata": {},
     "output_type": "execute_result"
    }
   ],
   "source": [
    "math.nan == math.nan"
   ]
  },
  {
   "cell_type": "markdown",
   "metadata": {},
   "source": [
    "Zde nepomůže ani testování identity. To sice může vrátit `True`, to je však jen implementační detail, který navíc narušuje základní elementární tvrzení: pokud nejsou objekty shodné (rovné) pak nemohou být ani identické. Jediným košer způsobem testování, zda není numerická hodnota rovna `NaN` je funkce `math.isnan`."
   ]
  },
  {
   "cell_type": "code",
   "execution_count": 49,
   "metadata": {},
   "outputs": [
    {
     "data": {
      "text/plain": [
       "True"
      ]
     },
     "execution_count": 49,
     "metadata": {},
     "output_type": "execute_result"
    }
   ],
   "source": [
    "math.isnan(x)"
   ]
  },
  {
   "cell_type": "markdown",
   "metadata": {},
   "source": [
    "## Větvení programu"
   ]
  },
  {
   "cell_type": "markdown",
   "metadata": {},
   "source": [
    "Výrazy vracející pravdivostní hodnoty (podmínky) jsou nejčastěji využívány pro tzv. větvení programu, tj. k vykonání určitého kódu jen za určité situace.\n",
    "\n",
    "Podmíněné vykonání určité činnosti je samozřejmě známé i z běžného života. Naobědvám se, jen tehdy pokud mám hlad (peníze, čas). Ožením/vdám se, pokud někoho miluji (chci ušetřit na daních, potřebuji získat občanství). \n",
    "\n",
    "Podmínky v případě počítačového kódu jsou běžně výrazně jednodušší, avšak stejně jako v reálném životě tvoří podmíněné konstrukce podstatnou část programu.\n",
    "\n",
    "#### Příkaz if\n",
    "\n",
    "Základní větvící konstrukcí je příkaz `if`, který umožňuje podmíněně vykonávat příkazy (typicky přiřazení, vstupy a výstupy). \n",
    "Příkaz `if` si ukážeme na jednoduchém příkladě. Nejdříve však v si rámci přípravy vypíšeme aktuální verzi Pythonu. Využijeme proměnnou `version_info`, která je poskytována modulem `sys` (zkratka za *běhový **systém***)."
   ]
  },
  {
   "cell_type": "code",
   "execution_count": 60,
   "metadata": {},
   "outputs": [
    {
     "data": {
      "text/plain": [
       "sys.version_info(major=3, minor=6, micro=3, releaselevel='final', serial=0)"
      ]
     },
     "execution_count": 60,
     "metadata": {},
     "output_type": "execute_result"
    }
   ],
   "source": [
    "import sys  # iportování modulu \n",
    "\n",
    "sys.version_info"
   ]
  },
  {
   "cell_type": "markdown",
   "metadata": {},
   "source": [
    "Výsledkem je složitý objekt, který obsahuje detailní informaci o verzi aktuálního překladače. Kromě hlavní verze (*major*) obsahuje i číslo dílčí verze (*minor*) a další ještě detailnější údaje. Pokud chceme získat jen hlavní verzi, stačí získat tzv. atribut objektu, uvedením jeho jména za tečkou.\n",
    "\n",
    "Zápis čteme takto: z modulu `sys` (první tečka) použij proměnnou `version_info`, která odkazuje na objekt, který má atribut se jménem `major`. Atribut odkazuje číselný `int` objekt (jehož hodnota bude vypsána)."
   ]
  },
  {
   "cell_type": "code",
   "execution_count": 61,
   "metadata": {},
   "outputs": [
    {
     "data": {
      "text/plain": [
       "3"
      ]
     },
     "execution_count": 61,
     "metadata": {},
     "output_type": "execute_result"
    }
   ],
   "source": [
    "sys.version_info.major"
   ]
  },
  {
   "cell_type": "markdown",
   "metadata": {},
   "source": [
    "Nyní již k příkazu `if`, který na základě hodnoty výše uvedeného atributu větví program do dvou větví, z nichž jedna vypíše text *\"Používáte správný Python!\"* a druhá text *\"Používáte zastaralou verzi Pythonu\".*"
   ]
  },
  {
   "cell_type": "code",
   "execution_count": 62,
   "metadata": {},
   "outputs": [
    {
     "name": "stdout",
     "output_type": "stream",
     "text": [
      "Používáte správný Python!\n"
     ]
    }
   ],
   "source": [
    "if sys.version_info.major >= 3:\n",
    "    print(\"Používáte správný Python!\")\n",
    "else:\n",
    "    print(\"Používáte zastaralou verzi Pythonu\")"
   ]
  },
  {
   "cell_type": "markdown",
   "metadata": {},
   "source": [
    "Nejdříve k **syntaxi** (tj. zápisu) příkazu `if`.\n",
    "\n",
    "Příkaz `if` začíná klíčovým slovem `if`, za nímž následuje podmínka (tj. výraz, který se vyhodnotí na pravdivostní hodnotu, buď `True` nebo `False`). Poté následuje znak dvojtečky. Tento znak v Pythonu jednoznačně signalizuje, že bude následovat tzv. vnořený blok příkazů.\n",
    "\n",
    "**Blok příkazů** obsahuje jeden nebo několik příkazů, které tvoří určitý celek. Bloky se v Pythonu definují pomocí odsazení (tj. určitého počtu mezer na začátku řádku). První příkaz v bloku má alespoň o jednu mezeru větší odsazení než předchozí řádek (s dvojtečkou na konci patřící do nadřazeného bloku) tj. je vizuálně více vpravo. Ostatní příkazy v bloku mají stejné odsazení (tj. jsou zarovnány pod sebou). Uvnitř bloku mohou být vnořené bloky (ještě více odsazené). Konec bloku je signalizován návratem k odsazení vnějšího bloku (tj.text je opět méně odsazen tj, začíná víc vlevo). Blok je samozřejmě ukončen i dosažením konce programu.\n",
    "\n",
    "Zní to složitě, ale je to zcela přirozené. Každým dalším odsazením se dostáváte do hlouběji zanořených bloků, z nichž se pak můžete vracet na vyšší úrovně do nadřazených bloků."
   ]
  },
  {
   "cell_type": "markdown",
   "metadata": {
    "collapsed": true
   },
   "source": [
    "V našem případě je vnořený (osazený) blok tvořen jediným příkazem, který tvoří jednu z větví příkazu `if`.\n",
    "\n",
    "Poté následuje klíčové slovo `else`, které patří do stejného bloku jako `if`, není tudíž odsazeno. I tento řádek je ukončen dvojtečkou takže lze očekávat, že bude následovat nový vnořený blok, odsazený více vpravo (většina specializovaných editorů včetně Jupyteru proto odsazení vloží automaticky). Tento blok tvoří druhou větev příkazu `if`.\n",
    "\n",
    "Obecnou syntaxi příkazu `if` tak lze zapsat například takto:"
   ]
  },
  {
   "cell_type": "markdown",
   "metadata": {},
   "source": [
    "```\n",
    "if podmínka:\n",
    "    blok-then\n",
    "else:\n",
    "    blok-else\n",
    "```"
   ]
  },
  {
   "cell_type": "markdown",
   "metadata": {},
   "source": [
    "Po vyčerpávajícím popisu syntaxe se nyní přesuneme k **sémantice**, tj. k popisu chování konstrukce `if` za běhu aplikace.\n",
    "\n",
    "Nejdříve dojde k vyhodnocení podmínky. V nejjednodušším případě se podmínka vyhodnotí na objekt třídy `bool`. Tak je tomu i v našem případě, kdy se testuje, zda je hlavní číslo verze větší, nebo rovno třem. \n",
    "\n",
    "Pokud je výsledkem `True` (což by mělo platit), pak se vykonají příkazy pouze v prvním vnořeném bloku `blok-then` (následuje za řádkem s `if`). V našem případě se vypíše text *\"Používáte správný Python!\"* (to by mělo skutečně nastat). \n",
    "\n",
    "V opačném případě (podmínka je vyhodnocena na `false`) se vykonají příkazy druhého vnořeného bloku tj. `blok-else`. V našem příkladě se vykoná příkaz `print` vypisující text \"Používáte zastaralou verzi Pythonu\".\n",
    "\n",
    "Všimněte si, že bez ohledu na pravdivost podmínky se provede právě jedna z větví (vnořených bloků) příkazu `if`. Nikdy se neprovedou obě dvě, resp. nehrozí, že by se neprovedla žádná z nich.\n"
   ]
  },
  {
   "cell_type": "markdown",
   "metadata": {},
   "source": [
    "> **Úkol**:\n",
    "\n",
    "> Upravte podmínku předchozího příkazu `if` tak, aby testovala zda je využita verze 3.6 resp. novější (správný Python) a nikoliv verze 3.5 a nižší (zastaralý Python). \n",
    "\n",
    "> Rada: \n",
    "Je nutné, aby to fungovalo i pro případné nové hlavní verze v budoucnosti např. 4.1 nebo 5.0.\n",
    "Zkuste využít sumární verzi Pythonu například podle vzorce `major * 100 + minor` (vedlejší verze jsou vždy menší než 100)."
   ]
  },
  {
   "cell_type": "code",
   "execution_count": 95,
   "metadata": {
    "tags": [
     "h"
    ]
   },
   "outputs": [
    {
     "name": "stdout",
     "output_type": "stream",
     "text": [
      "Verze použitého Pythonu je vyšší nebo rovna 3.6\n"
     ]
    }
   ],
   "source": [
    "import sys\n",
    "\n",
    "if sys.version_info.major * 100 + sys.version_info.minor >= 306:\n",
    "    print(\"Verze použitého Pythonu je vyšší nebo rovna 3.6\")\n",
    "else:\n",
    "    print(\"Verze použitého Pythonu je menší než 3.6\")"
   ]
  },
  {
   "cell_type": "markdown",
   "metadata": {},
   "source": [
    "Příkaz `if` je jedním z klíčových konstrukcí jazyka Python, takže si uveďmě ještě několik jeho příkladů. Nejdříve si vypočteme trochu divný dvojnásobek celého čísla. Je-li vstupní číslo $x$ sudé, je vypsán skutečný dvojnásobek $2x$, u lichého čísla je vypsána hodnota $2x - 1$ (výsledek tedy zachovává sudost a lichost)."
   ]
  },
  {
   "cell_type": "code",
   "execution_count": 9,
   "metadata": {},
   "outputs": [
    {
     "name": "stdout",
     "output_type": "stream",
     "text": [
      "Zadej celé číslo: 27246426228428246248262\n",
      "54492852456856492496524\n"
     ]
    }
   ],
   "source": [
    "x = int(input(\"Zadej celé číslo: \"))\n",
    "if x % 2 == 0:  # je-li x sudé\n",
    "    x *= 2\n",
    "else: # je-li liché\n",
    "    x = x*2 - 1\n",
    "print(x)"
   ]
  },
  {
   "cell_type": "markdown",
   "metadata": {
    "collapsed": true
   },
   "source": [
    "#### Vstup z konzole (vstupního pole)\n",
    "\n",
    "Ukázkový program začíná přečtením textu z textového (konzolového) vstupu pomocí vestavěné metody `input`. V případě, že je tato funkce použita v Jupyter notebooku, pak se po každém vyhodnocení vstupní buňky (Ctrl+Shift) objeví vstupní pole, do něhož je možno zadat vstup do programu. Před vstupní pole se napíše text, který je parametrem funkce `input` tzv. výzva (angl. *prompt*).\n",
    "\n",
    "Výsledkem vyhodnocení funkce `input` je textový objekt, nikoliv číslo (obecně lze totiž zadat zcela libovolný text). Proto je na výsledek funkce `input` zavolána (vestavěná) funkce `int`, která se jakýkoliv rozumný objekt pokusí převést na celé číslo (už jsme se s ní setkali dříve, kdy jsme ji používaly na převod z čísla třídy `float`).\n",
    "\n",
    "V případě volání na textový objekt (v programátorském slangu na řetězec) je text interpretován jako desítkový zápis nějakého čísla. Výsledkem je interní representace tohoto čísla tj. objekt třídy `int`. Pokud text obsahuje nepřípustné znaky (písmena či např. mezery), je vyvolána výjimka (a výpočet se tudíž nedokončí).\n",
    "\n",
    "Po načtení následuje větvení programu. Pokud je hodnota označená proměnnou `x` sudá (tj. zbytek po dělení dvěma je roven nula) pak je tato hodnota zdvojnásobena a výsledek je odkazován toutéž proměnnou (složené přiřazení).V opačném případě (větev `else`) je nová hodnota proměnné `x` rovna `2*x - 1` .\n",
    "\n",
    "Po skončení konstrukce `if` (končí druhý odsazený blok, a následně již není žádné odsazení) je (nepodmíněně) vypsána nová hodnota proměnné `x`.\n",
    "\n",
    "Vyzkoušejte různé vstupní hodnoty (malá i obrovská celá čísla), neplatný vstup (texty s písmeny, apod.) \n",
    "\n",
    "**Poznámka**: Předchozí kód je prvním \"skutečným\" počítačovým programem v tomto textu. Veškerý předchozí kód vracel vždy stejné výsledky při každém spuštění (tj. vyhodnocení). Takový kód lze vyhodnotit i na jednoduché (tj. neprogramovatelné) kalkulačce. Zahrnutím vstupu jsme toto základní omezení překonali a vytvořili, něco co je vícekrát použitelné. Zatím je to spíše potenciál (po ověření funkce pro různé vstupy, pravděpodobně již nikdy daný kód znovu nespustíte), ale je to ten příslovečný *první krok*."
   ]
  },
  {
   "cell_type": "markdown",
   "metadata": {},
   "source": [
    "*Řešený příklad*\n",
    "\n",
    "Náledující program je o malinko složitější, i když stále nepříliš použitelný. Vyžádá si vstup dvou čísel, a nakonec vypíše, které z nich je větší (tj, je to tzv. maximum). Vstupem mohou být tentokráte čísla i desetinnou části (i když na druhé straně omezená na rozsah cca $-10^{308}$ až $10^{308}$."
   ]
  },
  {
   "cell_type": "code",
   "execution_count": 2,
   "metadata": {},
   "outputs": [
    {
     "name": "stdout",
     "output_type": "stream",
     "text": [
      "x: 3\n",
      "y: 6\n",
      "Maximum je 6.0\n"
     ]
    }
   ],
   "source": [
    "x = float(input(\"x: \"))\n",
    "y = float(input(\"y: \"))\n",
    "\n",
    "if x > y:\n",
    "    m = x\n",
    "else:\n",
    "    m = y\n",
    "print(f\"Maximum je\", m)"
   ]
  },
  {
   "cell_type": "markdown",
   "metadata": {},
   "source": [
    "Pro vstup textu je použita opět funkce `input` (dvakrát). Vložený text je však tentokrát převeden na číslo třídy `float` pomocí stejnojmenné funkce. Vstupní hodnoty jsou označeny proměnnými `x` a `y` (v tomto pořadí). \n",
    "\n",
    "Následně je vyhodnocena podmínka zda je první číslo (označené proměnnou `x`) větší než číslo druhé (proměnná `y`). Pokud tomu tak je, je číslo se štítkem `x` označeno i štítkem `m` (tj.přiřazeno do proměnné `m`).\n",
    "\n",
    "V opačném případě (druhé číslo je větší nebo rovno [!] prvnímu) je štítkem `m` označeno druhé číslo. Pokud je větší je zřejmé proč (je to určitě maximum). Pokud jsou obě čísla rovna, pak je jedno, které z nich bude označeno za maximum.\n",
    "\n",
    "Výsledek (tj. číslo označené proměnnou `m`) je vypsán pomocí funkce `print`. Ta je volána se dvěma parametry, které postupně vypisuje. Prvním je text (řetězec) a druhým číslo (objekt označený proměnnou `m`). Všimněte si, že mezi oba výstupy se automaticky vkládá mezera.\n",
    "\n",
    "[konec řešeného příkladu]\n",
    "\n",
    "\n",
    "\n",
    "Nyní však na chvíli opusťme řídící konstrukce a zaměřme se právě na základní možnosti zpracování textů v Pythonu."
   ]
  },
  {
   "cell_type": "markdown",
   "metadata": {},
   "source": [
    "Pro vstup textu je použita opět funkce `input` (dvakrát). Vložený text je však tentokrát převeden na číslo třídy `float` pomocí stejnojmenné funkce. Vstupní hodnoty jsou označeny proměnnými `x` a `y` (v tomto pořadí). \n",
    "\n",
    "Následně je vyhodnocena podmínka zda je první číslo (označené proměnnou `x`) větší než číslo druhé (proměnná `y`). Pokud tomu tak je, je číslo se štítkem `x` označeno i štítkem `m` (tj.přiřazeno do proměnné `m`).\n",
    "\n",
    "V opačném případě (druhé číslo je větší nebo rovno [!] prvnímu) je štítkem `m` označeno druhé číslo. Pokud je větší je zřejmé proč (je to určitě maximum). Pokud jsou obě čísla rovna, pak je jedno, které z nich bude označeno za maximum.\n",
    "\n",
    "Výsledek (tj. číslo označené proměnnou `m`) je vypsán pomocí funkce `print`. Ta je volána se dvěma parametry, které postupně vypisuje. Prvním je text (řetězec) a druhým číslo (objekt označený proměnnou `m`). Všimněte si, že mezi oba výstupy se automaticky vkládá mezera.\n",
    "\n",
    "[konec řešeného příkladu]"
   ]
  },
  {
   "cell_type": "markdown",
   "metadata": {},
   "source": [
    "#### Příkaz `if` s jednou větví \n",
    "\n",
    "V příkazu `if` lze vynechat větev `else`, pokud se v této větvi nemusí nic provádět. Typicky se této konstrukce využívá v případě podmíněného výstupu (výstup se provede jen v případě jisté podmínky) nebo při podmíněném ukončení programu (resp. i jiných konstrukcí)."
   ]
  },
  {
   "cell_type": "code",
   "execution_count": 38,
   "metadata": {},
   "outputs": [
    {
     "name": "stdout",
     "output_type": "stream",
     "text": [
      "42\n",
      "Bingo\n"
     ]
    }
   ],
   "source": [
    "cislo = int(input())\n",
    "if cislo == 42:  # pokud je to hledané číslo\n",
    "    print(\"Bingo\")  # vypíše se text `Bingo`\n",
    "# v opačném případě se nevypíše nic (větev `else` chybí)"
   ]
  },
  {
   "cell_type": "markdown",
   "metadata": {},
   "source": [
    "#### Výjimky\n",
    "\n",
    "Při programování někdy nastanou situace, které nelze jednoduše vyřešit. Uživatel zadá neplatnou hodnotu, chybí prostředky pro provedení dané činnosti (například neexistuje vstupní soubor, chybí připojení k Internetu, dojde k abolutní ztrátě přesnosti, apod.). \n",
    "\n",
    "V tomto případě existuje jen jedna správná reakce — vyvolání **výjimky**. Program je přerušen, a pokud kód vyšší úrovně na výjimku nezareaguje, je nakonec i ukončen (s chybovým hlášením). S výjimkami jsme se již setkali, prozatím však vznikaly automaticky v knihovním kódu (tj. kódu nižší úrovně, který jste nenapsali jen ho pasivně využíváte). Výjimky však můžete vyvolávat (spouštět) i sami.\n",
    "\n",
    "Vyvoláním výjimky se v zásadě zbavujete odpovědnosti za příslušný problém (a přenášíte jej na někoho dalšího, v případě ukončení programu je to uživatel programu). Pokud je problém způsoben vnějšími okolnostmi (chybný vstup, nedostatek prostředků, apod.) je to to nejlepší řešení. Pokud byste problém řešili, pak by se program zbytečně komplikoval a stal se závislým na okolnostech, které nemůžete ovlivnit (například na mechanismu interakce s uživatelem). Platí prosté: **pokud máte problém, který nelze v daném místě vyřešit, pak vyvolejte výjimku.**\n",
    "\n",
    "PS: Je zřejmé, že pokud je problém ve Vás (například nevíte, jak něco naprogramovat) a děje se to při každém spuštění programu, pak vyvolání výjimky nic nevyřeší (hlavně pokud program vytváříte sami). \n",
    "\n",
    "A nyní prakticky. Výjimka se vyvolá příkazem `raise` za nímž následuje konstrukce objektu, který nese informaci o tom co se stalo (resp. co se nestalo). Prozatím budeme využívat jen objekty třídy `Exception` (*exception* je angl. výjimka). Vyvolání výjimky je často uvedeno v jednovětvém příkazu `if`, kde podmínka testuje, zda nastal daný problém. "
   ]
  },
  {
   "cell_type": "code",
   "execution_count": 41,
   "metadata": {},
   "outputs": [
    {
     "name": "stdout",
     "output_type": "stream",
     "text": [
      "Zadejte hmotnost předmětu: -3\n"
     ]
    },
    {
     "ename": "Exception",
     "evalue": "Záporná hmotnost",
     "output_type": "error",
     "traceback": [
      "\u001b[0;31m---------------------------------------------------------------------------\u001b[0m",
      "\u001b[0;31mException\u001b[0m                                 Traceback (most recent call last)",
      "\u001b[0;32m<ipython-input-41-105cc192c62a>\u001b[0m in \u001b[0;36m<module>\u001b[0;34m()\u001b[0m\n\u001b[1;32m      1\u001b[0m \u001b[0mhmotnost\u001b[0m \u001b[0;34m=\u001b[0m \u001b[0mfloat\u001b[0m\u001b[0;34m(\u001b[0m\u001b[0minput\u001b[0m\u001b[0;34m(\u001b[0m\u001b[0;34m\"Zadejte hmotnost předmětu: \"\u001b[0m\u001b[0;34m)\u001b[0m\u001b[0;34m)\u001b[0m\u001b[0;34m\u001b[0m\u001b[0m\n\u001b[1;32m      2\u001b[0m \u001b[0;32mif\u001b[0m \u001b[0mhmotnost\u001b[0m \u001b[0;34m<\u001b[0m \u001b[0;36m0\u001b[0m\u001b[0;34m:\u001b[0m  \u001b[0;31m# váš program neumí stejně jako fyzika pracovat se zápornými hmotnostmi\u001b[0m\u001b[0;34m\u001b[0m\u001b[0m\n\u001b[0;32m----> 3\u001b[0;31m     \u001b[0;32mraise\u001b[0m \u001b[0mException\u001b[0m\u001b[0;34m(\u001b[0m\u001b[0;34m\"Záporná hmotnost\"\u001b[0m\u001b[0;34m)\u001b[0m  \u001b[0;31m# a pokud to nastane, pak to dále neřešíte (někdo to musí vyřešit za Vás)\u001b[0m\u001b[0;34m\u001b[0m\u001b[0m\n\u001b[0m",
      "\u001b[0;31mException\u001b[0m: Záporná hmotnost"
     ]
    }
   ],
   "source": [
    "hmotnost = float(input(\"Zadejte hmotnost předmětu: \"))\n",
    "if hmotnost < 0:  # váš program neumí stejně jako fyzika pracovat se zápornými hmotnostmi\n",
    "    raise Exception(\"Záporná hmotnost\")  # a pokud to nastane, pak to dále neřešíte (někdo to musí vyřešit za Vás)"
   ]
  },
  {
   "cell_type": "markdown",
   "metadata": {},
   "source": [
    "Nyní však na chvíli opusťme řídící konstrukce a zaměřme se na základní možnosti zpracování textů v Pythonu."
   ]
  },
  {
   "cell_type": "markdown",
   "metadata": {
    "collapsed": true
   },
   "source": [
    "\n",
    " # Řetězce"
   ]
  },
  {
   "cell_type": "markdown",
   "metadata": {},
   "source": [
    "Jako řetezce v Pythonu označujeme objekty, které representují texty (což nění nic jiného než libovolná posloupnost znaků). Řetězce jsou instancemi třídy `str` (zkratka za anglické `string` pro než se již od počátků programování v Čechách vžil překlad *řetězec*)."
   ]
  },
  {
   "cell_type": "markdown",
   "metadata": {},
   "source": [
    "Nejjednoduším způsobem jak vytvořit nový řetězec je napsat ho přímo do programu. Aby se však odlišil od ostatního kódu musí být z obou stran opatřen uvozovkami nebo apostrofy (obě možnosti jsou plně ekvivalentní). Vymezující znaky do vlastního řetězce nepatří (proto jsou i při použití uvozovek na výstup vidět apostrofy, i zde hrají jen pomocnou roli)"
   ]
  },
  {
   "cell_type": "code",
   "execution_count": 3,
   "metadata": {},
   "outputs": [
    {
     "data": {
      "text/plain": [
       "'Toto je řetězec, který vznikne, je vypsán a poté zanikne'"
      ]
     },
     "execution_count": 3,
     "metadata": {},
     "output_type": "execute_result"
    }
   ],
   "source": [
    "\"Toto je řetězec, který vznikne, je vypsán a poté zanikne"
   ]
  },
  {
   "cell_type": "code",
   "execution_count": 4,
   "metadata": {},
   "outputs": [
    {
     "data": {
      "text/plain": [
       "'Toto je jiný řetězec, který je uzavřen v apostrofech'"
      ]
     },
     "execution_count": 4,
     "metadata": {},
     "output_type": "execute_result"
    }
   ],
   "source": [
    "'Toto je jiný řetězec, který je uzavřen v apostrofech'"
   ]
  },
  {
   "cell_type": "markdown",
   "metadata": {},
   "source": [
    "Záleží jen na Vás, zda dáte přednost apostrofům nebo uvozovkám (já jsa odkojen programovacím jazykem Pascal preferuji uvozovky). V každém případě doporučuji jednotnost s výjimkou speciálních případů. Například, pokud řetězec obsahuje uvozovky pak se snadněji píše omezený apostrofy (a vice versa)."
   ]
  },
  {
   "cell_type": "code",
   "execution_count": 5,
   "metadata": {},
   "outputs": [
    {
     "data": {
      "text/plain": [
       "'A bůh řekl: \"Budiž světlo!\"'"
      ]
     },
     "execution_count": 5,
     "metadata": {},
     "output_type": "execute_result"
    }
   ],
   "source": [
    "'A bůh řekl: \"Budiž světlo!\"'"
   ]
  },
  {
   "cell_type": "markdown",
   "metadata": {},
   "source": [
    "V běžném pythoním řetězci mohou být v zásadě jakékoliv znaky, kromě omezovačů (tj.znaků, které je omezují) a znaku odřádkování. Speciální význam má i znak zpětného lomítka `\\`, které tak nelze uvést přímo.\n",
    "\n",
    "Znak lomítko se používá pro zápis tzv. escape sekvencí, což je skupina několika znaků, která však realizuje znak jediný. V praxi stačí znát jen několik těchto escape sekvencí:\n",
    "\n",
    "\\n :  znak nového řádku (odřádkování)   \n",
    "\\t :  znak tabulátoru   \n",
    "\\\\ :  znak zpětného lomítka   \n",
    "\\\" :  znak uvozovky   \n",
    "\\' :  znak apostrofu"
   ]
  },
  {
   "cell_type": "code",
   "execution_count": 12,
   "metadata": {},
   "outputs": [
    {
     "name": "stdout",
     "output_type": "stream",
     "text": [
      "Řetězec s odřádkováním\n",
      " toto je už druhý řádek a tabulátorem \t ...\n"
     ]
    }
   ],
   "source": [
    "print(\"Řetězec s odřádkováním\\n toto je už druhý řádek a tabulátorem \\t ...\")"
   ]
  },
  {
   "cell_type": "code",
   "execution_count": 10,
   "metadata": {},
   "outputs": [
    {
     "name": "stdout",
     "output_type": "stream",
     "text": [
      "Tento řetězec obsahuje \"nebezpečné\" znaky jako je ' (apostrof) a \\ zpětné lomítko\n"
     ]
    }
   ],
   "source": [
    "print('Tento řetězec obsahuje \"nebezpečné\" znaky jako je \\' (apostrof) a \\\\ (zpětné lomítko)')"
   ]
  },
  {
   "cell_type": "markdown",
   "metadata": {},
   "source": [
    "#### Formátované řetězce (interpolace výrazů)\n",
    "\n",
    "Python podporuje kromě běžného zápisu řetězců i několik dalších. Ty se liší uvedením klíčového znaku před počáteční uvozovkou resp. apostrofem.\n",
    "\n",
    "Nejužitěčnější jsou tzv. formátované řetězce, které v zápise řetězců umožňují tzv. interpolace výrazů. Pokud do těchto řetězců zapíšeme výraz ve složených závorkách, pak je tento výraz nahrazen svým výsledkem v textové podobě. Formátované řetězce musí začínat znakem `f`:"
   ]
  },
  {
   "cell_type": "code",
   "execution_count": 13,
   "metadata": {},
   "outputs": [
    {
     "data": {
      "text/plain": [
       "'1 + 1 = 2'"
      ]
     },
     "execution_count": 13,
     "metadata": {},
     "output_type": "execute_result"
    }
   ],
   "source": [
    "f\"1 + 1 = {1+1}\""
   ]
  },
  {
   "cell_type": "markdown",
   "metadata": {},
   "source": [
    "Všimněte si, jak byl výraz `{1+1}` nahrazen svou hodnotou. Formátované řetezce se hodí pro formátování textového výstupu ve funkci `print` (obecně při jakémkoliv typu výstupu):"
   ]
  },
  {
   "cell_type": "code",
   "execution_count": 17,
   "metadata": {},
   "outputs": [
    {
     "name": "stdout",
     "output_type": "stream",
     "text": [
      "Zadej poloměr koule v metrech: 1\n",
      "Objem koule je 1.3333333333333333 m^3, což je 1333.3333333333333 litrů\n"
     ]
    }
   ],
   "source": [
    "from math import *\n",
    "\n",
    "r = float(input(\"Zadej poloměr koule v metrech: \"))\n",
    "v = 4/3*r**3  # spočítáme objem podle známého vzorečku\n",
    "print(f\"Objem koule je {v} m^3, což je {1000*v} litrů\")"
   ]
  },
  {
   "cell_type": "markdown",
   "metadata": {},
   "source": [
    "Výsledek je přehledný, až na zbytečný počet desetinných míst (je málo pravděpodobné, že poloměr koule mám změřenu s přesností femtometrů). Interpolace naštěstí umožňují specifikovat i výstupní formát interpolovaných číselm pomocí speciálního formátovacího jazyka. Pro Vás jako začátečníky stačí znát jen dva základní formáty (formáty jsou určeny jediným tzv, formátovacím znakem):\n",
    "\n",
    "*Univerzální formát `g`*: vypisuje desetinné číslo se zadaným počtem desetinných místm a to preferovaně v běžném tvaru (bez exponentu). Pouze čísla, pro něž je exponenciální tvar stručnější resp. lépe vyjadřuje počet platných číslic, jsou zobrazována s exponentem. Hodí se pro výstupy určené pro lidi (nejlépe přírodovědce):\n",
    "\n",
    "V tomto formátu lze specifikovat i počet platných číslic míst (nikoliv desetinných!). "
   ]
  },
  {
   "cell_type": "code",
   "execution_count": 31,
   "metadata": {},
   "outputs": [
    {
     "name": "stdout",
     "output_type": "stream",
     "text": [
      "Rychlost světla je 3e+08 m/s, tj. doba letu světla od Slunce k Zemi je cca 499 sekund\n"
     ]
    }
   ],
   "source": [
    "c = 299_792_458.0\n",
    "au = 149_597_871e3  # vzdálenost Slunce-Země\n",
    "print(f\"Rychlost světla je {c:.3g} m/s, tj. doba letu světla od Slunce k Zemi je cca {au/c:.3g} sekund\")\n"
   ]
  },
  {
   "cell_type": "markdown",
   "metadata": {},
   "source": [
    "Jak lze vidět, formát se zadává uvnitř interpolačních složených závorek a to za příslušný výraz a je oddělený dvojtečkou. Vlastní formát začíná nepovinnou specifikací počtu platných číslic (jenž je sám tvořený znakem tečka a číslem udávajícím daný počet). Na konci formátu je formátovací znak tj. zde `g`.\n",
    "\n",
    "Velká číslo (rychlost světla) je zobrazeno v exponenciální tvaru zaokrouhlené na tři platné číslice (jsou to číslice 3,0,0, koncové nuly po desetinné tečce se v tomto formátu nezobrazují). Čas letu světla je malé číslo, a tak se zobrazuje bez exponentu právě na 3 platné číslice.\n",
    "\n",
    "*Úkol*: Zkuste zvýšit resp. snížit počet platných číslic na 4 resp. 2. Proč se v případě dvou platných čísel čas zobrazuje jako `5e2` (přestože je to malé číslo)?.\n",
    "\n",
    "*Fixní formát `f`*: vždy vypisuje číslo v neexponenciálním tvaru (i když je velké či blízké nule). Hodí se například pro finanční částky.\n",
    "\n",
    "Číslo za tečkou ve formátu specifikuje v tomto případě počet (povinných) číslic za desetinnou tečkou."
   ]
  },
  {
   "cell_type": "code",
   "execution_count": 40,
   "metadata": {},
   "outputs": [
    {
     "name": "stdout",
     "output_type": "stream",
     "text": [
      "HDP ČR je 193500000000.00\n"
     ]
    }
   ],
   "source": [
    "gdp = 193.5e9\n",
    "\n",
    "print(f\"HDP ČR je {gdp:.2f}\")"
   ]
  },
  {
   "cell_type": "markdown",
   "metadata": {},
   "source": [
    "I když je HDP české republiky velké číslo je zobrazeno bez použití exponenciálního zápisu a s dvěma desetinnými místy (je v zásadě vyjádřitelný v haléřích)."
   ]
  },
  {
   "cell_type": "markdown",
   "metadata": {},
   "source": [
    "Pokud chceme v tomto formátu použít oddělovač tisíců, pak stačí použít znak \",\" na začátku formátu (oddělovač čárka se využívá v angličtině, nastavení pro češtinu je složitější)."
   ]
  },
  {
   "cell_type": "code",
   "execution_count": 43,
   "metadata": {},
   "outputs": [
    {
     "name": "stdout",
     "output_type": "stream",
     "text": [
      "HDP ČR je 193,500,000,000.00\n"
     ]
    }
   ],
   "source": [
    "gdp = 193.5e9\n",
    "\n",
    "print(f\"HDP ČR je {gdp:,.2f}\")"
   ]
  },
  {
   "cell_type": "markdown",
   "metadata": {},
   "source": [
    ">**Úkol**: Vypište v základním tvaru (tj. bez použití indexu) největší číslo representovatelné typem `float`. Použijte atribut `max` objektu `sys.float_info`, kde `sys` je jméno modulu (pro přehlednost použijte oddělovače tisíců). Pak číslo přečtete :) "
   ]
  },
  {
   "cell_type": "code",
   "execution_count": 49,
   "metadata": {
    "tags": [
     "h"
    ]
   },
   "outputs": [
    {
     "name": "stdout",
     "output_type": "stream",
     "text": [
      "Největší 'float' číslo je 179,769,313,486,231,570,814,527,423,731,704,356,798,070,567,525,844,996,598,917,476,803,157,260,780,028,538,760,589,558,632,766,878,171,540,458,953,514,382,464,234,321,326,889,464,182,768,467,546,703,537,516,986,049,910,576,551,282,076,245,490,090,389,328,944,075,868,508,455,133,942,304,583,236,903,222,948,165,808,559,332,123,348,274,797,826,204,144,723,168,738,177,180,919,299,881,250,404,026,184,124,858,368\n"
     ]
    }
   ],
   "source": [
    "import sys\n",
    "\n",
    "max = sys.float_info.max \n",
    "print(f\"Největší 'float' číslo je {max:,.0f}\")"
   ]
  },
  {
   "cell_type": "markdown",
   "metadata": {},
   "source": [
    "**Řešený příklad**:\n",
    "Vytvořte skript, který pro místo na zadaných geografických souřadnicí vrátí jeho vzdálenost od centra kampusus UJEP. Pozornost soustřeďte na formátování výstupu (pro geo-souřadnice zvolte formát DD°MM.M', pro vzdálenost přesnost na desetiny kilometrů).\n",
    "\n",
    "Pro výpočet vzdálenosti použijte tento vztah:\n",
    "    \n",
    "$d=\\arccos\\bigl(\\sin\\phi_1\\cdot\\sin\\phi_2+\\cos\\phi_1\\cdot\\cos\\phi_2\\cdot\\cos(\\Delta\\lambda)\\bigr)$."
   ]
  },
  {
   "cell_type": "code",
   "execution_count": 52,
   "metadata": {},
   "outputs": [
    {
     "name": "stdout",
     "output_type": "stream",
     "text": [
      "Zem. šířka místa: 50\n",
      "Zem. délka místa: 15\n",
      "Místo se souřadnicemi 50°0.0' z.š. a 15°0.0' z.d. je vzdáleno 101.3 km od UJEP\n"
     ]
    }
   ],
   "source": [
    "# vstupy\n",
    "r = 6371 # poloměr Země v km viz \n",
    "f1 = 50.6654175  # zeměpisná šířka UJEP\n",
    "l1 = 14.024250   # zeměpisná délka UJEP\n",
    "f2 = float(input(\"Zem. šířka místa: \"))\n",
    "l2 = float(input(\"Zem. délka místa: \"))\n",
    "\n",
    "f2stupne = int(f2)  # celá část (stupně) úhlu\n",
    "f2minuty = abs((f2 - f2stupne) * 60.0) # minuty\n",
    "\n",
    "l2stupne = int(l2)\n",
    "l2minuty = abs((l2 - l2stupne) * 60.0)\n",
    "\n",
    "d = r * acos(sin(radians(f1)) * sin(radians(f2)) \n",
    "                + cos(radians(f1)) * cos(radians(f2)) * cos(radians(l2 - l1)))\n",
    "print(f\"Místo se souřadnicemi {f2stupne}°{f2minuty:.1f}' z.š. a {l2stupne}°{l2minuty:.1f}' z.d.\" +\n",
    "      f\" je vzdáleno {d:.1f} km od UJEP\")           "
   ]
  },
  {
   "cell_type": "markdown",
   "metadata": {
    "collapsed": true
   },
   "source": [
    "\n",
    "## Operace s řetězci"
   ]
  },
  {
   "cell_type": "markdown",
   "metadata": {},
   "source": [
    "Nejjednodušší operací nad řetězcem je zjištění jeho délky, tj. počtu znaků v řetězci. Python obsahuje vestavěnou funkci `len` (zkratka za *length*), která vrací délku u všech objektů, u nichž to má smysl (tj. skládají se z nějakého počtu elementárnějších částí)"
   ]
  },
  {
   "cell_type": "code",
   "execution_count": 1,
   "metadata": {},
   "outputs": [
    {
     "data": {
      "text/plain": [
       "6"
      ]
     },
     "execution_count": 1,
     "metadata": {},
     "output_type": "execute_result"
    }
   ],
   "source": [
    "len(\"Geralt\")"
   ]
  },
  {
   "cell_type": "code",
   "execution_count": 2,
   "metadata": {},
   "outputs": [
    {
     "data": {
      "text/plain": [
       "0"
      ]
     },
     "execution_count": 2,
     "metadata": {},
     "output_type": "execute_result"
    }
   ],
   "source": [
    "len(\"\")  # délka prázdného řetězce"
   ]
  },
  {
   "cell_type": "markdown",
   "metadata": {},
   "source": [
    "Téměř veškeré další manipulace s řetězci lze provádět pomocí tří základních operací: skládání (= spojování) řetězců, indexace (získávání) podřetězců (= souvislých fragmentů řetězů) a hledání podřetězců (i když ne vždy je to nejjednodušší a nejefektivnější).\n",
    "\n",
    "Řetězce jsou v Pythonu **striktně neměnnými** objekty, tj. žádnou operací nelze změnit obsah řetězce. To se týká i dvou základních operací,\n",
    "\n",
    "#### Skládání řetězců\n",
    "Skládání řetězců se zapisuje pomocí operace `+`."
   ]
  },
  {
   "cell_type": "code",
   "execution_count": 53,
   "metadata": {},
   "outputs": [
    {
     "data": {
      "text/plain": [
       "'FrodoPytlík'"
      ]
     },
     "execution_count": 53,
     "metadata": {},
     "output_type": "execute_result"
    }
   ],
   "source": [
    "\"Frodo\" + \"Pytlík\""
   ]
  },
  {
   "cell_type": "markdown",
   "metadata": {},
   "source": [
    "Výsledkem operace je nový objekt: řetězec obsahující všechny znaky levého operandu (řetězce vlevo od operátoru `+`) následované znaky pravého operandu (bez jakéhokoliv oddělení).\n",
    "\n",
    "Skádání dvou přímo zadaných řetězců není příliš užitečné (spojit dva řetězce není na rozdíl od číslené aritmetiky nevyžaduje kalkulačku v hlavě nebo na papíře). Praktičtější využití nabízí následující miniprogram (zadejte si prosím Vaše skutečná jména)."
   ]
  },
  {
   "cell_type": "code",
   "execution_count": 54,
   "metadata": {
    "scrolled": true
   },
   "outputs": [
    {
     "name": "stdout",
     "output_type": "stream",
     "text": [
      "Vaše křestní jméno: Jiří\n",
      "Vaše příjmení: Fišer\n",
      "Vaše celé jméno je Jiří Fišer\n"
     ]
    }
   ],
   "source": [
    "jmeno = input(\"Vaše křestní jméno: \")\n",
    "prijmeni = input(\"Vaše příjmení: \")\n",
    "\n",
    "celeJmeno = jmeno + \" \" + prijmeni # spojení tří řetězců\n",
    "print(f\"Vaše celé jméno je {celeJmeno}\")"
   ]
  },
  {
   "cell_type": "markdown",
   "metadata": {},
   "source": [
    "#### Indexace\n",
    "\n",
    "Pro získání podřetězce se v Pythonu používá tzv. **indexace**. Na objekt řetězce se aplikuje index v hranatých závorkách. Nejjednodušším indexem je kladné celé číslo."
   ]
  },
  {
   "cell_type": "code",
   "execution_count": 58,
   "metadata": {},
   "outputs": [
    {
     "data": {
      "text/plain": [
       "'a'"
      ]
     },
     "execution_count": 58,
     "metadata": {},
     "output_type": "execute_result"
    }
   ],
   "source": [
    "s = \"Samvěd\"\n",
    "s[1]"
   ]
  },
  {
   "cell_type": "markdown",
   "metadata": {},
   "source": [
    "Jak lze vidět tak v tomto případě se vrací podřetězec tvořený jediným znakem a to znak na pozici určené indexem. První znak má pozici 0, druhý pozici 1, atd. V našem případě (index = 1) je tedy vrácen řetězec obsahující znak `a`.\n",
    "\n",
    "Indexování od nuly může být na první pohled překvapivé a poněkud ztěžuje komunikaci programátorů, neboť lidé preferují počítání od jedné. Třetí znak tak má index 2, a desátý index 9 (obecně n-tý znak má index $n-1$). Je však pro počítače přirozenější a má i další výhody a proto se v programovacích jazycích běžně využívá (jsou však i jazyky, ve kterých zvítězil lidský resp. matematický pohled).\n",
    "\n",
    "Python je zde však důsledný: **ve všech kontextech (nikoliv jen při počítání znaků) se používají indexy počínající nulou**."
   ]
  },
  {
   "cell_type": "markdown",
   "metadata": {},
   "source": [
    "Poslední použitelný index je proto roven délce řetězce bez jedné."
   ]
  },
  {
   "cell_type": "code",
   "execution_count": 59,
   "metadata": {},
   "outputs": [
    {
     "data": {
      "text/plain": [
       "'d'"
      ]
     },
     "execution_count": 59,
     "metadata": {},
     "output_type": "execute_result"
    }
   ],
   "source": [
    "s[5]  # poslední znak šestiznakového řetezce"
   ]
  },
  {
   "cell_type": "markdown",
   "metadata": {},
   "source": [
    "Pokud použijeme (omylem) větší index je vyvolána výjimka (a program předčasně končí), Všimněte si, že výjimka informuje o příčině potíží."
   ]
  },
  {
   "cell_type": "code",
   "execution_count": 60,
   "metadata": {},
   "outputs": [
    {
     "ename": "IndexError",
     "evalue": "string index out of range",
     "output_type": "error",
     "traceback": [
      "\u001b[0;31m---------------------------------------------------------------------------\u001b[0m",
      "\u001b[0;31mIndexError\u001b[0m                                Traceback (most recent call last)",
      "\u001b[0;32m<ipython-input-60-6e68df1be101>\u001b[0m in \u001b[0;36m<module>\u001b[0;34m()\u001b[0m\n\u001b[0;32m----> 1\u001b[0;31m \u001b[0ms\u001b[0m\u001b[0;34m[\u001b[0m\u001b[0;36m6\u001b[0m\u001b[0;34m]\u001b[0m\u001b[0;34m\u001b[0m\u001b[0m\n\u001b[0m",
      "\u001b[0;31mIndexError\u001b[0m: string index out of range"
     ]
    }
   ],
   "source": [
    "s[6]"
   ]
  },
  {
   "cell_type": "markdown",
   "metadata": {},
   "source": [
    "Co se však stane, pokud použijeme záporný index (celé číslo může být i záporné)."
   ]
  },
  {
   "cell_type": "code",
   "execution_count": 62,
   "metadata": {},
   "outputs": [
    {
     "data": {
      "text/plain": [
       "'d'"
      ]
     },
     "execution_count": 62,
     "metadata": {},
     "output_type": "execute_result"
    }
   ],
   "source": [
    "s[-1]"
   ]
  },
  {
   "cell_type": "markdown",
   "metadata": {},
   "source": [
    "Kupodivu, výjimka nevznikla. Python totiž využívá záporné indexy pro indexování od konce (u řetezců od posledního znaku). Poslední znak má index -1 (bez ohledu na délku řetězce), předposlední -2 atd."
   ]
  },
  {
   "cell_type": "code",
   "execution_count": 64,
   "metadata": {},
   "outputs": [
    {
     "data": {
      "text/plain": [
       "'S'"
      ]
     },
     "execution_count": 64,
     "metadata": {},
     "output_type": "execute_result"
    }
   ],
   "source": [
    "s[-6]  # šestý od konce (což je u šestiznakového řetězce první znak)"
   ]
  },
  {
   "cell_type": "markdown",
   "metadata": {},
   "source": [
    "#### Výřezy\n",
    "\n",
    "U získávání jednotlivých znaků však indexace v Pythonu nekončí. Lze získat i delší podřetězce pomocí tzv. výřezů (angl. *slice*)."
   ]
  },
  {
   "cell_type": "code",
   "execution_count": 65,
   "metadata": {},
   "outputs": [
    {
     "data": {
      "text/plain": [
       "'am'"
      ]
     },
     "execution_count": 65,
     "metadata": {},
     "output_type": "execute_result"
    }
   ],
   "source": [
    "s[1:3]"
   ]
  },
  {
   "cell_type": "markdown",
   "metadata": {},
   "source": [
    "Výřez se skládá ze dvou celých čísel oddělených dvojtečkou. První určuje index prvního znaku podřetězce (opět se indexuje od nuly!). Druhé číslo nicméně neurčuje index posledního znaku, ale index prvního znaku, který už v podřetězci neleží (tj. chápe se jako hraniční pozice vyjma\n",
    "\n",
    "Zápis 1:3 tedy vyjadřuje pozice od indexu 1 (včetně) do indexu 3 (vyjma) tj. dvě pozice (= dva znaky po indexaci). Délka výsledného řetězce je vždy horní\\_mez - dolní\\_mez."
   ]
  },
  {
   "cell_type": "code",
   "execution_count": 67,
   "metadata": {},
   "outputs": [
    {
     "data": {
      "text/plain": [
       "'amv'"
      ]
     },
     "execution_count": 67,
     "metadata": {},
     "output_type": "execute_result"
    }
   ],
   "source": [
    "s[1:4]  # 3 znaky od druhého (index 0) do pátého (index 4) vyjma (= druhý, třetí, čtvrtý)"
   ]
  },
  {
   "cell_type": "markdown",
   "metadata": {},
   "source": [
    "Výřezem můžeme získat i celý původní řetězec (přesněji jeho kopii, neboť při indexaci vždy vzniká nový objekt)"
   ]
  },
  {
   "cell_type": "code",
   "execution_count": 68,
   "metadata": {},
   "outputs": [
    {
     "data": {
      "text/plain": [
       "'Samvěd'"
      ]
     },
     "execution_count": 68,
     "metadata": {},
     "output_type": "execute_result"
    }
   ],
   "source": [
    "s[0:6]  # šest znaků (od indexu 0 do indexu 5)"
   ]
  },
  {
   "cell_type": "markdown",
   "metadata": {},
   "source": [
    "To však ještě není vše. Ve výřezech můžete používat i záporné indexy (počítané od konce) a dokonce jednotlivé meze vynechávat. Pokud vynecháte první pak se začíná indexem 0 (první znak) a končí indexem rovným délce seznamu (pozice za posledním znakem)."
   ]
  },
  {
   "cell_type": "code",
   "execution_count": 71,
   "metadata": {},
   "outputs": [
    {
     "name": "stdout",
     "output_type": "stream",
     "text": [
      "Samvě\n",
      "mv\n"
     ]
    }
   ],
   "source": [
    "print (s[0:-1])  # řetězec bez posledního znaku (-1 je index posledníjo znaku, který již do výřezu nepatří)\n",
    "print (s[2:-2])  # od třetího (včetně) k předpředposlednímu (vyjma) = ke znaku s indexem 6-2 (vyjma) = 4 "
   ]
  },
  {
   "cell_type": "code",
   "execution_count": 72,
   "metadata": {},
   "outputs": [
    {
     "name": "stdout",
     "output_type": "stream",
     "text": [
      "Sa\n",
      "Samv\n"
     ]
    }
   ],
   "source": [
    "print(s[:2])    # první dva znaky (od indexu nula včetně do dva vyjma)\n",
    "print(s[:-2])   # bez posledních dvou znaků (od indexu nula včetně do indexu 6-2 vyjma)"
   ]
  },
  {
   "cell_type": "code",
   "execution_count": 73,
   "metadata": {},
   "outputs": [
    {
     "name": "stdout",
     "output_type": "stream",
     "text": [
      "věd\n",
      "d\n"
     ]
    }
   ],
   "source": [
    "print(s[3:])   # od indexu 3 (čtvrtý znak) do konce (= bez prvních tří)\n",
    "print(s[-1:])  # od posledního do konce (= poslední jeden)"
   ]
  },
  {
   "cell_type": "markdown",
   "metadata": {},
   "source": [
    "A nakonec typický Pythonský ideom (zápis, který se v Pythonu relativně často používá, ale nikdo z  nezasvěcených mu nerozumí)."
   ]
  },
  {
   "cell_type": "code",
   "execution_count": 75,
   "metadata": {},
   "outputs": [
    {
     "name": "stdout",
     "output_type": "stream",
     "text": [
      "Samvěd\n"
     ]
    }
   ],
   "source": [
    "print(s[:])  # vrací kopii řetězce"
   ]
  },
  {
   "cell_type": "markdown",
   "metadata": {},
   "source": [
    "> **Poznámka**: Pokud však rozumíte Pythonu opravdu dobře, pak zjistíte, že tento ideom nemusí na řetězce fungovat, neboť je zbytečné vytvářet kopii neměnných objektů. Kopii od originálu totiž u neměnných objektů nikdy nerozlišíte (pro rozlišení by stačilo jeden z objektů změnit, ale to se u neměnných objektů z principu nelze).\n",
    "\n",
    "> Představte si, že máte rozlišit mezi dvěma identickými jednovaječnými dvojčaty (bez možnosti je vidět pohromadě). Pokud jsou slepí, hluší a nemůžete se jich dotknout (zanechat např. znaménko) tj. jsou neměnní, pak se vám to nikdy nepodaří.\n",
    "\n",
    "> Jedinou šancí jak tento trik rozpoznat je testování identity objektů, to však praktickou nerozlišitelnost neovlivní (stejně jako, když uvidíte obě dvojčata zároveň)."
   ]
  },
  {
   "cell_type": "code",
   "execution_count": 80,
   "metadata": {},
   "outputs": [
    {
     "data": {
      "text/plain": [
       "True"
      ]
     },
     "execution_count": 80,
     "metadata": {},
     "output_type": "execute_result"
    }
   ],
   "source": [
    "s[:] is s  # Python je skutečně inteligentní (kopírováním se neobtěžoval, objekt  s je identický s objektem [:])"
   ]
  },
  {
   "cell_type": "markdown",
   "metadata": {
    "collapsed": true
   },
   "source": [
    "> **Úkol:** Napiště výraz, který z daného řetězce vytvoří nový, jenž nebude obsahovat předposlední znak (rada: nový řetězec není souvislým podřetězcem původního)"
   ]
  },
  {
   "cell_type": "code",
   "execution_count": 82,
   "metadata": {
    "tags": [
     "h"
    ]
   },
   "outputs": [
    {
     "data": {
      "text/plain": [
       "'Praa'"
      ]
     },
     "execution_count": 82,
     "metadata": {},
     "output_type": "execute_result"
    }
   ],
   "source": [
    "mesto = \"Praha\"\n",
    "mesto[:-2] + mesto[-1]"
   ]
  },
  {
   "cell_type": "markdown",
   "metadata": {},
   "source": [
    "#### Hledání podřetězců\n",
    "\n",
    "Pro ověření, zda je nějaký (pod)řetězec obsažen v jiném řetězci lze využít operátor `in`:"
   ]
  },
  {
   "cell_type": "code",
   "execution_count": 97,
   "metadata": {},
   "outputs": [
    {
     "data": {
      "text/plain": [
       "True"
      ]
     },
     "execution_count": 97,
     "metadata": {},
     "output_type": "execute_result"
    }
   ],
   "source": [
    "\"alf\" in \"Gandalf\""
   ]
  },
  {
   "cell_type": "markdown",
   "metadata": {},
   "source": [
    "Vlevo je hledaný (podřetězec), vpravo řetězec v němž hledáme. Výsledkem je pravdivostní hodnota (\"alf\" je obsažen v řetezci \"Gandalf\" a proto je výsledkem našeho příkladu hodnota `True`).\n",
    "\n",
    "*Řešený příklad*\n",
    "\n",
    "Vytvořte jednoduchý program který zjistí, zda je v zadané genomové sekvenci (tvořený posloupností bází, jež jsou representovány znaky ACGU) obsažen zadaný kodon (trojice znaků tvořená kombinací znaků ACGU)."
   ]
  },
  {
   "cell_type": "code",
   "execution_count": 98,
   "metadata": {},
   "outputs": [
    {
     "name": "stdout",
     "output_type": "stream",
     "text": [
      "Genom (kombinace znaků ACGU):ACGUAACGC\n",
      "Kodon (trojznaková kombinace znaků ACGU):CGC\n",
      "Kodon CGC je obsažen v genomu ACGUAACGC\n"
     ]
    }
   ],
   "source": [
    "genom = input(\"Genom (kombinace znaků ACGU):\")\n",
    "kodon = input(\"Kodon (trojznaková kombinace znaků ACGU):\")\n",
    "\n",
    "if kodon in genom:\n",
    "    print(f\"Kodon {kodon} je obsažen v genomu {genom}\")\n",
    "else:\n",
    "    print(f\"Kodon {kodon} není obsažen v genomu {genom}\")"
   ]
  },
  {
   "cell_type": "markdown",
   "metadata": {},
   "source": [
    "Tento program má ještě k dokonalosti daleko. Hlavním problémem je testování správnosti vstupu, neboť do vstupních polí můžete zadat libovolný řetězec (nekontroluje se zda obsahují pouze znagy ACGU). \n",
    "\n",
    "[dočasné přerušení příkladu]\n",
    "\n",
    "#### Metody a operace pro testování struktury řetězců\n",
    "\n",
    "Kontrola, zda řetězec splňuje určitou podmínku ohledně obsahu, není za použití elementárních nástrojů (výřezy, operátor `in`) ve vždy jednoduchá. \n",
    "\n",
    "Mezi ty jednoduché operace testování patří:"
   ]
  },
  {
   "cell_type": "markdown",
   "metadata": {
    "collapsed": true
   },
   "source": [
    "a) řetězec je obsažen v jiném řetězci"
   ]
  },
  {
   "cell_type": "code",
   "execution_count": 2,
   "metadata": {},
   "outputs": [
    {
     "data": {
      "text/plain": [
       "True"
      ]
     },
     "execution_count": 2,
     "metadata": {},
     "output_type": "execute_result"
    }
   ],
   "source": [
    "\"gard\" in \"Asgard\""
   ]
  },
  {
   "cell_type": "markdown",
   "metadata": {},
   "source": [
    "b) řetězec není obsažen v jiném řetězci (negace bodu a)"
   ]
  },
  {
   "cell_type": "code",
   "execution_count": 4,
   "metadata": {},
   "outputs": [
    {
     "data": {
      "text/plain": [
       "False"
      ]
     },
     "execution_count": 4,
     "metadata": {},
     "output_type": "execute_result"
    }
   ],
   "source": [
    "\"gard\" not in \"Asgard\""
   ]
  },
  {
   "cell_type": "markdown",
   "metadata": {},
   "source": [
    "Tento zápis s použitím negace operátoru `not in` je přehlednější (a bližší přirozenému *anglickému* jazyku) než zápis s běžnou negací (závorky jsou zde nutné, negace má vyší prioritu než operátor `in`):"
   ]
  },
  {
   "cell_type": "code",
   "execution_count": 5,
   "metadata": {},
   "outputs": [
    {
     "data": {
      "text/plain": [
       "False"
      ]
     },
     "execution_count": 5,
     "metadata": {},
     "output_type": "execute_result"
    }
   ],
   "source": [
    "not (\"gard\" in \"Asgard\")"
   ]
  },
  {
   "cell_type": "markdown",
   "metadata": {},
   "source": [
    "c) řetězec začíná nějakým podřetězcem (prefixem):"
   ]
  },
  {
   "cell_type": "code",
   "execution_count": 6,
   "metadata": {},
   "outputs": [
    {
     "data": {
      "text/plain": [
       "True"
      ]
     },
     "execution_count": 6,
     "metadata": {},
     "output_type": "execute_result"
    }
   ],
   "source": [
    "\"Asgard\"[:2] == \"As\" # výřez vrací první dva znaky (s indexy 0 a 1)"
   ]
  },
  {
   "cell_type": "markdown",
   "metadata": {},
   "source": [
    "Hledání prefixu je tak běžnou operací, že pro ni existuje i přehlednější zápis využívající metody `startswith`. Metoda je v zásadě speciálním případem volání funkce, v němž je nejdříve uveden objekt, který je hlavním parametrem a teprve poté (po tečce) jméno funkce a ostatní parametry (v závorkách)."
   ]
  },
  {
   "cell_type": "code",
   "execution_count": 7,
   "metadata": {},
   "outputs": [
    {
     "data": {
      "text/plain": [
       "True"
      ]
     },
     "execution_count": 7,
     "metadata": {},
     "output_type": "execute_result"
    }
   ],
   "source": [
    "\"Asgard\".startswith(\"As\")"
   ]
  },
  {
   "cell_type": "markdown",
   "metadata": {},
   "source": [
    "Řetězec `\"Asgard\"` je hlavním parametrem metody (tj. objektem, s nímž se snažíme komunikovat), metoda se jmenuje `startswith` a dalším (vedlejším) parametrem je hledaný prefix (počátek řetězce). Výsledkem je i zde logická hodnota. \n",
    "\n",
    ">*Poznámka*: Metody (včetně zápisu jejich volání) pocházejí ze světa tzv. objektově orientovaného programování. To vychází z představy, že různé objekty spolu interagují tím, že si navzájem volají své metody (které mohou být navíc doplněny dalšími parametry tj. interakce nemusí být typu jeden s jedním). To, který objekt je hlavní parametr (v OOP terminologii adresát) a které jsou dodatečné je dáno pouze zvoleným pohledem. V případě metody `startswith` je adresátem prohledávaný řetězec a dodatečným parametrem podřetězec (hledaný prefix). Lze si však představit i opačný model např. volání typu `\"As\".isprefixof(\"Asgard\")`, který se však v Pythonu neuplatnil."
   ]
  },
  {
   "cell_type": "markdown",
   "metadata": {},
   "source": [
    "d) řetězec končí nějakým podřetězcem (sufixem)\n",
    "\n",
    "I když i zde můžete použít výřez (a porovnání řetězců), tak i pro testování sufixu existuje specializovaná metoda (jejíž jméno určitě odhadnete)"
   ]
  },
  {
   "cell_type": "code",
   "execution_count": 10,
   "metadata": {},
   "outputs": [
    {
     "data": {
      "text/plain": [
       "True"
      ]
     },
     "execution_count": 10,
     "metadata": {},
     "output_type": "execute_result"
    }
   ],
   "source": [
    "\"Asgard\"[-2:] == \"rd\""
   ]
  },
  {
   "cell_type": "code",
   "execution_count": 12,
   "metadata": {},
   "outputs": [
    {
     "data": {
      "text/plain": [
       "True"
      ]
     },
     "execution_count": 12,
     "metadata": {},
     "output_type": "execute_result"
    }
   ],
   "source": [
    "\"Asgard\".endswith(\"rd\")"
   ]
  },
  {
   "cell_type": "markdown",
   "metadata": {},
   "source": [
    "e) všechny znaky řetězce patří do určité třídy znaků\n",
    "\n",
    "Znaky lze podle jejich funkce klasifikovat do několika kategorií. Mezi hlavní kategorie patří *písmena* (znaky použitelné pro zápis přirozeného jazyka), *číslice* (znaky sloužící pro zápis čísel) a mzerové znaky (bílé tj. netištěné oddělovače). U těchto klíčových kategorií (a pár dalších) lze využít metod, které testují, zda všechny znaky řetězce patří do příslušné skupiny."
   ]
  },
  {
   "cell_type": "code",
   "execution_count": 15,
   "metadata": {},
   "outputs": [
    {
     "name": "stdout",
     "output_type": "stream",
     "text": [
      "True\n",
      "True\n",
      "True\n"
     ]
    }
   ],
   "source": [
    "print(\"Dobříň\".isalpha())  # všechny znaky jsou písmena\n",
    "print(\"42\".isdigit()) # všechny znaky jsou číslice\n",
    "print(\"  \\t \\n\".isspace())  # všechny znaky jsou mezerové znaky (patří tam i tabulátor a odřádkování)"
   ]
  },
  {
   "cell_type": "markdown",
   "metadata": {},
   "source": [
    ">**Úkol**: Napište program, který pro daný řetězcový vstup ověří, že jeho první i poslední znak je číslo (ostatní znaky mohou být jakékoliv). Pokud řetězec odpovídá, je vypsán text \"Platný vstup\" (v opačném případě se nic nevypíše)."
   ]
  },
  {
   "cell_type": "code",
   "execution_count": 50,
   "metadata": {
    "tags": [
     "h"
    ]
   },
   "outputs": [
    {
     "name": "stdout",
     "output_type": "stream",
     "text": [
      "1a2\n",
      "Platný vstup\n"
     ]
    }
   ],
   "source": [
    "vstup = input()\n",
    "if vstup[0].isdigit() and vstup[-1].isdigit(): # výsledkem indexace je jednoznakový řetězec\n",
    "    print(\"Platný vstup\")"
   ]
  },
  {
   "cell_type": "markdown",
   "metadata": {},
   "source": [
    "I když jsou tyto metody užitečné, mají několik nevýhod. Za prvé je lze využít jen pro pár všeobecně používaných kategorií znaků (mezi tyto tyto kategorie rozhodně nepatří napříkald znaky genetického kódu). Navíc jsou tyto kategorie výrazně širší než byste čekali. Moderní počítače podporují znaky všech jazyků a písmených soustav (včetně např. emotikonů). Tj. písmena nejsou omezena na latinku a číslice na euroarabské dekadické číslice."
   ]
  },
  {
   "cell_type": "code",
   "execution_count": 16,
   "metadata": {},
   "outputs": [
    {
     "name": "stdout",
     "output_type": "stream",
     "text": [
      "True\n"
     ]
    }
   ],
   "source": [
    "print(\"Ζεύς\".isalpha())  # řecké písmo"
   ]
  },
  {
   "cell_type": "code",
   "execution_count": 17,
   "metadata": {},
   "outputs": [
    {
     "name": "stdout",
     "output_type": "stream",
     "text": [
      "True\n"
     ]
    }
   ],
   "source": [
    "print(\"٤٢\".isdigit()) # arabsko indické číslice"
   ]
  },
  {
   "cell_type": "markdown",
   "metadata": {},
   "source": [
    "I když je užitečné znát všechny výše uvedené metody a operaci `in` existuje v Pythonu nástroj, který je všechny nejen nahradí, ale vyřeší i jejich nedostatky — regulární výrazy."
   ]
  },
  {
   "cell_type": "markdown",
   "metadata": {},
   "source": [
    "#### Regulární výrazy I\n",
    "\n",
    "Regulární výrazy (název pochází z matematické teorie tzv. gramatik) jsou více než užitečným nástrojem pro práci s řetězci. Používány jsou již od sedmdesátých let, ale jejich současná podoba se vyprofilovala v jazyce *Perl* v letech osmdesátých. Python stejně jako většina ostatních programovacích jazyků a aplikací převzala perlovskou syntaxi (s malými omezeními i rozšířeními, tj. různé implementace regulárních jazyků se v detailech mohou lišit, společný základ je však naštěstí dosti rozsáhlý). "
   ]
  },
  {
   "cell_type": "markdown",
   "metadata": {},
   "source": [
    "Regulární výrazy jsou velmi komplexním jazykem pro popis struktury řetězců (o regulárních výrazech vycházejí celé knihy). My se omezíme jen na nezbytné základy se kterými se navíc seznámíme jen postupně. Vyhneme se navíc také jejich teorii (i když ta je zajímavá a může výrazně pomoci při tvorbě rozsáhlejších výrazů). "
   ]
  },
  {
   "cell_type": "markdown",
   "metadata": {},
   "source": [
    "Regulární výraz je v zásadě řetězec, který jednoznačně definuje určitou množinu řetězců s podobnou strukturou. Tato množina může být i jednoprvková, ale typicky je potenciálně nekonečná (tj. s neomezeným opakováním nějakého vzoru). \n",
    "\n",
    "Základní operací nad regulárními výrazy je test shody (angl. *match*). Tato operace testuje zda zadaný řetězec \n",
    "odpovídá regulárnímu výrazu či nikoliv. V Pythonu je tato operace implementována pomocí metody `fullmatch` modulu `re` (zkratka ze *Regular Expression*). Funkce má dva parametry: nejprve regulární výraz (vzor, jak by měl řetězec vypadat), a poté testovaný řetězec."
   ]
  },
  {
   "cell_type": "code",
   "execution_count": 22,
   "metadata": {},
   "outputs": [
    {
     "name": "stdout",
     "output_type": "stream",
     "text": [
      "abbababababc\n",
      "špatný řetězec\n"
     ]
    }
   ],
   "source": [
    "import re\n",
    "s = input()                  # načteme řetězec\n",
    "if re.fullmatch(\"[ab]+\", s): # otestujeme, zda řetězec odpovídá regulárnímu výrazu\n",
    "    print(\"shoda!\")          # pokud ano\n",
    "else:\n",
    "    print(\"špatný řetězec\")  # pokud ne"
   ]
  },
  {
   "cell_type": "markdown",
   "metadata": {},
   "source": [
    "Znaky v řetězci regulárního výrazu mají dvě zcela odlišné funkce. Písmena, čísla a bílé znaky (mezery) jsou tzv. **terminály**, tj. znaky, které budou (resp. potenciálně mohou být) obsaženy v popisovaném řetězci (tj. v regulárním označují sebe sama). V našem příkladě jsou to znaky `a` a `b` (výsledný řetězec tak může obsahovat jen tyto znaky a žádné jiné). Ostatní znaky mohou mít speciální význam, který závisí na jejich použití: mohou popisovat výběr z z nějaké skupiny znaků, pozice mezi znaky, operátory nad vnořenými regulárními jazyky, apod.\n",
    "\n",
    "Hranaté závorky použité v regulárním výrazu `[ab]+`, popisují právě jeden znak, kterým může být buď znak `a` nebo znak `b` (nikoliv oba najednou). Na tento regulární (pod)výraz je aplikován operátor `+`, který v případě regulárních výrazů znamená, že tento řetězec popsaný tímto podvýrazem se může libovolněkrát opakovat (ale musí tam být vždy alespoň jednou). V každém opakování se vždy můžeme rozhodnout mezi `a` nebo `b`, tj. regulární výraz popisuje všechny řetězce libovolné délky (avšak neprázdné!), tvořené znaky `a` a `b`, například `a`, `b`, `ab`, `ba`, `aaa`, `aab`, `aba`, … `abba`, `baba`, atd.\n",
    "\n",
    "Výsledkem aplikace regulárního výrazu je v případě shody vzoru a řetězce tzv. *match* objekt, který nese dodatečné informace o shodě.  Vyzkoušejme například následující příklad:"
   ]
  },
  {
   "cell_type": "code",
   "execution_count": 26,
   "metadata": {},
   "outputs": [
    {
     "data": {
      "text/plain": [
       "<_sre.SRE_Match object; span=(0, 3), match='aaa'>"
      ]
     },
     "execution_count": 26,
     "metadata": {},
     "output_type": "execute_result"
    }
   ],
   "source": [
    "pattern = \"a+\"\n",
    "s = \"aaa\"\n",
    "re.fullmatch(pattern, s)"
   ]
  },
  {
   "cell_type": "markdown",
   "metadata": {},
   "source": [
    "Regulární výraz popisuje řetězce tvořené jen znaky `a` (znak `a` je terminál, který se může libovolně opakovat). Výsledný *match* objekt nemá standardní textovou representaci (jako např. čísla) a tak je vypsána jeho pomocná textová representace: obsahující třídu objektu a jeho klíčové atributy (pozice shody, apod.). Pomocná textová representace je navíc v tzv. lomených závorkách (znaky menší a větší než).\n",
    "\n",
    "Pomocná textová representace ve většině případů ukazuje, že se snažíme vypsat příliš složitý objekt. Řešením je vypsání některého z jeho atributů nebo přetypování na jednodušší objekt. V našem případě nás zajímá jen logická hodnota (splňuje/nesplňuje), takže zkusíme tento objekt převést na pravdivostní hodnotu:"
   ]
  },
  {
   "cell_type": "code",
   "execution_count": 27,
   "metadata": {},
   "outputs": [
    {
     "data": {
      "text/plain": [
       "True"
      ]
     },
     "execution_count": 27,
     "metadata": {},
     "output_type": "execute_result"
    }
   ],
   "source": [
    "bool(re.fullmatch(pattern,s))"
   ]
  },
  {
   "cell_type": "markdown",
   "metadata": {},
   "source": [
    "Toto přetypování se provádí u každé podmínky konstrukce `if` a tak lze na místě podmínky použít i složitější objekty, pokud mají rozumné přetypování na logické hodnoty.\n",
    "\n",
    "Co se však stane pokud, řetězec vzoru neodpovídá."
   ]
  },
  {
   "cell_type": "code",
   "execution_count": 28,
   "metadata": {
    "collapsed": true
   },
   "outputs": [],
   "source": [
    "re.fullmatch(pattern, \"aaaaaaaaac\")"
   ]
  },
  {
   "cell_type": "markdown",
   "metadata": {},
   "source": [
    "Zdá se, že v tomto případě metoda nic nevrací. V Pythonu však každá funkce či metoda musí něco vracet. V nejhorším případě vrací hodnotu `None` (to není kontradikce; `None` není nic, jen něco co není dostupné nebo není aplikovatelné). Možná už tušíte co se stane, pokud se pokusíme `None` přetypovat na pravdivostní hodnotu:"
   ]
  },
  {
   "cell_type": "code",
   "execution_count": 29,
   "metadata": {},
   "outputs": [
    {
     "data": {
      "text/plain": [
       "False"
      ]
     },
     "execution_count": 29,
     "metadata": {},
     "output_type": "execute_result"
    }
   ],
   "source": [
    "bool(None)"
   ]
  },
  {
   "cell_type": "markdown",
   "metadata": {},
   "source": [
    "Ano. 'None' je vždy nepravdivé. Nyní už by mělo být jasné, jak funguje větvení programu v prvním příkladě s regulárními výrazy. Pokud řetězec odpovídá regulárnímu výrazu, pak se jde větví `if` (výsledný *match* objekt je vždy pravdivý), jinak se pokračuje větví `else` (výsledná hodnota `None` je nepravdivá). "
   ]
  },
  {
   "cell_type": "markdown",
   "metadata": {},
   "source": [
    ">*Poznámka*: Pro ty, co nechtějí využívat *magického* rozdělené světa Pythonských objektů na pravdivé a nepravdivé (proč je, probůh, například úspěch vždy pravdivý) existuje i explicitnější podmínka: `re.fullmatch(pattern,string) is not None`.  Python podporuje jak pohodlnost implicitnosti tak jistotu explicitnosti (i když Zen of Python tvrdí: 'Explicit is better than implicit.'"
   ]
  },
  {
   "cell_type": "markdown",
   "metadata": {},
   "source": [
    ">**Úkol**: Jaké řetězce popisuje regulární výraz `(ab)+`? Vyzkoušejte svoji teorii pomocí několika vhodně zvolených příkladů řetězců (všechny vyzkoušet nemůžete, tento regulární výraz popisuje potenciálně nekonečné množství řetězců)."
   ]
  },
  {
   "cell_type": "code",
   "execution_count": 30,
   "metadata": {},
   "outputs": [
    {
     "data": {
      "text/plain": [
       "False"
      ]
     },
     "execution_count": 30,
     "metadata": {},
     "output_type": "execute_result"
    }
   ],
   "source": [
    "pattern = \"(ab)+\"\n",
    "testString = \"aabb\" # zde můžete zadat zkušební řetězce\n",
    "bool(re.fullmatch(pattern, testString))"
   ]
  },
  {
   "cell_type": "markdown",
   "metadata": {},
   "source": [
    "Nyní se můžeme vrátit k řešenému příkladu s genetickým kódem. Pomocí regulárních výrazů je snadné otestovat zda je zadaný řetězec tvořen jen znaky využívanými pro zápis genetického kódu (representují jednotlivé nukleotidy). Nejdříve navrhneme regulární výraz popisující genetický kód libovolné délky tj. řetězec obsahující libovolně dlouhou posloupnost znaků `A`,`C`,`G` a `T`."
   ]
  },
  {
   "cell_type": "code",
   "execution_count": 31,
   "metadata": {},
   "outputs": [
    {
     "data": {
      "text/plain": [
       "<_sre.SRE_Match object; span=(0, 11), match='ACCGGCCTTTC'>"
      ]
     },
     "execution_count": 31,
     "metadata": {},
     "output_type": "execute_result"
    }
   ],
   "source": [
    "import re\n",
    "re.fullmatch(\"[ACGT]+\", \"ACCGGCCTTTC\") # otestujte i pro jiné (i nepřípustné) řetězce"
   ]
  },
  {
   "cell_type": "markdown",
   "metadata": {},
   "source": [
    "Jen o málo složitější je regulární výraz pro trojpísmenné kodony:"
   ]
  },
  {
   "cell_type": "code",
   "execution_count": 34,
   "metadata": {},
   "outputs": [
    {
     "data": {
      "text/plain": [
       "<_sre.SRE_Match object; span=(0, 3), match='AAA'>"
      ]
     },
     "execution_count": 34,
     "metadata": {},
     "output_type": "execute_result"
    }
   ],
   "source": [
    "re.fullmatch(\"[ACGT][ACGT][ACGT]\", \"AAA\")"
   ]
  },
  {
   "cell_type": "markdown",
   "metadata": {},
   "source": [
    "Všimněte si, že každá znaková množina popisuje právě jeden znak tj. daným regulárním výrazem jsou popsány jen tříznakové řetězce. Každý znak je navíc z omezené (a velmi malé množiny). Lze tedy snadno spočítat, že existuje právě $4^3$ = 64, které jsou tímto regulárním výrazem definovány."
   ]
  },
  {
   "cell_type": "markdown",
   "metadata": {},
   "source": [
    ">**Úkol**: Doplňte program pro nalezení kodonu v genomové sekvenci o testování přípustnosti vstupů pomocí výše uvedených regulárních výrazů. V případě, že  vstup nevyhovuje vyvolejte výjimku pomocí příkazu `raise Exception(\"popis výjimečné situace\")`. Nezapomeňte podmínku negovat (problém je když řetězec neodpovídá vzoru!)."
   ]
  },
  {
   "cell_type": "code",
   "execution_count": 37,
   "metadata": {
    "tags": [
     "h"
    ]
   },
   "outputs": [
    {
     "name": "stdout",
     "output_type": "stream",
     "text": [
      "Genom (kombinace znaků ACGU):AACCCCCGGGGGCCCGGXGGGG\n"
     ]
    },
    {
     "ename": "Exception",
     "evalue": "Neplatný genom",
     "output_type": "error",
     "traceback": [
      "\u001b[0;31m---------------------------------------------------------------------------\u001b[0m",
      "\u001b[0;31mException\u001b[0m                                 Traceback (most recent call last)",
      "\u001b[0;32m<ipython-input-37-4d795f5d0e29>\u001b[0m in \u001b[0;36m<module>\u001b[0;34m()\u001b[0m\n\u001b[1;32m      3\u001b[0m \u001b[0mgenom\u001b[0m \u001b[0;34m=\u001b[0m \u001b[0minput\u001b[0m\u001b[0;34m(\u001b[0m\u001b[0;34m\"Genom (kombinace znaků ACGU):\"\u001b[0m\u001b[0;34m)\u001b[0m\u001b[0;34m\u001b[0m\u001b[0m\n\u001b[1;32m      4\u001b[0m \u001b[0;32mif\u001b[0m \u001b[0;32mnot\u001b[0m \u001b[0mre\u001b[0m\u001b[0;34m.\u001b[0m\u001b[0mfullmatch\u001b[0m\u001b[0;34m(\u001b[0m\u001b[0;34m\"[ACGT]+\"\u001b[0m\u001b[0;34m,\u001b[0m \u001b[0mgenom\u001b[0m\u001b[0;34m)\u001b[0m\u001b[0;34m:\u001b[0m    \u001b[0;31m# ověříme přípustnost zápisu genomu (ještě pře zadáním kodonu)\u001b[0m\u001b[0;34m\u001b[0m\u001b[0m\n\u001b[0;32m----> 5\u001b[0;31m     \u001b[0;32mraise\u001b[0m \u001b[0mException\u001b[0m\u001b[0;34m(\u001b[0m\u001b[0;34m\"Neplatný genom\"\u001b[0m\u001b[0;34m)\u001b[0m\u001b[0;34m\u001b[0m\u001b[0m\n\u001b[0m\u001b[1;32m      6\u001b[0m \u001b[0;34m\u001b[0m\u001b[0m\n\u001b[1;32m      7\u001b[0m \u001b[0mkodon\u001b[0m \u001b[0;34m=\u001b[0m \u001b[0minput\u001b[0m\u001b[0;34m(\u001b[0m\u001b[0;34m\"Kodon (trojznaková kombinace znaků ACGU):\"\u001b[0m\u001b[0;34m)\u001b[0m\u001b[0;34m\u001b[0m\u001b[0m\n",
      "\u001b[0;31mException\u001b[0m: Neplatný genom"
     ]
    }
   ],
   "source": [
    "import re\n",
    "\n",
    "genom = input(\"Genom (kombinace znaků ACGU):\")\n",
    "if not re.fullmatch(\"[ACGT]+\", genom):    # ověříme přípustnost zápisu genomu (ještě pře zadáním kodonu)\n",
    "    raise Exception(\"Neplatný genom\")\n",
    "\n",
    "kodon = input(\"Kodon (trojznaková kombinace znaků ACGU):\")\n",
    "if not re.fullmatch(\"[ACGT][ACGT][ACGT]\", kodon):  # a poté ověříme i přípustnost zápisu kodonu\n",
    "    raise Exception(\"Neplatný kodon\")\n",
    "    \n",
    "if kodon in genom:\n",
    "    print(f\"Kodon {kodon} je obsažen v genomu {genom}\")\n",
    "else:\n",
    "    print(f\"Kodon {kodon} není obsažen v genomu {genom}\")"
   ]
  },
  {
   "cell_type": "markdown",
   "metadata": {},
   "source": [
    "Miniúvod do regulárních výrazů ukončíme popisem asi nejužitečnějšího zástupného symbolu. Znak `.` (tečka) má v regulárním výrazu speciální význam — nahrazuje libovolný znak (avšak vždy jen jeden). Ukažme si několik příkladů:"
   ]
  },
  {
   "cell_type": "code",
   "execution_count": 54,
   "metadata": {},
   "outputs": [
    {
     "name": "stdout",
     "output_type": "stream",
     "text": [
      "<_sre.SRE_Match object; span=(0, 3), match='abc'>\n",
      "<_sre.SRE_Match object; span=(0, 4), match='ahoj'>\n",
      "<_sre.SRE_Match object; span=(0, 6), match='ratata'>\n"
     ]
    }
   ],
   "source": [
    "print( re.fullmatch(\"...\", \"abc\") )  # tři jakékoliv znaky\n",
    "\n",
    "print( re.fullmatch(\"a.+\", \"ahoj\" ))   # řetězec začínající a mající alespoň dva znaky \n",
    "# (\"a\" + 1 až nekonečně mnoho dalších jednotlivých znaků)\n",
    "\n",
    "print( re.fullmatch(\"(.a)+\", \"ratata\")) # řetězec s sudým počtem znaků, kde na každé druhé pozici je 'a'"
   ]
  },
  {
   "cell_type": "markdown",
   "metadata": {},
   "source": [
    "Pokud chceme v regulárním výrazu využít tečku jako terminální znak (tj. tečku, která stojí sama za sebe), je nutno použít zápis `\\\\.` (zpětné lomítko je zdvojeno proto, že jej lze v pythonském řetězci zapsat jen pomocí tzv. escape sekvence). Podobně lze jako terminály vkládat i další speciální znaky např. `(` nebo `)`."
   ]
  },
  {
   "cell_type": "code",
   "execution_count": 59,
   "metadata": {},
   "outputs": [
    {
     "data": {
      "text/plain": [
       "<_sre.SRE_Match object; span=(0, 5), match='(.a.)'>"
      ]
     },
     "execution_count": 59,
     "metadata": {},
     "output_type": "execute_result"
    }
   ],
   "source": [
    "re.fullmatch(\"\\\\(\\\\..\\\\.\\\\)\", \"(.a.)\")"
   ]
  },
  {
   "cell_type": "markdown",
   "metadata": {},
   "source": [
    "Tento regulární výraz obsahuje terminály pro vnější dvojici párových závorek,  uvnitř nichž je libovolný znak mezi dvojicí teček (první a třetí tečka je předcházena dvěma lomítky, zatímco druhá nikoliv). Všimněte si, že regulární výraz s větším počtem dvojic zpětných lomítek není příliš přehledný. Mírné zpřehlednění může přinést použití tzv. surových řetězců, v nichž nemá lomítko speciální význam (takže se nemusí zdvojovat). Surové řetězce se zapisují pomocí znaku `r` (angl. *raw*) bezprostředně před uvozovkou resp. apostrofem."
   ]
  },
  {
   "cell_type": "code",
   "execution_count": 61,
   "metadata": {},
   "outputs": [
    {
     "data": {
      "text/plain": [
       "<_sre.SRE_Match object; span=(0, 5), match='(.!.)'>"
      ]
     },
     "execution_count": 61,
     "metadata": {},
     "output_type": "execute_result"
    }
   ],
   "source": [
    "re.fullmatch(r\"\\(\\..\\.\\)\", \"(.!.)\") # surový řetězec využitý pro zápis regulárních výrazů"
   ]
  },
  {
   "cell_type": "markdown",
   "metadata": {},
   "source": [
    ">**Úkol**: Napište program, který pro daný řetězcový vstup ověří, že je tvořen číslem s povinnou desetinou tečkou a desetinnou části."
   ]
  },
  {
   "cell_type": "code",
   "execution_count": 56,
   "metadata": {
    "tags": [
     "h"
    ]
   },
   "outputs": [
    {
     "name": "stdout",
     "output_type": "stream",
     "text": [
      "2.6\n",
      "Desetinné číslo\n"
     ]
    }
   ],
   "source": [
    "vstup = input()\n",
    "if re.fullmatch(\"[0123456789]+\\\\.[0123456789]\",vstup): # bez použití surového řetězce\n",
    "    print(\"Desetinné číslo\")"
   ]
  },
  {
   "cell_type": "markdown",
   "metadata": {},
   "source": [
    "#### Metody vracející modifikované verze řetězců\n",
    "\n",
    "V některých situacích se hodí modifikovat některé znaky řetězce (nahradit je jinými, odstranit, či vložit jiné). To však zcela přirozeně nejde, neboť řetězce jsou neměnné objekty.\n",
    "\n",
    "Náhradním řešením je nahradit (nepřípustnou) modifikaci vytvořením nového řetězce, u něhož jsou dané modifikace provedeny (tj. vytvoří se už v modifikované podobě). Python tento přístup využívá hned u několika metod objektů třídy `string`."
   ]
  },
  {
   "cell_type": "code",
   "execution_count": 44,
   "metadata": {},
   "outputs": [
    {
     "name": "stdout",
     "output_type": "stream",
     "text": [
      "Mis nenasitných sislů\n",
      "Mys nenasytných syslů\n"
     ]
    }
   ],
   "source": [
    "s = \"Mis nenasitných sislů\"\n",
    "s.replace(\"i\", \"y\")   # řetězec označený proměnnou `s` je nezměnen \n",
    "# nově vytvořený není po provedení řádku dostupný (zaniká)\n",
    "print(s)  # vypíše se nezměněný původní řetězec\n",
    "\n",
    "s = s.replace(\"i\", \"y\") # nový řetězec je přesměrována proměnná 's', původní objekt zaniká\n",
    "print(s)"
   ]
  },
  {
   "cell_type": "markdown",
   "metadata": {},
   "source": [
    "Jak lze vidět na příkladě metody `replace`, výsledek je nutno přiřadit do proměnné (jinak volání nemá žádný efekt). Často to bývá proměnná, která označovala původné řetězec (ten se sice stane nedostupným, avšak to v mnoha případech nevadí).\n",
    "\n",
    "Volání metody `replace` ukazuje základní rys (objektové) programování — spolupráce několika objektů, jejímž výsledkem je nový objekt. Metoda je volána nad objektem (třídy řetězec)  a předány jsou jí další dva (dočasně vytvořené) objekty: prvním je nahrazovaný (pod)řetězec, druhým nahrazující. Výsledkem je vytvoření nového řetězce, v němž jsou všechny výskyty prvního podřetězce nahrazeny druhým podřetězcem.\n",
    "\n",
    "Podívejme se na obrázek."
   ]
  },
  {
   "cell_type": "markdown",
   "metadata": {},
   "source": [
    "![Objekty ve volání metody replace](replace-object.png)"
   ]
  },
  {
   "cell_type": "markdown",
   "metadata": {},
   "source": [
    "V první fázi (černá barva) jsou postupně vytvořeny vstupní objekty a jeden z nich (původní řetezec) je opatřen proměnnou `s`.  Ve druhé fázi (modré) se vykoná volání metody, jehož výsledkem je nový objekt se zaměněnými znaky. Třetí (červená) fáze je přiřazení: odkaz v proměnné je přesměrován na nový objekt (štítek je odlepen z původného objektu a přilepen na nový). Po skončení je dostupný pouze jediný objekt (změněný řetězec). Ostatní objekty už vlastně neexistují. "
   ]
  },
  {
   "cell_type": "markdown",
   "metadata": {},
   "source": [
    "Zaměňovat lze samozřejmě i delší podřetězce:"
   ]
  },
  {
   "cell_type": "code",
   "execution_count": 64,
   "metadata": {},
   "outputs": [
    {
     "name": "stdout",
     "output_type": "stream",
     "text": [
      "Bilbo & Sam\n"
     ]
    }
   ],
   "source": [
    "s = \"Frodo & Sam\"\n",
    "s = s.replace(\"Frodo\", \"Bilbo\")\n",
    "print(s)"
   ]
  },
  {
   "cell_type": "markdown",
   "metadata": {},
   "source": [
    "Pokud máte ještě složitější požadavky, lze využít funkci `re.sub`, která umožňuje definovat nahrazované řetězce pomocí regulárního výrazu. Jako příklad uveďme nahrazení všech celých čísel v řetězci otazníkem (celé číslo je nahrazeno jediným otazníkem)."
   ]
  },
  {
   "cell_type": "code",
   "execution_count": 68,
   "metadata": {},
   "outputs": [
    {
     "name": "stdout",
     "output_type": "stream",
     "text": [
      "? stříbrných stříkaček stříkalo přes ? stříbrných střech\n"
     ]
    }
   ],
   "source": [
    "s = \"333 stříbrných stříkaček stříkalo přes 333 stříbrných střech\"\n",
    "s = re.sub(\"[0123456789]+\", \"?\", s) # i zde se původní řetězec nemění\n",
    "print(s)"
   ]
  },
  {
   "cell_type": "markdown",
   "metadata": {},
   "source": [
    "Všimněte si, že funkce `re.sub` (není to metoda, `re` není objekt, na nějž je volána, ale modul) má tři parametry v pořadí regulární výraz určující nahrazovanou část (zde libovolná posloupnost číslic), nahrazující řetězec (znak otazníku) a teprve třetím je řetězec, v němž se náhrady provedou (`sub` je zkrácené anglické `substitute`)."
   ]
  },
  {
   "cell_type": "markdown",
   "metadata": {},
   "source": [
    ">**Úkol**: Vytvořte program, který přečte řetězec a nahradí vícenásobné mezery (tj. mezery tvořené dvěma a více znaky mezer) za mezery jednoduché. To je užitečné, neboť v vložení více mezer za sebou je typickou chybou při zadávání textů. Opravený text následně vypište."
   ]
  },
  {
   "cell_type": "code",
   "execution_count": 69,
   "metadata": {
    "tags": [
     "h"
    ]
   },
   "outputs": [
    {
     "name": "stdout",
     "output_type": "stream",
     "text": [
      "Jiří    Fišer\n",
      "Jiří Fišer\n"
     ]
    }
   ],
   "source": [
    "vstup = input()\n",
    "vstup = re.sub(\"  +\", \" \", vstup)  # regulární výraz obsahuje dvě mezery za sebou (druhá se může opakovat)\n",
    "print(vstup)"
   ]
  },
  {
   "cell_type": "markdown",
   "metadata": {},
   "source": [
    "S úpravou víceznakových mezer souvisí i další požadavek. Při zadávání formalizovaných řetězců je nutno preventivně odstraňovat mezery na počátku řetězce a především mezery na jeho konci (ty jsou ve většině případů zcela neviditelné, přesto však mohou negativně ovlivňovat porovnání (i když se řetězce na první pohled neliší, strojově se jedná o dva odlišné řetězce, které se liší už v počtu znaků).\n",
    "\n",
    "Požadavek na odstranění počátečních a koncových mezer se vyskytuje tak často, že pro něj existuje speciální metida (resp. hned několik speciálních metod)."
   ]
  },
  {
   "cell_type": "code",
   "execution_count": 72,
   "metadata": {},
   "outputs": [
    {
     "name": "stdout",
     "output_type": "stream",
     "text": [
      "Jiří    Fišer   \n",
      "  Jiří    Fišer\n",
      "Jiří    Fišer\n"
     ]
    }
   ],
   "source": [
    "jmeno = \"  Jiří    Fišer   \"   # řetězec s nadbytečnými mezerami (na začátku, uprostřed i na  konci)\n",
    "print( jmeno.lstrip()) # vrací nový řetězec s odstraněnými mezerami na začátku (vlevo = left)\n",
    "print( jmeno.rstrip()) # vrací nový řetězec s odstraněnými mezerami na konci (vpravo = right)\n",
    "print( jmeno.strip())  # vrací nových řetezec bez počátečnách i koncových mezer"
   ]
  },
  {
   "cell_type": "markdown",
   "metadata": {},
   "source": [
    "Všiměnte si, že odstranění mezer na konci se vizuálně nijak neprojevilo. Navíc se neodstranili vícenásobné mezery uvnitř (resp. přesněji nenahradily za jednoduchou mezeru). Pro tento účel je nutno spojit metodu `strip` se substitucí pomocí regulárního výrazu:"
   ]
  },
  {
   "cell_type": "code",
   "execution_count": 73,
   "metadata": {},
   "outputs": [
    {
     "data": {
      "text/plain": [
       "'Jiří Fišer'"
      ]
     },
     "execution_count": 73,
     "metadata": {},
     "output_type": "execute_result"
    }
   ],
   "source": [
    "re.sub(\"  +\", \" \", jmeno.strip())"
   ]
  },
  {
   "cell_type": "markdown",
   "metadata": {},
   "source": [
    "Nejdříve se odstraní mezery na počátku a na konci (`strip`) a pak se nahradí vícenásobné mezery za jednoduché. Lze to udělat i obráceně:"
   ]
  },
  {
   "cell_type": "code",
   "execution_count": 75,
   "metadata": {},
   "outputs": [
    {
     "data": {
      "text/plain": [
       "'Jiří Fišer'"
      ]
     },
     "execution_count": 75,
     "metadata": {},
     "output_type": "execute_result"
    }
   ],
   "source": [
    "re.sub(\"  +\", \" \", jmeno).strip()"
   ]
  },
  {
   "cell_type": "markdown",
   "metadata": {},
   "source": [
    "Toto řešení může být o něco méně efektivní, neboť zjednodušujeme i ty vícenádobné mezery, které nakonec stejně odstraníme metodou `strip` (což je pravděpodobně o něco rychlejší než substituce). Tuto teorii v Jupyteru snadno ověříme."
   ]
  },
  {
   "cell_type": "code",
   "execution_count": 79,
   "metadata": {},
   "outputs": [
    {
     "name": "stdout",
     "output_type": "stream",
     "text": [
      "1.47 µs ± 3.38 ns per loop (mean ± std. dev. of 7 runs, 1000000 loops each)\n"
     ]
    }
   ],
   "source": [
    "%timeit re.sub(\"  +\", \" \", jmeno.strip())"
   ]
  },
  {
   "cell_type": "code",
   "execution_count": 80,
   "metadata": {},
   "outputs": [
    {
     "name": "stdout",
     "output_type": "stream",
     "text": [
      "1.79 µs ± 29.1 ns per loop (mean ± std. dev. of 7 runs, 100000 loops each)\n"
     ]
    }
   ],
   "source": [
    "%timeit re.sub(\"  +\", \" \", jmeno).strip()"
   ]
  },
  {
   "cell_type": "markdown",
   "metadata": {},
   "source": [
    "Rozdíl opravdu existuje, není však příliš velký. První postup je cca 20% rychlejší."
   ]
  },
  {
   "cell_type": "markdown",
   "metadata": {},
   "source": [
    "Poslední užitečnou dvojicí jsou funkce, které nahrazují velká písmena (verzálky) za malá (minusky) a vice versa (samozřejmě opět vytvořením nového řetězce)."
   ]
  },
  {
   "cell_type": "code",
   "execution_count": 85,
   "metadata": {},
   "outputs": [
    {
     "name": "stdout",
     "output_type": "stream",
     "text": [
      "minas tirith\n",
      "MINAS TIRITH\n",
      "Minas Tirith\n"
     ]
    }
   ],
   "source": [
    "s = \"Minas tirith\"\n",
    "\n",
    "print(s.lower())  # velká na malá (ostatní beze změny)\n",
    "print(s.upper())  # malá na velká (ostatní beze změny)\n",
    "\n",
    "print(s.title())  # malá na velká na začátku slov"
   ]
  },
  {
   "cell_type": "markdown",
   "metadata": {},
   "source": [
    "Tyto funkce se opět hodí při porovnání, V tomto případě tehdy, pokud se nemá brát zřetel na velikost písmen."
   ]
  },
  {
   "cell_type": "code",
   "execution_count": 86,
   "metadata": {},
   "outputs": [
    {
     "name": "stdout",
     "output_type": "stream",
     "text": [
      "Město: ústí Nad labem\n",
      "Sídlo UJEP\n"
     ]
    }
   ],
   "source": [
    "s = input(\"Město: \")\n",
    "if s.lower() == \"ústí nad labem\":  # porovnáváme v malých písmenech bez ohledu na vstup\n",
    "    print(\"Sídlo UJEP\")"
   ]
  },
  {
   "cell_type": "code",
   "execution_count": null,
   "metadata": {
    "collapsed": true
   },
   "outputs": [],
   "source": []
  }
 ],
 "metadata": {
  "celltoolbar": "Tags",
  "kernelspec": {
   "display_name": "Python 3",
   "language": "python",
   "name": "python3"
  },
  "language_info": {
   "codemirror_mode": {
    "name": "ipython",
    "version": 3
   },
   "file_extension": ".py",
   "mimetype": "text/x-python",
   "name": "python",
   "nbconvert_exporter": "python",
   "pygments_lexer": "ipython3",
   "version": "3.7.4"
  }
 },
 "nbformat": 4,
 "nbformat_minor": 2
}
