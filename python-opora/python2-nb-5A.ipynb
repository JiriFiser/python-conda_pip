{
 "cells": [
  {
   "cell_type": "markdown",
   "metadata": {},
   "source": [
    "# Polymofismus"
   ]
  },
  {
   "cell_type": "markdown",
   "metadata": {},
   "source": [
    "Polymorfismus je vlastnost programovacího jazyka vytvářet kódy, které jsou použitelné pro objekty několika různých typů (v OOP tříd). Podpora polymorfismu je klíčovým rysem moderních programovacích jazyků, neboť jen s pomocí polymorfismu lze psát flexibilní a přitom stručné a přehledné programy. Je klíčový především pro objektově orientované jazyka, v nichž je vytváření tříd základním prostředkem tvorby komplexnější programů (OOP jazyky musí být polymorfní od narození)."
   ]
  },
  {
   "cell_type": "markdown",
   "metadata": {},
   "source": [
    "Podívejme se na dva triviální příklady polymorfismu:"
   ]
  },
  {
   "cell_type": "code",
   "execution_count": 2,
   "metadata": {},
   "outputs": [],
   "source": [
    "def first(collection): # polymorfní funkce vracející první prvek z kolekce\n",
    "    return collection[0]"
   ]
  },
  {
   "cell_type": "markdown",
   "metadata": {},
   "source": [
    "Tuto funkci lze zavolat na instance překvapivě velkého množství tříd."
   ]
  },
  {
   "cell_type": "code",
   "execution_count": 4,
   "metadata": {},
   "outputs": [
    {
     "data": {
      "text/plain": [
       "2"
      ]
     },
     "execution_count": 4,
     "metadata": {},
     "output_type": "execute_result"
    }
   ],
   "source": [
    "first([2,3,5]) #seznamu"
   ]
  },
  {
   "cell_type": "code",
   "execution_count": 5,
   "metadata": {},
   "outputs": [
    {
     "data": {
      "text/plain": [
       "(2, 3, 5)"
      ]
     },
     "execution_count": 5,
     "metadata": {},
     "output_type": "execute_result"
    }
   ],
   "source": [
    "first([(2,3,5)]) # n-tice"
   ]
  },
  {
   "cell_type": "code",
   "execution_count": 6,
   "metadata": {},
   "outputs": [
    {
     "data": {
      "text/plain": [
       "'S'"
      ]
     },
     "execution_count": 6,
     "metadata": {},
     "output_type": "execute_result"
    }
   ],
   "source": [
    "first(\"Sílor\") #řetězce"
   ]
  },
  {
   "cell_type": "markdown",
   "metadata": {},
   "source": [
    "A mnoha dalších (zkuste nějaké ještě najít)."
   ]
  },
  {
   "cell_type": "markdown",
   "metadata": {},
   "source": [
    "Tento kód však není absolutně polymorfní tj. nelze jej využít pro objekty libovolné třídy."
   ]
  },
  {
   "cell_type": "code",
   "execution_count": 8,
   "metadata": {},
   "outputs": [
    {
     "ename": "TypeError",
     "evalue": "'int' object is not subscriptable",
     "output_type": "error",
     "traceback": [
      "\u001b[0;31m---------------------------------------------------------------------------\u001b[0m",
      "\u001b[0;31mTypeError\u001b[0m                                 Traceback (most recent call last)",
      "\u001b[0;32m<ipython-input-8-78c8d34524cd>\u001b[0m in \u001b[0;36m<module>\u001b[0;34m\u001b[0m\n\u001b[0;32m----> 1\u001b[0;31m \u001b[0mfirst\u001b[0m\u001b[0;34m(\u001b[0m\u001b[0;36m2\u001b[0m\u001b[0;34m)\u001b[0m \u001b[0;31m# číslo nemá žádné podprvky a proto nemá smysl vrátit první\u001b[0m\u001b[0;34m\u001b[0m\u001b[0;34m\u001b[0m\u001b[0m\n\u001b[0m",
      "\u001b[0;32m<ipython-input-2-d9dc9dc04e8c>\u001b[0m in \u001b[0;36mfirst\u001b[0;34m(collection)\u001b[0m\n\u001b[1;32m      1\u001b[0m \u001b[0;32mdef\u001b[0m \u001b[0mfirst\u001b[0m\u001b[0;34m(\u001b[0m\u001b[0mcollection\u001b[0m\u001b[0;34m)\u001b[0m\u001b[0;34m:\u001b[0m \u001b[0;31m# polymorfní funkce vracející první prvek z kolekce\u001b[0m\u001b[0;34m\u001b[0m\u001b[0;34m\u001b[0m\u001b[0m\n\u001b[0;32m----> 2\u001b[0;31m     \u001b[0;32mreturn\u001b[0m \u001b[0mcollection\u001b[0m\u001b[0;34m[\u001b[0m\u001b[0;36m0\u001b[0m\u001b[0;34m]\u001b[0m\u001b[0;34m\u001b[0m\u001b[0;34m\u001b[0m\u001b[0m\n\u001b[0m",
      "\u001b[0;31mTypeError\u001b[0m: 'int' object is not subscriptable"
     ]
    }
   ],
   "source": [
    "first(2) # číslo nemá žádné podprvky a proto nemá smysl vrátit první"
   ]
  },
  {
   "cell_type": "code",
   "execution_count": 9,
   "metadata": {},
   "outputs": [
    {
     "ename": "TypeError",
     "evalue": "'set' object is not subscriptable",
     "output_type": "error",
     "traceback": [
      "\u001b[0;31m---------------------------------------------------------------------------\u001b[0m",
      "\u001b[0;31mTypeError\u001b[0m                                 Traceback (most recent call last)",
      "\u001b[0;32m<ipython-input-9-6c149821d405>\u001b[0m in \u001b[0;36m<module>\u001b[0;34m\u001b[0m\n\u001b[0;32m----> 1\u001b[0;31m \u001b[0mfirst\u001b[0m\u001b[0;34m(\u001b[0m\u001b[0;34m{\u001b[0m\u001b[0;36m1\u001b[0m\u001b[0;34m,\u001b[0m\u001b[0;36m2\u001b[0m\u001b[0;34m,\u001b[0m\u001b[0;36m3\u001b[0m\u001b[0;34m}\u001b[0m\u001b[0;34m)\u001b[0m\u001b[0;34m\u001b[0m\u001b[0;34m\u001b[0m\u001b[0m\n\u001b[0m",
      "\u001b[0;32m<ipython-input-2-d9dc9dc04e8c>\u001b[0m in \u001b[0;36mfirst\u001b[0;34m(collection)\u001b[0m\n\u001b[1;32m      1\u001b[0m \u001b[0;32mdef\u001b[0m \u001b[0mfirst\u001b[0m\u001b[0;34m(\u001b[0m\u001b[0mcollection\u001b[0m\u001b[0;34m)\u001b[0m\u001b[0;34m:\u001b[0m \u001b[0;31m# polymorfní funkce vracející první prvek z kolekce\u001b[0m\u001b[0;34m\u001b[0m\u001b[0;34m\u001b[0m\u001b[0m\n\u001b[0;32m----> 2\u001b[0;31m     \u001b[0;32mreturn\u001b[0m \u001b[0mcollection\u001b[0m\u001b[0;34m[\u001b[0m\u001b[0;36m0\u001b[0m\u001b[0;34m]\u001b[0m\u001b[0;34m\u001b[0m\u001b[0;34m\u001b[0m\u001b[0m\n\u001b[0m",
      "\u001b[0;31mTypeError\u001b[0m: 'set' object is not subscriptable"
     ]
    }
   ],
   "source": [
    "first({1,2,3}) # to už je trochu překvapivější, ale ani množina nemá první prvek"
   ]
  },
  {
   "cell_type": "markdown",
   "metadata": {},
   "source": [
    "Absolutně polymorfní kód je relativně těžké napsat (objekty mají jen málo věcí univerzálně sdílených). Metoda `identical` testuje, zda jsou dva objekty identické, Využívá funkci `id`, která vrací jednoznačný číselný identifikátor každého objektu (typicky je to adresa objektu v paměti)."
   ]
  },
  {
   "cell_type": "code",
   "execution_count": 10,
   "metadata": {},
   "outputs": [],
   "source": [
    "def identical(a,b):\n",
    "    return id(a) == id(b)"
   ]
  },
  {
   "cell_type": "code",
   "execution_count": 11,
   "metadata": {},
   "outputs": [
    {
     "data": {
      "text/plain": [
       "True"
      ]
     },
     "execution_count": 11,
     "metadata": {},
     "output_type": "execute_result"
    }
   ],
   "source": [
    "identical(2, 2)"
   ]
  },
  {
   "cell_type": "code",
   "execution_count": 12,
   "metadata": {},
   "outputs": [
    {
     "data": {
      "text/plain": [
       "True"
      ]
     },
     "execution_count": 12,
     "metadata": {},
     "output_type": "execute_result"
    }
   ],
   "source": [
    "identical(\"a\", \"a\")"
   ]
  },
  {
   "cell_type": "code",
   "execution_count": 13,
   "metadata": {},
   "outputs": [
    {
     "data": {
      "text/plain": [
       "False"
      ]
     },
     "execution_count": 13,
     "metadata": {},
     "output_type": "execute_result"
    }
   ],
   "source": [
    "identical([],[]) # ale dva prázdné seznamy nejsou identické"
   ]
  },
  {
   "cell_type": "markdown",
   "metadata": {},
   "source": [
    "> **Poznámka:** Namísto porovnání číslených identifikátorů lze samozřejmě využít **polymorfní** operátor `is`."
   ]
  },
  {
   "cell_type": "markdown",
   "metadata": {},
   "source": [
    "Programovací jazyky poskytují různé mechanismy pro podporu polymorfirmu. Python nabízí tři z nich:\n",
    "1. automatické (implicitní) přetypování (v Pythonu relativně okrajový mechanismus využívaný v Pythonu jen v případě přetypování mezi čísly)\n",
    "2. duck typing (dynamické typování) — hlavní prostředek polymorfismu v Pythonu\n",
    "3. dědičnost (dědičnost nabízí polymorfismus jako důsledek specifičtějšího mechanismu)"
   ]
  },
  {
   "cell_type": "markdown",
   "metadata": {},
   "source": [
    "## Duck typing"
   ]
  },
  {
   "cell_type": "markdown",
   "metadata": {},
   "source": [
    "*Duck typing* (český překlad *kachní typování* se zatím neujal) vychází z následující úvahy:\n",
    "\n",
    "```\n",
    "If it looks like a duck, swims like a duck, and quacks like a duck, then it probably is a duck.\n",
    "```"
   ]
  },
  {
   "cell_type": "markdown",
   "metadata": {},
   "source": [
    "Autorem je americký básník *James Whitcomb Riley* a ukazuje přirozený přístup logického uvažování. Na to abychom poznali kachnu, tak není zapotřebí, aby byla opatřena visačkou `kachna` stačí jen, pokud se chová jako kachna (přesněji jen v námi požadovaném kontextu, věta například nepožaduje, abychom zkoumali její rozmnožování, což je ve skutečnosti to, podle čeho o příslušnosti jedince k druhu rozhoduje biologie)."
   ]
  },
  {
   "cell_type": "markdown",
   "metadata": {},
   "source": [
    "> **Poznámka**: Detailnější diskusi tohoto tzv. kachního testu najdete na anglické Wikipedii (https://en.wikipedia.org/wiki/Duck_test).\n",
    ">\n",
    "> Pro hlubší pochopení problematiky doporučuji hlavně dvě parafráze:\n",
    ">\n",
    ">```\n",
    ">If it looks like a duck, and quacks like a duck, we have at least to consider the possibility that we have a small aquatic bird of the family Anatidae on our hands.\n",
    ">```\n",
    ">Douglas Adams\n",
    ">\n",
    ">```\n",
    ">If it looks like a terrorist, if it acts like a terrorist, if it walks like a terrorist, if it fights like a terrorist, it's a terrorist, right?\n",
    ">```\n",
    ">Сергей Викторович Лавров"
   ]
  },
  {
   "cell_type": "markdown",
   "metadata": {},
   "source": [
    "V kontextu programovacích jazyků je důsledkem aplikace \"kachního\" přístupu, důraz na to jak se objekt chová a nikoliv na to, jaké je konkrétní třídy.\n",
    "\n",
    "V naší funkci `first` klademe na objekt jediné dva požadavky:\n",
    "1. podporuje indexaci (od nuly), tj. speciální metodu `__index__`\n",
    "2. má alespoň jeden prvek (to většina typových systémů nedokáže popsat, takže se tento aspekt nezohledňuje)\n",
    "\n",
    "Nikde se neuvádí jméno třídy tohoto objektu, a je to nejen zbytečné, ale i kontraproduktivní. Pokud uděláme rybníček pro kachny, pak je výhodné, pokud ho mohou používat i husy. Podobně pokud si uděláme řidičák pro auta, je rozumné ho uznávat i pro malé motocykly.\n",
    "\n",
    "Někdy bývá dokonce složité pojmenovat skupinu tříd, pro něž je daný polymorfní kód určen. Většinou se používá:\n",
    "1. obecný název, pokud je k dispozici (zde například by to byla [neprázdná] *sekvence*)\n",
    "2. označení typického zástupce se zevšeobecňující příponou (*list-like*, česky snad seznamovité objekty)\n",
    "3. označení podle funkce (*indexable* respektove *indexovatelné*)\n"
   ]
  },
  {
   "cell_type": "markdown",
   "metadata": {},
   "source": [
    "Obecně lze říci, že dva objekty lze používat polymorfně (tj. lze napsat polymorfní kód, který pracuje s oběma objekty), pokud oba mají metodu, která:\n",
    "1. má stejný identifikátor\n",
    "2. má kompatibilní parametry (definice kompatibility parametrů je v Pythonu dosti komplexní; v zásadě lze říct, jsou kompatibilní, pokud obě metody přijímají požadované skutečné parametry)\n",
    "3. má kompatibilní návratovou hodnotu (pokud je využívána, pak obě metody musí vracet objekt stejného typu nebo objekty, které lze v daném kontextu zaměňovat(tj. nemusí být nutně stejného typu)\n",
    "4. splňují tzv. kontrakt tj.\n",
    "    1. stejně interpretují vstupní parametry\n",
    "    2. vracejí požadované výstupní hodnoty \n",
    "    3. požadovaným způsobem modifikují (resp. nemodifikují) zůčastněné objekty (klíčový je objekt `self`)\n",
    "    4. požadovaným způsobem interagují s okolím (např. s operačním systémem, uživatelem, vzdálenou službou)\n",
    "    5. vyhazují požadované výjimky"
   ]
  },
  {
   "cell_type": "markdown",
   "metadata": {},
   "source": [
    "Z těchto požadavků je snadno popsatelný jen první požadavek a také je nejsnadněji detekovatelný. Naopak čtvrtý požadavek, se často specifikuje je obtížně a také se jeho splnění špatně detekuje (běžně vyžaduje vytvoření pomocného kódu pro tzv. `unit testing`)"
   ]
  },
  {
   "cell_type": "markdown",
   "metadata": {},
   "source": [
    "Podívejme se na jednoduchý příklad. Předpokládejme objekt, který representuje nějakou metriku. Metrika je objekt (v matematickém pojetí) funkce, která definuje vzdálenost mezi dvěma body."
   ]
  },
  {
   "cell_type": "markdown",
   "metadata": {},
   "source": [
    "Nejdříve si definujme detailní požadavky na objekty metrik (všimněte si, že se vyhýbám slovu třída).\n",
    "\n",
    "1. mají metodu distance\n",
    "2. tato metoda přijímá dva parametry, jimiž jsou dvojice dvou reálných čísel\n",
    "3. vrací reálné číslo\n",
    "4. a splňující tento kontrakt\n",
    "   1. vstupní hodnoty se interpretují jako kartézské souřadnice bodů (ve stejné soustavě souřadnic) \n",
    "   2. výsledkem je vzdálenost (ta musí splňovat pravidla pro metriky \n",
    "   viz https://cs.wikipedia.org/wiki/Metrick%C3%BD_prostor#Definice\n",
    "   3. volání nemodifikuje objekt `self` (tj. zjištění vzdálenosti dvou bodů nemá vliv na výpočet \n",
    "   vzdálenosti ostatních), parametry se přirozeně také nemění (což je ale u čísel v Pythonu standardem)\n",
    "   4. nevzniká žádná výjimka (výjimky na pozadí, vznikající například při nedostatku paměti se nepočítají) "
   ]
  },
  {
   "cell_type": "markdown",
   "metadata": {},
   "source": [
    "Uveďme ukázkovou implementaci třídy, jejíž objekty splňují výše uvedené požadavky. Realizovaná metrika, je klasická euklidovská (https://mathworld.wolfram.com/EuclideanMetric.html):"
   ]
  },
  {
   "cell_type": "code",
   "execution_count": 4,
   "metadata": {},
   "outputs": [],
   "source": [
    "import math\n",
    "\n",
    "class EuclideanMetric:\n",
    "    def distance(self, p1, p2):\n",
    "        x1, y1 = p1\n",
    "        x2, y2 = p2\n",
    "        return math.sqrt((x1-x2)**2 + (y1-y2)**2)"
   ]
  },
  {
   "cell_type": "code",
   "execution_count": 6,
   "metadata": {},
   "outputs": [
    {
     "name": "stdout",
     "output_type": "stream",
     "text": [
      "1.4142135623730951\n"
     ]
    }
   ],
   "source": [
    "# základní test funkčnosti\n",
    "\n",
    "m = EuclideanMetric()\n",
    "print(m.distance((1.0, 1.0), (2.0, 2.0)))"
   ]
  },
  {
   "cell_type": "markdown",
   "metadata": {},
   "source": [
    "Pro ukázku polymorfismu musíme vytvořit ještě jednu třídu, jejíž objekty splňují naše požadavky- Zvolíme tzv. Manhattanskou distanci ("
   ]
  },
  {
   "cell_type": "code",
   "execution_count": 10,
   "metadata": {},
   "outputs": [],
   "source": [
    "class TaxicabMetric:\n",
    "    def distance(self, p1, p2):\n",
    "        x1, y1 = p1\n",
    "        x2, y2 = p2\n",
    "        return abs(x1-x2) + abs(y1-y2)"
   ]
  },
  {
   "cell_type": "code",
   "execution_count": 11,
   "metadata": {},
   "outputs": [
    {
     "name": "stdout",
     "output_type": "stream",
     "text": [
      "2.0\n"
     ]
    }
   ],
   "source": [
    "m = TaxicabMetric()\n",
    "print(m.distance((1.0, 1.0), (2.0, 2.0)))"
   ]
  },
  {
   "cell_type": "markdown",
   "metadata": {},
   "source": [
    "> **Úkol**: Prostudujte Manhattanskou metriku (metriku). Proč je v některých případech využívána namísto euklidovské?"
   ]
  },
  {
   "cell_type": "markdown",
   "metadata": {},
   "source": [
    "Nyní již můžeme psát polymorfní kódy. Například následující funkce zjistí, jaký ze dvou bodů je bližší počátečnímu bodu a to v dané metrice."
   ]
  },
  {
   "cell_type": "code",
   "execution_count": 14,
   "metadata": {},
   "outputs": [
    {
     "name": "stdout",
     "output_type": "stream",
     "text": [
      "(1, 2)\n"
     ]
    }
   ],
   "source": [
    "def nearest(start, a, b, metric):\n",
    "    return a if metric.distance(start, a) < metric.distance(start, b) else b\n",
    "\n",
    "print(nearest((0,0), (1,2), (-2,3), EuclideanMetric()))"
   ]
  },
  {
   "cell_type": "markdown",
   "metadata": {},
   "source": [
    "Tento kód je polymorfní, neboť dokáže pracovat s objekty různých tříd. V případě parametru `metric` jsou to objekty obou tříd splňující naše požadavky."
   ]
  },
  {
   "cell_type": "code",
   "execution_count": 15,
   "metadata": {},
   "outputs": [
    {
     "name": "stdout",
     "output_type": "stream",
     "text": [
      "(1, 2)\n"
     ]
    }
   ],
   "source": [
    "print(nearest((0.0, 0.0), (1.2,2.0), (-2.0,3.0), TaxicabMetric()))"
   ]
  },
  {
   "cell_type": "markdown",
   "metadata": {},
   "source": [
    "Navíc to může být potenciálně i objekt i jiných prozatím ještě neexistujících tříd. Tato *otevřenost* je typická pro většinu mechanismů polymorfismu.  Dalším typickým rysem pythonského polymorfismu je dynamický charekter. O tom, jaká verze metody `distance` se rozhodne až při vykonávání kódu (nikoliv při jeho překladu)."
   ]
  },
  {
   "cell_type": "markdown",
   "metadata": {},
   "source": [
    "> **Úkol**: Definujte třídu pro Chebyševovu metriku (viz https://en.wikipedia.org/wiki/Chebyshev_distance) a  vyzkoušejte, zda funguje s naší polymorfní funkcí.\n",
    "\n",
    "> **Poznámka**: Funkce `nearest` je samozřejmě polymorfní i v ostatních parametrech. Body lze například zadávat jako seznnam celých čísel. Ve skutečnosti, je v Pythonu obtížné napsat kód, který není polymorfní."
   ]
  },
  {
   "cell_type": "markdown",
   "metadata": {},
   "source": [
    "> **Úkol**: Popište, co musí splňovat objekty, který musí být parametrem následující funkce (především ten první označený `seq`). Uveďte několik tříd, jejichž objekty, tyto požadavky splňují."
   ]
  },
  {
   "cell_type": "code",
   "execution_count": 16,
   "metadata": {},
   "outputs": [],
   "source": [
    "def in_zone(seq, minval, maxval):\n",
    "    for value in seq:\n",
    "        if not (minval <= value  <= maxval):\n",
    "            return False\n",
    "    return True"
   ]
  },
  {
   "cell_type": "markdown",
   "metadata": {},
   "source": [
    "Příklad využití:"
   ]
  },
  {
   "cell_type": "code",
   "execution_count": 19,
   "metadata": {},
   "outputs": [
    {
     "data": {
      "text/plain": [
       "False"
      ]
     },
     "execution_count": 19,
     "metadata": {},
     "output_type": "execute_result"
    }
   ],
   "source": [
    "in_zone([2,1,3,6], 0, 5)"
   ]
  },
  {
   "cell_type": "markdown",
   "metadata": {
    "tags": [
     "h"
    ]
   },
   "source": [
    "Parametr `seq` musí umožnovat iteraci (postupné procházení), přičemž každá vrácená položka musí umožňovat vzájemné porovnání s hodnotami `mainval` a `maxval`. Na ty se jinak nekladou žádné další požadavky. Obecně (i když nikoliv zcela přesně) jsou to iterátory přes hodnoty s definovaným uspořádáním.\n",
    "\n",
    "Příklady (sami vyzkoušejte):\n",
    "* seznam celých čísel (hodnoty `minval` a `maxval` by měly být číselné), vrací zda jsou všechny čísla v intervalu\n",
    "* řetězec (hodnoty `minval` a `maxval` by měly být jednoznakové řetězce), vrací zda všechny znaky v Unicode sadě mezi těmito znaky\n",
    "* textový proud (získaný např. voláním `open`, vrací zda jsou všechny řádky lexikograficky mezi řetězci `minval` a `maxval`)"
   ]
  },
  {
   "cell_type": "markdown",
   "metadata": {},
   "source": [
    "Dynamický polymorfismus v Pythonu není *nominální* (což je typická vlastnost *duck typingu*). To znamená, že nezáleží na nejakém formálním označení či sdílené značce (*tagu*) sdílené na úrovni tříd (tj.třídy např. nemusí mít společný prefix v názvu, nemusí mít nějaký společný metatribut apod.)\n",
    "\n",
    "Příklad ze života: Pokud vyhlásíme fotbalový turnaj, kterého se mohou zúčastnit všechny týmy, které souhlasí s pravidly (a podepíší to při jeho zahájení) a mlčky předpokládáme, že umí hrát fotbal, pak to není nominální polymorfismus. Pokud však vyžadujeme např. aby byly členy nějaké organizace (což je atribut týmu) nebo působili v nějakém městě, pak už se jedná o nominální polymorfismus (týmy musí něco nominálně splňovat).\n",
    "\n",
    "Tento přístup je velmi flexibilné avšak na druhou stranu komplikuje zjištění, zda je nějaký objekt skutečně splňuje požadavky příslušného polymorfního kódu. Jedinou možností, jak to ověřit, je objekt použít. Musíme však být připraveni, že (v lepším případě) vznikne nějaká neočekávaná výjimka (například výjimka signalizující, že objekt případnou metodu nemá) v horším případě to vede k nedefinovanému chování (podivné hodnoty)."
   ]
  },
  {
   "cell_type": "markdown",
   "metadata": {},
   "source": [
    "### Abstraktní bázové třídy"
   ]
  },
  {
   "cell_type": "markdown",
   "metadata": {},
   "source": [
    "Python tento problém řeší pomocí tzv. abstraktních bázových tříd (*abstract base class* zkratka *ABC*). To je nepovinný prostředek jak nominálně označkovat, že daná třída splňuje určitý protokol tj. množinu metod. \n",
    "\n",
    "Abstraktní bázové třídy tvoří hierachii, kdy každá třída může rozšiřovat jinou abstraktní třídu (označováno jako `inheritance`, ale má to jen velmi málo společného s dědičností uvedenou v další kapitole). V tomto případě musí objekt splňující danou abstraktní třídu splňovat i protokol třídy, kteroz rožšiřuje (a tak rekurzivně dál).\n",
    "\n",
    "Prostředek se ve standardní knihovně omezuje v zásadě jen na tři typy objektů:\n",
    "* čísla (vytváří základní hierarchii čísel, viz modul `numbers` a jeho dokumentace https://docs.python.org/3.8/library/numbers.html)\n",
    "* kolekce (vytváří hierarchii různých obecných druhů kolekcí, viz modul`collections.abc` https://docs.python.org/3/library/collections.abc.html)\n",
    "* proudy (viz https://docs.python.org/3/library/io.html#class-hierarchy)\n",
    "\n",
    "Jako příklad se podívejme na klíčovou abstraktní třídu `collections.abc.Sequence`.\n",
    "\n",
    "Každý objekt, který se chce prohlásit za nemodifikovatelnou sekvenci (a být plnohodnotně používán v polymorfním kódu pracujícím nad sekvencemi) musí:\n",
    "1. Implementovat speciální metodu `__getitem__`, která zajišťuje podporu indexace \n",
    "2. implementovány metod dvou dalších abstraktních tříd a to `Reversible` a `Collection`\n",
    "\n",
    "Třída `collections.abc.Reversible` vyžaduje implementaci reverzního iterátoru (je získán voláním metody `reversed` a prochází sekvenci od posledního prvku k prvnímu), což je zajímavý rys typický pouze pro Python.\n",
    "\n",
    "Třída `collections.abc.Collection` ve skutečnosti nevyžaduje žádné specifické metody, neboť metody uvedené v sloupci `Abstract methods` jen opakují metody vyžadované třemi triviálními abstraktními třídami:\n",
    "\n",
    "* `__contains__`: testovaní, zda je prvek obsažen v kontejneru, využíváno operátorem `in` (převzato ze třídy `collections.abc.Container`)\n",
    "* `__len__`: zjištění počtu prvků (využíváno funkcí `len`), převzato ze třídy `collections.abc.Sized` (český ekvivalent mne nenapadá, snad *Počitatelné*)\n",
    "* `__iter__`: vrací běžný (dopředný) iterátor, je tak zřejmé, že sekvence jsou tzv iterovatelné tj. lze je procházet prvek po prvku (implementují správným způsobem  speciální metodu `__iter_` a tak splňují abstraktní třídu collections.abc.Iterable).`"
   ]
  },
  {
   "cell_type": "markdown",
   "metadata": {},
   "source": [
    "> **Úkol**: Ověřte, že n-tice splňuje rozhraní (protokol) abstraktní třídy sekvence."
   ]
  },
  {
   "cell_type": "code",
   "execution_count": 5,
   "metadata": {
    "tags": [
     "h"
    ]
   },
   "outputs": [
    {
     "name": "stdout",
     "output_type": "stream",
     "text": [
      "3\n",
      "True\n",
      "[1, 2, 3]\n",
      "[3, 2, 1]\n"
     ]
    },
    {
     "data": {
      "text/plain": [
       "1"
      ]
     },
     "execution_count": 5,
     "metadata": {},
     "output_type": "execute_result"
    }
   ],
   "source": [
    "t = (1,2,3)\n",
    "print(len(t)) # je počitatelná\n",
    "print(2 in t) # je to kontejner, v němž lze procházet\n",
    "print(list(iter(t))) # funguje iterátor (je jím naplněn seznam)\n",
    "print(list(reversed(t))) # funguje reversní iterátor\n",
    "t[0] # a funguje indexace"
   ]
  },
  {
   "cell_type": "markdown",
   "metadata": {},
   "source": [
    "Formální (nominální) ověření, že objekt splňuje všechny požadavky abstraktní třídy (překladač však přirozeně nic nekontroluje). Nejjednodušší je využití vestavěné funkce `isinstance`, která ověřuje, zda je objekt instancí dané třídy. Kromě třídy, ze které objekt vznikl, zohledňuje i složitější případy včetně nominální implementace dané třídy (a také dědičnost, k níž se dostaneme za chvíli)."
   ]
  },
  {
   "cell_type": "code",
   "execution_count": 6,
   "metadata": {},
   "outputs": [
    {
     "data": {
      "text/plain": [
       "True"
      ]
     },
     "execution_count": 6,
     "metadata": {},
     "output_type": "execute_result"
    }
   ],
   "source": [
    "from collections.abc import Sequence\n",
    "isinstance(t, Sequence)"
   ]
  },
  {
   "cell_type": "markdown",
   "metadata": {},
   "source": [
    "Mechanismus abstraktních tříd hraje v Pythonu jen pomocnou roli a v rámci duck typingu není využívána (tj. lze stačí reálná shoda protokolu, abstraktní bázové třídy nejsou vůbec brány v potaz). Mnozí u\n",
    "\n",
    "I přes tato omezení má reálná využití:\n",
    "* inspekce typů používaná především v ladícím testovacím kódu\n",
    "* pomoc při tvorbě bezpečného polymorfního kódu resp. při tvorbě tříd splňujících daný protokol (dokumentace určuje příslušné metody a často i jejich kontrakt) a je-li použit mechanismus dědičnosti, pak i implicitní implementace některých metod (viz níže)\n",
    "* při (nepovinné, ale často užitečné) statické typové anotaci kódu (dodatečná informace například pro editory, které tak mohou lépe doplňovat syntaxi)"
   ]
  },
  {
   "cell_type": "markdown",
   "metadata": {},
   "source": [
    "Typové anostace se využívají dodatečný zdroj informací pro některé nástroje a dokumentaci, překladač Pythonu ji však nikdy nevyužívá! (tj, program s anotacemi, či bez nich bude fungovat stejně)"
   ]
  },
  {
   "cell_type": "code",
   "execution_count": 7,
   "metadata": {},
   "outputs": [],
   "source": [
    "from collections.abc import MutableSequence\n",
    "\n",
    "def multiappend(seq: MutableSequence, item, howmany : int) -> MutableSequence:\n",
    "    \"\"\"\n",
    "    Append item howmany-times to mutable sequence.\n",
    "    \n",
    "    Returns:\n",
    "        changed sequence `seq`\n",
    "    \"\"\"\n",
    "    for _ in range(howmany):\n",
    "        seq.append(item)\n",
    "    return seq"
   ]
  },
  {
   "cell_type": "markdown",
   "metadata": {},
   "source": [
    "Klíčové je především určení typu prvního parametru, Může to být libovolný objekt implementující třídu `collections.abc.MutableSequence`. Díky tomu např. *Jupyter Lab* ví, že má nabídnout metodu `append` po zapsaní `seq.` a stisku klávesy `Tab`. Druhý parametr typován není (může být libovolný). Třetí parametr je typován konkrétním typem (nabízí se typování typem `number.Integral`, ale to je trochu nadbytečné, neboť Python podporuje jen jednu třídu splňující toto rozhraní.)\n",
    "\n",
    "\n",
    "\n"
   ]
  },
  {
   "cell_type": "markdown",
   "metadata": {},
   "source": [
    "## Dědičnost\n",
    "\n",
    "Dědičnost (*inheritance*) je standardní mechanismus, který umožňuje vytvářet nové třídy rozšiřováním existujících, a to:\n",
    "* *skládáním jejich datových členů (atributů) s možností přidání dalších*\n",
    "* *převzetím jejich metod, přidáním dalších a modifikací převzatých*\n",
    "* *podporu dynamického polymorfismu* (prostřednictvím odkazů na objekty)\n",
    "\n",
    "Tento mechanismus existoval už v nejstarším objektově orientovaném jazyce [Simula 68](https://en.wikipedia.org/wiki/Simula) a je součástí valné většiny objektově orientovaných jazyků. Je tak součástí standardního objektově orientovaného paradigmatu a to tím nejkontraverznějším, neboť byl a stále je různě chápán resp. dokonce nechápán.\n",
    "\n",
    "Důvodem je skutečnost, že je tento mechanismus využíván pro různé účely, které na sobě do určité míry závisejí, ale mohou být v jiné podobě nabízeny i bez využití mechanismu dědičnosti (např. polymorfismus či skládání, ale i sdílení implementací) a to často bez nepříjemných postranních efektů, které jejich souběh v dědičnosti přináší.\n",
    "\n",
    "Následující přehled uvádí přehled klíčových účelů resp. konceptů, pro které je dědičnost využívána (a opět je nutno říci, že často i zneužívána).\n",
    "\n",
    "1. subtyping resp. vytváření podtypů\n",
    "   1. vytváření hierarchií typů (representace \n",
    "   2. podpora univerzální třídy *Any* (všechny třídy jsou přímo či nepřímo odvozeny od jediné třídy)\n",
    "   3. podpora univerzální podtřídy *Nothing* (objekt je instancí všech tříd)\n",
    "   4. podpora polymorfismu (abstraktní třídy)\n",
    "2. sdílení chování/implementací metod mezi objekty různých tříd (znovupoužití)\n",
    "   1. mixiny\n",
    "   2. metatřídy\n",
    "   3. delegování (zřetězení) metod\n",
    "3. strukturální skládání atributů resp. datových členů (vytváření komplexnějších objekt, nikdy není základní)\n",
    "   1. části si navenek zachovávají identitu (podpora polymorfismu)\n",
    "   2. části jsou zapouzdřené (bez podpory polymorfismu)\n",
    "\n",
    "Jrdnotlivé OOP jazyky podporují různé aspekty dědičnosti a kladou na ně různý důraz. Python podporuje v zásadě všechny aspekty dědičnosti (kromě univerzální podtřídy), žádný z nich však není pro Python klíčový a mnohé jsou ve skutečnosti zcela okrajové např. univerzální nadtřída, mixiny, metatřídy apod. (dědičnost obecně hraje v Pythonu relativně malou roli)."
   ]
  },
  {
   "cell_type": "markdown",
   "metadata": {},
   "source": [
    "> **Upozornění**: Role dědičnosti se i přes základní shodu, může v jednotlivých OOP jazycích podstatně lišit. Je to jedna z věcí, které znesnadňují přechod mezi jazyky a mohou být velmi matoucí (snadno si můžete přenést návyky, které jsou v kontextu jazyky vysloveně špatné). Navic se role dědičnosti v multiparadigmatických jazycích (kam do značné míry spadá i Python) může lišit i mezi jednotlivými frameworky.\n"
   ]
  },
  {
   "cell_type": "markdown",
   "metadata": {},
   "source": [
    "### Základní mechanismus dědičnosti"
   ]
  },
  {
   "cell_type": "markdown",
   "metadata": {},
   "source": [
    "Základní mechanismus dědičnosti je v Pythonu relativně jednoduchý. Ukážeme si ho na jednoduchém (umělém) příkladě.\n",
    "\n",
    "Nejdříve vytvoříme základní (bázovou) třídu representující dvojici hodnot (Python podporuje obecné n-tice a tak je tato třída nadbytečná). Její konstruktor přrjímá dva parametry a ukládá je do atributů. Dále je definována metoda, která oba parametry prohodí (tu standardní n-tice nemá, proč?) a funkci `print`, která vypíše obsah (ani ta není obsažena v rozhraní n-tice, opět proč?)"
   ]
  },
  {
   "cell_type": "code",
   "execution_count": 2,
   "metadata": {},
   "outputs": [],
   "source": [
    "class TupleBox: # \n",
    "    def __init__(self, p1, p2): # konstruktor se dvěma parametry\n",
    "        self.a1 = p1  # vytvoření a inicializace dvou atributů\n",
    "        self.a2 = p2\n",
    "    def change_attrs(self): # prohazuje oba atributy\n",
    "        self.a1, self.a2 = self.a2, self.a1\n",
    "    def print(self): # vypisuje textovou representaci do standardního výstupu\n",
    "        print(f\"item 1: {self.a1}, item 2: {self.a2}\")"
   ]
  },
  {
   "cell_type": "markdown",
   "metadata": {},
   "source": [
    "Vyzkoušíme vytvořit instanci."
   ]
  },
  {
   "cell_type": "code",
   "execution_count": 3,
   "metadata": {},
   "outputs": [
    {
     "name": "stdout",
     "output_type": "stream",
     "text": [
      "item 1: 2, item 2: 1\n"
     ]
    }
   ],
   "source": [
    "a = TupleBox(1,2)\n",
    "a.change_attrs()\n",
    "a.print()"
   ]
  },
  {
   "cell_type": "markdown",
   "metadata": {},
   "source": [
    "A nyní ze třídy odvodíme novou třídu `NamedTupleBox`, která je \n",
    "* **rozšířením**  třídy `TupleBox` (tj. její instance umí všechno, co instance třídy `TupleBox` a ještě něco navíc)\n",
    "* **specializací** třídy `TupleBox` tj. její instance jsou zároveň instancemi třídy `TupleBox` (v této interpretaci však jsou dodatečné metody opravdu navíc). To mimo jiné znamená, že jakákoliv kód schopný\n",
    "pracovat s objekty třídy `TupleBox` je automaticky polymorfní, neboť dokáže pracovat s objekty dvou tříd!"
   ]
  },
  {
   "cell_type": "code",
   "execution_count": 16,
   "metadata": {},
   "outputs": [],
   "source": [
    "class NamedTupleBox(TupleBox): # základní třída je v závorkách\n",
    "    def __init__(self, p1, p2, name):\n",
    "        super().__init__(p1, p2) # voláme kosntruktor předka (delegování)\n",
    "        self.name = name # nový atribut (instance třídy B mají jméno)\n",
    "    def  print(self):\n",
    "                print(f\"({self.name}) item 1: {self.a1}, item 2: {self.a2}\")\n",
    "    def myName(self):\n",
    "        return self.name"
   ]
  },
  {
   "cell_type": "markdown",
   "metadata": {},
   "source": [
    "Tato třída:\n",
    "1. volá v rámci svého konstruktoru konstruktor základní třídy a tak každá její instance obsahuje stejné atributy jako instance bázové třídy. Volání se děje prostřednictvím funkce `super`, která vrací  odkaz na stejný objekt jako `self` avšak s typem základní třídy (nikoliv třídy odvozené). Pomocí tohoto odkazu tak můžeme zavolat původní (nepředefinované) verze metod včetně původního konstruktoru. \n",
    "2. přidává vlastní atribut `name`\n",
    "3. dědí metodu `change_attrs`, která pracuje s atributy vytvořenými konstruktorem základní třídy\n",
    "4. předefinovává metodu `print`. Pokud jí zavoláme na instanci odvozené třídy, tak sice vykoná stejnou akci jako u třídy bázové (tj. vypíše svou textovou representaci na standardní výstup), ale mírně ji modifikuje (insatance má své vlastní jméno a tak ho vypíše). Metoda pracuje s původními atributy a nově přidaným atributem.\n",
    "5. přidává metodu `maName`, která vrátí jméno instance (tato metoda pracuje jen s přidaným atributem)"
   ]
  },
  {
   "cell_type": "markdown",
   "metadata": {},
   "source": [
    "Na rozhraní obou tříd se podíváme detailněji. Nejdříve vytvoříme objekty obou tříd."
   ]
  },
  {
   "cell_type": "code",
   "execution_count": 17,
   "metadata": {},
   "outputs": [],
   "source": [
    "baseObject = TupleBox(1,2)\n",
    "extendedObject = NamedTupleBox(2,3, \"the best of object\")"
   ]
  },
  {
   "cell_type": "markdown",
   "metadata": {},
   "source": [
    "Původní atributy `a1` a `a2` podporují oba objekty:"
   ]
  },
  {
   "cell_type": "code",
   "execution_count": 6,
   "metadata": {},
   "outputs": [
    {
     "name": "stdout",
     "output_type": "stream",
     "text": [
      "1\n",
      "2\n",
      "2\n",
      "3\n"
     ]
    }
   ],
   "source": [
    "print(baseObject.a1)\n",
    "print(baseObject.a2)\n",
    "\n",
    "print(extendedObject.a1)\n",
    "print(extendedObject.a2)"
   ]
  },
  {
   "cell_type": "markdown",
   "metadata": {},
   "source": [
    "Atribut `name` však má jen objekt odvozené (rozšířené) třídy:"
   ]
  },
  {
   "cell_type": "code",
   "execution_count": 8,
   "metadata": {},
   "outputs": [
    {
     "name": "stdout",
     "output_type": "stream",
     "text": [
      "the best of object\n"
     ]
    },
    {
     "ename": "AttributeError",
     "evalue": "'TupleBox' object has no attribute 'name'",
     "output_type": "error",
     "traceback": [
      "\u001b[0;31m---------------------------------------------------------------------------\u001b[0m",
      "\u001b[0;31mAttributeError\u001b[0m                            Traceback (most recent call last)",
      "\u001b[0;32m<ipython-input-8-74d629ae6a25>\u001b[0m in \u001b[0;36m<module>\u001b[0;34m\u001b[0m\n\u001b[1;32m      1\u001b[0m \u001b[0mprint\u001b[0m\u001b[0;34m(\u001b[0m\u001b[0mextendedObject\u001b[0m\u001b[0;34m.\u001b[0m\u001b[0mname\u001b[0m\u001b[0;34m)\u001b[0m\u001b[0;34m\u001b[0m\u001b[0;34m\u001b[0m\u001b[0m\n\u001b[1;32m      2\u001b[0m \u001b[0;34m\u001b[0m\u001b[0m\n\u001b[0;32m----> 3\u001b[0;31m \u001b[0mprint\u001b[0m\u001b[0;34m(\u001b[0m\u001b[0mbaseObject\u001b[0m\u001b[0;34m.\u001b[0m\u001b[0mname\u001b[0m\u001b[0;34m)\u001b[0m\u001b[0;34m\u001b[0m\u001b[0;34m\u001b[0m\u001b[0m\n\u001b[0m",
      "\u001b[0;31mAttributeError\u001b[0m: 'TupleBox' object has no attribute 'name'"
     ]
    }
   ],
   "source": [
    "print(extendedObject.name)\n",
    "\n",
    "print(baseObject.name)"
   ]
  },
  {
   "cell_type": "markdown",
   "metadata": {},
   "source": [
    "U obou objektů lze atributy prohodit."
   ]
  },
  {
   "cell_type": "code",
   "execution_count": 10,
   "metadata": {},
   "outputs": [],
   "source": [
    "baseObject.change_attrs()\n",
    "extendedObject.change_attrs()"
   ]
  },
  {
   "cell_type": "markdown",
   "metadata": {},
   "source": [
    "A oba také mají motodu `print`. Její provedení u odvozené třídy se však liší."
   ]
  },
  {
   "cell_type": "code",
   "execution_count": 11,
   "metadata": {},
   "outputs": [
    {
     "name": "stdout",
     "output_type": "stream",
     "text": [
      "item 1: 2, item 2: 1\n",
      "(the best of object) item 1: 3, item 2: 2\n"
     ]
    }
   ],
   "source": [
    "baseObject.print()\n",
    "extendedObject.print()"
   ]
  },
  {
   "cell_type": "markdown",
   "metadata": {},
   "source": [
    "Rozšířená třída také navíc podporuje metodu `myName`."
   ]
  },
  {
   "cell_type": "code",
   "execution_count": 18,
   "metadata": {},
   "outputs": [
    {
     "data": {
      "text/plain": [
       "'the best of object'"
      ]
     },
     "execution_count": 18,
     "metadata": {},
     "output_type": "execute_result"
    }
   ],
   "source": [
    "extendedObject.myName()"
   ]
  },
  {
   "cell_type": "markdown",
   "metadata": {},
   "source": [
    "Vyzkoušíme ještě chování funkce `isinstance`:"
   ]
  },
  {
   "cell_type": "code",
   "execution_count": 20,
   "metadata": {},
   "outputs": [
    {
     "data": {
      "text/plain": [
       "True"
      ]
     },
     "execution_count": 20,
     "metadata": {},
     "output_type": "execute_result"
    }
   ],
   "source": [
    "isinstance(baseObject, TupleBox) # objekt vždy instancí své třídy"
   ]
  },
  {
   "cell_type": "code",
   "execution_count": 22,
   "metadata": {},
   "outputs": [
    {
     "data": {
      "text/plain": [
       "True"
      ]
     },
     "execution_count": 22,
     "metadata": {},
     "output_type": "execute_result"
    }
   ],
   "source": [
    "isinstance(extendedObject, NamedTupleBox)  # podobně i pro objekt rozšířené třídy"
   ]
  },
  {
   "cell_type": "markdown",
   "metadata": {},
   "source": [
    "Jak však již bylo řečeno, platí, že rozšířený objekt je zároveň i instancí základní třídy."
   ]
  },
  {
   "cell_type": "code",
   "execution_count": 24,
   "metadata": {},
   "outputs": [
    {
     "data": {
      "text/plain": [
       "True"
      ]
     },
     "execution_count": 24,
     "metadata": {},
     "output_type": "execute_result"
    }
   ],
   "source": [
    "isinstance(extendedObject, TupleBox)"
   ]
  },
  {
   "cell_type": "markdown",
   "metadata": {},
   "source": [
    "Opačně to ovšem neplatí! Je to zřejmé, neboť objekt základí třídy postrádá metodu `myName`."
   ]
  },
  {
   "cell_type": "code",
   "execution_count": 27,
   "metadata": {},
   "outputs": [
    {
     "data": {
      "text/plain": [
       "False"
      ]
     },
     "execution_count": 27,
     "metadata": {},
     "output_type": "execute_result"
    }
   ],
   "source": [
    "isinstance(baseObject, NamedTupleBox)"
   ]
  },
  {
   "cell_type": "markdown",
   "metadata": {},
   "source": [
    "Skutečnost, že objekt rozšířené (odvozené) třídy je zároveň instancí třídy základní a může ho vždy zastoupit je jedním ze základních rysů dědičnosti a je znám pod dvěma označeními:\n",
    "\n",
    "1. relace `is-a` mezi třídami. Pojmenovaná n-tice (tj. instance třídy *NamedTupleBox*) je (*is a*)  n-ticí.\n",
    "To se podstatně liší od relace `has a`, kterou se popisuje kompozice skládání. \"Auto je dopravní prostředek\" tj. vztah mezi objekty dopravních prostředků a objekty aut **lze representovat** dědičností (třída dopravních prostředků je základní třída, třída aut je třída odvozená). Naproti lze říci, že „auto má motor“ (nikoliv „auto je motor“ nebo „motor je auto“)\n",
    "2. Liskovové princip zastoupení (*Liskov substitution principle*). Je to formalizovaná a zcela striktní verze výše uvedeného požadavku: *Nechť $\\phi(x)$ je vlastnost prokazatelná objektu $x$ typu $T$. Potom $\\phi(y)$ je pravdivé pro všechny objekty $y$ typu $S$, kde $S$ je odvozeno z $T$ (resp. je rozšířením $T$).*"
   ]
  },
  {
   "cell_type": "markdown",
   "metadata": {},
   "source": [
    "Princip zastoupení se v praxi nepoužívá k formálnímu důkazu (je těžké formálně specifikovat všechny vlastnosti objektů dané třídy) ale k formálnímu či praktickému testování.\n",
    "\n",
    "Musí mimo jiné platit, že\n",
    "* metody odvozené třídy musí přijímat všechny hodnoty, které jsou přípustné v předefinovávané  metodě základní třídy (může však přijímat i další navíc)\n",
    "* metody odvozené třídy musí vracet hodnoty jen z množiny přípustných hodnot předefinovávané metody základní třídy (může však vracet jen podmnožinu těchto hodnot)\n",
    "* metoda odvozené třídy může vyvolávat jen ty výjimky, které vyvolává předefinovávané metody (opět samozřejmě nemusí vyvolívat všechny), pokud v nějaké situacii vznikne v původní metodě výjimka, pak v odvozené metodě může (ale nemusí) vzniknout. Naopak nevznikne-li, pak mesmí vzniknout ani v předefinované.\n",
    "\n",
    "Všimněte si, že tyto podmínky odpovídají kontraktu pro metody polymorfně zaměnitelných objektů. V Pythonu je **primární polymorfismus založený na kontraktech**. Dva objekty mohou být zastupitelné i v případě, že mezi nimi neexistuje vztah dědičnosti. Jediný rozdíl je v tom, že:\n",
    "1. dědičnost by měla zajistit úplnou zastupitelnost (tj. pro všechny metody z rozhraní základní třídy poskytuje i třída odvozená, a to příslibem splnění kontraktu)\n",
    "2. zděděné metody splňují kontrakt automaticky (jsou totiž identické)\n",
    "3. schopnost objektu splnit daný kontrakt lze ověřit ověřením, zda je daný objekt instancí příslušné základní třídy pomocí funkce `instanceof` (v případě obecného polymorfismu to lze zajistit prostřednictvím mechanismu\n",
    "abstraktních bázových tříd, to je však podporováno jen u těch nejdůležitějších protokolů)"
   ]
  },
  {
   "cell_type": "markdown",
   "metadata": {},
   "source": [
    ">**Poznámka k názvosloví:**\n",
    ">\n",
    ">Pro **základní třídu** se používá i termín **bázová třída** (což je přímočařejší překlad z anglického *base >class*) resp. **nadtřída** (množina objektů základní třídy je *nadmnožinou* objektů třídy rozšířující). >Možný je i termín **předek** vycházející z uspořádání, které relace dědičnosti představuje (obecně však >tento termín nedoporučuji je příliš svázán s relací mezi konkrétními objekty (tvrzení typu „Adam je předkem >Jákoba“).\n",
    ">\n",
    ">Pro **odvozenou** či **rozšířenou třídu** lze naopak použít termíny **podtřída** nebo **potomek**."
   ]
  },
  {
   "cell_type": "markdown",
   "metadata": {},
   "source": [
    ">**Úkol**: Diskutujte vhodnost použití dědičnosti pro representaci následující vztahů mezi potenciálními třídami (při hodnocení záleží na kontextu použití, proto uvažujte navržené kontexty, resp. přidejte další).\n",
    ">\n",
    "> * Šelma → Pes (prodejna chovatelských potřeb a krmiva, české dráhy, zoolog)\n",
    "> * Zaměstnanec → Sekretářka (firemní IS, pracovní úřad)\n",
    "> * Komplexní číslo → Racionální číslo (algebraický systém)\n",
    "> * Auto → Nákladní auto (policie, spediční firma)\n",
    "> * Auto → Červené auto (prodejce aut, pojišťovna, policie)"
   ]
  },
  {
   "cell_type": "markdown",
   "metadata": {},
   "source": [
    "Relace dědičnosti může být použita i tranzitivně tj. lze vytvářet celé hierarchie tříd od nejobecnějších po nejspecifičtější. V jedné z fází vývoje objektově orientovaného paradigmatu byly v módě rozsáhlé a především hluboké hierarchie. V praxi se však ukázalo, že takto pojeté využití dědičnosti je neflexibilní a obtížně spravovatelné (dědičnost může výrazně narušit zapouzdření a tím zvyšovat závislosti mezi třídami).\n",
    "\n",
    "V současnosti se tak preferují jen relativně mělké hierararchie o dvou až pěti úrovních. V Pythonu se kromě hierarchie dané využitím univerzální základní třídy dědičnost omezuje jen na izolované hierarchie v rámci některých standardních knihoven (ve skutečnosti jsem si nemohl na žádný konkrétní příklad kromě tříd výjimek vzpomenout).\n",
    "\n",
    "Poněkud jiná situace je u některých knihoven zapouzdřující hierarchii v jiných jazycích a frameworcích (typicky GUI), následující obrázek ukazuje zjednodušenou hierarchii v knihovně *Qt* dostupné v Pythonu prostřednictvím knihovny [PyQt](https://riverbankcomputing.com/software/pyqt/intro).\n",
    "\n",
    "![Qt class hierarchy](https://qt-wiki-uploads.s3.amazonaws.com/images/4/4c/Beginner-Class-Hierarchy.jpg)\n"
   ]
  },
  {
   "cell_type": "markdown",
   "metadata": {},
   "source": [
    "### Univerzální základní třída `object`\n",
    "\n",
    "Všechny třídy. které namají uvedenou bázovou třídu, se v Pythonu automaticky odvozují od třídy `object`. Všechny třídy jsou tak odvozené ze třídy `object` ať už přímo, či nepřímo.\n",
    "Tato skutečnost však v Pythonu nehraje téměř žádnou roli (v Pythonu 3, v Pythonu 2 byla situace jiná).\n",
    "\n",
    "* objekt není klíčový pro dosažení univerzálního polymorfismu (opačně je tomu Javě)\n",
    "* nehraje roli v obecné podpoře různých druhů polymorfismu (na rozdíl např. od Javy, kde souvisí s tzv. generiky)\n",
    "* běžně se nevytvářejí instance třídy `object` (v Javascriptu je to běžné, neboť konstruktor univerzální třídy je základem OOP podpory)\n",
    "*  instance třídy `object` nemůže nést žádné atributy a nemůže tak být využívána jako slovník, jehož klíči jsou identifikátory (opět na rozdíl např. od Javascriptu).\n",
    "\n",
    "Jedinou funkcí třídy objekt tak zůstává implementace několika univerzálních speciálních metod:"
   ]
  },
  {
   "cell_type": "code",
   "execution_count": 29,
   "metadata": {},
   "outputs": [
    {
     "name": "stdout",
     "output_type": "stream",
     "text": [
      "<object object at 0x7f0e233439a0>\n",
      "False\n"
     ]
    }
   ],
   "source": [
    "o = object()\n",
    "\n",
    "print(o) # využití metody __str__\n",
    "print ( o == object()) # využití metody _eq__ "
   ]
  },
  {
   "cell_type": "markdown",
   "metadata": {},
   "source": [
    "Standardní verze metody vrací jméno třídy následované adresou objektu, standardní porovnání pak porovnává odkazy na objekty (tj. vrací `True` jsou-li objekty identické)."
   ]
  },
  {
   "cell_type": "markdown",
   "metadata": {},
   "source": [
    "O tom, že jsou tyto speciální metody se můžeme přesvědčit tím, že vytvořímě odvozenou třídu, která nic nepřidává (žadné atributy či metody) ani nemodifukuje."
   ]
  },
  {
   "cell_type": "code",
   "execution_count": 30,
   "metadata": {},
   "outputs": [],
   "source": [
    "class AnotherObject:  # není nutné psát class AnotherObject(object):\n",
    "    pass              # prázdné tělo je nutné representovat příkazem `pass`"
   ]
  },
  {
   "cell_type": "code",
   "execution_count": 31,
   "metadata": {},
   "outputs": [
    {
     "name": "stdout",
     "output_type": "stream",
     "text": [
      "<__main__.AnotherObject object at 0x7f0e22f86190>\n",
      "False\n"
     ]
    }
   ],
   "source": [
    "o = AnotherObject()\n",
    "\n",
    "print(o) # využití metody __str__\n",
    "print ( o == object()) # využití metody _eq__ "
   ]
  },
  {
   "cell_type": "markdown",
   "metadata": {},
   "source": [
    "> **Úkol**: Zjistěte, jaké základní implementace (speciálních) metod nabizí třída `object`."
   ]
  },
  {
   "cell_type": "code",
   "execution_count": 34,
   "metadata": {
    "tags": [
     "h"
    ]
   },
   "outputs": [
    {
     "name": "stdout",
     "output_type": "stream",
     "text": [
      "True\n",
      "False\n"
     ]
    }
   ],
   "source": [
    "print(bool(o)) # každý objekt je standardně pravdivý (metoda __bool__)\n",
    "# některé klíčové třídy tuto metodu předefinovávají \n",
    "print(bool(\"\")) # ale některé se s tím nemohli smířit"
   ]
  },
  {
   "cell_type": "markdown",
   "metadata": {},
   "source": [
    "V Pythonu lze předefinovat i standardní třídy. Implementujme například roztržitý seznam, který si zapamatuje průměrně jen polovinu položek, které do něj vložíme. Tato nepříliš užitečná třída se od běžného seznamu (zdánlivě) liší jen v jediné metodě — `append`.\n",
    "\n",
    "V implementaci konstruktoru je využit speciální parametr, jenž je uvozen znakem `*`. Tento parametr přejímá všechny nadbytečné poziční parametry (tj. parametry neuložené do formálních parametrů, jež by byly uvedeny dříve).  Formálně lze tento parametr označit libovolným identifikátorem, ale v praxi se používá jen  jméno `args` (zkratka za *arguments*). \n",
    "\n",
    "Hodnotou tohoto parametru je seznam (může být i prázdný). V našem konstruktoru přejímá všechny poziční parametry a využívá je při volání konstruktoru základní třídy. I zde je použit zápis s prefixem `*`, který však má v případě skutečných parametrů opačnou funkci. Vezme příslušný seznam a jeho položky postupně předá jako poziční parametry (bez hvězdičky by se předal jen jeden parametr, jehož hodnotou by byl seznam).  Konstruktor nadtřídy tak získá stejné parametr, jako byly předány konstruktoru odvozené třídy."
   ]
  },
  {
   "cell_type": "code",
   "execution_count": 2,
   "metadata": {},
   "outputs": [],
   "source": [
    "import random\n",
    "\n",
    "class DistractedList(list):\n",
    "    def __init_(self, *args):\n",
    "        super().__init__(*args) # volání konstruktoru nadtřídy\n",
    "    def append(self, item):\n",
    "        if random.random() > 0.5:\n",
    "            super().append(item)"
   ]
  },
  {
   "cell_type": "code",
   "execution_count": null,
   "metadata": {},
   "outputs": [],
   "source": [
    "Nově odvozenou (rozšířenou) třídu vyzkoušíme tím, že do vložíme čísla od 0 do 99."
   ]
  },
  {
   "cell_type": "code",
   "execution_count": 3,
   "metadata": {},
   "outputs": [
    {
     "name": "stdout",
     "output_type": "stream",
     "text": [
      "[0, 8, 10, 11, 12, 13, 19, 20, 21, 22, 26, 27, 28, 29, 30, 33, 34, 36, 37, 40, 46, 47, 48, 49, 54, 57, 60, 61, 65, 67, 68, 69, 70, 74, 75, 77, 78, 79, 80, 82, 85, 86, 87, 88, 89, 91, 93, 94, 95, 97, 99]\n",
      "51\n"
     ]
    }
   ],
   "source": [
    "d = DistractedList()\n",
    "\n",
    "for i in range(100):\n",
    "    d.append(i)\n",
    "print(d)\n",
    "print(len(d))"
   ]
  },
  {
   "cell_type": "markdown",
   "metadata": {},
   "source": [
    "Vše se zdá v pořádku, ale není tomu tak. Na problémy narazíme v okamžiku, kdy se roztržitý seznam pokusíme naplnit pomocí iterátoru, předaného konstruktoru (což je přístup, který preferovala většina zkušenějších pythonistů)."
   ]
  },
  {
   "cell_type": "code",
   "execution_count": 7,
   "metadata": {},
   "outputs": [
    {
     "name": "stdout",
     "output_type": "stream",
     "text": [
      "[0, 1, 2, 3, 4, 5, 6, 7, 8, 9, 10, 11, 12, 13, 14, 15, 16, 17, 18, 19, 20, 21, 22, 23, 24, 25, 26, 27, 28, 29, 30, 31, 32, 33, 34, 35, 36, 37, 38, 39, 40, 41, 42, 43, 44, 45, 46, 47, 48, 49, 50, 51, 52, 53, 54, 55, 56, 57, 58, 59, 60, 61, 62, 63, 64, 65, 66, 67, 68, 69, 70, 71, 72, 73, 74, 75, 76, 77, 78, 79, 80, 81, 82, 83, 84, 85, 86, 87, 88, 89, 90, 91, 92, 93, 94, 95, 96, 97, 98, 99]\n"
     ]
    }
   ],
   "source": [
    "d2 = DistractedList(range(100))\n",
    "print(d2)"
   ]
  },
  {
   "cell_type": "markdown",
   "metadata": {},
   "source": [
    "Je zřejmé, že se něco nepodařilo, protože seznam obsahuje všechny prvky. Je to trochu překvapivé, neboť by bylo lze předpokládat, že originální implementace konstruktoru bude hodnoty z předaného iterátoru vkládat pomocí metody `append` (která je v případě naší třídy předefinována).\n",
    "\n",
    "Narážíme tak na jeden z hlavních problémů dědičnosti, neboť náš kód je závislý interní implementaci, která není součástí rozhraní a nemusí předvídat problémy spojené s použitím v odvozené třídě. Zde se autoři evidentně rozhodli nevyužít metodu `append` a to z důvodů efektivity (vestavěné kolekce často používají nízkoúrovňový kód v jazyce C, aby dosáhli rozumné efektivity).\n",
    "\n",
    "Řešení v tomto případě existuje, i když není příliš elegantní. Stačí rozšířit předefinovanou verzi konstruktoru. Naštěstí tato funkce přijímá jen jediný nepovinný parametr."
   ]
  },
  {
   "cell_type": "code",
   "execution_count": 25,
   "metadata": {},
   "outputs": [],
   "source": [
    "class DistractedList(list):\n",
    "    def __init__(self, it = None):\n",
    "        super().__init__() # volání bezparametrického konstruktoru (vytváří prázdný seznam)\n",
    "        if it is not None:\n",
    "            for item in it:\n",
    "                self.append(item)\n",
    "    def append(self, item):\n",
    "        if random.random() > 0.5:\n",
    "            super().append(item)"
   ]
  },
  {
   "cell_type": "code",
   "execution_count": 26,
   "metadata": {},
   "outputs": [
    {
     "name": "stdout",
     "output_type": "stream",
     "text": [
      "[0, 1, 2, 4, 6, 8, 9, 10, 13, 14, 16, 17, 22, 23, 24, 27, 28, 30, 32, 34, 35, 36, 40, 41, 42, 47, 48, 52, 53, 54, 56, 58, 60, 64, 67, 68, 69, 70, 71, 74, 78, 81, 86, 88, 89, 90, 93, 94, 95, 96, 97]\n"
     ]
    }
   ],
   "source": [
    "d3 = DistractedList(range(100))\n",
    "print(d3)"
   ]
  },
  {
   "cell_type": "markdown",
   "metadata": {},
   "source": [
    "> **Úkol**: Předefinování metody `append` není dostatečné. Seznam podporuje i metodu `insert`. Implementujte třídu  `DistractedList` s předefinovanou metodou `insert` (s obdobnou sémentikou jako má `append`)."
   ]
  },
  {
   "cell_type": "code",
   "execution_count": 29,
   "metadata": {
    "tags": [
     "h"
    ]
   },
   "outputs": [
    {
     "name": "stdout",
     "output_type": "stream",
     "text": [
      "[3, 2]\n"
     ]
    }
   ],
   "source": [
    "class DistractedList(list):\n",
    "    def __init__(self, it = None):\n",
    "        super().__init__() # volání bezparametrického konstruktoru (vytváří prázdný seznam)\n",
    "        if it is not None:\n",
    "            for item in it:\n",
    "                self.append(item)\n",
    "    def append(self, item):\n",
    "        if random.random() > 0.5:\n",
    "            super().append(item)\n",
    "    def insert(self, index, item):\n",
    "        if random.random() > 0.5:\n",
    "            super().insert(index, item)\n",
    "            \n",
    "d4 = DistractedList()\n",
    "d4.insert(0,1)\n",
    "d4.insert(0,2)\n",
    "d4.insert(0,3)\n",
    "\n",
    "print(d4)"
   ]
  },
  {
   "cell_type": "markdown",
   "metadata": {},
   "source": [
    "> **Poznámka:** Náhodné vkládání na určité pozice může vést k téměř nepředvídatelnému chování (na rozdíl od `append` není zajištěno ani zachování pořadí). Bylo by proto vhodnější tuto metodu u roztržitého seznamu nepodporovat. Při dědění však nelze žádnou z metod odstranit, neboť by to narušovalo princip zastupitelnosti – instance odvozené třídy musí být z hlediska polymorfního kódu neodlišitelné od instancí základní třídy (ony to de facto jsou instance základní třídy i když nepřímo) a tak musí podporovat i všechny jejich metody (v opačném případě je snadno odlišíte).\n",
    "> Na druhou stranu lze přijmout představu, že odmítnutí vložení může být někdy zcela adekvátní reakce, kterou sice standardní implementace sice nevyužívá, ale není nemyslitelná u specializovaných instancí. Při tomto pohledu je důsledné vyhazování výjimky `NotImplementedError` v odvozené metodě `insert` akceptovatelné."
   ]
  },
  {
   "cell_type": "markdown",
   "metadata": {},
   "source": [
    "> **Úkol**: Prostřednictvím dědičnosti implementujte slovník, který při použití indexace pro získání hodnoty vrací `None`, pokud použitý klíč neexistuje (standardně je vyvolána výjimka). Rada: uvnitř předefinované speciální metody `__getitem__` můžete využít metodu `get`."
   ]
  },
  {
   "cell_type": "markdown",
   "metadata": {},
   "source": [
    "### Ostatní využití dědičnosti\n",
    "\n",
    "Python využívá dědičnost, i pro další účely:\n",
    "1. dědění z abstraktních bázových tříd (klíčové je zde to, že u instancí odvozené třídy lze testovat splnění rozhraní, odvozená třída však musí dodat kód klíčových metod a atributy pro uložení dat)\n",
    "2. odvozování specilizovaných tříd výjimek\n",
    "3. skládání více objektů se zachováním rozhraní těchto objektů (s možností přidání společných metod). Zde se využívá tzv. vícenásobná dědičnost. Tento typ dědičnosti není podporován v některých z klíčových OOP jazyků (např. v Javě) a i v Pythonu je užíván zřídka (detailnější informace s hezkým příkladem viz https://www.python-course.eu/python3_multiple_inheritance.php)\n",
    "4. přidávání určité funkčnosti do tříd, které ji nepodporují nebo ji podporují jen částečně (tzv. přimíšewní angl. *mixin*).\n",
    "\n",
    "První a čtvrtou možnost si ukažeme na příkladu tzv. cyklického seznamu, což je nemodifikovatelný seznam, jenž se navenek tváří jako n-násobné zřetězení (opakování) kratšího seznamu. Ve skutečnosti však v sobě uchovává jen tento kratší seznam. Tato kolekce je kupodivu docela užitečná (pro representaci cyklicky se opakujících struktur, například cyklicky se opakujících se nastavení)."
   ]
  },
  {
   "cell_type": "code",
   "execution_count": 37,
   "metadata": {},
   "outputs": [],
   "source": [
    "from collections.abc import Sequence\n",
    "\n",
    "class CyclicList(Sequence):\n",
    "    def __init__(self, base_iter, repetition):\n",
    "        self.data = list(base_iter)\n",
    "        self.rep = repetition\n",
    "        self.sublen = len(self.data)\n",
    "    def __len__(self): # délka seznamu\n",
    "        return self.rep * self.sublen\n",
    "    def __getitem__(self, index):\n",
    "        if not (0 <= index < len(self)):\n",
    "            raise IndexError(\"Index out of range\")\n",
    "        return self.data[index % self.sublen]"
   ]
  },
  {
   "cell_type": "markdown",
   "metadata": {},
   "source": [
    "Odvození z abstraktní bázové třídy `Sequence` není v Pythonu nezbytné. Přináší však dvě výhody.\n",
    "Za prvé lze formálně testovat, že instance splňuje rozhraní (protokol) sekvencí. Aby to však byla skutečně pravda musíme implementovat dvě speciální metody (`__len__` a `__getitem__`), které splňují určitý kontrakt:\n",
    "* zjištění délky vrací pro daný objekt fixní a nezápornou celočíselnou hodnotu\n",
    "* indexace (určená jen pro čtená) vrací pro daný index fixní hodnotu, index navíc musí ležet v přípustném rozhraní (0 až len - 1), jinak je vyhozena výjimka `IndexError`. \n",
    "\n",
    "Překladač nekontroluje, zda jsou příslušné metody definovány, tím spíše zda splňují kontrakt."
   ]
  },
  {
   "cell_type": "code",
   "execution_count": 38,
   "metadata": {},
   "outputs": [
    {
     "name": "stdout",
     "output_type": "stream",
     "text": [
      "True\n",
      "30\n",
      "abcabcabcabcabcabcabcabcabcabc"
     ]
    }
   ],
   "source": [
    "clist = CyclicList(\"abc\", 10)\n",
    "#ověříme zda je se třída hlásí k rozhraní sekvence \n",
    "print(isinstance(clist, Sequence))\n",
    "# a nyní zda ji skutečně splňuje\n",
    "print(len(clist))\n",
    "for i in range(30): # vvypíšeme všechny prvky\n",
    "    print(clist[i], end=\"\")"
   ]
  },
  {
   "cell_type": "markdown",
   "metadata": {},
   "source": [
    "Otestovat je nutné i chybové stavy:"
   ]
  },
  {
   "cell_type": "code",
   "execution_count": 39,
   "metadata": {},
   "outputs": [
    {
     "ename": "IndexError",
     "evalue": "Index out of range",
     "output_type": "error",
     "traceback": [
      "\u001b[0;31m---------------------------------------------------------------------------\u001b[0m",
      "\u001b[0;31mIndexError\u001b[0m                                Traceback (most recent call last)",
      "\u001b[0;32m<ipython-input-39-54e0fdf7c329>\u001b[0m in \u001b[0;36m<module>\u001b[0;34m\u001b[0m\n\u001b[0;32m----> 1\u001b[0;31m \u001b[0mclist\u001b[0m\u001b[0;34m[\u001b[0m\u001b[0;36m30\u001b[0m\u001b[0;34m]\u001b[0m\u001b[0;34m\u001b[0m\u001b[0;34m\u001b[0m\u001b[0m\n\u001b[0m",
      "\u001b[0;32m<ipython-input-37-35f6f7f17331>\u001b[0m in \u001b[0;36m__getitem__\u001b[0;34m(self, index)\u001b[0m\n\u001b[1;32m     10\u001b[0m     \u001b[0;32mdef\u001b[0m \u001b[0m__getitem__\u001b[0m\u001b[0;34m(\u001b[0m\u001b[0mself\u001b[0m\u001b[0;34m,\u001b[0m \u001b[0mindex\u001b[0m\u001b[0;34m)\u001b[0m\u001b[0;34m:\u001b[0m\u001b[0;34m\u001b[0m\u001b[0;34m\u001b[0m\u001b[0m\n\u001b[1;32m     11\u001b[0m         \u001b[0;32mif\u001b[0m \u001b[0;32mnot\u001b[0m \u001b[0;34m(\u001b[0m\u001b[0;36m0\u001b[0m \u001b[0;34m<=\u001b[0m \u001b[0mindex\u001b[0m \u001b[0;34m<\u001b[0m \u001b[0mlen\u001b[0m\u001b[0;34m(\u001b[0m\u001b[0mself\u001b[0m\u001b[0;34m)\u001b[0m\u001b[0;34m)\u001b[0m\u001b[0;34m:\u001b[0m\u001b[0;34m\u001b[0m\u001b[0;34m\u001b[0m\u001b[0m\n\u001b[0;32m---> 12\u001b[0;31m             \u001b[0;32mraise\u001b[0m \u001b[0mIndexError\u001b[0m\u001b[0;34m(\u001b[0m\u001b[0;34m\"Index out of range\"\u001b[0m\u001b[0;34m)\u001b[0m\u001b[0;34m\u001b[0m\u001b[0;34m\u001b[0m\u001b[0m\n\u001b[0m\u001b[1;32m     13\u001b[0m         \u001b[0;32mreturn\u001b[0m \u001b[0mself\u001b[0m\u001b[0;34m.\u001b[0m\u001b[0mdata\u001b[0m\u001b[0;34m[\u001b[0m\u001b[0mindex\u001b[0m \u001b[0;34m%\u001b[0m \u001b[0mself\u001b[0m\u001b[0;34m.\u001b[0m\u001b[0msublen\u001b[0m\u001b[0;34m]\u001b[0m\u001b[0;34m\u001b[0m\u001b[0;34m\u001b[0m\u001b[0m\n",
      "\u001b[0;31mIndexError\u001b[0m: Index out of range"
     ]
    }
   ],
   "source": [
    "clist[30]"
   ]
  },
  {
   "cell_type": "markdown",
   "metadata": {},
   "source": [
    "Druhou výhodou je že abstraktní třída funguje jako *mixin* tj. přidala nám i další metody, které u sekvence předokládáme:"
   ]
  },
  {
   "cell_type": "code",
   "execution_count": 41,
   "metadata": {},
   "outputs": [
    {
     "name": "stdout",
     "output_type": "stream",
     "text": [
      "abcabcabcabcabcabcabcabcabcabc\n",
      "True\n",
      "False\n"
     ]
    }
   ],
   "source": [
    "# je iterovatelná přes všechny prvky (metoda __iter__)\n",
    "for c in clist:\n",
    "    print(c, end=\"\")\n",
    "# lze ověřit zda obsahuje nějaký objekt (metoda __contains__)\n",
    "print()\n",
    "print(\"a\" in clist)\n",
    "print(\"z\" in clist)"
   ]
  },
  {
   "cell_type": "code",
   "execution_count": 43,
   "metadata": {},
   "outputs": [
    {
     "name": "stdout",
     "output_type": "stream",
     "text": [
      "2\n"
     ]
    },
    {
     "ename": "ValueError",
     "evalue": "",
     "output_type": "error",
     "traceback": [
      "\u001b[0;31m---------------------------------------------------------------------------\u001b[0m",
      "\u001b[0;31mValueError\u001b[0m                                Traceback (most recent call last)",
      "\u001b[0;32m<ipython-input-43-bc011faef611>\u001b[0m in \u001b[0;36m<module>\u001b[0;34m\u001b[0m\n\u001b[1;32m      1\u001b[0m \u001b[0;31m# metodu index (hledá první výskyt)\u001b[0m\u001b[0;34m\u001b[0m\u001b[0;34m\u001b[0m\u001b[0;34m\u001b[0m\u001b[0m\n\u001b[1;32m      2\u001b[0m \u001b[0mprint\u001b[0m\u001b[0;34m(\u001b[0m\u001b[0mclist\u001b[0m\u001b[0;34m.\u001b[0m\u001b[0mindex\u001b[0m\u001b[0;34m(\u001b[0m\u001b[0;34m\"c\"\u001b[0m\u001b[0;34m)\u001b[0m\u001b[0;34m)\u001b[0m\u001b[0;34m\u001b[0m\u001b[0;34m\u001b[0m\u001b[0m\n\u001b[0;32m----> 3\u001b[0;31m \u001b[0mprint\u001b[0m\u001b[0;34m(\u001b[0m\u001b[0mclist\u001b[0m\u001b[0;34m.\u001b[0m\u001b[0mindex\u001b[0m\u001b[0;34m(\u001b[0m\u001b[0;34m\"d\"\u001b[0m\u001b[0;34m)\u001b[0m\u001b[0;34m)\u001b[0m \u001b[0;31m# nenajde-li vrací -1\u001b[0m\u001b[0;34m\u001b[0m\u001b[0;34m\u001b[0m\u001b[0m\n\u001b[0m",
      "\u001b[0;32m~/apps/intelpython3/lib/python3.7/_collections_abc.py\u001b[0m in \u001b[0;36mindex\u001b[0;34m(self, value, start, stop)\u001b[0m\n\u001b[1;32m    918\u001b[0m                 \u001b[0;32mbreak\u001b[0m\u001b[0;34m\u001b[0m\u001b[0;34m\u001b[0m\u001b[0m\n\u001b[1;32m    919\u001b[0m             \u001b[0mi\u001b[0m \u001b[0;34m+=\u001b[0m \u001b[0;36m1\u001b[0m\u001b[0;34m\u001b[0m\u001b[0;34m\u001b[0m\u001b[0m\n\u001b[0;32m--> 920\u001b[0;31m         \u001b[0;32mraise\u001b[0m \u001b[0mValueError\u001b[0m\u001b[0;34m\u001b[0m\u001b[0;34m\u001b[0m\u001b[0m\n\u001b[0m\u001b[1;32m    921\u001b[0m \u001b[0;34m\u001b[0m\u001b[0m\n\u001b[1;32m    922\u001b[0m     \u001b[0;32mdef\u001b[0m \u001b[0mcount\u001b[0m\u001b[0;34m(\u001b[0m\u001b[0mself\u001b[0m\u001b[0;34m,\u001b[0m \u001b[0mvalue\u001b[0m\u001b[0;34m)\u001b[0m\u001b[0;34m:\u001b[0m\u001b[0;34m\u001b[0m\u001b[0;34m\u001b[0m\u001b[0m\n",
      "\u001b[0;31mValueError\u001b[0m: "
     ]
    }
   ],
   "source": [
    "# metodu index (hledá první výskyt)\n",
    "print(clist.index(\"c\"))\n",
    "print(clist.index(\"d\")) # nenajde-li vyhazuje výjimku"
   ]
  },
  {
   "cell_type": "code",
   "execution_count": 44,
   "metadata": {},
   "outputs": [
    {
     "name": "stdout",
     "output_type": "stream",
     "text": [
      "10\n"
     ]
    }
   ],
   "source": [
    "# další přimíšenou metodou je `count`, která počítá výskyty\n",
    "print(clist.count(\"a\"))"
   ]
  },
  {
   "cell_type": "markdown",
   "metadata": {},
   "source": [
    "A také reverzní iterátor:"
   ]
  },
  {
   "cell_type": "code",
   "execution_count": 45,
   "metadata": {},
   "outputs": [
    {
     "name": "stdout",
     "output_type": "stream",
     "text": [
      "cbacbacbacbacbacbacbacbacbacba"
     ]
    }
   ],
   "source": [
    "for c in reversed(clist):\n",
    "    print(c, end=\"\")"
   ]
  },
  {
   "cell_type": "markdown",
   "metadata": {},
   "source": [
    "Tato funčnost ale zdarma není zadarmo. Implementace iterátorů je relativně efektivní, neboť využíví indexace (iterátor postupně vrací prvky [0], [1] až [len-1] resp. naopak."
   ]
  },
  {
   "cell_type": "markdown",
   "metadata": {},
   "source": [
    "Silně neefektivní je však implementace metod pro vyhledávání `__contains__`, `index` a `count`, neboť všechny tyto metody prohledávají celou n-krát opakovanou posloupnost (u prvních dvou jen v případě neúspěchu, u poslední metody vždy)."
   ]
  },
  {
   "cell_type": "code",
   "execution_count": 51,
   "metadata": {},
   "outputs": [
    {
     "name": "stdout",
     "output_type": "stream",
     "text": [
      "2000000\n"
     ]
    }
   ],
   "source": [
    "giantlist = CyclicList([0,1], 1_000_000)\n",
    "# seznam zaujímá jen pár bytů, navenek však má 2 000 000 prvků\n",
    "print(len(giantlist))"
   ]
  },
  {
   "cell_type": "markdown",
   "metadata": {},
   "source": [
    "Vyhledání nuly je rychlé (stačí porovnat jen jeden prvek)."
   ]
  },
  {
   "cell_type": "code",
   "execution_count": 52,
   "metadata": {},
   "outputs": [
    {
     "name": "stdout",
     "output_type": "stream",
     "text": [
      "1.52 µs ± 45.5 ns per loop (mean ± std. dev. of 7 runs, 1000000 loops each)\n"
     ]
    }
   ],
   "source": [
    "%%timeit\n",
    "0 in giantlist"
   ]
  },
  {
   "cell_type": "raw",
   "metadata": {},
   "source": [
    "(Ne)nalezení 2 trvá podstatně delší čas."
   ]
  },
  {
   "cell_type": "code",
   "execution_count": 53,
   "metadata": {},
   "outputs": [
    {
     "name": "stdout",
     "output_type": "stream",
     "text": [
      "1.99 s ± 140 ms per loop (mean ± std. dev. of 7 runs, 1 loop each)\n"
     ]
    }
   ],
   "source": [
    "%%timeit\n",
    "2 in giantlist"
   ]
  },
  {
   "cell_type": "markdown",
   "metadata": {},
   "source": [
    "Je přitom jasné, že není potřeba prohledávat celé cyklicky opakované pole, stačí projít jen uložený podseznam. Proto je vhodnější předefinovat zděděné metody.\n",
    "\n",
    ">**Úkol**: Vytvořte novoui definici třídy `CyclicList`, která je sice odvozena z abstraktní bázové třídy`Sequence`, ale předefinovává neefektivní metody (tím, že je deleguje na uložený podseznam)."
   ]
  },
  {
   "cell_type": "code",
   "execution_count": 54,
   "metadata": {
    "tags": [
     "h"
    ]
   },
   "outputs": [],
   "source": [
    "class CyclicList(Sequence):\n",
    "    def __init__(self, base_iter, repetition):\n",
    "        self.data = list(base_iter)\n",
    "        self.rep = repetition\n",
    "        self.sublen = len(self.data)\n",
    "    def __len__(self): # délka seznamu\n",
    "        return self.rep * self.sublen\n",
    "    def __getitem__(self, index):\n",
    "        if not (0 <= index < len(self)):\n",
    "            raise IndexError(\"Index out of range\")\n",
    "        return self.data[index % self.sublen]\n",
    "    def __contains__(self, item):\n",
    "        return item in self.data\n",
    "    def index(self, item): # index je běžná metoda\n",
    "        return self.data.index(item) # stačí vrátit index prvního výskytu\n",
    "    def count(self, item):\n",
    "        return self.rep * self.data.count(item)"
   ]
  },
  {
   "cell_type": "markdown",
   "metadata": {
    "tags": [
     "h"
    ]
   },
   "source": [
    "Novou implementaci vyzkoušíme."
   ]
  },
  {
   "cell_type": "code",
   "execution_count": 56,
   "metadata": {
    "tags": [
     "h"
    ]
   },
   "outputs": [
    {
     "name": "stdout",
     "output_type": "stream",
     "text": [
      "1000000\n",
      "True\n"
     ]
    }
   ],
   "source": [
    "giantlist = CyclicList([0,1], 1_000_000)\n",
    "# seznam zaujímá jen pár bytů, navenek však má 2 000 000 prvků\n",
    "print(giantlist.count(0))\n",
    "print(1 in giantlist)"
   ]
  },
  {
   "cell_type": "code",
   "execution_count": 58,
   "metadata": {
    "tags": [
     "h"
    ]
   },
   "outputs": [
    {
     "name": "stdout",
     "output_type": "stream",
     "text": [
      "225 ns ± 4.41 ns per loop (mean ± std. dev. of 7 runs, 10000000 loops each)\n"
     ]
    }
   ],
   "source": [
    "%%timeit\n",
    "\n",
    "0 in giantlist"
   ]
  },
  {
   "cell_type": "markdown",
   "metadata": {},
   "source": [
    "Všimněte se, že nyní je vyhledávání dokonce ještě rychlejší než než původní (pozitivní) hledání (asi 8×). Důvodem je skutečnost, že volání zděděných metod vyžaduje jistou režii."
   ]
  },
  {
   "cell_type": "code",
   "execution_count": null,
   "metadata": {},
   "outputs": [],
   "source": []
  }
 ],
 "metadata": {
  "kernelspec": {
   "display_name": "Python 3",
   "language": "python",
   "name": "python3"
  },
  "language_info": {
   "codemirror_mode": {
    "name": "ipython",
    "version": 3
   },
   "file_extension": ".py",
   "mimetype": "text/x-python",
   "name": "python",
   "nbconvert_exporter": "python",
   "pygments_lexer": "ipython3",
   "version": "3.7.7"
  }
 },
 "nbformat": 4,
 "nbformat_minor": 4
}
